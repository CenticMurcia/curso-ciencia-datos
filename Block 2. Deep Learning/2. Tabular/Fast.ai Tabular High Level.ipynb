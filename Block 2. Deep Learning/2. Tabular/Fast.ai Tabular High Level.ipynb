{
 "cells": [
  {
   "cell_type": "markdown",
   "id": "nervous-banana",
   "metadata": {},
   "source": [
    "- https://www.kaggle.com/c/tabular-playground-series-feb-2021/code?competitionId=25225&searchQuery=fast\n",
    "- https://www.kaggle.com/martinmarenz/tune-fast-ai-with-optuna-feb-playground"
   ]
  },
  {
   "cell_type": "markdown",
   "id": "spectacular-composition",
   "metadata": {},
   "source": [
    "# Imports"
   ]
  },
  {
   "cell_type": "code",
   "execution_count": 2,
   "id": "appointed-housing",
   "metadata": {},
   "outputs": [
    {
     "name": "stdout",
     "output_type": "stream",
     "text": [
      "Fast.ai: 2.3.1\n",
      "Optuna: 2.7.0\n"
     ]
    }
   ],
   "source": [
    "import fastai\n",
    "import optuna\n",
    "\n",
    "from fastai.tabular.all import *\n",
    "from optuna.integration import FastAIV2PruningCallback\n",
    "\n",
    "print(\"Fast.ai:\", fastai.__version__)\n",
    "print(\"Optuna:\", optuna.__version__)"
   ]
  },
  {
   "cell_type": "markdown",
   "id": "essential-apparel",
   "metadata": {},
   "source": [
    "# <center> PART 1: Self Supervised (DAE)\n",
    "- https://walkwithfastai.com/tab.ae\n",
    "- https://github.com/EtienneT/TabularVAE"
   ]
  },
  {
   "cell_type": "markdown",
   "id": "vocal-pennsylvania",
   "metadata": {},
   "source": [
    "# <center> PART 2: Supervised"
   ]
  },
  {
   "cell_type": "markdown",
   "id": "enhanced-composite",
   "metadata": {},
   "source": [
    "# ADULT Dataset"
   ]
  },
  {
   "cell_type": "code",
   "execution_count": 2,
   "id": "breeding-documentation",
   "metadata": {},
   "outputs": [
    {
     "name": "stdout",
     "output_type": "stream",
     "text": [
      "TRAIN: (32561, 15)\n"
     ]
    }
   ],
   "source": [
    "path = untar_data(URLs.ADULT_SAMPLE)\n",
    "df = pd.read_csv(path/'adult.csv')\n",
    "print(\"TRAIN:\", df.shape)\n",
    "\n",
    "to = TabularPandas(df,\n",
    "                   procs=[Categorify, FillMissing,Normalize],\n",
    "                   cat_names = ['workclass', 'education', 'marital-status', 'occupation', 'relationship', 'race'],\n",
    "                   cont_names = ['age', 'fnlwgt', 'education-num'],\n",
    "                   y_names='salary',\n",
    "                   splits=RandomSplitter(valid_pct=0.2,seed=42)(range_of(df)))\n",
    "\n",
    "dls = to.dataloaders(bs=64)"
   ]
  },
  {
   "cell_type": "code",
   "execution_count": 4,
   "id": "abandoned-layout",
   "metadata": {},
   "outputs": [
    {
     "data": {
      "text/html": [
       "<table border=\"1\" class=\"dataframe\">\n",
       "  <thead>\n",
       "    <tr style=\"text-align: right;\">\n",
       "      <th></th>\n",
       "      <th>workclass</th>\n",
       "      <th>education</th>\n",
       "      <th>marital-status</th>\n",
       "      <th>occupation</th>\n",
       "      <th>relationship</th>\n",
       "      <th>race</th>\n",
       "      <th>education-num_na</th>\n",
       "      <th>age</th>\n",
       "      <th>fnlwgt</th>\n",
       "      <th>education-num</th>\n",
       "      <th>salary</th>\n",
       "    </tr>\n",
       "  </thead>\n",
       "  <tbody>\n",
       "    <tr>\n",
       "      <th>0</th>\n",
       "      <td>Private</td>\n",
       "      <td>Prof-school</td>\n",
       "      <td>Separated</td>\n",
       "      <td>Prof-specialty</td>\n",
       "      <td>Not-in-family</td>\n",
       "      <td>White</td>\n",
       "      <td>False</td>\n",
       "      <td>46.0</td>\n",
       "      <td>249685.999557</td>\n",
       "      <td>15.0</td>\n",
       "      <td>&gt;=50k</td>\n",
       "    </tr>\n",
       "    <tr>\n",
       "      <th>1</th>\n",
       "      <td>Self-emp-not-inc</td>\n",
       "      <td>Bachelors</td>\n",
       "      <td>Married-civ-spouse</td>\n",
       "      <td>Prof-specialty</td>\n",
       "      <td>Husband</td>\n",
       "      <td>White</td>\n",
       "      <td>False</td>\n",
       "      <td>45.0</td>\n",
       "      <td>123681.003103</td>\n",
       "      <td>13.0</td>\n",
       "      <td>&lt;50k</td>\n",
       "    </tr>\n",
       "    <tr>\n",
       "      <th>2</th>\n",
       "      <td>Private</td>\n",
       "      <td>HS-grad</td>\n",
       "      <td>Never-married</td>\n",
       "      <td>Sales</td>\n",
       "      <td>Not-in-family</td>\n",
       "      <td>White</td>\n",
       "      <td>False</td>\n",
       "      <td>20.0</td>\n",
       "      <td>296618.001521</td>\n",
       "      <td>9.0</td>\n",
       "      <td>&lt;50k</td>\n",
       "    </tr>\n",
       "    <tr>\n",
       "      <th>3</th>\n",
       "      <td>Private</td>\n",
       "      <td>Assoc-acdm</td>\n",
       "      <td>Married-civ-spouse</td>\n",
       "      <td>Sales</td>\n",
       "      <td>Husband</td>\n",
       "      <td>Asian-Pac-Islander</td>\n",
       "      <td>False</td>\n",
       "      <td>33.0</td>\n",
       "      <td>355855.999538</td>\n",
       "      <td>12.0</td>\n",
       "      <td>&lt;50k</td>\n",
       "    </tr>\n",
       "    <tr>\n",
       "      <th>4</th>\n",
       "      <td>Private</td>\n",
       "      <td>11th</td>\n",
       "      <td>Divorced</td>\n",
       "      <td>Craft-repair</td>\n",
       "      <td>Own-child</td>\n",
       "      <td>White</td>\n",
       "      <td>False</td>\n",
       "      <td>54.0</td>\n",
       "      <td>225306.999269</td>\n",
       "      <td>7.0</td>\n",
       "      <td>&gt;=50k</td>\n",
       "    </tr>\n",
       "    <tr>\n",
       "      <th>5</th>\n",
       "      <td>Private</td>\n",
       "      <td>5th-6th</td>\n",
       "      <td>Divorced</td>\n",
       "      <td>Transport-moving</td>\n",
       "      <td>Unmarried</td>\n",
       "      <td>White</td>\n",
       "      <td>False</td>\n",
       "      <td>45.0</td>\n",
       "      <td>96797.999461</td>\n",
       "      <td>3.0</td>\n",
       "      <td>&lt;50k</td>\n",
       "    </tr>\n",
       "    <tr>\n",
       "      <th>6</th>\n",
       "      <td>Private</td>\n",
       "      <td>Some-college</td>\n",
       "      <td>Married-civ-spouse</td>\n",
       "      <td>Sales</td>\n",
       "      <td>Husband</td>\n",
       "      <td>White</td>\n",
       "      <td>False</td>\n",
       "      <td>28.0</td>\n",
       "      <td>206350.999369</td>\n",
       "      <td>10.0</td>\n",
       "      <td>&lt;50k</td>\n",
       "    </tr>\n",
       "    <tr>\n",
       "      <th>7</th>\n",
       "      <td>Self-emp-not-inc</td>\n",
       "      <td>Some-college</td>\n",
       "      <td>Married-civ-spouse</td>\n",
       "      <td>Tech-support</td>\n",
       "      <td>Husband</td>\n",
       "      <td>Black</td>\n",
       "      <td>False</td>\n",
       "      <td>47.0</td>\n",
       "      <td>180446.000304</td>\n",
       "      <td>10.0</td>\n",
       "      <td>&gt;=50k</td>\n",
       "    </tr>\n",
       "    <tr>\n",
       "      <th>8</th>\n",
       "      <td>Local-gov</td>\n",
       "      <td>10th</td>\n",
       "      <td>Never-married</td>\n",
       "      <td>Other-service</td>\n",
       "      <td>Own-child</td>\n",
       "      <td>White</td>\n",
       "      <td>False</td>\n",
       "      <td>17.0</td>\n",
       "      <td>39815.003558</td>\n",
       "      <td>6.0</td>\n",
       "      <td>&lt;50k</td>\n",
       "    </tr>\n",
       "    <tr>\n",
       "      <th>9</th>\n",
       "      <td>Private</td>\n",
       "      <td>HS-grad</td>\n",
       "      <td>Married-civ-spouse</td>\n",
       "      <td>Exec-managerial</td>\n",
       "      <td>Husband</td>\n",
       "      <td>Amer-Indian-Eskimo</td>\n",
       "      <td>False</td>\n",
       "      <td>44.0</td>\n",
       "      <td>33105.005245</td>\n",
       "      <td>9.0</td>\n",
       "      <td>&lt;50k</td>\n",
       "    </tr>\n",
       "  </tbody>\n",
       "</table>"
      ],
      "text/plain": [
       "<IPython.core.display.HTML object>"
      ]
     },
     "metadata": {},
     "output_type": "display_data"
    }
   ],
   "source": [
    "dls.show_batch()"
   ]
  },
  {
   "cell_type": "code",
   "execution_count": 5,
   "id": "appropriate-murder",
   "metadata": {},
   "outputs": [],
   "source": [
    "\"\"\"\n",
    "class Dense(nn.Sequential):\n",
    "    \"Module grouping `BatchNorm1d`, `Dropout` and `Linear` layers\"\n",
    "    def __init__(self, n_in, n_out, batch_norm=True, dropout=0., act_fn=nn.ReLU(inplace=True)):\n",
    "        layers = []\n",
    "        if batch_norm:  layers.append(BatchNorm(n_in, ndim=1))\n",
    "        if dropout > 0: layers.append(nn.Dropout(dropout))\n",
    "        layers.append(nn.Linear(n_in, n_out, bias=not batch_norm) )\n",
    "        if act_fn:      layers.append(act_fn)\n",
    "        super().__init__(*layers)\n",
    "\"\"\"\n",
    "    \n",
    "class ResidualDense(Module):\n",
    "    \n",
    "    def __init__(self, n_dim, batch_norm, dropout, act_fn, lin_first):    \n",
    "        self.block = LinBnDrop(n_in  = n_dim,\n",
    "                               n_out = n_dim,\n",
    "                               bn    = batch_norm,\n",
    "                               p     = dropout,\n",
    "                               act   = act_fn,\n",
    "                               lin_first = lin_first)\n",
    "        \n",
    "    def forward(self, x):\n",
    "        return x + self.block(x)\n",
    "    \n",
    "    \n",
    "class ResidualTabularModel(Module):\n",
    "\n",
    "    def __init__(self, emb_szs, cont_sz, hid_sz, out_sz, num_layers, emb_drop=0., dropout=0.,\n",
    "                 y_range=None, batch_norm=True, bn_cont=True, act_fn=nn.ReLU(inplace=True),\n",
    "                 lin_first=False):\n",
    "        \n",
    "        ######################################### EMBEDDINGS LAYERS\n",
    "        # emb_szs = [(\"catA\",4,2), (\"catB\",17,8)]\n",
    "        # self.embeds = nn.ModuleDict({var_name: Embedding(num_i, num_o,) for var_name,num_i,num_o in emb_szs})\n",
    "        self.embeds = nn.ModuleList([Embedding(ni, nf) for ni,nf in emb_szs])\n",
    "        self.emb_drop = nn.Dropout(emb_drop)\n",
    "        \n",
    "        ######################################### CONT LAYERS\n",
    "        self.bn_cont = nn.BatchNorm1d(cont_sz) if bn_cont else None\n",
    "        \n",
    "        ######################################### FIRST DENSE LAYER\n",
    "        #input_sz = cont_sz + sum(e.embedding_dim for e in self.embeds.values())\n",
    "        self.n_emb  = sum(e.embedding_dim for e in self.embeds)\n",
    "        self.n_cont = cont_sz\n",
    "        input_sz = self.n_emb + self.n_cont\n",
    "        if hid_sz < input_sz:\n",
    "            raise Exception('hid_sz sholud be large than input_sz')\n",
    "        \n",
    "        self.firstDense = LinBnDrop(n_in  = input_sz,\n",
    "                                    n_out = hid_sz - input_sz,\n",
    "                                    bn    = batch_norm,\n",
    "                                    p     = dropout,\n",
    "                                    act   = act_fn,\n",
    "                                    lin_first = lin_first)\n",
    "\n",
    "        ######################################### RESIDUIAL LAYERS\n",
    "        self.residual_layers = nn.Sequential(\n",
    "            *[ ResidualDense(n_dim      = hid_sz,\n",
    "                             batch_norm = batch_norm,\n",
    "                             dropout    = dropout,\n",
    "                             act_fn     = act_fn,\n",
    "                             lin_first  = lin_first) for i in range(num_layers) ])\n",
    "        \n",
    "        ######################################### FINAL DENSE LAYER\n",
    "        self.finalDense = LinBnDrop(n_in  = hid_sz,\n",
    "                                    n_out = out_sz,\n",
    "                                    bn    = False,\n",
    "                                    p     = 0.,\n",
    "                                    act   = None,\n",
    "                                    lin_first = lin_first)\n",
    "        \n",
    "    def forward(self, x_cat, x_cont=None):\n",
    "        \n",
    "        if self.n_emb != 0:\n",
    "            x = [emb(x_cat[:,i]) for i,emb in enumerate(self.embeds)] # Get embeddings\n",
    "            x = torch.cat(x, 1)    # Concat embeddings\n",
    "            x = self.emb_drop(x)\n",
    "        if self.n_cont != 0:\n",
    "            if self.bn_cont is not None: x_cont = self.bn_cont(x_cont)\n",
    "            x = torch.cat([x, x_cont], 1) if self.n_emb != 0 else x_cont # Concat numerical feats\n",
    "        \n",
    "        x = torch.cat([x, self.firstDense(x)], 1) # Concat embeddings + numerical feats\n",
    "        x = self.residual_layers(x)\n",
    "        x = self.finalDense(x)\n",
    "        \n",
    "        return x"
   ]
  },
  {
   "cell_type": "markdown",
   "id": "similar-occasion",
   "metadata": {},
   "source": [
    "# Default Sequnetial model"
   ]
  },
  {
   "cell_type": "code",
   "execution_count": 6,
   "id": "partial-fraud",
   "metadata": {},
   "outputs": [],
   "source": [
    "model = TabularModel(emb_szs = get_emb_sz(dls.train_ds),\n",
    "                     n_cont = len(dls.cont_names),\n",
    "                     out_sz = get_c(dls),\n",
    "                     layers = [200,200], # [2000,1000], # [2000,500],\n",
    "                     ps     = 0.2,\n",
    "                     #y_range=None,\n",
    "                     #embed_p=0.20,\n",
    "                     #ps=0.30,\n",
    "                     #act_cls=nn.GELU() #nn.LeakyReLU() Swish(), # ReLU(inplace=True), Swish(), Mish()\n",
    "                    )\n",
    "\n",
    "learn = TabularLearner(dls,\n",
    "                       model,\n",
    "                       metrics=[accuracy]) # rmse"
   ]
  },
  {
   "cell_type": "code",
   "execution_count": 7,
   "id": "spread-memorial",
   "metadata": {},
   "outputs": [
    {
     "data": {
      "text/html": [],
      "text/plain": [
       "<IPython.core.display.HTML object>"
      ]
     },
     "metadata": {},
     "output_type": "display_data"
    },
    {
     "data": {
      "text/plain": [
       "SuggestedLRs(lr_min=0.0015848932787775993, lr_steep=0.0020892962347716093)"
      ]
     },
     "execution_count": 7,
     "metadata": {},
     "output_type": "execute_result"
    },
    {
     "data": {
      "image/png": "[encoded data removed]",
      "text/plain": [
       "<Figure size 432x288 with 1 Axes>"
      ]
     },
     "metadata": {
      "needs_background": "light"
     },
     "output_type": "display_data"
    }
   ],
   "source": [
    "learn.lr_find()"
   ]
  },
  {
   "cell_type": "code",
   "execution_count": 9,
   "id": "apart-stomach",
   "metadata": {},
   "outputs": [
    {
     "data": {
      "text/html": [
       "<table border=\"1\" class=\"dataframe\">\n",
       "  <thead>\n",
       "    <tr style=\"text-align: left;\">\n",
       "      <th>epoch</th>\n",
       "      <th>train_loss</th>\n",
       "      <th>valid_loss</th>\n",
       "      <th>accuracy</th>\n",
       "      <th>time</th>\n",
       "    </tr>\n",
       "  </thead>\n",
       "  <tbody>\n",
       "    <tr>\n",
       "      <td>0</td>\n",
       "      <td>0.395472</td>\n",
       "      <td>0.413166</td>\n",
       "      <td>0.809889</td>\n",
       "      <td>00:02</td>\n",
       "    </tr>\n",
       "    <tr>\n",
       "      <td>1</td>\n",
       "      <td>0.381816</td>\n",
       "      <td>0.367114</td>\n",
       "      <td>0.831849</td>\n",
       "      <td>00:02</td>\n",
       "    </tr>\n",
       "    <tr>\n",
       "      <td>2</td>\n",
       "      <td>0.365710</td>\n",
       "      <td>0.355101</td>\n",
       "      <td>0.837684</td>\n",
       "      <td>00:02</td>\n",
       "    </tr>\n",
       "    <tr>\n",
       "      <td>3</td>\n",
       "      <td>0.365361</td>\n",
       "      <td>0.354054</td>\n",
       "      <td>0.836456</td>\n",
       "      <td>00:02</td>\n",
       "    </tr>\n",
       "    <tr>\n",
       "      <td>4</td>\n",
       "      <td>0.353902</td>\n",
       "      <td>0.349850</td>\n",
       "      <td>0.838298</td>\n",
       "      <td>00:02</td>\n",
       "    </tr>\n",
       "  </tbody>\n",
       "</table>"
      ],
      "text/plain": [
       "<IPython.core.display.HTML object>"
      ]
     },
     "metadata": {},
     "output_type": "display_data"
    }
   ],
   "source": [
    "learn.fit_one_cycle(5, lr_max=1e-2)"
   ]
  },
  {
   "cell_type": "code",
   "execution_count": 9,
   "id": "moving-concentration",
   "metadata": {},
   "outputs": [
    {
     "data": {
      "text/html": [
       "<table border=\"1\" class=\"dataframe\">\n",
       "  <thead>\n",
       "    <tr style=\"text-align: left;\">\n",
       "      <th>epoch</th>\n",
       "      <th>train_loss</th>\n",
       "      <th>valid_loss</th>\n",
       "      <th>accuracy</th>\n",
       "      <th>time</th>\n",
       "    </tr>\n",
       "  </thead>\n",
       "  <tbody>\n",
       "    <tr>\n",
       "      <td>0</td>\n",
       "      <td>0.383468</td>\n",
       "      <td>0.386974</td>\n",
       "      <td>0.830006</td>\n",
       "      <td>00:03</td>\n",
       "    </tr>\n",
       "    <tr>\n",
       "      <td>1</td>\n",
       "      <td>0.394717</td>\n",
       "      <td>0.367257</td>\n",
       "      <td>0.826321</td>\n",
       "      <td>00:02</td>\n",
       "    </tr>\n",
       "    <tr>\n",
       "      <td>2</td>\n",
       "      <td>0.373586</td>\n",
       "      <td>0.375887</td>\n",
       "      <td>0.835534</td>\n",
       "      <td>00:02</td>\n",
       "    </tr>\n",
       "    <tr>\n",
       "      <td>3</td>\n",
       "      <td>0.372801</td>\n",
       "      <td>0.363915</td>\n",
       "      <td>0.834920</td>\n",
       "      <td>00:02</td>\n",
       "    </tr>\n",
       "    <tr>\n",
       "      <td>4</td>\n",
       "      <td>0.375162</td>\n",
       "      <td>0.368258</td>\n",
       "      <td>0.835534</td>\n",
       "      <td>00:02</td>\n",
       "    </tr>\n",
       "    <tr>\n",
       "      <td>5</td>\n",
       "      <td>0.355847</td>\n",
       "      <td>0.351275</td>\n",
       "      <td>0.838759</td>\n",
       "      <td>00:02</td>\n",
       "    </tr>\n",
       "    <tr>\n",
       "      <td>6</td>\n",
       "      <td>0.358697</td>\n",
       "      <td>0.352327</td>\n",
       "      <td>0.837377</td>\n",
       "      <td>00:02</td>\n",
       "    </tr>\n",
       "    <tr>\n",
       "      <td>7</td>\n",
       "      <td>0.353268</td>\n",
       "      <td>0.349005</td>\n",
       "      <td>0.839681</td>\n",
       "      <td>00:02</td>\n",
       "    </tr>\n",
       "    <tr>\n",
       "      <td>8</td>\n",
       "      <td>0.347536</td>\n",
       "      <td>0.347869</td>\n",
       "      <td>0.841677</td>\n",
       "      <td>00:02</td>\n",
       "    </tr>\n",
       "    <tr>\n",
       "      <td>9</td>\n",
       "      <td>0.360882</td>\n",
       "      <td>0.347358</td>\n",
       "      <td>0.841984</td>\n",
       "      <td>00:02</td>\n",
       "    </tr>\n",
       "  </tbody>\n",
       "</table>"
      ],
      "text/plain": [
       "<IPython.core.display.HTML object>"
      ]
     },
     "metadata": {},
     "output_type": "display_data"
    }
   ],
   "source": [
    "learn.fit_one_cycle(10, lr_max=1e-2)"
   ]
  },
  {
   "cell_type": "code",
   "execution_count": 18,
   "id": "comparative-hundred",
   "metadata": {},
   "outputs": [
    {
     "data": {
      "image/png": "[encoded data removed]",
      "text/plain": [
       "<Figure size 432x288 with 1 Axes>"
      ]
     },
     "metadata": {
      "needs_background": "light"
     },
     "output_type": "display_data"
    }
   ],
   "source": [
    "learn.recorder.plot_loss()"
   ]
  },
  {
   "cell_type": "markdown",
   "id": "continuous-exhibit",
   "metadata": {},
   "source": [
    "# Residual version"
   ]
  },
  {
   "cell_type": "code",
   "execution_count": 12,
   "id": "unknown-latex",
   "metadata": {},
   "outputs": [
    {
     "data": {
      "text/html": [],
      "text/plain": [
       "<IPython.core.display.HTML object>"
      ]
     },
     "metadata": {},
     "output_type": "display_data"
    },
    {
     "data": {
      "text/plain": [
       "SuggestedLRs(lr_min=0.014454397559165954, lr_steep=0.019054606556892395)"
      ]
     },
     "execution_count": 12,
     "metadata": {},
     "output_type": "execute_result"
    },
    {
     "data": {
      "image/png": "[encoded data removed]",
      "text/plain": [
       "<Figure size 432x288 with 1 Axes>"
      ]
     },
     "metadata": {
      "needs_background": "light"
     },
     "output_type": "display_data"
    }
   ],
   "source": [
    "resModel = ResidualTabularModel(emb_szs = get_emb_sz(dls.train_ds),\n",
    "                                cont_sz = len(dls.cont_names),\n",
    "                                hid_sz  = 200,\n",
    "                                out_sz  = get_c(dls),\n",
    "                                dropout = 0.2,\n",
    "                                num_layers = 6,\n",
    "                                batch_norm=False, bn_cont=False)\n",
    "\n",
    "reslearn = TabularLearner(dls,\n",
    "                          resModel,\n",
    "                          metrics=[accuracy],  # rmse\n",
    "                          wd=None)\n",
    "\n",
    "reslearn.lr_find()"
   ]
  },
  {
   "cell_type": "code",
   "execution_count": 13,
   "id": "little-plymouth",
   "metadata": {},
   "outputs": [
    {
     "data": {
      "text/html": [
       "<table border=\"1\" class=\"dataframe\">\n",
       "  <thead>\n",
       "    <tr style=\"text-align: left;\">\n",
       "      <th>epoch</th>\n",
       "      <th>train_loss</th>\n",
       "      <th>valid_loss</th>\n",
       "      <th>accuracy</th>\n",
       "      <th>time</th>\n",
       "    </tr>\n",
       "  </thead>\n",
       "  <tbody>\n",
       "    <tr>\n",
       "      <td>0</td>\n",
       "      <td>0.367883</td>\n",
       "      <td>0.359608</td>\n",
       "      <td>0.836609</td>\n",
       "      <td>00:03</td>\n",
       "    </tr>\n",
       "    <tr>\n",
       "      <td>1</td>\n",
       "      <td>0.376368</td>\n",
       "      <td>0.367855</td>\n",
       "      <td>0.828778</td>\n",
       "      <td>00:03</td>\n",
       "    </tr>\n",
       "    <tr>\n",
       "      <td>2</td>\n",
       "      <td>0.369909</td>\n",
       "      <td>0.359103</td>\n",
       "      <td>0.830927</td>\n",
       "      <td>00:03</td>\n",
       "    </tr>\n",
       "    <tr>\n",
       "      <td>3</td>\n",
       "      <td>0.365991</td>\n",
       "      <td>0.365757</td>\n",
       "      <td>0.830620</td>\n",
       "      <td>00:03</td>\n",
       "    </tr>\n",
       "    <tr>\n",
       "      <td>4</td>\n",
       "      <td>0.362679</td>\n",
       "      <td>0.356184</td>\n",
       "      <td>0.836149</td>\n",
       "      <td>00:03</td>\n",
       "    </tr>\n",
       "    <tr>\n",
       "      <td>5</td>\n",
       "      <td>0.348500</td>\n",
       "      <td>0.354459</td>\n",
       "      <td>0.832463</td>\n",
       "      <td>00:03</td>\n",
       "    </tr>\n",
       "    <tr>\n",
       "      <td>6</td>\n",
       "      <td>0.352772</td>\n",
       "      <td>0.351175</td>\n",
       "      <td>0.840756</td>\n",
       "      <td>00:03</td>\n",
       "    </tr>\n",
       "    <tr>\n",
       "      <td>7</td>\n",
       "      <td>0.342894</td>\n",
       "      <td>0.349477</td>\n",
       "      <td>0.841677</td>\n",
       "      <td>00:03</td>\n",
       "    </tr>\n",
       "    <tr>\n",
       "      <td>8</td>\n",
       "      <td>0.350022</td>\n",
       "      <td>0.349223</td>\n",
       "      <td>0.840141</td>\n",
       "      <td>00:03</td>\n",
       "    </tr>\n",
       "    <tr>\n",
       "      <td>9</td>\n",
       "      <td>0.337893</td>\n",
       "      <td>0.348839</td>\n",
       "      <td>0.841370</td>\n",
       "      <td>00:03</td>\n",
       "    </tr>\n",
       "  </tbody>\n",
       "</table>"
      ],
      "text/plain": [
       "<IPython.core.display.HTML object>"
      ]
     },
     "metadata": {},
     "output_type": "display_data"
    }
   ],
   "source": [
    "reslearn.fit_one_cycle(10, lr_max=1e-2)"
   ]
  },
  {
   "cell_type": "code",
   "execution_count": 33,
   "id": "catholic-highway",
   "metadata": {},
   "outputs": [
    {
     "data": {
      "image/png": "[encoded data removed]",
      "text/plain": [
       "<Figure size 432x288 with 1 Axes>"
      ]
     },
     "metadata": {
      "needs_background": "light"
     },
     "output_type": "display_data"
    }
   ],
   "source": [
    "reslearn.recorder.plot_loss()"
   ]
  },
  {
   "cell_type": "markdown",
   "id": "tired-flavor",
   "metadata": {},
   "source": [
    "# Tabular feb21 Dataset"
   ]
  },
  {
   "cell_type": "code",
   "execution_count": 3,
   "id": "breathing-compensation",
   "metadata": {},
   "outputs": [
    {
     "name": "stdout",
     "output_type": "stream",
     "text": [
      "TRAIN: (300000, 25)\n",
      "TEST: (200000, 24)\n"
     ]
    }
   ],
   "source": [
    "df = pd.read_csv(\"data/train.csv\", index_col=\"id\")\n",
    "test_df = pd.read_csv(\"data/test.csv\", index_col=\"id\")\n",
    "\n",
    "print(\"TRAIN:\", df.shape)\n",
    "print(\"TEST:\", test_df.shape)\n",
    "\n",
    "to = TabularPandas(df         = df,\n",
    "                   procs      = [Categorify, Normalize],\n",
    "                   cat_names  = [\"cat\"+str(i) for i in range(10)],\n",
    "                   cont_names = [\"cont\"+str(i) for i in range(14)],\n",
    "                   y_names    = 'target',\n",
    "                   splits     = RandomSplitter(valid_pct=0.25, seed=42)(df.index))\n",
    "\n",
    "dls = to.dataloaders(bs=64)"
   ]
  },
  {
   "cell_type": "code",
   "execution_count": null,
   "id": "infinite-heading",
   "metadata": {},
   "outputs": [],
   "source": []
  },
  {
   "cell_type": "code",
   "execution_count": 6,
   "id": "potential-swaziland",
   "metadata": {},
   "outputs": [],
   "source": [
    "model = TabularModel(emb_szs = get_emb_sz(dls.train_ds),\n",
    "                     n_cont = len(dls.cont_names),\n",
    "                     out_sz = get_c(dls),\n",
    "                     layers = [200,200], # [2000,1000], # [2000,500],\n",
    "                     ps     = 0.2,\n",
    "                     #y_range=None,\n",
    "                     #embed_p=0.20,\n",
    "                     #ps=0.30,\n",
    "                     #act_cls=nn.GELU() #nn.LeakyReLU() Swish(), # ReLU(inplace=True), Swish(), Mish()\n",
    "                    )\n",
    "\n",
    "learn = TabularLearner(dls,\n",
    "                       model,\n",
    "                       metrics=[rmse]) # "
   ]
  },
  {
   "cell_type": "code",
   "execution_count": null,
   "id": "polish-binding",
   "metadata": {},
   "outputs": [],
   "source": []
  },
  {
   "cell_type": "code",
   "execution_count": 7,
   "id": "grand-certificate",
   "metadata": {},
   "outputs": [
    {
     "data": {
      "text/html": [],
      "text/plain": [
       "<IPython.core.display.HTML object>"
      ]
     },
     "metadata": {},
     "output_type": "display_data"
    },
    {
     "data": {
      "text/plain": [
       "SuggestedLRs(lr_min=0.005754399299621582, lr_steep=3.0199516913853586e-05)"
      ]
     },
     "execution_count": 7,
     "metadata": {},
     "output_type": "execute_result"
    },
    {
     "data": {
      "image/png": "[encoded data removed]",
      "text/plain": [
       "<Figure size 432x288 with 1 Axes>"
      ]
     },
     "metadata": {
      "needs_background": "light"
     },
     "output_type": "display_data"
    }
   ],
   "source": [
    "resModel = ResidualTabularModel(emb_szs = get_emb_sz(dls.train_ds),\n",
    "                                cont_sz = len(dls.cont_names),\n",
    "                                hid_sz  = 1000,\n",
    "                                out_sz  = get_c(dls),\n",
    "                                dropout = 0.3,\n",
    "                                num_layers = 8,\n",
    "                                batch_norm=False, bn_cont=False)\n",
    "\n",
    "reslearn = TabularLearner(dls,\n",
    "                          resModel,\n",
    "                          metrics=[rmse],  # rmse\n",
    "                          wd=None)\n",
    "\n",
    "reslearn.lr_find()"
   ]
  },
  {
   "cell_type": "code",
   "execution_count": 8,
   "id": "established-browser",
   "metadata": {},
   "outputs": [
    {
     "data": {
      "text/html": [
       "<table border=\"1\" class=\"dataframe\">\n",
       "  <thead>\n",
       "    <tr style=\"text-align: left;\">\n",
       "      <th>epoch</th>\n",
       "      <th>train_loss</th>\n",
       "      <th>valid_loss</th>\n",
       "      <th>_rmse</th>\n",
       "      <th>time</th>\n",
       "    </tr>\n",
       "  </thead>\n",
       "  <tbody>\n",
       "    <tr>\n",
       "      <td>0</td>\n",
       "      <td>0.822312</td>\n",
       "      <td>0.780543</td>\n",
       "      <td>0.883484</td>\n",
       "      <td>00:32</td>\n",
       "    </tr>\n",
       "    <tr>\n",
       "      <td>1</td>\n",
       "      <td>0.800528</td>\n",
       "      <td>0.755533</td>\n",
       "      <td>0.869214</td>\n",
       "      <td>00:32</td>\n",
       "    </tr>\n",
       "    <tr>\n",
       "      <td>2</td>\n",
       "      <td>0.759984</td>\n",
       "      <td>0.758197</td>\n",
       "      <td>0.870745</td>\n",
       "      <td>00:32</td>\n",
       "    </tr>\n",
       "    <tr>\n",
       "      <td>3</td>\n",
       "      <td>0.775231</td>\n",
       "      <td>0.753489</td>\n",
       "      <td>0.868038</td>\n",
       "      <td>00:32</td>\n",
       "    </tr>\n",
       "    <tr>\n",
       "      <td>4</td>\n",
       "      <td>0.749304</td>\n",
       "      <td>0.760711</td>\n",
       "      <td>0.872187</td>\n",
       "      <td>00:32</td>\n",
       "    </tr>\n",
       "    <tr>\n",
       "      <td>5</td>\n",
       "      <td>0.751493</td>\n",
       "      <td>0.767773</td>\n",
       "      <td>0.876227</td>\n",
       "      <td>00:32</td>\n",
       "    </tr>\n",
       "    <tr>\n",
       "      <td>6</td>\n",
       "      <td>0.743316</td>\n",
       "      <td>0.749541</td>\n",
       "      <td>0.865761</td>\n",
       "      <td>00:32</td>\n",
       "    </tr>\n",
       "    <tr>\n",
       "      <td>7</td>\n",
       "      <td>0.747567</td>\n",
       "      <td>0.744768</td>\n",
       "      <td>0.863000</td>\n",
       "      <td>00:33</td>\n",
       "    </tr>\n",
       "    <tr>\n",
       "      <td>8</td>\n",
       "      <td>0.716393</td>\n",
       "      <td>0.744393</td>\n",
       "      <td>0.862782</td>\n",
       "      <td>00:34</td>\n",
       "    </tr>\n",
       "    <tr>\n",
       "      <td>9</td>\n",
       "      <td>0.745593</td>\n",
       "      <td>0.741862</td>\n",
       "      <td>0.861314</td>\n",
       "      <td>00:34</td>\n",
       "    </tr>\n",
       "  </tbody>\n",
       "</table>"
      ],
      "text/plain": [
       "<IPython.core.display.HTML object>"
      ]
     },
     "metadata": {},
     "output_type": "display_data"
    }
   ],
   "source": [
    "reslearn.fit_one_cycle(10, lr_max=1e-2)"
   ]
  },
  {
   "cell_type": "code",
   "execution_count": 7,
   "id": "stylish-document",
   "metadata": {},
   "outputs": [
    {
     "data": {
      "text/html": [
       "<table border=\"1\" class=\"dataframe\">\n",
       "  <thead>\n",
       "    <tr style=\"text-align: left;\">\n",
       "      <th>epoch</th>\n",
       "      <th>train_loss</th>\n",
       "      <th>valid_loss</th>\n",
       "      <th>_rmse</th>\n",
       "      <th>time</th>\n",
       "    </tr>\n",
       "  </thead>\n",
       "  <tbody>\n",
       "    <tr>\n",
       "      <td>0</td>\n",
       "      <td>0.814532</td>\n",
       "      <td>0.823697</td>\n",
       "      <td>0.907578</td>\n",
       "      <td>00:27</td>\n",
       "    </tr>\n",
       "    <tr>\n",
       "      <td>1</td>\n",
       "      <td>0.761123</td>\n",
       "      <td>0.758450</td>\n",
       "      <td>0.870891</td>\n",
       "      <td>00:27</td>\n",
       "    </tr>\n",
       "    <tr>\n",
       "      <td>2</td>\n",
       "      <td>0.763733</td>\n",
       "      <td>0.793136</td>\n",
       "      <td>0.890582</td>\n",
       "      <td>00:27</td>\n",
       "    </tr>\n",
       "    <tr>\n",
       "      <td>3</td>\n",
       "      <td>0.785560</td>\n",
       "      <td>0.755294</td>\n",
       "      <td>0.869077</td>\n",
       "      <td>00:27</td>\n",
       "    </tr>\n",
       "    <tr>\n",
       "      <td>4</td>\n",
       "      <td>0.757074</td>\n",
       "      <td>0.753606</td>\n",
       "      <td>0.868104</td>\n",
       "      <td>00:27</td>\n",
       "    </tr>\n",
       "    <tr>\n",
       "      <td>5</td>\n",
       "      <td>0.755032</td>\n",
       "      <td>0.748277</td>\n",
       "      <td>0.865030</td>\n",
       "      <td>00:27</td>\n",
       "    </tr>\n",
       "    <tr>\n",
       "      <td>6</td>\n",
       "      <td>0.787666</td>\n",
       "      <td>0.744098</td>\n",
       "      <td>0.862611</td>\n",
       "      <td>00:27</td>\n",
       "    </tr>\n",
       "    <tr>\n",
       "      <td>7</td>\n",
       "      <td>0.770914</td>\n",
       "      <td>0.745264</td>\n",
       "      <td>0.863286</td>\n",
       "      <td>00:27</td>\n",
       "    </tr>\n",
       "    <tr>\n",
       "      <td>8</td>\n",
       "      <td>0.744689</td>\n",
       "      <td>0.740873</td>\n",
       "      <td>0.860740</td>\n",
       "      <td>00:27</td>\n",
       "    </tr>\n",
       "    <tr>\n",
       "      <td>9</td>\n",
       "      <td>0.745604</td>\n",
       "      <td>0.740523</td>\n",
       "      <td>0.860536</td>\n",
       "      <td>00:27</td>\n",
       "    </tr>\n",
       "  </tbody>\n",
       "</table>"
      ],
      "text/plain": [
       "<IPython.core.display.HTML object>"
      ]
     },
     "metadata": {},
     "output_type": "display_data"
    }
   ],
   "source": [
    "reslearn.fit_one_cycle(10, lr_max=1e-2)"
   ]
  },
  {
   "cell_type": "code",
   "execution_count": 9,
   "id": "elementary-laugh",
   "metadata": {},
   "outputs": [
    {
     "data": {
      "image/png": "[encoded data removed]",
      "text/plain": [
       "<Figure size 432x288 with 1 Axes>"
      ]
     },
     "metadata": {
      "needs_background": "light"
     },
     "output_type": "display_data"
    }
   ],
   "source": [
    "reslearn.recorder.plot_loss()"
   ]
  },
  {
   "cell_type": "code",
   "execution_count": null,
   "id": "sunset-democrat",
   "metadata": {},
   "outputs": [],
   "source": []
  },
  {
   "cell_type": "code",
   "execution_count": null,
   "id": "creative-category",
   "metadata": {},
   "outputs": [],
   "source": []
  },
  {
   "cell_type": "code",
   "execution_count": 11,
   "id": "revised-equipment",
   "metadata": {},
   "outputs": [
    {
     "data": {
      "text/html": [
       "<table border=\"1\" class=\"dataframe\">\n",
       "  <thead>\n",
       "    <tr style=\"text-align: left;\">\n",
       "      <th>epoch</th>\n",
       "      <th>train_loss</th>\n",
       "      <th>valid_loss</th>\n",
       "      <th>_rmse</th>\n",
       "      <th>time</th>\n",
       "    </tr>\n",
       "  </thead>\n",
       "  <tbody>\n",
       "    <tr>\n",
       "      <td>0</td>\n",
       "      <td>0.886616</td>\n",
       "      <td>0.821616</td>\n",
       "      <td>0.906430</td>\n",
       "      <td>00:24</td>\n",
       "    </tr>\n",
       "    <tr>\n",
       "      <td>1</td>\n",
       "      <td>0.887449</td>\n",
       "      <td>0.843562</td>\n",
       "      <td>0.918457</td>\n",
       "      <td>00:24</td>\n",
       "    </tr>\n",
       "    <tr>\n",
       "      <td>2</td>\n",
       "      <td>0.869391</td>\n",
       "      <td>0.872484</td>\n",
       "      <td>0.934068</td>\n",
       "      <td>00:24</td>\n",
       "    </tr>\n",
       "    <tr>\n",
       "      <td>3</td>\n",
       "      <td>0.874995</td>\n",
       "      <td>0.802659</td>\n",
       "      <td>0.895912</td>\n",
       "      <td>00:24</td>\n",
       "    </tr>\n",
       "    <tr>\n",
       "      <td>4</td>\n",
       "      <td>0.840453</td>\n",
       "      <td>0.776164</td>\n",
       "      <td>0.881001</td>\n",
       "      <td>00:24</td>\n",
       "    </tr>\n",
       "    <tr>\n",
       "      <td>5</td>\n",
       "      <td>0.836687</td>\n",
       "      <td>0.765945</td>\n",
       "      <td>0.875183</td>\n",
       "      <td>00:24</td>\n",
       "    </tr>\n",
       "    <tr>\n",
       "      <td>6</td>\n",
       "      <td>0.842000</td>\n",
       "      <td>0.785742</td>\n",
       "      <td>0.886421</td>\n",
       "      <td>00:24</td>\n",
       "    </tr>\n",
       "    <tr>\n",
       "      <td>7</td>\n",
       "      <td>0.847312</td>\n",
       "      <td>0.771673</td>\n",
       "      <td>0.878449</td>\n",
       "      <td>00:24</td>\n",
       "    </tr>\n",
       "    <tr>\n",
       "      <td>8</td>\n",
       "      <td>0.815588</td>\n",
       "      <td>0.809959</td>\n",
       "      <td>0.899978</td>\n",
       "      <td>00:24</td>\n",
       "    </tr>\n",
       "    <tr>\n",
       "      <td>9</td>\n",
       "      <td>0.795340</td>\n",
       "      <td>0.767613</td>\n",
       "      <td>0.876135</td>\n",
       "      <td>00:24</td>\n",
       "    </tr>\n",
       "    <tr>\n",
       "      <td>10</td>\n",
       "      <td>0.775712</td>\n",
       "      <td>0.759628</td>\n",
       "      <td>0.871567</td>\n",
       "      <td>00:23</td>\n",
       "    </tr>\n",
       "    <tr>\n",
       "      <td>11</td>\n",
       "      <td>0.772314</td>\n",
       "      <td>0.750538</td>\n",
       "      <td>0.866336</td>\n",
       "      <td>00:23</td>\n",
       "    </tr>\n",
       "    <tr>\n",
       "      <td>12</td>\n",
       "      <td>0.772062</td>\n",
       "      <td>0.749330</td>\n",
       "      <td>0.865638</td>\n",
       "      <td>00:23</td>\n",
       "    </tr>\n",
       "    <tr>\n",
       "      <td>13</td>\n",
       "      <td>0.752237</td>\n",
       "      <td>0.746825</td>\n",
       "      <td>0.864191</td>\n",
       "      <td>00:24</td>\n",
       "    </tr>\n",
       "    <tr>\n",
       "      <td>14</td>\n",
       "      <td>0.754505</td>\n",
       "      <td>0.760063</td>\n",
       "      <td>0.871816</td>\n",
       "      <td>00:24</td>\n",
       "    </tr>\n",
       "    <tr>\n",
       "      <td>15</td>\n",
       "      <td>0.755927</td>\n",
       "      <td>0.741785</td>\n",
       "      <td>0.861269</td>\n",
       "      <td>00:24</td>\n",
       "    </tr>\n",
       "    <tr>\n",
       "      <td>16</td>\n",
       "      <td>0.780122</td>\n",
       "      <td>0.738359</td>\n",
       "      <td>0.859278</td>\n",
       "      <td>00:24</td>\n",
       "    </tr>\n",
       "    <tr>\n",
       "      <td>17</td>\n",
       "      <td>0.772188</td>\n",
       "      <td>0.739882</td>\n",
       "      <td>0.860164</td>\n",
       "      <td>00:24</td>\n",
       "    </tr>\n",
       "    <tr>\n",
       "      <td>18</td>\n",
       "      <td>0.756211</td>\n",
       "      <td>0.739725</td>\n",
       "      <td>0.860072</td>\n",
       "      <td>00:24</td>\n",
       "    </tr>\n",
       "    <tr>\n",
       "      <td>19</td>\n",
       "      <td>0.768981</td>\n",
       "      <td>0.754172</td>\n",
       "      <td>0.868431</td>\n",
       "      <td>00:24</td>\n",
       "    </tr>\n",
       "    <tr>\n",
       "      <td>20</td>\n",
       "      <td>0.764805</td>\n",
       "      <td>0.738801</td>\n",
       "      <td>0.859535</td>\n",
       "      <td>00:24</td>\n",
       "    </tr>\n",
       "    <tr>\n",
       "      <td>21</td>\n",
       "      <td>0.773636</td>\n",
       "      <td>0.740833</td>\n",
       "      <td>0.860717</td>\n",
       "      <td>00:24</td>\n",
       "    </tr>\n",
       "    <tr>\n",
       "      <td>22</td>\n",
       "      <td>0.740447</td>\n",
       "      <td>0.741569</td>\n",
       "      <td>0.861144</td>\n",
       "      <td>00:25</td>\n",
       "    </tr>\n",
       "    <tr>\n",
       "      <td>23</td>\n",
       "      <td>0.765330</td>\n",
       "      <td>0.755489</td>\n",
       "      <td>0.869188</td>\n",
       "      <td>00:25</td>\n",
       "    </tr>\n",
       "    <tr>\n",
       "      <td>24</td>\n",
       "      <td>0.748112</td>\n",
       "      <td>0.737435</td>\n",
       "      <td>0.858740</td>\n",
       "      <td>00:24</td>\n",
       "    </tr>\n",
       "    <tr>\n",
       "      <td>25</td>\n",
       "      <td>0.740235</td>\n",
       "      <td>0.737675</td>\n",
       "      <td>0.858880</td>\n",
       "      <td>00:24</td>\n",
       "    </tr>\n",
       "    <tr>\n",
       "      <td>26</td>\n",
       "      <td>0.734314</td>\n",
       "      <td>0.737366</td>\n",
       "      <td>0.858700</td>\n",
       "      <td>00:24</td>\n",
       "    </tr>\n",
       "    <tr>\n",
       "      <td>27</td>\n",
       "      <td>0.745790</td>\n",
       "      <td>0.737031</td>\n",
       "      <td>0.858505</td>\n",
       "      <td>00:24</td>\n",
       "    </tr>\n",
       "    <tr>\n",
       "      <td>28</td>\n",
       "      <td>0.771952</td>\n",
       "      <td>0.737513</td>\n",
       "      <td>0.858786</td>\n",
       "      <td>00:24</td>\n",
       "    </tr>\n",
       "    <tr>\n",
       "      <td>29</td>\n",
       "      <td>0.757611</td>\n",
       "      <td>0.737483</td>\n",
       "      <td>0.858769</td>\n",
       "      <td>00:24</td>\n",
       "    </tr>\n",
       "  </tbody>\n",
       "</table>"
      ],
      "text/plain": [
       "<IPython.core.display.HTML object>"
      ]
     },
     "metadata": {},
     "output_type": "display_data"
    }
   ],
   "source": [
    "learn.fit_one_cycle(30, lr_max=1e-3)"
   ]
  },
  {
   "cell_type": "code",
   "execution_count": 26,
   "id": "destroyed-framework",
   "metadata": {},
   "outputs": [
    {
     "data": {
      "image/png": "[encoded data removed]",
      "text/plain": [
       "<Figure size 432x288 with 1 Axes>"
      ]
     },
     "metadata": {
      "needs_background": "light"
     },
     "output_type": "display_data"
    }
   ],
   "source": [
    "learn.recorder.plot_loss()"
   ]
  }
 ],
 "metadata": {
  "kernelspec": {
   "display_name": "Python 3",
   "language": "python",
   "name": "python3"
  },
  "language_info": {
   "codemirror_mode": {
    "name": "ipython",
    "version": 3
   },
   "file_extension": ".py",
   "mimetype": "text/x-python",
   "name": "python",
   "nbconvert_exporter": "python",
   "pygments_lexer": "ipython3",
   "version": "3.9.4"
  }
 },
 "nbformat": 4,
 "nbformat_minor": 5
}
