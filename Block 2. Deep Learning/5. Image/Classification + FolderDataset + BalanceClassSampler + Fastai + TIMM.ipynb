{
 "cells": [
  {
   "cell_type": "code",
   "execution_count": 1,
   "id": "voluntary-broadway",
   "metadata": {},
   "outputs": [],
   "source": [
    "import numpy as np\n",
    "import matplotlib.pyplot as plt\n",
    "import pathlib\n",
    "import torch\n",
    "import random"
   ]
  },
  {
   "cell_type": "markdown",
   "id": "rental-symbol",
   "metadata": {},
   "source": [
    "# Generic Folder dataset"
   ]
  },
  {
   "cell_type": "code",
   "execution_count": 2,
   "id": "anticipated-charge",
   "metadata": {},
   "outputs": [],
   "source": [
    "class FolderDataset(torch.utils.data.Dataset):\n",
    "    \n",
    "    def __init__(self, root_folder, file_extensions, x_tfms=None):\n",
    "        root_folder = pathlib.Path(root_folder)\n",
    "\n",
    "        def dir_conditions(folder: pathlib.PosixPath) -> bool:\n",
    "            is_folder  = folder.is_dir()\n",
    "            not_empty  = any(folder.iterdir()) if is_folder else False\n",
    "            not_hidden = not folder.name.startswith('.')\n",
    "            return is_folder and not_empty and not_hidden\n",
    "        \n",
    "        def file_conditions(file: pathlib.PosixPath) -> bool:\n",
    "            is_file    = file.is_file()\n",
    "            good_file  = file.name.endswith(file_extensions) # str or tuple of strings\n",
    "            not_hidden = not file.name.startswith('.')\n",
    "            return is_file and good_file and not_hidden\n",
    "\n",
    "        #               __element__  ____________________________loop____________________________   \n",
    "        self.classes = [folder.name  for folder in root_folder.iterdir() if dir_conditions(folder)]\n",
    "        self.classes.sort()\n",
    "        \n",
    "        self.class2num = {cls_name: i for i,cls_name in enumerate(self.classes)}\n",
    "\n",
    "        #                 ______________xy_element______________    \n",
    "        self.samples = [ (str(file), self.class2num[class_folder.name]) \n",
    "        #                _________________________1st loop_________________________\n",
    "                         for class_folder in root_folder.iterdir() if dir_conditions(class_folder)\n",
    "        #                _________________________2nd loop_________________________\n",
    "                         for group_folder in class_folder.iterdir() if dir_conditions(group_folder)\n",
    "        #                ______________________3rd loop______________________\n",
    "                         for file in group_folder.iterdir() if file_conditions(file) ]\n",
    "\n",
    "        self.x_tfms = x_tfms\n",
    "            \n",
    "    def __len__(self):\n",
    "        return len(self.samples)\n",
    "\n",
    "    def __getitem__(self, idx: int):\n",
    "        x, y = self.samples[idx]\n",
    "        if self.x_tfms: x = self.x_tfms(x)\n",
    "        return x, torch.tensor(y)\n",
    "    \n",
    "    def getlabels(self):\n",
    "        return list(map(lambda sample: sample[1], train_ds.samples))"
   ]
  },
  {
   "cell_type": "markdown",
   "id": "worse-closer",
   "metadata": {},
   "source": [
    "# Read and transform images\n"
   ]
  },
  {
   "cell_type": "markdown",
   "id": "willing-airport",
   "metadata": {},
   "source": [
    "### OPTION A: Pillow + Torchvision"
   ]
  },
  {
   "cell_type": "code",
   "execution_count": 3,
   "id": "wound-river",
   "metadata": {},
   "outputs": [],
   "source": [
    "from PIL import Image\n",
    "from torchvision import transforms\n",
    "\n",
    "torchvision_tfms = transforms.Compose([Image.open,\n",
    "                                       transforms.Resize((128,128)),\n",
    "                                       transforms.RandomHorizontalFlip(p=0.5),\n",
    "                                       transforms.ColorJitter(brightness=0.1, contrast=0.2, saturation=0, hue=0),\n",
    "                                       #transforms.CenterCrop(224),\n",
    "                                       transforms.ToTensor(),\n",
    "                                       transforms.Normalize((0.485, 0.456, 0.406), (0.229, 0.224, 0.225))\n",
    "                                      ])"
   ]
  },
  {
   "cell_type": "markdown",
   "id": "sporting-apparatus",
   "metadata": {},
   "source": [
    "### OPTION B: OpenCV + Albumentations"
   ]
  },
  {
   "cell_type": "code",
   "execution_count": 4,
   "id": "narrow-clearance",
   "metadata": {},
   "outputs": [],
   "source": [
    "import cv2\n",
    "import albumentations as A\n",
    "from albumentations.pytorch import ToTensorV2\n",
    "\n",
    "albumentations_img_tfms = A.Compose([\n",
    "    #A.RandomCrop(width=256, height=256),\n",
    "    A.HorizontalFlip(p=0.5),\n",
    "    A.RandomBrightnessContrast(p=0.2),\n",
    "    A.Normalize(mean=(0.485, 0.456, 0.406), std=(0.229, 0.224, 0.225)),\n",
    "    ToTensorV2(),\n",
    "])\n",
    "\n",
    "def albumentations_tfms(img_path):\n",
    "    img = cv2.imread(img_path)\n",
    "    img = cv2.cvtColor(img, cv2.COLOR_BGR2RGB)\n",
    "    img = cv2.resize(img, (128,128))\n",
    "\n",
    "    return albumentations_img_tfms(image=img)[\"image\"]"
   ]
  },
  {
   "cell_type": "markdown",
   "id": "brutal-equity",
   "metadata": {},
   "source": [
    "### OPTION C: Kornia?"
   ]
  },
  {
   "cell_type": "markdown",
   "id": "tender-stability",
   "metadata": {},
   "source": [
    "### Create image dataset"
   ]
  },
  {
   "cell_type": "code",
   "execution_count": 5,
   "id": "cellular-graphics",
   "metadata": {},
   "outputs": [],
   "source": [
    "train_ds = FolderDataset(root_folder     = \"./mask face train\",\n",
    "                         file_extensions = (\".jpg\"),\n",
    "                         x_tfms          = torchvision_tfms)\n",
    "\n",
    "valid_ds = FolderDataset(root_folder     = \"./mask face test\",\n",
    "                         file_extensions = (\".jpg\"),\n",
    "                         x_tfms          = torchvision_tfms)"
   ]
  },
  {
   "cell_type": "code",
   "execution_count": 6,
   "id": "commercial-audit",
   "metadata": {},
   "outputs": [
    {
     "data": {
      "text/plain": [
       "torch.Size([3, 128, 128])"
      ]
     },
     "execution_count": 6,
     "metadata": {},
     "output_type": "execute_result"
    }
   ],
   "source": [
    "train_ds[0][0].shape"
   ]
  },
  {
   "cell_type": "code",
   "execution_count": 7,
   "id": "robust-reading",
   "metadata": {},
   "outputs": [
    {
     "data": {
      "text/plain": [
       "{'mask': 0, 'no mask': 1}"
      ]
     },
     "execution_count": 7,
     "metadata": {},
     "output_type": "execute_result"
    }
   ],
   "source": [
    "train_ds.class2num"
   ]
  },
  {
   "cell_type": "code",
   "execution_count": 8,
   "id": "varying-pulse",
   "metadata": {},
   "outputs": [
    {
     "data": {
      "text/plain": [
       "{'mask': 0, 'no mask': 1}"
      ]
     },
     "execution_count": 8,
     "metadata": {},
     "output_type": "execute_result"
    }
   ],
   "source": [
    "valid_ds.class2num"
   ]
  },
  {
   "cell_type": "markdown",
   "id": "micro-kenya",
   "metadata": {},
   "source": [
    "# Dataloader"
   ]
  },
  {
   "cell_type": "code",
   "execution_count": 26,
   "id": "smooth-medicare",
   "metadata": {},
   "outputs": [],
   "source": [
    "class BalanceClassSampler(torch.utils.data.Sampler):\n",
    "    \"\"\"\n",
    "    Allows you to create stratified sample on unbalanced classes.\n",
    "    Inspired from Catalyst's BalanceClassSampler:\n",
    "    https://catalyst-team.github.io/catalyst/_modules/catalyst/data/sampler.html#BalanceClassSampler\n",
    "\n",
    "    Args:\n",
    "        labels: list of class label for each elem in the dataset\n",
    "        mode: Strategy to balance classes. Must be one of [downsampling, upsampling]\n",
    "    \"\"\"\n",
    "\n",
    "    def __init__(self, labels:list[int], mode:str = \"upsampling\"):\n",
    "\n",
    "        labels = np.array(labels)\n",
    "        self.unique_labels = set(labels)\n",
    "\n",
    "        ########## STEP 1:\n",
    "        # Compute the final_num_samples_per_label\n",
    "        # An Integer\n",
    "        num_samples_per_label = {label: (labels == label).sum() for label in self.unique_labels}\n",
    "\n",
    "        if   mode == \"upsampling\":   self.final_num_samples_per_label = max(num_samples_per_label.values())\n",
    "        elif mode == \"downsampling\": self.final_num_samples_per_label = min(num_samples_per_label.values())\n",
    "        else:                        raise Exception(\"mode should be: \\\"downsampling\\\" or \\\"upsampling\\\"\")\n",
    "\n",
    "        ########## STEP 2:\n",
    "        # Compute actual indices of every label.\n",
    "        # A Diccionary of lists\n",
    "        self.indices_per_label = {label: np.arange(len(labels))[labels==label].tolist() for label in self.unique_labels}\n",
    "\n",
    "\n",
    "    def __iter__(self): #-> Iterator[int]:\n",
    "\n",
    "        indices = []\n",
    "        for label in self.unique_labels:\n",
    "\n",
    "            label_indices = self.indices_per_label[label]\n",
    "\n",
    "            repeat_all_elementes  = self.final_num_samples_per_label // len(label_indices)\n",
    "            pick_random_elementes = self.final_num_samples_per_label %  len(label_indices)\n",
    "\n",
    "            indices += label_indices * repeat_all_elementes # repeat the list several times\n",
    "            indices += random.sample(label_indices, k=pick_random_elementes)  # pick random idxs without repetition\n",
    "\n",
    "        assert len(indices) == self.__len__()\n",
    "        np.random.shuffle(indices) # Inplace shuffle the list\n",
    "\n",
    "        return iter(indices)\n",
    "    \n",
    "\n",
    "    def __len__(self) -> int:\n",
    "        return self.final_num_samples_per_label * len(self.unique_labels)"
   ]
  },
  {
   "cell_type": "code",
   "execution_count": 10,
   "id": "regulation-medicine",
   "metadata": {},
   "outputs": [],
   "source": [
    "train_dl = torch.utils.data.DataLoader(dataset    = train_ds,\n",
    "                                       batch_size = 64,\n",
    "                                       sampler    = BalanceClassSampler(labels = train_ds.getlabels(),\n",
    "                                                                        mode   = \"upsampling\"))\n",
    "\n",
    "valid_dl = torch.utils.data.DataLoader(dataset    = valid_ds,\n",
    "                                       batch_size = 64,\n",
    "                                       shuffle    = False)"
   ]
  },
  {
   "cell_type": "code",
   "execution_count": 11,
   "id": "academic-medicaid",
   "metadata": {},
   "outputs": [
    {
     "data": {
      "text/plain": [
       "(torch.Size([64, 3, 128, 128]), torch.Size([64]))"
      ]
     },
     "execution_count": 11,
     "metadata": {},
     "output_type": "execute_result"
    }
   ],
   "source": [
    "batch_x, batch_y = next(iter(train_dl))\n",
    "\n",
    "batch_x.shape, batch_y.shape"
   ]
  },
  {
   "cell_type": "markdown",
   "id": "latin-forest",
   "metadata": {},
   "source": [
    "# <center> MODEL\n",
    "- https://fastai.github.io/timmdocs/\n",
    "- https://walkwithfastai.com/vision.external.timm\n",
    "- https://www.kaggle.com/tanlikesmath/seti-et-signal-detection-a-simple-cnn-starter\n",
    "- https://arxiv.org/pdf/2103.07579.pdf"
   ]
  },
  {
   "cell_type": "code",
   "execution_count": 4,
   "id": "interpreted-integrity",
   "metadata": {},
   "outputs": [
    {
     "name": "stdout",
     "output_type": "stream",
     "text": [
      "0.4.9\n"
     ]
    }
   ],
   "source": [
    "import timm\n",
    "print(timm.__version__)"
   ]
  },
  {
   "cell_type": "code",
   "execution_count": 3,
   "id": "received-uzbekistan",
   "metadata": {
    "scrolled": true
   },
   "outputs": [
    {
     "data": {
      "text/plain": [
       "['adv_inception_v3',\n",
       " 'cait_m36_384',\n",
       " 'cait_m48_448',\n",
       " 'cait_s24_224',\n",
       " 'cait_s24_384',\n",
       " 'cait_s36_384',\n",
       " 'cait_xs24_384',\n",
       " 'cait_xxs24_224',\n",
       " 'cait_xxs24_384',\n",
       " 'cait_xxs36_224',\n",
       " 'cait_xxs36_384',\n",
       " 'coat_lite_mini',\n",
       " 'coat_lite_tiny',\n",
       " 'cspdarknet53',\n",
       " 'cspresnet50',\n",
       " 'cspresnext50',\n",
       " 'densenet121',\n",
       " 'densenet161',\n",
       " 'densenet169',\n",
       " 'densenet201',\n",
       " 'densenetblur121d',\n",
       " 'dla34',\n",
       " 'dla46_c',\n",
       " 'dla46x_c',\n",
       " 'dla60',\n",
       " 'dla60_res2net',\n",
       " 'dla60_res2next',\n",
       " 'dla60x',\n",
       " 'dla60x_c',\n",
       " 'dla102',\n",
       " 'dla102x',\n",
       " 'dla102x2',\n",
       " 'dla169',\n",
       " 'dm_nfnet_f0',\n",
       " 'dm_nfnet_f1',\n",
       " 'dm_nfnet_f2',\n",
       " 'dm_nfnet_f3',\n",
       " 'dm_nfnet_f4',\n",
       " 'dm_nfnet_f5',\n",
       " 'dm_nfnet_f6',\n",
       " 'dpn68',\n",
       " 'dpn68b',\n",
       " 'dpn92',\n",
       " 'dpn98',\n",
       " 'dpn107',\n",
       " 'dpn131',\n",
       " 'eca_nfnet_l0',\n",
       " 'eca_nfnet_l1',\n",
       " 'ecaresnet26t',\n",
       " 'ecaresnet50d',\n",
       " 'ecaresnet50d_pruned',\n",
       " 'ecaresnet50t',\n",
       " 'ecaresnet101d',\n",
       " 'ecaresnet101d_pruned',\n",
       " 'ecaresnet269d',\n",
       " 'ecaresnetlight',\n",
       " 'efficientnet_b0',\n",
       " 'efficientnet_b1',\n",
       " 'efficientnet_b1_pruned',\n",
       " 'efficientnet_b2',\n",
       " 'efficientnet_b2_pruned',\n",
       " 'efficientnet_b3',\n",
       " 'efficientnet_b3_pruned',\n",
       " 'efficientnet_b4',\n",
       " 'efficientnet_el',\n",
       " 'efficientnet_el_pruned',\n",
       " 'efficientnet_em',\n",
       " 'efficientnet_es',\n",
       " 'efficientnet_es_pruned',\n",
       " 'efficientnet_lite0',\n",
       " 'efficientnetv2_rw_s',\n",
       " 'ens_adv_inception_resnet_v2',\n",
       " 'ese_vovnet19b_dw',\n",
       " 'ese_vovnet39b',\n",
       " 'fbnetc_100',\n",
       " 'gernet_l',\n",
       " 'gernet_m',\n",
       " 'gernet_s',\n",
       " 'ghostnet_100',\n",
       " 'gluon_inception_v3',\n",
       " 'gluon_resnet18_v1b',\n",
       " 'gluon_resnet34_v1b',\n",
       " 'gluon_resnet50_v1b',\n",
       " 'gluon_resnet50_v1c',\n",
       " 'gluon_resnet50_v1d',\n",
       " 'gluon_resnet50_v1s',\n",
       " 'gluon_resnet101_v1b',\n",
       " 'gluon_resnet101_v1c',\n",
       " 'gluon_resnet101_v1d',\n",
       " 'gluon_resnet101_v1s',\n",
       " 'gluon_resnet152_v1b',\n",
       " 'gluon_resnet152_v1c',\n",
       " 'gluon_resnet152_v1d',\n",
       " 'gluon_resnet152_v1s',\n",
       " 'gluon_resnext50_32x4d',\n",
       " 'gluon_resnext101_32x4d',\n",
       " 'gluon_resnext101_64x4d',\n",
       " 'gluon_senet154',\n",
       " 'gluon_seresnext50_32x4d',\n",
       " 'gluon_seresnext101_32x4d',\n",
       " 'gluon_seresnext101_64x4d',\n",
       " 'gluon_xception65',\n",
       " 'hardcorenas_a',\n",
       " 'hardcorenas_b',\n",
       " 'hardcorenas_c',\n",
       " 'hardcorenas_d',\n",
       " 'hardcorenas_e',\n",
       " 'hardcorenas_f',\n",
       " 'hrnet_w18',\n",
       " 'hrnet_w18_small',\n",
       " 'hrnet_w18_small_v2',\n",
       " 'hrnet_w30',\n",
       " 'hrnet_w32',\n",
       " 'hrnet_w40',\n",
       " 'hrnet_w44',\n",
       " 'hrnet_w48',\n",
       " 'hrnet_w64',\n",
       " 'ig_resnext101_32x8d',\n",
       " 'ig_resnext101_32x16d',\n",
       " 'ig_resnext101_32x32d',\n",
       " 'ig_resnext101_32x48d',\n",
       " 'inception_resnet_v2',\n",
       " 'inception_v3',\n",
       " 'inception_v4',\n",
       " 'legacy_senet154',\n",
       " 'legacy_seresnet18',\n",
       " 'legacy_seresnet34',\n",
       " 'legacy_seresnet50',\n",
       " 'legacy_seresnet101',\n",
       " 'legacy_seresnet152',\n",
       " 'legacy_seresnext26_32x4d',\n",
       " 'legacy_seresnext50_32x4d',\n",
       " 'legacy_seresnext101_32x4d',\n",
       " 'mixer_b16_224',\n",
       " 'mixer_b16_224_in21k',\n",
       " 'mixer_l16_224',\n",
       " 'mixer_l16_224_in21k',\n",
       " 'mixnet_l',\n",
       " 'mixnet_m',\n",
       " 'mixnet_s',\n",
       " 'mixnet_xl',\n",
       " 'mnasnet_100',\n",
       " 'mobilenetv2_100',\n",
       " 'mobilenetv2_110d',\n",
       " 'mobilenetv2_120d',\n",
       " 'mobilenetv2_140',\n",
       " 'mobilenetv3_large_100',\n",
       " 'mobilenetv3_large_100_miil',\n",
       " 'mobilenetv3_large_100_miil_in21k',\n",
       " 'mobilenetv3_rw',\n",
       " 'nasnetalarge',\n",
       " 'nf_regnet_b1',\n",
       " 'nf_resnet50',\n",
       " 'nfnet_l0',\n",
       " 'pit_b_224',\n",
       " 'pit_b_distilled_224',\n",
       " 'pit_s_224',\n",
       " 'pit_s_distilled_224',\n",
       " 'pit_ti_224',\n",
       " 'pit_ti_distilled_224',\n",
       " 'pit_xs_224',\n",
       " 'pit_xs_distilled_224',\n",
       " 'pnasnet5large',\n",
       " 'regnetx_002',\n",
       " 'regnetx_004',\n",
       " 'regnetx_006',\n",
       " 'regnetx_008',\n",
       " 'regnetx_016',\n",
       " 'regnetx_032',\n",
       " 'regnetx_040',\n",
       " 'regnetx_064',\n",
       " 'regnetx_080',\n",
       " 'regnetx_120',\n",
       " 'regnetx_160',\n",
       " 'regnetx_320',\n",
       " 'regnety_002',\n",
       " 'regnety_004',\n",
       " 'regnety_006',\n",
       " 'regnety_008',\n",
       " 'regnety_016',\n",
       " 'regnety_032',\n",
       " 'regnety_040',\n",
       " 'regnety_064',\n",
       " 'regnety_080',\n",
       " 'regnety_120',\n",
       " 'regnety_160',\n",
       " 'regnety_320',\n",
       " 'repvgg_a2',\n",
       " 'repvgg_b0',\n",
       " 'repvgg_b1',\n",
       " 'repvgg_b1g4',\n",
       " 'repvgg_b2',\n",
       " 'repvgg_b2g4',\n",
       " 'repvgg_b3',\n",
       " 'repvgg_b3g4',\n",
       " 'res2net50_14w_8s',\n",
       " 'res2net50_26w_4s',\n",
       " 'res2net50_26w_6s',\n",
       " 'res2net50_26w_8s',\n",
       " 'res2net50_48w_2s',\n",
       " 'res2net101_26w_4s',\n",
       " 'res2next50',\n",
       " 'resnest14d',\n",
       " 'resnest26d',\n",
       " 'resnest50d',\n",
       " 'resnest50d_1s4x24d',\n",
       " 'resnest50d_4s2x40d',\n",
       " 'resnest101e',\n",
       " 'resnest200e',\n",
       " 'resnest269e',\n",
       " 'resnet18',\n",
       " 'resnet18d',\n",
       " 'resnet26',\n",
       " 'resnet26d',\n",
       " 'resnet34',\n",
       " 'resnet34d',\n",
       " 'resnet50',\n",
       " 'resnet50d',\n",
       " 'resnet101d',\n",
       " 'resnet152d',\n",
       " 'resnet200d',\n",
       " 'resnetblur50',\n",
       " 'resnetrs50',\n",
       " 'resnetrs101',\n",
       " 'resnetrs152',\n",
       " 'resnetrs200',\n",
       " 'resnetrs270',\n",
       " 'resnetrs350',\n",
       " 'resnetrs420',\n",
       " 'resnetv2_50x1_bitm',\n",
       " 'resnetv2_50x1_bitm_in21k',\n",
       " 'resnetv2_50x3_bitm',\n",
       " 'resnetv2_50x3_bitm_in21k',\n",
       " 'resnetv2_101x1_bitm',\n",
       " 'resnetv2_101x1_bitm_in21k',\n",
       " 'resnetv2_101x3_bitm',\n",
       " 'resnetv2_101x3_bitm_in21k',\n",
       " 'resnetv2_152x2_bitm',\n",
       " 'resnetv2_152x2_bitm_in21k',\n",
       " 'resnetv2_152x4_bitm',\n",
       " 'resnetv2_152x4_bitm_in21k',\n",
       " 'resnext50_32x4d',\n",
       " 'resnext50d_32x4d',\n",
       " 'resnext101_32x8d',\n",
       " 'rexnet_100',\n",
       " 'rexnet_130',\n",
       " 'rexnet_150',\n",
       " 'rexnet_200',\n",
       " 'selecsls42b',\n",
       " 'selecsls60',\n",
       " 'selecsls60b',\n",
       " 'semnasnet_100',\n",
       " 'seresnet50',\n",
       " 'seresnet152d',\n",
       " 'seresnext26d_32x4d',\n",
       " 'seresnext26t_32x4d',\n",
       " 'seresnext50_32x4d',\n",
       " 'skresnet18',\n",
       " 'skresnet34',\n",
       " 'skresnext50_32x4d',\n",
       " 'spnasnet_100',\n",
       " 'ssl_resnet18',\n",
       " 'ssl_resnet50',\n",
       " 'ssl_resnext50_32x4d',\n",
       " 'ssl_resnext101_32x4d',\n",
       " 'ssl_resnext101_32x8d',\n",
       " 'ssl_resnext101_32x16d',\n",
       " 'swin_base_patch4_window7_224',\n",
       " 'swin_base_patch4_window7_224_in22k',\n",
       " 'swin_base_patch4_window12_384',\n",
       " 'swin_base_patch4_window12_384_in22k',\n",
       " 'swin_large_patch4_window7_224',\n",
       " 'swin_large_patch4_window7_224_in22k',\n",
       " 'swin_large_patch4_window12_384',\n",
       " 'swin_large_patch4_window12_384_in22k',\n",
       " 'swin_small_patch4_window7_224',\n",
       " 'swin_tiny_patch4_window7_224',\n",
       " 'swsl_resnet18',\n",
       " 'swsl_resnet50',\n",
       " 'swsl_resnext50_32x4d',\n",
       " 'swsl_resnext101_32x4d',\n",
       " 'swsl_resnext101_32x8d',\n",
       " 'swsl_resnext101_32x16d',\n",
       " 'tf_efficientnet_b0',\n",
       " 'tf_efficientnet_b0_ap',\n",
       " 'tf_efficientnet_b0_ns',\n",
       " 'tf_efficientnet_b1',\n",
       " 'tf_efficientnet_b1_ap',\n",
       " 'tf_efficientnet_b1_ns',\n",
       " 'tf_efficientnet_b2',\n",
       " 'tf_efficientnet_b2_ap',\n",
       " 'tf_efficientnet_b2_ns',\n",
       " 'tf_efficientnet_b3',\n",
       " 'tf_efficientnet_b3_ap',\n",
       " 'tf_efficientnet_b3_ns',\n",
       " 'tf_efficientnet_b4',\n",
       " 'tf_efficientnet_b4_ap',\n",
       " 'tf_efficientnet_b4_ns',\n",
       " 'tf_efficientnet_b5',\n",
       " 'tf_efficientnet_b5_ap',\n",
       " 'tf_efficientnet_b5_ns',\n",
       " 'tf_efficientnet_b6',\n",
       " 'tf_efficientnet_b6_ap',\n",
       " 'tf_efficientnet_b6_ns',\n",
       " 'tf_efficientnet_b7',\n",
       " 'tf_efficientnet_b7_ap',\n",
       " 'tf_efficientnet_b7_ns',\n",
       " 'tf_efficientnet_b8',\n",
       " 'tf_efficientnet_b8_ap',\n",
       " 'tf_efficientnet_cc_b0_4e',\n",
       " 'tf_efficientnet_cc_b0_8e',\n",
       " 'tf_efficientnet_cc_b1_8e',\n",
       " 'tf_efficientnet_el',\n",
       " 'tf_efficientnet_em',\n",
       " 'tf_efficientnet_es',\n",
       " 'tf_efficientnet_l2_ns',\n",
       " 'tf_efficientnet_l2_ns_475',\n",
       " 'tf_efficientnet_lite0',\n",
       " 'tf_efficientnet_lite1',\n",
       " 'tf_efficientnet_lite2',\n",
       " 'tf_efficientnet_lite3',\n",
       " 'tf_efficientnet_lite4',\n",
       " 'tf_efficientnetv2_b0',\n",
       " 'tf_efficientnetv2_b1',\n",
       " 'tf_efficientnetv2_b2',\n",
       " 'tf_efficientnetv2_b3',\n",
       " 'tf_efficientnetv2_l',\n",
       " 'tf_efficientnetv2_l_in21ft1k',\n",
       " 'tf_efficientnetv2_l_in21k',\n",
       " 'tf_efficientnetv2_m',\n",
       " 'tf_efficientnetv2_m_in21ft1k',\n",
       " 'tf_efficientnetv2_m_in21k',\n",
       " 'tf_efficientnetv2_s',\n",
       " 'tf_efficientnetv2_s_in21ft1k',\n",
       " 'tf_efficientnetv2_s_in21k',\n",
       " 'tf_inception_v3',\n",
       " 'tf_mixnet_l',\n",
       " 'tf_mixnet_m',\n",
       " 'tf_mixnet_s',\n",
       " 'tf_mobilenetv3_large_075',\n",
       " 'tf_mobilenetv3_large_100',\n",
       " 'tf_mobilenetv3_large_minimal_100',\n",
       " 'tf_mobilenetv3_small_075',\n",
       " 'tf_mobilenetv3_small_100',\n",
       " 'tf_mobilenetv3_small_minimal_100',\n",
       " 'tnt_s_patch16_224',\n",
       " 'tresnet_l',\n",
       " 'tresnet_l_448',\n",
       " 'tresnet_m',\n",
       " 'tresnet_m_448',\n",
       " 'tresnet_m_miil_in21k',\n",
       " 'tresnet_xl',\n",
       " 'tresnet_xl_448',\n",
       " 'tv_densenet121',\n",
       " 'tv_resnet34',\n",
       " 'tv_resnet50',\n",
       " 'tv_resnet101',\n",
       " 'tv_resnet152',\n",
       " 'tv_resnext50_32x4d',\n",
       " 'vgg11',\n",
       " 'vgg11_bn',\n",
       " 'vgg13',\n",
       " 'vgg13_bn',\n",
       " 'vgg16',\n",
       " 'vgg16_bn',\n",
       " 'vgg19',\n",
       " 'vgg19_bn',\n",
       " 'vit_base_patch16_224',\n",
       " 'vit_base_patch16_224_in21k',\n",
       " 'vit_base_patch16_224_miil',\n",
       " 'vit_base_patch16_224_miil_in21k',\n",
       " 'vit_base_patch16_384',\n",
       " 'vit_base_patch32_224_in21k',\n",
       " 'vit_base_patch32_384',\n",
       " 'vit_base_r50_s16_224_in21k',\n",
       " 'vit_base_r50_s16_384',\n",
       " 'vit_deit_base_distilled_patch16_224',\n",
       " 'vit_deit_base_distilled_patch16_384',\n",
       " 'vit_deit_base_patch16_224',\n",
       " 'vit_deit_base_patch16_384',\n",
       " 'vit_deit_small_distilled_patch16_224',\n",
       " 'vit_deit_small_patch16_224',\n",
       " 'vit_deit_tiny_distilled_patch16_224',\n",
       " 'vit_deit_tiny_patch16_224',\n",
       " 'vit_large_patch16_224',\n",
       " 'vit_large_patch16_224_in21k',\n",
       " 'vit_large_patch16_384',\n",
       " 'vit_large_patch32_224_in21k',\n",
       " 'vit_large_patch32_384',\n",
       " 'vit_small_patch16_224',\n",
       " 'wide_resnet50_2',\n",
       " 'wide_resnet101_2',\n",
       " 'xception',\n",
       " 'xception41',\n",
       " 'xception65',\n",
       " 'xception71']"
      ]
     },
     "execution_count": 3,
     "metadata": {},
     "output_type": "execute_result"
    }
   ],
   "source": [
    "timm.list_models(pretrained=True)"
   ]
  },
  {
   "cell_type": "code",
   "execution_count": 12,
   "id": "overhead-package",
   "metadata": {},
   "outputs": [],
   "source": [
    "from torchvision import models\n",
    "\n",
    "model = models.resnet18(pretrained=True)\n",
    "#model"
   ]
  },
  {
   "cell_type": "code",
   "execution_count": 13,
   "id": "conscious-norwegian",
   "metadata": {},
   "outputs": [],
   "source": [
    "#for parameter in model.parameters():\n",
    "#    print(parameter.requires_grad)"
   ]
  },
  {
   "cell_type": "markdown",
   "id": "toxic-preference",
   "metadata": {},
   "source": [
    "### Replace last layer"
   ]
  },
  {
   "cell_type": "code",
   "execution_count": 14,
   "id": "minute-messenger",
   "metadata": {},
   "outputs": [],
   "source": [
    "#model.fc = torch.nn.Linear(512, 1) # torch.nn.Sigmoid() + torch.nn.BCELoss() or torch.nn.BCEWithLogitsLoss\n",
    "model.fc = torch.nn.Linear(512, 2)  # torch.nn.Softmax() + torch.nn.NLLLoss() or torch.nn.CrossEntropyLoss\n",
    "\n",
    "loss =  torch.nn.CrossEntropyLoss()\n",
    "\"\"\"\n",
    "torch.nn.Sequential(\n",
    "    torch.nn.Linear(512, 1),\n",
    "    torch.nn.Sigmoid(),\n",
    "    torch.nn.Flatten()\n",
    ")\n",
    "\"\"\";"
   ]
  },
  {
   "cell_type": "markdown",
   "id": "pleased-garlic",
   "metadata": {},
   "source": [
    "### Test model on 1 sample"
   ]
  },
  {
   "cell_type": "code",
   "execution_count": 15,
   "id": "relative-discovery",
   "metadata": {},
   "outputs": [
    {
     "name": "stdout",
     "output_type": "stream",
     "text": [
      "batch_x: torch.Size([64, 3, 128, 128])\n",
      "batch_p: torch.Size([64, 2])\n",
      "batch_y: torch.Size([64])\n"
     ]
    }
   ],
   "source": [
    "batch_p = model(batch_x)\n",
    "\n",
    "print(\"batch_x:\", batch_x.shape)\n",
    "print(\"batch_p:\", batch_p.shape)\n",
    "print(\"batch_y:\", batch_y.shape)"
   ]
  },
  {
   "cell_type": "markdown",
   "id": "descending-consensus",
   "metadata": {},
   "source": [
    "### Test loss"
   ]
  },
  {
   "cell_type": "code",
   "execution_count": 16,
   "id": "macro-friendly",
   "metadata": {},
   "outputs": [
    {
     "data": {
      "text/plain": [
       "tensor(0.3515, grad_fn=<NllLossBackward>)"
      ]
     },
     "execution_count": 16,
     "metadata": {},
     "output_type": "execute_result"
    }
   ],
   "source": [
    "loss(batch_p, batch_y)"
   ]
  },
  {
   "cell_type": "markdown",
   "id": "pretty-concert",
   "metadata": {},
   "source": [
    "# <center> TRAIN"
   ]
  },
  {
   "cell_type": "code",
   "execution_count": 17,
   "id": "sound-petroleum",
   "metadata": {},
   "outputs": [],
   "source": [
    "# Using Fast.ai: 2.3.1\n",
    "from fastai.learner           import Learner\n",
    "from fastai.data.core         import DataLoaders\n",
    "from fastai.metrics           import *\n",
    "from fastai.callback.all      import * # For lr_find() and fit_one_cycle()\n",
    "from fastai.callback.core     import Callback\n",
    "from fastai.callback.progress import ProgressCallback, ShowGraphCallback\n",
    "from fastai.callback.training import GradientClip\n",
    "from fastai.callback.rnn      import ModelResetter, RNNCallback, RNNRegularizer\n",
    "from fastai.callback.tracker  import EarlyStoppingCallback"
   ]
  },
  {
   "cell_type": "code",
   "execution_count": 18,
   "id": "particular-factor",
   "metadata": {},
   "outputs": [],
   "source": [
    "learn = Learner(dls       = DataLoaders(train_dl, valid_dl),\n",
    "                model     = model, \n",
    "                loss_func = loss,\n",
    "                metrics   = [accuracy, BalancedAccuracy(), F1Score(), Precision(), Recall(), RocAucBinary()], \n",
    "                cbs       = [ShowGraphCallback])\n",
    "#learn.show_training_loop()"
   ]
  },
  {
   "cell_type": "code",
   "execution_count": 20,
   "id": "naval-myrtle",
   "metadata": {},
   "outputs": [
    {
     "data": {
      "text/html": [],
      "text/plain": [
       "<IPython.core.display.HTML object>"
      ]
     },
     "metadata": {},
     "output_type": "display_data"
    },
    {
     "data": {
      "text/plain": [
       "SuggestedLRs(lr_min=0.0005248074419796466, lr_steep=9.120108734350652e-05)"
      ]
     },
     "execution_count": 20,
     "metadata": {},
     "output_type": "execute_result"
    },
    {
     "data": {
      "image/png": "[encoded data removed]",
      "text/plain": [
       "<Figure size 432x288 with 1 Axes>"
      ]
     },
     "metadata": {
      "needs_background": "light"
     },
     "output_type": "display_data"
    }
   ],
   "source": [
    "learn.lr_find()"
   ]
  },
  {
   "cell_type": "code",
   "execution_count": 19,
   "id": "robust-swaziland",
   "metadata": {},
   "outputs": [
    {
     "data": {
      "text/html": [
       "<table border=\"1\" class=\"dataframe\">\n",
       "  <thead>\n",
       "    <tr style=\"text-align: left;\">\n",
       "      <th>epoch</th>\n",
       "      <th>train_loss</th>\n",
       "      <th>valid_loss</th>\n",
       "      <th>accuracy</th>\n",
       "      <th>balanced_accuracy_score</th>\n",
       "      <th>f1_score</th>\n",
       "      <th>precision_score</th>\n",
       "      <th>recall_score</th>\n",
       "      <th>roc_auc_score</th>\n",
       "      <th>time</th>\n",
       "    </tr>\n",
       "  </thead>\n",
       "  <tbody>\n",
       "    <tr>\n",
       "      <td>0</td>\n",
       "      <td>0.005581</td>\n",
       "      <td>0.012178</td>\n",
       "      <td>0.996716</td>\n",
       "      <td>0.966797</td>\n",
       "      <td>0.998306</td>\n",
       "      <td>0.997931</td>\n",
       "      <td>0.998682</td>\n",
       "      <td>0.997692</td>\n",
       "      <td>02:46</td>\n",
       "    </tr>\n",
       "  </tbody>\n",
       "</table>"
      ],
      "text/plain": [
       "<IPython.core.display.HTML object>"
      ]
     },
     "metadata": {},
     "output_type": "display_data"
    },
    {
     "data": {
      "image/png": "[encoded data removed]",
      "text/plain": [
       "<Figure size 432x288 with 1 Axes>"
      ]
     },
     "metadata": {},
     "output_type": "display_data"
    }
   ],
   "source": [
    "# Shuffle\n",
    "learn.fit_one_cycle(1, 1e-3)"
   ]
  },
  {
   "cell_type": "code",
   "execution_count": 19,
   "id": "sunset-administration",
   "metadata": {},
   "outputs": [
    {
     "data": {
      "text/html": [
       "<table border=\"1\" class=\"dataframe\">\n",
       "  <thead>\n",
       "    <tr style=\"text-align: left;\">\n",
       "      <th>epoch</th>\n",
       "      <th>train_loss</th>\n",
       "      <th>valid_loss</th>\n",
       "      <th>accuracy</th>\n",
       "      <th>balanced_accuracy_score</th>\n",
       "      <th>f1_score</th>\n",
       "      <th>precision_score</th>\n",
       "      <th>recall_score</th>\n",
       "      <th>roc_auc_score</th>\n",
       "      <th>time</th>\n",
       "    </tr>\n",
       "  </thead>\n",
       "  <tbody>\n",
       "    <tr>\n",
       "      <td>0</td>\n",
       "      <td>0.075002</td>\n",
       "      <td>0.031628</td>\n",
       "      <td>0.992459</td>\n",
       "      <td>0.989426</td>\n",
       "      <td>0.996096</td>\n",
       "      <td>0.999558</td>\n",
       "      <td>0.992658</td>\n",
       "      <td>0.998887</td>\n",
       "      <td>00:30</td>\n",
       "    </tr>\n",
       "  </tbody>\n",
       "</table>"
      ],
      "text/plain": [
       "<IPython.core.display.HTML object>"
      ]
     },
     "metadata": {},
     "output_type": "display_data"
    },
    {
     "data": {
      "image/png": "[encoded data removed]",
      "text/plain": [
       "<Figure size 432x288 with 1 Axes>"
      ]
     },
     "metadata": {},
     "output_type": "display_data"
    }
   ],
   "source": [
    "# Downsampling\n",
    "learn.fit_one_cycle(1, 1e-3)"
   ]
  },
  {
   "cell_type": "code",
   "execution_count": 19,
   "id": "linear-quest",
   "metadata": {},
   "outputs": [
    {
     "data": {
      "text/html": [
       "<table border=\"1\" class=\"dataframe\">\n",
       "  <thead>\n",
       "    <tr style=\"text-align: left;\">\n",
       "      <th>epoch</th>\n",
       "      <th>train_loss</th>\n",
       "      <th>valid_loss</th>\n",
       "      <th>accuracy</th>\n",
       "      <th>balanced_accuracy_score</th>\n",
       "      <th>f1_score</th>\n",
       "      <th>precision_score</th>\n",
       "      <th>recall_score</th>\n",
       "      <th>roc_auc_score</th>\n",
       "      <th>time</th>\n",
       "    </tr>\n",
       "  </thead>\n",
       "  <tbody>\n",
       "    <tr>\n",
       "      <td>0</td>\n",
       "      <td>0.000306</td>\n",
       "      <td>0.011734</td>\n",
       "      <td>0.997507</td>\n",
       "      <td>0.986301</td>\n",
       "      <td>0.998713</td>\n",
       "      <td>0.999183</td>\n",
       "      <td>0.998243</td>\n",
       "      <td>0.997581</td>\n",
       "      <td>05:30</td>\n",
       "    </tr>\n",
       "  </tbody>\n",
       "</table>"
      ],
      "text/plain": [
       "<IPython.core.display.HTML object>"
      ]
     },
     "metadata": {},
     "output_type": "display_data"
    },
    {
     "data": {
      "image/png": "[encoded data removed]",
      "text/plain": [
       "<Figure size 432x288 with 1 Axes>"
      ]
     },
     "metadata": {},
     "output_type": "display_data"
    }
   ],
   "source": [
    "# Upsampling\n",
    "learn.fit_one_cycle(1, 1e-3)"
   ]
  },
  {
   "cell_type": "code",
   "execution_count": 27,
   "id": "upset-earth",
   "metadata": {
    "scrolled": false
   },
   "outputs": [
    {
     "data": {
      "text/html": [
       "<table border=\"1\" class=\"dataframe\">\n",
       "  <thead>\n",
       "    <tr style=\"text-align: left;\">\n",
       "      <th>epoch</th>\n",
       "      <th>train_loss</th>\n",
       "      <th>valid_loss</th>\n",
       "      <th>accuracy</th>\n",
       "      <th>balanced_accuracy_score</th>\n",
       "      <th>f1_score</th>\n",
       "      <th>precision_score</th>\n",
       "      <th>recall_score</th>\n",
       "      <th>roc_auc_score</th>\n",
       "      <th>time</th>\n",
       "    </tr>\n",
       "  </thead>\n",
       "  <tbody>\n",
       "    <tr>\n",
       "      <td>0</td>\n",
       "      <td>0.075292</td>\n",
       "      <td>0.012454</td>\n",
       "      <td>0.997811</td>\n",
       "      <td>0.984548</td>\n",
       "      <td>0.998870</td>\n",
       "      <td>0.999058</td>\n",
       "      <td>0.998682</td>\n",
       "      <td>0.997976</td>\n",
       "      <td>00:27</td>\n",
       "    </tr>\n",
       "  </tbody>\n",
       "</table>"
      ],
      "text/plain": [
       "<IPython.core.display.HTML object>"
      ]
     },
     "metadata": {},
     "output_type": "display_data"
    },
    {
     "data": {
      "image/png": "[encoded data removed]",
      "text/plain": [
       "<Figure size 432x288 with 1 Axes>"
      ]
     },
     "metadata": {},
     "output_type": "display_data"
    }
   ],
   "source": [
    "# 1000 imgs per class\n",
    "learn.fit_one_cycle(1, 1e-3)"
   ]
  },
  {
   "cell_type": "markdown",
   "id": "short-knock",
   "metadata": {},
   "source": [
    "|              |  train_loss |  valid_loss |  accuracy   |balanced_acc |  f1_score   | precision   |  recall     |  roc_auc    | time    |\n",
    "|--------------|-------------|-------------|-------------|-------------|-------------|-------------|-------------|-------------|---------|\n",
    "| shuffle\t   |  0.005581   |  0.012178   |  0.996716   |  0.966797   |  0.998306   |  0.997931   |**0.998682** |  0.997692   |  02:46  |\n",
    "| downsampling |  0.075002   |  0.031628   |  0.992459   |**0.989426** |  0.996096   |**0.999558** |  0.992658   |**0.998887** |  00:30  |\n",
    "| upsampling   |  0.000306   |**0.011734** |  0.997507   |  0.986301   |  0.998713   |  0.999183   |  0.998243   |  0.997581   |  05:30  |\n",
    "| 1000perclass |  0.075292   |  0.012454   |**0.997811** |  0.984548   |**0.998870** |  0.999058   |**0.998682** |  0.997976   |  00:27  |"
   ]
  }
 ],
 "metadata": {
  "kernelspec": {
   "display_name": "Python 3",
   "language": "python",
   "name": "python3"
  },
  "language_info": {
   "codemirror_mode": {
    "name": "ipython",
    "version": 3
   },
   "file_extension": ".py",
   "mimetype": "text/x-python",
   "name": "python",
   "nbconvert_exporter": "python",
   "pygments_lexer": "ipython3",
   "version": "3.9.4"
  }
 },
 "nbformat": 4,
 "nbformat_minor": 5
}
