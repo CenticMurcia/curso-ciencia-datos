{
 "cells": [
  {
   "cell_type": "markdown",
   "id": "eccbe083",
   "metadata": {},
   "source": [
    "# Import libraries"
   ]
  },
  {
   "cell_type": "code",
   "execution_count": 1,
   "id": "7214ba7e",
   "metadata": {},
   "outputs": [],
   "source": [
    "import numpy as np\n",
    "import pandas as pd\n",
    "import matplotlib.pyplot as plt\n",
    "\n",
    "import tensorflow as tf\n",
    "from tensorflow import keras\n",
    "from tensorflow.keras import layers\n",
    "from tensorflow.keras.preprocessing.image import ImageDataGenerator\n",
    "from tensorflow.keras.models import Sequential\n",
    "from tensorflow.keras.layers import Dense, Activation, Flatten, Dropout, BatchNormalization, Conv2D, MaxPooling2D\n",
    "from tensorflow.keras import regularizers, optimizers\n",
    "\n",
    "#!pip install scikit-plot\n",
    "import scikitplot as skplt"
   ]
  },
  {
   "cell_type": "markdown",
   "id": "84fa7881",
   "metadata": {},
   "source": [
    "# Download [Oxford-IIIT Pet Dataset](https://www.robots.ox.ac.uk/~vgg/data/pets/)\n",
    "\n",
    "37 clases de perros y gatos con aproximadamente 200 imágenes por clase. 7393 imágenes en total."
   ]
  },
  {
   "cell_type": "markdown",
   "id": "06921337",
   "metadata": {},
   "source": [
    "### 1) Download images"
   ]
  },
  {
   "cell_type": "code",
   "execution_count": 1,
   "id": "5735746c",
   "metadata": {},
   "outputs": [
    {
     "name": "stdout",
     "output_type": "stream",
     "text": [
      "--2021-09-22 13:01:32--  https://www.robots.ox.ac.uk/~vgg/data/pets/data/images.tar.gz\n",
      "SSL_INIT\n",
      "Cargado certificado CA '/etc/ssl/certs/ca-certificates.crt'\n",
      "Resolviendo www.robots.ox.ac.uk (www.robots.ox.ac.uk)... 129.67.94.2\n",
      "Conectando con www.robots.ox.ac.uk (www.robots.ox.ac.uk)[129.67.94.2]:443... conectado.\n",
      "Petición HTTP enviada, esperando respuesta... 200 OK\n",
      "Longitud: 791918971 (755M) [application/x-gzip]\n",
      "Grabando a: «STDOUT»\n",
      "\n",
      "-                   100%[===================>] 755,23M  7,89MB/s    en 85s     \n",
      "\n",
      "2021-09-22 13:02:57 (8,92 MB/s) - escritos a stdout [791918971/791918971]\n",
      "\n"
     ]
    }
   ],
   "source": [
    "!wget https://www.robots.ox.ac.uk/~vgg/data/pets/data/images.tar.gz -O - | tar -xz"
   ]
  },
  {
   "cell_type": "code",
   "execution_count": 2,
   "id": "326020e5",
   "metadata": {},
   "outputs": [
    {
     "name": "stdout",
     "output_type": "stream",
     "text": [
      "7393\r\n"
     ]
    }
   ],
   "source": [
    "!ls images | wc -l"
   ]
  },
  {
   "cell_type": "markdown",
   "id": "ed673a52",
   "metadata": {},
   "source": [
    "### 2) Download labels"
   ]
  },
  {
   "cell_type": "code",
   "execution_count": 3,
   "id": "5409457d",
   "metadata": {},
   "outputs": [
    {
     "name": "stdout",
     "output_type": "stream",
     "text": [
      "--2021-09-22 13:03:39--  https://www.robots.ox.ac.uk/~vgg/data/pets/data/annotations.tar.gz\n",
      "SSL_INIT\n",
      "Cargado certificado CA '/etc/ssl/certs/ca-certificates.crt'\n",
      "Resolviendo www.robots.ox.ac.uk (www.robots.ox.ac.uk)... 129.67.94.2\n",
      "Conectando con www.robots.ox.ac.uk (www.robots.ox.ac.uk)[129.67.94.2]:443... conectado.\n",
      "Petición HTTP enviada, esperando respuesta... 200 OK\n",
      "Longitud: 19173078 (18M) [application/x-gzip]\n",
      "Grabando a: «STDOUT»\n",
      "\n",
      "-                   100%[===================>]  18,28M  5,71MB/s    en 3,5s    \n",
      "\n",
      "2021-09-22 13:03:43 (5,28 MB/s) - escritos a stdout [19173078/19173078]\n",
      "\n"
     ]
    }
   ],
   "source": [
    "!wget https://www.robots.ox.ac.uk/~vgg/data/pets/data/annotations.tar.gz -O - | tar -xz"
   ]
  },
  {
   "cell_type": "code",
   "execution_count": 9,
   "id": "7c58daf5",
   "metadata": {},
   "outputs": [
    {
     "name": "stdout",
     "output_type": "stream",
     "text": [
      "Abyssinian_100 1 1 1\r\n",
      "Abyssinian_101 1 1 1\r\n",
      "Abyssinian_102 1 1 1\r\n",
      "Abyssinian_103 1 1 1\r\n",
      "Abyssinian_104 1 1 1\r\n",
      "Abyssinian_105 1 1 1\r\n",
      "Abyssinian_106 1 1 1\r\n",
      "Abyssinian_107 1 1 1\r\n",
      "Abyssinian_108 1 1 1\r\n",
      "Abyssinian_109 1 1 1\r\n"
     ]
    }
   ],
   "source": [
    "!head annotations/trainval.txt"
   ]
  },
  {
   "cell_type": "markdown",
   "id": "0bcaa553",
   "metadata": {},
   "source": [
    "# Create pandas Dataframe"
   ]
  },
  {
   "cell_type": "code",
   "execution_count": 2,
   "id": "93caea8c",
   "metadata": {
    "scrolled": true
   },
   "outputs": [
    {
     "name": "stdout",
     "output_type": "stream",
     "text": [
      "Train: 3680 Test: 3669\n"
     ]
    },
    {
     "data": {
      "text/html": [
       "<div>\n",
       "<style scoped>\n",
       "    .dataframe tbody tr th:only-of-type {\n",
       "        vertical-align: middle;\n",
       "    }\n",
       "\n",
       "    .dataframe tbody tr th {\n",
       "        vertical-align: top;\n",
       "    }\n",
       "\n",
       "    .dataframe thead th {\n",
       "        text-align: right;\n",
       "    }\n",
       "</style>\n",
       "<table border=\"1\" class=\"dataframe\">\n",
       "  <thead>\n",
       "    <tr style=\"text-align: right;\">\n",
       "      <th></th>\n",
       "      <th>Imagen</th>\n",
       "      <th>Animal</th>\n",
       "      <th>Raza</th>\n",
       "    </tr>\n",
       "  </thead>\n",
       "  <tbody>\n",
       "    <tr>\n",
       "      <th>3415</th>\n",
       "      <td>shiba_inu_183.jpg</td>\n",
       "      <td>Perro</td>\n",
       "      <td>shiba_inu</td>\n",
       "    </tr>\n",
       "    <tr>\n",
       "      <th>3251</th>\n",
       "      <td>saint_bernard_164.jpg</td>\n",
       "      <td>Perro</td>\n",
       "      <td>saint_bernard</td>\n",
       "    </tr>\n",
       "    <tr>\n",
       "      <th>862</th>\n",
       "      <td>japanese_chin_115.jpg</td>\n",
       "      <td>Perro</td>\n",
       "      <td>japanese_chin</td>\n",
       "    </tr>\n",
       "    <tr>\n",
       "      <th>1926</th>\n",
       "      <td>american_bulldog_184.jpg</td>\n",
       "      <td>Perro</td>\n",
       "      <td>american_bulldog</td>\n",
       "    </tr>\n",
       "    <tr>\n",
       "      <th>175</th>\n",
       "      <td>basset_hound_123.jpg</td>\n",
       "      <td>Perro</td>\n",
       "      <td>basset_hound</td>\n",
       "    </tr>\n",
       "    <tr>\n",
       "      <th>855</th>\n",
       "      <td>japanese_chin_109.jpg</td>\n",
       "      <td>Perro</td>\n",
       "      <td>japanese_chin</td>\n",
       "    </tr>\n",
       "    <tr>\n",
       "      <th>365</th>\n",
       "      <td>Bombay_114.jpg</td>\n",
       "      <td>Gato</td>\n",
       "      <td>Bombay</td>\n",
       "    </tr>\n",
       "    <tr>\n",
       "      <th>299</th>\n",
       "      <td>Bengal_145.jpg</td>\n",
       "      <td>Gato</td>\n",
       "      <td>Bengal</td>\n",
       "    </tr>\n",
       "    <tr>\n",
       "      <th>3133</th>\n",
       "      <td>Ragdoll_155.jpg</td>\n",
       "      <td>Gato</td>\n",
       "      <td>Ragdoll</td>\n",
       "    </tr>\n",
       "    <tr>\n",
       "      <th>1295</th>\n",
       "      <td>pug_146.jpg</td>\n",
       "      <td>Perro</td>\n",
       "      <td>pug</td>\n",
       "    </tr>\n",
       "  </tbody>\n",
       "</table>\n",
       "</div>"
      ],
      "text/plain": [
       "                        Imagen Animal              Raza\n",
       "3415         shiba_inu_183.jpg  Perro         shiba_inu\n",
       "3251     saint_bernard_164.jpg  Perro     saint_bernard\n",
       "862      japanese_chin_115.jpg  Perro     japanese_chin\n",
       "1926  american_bulldog_184.jpg  Perro  american_bulldog\n",
       "175       basset_hound_123.jpg  Perro      basset_hound\n",
       "855      japanese_chin_109.jpg  Perro     japanese_chin\n",
       "365             Bombay_114.jpg   Gato            Bombay\n",
       "299             Bengal_145.jpg   Gato            Bengal\n",
       "3133           Ragdoll_155.jpg   Gato           Ragdoll\n",
       "1295               pug_146.jpg  Perro               pug"
      ]
     },
     "execution_count": 2,
     "metadata": {},
     "output_type": "execute_result"
    }
   ],
   "source": [
    "#ID: 1:37 Class ids\n",
    "#SPECIES: 1:Cat 2:Dog\n",
    "#BREED ID: 1-25:Cat 1:12:Dog\n",
    "\n",
    "train = pd.read_csv(\"annotations/trainval.txt\", sep=' ', names=[\"Imagen\", \"RazaPG\", \"Animal\", \"Raza\"])\n",
    "test  = pd.read_csv(\"annotations/test.txt\", sep=' ', names=[\"Imagen\", \"RazaPG\", \"Animal\", \"Raza\"])\n",
    "\n",
    "train[\"Animal\"].replace({1: \"Gato\", 2: \"Perro\"}, inplace=True)\n",
    "test[\"Animal\"].replace({1: \"Gato\", 2: \"Perro\"}, inplace=True)\n",
    "\n",
    "train[\"Raza\"] = train.Imagen.str.replace('\\d+', '', regex=True).str[:-1]\n",
    "test[\"Raza\"]  = test.Imagen.str.replace('\\d+', '', regex=True).str[:-1]\n",
    "\n",
    "train[\"Imagen\"] = train.Imagen + \".jpg\"\n",
    "test[\"Imagen\"]  = test.Imagen + \".jpg\"\n",
    "\n",
    "train.drop(columns=['RazaPG'], inplace=True)\n",
    "test.drop(columns=['RazaPG'], inplace=True)\n",
    "\n",
    "print(\"Train:\", len(train), \"Test:\", len(test))\n",
    "train.sample(10)"
   ]
  },
  {
   "cell_type": "markdown",
   "id": "6ee6998a",
   "metadata": {},
   "source": [
    "# Usar solo los perros"
   ]
  },
  {
   "cell_type": "code",
   "execution_count": 3,
   "id": "49ccb381",
   "metadata": {},
   "outputs": [
    {
     "name": "stdout",
     "output_type": "stream",
     "text": [
      "Hay 25 razas distintas de Perro\n"
     ]
    }
   ],
   "source": [
    "ANIMAL = \"Perro\"\n",
    "\n",
    "train = train[train.Animal == ANIMAL]\n",
    "test  = test[test.Animal == ANIMAL]\n",
    "\n",
    "NUM_RAZAS = train.Raza.nunique()\n",
    "\n",
    "print(\"Hay\",NUM_RAZAS,\"razas distintas de\",ANIMAL)"
   ]
  },
  {
   "cell_type": "code",
   "execution_count": 4,
   "id": "31fa3b36",
   "metadata": {
    "scrolled": false
   },
   "outputs": [
    {
     "data": {
      "text/plain": [
       "american_bulldog              100\n",
       "american_pit_bull_terrier     100\n",
       "wheaten_terrier               100\n",
       "staffordshire_bull_terrier    100\n",
       "shiba_inu                     100\n",
       "scottish_terrier              100\n",
       "samoyed                       100\n",
       "saint_bernard                 100\n",
       "pug                           100\n",
       "pomeranian                    100\n",
       "miniature_pinscher            100\n",
       "leonberger                    100\n",
       "keeshond                      100\n",
       "japanese_chin                 100\n",
       "havanese                      100\n",
       "great_pyrenees                100\n",
       "german_shorthaired            100\n",
       "english_setter                100\n",
       "chihuahua                     100\n",
       "boxer                         100\n",
       "beagle                        100\n",
       "basset_hound                  100\n",
       "yorkshire_terrier             100\n",
       "newfoundland                   96\n",
       "english_cocker_spaniel         96\n",
       "Name: Raza, dtype: int64"
      ]
     },
     "execution_count": 4,
     "metadata": {},
     "output_type": "execute_result"
    }
   ],
   "source": [
    "train.Raza.value_counts()"
   ]
  },
  {
   "cell_type": "markdown",
   "id": "b5cbb411",
   "metadata": {},
   "source": [
    "# Keras dataset"
   ]
  },
  {
   "cell_type": "code",
   "execution_count": 5,
   "id": "8dc9416e",
   "metadata": {
    "scrolled": true
   },
   "outputs": [
    {
     "name": "stdout",
     "output_type": "stream",
     "text": [
      "Found 2492 validated image filenames belonging to 25 classes.\n",
      "Found 2486 validated image filenames belonging to 25 classes.\n"
     ]
    }
   ],
   "source": [
    "#datagen = ImageDataGenerator(rescale=1./255.)\n",
    "resnet50_prepro = keras.applications.resnet50.preprocess_input\n",
    "datagen = ImageDataGenerator(preprocessing_function=resnet50_prepro)\n",
    "\n",
    "IMG_SIZE = 120\n",
    "\n",
    "train_ds = datagen.flow_from_dataframe(dataframe=train,\n",
    "                                                 directory=\"./images\",\n",
    "                                                 x_col='Imagen',\n",
    "                                                 y_col=\"Raza\",\n",
    "                                                 batch_size=32,\n",
    "                                                 seed=42,\n",
    "                                                 shuffle=True,\n",
    "                                                 target_size=(IMG_SIZE,IMG_SIZE),\n",
    "                                                 class_mode='categorical')\n",
    "                                                  \n",
    "test_ds = datagen.flow_from_dataframe(dataframe=test,\n",
    "                                              directory=\"./images\",\n",
    "                                              x_col='Imagen',\n",
    "                                              y_col=\"Raza\",\n",
    "                                              batch_size=100,\n",
    "                                              seed=42,\n",
    "                                              shuffle=False,\n",
    "                                              target_size=(IMG_SIZE,IMG_SIZE),\n",
    "                                              class_mode='categorical')"
   ]
  },
  {
   "cell_type": "markdown",
   "id": "0853ad4f",
   "metadata": {},
   "source": [
    "# Create custom model (no es habitual)"
   ]
  },
  {
   "cell_type": "code",
   "execution_count": 6,
   "id": "b5fdd1a9",
   "metadata": {
    "scrolled": false
   },
   "outputs": [],
   "source": [
    "\"\"\"\n",
    "model = Sequential()\n",
    "model.add(Conv2D(32, (3, 3), padding='same',\n",
    "                 input_shape=(IMG_SIZE,IMG_SIZE,3)))\n",
    "model.add(Activation('relu'))\n",
    "model.add(Conv2D(32, (3, 3)))\n",
    "model.add(Activation('relu'))\n",
    "model.add(MaxPooling2D(pool_size=(2, 2)))\n",
    "model.add(Dropout(0.25))\n",
    "model.add(Conv2D(64, (3, 3), padding='same'))\n",
    "model.add(Activation('relu'))\n",
    "model.add(Conv2D(64, (3, 3)))\n",
    "model.add(Activation('relu'))\n",
    "model.add(MaxPooling2D(pool_size=(2, 2)))\n",
    "model.add(Dropout(0.25))\n",
    "model.add(Flatten())\n",
    "model.add(Dense(512))\n",
    "model.add(Activation('relu'))\n",
    "model.add(Dropout(0.5))\n",
    "model.add(Dense(NUM_RAZAS, activation='sigmoid'))\n",
    "model.compile(optimizers.Adam(1e-3),\n",
    "              loss=\"binary_crossentropy\",\n",
    "              metrics=[\"accuracy\"])\n",
    "\n",
    "model.summary()\n",
    "\"\"\";"
   ]
  },
  {
   "cell_type": "markdown",
   "id": "c9a63672",
   "metadata": {},
   "source": [
    "# Retrain existing pretrained model (Transfer leraning)"
   ]
  },
  {
   "cell_type": "code",
   "execution_count": 8,
   "id": "e47c6ad5",
   "metadata": {},
   "outputs": [],
   "source": [
    "######### BODY MODEL: PRETRAINED RESNET\n",
    "input_t = keras.Input(shape=(IMG_SIZE,IMG_SIZE,3))\n",
    "model_body = keras.applications.ResNet50(include_top=False,\n",
    "                                    weights=\"imagenet\",\n",
    "                                    input_tensor=input_t)\n",
    "######### FREEZE LAYERS\n",
    "for layer in model_body.layers[:143]:\n",
    "    layer.trainable = False\n",
    "    \n",
    "\n",
    "######### ADD CUSTOM HEAD\n",
    "model = keras.models.Sequential()\n",
    "model.add(model_body)\n",
    "model.add(keras.layers.Flatten())\n",
    "model.add(keras.layers.Dense(NUM_RAZAS, activation='softmax'))\n",
    "\n",
    "\n",
    "model.compile(optimizers.Adam(learning_rate=1e-3),\n",
    "              loss=\"categorical_crossentropy\", # binary_crossentropy\n",
    "              metrics=[\"accuracy\"])"
   ]
  },
  {
   "cell_type": "code",
   "execution_count": 9,
   "id": "8342e6c9",
   "metadata": {},
   "outputs": [
    {
     "name": "stdout",
     "output_type": "stream",
     "text": [
      "Model: \"sequential_1\"\n",
      "_________________________________________________________________\n",
      "Layer (type)                 Output Shape              Param #   \n",
      "=================================================================\n",
      "resnet50 (Functional)        (None, 4, 4, 2048)        23587712  \n",
      "_________________________________________________________________\n",
      "flatten_1 (Flatten)          (None, 32768)             0         \n",
      "_________________________________________________________________\n",
      "dense_1 (Dense)              (None, 25)                819225    \n",
      "=================================================================\n",
      "Total params: 24,406,937\n",
      "Trainable params: 15,795,225\n",
      "Non-trainable params: 8,611,712\n",
      "_________________________________________________________________\n"
     ]
    }
   ],
   "source": [
    "model.summary()"
   ]
  },
  {
   "cell_type": "code",
   "execution_count": 10,
   "id": "d2a3a129",
   "metadata": {},
   "outputs": [
    {
     "name": "stderr",
     "output_type": "stream",
     "text": [
      "2021-09-23 14:10:28.617038: I tensorflow/compiler/mlir/mlir_graph_optimization_pass.cc:185] None of the MLIR Optimization Passes are enabled (registered 2)\n"
     ]
    },
    {
     "name": "stdout",
     "output_type": "stream",
     "text": [
      "Epoch 1/5\n"
     ]
    },
    {
     "name": "stderr",
     "output_type": "stream",
     "text": [
      "2021-09-23 14:10:32.215645: I tensorflow/stream_executor/cuda/cuda_dnn.cc:369] Loaded cuDNN version 8202\n"
     ]
    },
    {
     "name": "stdout",
     "output_type": "stream",
     "text": [
      "78/78 [==============================] - 16s 146ms/step - loss: 3.7044 - accuracy: 0.5285 - val_loss: 996.4261 - val_accuracy: 0.1327\n",
      "Epoch 2/5\n",
      "78/78 [==============================] - 9s 115ms/step - loss: 1.0909 - accuracy: 0.9089 - val_loss: 90.6772 - val_accuracy: 0.4449\n",
      "Epoch 3/5\n",
      "78/78 [==============================] - 9s 115ms/step - loss: 0.8473 - accuracy: 0.9543 - val_loss: 5.2151 - val_accuracy: 0.5969\n",
      "Epoch 4/5\n",
      "78/78 [==============================] - 9s 115ms/step - loss: 0.4375 - accuracy: 0.9599 - val_loss: 2.5013 - val_accuracy: 0.6344\n",
      "Epoch 5/5\n",
      "78/78 [==============================] - 9s 114ms/step - loss: 0.2915 - accuracy: 0.9791 - val_loss: 2.7095 - val_accuracy: 0.6295\n"
     ]
    },
    {
     "data": {
      "text/plain": [
       "<keras.callbacks.History at 0x7ff90fa71d60>"
      ]
     },
     "execution_count": 10,
     "metadata": {},
     "output_type": "execute_result"
    }
   ],
   "source": [
    "model.fit(x=train_ds,\n",
    "          validation_data=test_ds,\n",
    "          epochs=5 # callbacks=callbacks\n",
    ")"
   ]
  },
  {
   "cell_type": "markdown",
   "id": "71106809",
   "metadata": {},
   "source": [
    "# Predict test data"
   ]
  },
  {
   "cell_type": "code",
   "execution_count": 11,
   "id": "b60f69ce",
   "metadata": {},
   "outputs": [
    {
     "data": {
      "text/plain": [
       "<BarContainer object of 25 artists>"
      ]
     },
     "execution_count": 11,
     "metadata": {},
     "output_type": "execute_result"
    },
    {
     "data": {
      "image/png": "[encoded data removed]",
      "text/plain": [
       "<Figure size 432x288 with 1 Axes>"
      ]
     },
     "metadata": {
      "needs_background": "light"
     },
     "output_type": "display_data"
    }
   ],
   "source": [
    "test_ds[0][1], \n",
    "\n",
    "p = model.predict(test_ds[0][0])\n",
    "\n",
    "plt.bar(np.arange(0,25), p[0])"
   ]
  },
  {
   "cell_type": "code",
   "execution_count": 13,
   "id": "c3f33a45",
   "metadata": {},
   "outputs": [
    {
     "data": {
      "text/plain": [
       "(2486, 25)"
      ]
     },
     "execution_count": 13,
     "metadata": {},
     "output_type": "execute_result"
    }
   ],
   "source": [
    "preds_probabilities = model.predict(test_ds)\n",
    "preds_probabilities.shape"
   ]
  },
  {
   "cell_type": "code",
   "execution_count": 14,
   "id": "0cec9a11",
   "metadata": {},
   "outputs": [
    {
     "data": {
      "text/plain": [
       "(2486,)"
      ]
     },
     "execution_count": 14,
     "metadata": {},
     "output_type": "execute_result"
    }
   ],
   "source": [
    "preds = preds_probabilities.argmax(axis=1)\n",
    "preds.shape"
   ]
  },
  {
   "cell_type": "code",
   "execution_count": 15,
   "id": "68f202ac",
   "metadata": {},
   "outputs": [
    {
     "data": {
      "text/plain": [
       "{'american_bulldog': 0,\n",
       " 'american_pit_bull_terrier': 1,\n",
       " 'basset_hound': 2,\n",
       " 'beagle': 3,\n",
       " 'boxer': 4,\n",
       " 'chihuahua': 5,\n",
       " 'english_cocker_spaniel': 6,\n",
       " 'english_setter': 7,\n",
       " 'german_shorthaired': 8,\n",
       " 'great_pyrenees': 9,\n",
       " 'havanese': 10,\n",
       " 'japanese_chin': 11,\n",
       " 'keeshond': 12,\n",
       " 'leonberger': 13,\n",
       " 'miniature_pinscher': 14,\n",
       " 'newfoundland': 15,\n",
       " 'pomeranian': 16,\n",
       " 'pug': 17,\n",
       " 'saint_bernard': 18,\n",
       " 'samoyed': 19,\n",
       " 'scottish_terrier': 20,\n",
       " 'shiba_inu': 21,\n",
       " 'staffordshire_bull_terrier': 22,\n",
       " 'wheaten_terrier': 23,\n",
       " 'yorkshire_terrier': 24}"
      ]
     },
     "execution_count": 15,
     "metadata": {},
     "output_type": "execute_result"
    }
   ],
   "source": [
    "train_ds.class_indices"
   ]
  },
  {
   "cell_type": "code",
   "execution_count": 21,
   "id": "342790f2",
   "metadata": {},
   "outputs": [
    {
     "data": {
      "text/plain": [
       "array(['american_bulldog', 'american_bulldog', 'american_bulldog', ...,\n",
       "       'yorkshire_terrier', 'keeshond', 'havanese'], dtype='<U26')"
      ]
     },
     "execution_count": 21,
     "metadata": {},
     "output_type": "execute_result"
    }
   ],
   "source": [
    "map_list = list(preds)\n",
    "map_fn   = {v: k for k, v in train_ds.class_indices.items()}.get\n",
    "preds_name = np.array(list(map(map_fn, map_list)))\n",
    "preds_name"
   ]
  },
  {
   "cell_type": "code",
   "execution_count": 22,
   "id": "21c38f0e",
   "metadata": {},
   "outputs": [
    {
     "data": {
      "text/plain": [
       "array(['american_bulldog', 'american_bulldog', 'american_bulldog', ...,\n",
       "       'yorkshire_terrier', 'yorkshire_terrier', 'yorkshire_terrier'],\n",
       "      dtype=object)"
      ]
     },
     "execution_count": 22,
     "metadata": {},
     "output_type": "execute_result"
    }
   ],
   "source": [
    "reals_name = test.Raza.values\n",
    "reals_name"
   ]
  },
  {
   "cell_type": "code",
   "execution_count": 24,
   "id": "5c1d74b2",
   "metadata": {},
   "outputs": [
    {
     "data": {
      "text/plain": [
       "0.6295253419147224"
      ]
     },
     "execution_count": 24,
     "metadata": {},
     "output_type": "execute_result"
    }
   ],
   "source": [
    "( preds_name == reals_name ).sum() / len(preds)"
   ]
  },
  {
   "cell_type": "markdown",
   "id": "1ec1f8d8",
   "metadata": {},
   "source": [
    "# Confussion matrix"
   ]
  },
  {
   "cell_type": "code",
   "execution_count": 33,
   "id": "773db8ff",
   "metadata": {},
   "outputs": [
    {
     "data": {
      "image/png": "[encoded data removed]",
      "text/plain": [
       "<Figure size 1152x1152 with 2 Axes>"
      ]
     },
     "metadata": {
      "needs_background": "light"
     },
     "output_type": "display_data"
    }
   ],
   "source": [
    "skplt.metrics.plot_confusion_matrix(y_true = reals_name,\n",
    "                                    y_pred = preds_name,\n",
    "                                    normalize = False,\n",
    "                                    hide_zeros = True,\n",
    "                                    figsize = (16,16),\n",
    "                                    x_tick_rotation = 45);"
   ]
  }
 ],
 "metadata": {
  "kernelspec": {
   "display_name": "Python 3 (ipykernel)",
   "language": "python",
   "name": "python3"
  },
  "language_info": {
   "codemirror_mode": {
    "name": "ipython",
    "version": 3
   },
   "file_extension": ".py",
   "mimetype": "text/x-python",
   "name": "python",
   "nbconvert_exporter": "python",
   "pygments_lexer": "ipython3",
   "version": "3.9.7"
  }
 },
 "nbformat": 4,
 "nbformat_minor": 5
}
