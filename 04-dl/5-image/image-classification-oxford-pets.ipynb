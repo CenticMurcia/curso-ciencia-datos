{
 "cells": [
  {
   "cell_type": "markdown",
   "id": "eccbe083",
   "metadata": {},
   "source": [
    "# Import libraries"
   ]
  },
  {
   "cell_type": "code",
   "execution_count": 1,
   "id": "7214ba7e",
   "metadata": {},
   "outputs": [],
   "source": [
    "import pandas as pd\n",
    "\n",
    "import tensorflow as tf\n",
    "from tensorflow import keras\n",
    "from tensorflow.keras import layers\n",
    "from tensorflow.keras.preprocessing.image import ImageDataGenerator\n",
    "from tensorflow.keras.models import Sequential\n",
    "from tensorflow.keras.layers import Dense, Activation, Flatten, Dropout, BatchNormalization, Conv2D, MaxPooling2D\n",
    "from tensorflow.keras import regularizers, optimizers"
   ]
  },
  {
   "cell_type": "markdown",
   "id": "84fa7881",
   "metadata": {},
   "source": [
    "# Download [Oxford-IIIT Pet Dataset](https://www.robots.ox.ac.uk/~vgg/data/pets/)\n",
    "\n",
    "37 clases de perros y gatos con aproximadamente 200 imágenes por clase. 7393 imágenes en total."
   ]
  },
  {
   "cell_type": "markdown",
   "id": "06921337",
   "metadata": {},
   "source": [
    "### 1) Download images"
   ]
  },
  {
   "cell_type": "code",
   "execution_count": 1,
   "id": "5735746c",
   "metadata": {},
   "outputs": [
    {
     "name": "stdout",
     "output_type": "stream",
     "text": [
      "--2021-09-22 13:01:32--  https://www.robots.ox.ac.uk/~vgg/data/pets/data/images.tar.gz\n",
      "SSL_INIT\n",
      "Cargado certificado CA '/etc/ssl/certs/ca-certificates.crt'\n",
      "Resolviendo www.robots.ox.ac.uk (www.robots.ox.ac.uk)... 129.67.94.2\n",
      "Conectando con www.robots.ox.ac.uk (www.robots.ox.ac.uk)[129.67.94.2]:443... conectado.\n",
      "Petición HTTP enviada, esperando respuesta... 200 OK\n",
      "Longitud: 791918971 (755M) [application/x-gzip]\n",
      "Grabando a: «STDOUT»\n",
      "\n",
      "-                   100%[===================>] 755,23M  7,89MB/s    en 85s     \n",
      "\n",
      "2021-09-22 13:02:57 (8,92 MB/s) - escritos a stdout [791918971/791918971]\n",
      "\n"
     ]
    }
   ],
   "source": [
    "!wget https://www.robots.ox.ac.uk/~vgg/data/pets/data/images.tar.gz -O - | tar -xz"
   ]
  },
  {
   "cell_type": "code",
   "execution_count": 2,
   "id": "326020e5",
   "metadata": {},
   "outputs": [
    {
     "name": "stdout",
     "output_type": "stream",
     "text": [
      "7393\r\n"
     ]
    }
   ],
   "source": [
    "!ls images | wc -l"
   ]
  },
  {
   "cell_type": "markdown",
   "id": "ed673a52",
   "metadata": {},
   "source": [
    "### 2) Download labels"
   ]
  },
  {
   "cell_type": "code",
   "execution_count": 3,
   "id": "5409457d",
   "metadata": {},
   "outputs": [
    {
     "name": "stdout",
     "output_type": "stream",
     "text": [
      "--2021-09-22 13:03:39--  https://www.robots.ox.ac.uk/~vgg/data/pets/data/annotations.tar.gz\n",
      "SSL_INIT\n",
      "Cargado certificado CA '/etc/ssl/certs/ca-certificates.crt'\n",
      "Resolviendo www.robots.ox.ac.uk (www.robots.ox.ac.uk)... 129.67.94.2\n",
      "Conectando con www.robots.ox.ac.uk (www.robots.ox.ac.uk)[129.67.94.2]:443... conectado.\n",
      "Petición HTTP enviada, esperando respuesta... 200 OK\n",
      "Longitud: 19173078 (18M) [application/x-gzip]\n",
      "Grabando a: «STDOUT»\n",
      "\n",
      "-                   100%[===================>]  18,28M  5,71MB/s    en 3,5s    \n",
      "\n",
      "2021-09-22 13:03:43 (5,28 MB/s) - escritos a stdout [19173078/19173078]\n",
      "\n"
     ]
    }
   ],
   "source": [
    "!wget https://www.robots.ox.ac.uk/~vgg/data/pets/data/annotations.tar.gz -O - | tar -xz"
   ]
  },
  {
   "cell_type": "code",
   "execution_count": 9,
   "id": "7c58daf5",
   "metadata": {},
   "outputs": [
    {
     "name": "stdout",
     "output_type": "stream",
     "text": [
      "Abyssinian_100 1 1 1\r\n",
      "Abyssinian_101 1 1 1\r\n",
      "Abyssinian_102 1 1 1\r\n",
      "Abyssinian_103 1 1 1\r\n",
      "Abyssinian_104 1 1 1\r\n",
      "Abyssinian_105 1 1 1\r\n",
      "Abyssinian_106 1 1 1\r\n",
      "Abyssinian_107 1 1 1\r\n",
      "Abyssinian_108 1 1 1\r\n",
      "Abyssinian_109 1 1 1\r\n"
     ]
    }
   ],
   "source": [
    "!head annotations/trainval.txt"
   ]
  },
  {
   "cell_type": "markdown",
   "id": "0bcaa553",
   "metadata": {},
   "source": [
    "# Create pandas Dataframe"
   ]
  },
  {
   "cell_type": "code",
   "execution_count": 2,
   "id": "93caea8c",
   "metadata": {
    "scrolled": true
   },
   "outputs": [
    {
     "name": "stdout",
     "output_type": "stream",
     "text": [
      "Train: 3680 Test: 3669\n"
     ]
    },
    {
     "data": {
      "text/html": [
       "<div>\n",
       "<style scoped>\n",
       "    .dataframe tbody tr th:only-of-type {\n",
       "        vertical-align: middle;\n",
       "    }\n",
       "\n",
       "    .dataframe tbody tr th {\n",
       "        vertical-align: top;\n",
       "    }\n",
       "\n",
       "    .dataframe thead th {\n",
       "        text-align: right;\n",
       "    }\n",
       "</style>\n",
       "<table border=\"1\" class=\"dataframe\">\n",
       "  <thead>\n",
       "    <tr style=\"text-align: right;\">\n",
       "      <th></th>\n",
       "      <th>Imagen</th>\n",
       "      <th>Animal</th>\n",
       "      <th>Raza</th>\n",
       "    </tr>\n",
       "  </thead>\n",
       "  <tbody>\n",
       "    <tr>\n",
       "      <th>47</th>\n",
       "      <td>Abyssinian_143.jpg</td>\n",
       "      <td>Gato</td>\n",
       "      <td>Abyssinian</td>\n",
       "    </tr>\n",
       "    <tr>\n",
       "      <th>415</th>\n",
       "      <td>boxer_115.jpg</td>\n",
       "      <td>Perro</td>\n",
       "      <td>boxer</td>\n",
       "    </tr>\n",
       "    <tr>\n",
       "      <th>1221</th>\n",
       "      <td>pomeranian_123.jpg</td>\n",
       "      <td>Perro</td>\n",
       "      <td>pomeranian</td>\n",
       "    </tr>\n",
       "    <tr>\n",
       "      <th>3595</th>\n",
       "      <td>wheaten_terrier_15.jpg</td>\n",
       "      <td>Perro</td>\n",
       "      <td>wheaten_terrier</td>\n",
       "    </tr>\n",
       "    <tr>\n",
       "      <th>3162</th>\n",
       "      <td>Ragdoll_185.jpg</td>\n",
       "      <td>Gato</td>\n",
       "      <td>Ragdoll</td>\n",
       "    </tr>\n",
       "    <tr>\n",
       "      <th>1749</th>\n",
       "      <td>wheaten_terrier_103.jpg</td>\n",
       "      <td>Perro</td>\n",
       "      <td>wheaten_terrier</td>\n",
       "    </tr>\n",
       "    <tr>\n",
       "      <th>2805</th>\n",
       "      <td>leonberger_164.jpg</td>\n",
       "      <td>Perro</td>\n",
       "      <td>leonberger</td>\n",
       "    </tr>\n",
       "    <tr>\n",
       "      <th>3376</th>\n",
       "      <td>scottish_terrier_187.jpg</td>\n",
       "      <td>Perro</td>\n",
       "      <td>scottish_terrier</td>\n",
       "    </tr>\n",
       "    <tr>\n",
       "      <th>2843</th>\n",
       "      <td>Maine_Coon_163.jpg</td>\n",
       "      <td>Gato</td>\n",
       "      <td>Maine_Coon</td>\n",
       "    </tr>\n",
       "    <tr>\n",
       "      <th>1642</th>\n",
       "      <td>Siamese_153.jpg</td>\n",
       "      <td>Gato</td>\n",
       "      <td>Siamese</td>\n",
       "    </tr>\n",
       "  </tbody>\n",
       "</table>\n",
       "</div>"
      ],
      "text/plain": [
       "                        Imagen Animal              Raza\n",
       "47          Abyssinian_143.jpg   Gato        Abyssinian\n",
       "415              boxer_115.jpg  Perro             boxer\n",
       "1221        pomeranian_123.jpg  Perro        pomeranian\n",
       "3595    wheaten_terrier_15.jpg  Perro   wheaten_terrier\n",
       "3162           Ragdoll_185.jpg   Gato           Ragdoll\n",
       "1749   wheaten_terrier_103.jpg  Perro   wheaten_terrier\n",
       "2805        leonberger_164.jpg  Perro        leonberger\n",
       "3376  scottish_terrier_187.jpg  Perro  scottish_terrier\n",
       "2843        Maine_Coon_163.jpg   Gato        Maine_Coon\n",
       "1642           Siamese_153.jpg   Gato           Siamese"
      ]
     },
     "execution_count": 2,
     "metadata": {},
     "output_type": "execute_result"
    }
   ],
   "source": [
    "#ID: 1:37 Class ids\n",
    "#SPECIES: 1:Cat 2:Dog\n",
    "#BREED ID: 1-25:Cat 1:12:Dog\n",
    "\n",
    "train = pd.read_csv(\"annotations/trainval.txt\", sep=' ', names=[\"Imagen\", \"RazaPG\", \"Animal\", \"Raza\"])\n",
    "test  = pd.read_csv(\"annotations/test.txt\", sep=' ', names=[\"Imagen\", \"RazaPG\", \"Animal\", \"Raza\"])\n",
    "\n",
    "train[\"Animal\"].replace({1: \"Gato\", 2: \"Perro\"}, inplace=True)\n",
    "test[\"Animal\"].replace({1: \"Gato\", 2: \"Perro\"}, inplace=True)\n",
    "\n",
    "train[\"Raza\"] = train.Imagen.str.replace('\\d+', '', regex=True).str[:-1]\n",
    "test[\"Raza\"]  = test.Imagen.str.replace('\\d+', '', regex=True).str[:-1]\n",
    "\n",
    "train[\"Imagen\"] = train.Imagen + \".jpg\"\n",
    "test[\"Imagen\"]  = test.Imagen + \".jpg\"\n",
    "\n",
    "train.drop(columns=['RazaPG'], inplace=True)\n",
    "test.drop(columns=['RazaPG'], inplace=True)\n",
    "\n",
    "print(\"Train:\", len(train), \"Test:\", len(test))\n",
    "train.sample(10)"
   ]
  },
  {
   "cell_type": "markdown",
   "id": "6ee6998a",
   "metadata": {},
   "source": [
    "# Usar solo los perros"
   ]
  },
  {
   "cell_type": "code",
   "execution_count": 3,
   "id": "49ccb381",
   "metadata": {},
   "outputs": [
    {
     "name": "stdout",
     "output_type": "stream",
     "text": [
      "Hay 25 razas distintas de Perro\n"
     ]
    }
   ],
   "source": [
    "ANIMAL = \"Perro\"\n",
    "\n",
    "train = train[train.Animal == ANIMAL]\n",
    "test  = test[test.Animal == ANIMAL]\n",
    "\n",
    "NUM_RAZAS = train.Raza.nunique()\n",
    "\n",
    "print(\"Hay\",NUM_RAZAS,\"razas distintas de\",ANIMAL)"
   ]
  },
  {
   "cell_type": "code",
   "execution_count": 4,
   "id": "31fa3b36",
   "metadata": {
    "scrolled": false
   },
   "outputs": [
    {
     "data": {
      "text/plain": [
       "american_bulldog              100\n",
       "american_pit_bull_terrier     100\n",
       "wheaten_terrier               100\n",
       "staffordshire_bull_terrier    100\n",
       "shiba_inu                     100\n",
       "scottish_terrier              100\n",
       "samoyed                       100\n",
       "saint_bernard                 100\n",
       "pug                           100\n",
       "pomeranian                    100\n",
       "miniature_pinscher            100\n",
       "leonberger                    100\n",
       "keeshond                      100\n",
       "japanese_chin                 100\n",
       "havanese                      100\n",
       "great_pyrenees                100\n",
       "german_shorthaired            100\n",
       "english_setter                100\n",
       "chihuahua                     100\n",
       "boxer                         100\n",
       "beagle                        100\n",
       "basset_hound                  100\n",
       "yorkshire_terrier             100\n",
       "newfoundland                   96\n",
       "english_cocker_spaniel         96\n",
       "Name: Raza, dtype: int64"
      ]
     },
     "execution_count": 4,
     "metadata": {},
     "output_type": "execute_result"
    }
   ],
   "source": [
    "train.Raza.value_counts()"
   ]
  },
  {
   "cell_type": "markdown",
   "id": "b5cbb411",
   "metadata": {},
   "source": [
    "# Keras dataset"
   ]
  },
  {
   "cell_type": "code",
   "execution_count": 5,
   "id": "8dc9416e",
   "metadata": {
    "scrolled": true
   },
   "outputs": [
    {
     "name": "stdout",
     "output_type": "stream",
     "text": [
      "Found 2492 validated image filenames belonging to 25 classes.\n",
      "Found 2486 validated image filenames belonging to 25 classes.\n"
     ]
    }
   ],
   "source": [
    "datagen = ImageDataGenerator(rescale=1./255.)\n",
    "\n",
    "IMG_SIZE = 120\n",
    "\n",
    "train_ds = datagen.flow_from_dataframe(dataframe=train,\n",
    "                                                 directory=\"./images\",\n",
    "                                                 x_col='Imagen',\n",
    "                                                 y_col=\"Raza\",\n",
    "                                                 batch_size=32,\n",
    "                                                 seed=42,\n",
    "                                                 shuffle=True,\n",
    "                                                 target_size=(IMG_SIZE,IMG_SIZE))\n",
    "                                                  \n",
    "test_ds = datagen.flow_from_dataframe(dataframe=test,\n",
    "                                              directory=\"./images\",\n",
    "                                              x_col='Imagen',\n",
    "                                              y_col=\"Raza\",\n",
    "                                              batch_size=1,\n",
    "                                              seed=42,\n",
    "                                              shuffle=False,\n",
    "                                              target_size=(IMG_SIZE,IMG_SIZE))"
   ]
  },
  {
   "cell_type": "markdown",
   "id": "0853ad4f",
   "metadata": {},
   "source": [
    "# Create model"
   ]
  },
  {
   "cell_type": "code",
   "execution_count": 7,
   "id": "b5fdd1a9",
   "metadata": {
    "scrolled": false
   },
   "outputs": [],
   "source": [
    "model = Sequential()\n",
    "model.add(Conv2D(32, (3, 3), padding='same',\n",
    "                 input_shape=(IMG_SIZE,IMG_SIZE,3)))\n",
    "model.add(Activation('relu'))\n",
    "model.add(Conv2D(32, (3, 3)))\n",
    "model.add(Activation('relu'))\n",
    "model.add(MaxPooling2D(pool_size=(2, 2)))\n",
    "model.add(Dropout(0.25))\n",
    "model.add(Conv2D(64, (3, 3), padding='same'))\n",
    "model.add(Activation('relu'))\n",
    "model.add(Conv2D(64, (3, 3)))\n",
    "model.add(Activation('relu'))\n",
    "model.add(MaxPooling2D(pool_size=(2, 2)))\n",
    "model.add(Dropout(0.25))\n",
    "model.add(Flatten())\n",
    "model.add(Dense(512))\n",
    "model.add(Activation('relu'))\n",
    "model.add(Dropout(0.5))\n",
    "model.add(Dense(NUM_RAZAS, activation='sigmoid'))\n",
    "model.compile(optimizers.Adam(1e-3),\n",
    "              loss=\"binary_crossentropy\",\n",
    "              metrics=[\"accuracy\"])"
   ]
  },
  {
   "cell_type": "code",
   "execution_count": 8,
   "id": "2d805b1e",
   "metadata": {},
   "outputs": [
    {
     "name": "stderr",
     "output_type": "stream",
     "text": [
      "2021-09-22 14:40:36.181914: I tensorflow/compiler/mlir/mlir_graph_optimization_pass.cc:185] None of the MLIR Optimization Passes are enabled (registered 2)\n"
     ]
    },
    {
     "name": "stdout",
     "output_type": "stream",
     "text": [
      "Epoch 1/10\n"
     ]
    },
    {
     "name": "stderr",
     "output_type": "stream",
     "text": [
      "2021-09-22 14:40:36.942470: I tensorflow/stream_executor/cuda/cuda_dnn.cc:369] Loaded cuDNN version 8202\n"
     ]
    },
    {
     "name": "stdout",
     "output_type": "stream",
     "text": [
      "78/78 [==============================] - 12s 135ms/step - loss: 0.1947 - accuracy: 0.0393 - val_loss: 0.1766 - val_accuracy: 0.0595\n",
      "Epoch 2/10\n",
      "78/78 [==============================] - 10s 127ms/step - loss: 0.1719 - accuracy: 0.0726 - val_loss: 0.1658 - val_accuracy: 0.1078\n",
      "Epoch 3/10\n",
      "78/78 [==============================] - 10s 126ms/step - loss: 0.1598 - accuracy: 0.1220 - val_loss: 0.1583 - val_accuracy: 0.1500\n",
      "Epoch 4/10\n",
      "78/78 [==============================] - 10s 126ms/step - loss: 0.1450 - accuracy: 0.2223 - val_loss: 0.1558 - val_accuracy: 0.1653\n",
      "Epoch 5/10\n",
      "78/78 [==============================] - 10s 128ms/step - loss: 0.1269 - accuracy: 0.3559 - val_loss: 0.1610 - val_accuracy: 0.1738\n",
      "Epoch 6/10\n",
      "78/78 [==============================] - 10s 127ms/step - loss: 0.1029 - accuracy: 0.5000 - val_loss: 0.1764 - val_accuracy: 0.1677\n",
      "Epoch 7/10\n",
      "78/78 [==============================] - 10s 128ms/step - loss: 0.0749 - accuracy: 0.6786 - val_loss: 0.2038 - val_accuracy: 0.1613\n",
      "Epoch 8/10\n",
      "78/78 [==============================] - 10s 126ms/step - loss: 0.0526 - accuracy: 0.8038 - val_loss: 0.2317 - val_accuracy: 0.1669\n",
      "Epoch 9/10\n",
      "78/78 [==============================] - 10s 125ms/step - loss: 0.0374 - accuracy: 0.8872 - val_loss: 0.2700 - val_accuracy: 0.1693\n",
      "Epoch 10/10\n",
      "78/78 [==============================] - 10s 124ms/step - loss: 0.0266 - accuracy: 0.9462 - val_loss: 0.3035 - val_accuracy: 0.1673\n"
     ]
    },
    {
     "data": {
      "text/plain": [
       "<keras.callbacks.History at 0x7f2d14466610>"
      ]
     },
     "execution_count": 8,
     "metadata": {},
     "output_type": "execute_result"
    }
   ],
   "source": [
    "model.fit(x=train_ds,\n",
    "          validation_data=test_ds,\n",
    "          epochs=10 # callbacks=callbacks\n",
    ")"
   ]
  },
  {
   "cell_type": "markdown",
   "id": "71106809",
   "metadata": {},
   "source": [
    "# Predict test data"
   ]
  },
  {
   "cell_type": "code",
   "execution_count": 32,
   "id": "b60f69ce",
   "metadata": {},
   "outputs": [
    {
     "data": {
      "text/plain": [
       "<BarContainer object of 25 artists>"
      ]
     },
     "execution_count": 32,
     "metadata": {},
     "output_type": "execute_result"
    },
    {
     "data": {
      "image/png": "[encoded data removed]",
      "text/plain": [
       "<Figure size 432x288 with 1 Axes>"
      ]
     },
     "metadata": {
      "needs_background": "light"
     },
     "output_type": "display_data"
    }
   ],
   "source": [
    "test_ds[0][1], \n",
    "\n",
    "p = model.predict(test_ds[0][0])\n",
    "\n",
    "plt.bar(np.arange(0,25), p[0])"
   ]
  },
  {
   "cell_type": "code",
   "execution_count": null,
   "id": "e84edef3",
   "metadata": {},
   "outputs": [],
   "source": [
    "preds_probabilities = model.predict(test_ds[])"
   ]
  },
  {
   "cell_type": "code",
   "execution_count": 9,
   "id": "c3f33a45",
   "metadata": {},
   "outputs": [
    {
     "data": {
      "text/plain": [
       "(2486, 25)"
      ]
     },
     "execution_count": 9,
     "metadata": {},
     "output_type": "execute_result"
    }
   ],
   "source": [
    "preds_probabilities = model.predict(test_ds)\n",
    "preds_probabilities.shape"
   ]
  },
  {
   "cell_type": "code",
   "execution_count": 25,
   "id": "ad794a24",
   "metadata": {
    "scrolled": false
   },
   "outputs": [
    {
     "data": {
      "text/plain": [
       "<BarContainer object of 25 artists>"
      ]
     },
     "execution_count": 25,
     "metadata": {},
     "output_type": "execute_result"
    },
    {
     "data": {
      "image/png": "[encoded data removed]",
      "text/plain": [
       "<Figure size 432x288 with 1 Axes>"
      ]
     },
     "metadata": {
      "needs_background": "light"
     },
     "output_type": "display_data"
    }
   ],
   "source": [
    "import matplotlib.pyplot as plt\n",
    "import numpy as np\n",
    "plt.bar(np.arange(0,25), preds_probabilities[0])"
   ]
  },
  {
   "cell_type": "code",
   "execution_count": 10,
   "id": "0cec9a11",
   "metadata": {},
   "outputs": [
    {
     "data": {
      "text/plain": [
       "(2486,)"
      ]
     },
     "execution_count": 10,
     "metadata": {},
     "output_type": "execute_result"
    }
   ],
   "source": [
    "preds = preds_probabilities.argmax(axis=1)\n",
    "preds.shape"
   ]
  },
  {
   "cell_type": "code",
   "execution_count": 16,
   "id": "57ca3775",
   "metadata": {},
   "outputs": [
    {
     "data": {
      "text/plain": [
       "array([18,  9, 16, ..., 14,  7, 15])"
      ]
     },
     "execution_count": 16,
     "metadata": {},
     "output_type": "execute_result"
    }
   ],
   "source": [
    "preds"
   ]
  },
  {
   "cell_type": "code",
   "execution_count": 34,
   "id": "d8bdf527",
   "metadata": {},
   "outputs": [],
   "source": [
    "#train_ds.class_indices"
   ]
  },
  {
   "cell_type": "code",
   "execution_count": 39,
   "id": "5c1d74b2",
   "metadata": {},
   "outputs": [
    {
     "data": {
      "text/plain": [
       "0.16733708769107"
      ]
     },
     "execution_count": 39,
     "metadata": {},
     "output_type": "execute_result"
    }
   ],
   "source": [
    "( preds == np.array(test_ds.labels) ).sum() / len(preds)"
   ]
  },
  {
   "cell_type": "code",
   "execution_count": 13,
   "id": "014ecc95",
   "metadata": {
    "scrolled": true
   },
   "outputs": [
    {
     "data": {
      "text/plain": [
       "98       american_bulldog\n",
       "99       american_bulldog\n",
       "100      american_bulldog\n",
       "101      american_bulldog\n",
       "102      american_bulldog\n",
       "              ...        \n",
       "3664    yorkshire_terrier\n",
       "3665    yorkshire_terrier\n",
       "3666    yorkshire_terrier\n",
       "3667    yorkshire_terrier\n",
       "3668    yorkshire_terrier\n",
       "Name: Raza, Length: 2486, dtype: object"
      ]
     },
     "execution_count": 13,
     "metadata": {},
     "output_type": "execute_result"
    }
   ],
   "source": [
    "reals = test.Raza # test_ds.labels\n",
    "reals"
   ]
  },
  {
   "cell_type": "code",
   "execution_count": 17,
   "id": "8c01687e",
   "metadata": {},
   "outputs": [
    {
     "data": {
      "text/plain": [
       "(2486,)"
      ]
     },
     "execution_count": 17,
     "metadata": {},
     "output_type": "execute_result"
    }
   ],
   "source": [
    "preds.argmax(axis=1).shape"
   ]
  }
 ],
 "metadata": {
  "kernelspec": {
   "display_name": "Python 3 (ipykernel)",
   "language": "python",
   "name": "python3"
  },
  "language_info": {
   "codemirror_mode": {
    "name": "ipython",
    "version": 3
   },
   "file_extension": ".py",
   "mimetype": "text/x-python",
   "name": "python",
   "nbconvert_exporter": "python",
   "pygments_lexer": "ipython3",
   "version": "3.9.7"
  }
 },
 "nbformat": 4,
 "nbformat_minor": 5
}
