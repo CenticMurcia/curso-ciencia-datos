{
 "cells": [
  {
   "cell_type": "code",
   "execution_count": 1,
   "metadata": {},
   "outputs": [],
   "source": [
    "import catalyst.data\n",
    "import catalyst.dl\n",
    "\n",
    "import torchvision\n",
    "import torch"
   ]
  },
  {
   "cell_type": "code",
   "execution_count": 5,
   "metadata": {},
   "outputs": [
    {
     "name": "stdout",
     "output_type": "stream",
     "text": [
      " ai-fall20\t\t\t  self-driving-car\r\n",
      " ai_teachers\t\t\t  strive-mask-dataset\r\n",
      " curso-ciencia-datos\t\t  udacity-self-driving-car-engineer\r\n",
      "'mask face recognition dataset'\r\n"
     ]
    }
   ],
   "source": [
    "!ls ../../.."
   ]
  },
  {
   "cell_type": "code",
   "execution_count": 7,
   "metadata": {},
   "outputs": [
    {
     "name": "stdout",
     "output_type": "stream",
     "text": [
      "AFDB_face_dataset  AFDB_masked_face_dataset  Readme.docx\r\n"
     ]
    }
   ],
   "source": [
    "!ls \"../../../mask face recognition dataset\""
   ]
  },
  {
   "cell_type": "code",
   "execution_count": 8,
   "metadata": {},
   "outputs": [],
   "source": [
    "ds = torchvision.datasets.ImageFolder(\n",
    "    root = \"../../../mask face recognition dataset\",\n",
    "    transform = torchvision.transforms.Compose([\n",
    "        torchvision.transforms.Resize(size=(100,100)),\n",
    "        torchvision.transforms.ToTensor(),\n",
    "    ])\n",
    ")"
   ]
  },
  {
   "cell_type": "code",
   "execution_count": 9,
   "metadata": {},
   "outputs": [
    {
     "data": {
      "text/plain": [
       "torch.Size([3, 100, 100])"
      ]
     },
     "execution_count": 9,
     "metadata": {},
     "output_type": "execute_result"
    }
   ],
   "source": [
    "ds[0][0].shape"
   ]
  },
  {
   "cell_type": "code",
   "execution_count": 10,
   "metadata": {},
   "outputs": [
    {
     "data": {
      "text/plain": [
       "['AFDB_face_dataset', 'AFDB_masked_face_dataset']"
      ]
     },
     "execution_count": 10,
     "metadata": {},
     "output_type": "execute_result"
    }
   ],
   "source": [
    "ds.classes"
   ]
  },
  {
   "cell_type": "code",
   "execution_count": 7,
   "metadata": {},
   "outputs": [
    {
     "data": {
      "text/plain": [
       "{'AFDB_face_dataset': 0, 'AFDB_masked_face_dataset': 1}"
      ]
     },
     "execution_count": 7,
     "metadata": {},
     "output_type": "execute_result"
    }
   ],
   "source": [
    "ds.class_to_idx"
   ]
  },
  {
   "cell_type": "code",
   "execution_count": 11,
   "metadata": {},
   "outputs": [
    {
     "data": {
      "text/plain": [
       "[1, 1, 1, 1, 1]"
      ]
     },
     "execution_count": 11,
     "metadata": {},
     "output_type": "execute_result"
    }
   ],
   "source": [
    "ds.targets[-5:]"
   ]
  },
  {
   "cell_type": "code",
   "execution_count": 40,
   "metadata": {},
   "outputs": [],
   "source": [
    "BATCH_SIZE = 10\n",
    "\n",
    "dl = torch.utils.data.DataLoader(\n",
    "    dataset     = ds,\n",
    "    batch_size  = BATCH_SIZE,\n",
    "    #sampler     = torch.utils.data.WeightedRandomSampler(weights = , num_samples =, replacement=True, generator=None)\n",
    "    #sampler     = catalyst.data.sampler.BalanceClassSampler(labels=ds.targets, mode=\"upsampling\"),\n",
    "    #sampler     = catalyst.data.sampler.BalanceClassSampler(labels=ds.targets, mode=\"downsampling\"),\n",
    "    #sampler     = catalyst.data.sampler.BalanceBatchSampler(labels=ds.targets, p=2, k=3),\n",
    "    #sampler     = catalyst.data.sampler.DynamicBalanceClassSampler(labels=ds.targets, exp_lambda=0.9, start_epoch=0, max_d=None, mode='downsampling', ignore_warning=False),\n",
    "    num_workers = 4,\n",
    "    #shuffle     = True\n",
    "    drop_last   = False\n",
    ")"
   ]
  },
  {
   "cell_type": "code",
   "execution_count": 41,
   "metadata": {},
   "outputs": [
    {
     "data": {
      "text/plain": [
       "(92671, 9268, 9267.1)"
      ]
     },
     "execution_count": 41,
     "metadata": {},
     "output_type": "execute_result"
    }
   ],
   "source": [
    "len(ds), len(dl), len(ds)/BATCH_SIZE"
   ]
  },
  {
   "cell_type": "code",
   "execution_count": 80,
   "metadata": {},
   "outputs": [
    {
     "name": "stdout",
     "output_type": "stream",
     "text": [
      "tensor([0, 1, 0, 0, 0, 1, 1, 0, 1, 0])\n",
      "torch.Size([10, 3, 100, 100])\n"
     ]
    }
   ],
   "source": [
    "for data, target in dl:\n",
    "    print(target)\n",
    "    print(data.shape)\n",
    "    break"
   ]
  },
  {
   "cell_type": "code",
   "execution_count": 11,
   "metadata": {},
   "outputs": [
    {
     "data": {
      "text/plain": [
       "catalyst.data.sampler.BalanceClassSampler"
      ]
     },
     "execution_count": 11,
     "metadata": {},
     "output_type": "execute_result"
    }
   ],
   "source": [
    "catalyst.data.sampler.BalanceClassSampler"
   ]
  },
  {
   "cell_type": "code",
   "execution_count": 12,
   "metadata": {},
   "outputs": [
    {
     "data": {
      "text/plain": [
       "<module 'catalyst.dl' from '/home/javi/.local/lib/python3.9/site-packages/catalyst/dl/__init__.py'>"
      ]
     },
     "execution_count": 12,
     "metadata": {},
     "output_type": "execute_result"
    }
   ],
   "source": [
    "catalyst.dl"
   ]
  },
  {
   "cell_type": "code",
   "execution_count": null,
   "metadata": {},
   "outputs": [],
   "source": []
  }
 ],
 "metadata": {
  "kernelspec": {
   "display_name": "Python 3",
   "language": "python",
   "name": "python3"
  },
  "language_info": {
   "codemirror_mode": {
    "name": "ipython",
    "version": 3
   },
   "file_extension": ".py",
   "mimetype": "text/x-python",
   "name": "python",
   "nbconvert_exporter": "python",
   "pygments_lexer": "ipython3",
   "version": "3.9.2"
  }
 },
 "nbformat": 4,
 "nbformat_minor": 4
}
