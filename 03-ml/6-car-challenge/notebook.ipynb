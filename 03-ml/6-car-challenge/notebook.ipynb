{
 "cells": [
  {
   "cell_type": "markdown",
   "id": "471d87ac",
   "metadata": {},
   "source": [
    "# Import libraries"
   ]
  },
  {
   "cell_type": "code",
   "execution_count": 1,
   "id": "dcf9dcbb",
   "metadata": {},
   "outputs": [],
   "source": [
    "import numpy as np\n",
    "import pandas as pd\n",
    "\n",
    "from sklearn import preprocessing\n",
    "from sklearn import model_selection # train_test_split\n",
    "from sklearn import pipeline\n",
    "from sklearn import ensemble   # RandomForestClassifier\n",
    "from sklearn import impute\n",
    "from sklearn import compose\n",
    "from sklearn import metrics    # accuracy_score, balanced_accuracy_score, plot_confusion_matrix\n",
    "from sklearn import inspection # permutation_importance, plot_partial_dependence\n",
    "\n",
    "from sklearn import set_config\n",
    "set_config(display='diagram')"
   ]
  },
  {
   "cell_type": "markdown",
   "id": "533efc36",
   "metadata": {},
   "source": [
    "# Get data"
   ]
  },
  {
   "cell_type": "code",
   "execution_count": 2,
   "id": "c3483a78",
   "metadata": {},
   "outputs": [],
   "source": [
    "path = \"../../Datasets/Tabular/car-challenge/\""
   ]
  },
  {
   "cell_type": "code",
   "execution_count": 3,
   "id": "c227798f",
   "metadata": {},
   "outputs": [],
   "source": [
    "##### DOWNLOAD DATASET. ONLY IN COLAB !!!\n",
    "#!wget -P $path https://raw.githubusercontent.com/CenticMurcia/curso-ciencia-datos/master/Datasets/Tabular/car-challenge/train.csv\n",
    "#!wget -P $path https://raw.githubusercontent.com/CenticMurcia/curso-ciencia-datos/master/Datasets/Tabular/car-challenge/test.csv"
   ]
  },
  {
   "cell_type": "code",
   "execution_count": 4,
   "id": "c0fc6936",
   "metadata": {},
   "outputs": [],
   "source": [
    "train = pd.read_csv(path + \"train.csv\", index_col=\"Id\")\n",
    "test  = pd.read_csv(path + \"test.csv\",  index_col=\"Id\")"
   ]
  },
  {
   "cell_type": "code",
   "execution_count": 5,
   "id": "7b007e3e",
   "metadata": {},
   "outputs": [
    {
     "data": {
      "text/html": [
       "<div>\n",
       "<style scoped>\n",
       "    .dataframe tbody tr th:only-of-type {\n",
       "        vertical-align: middle;\n",
       "    }\n",
       "\n",
       "    .dataframe tbody tr th {\n",
       "        vertical-align: top;\n",
       "    }\n",
       "\n",
       "    .dataframe thead th {\n",
       "        text-align: right;\n",
       "    }\n",
       "</style>\n",
       "<table border=\"1\" class=\"dataframe\">\n",
       "  <thead>\n",
       "    <tr style=\"text-align: right;\">\n",
       "      <th></th>\n",
       "      <th>Marca</th>\n",
       "      <th>Modelo</th>\n",
       "      <th>Tiempo</th>\n",
       "      <th>Provincia</th>\n",
       "      <th>Localidad</th>\n",
       "      <th>Año</th>\n",
       "      <th>Kms</th>\n",
       "      <th>Cambio</th>\n",
       "      <th>Cv</th>\n",
       "      <th>Combust</th>\n",
       "      <th>Puertas</th>\n",
       "      <th>Vendedor</th>\n",
       "      <th>Precio</th>\n",
       "    </tr>\n",
       "    <tr>\n",
       "      <th>Id</th>\n",
       "      <th></th>\n",
       "      <th></th>\n",
       "      <th></th>\n",
       "      <th></th>\n",
       "      <th></th>\n",
       "      <th></th>\n",
       "      <th></th>\n",
       "      <th></th>\n",
       "      <th></th>\n",
       "      <th></th>\n",
       "      <th></th>\n",
       "      <th></th>\n",
       "      <th></th>\n",
       "    </tr>\n",
       "  </thead>\n",
       "  <tbody>\n",
       "    <tr>\n",
       "      <th>0</th>\n",
       "      <td>OPEL</td>\n",
       "      <td>VECTRA</td>\n",
       "      <td>33 días</td>\n",
       "      <td>la_rioja</td>\n",
       "      <td>Arnedo</td>\n",
       "      <td>2005.0</td>\n",
       "      <td>200000.0</td>\n",
       "      <td>manual</td>\n",
       "      <td>120.0</td>\n",
       "      <td>diesel</td>\n",
       "      <td>5.0</td>\n",
       "      <td>Profesional</td>\n",
       "      <td>2200</td>\n",
       "    </tr>\n",
       "  </tbody>\n",
       "</table>\n",
       "</div>"
      ],
      "text/plain": [
       "   Marca  Modelo   Tiempo Provincia Localidad     Año       Kms  Cambio  \\\n",
       "Id                                                                        \n",
       "0   OPEL  VECTRA  33 días  la_rioja    Arnedo  2005.0  200000.0  manual   \n",
       "\n",
       "       Cv Combust  Puertas     Vendedor  Precio  \n",
       "Id                                               \n",
       "0   120.0  diesel      5.0  Profesional    2200  "
      ]
     },
     "execution_count": 5,
     "metadata": {},
     "output_type": "execute_result"
    }
   ],
   "source": [
    "train.head(1)"
   ]
  },
  {
   "cell_type": "markdown",
   "id": "2d7b2680",
   "metadata": {},
   "source": [
    "# Preprocessing"
   ]
  },
  {
   "cell_type": "code",
   "execution_count": 6,
   "id": "ac7058e3",
   "metadata": {},
   "outputs": [],
   "source": [
    "# 'Modelo',  'Localidad' 'Puertas',\n",
    "cat_vars = ['Marca',  'Provincia', 'Cambio', 'Combust',  'Vendedor']\n",
    "num_vars = ['Año', 'Kms', 'Cv']\n",
    "target_var = 'Precio'\n",
    "\n",
    "x = train[cat_vars + num_vars]\n",
    "y = train[target_var]"
   ]
  },
  {
   "cell_type": "code",
   "execution_count": 7,
   "id": "f7ac8519",
   "metadata": {
    "scrolled": false
   },
   "outputs": [
    {
     "name": "stdout",
     "output_type": "stream",
     "text": [
      "<class 'pandas.core.frame.DataFrame'>\n",
      "Int64Index: 160435 entries, 0 to 160434\n",
      "Data columns (total 8 columns):\n",
      " #   Column     Non-Null Count   Dtype  \n",
      "---  ------     --------------   -----  \n",
      " 0   Marca      160435 non-null  object \n",
      " 1   Provincia  160435 non-null  object \n",
      " 2   Cambio     160375 non-null  object \n",
      " 3   Combust    160413 non-null  object \n",
      " 4   Vendedor   160409 non-null  object \n",
      " 5   Año        157104 non-null  float64\n",
      " 6   Kms        150278 non-null  float64\n",
      " 7   Cv         145378 non-null  float64\n",
      "dtypes: float64(3), object(5)\n",
      "memory usage: 11.0+ MB\n"
     ]
    }
   ],
   "source": [
    "x.info()"
   ]
  },
  {
   "cell_type": "code",
   "execution_count": 8,
   "id": "499cdc0e",
   "metadata": {},
   "outputs": [],
   "source": [
    "num_preprocessing = pipeline.Pipeline(steps=[\n",
    "    ('imputer', impute.SimpleImputer(strategy='median')),\n",
    "    ('encoder', preprocessing.StandardScaler())\n",
    "])\n",
    "\n",
    "cat_preporcessing = pipeline.Pipeline(steps=[\n",
    "    ('imputer', impute.SimpleImputer(strategy='constant', fill_value='missing')),\n",
    "    ('encoder', preprocessing.OrdinalEncoder())\n",
    "])\n",
    "\n",
    "preprocessor = compose.ColumnTransformer(transformers=[\n",
    "    ('num', num_preprocessing, num_vars),\n",
    "    ('cat', cat_preporcessing, cat_vars)\n",
    "])"
   ]
  },
  {
   "cell_type": "markdown",
   "id": "b9b7a533",
   "metadata": {},
   "source": [
    "# Select train (80%) and validation (20%)"
   ]
  },
  {
   "cell_type": "code",
   "execution_count": 9,
   "id": "c99e07d8",
   "metadata": {},
   "outputs": [],
   "source": [
    "x_train, x_valid, y_train, y_valid = model_selection.train_test_split(x, y,\n",
    "                                                      test_size=0.2,\n",
    "                                                      random_state=0)"
   ]
  },
  {
   "cell_type": "markdown",
   "id": "88627f07",
   "metadata": {},
   "source": [
    "# Train some ML model"
   ]
  },
  {
   "cell_type": "code",
   "execution_count": 12,
   "id": "59e2cd99",
   "metadata": {},
   "outputs": [
    {
     "data": {
      "text/html": [
       "<style>#sk-f94a139f-d2de-4b72-968c-c3e1fc906364 {color: black;background-color: white;}#sk-f94a139f-d2de-4b72-968c-c3e1fc906364 pre{padding: 0;}#sk-f94a139f-d2de-4b72-968c-c3e1fc906364 div.sk-toggleable {background-color: white;}#sk-f94a139f-d2de-4b72-968c-c3e1fc906364 label.sk-toggleable__label {cursor: pointer;display: block;width: 100%;margin-bottom: 0;padding: 0.2em 0.3em;box-sizing: border-box;text-align: center;}#sk-f94a139f-d2de-4b72-968c-c3e1fc906364 div.sk-toggleable__content {max-height: 0;max-width: 0;overflow: hidden;text-align: left;background-color: #f0f8ff;}#sk-f94a139f-d2de-4b72-968c-c3e1fc906364 div.sk-toggleable__content pre {margin: 0.2em;color: black;border-radius: 0.25em;background-color: #f0f8ff;}#sk-f94a139f-d2de-4b72-968c-c3e1fc906364 input.sk-toggleable__control:checked~div.sk-toggleable__content {max-height: 200px;max-width: 100%;overflow: auto;}#sk-f94a139f-d2de-4b72-968c-c3e1fc906364 div.sk-estimator input.sk-toggleable__control:checked~label.sk-toggleable__label {background-color: #d4ebff;}#sk-f94a139f-d2de-4b72-968c-c3e1fc906364 div.sk-label input.sk-toggleable__control:checked~label.sk-toggleable__label {background-color: #d4ebff;}#sk-f94a139f-d2de-4b72-968c-c3e1fc906364 input.sk-hidden--visually {border: 0;clip: rect(1px 1px 1px 1px);clip: rect(1px, 1px, 1px, 1px);height: 1px;margin: -1px;overflow: hidden;padding: 0;position: absolute;width: 1px;}#sk-f94a139f-d2de-4b72-968c-c3e1fc906364 div.sk-estimator {font-family: monospace;background-color: #f0f8ff;margin: 0.25em 0.25em;border: 1px dotted black;border-radius: 0.25em;box-sizing: border-box;}#sk-f94a139f-d2de-4b72-968c-c3e1fc906364 div.sk-estimator:hover {background-color: #d4ebff;}#sk-f94a139f-d2de-4b72-968c-c3e1fc906364 div.sk-parallel-item::after {content: \"\";width: 100%;border-bottom: 1px solid gray;flex-grow: 1;}#sk-f94a139f-d2de-4b72-968c-c3e1fc906364 div.sk-label:hover label.sk-toggleable__label {background-color: #d4ebff;}#sk-f94a139f-d2de-4b72-968c-c3e1fc906364 div.sk-serial::before {content: \"\";position: absolute;border-left: 1px solid gray;box-sizing: border-box;top: 2em;bottom: 0;left: 50%;}#sk-f94a139f-d2de-4b72-968c-c3e1fc906364 div.sk-serial {display: flex;flex-direction: column;align-items: center;background-color: white;}#sk-f94a139f-d2de-4b72-968c-c3e1fc906364 div.sk-item {z-index: 1;}#sk-f94a139f-d2de-4b72-968c-c3e1fc906364 div.sk-parallel {display: flex;align-items: stretch;justify-content: center;background-color: white;}#sk-f94a139f-d2de-4b72-968c-c3e1fc906364 div.sk-parallel-item {display: flex;flex-direction: column;position: relative;background-color: white;}#sk-f94a139f-d2de-4b72-968c-c3e1fc906364 div.sk-parallel-item:first-child::after {align-self: flex-end;width: 50%;}#sk-f94a139f-d2de-4b72-968c-c3e1fc906364 div.sk-parallel-item:last-child::after {align-self: flex-start;width: 50%;}#sk-f94a139f-d2de-4b72-968c-c3e1fc906364 div.sk-parallel-item:only-child::after {width: 0;}#sk-f94a139f-d2de-4b72-968c-c3e1fc906364 div.sk-dashed-wrapped {border: 1px dashed gray;margin: 0.2em;box-sizing: border-box;padding-bottom: 0.1em;background-color: white;position: relative;}#sk-f94a139f-d2de-4b72-968c-c3e1fc906364 div.sk-label label {font-family: monospace;font-weight: bold;background-color: white;display: inline-block;line-height: 1.2em;}#sk-f94a139f-d2de-4b72-968c-c3e1fc906364 div.sk-label-container {position: relative;z-index: 2;text-align: center;}#sk-f94a139f-d2de-4b72-968c-c3e1fc906364 div.sk-container {display: inline-block;position: relative;}</style><div id=\"sk-f94a139f-d2de-4b72-968c-c3e1fc906364\" class\"sk-top-container\"><div class=\"sk-container\"><div class=\"sk-item sk-dashed-wrapped\"><div class=\"sk-label-container\"><div class=\"sk-label sk-toggleable\"><input class=\"sk-toggleable__control sk-hidden--visually\" id=\"fde3e9c4-3678-4bcf-be8d-47fba8ad3b04\" type=\"checkbox\" ><label class=\"sk-toggleable__label\" for=\"fde3e9c4-3678-4bcf-be8d-47fba8ad3b04\">Pipeline</label><div class=\"sk-toggleable__content\"><pre>Pipeline(steps=[('preprocessor',\n",
       "                 ColumnTransformer(transformers=[('num',\n",
       "                                                  Pipeline(steps=[('imputer',\n",
       "                                                                   SimpleImputer(strategy='median')),\n",
       "                                                                  ('encoder',\n",
       "                                                                   StandardScaler())]),\n",
       "                                                  ['Año', 'Kms', 'Cv']),\n",
       "                                                 ('cat',\n",
       "                                                  Pipeline(steps=[('imputer',\n",
       "                                                                   SimpleImputer(fill_value='missing',\n",
       "                                                                                 strategy='constant')),\n",
       "                                                                  ('encoder',\n",
       "                                                                   OrdinalEncoder())]),\n",
       "                                                  ['Marca', 'Provincia',\n",
       "                                                   'Cambio', 'Combust',\n",
       "                                                   'Vendedor'])])),\n",
       "                ('classifier', RandomForestRegressor(n_jobs=-1))])</pre></div></div></div><div class=\"sk-serial\"><div class=\"sk-item sk-dashed-wrapped\"><div class=\"sk-label-container\"><div class=\"sk-label sk-toggleable\"><input class=\"sk-toggleable__control sk-hidden--visually\" id=\"b5ac2b51-6719-414b-ada0-067070f795d0\" type=\"checkbox\" ><label class=\"sk-toggleable__label\" for=\"b5ac2b51-6719-414b-ada0-067070f795d0\">preprocessor: ColumnTransformer</label><div class=\"sk-toggleable__content\"><pre>ColumnTransformer(transformers=[('num',\n",
       "                                 Pipeline(steps=[('imputer',\n",
       "                                                  SimpleImputer(strategy='median')),\n",
       "                                                 ('encoder',\n",
       "                                                  StandardScaler())]),\n",
       "                                 ['Año', 'Kms', 'Cv']),\n",
       "                                ('cat',\n",
       "                                 Pipeline(steps=[('imputer',\n",
       "                                                  SimpleImputer(fill_value='missing',\n",
       "                                                                strategy='constant')),\n",
       "                                                 ('encoder',\n",
       "                                                  OrdinalEncoder())]),\n",
       "                                 ['Marca', 'Provincia', 'Cambio', 'Combust',\n",
       "                                  'Vendedor'])])</pre></div></div></div><div class=\"sk-parallel\"><div class=\"sk-parallel-item\"><div class=\"sk-item\"><div class=\"sk-label-container\"><div class=\"sk-label sk-toggleable\"><input class=\"sk-toggleable__control sk-hidden--visually\" id=\"50abfa17-f213-48f3-89ce-b010c017fefe\" type=\"checkbox\" ><label class=\"sk-toggleable__label\" for=\"50abfa17-f213-48f3-89ce-b010c017fefe\">num</label><div class=\"sk-toggleable__content\"><pre>['Año', 'Kms', 'Cv']</pre></div></div></div><div class=\"sk-serial\"><div class=\"sk-item\"><div class=\"sk-serial\"><div class=\"sk-item\"><div class=\"sk-estimator sk-toggleable\"><input class=\"sk-toggleable__control sk-hidden--visually\" id=\"bb91ef57-3847-43f8-953c-376a331a87f3\" type=\"checkbox\" ><label class=\"sk-toggleable__label\" for=\"bb91ef57-3847-43f8-953c-376a331a87f3\">SimpleImputer</label><div class=\"sk-toggleable__content\"><pre>SimpleImputer(strategy='median')</pre></div></div></div><div class=\"sk-item\"><div class=\"sk-estimator sk-toggleable\"><input class=\"sk-toggleable__control sk-hidden--visually\" id=\"fcb5a7a8-b547-4b9c-9f17-0b88e76f6981\" type=\"checkbox\" ><label class=\"sk-toggleable__label\" for=\"fcb5a7a8-b547-4b9c-9f17-0b88e76f6981\">StandardScaler</label><div class=\"sk-toggleable__content\"><pre>StandardScaler()</pre></div></div></div></div></div></div></div></div><div class=\"sk-parallel-item\"><div class=\"sk-item\"><div class=\"sk-label-container\"><div class=\"sk-label sk-toggleable\"><input class=\"sk-toggleable__control sk-hidden--visually\" id=\"4c3e1e33-bfca-4d7d-86fc-991e1307e527\" type=\"checkbox\" ><label class=\"sk-toggleable__label\" for=\"4c3e1e33-bfca-4d7d-86fc-991e1307e527\">cat</label><div class=\"sk-toggleable__content\"><pre>['Marca', 'Provincia', 'Cambio', 'Combust', 'Vendedor']</pre></div></div></div><div class=\"sk-serial\"><div class=\"sk-item\"><div class=\"sk-serial\"><div class=\"sk-item\"><div class=\"sk-estimator sk-toggleable\"><input class=\"sk-toggleable__control sk-hidden--visually\" id=\"60985ff4-585b-48ac-a694-e5aee6e812e9\" type=\"checkbox\" ><label class=\"sk-toggleable__label\" for=\"60985ff4-585b-48ac-a694-e5aee6e812e9\">SimpleImputer</label><div class=\"sk-toggleable__content\"><pre>SimpleImputer(fill_value='missing', strategy='constant')</pre></div></div></div><div class=\"sk-item\"><div class=\"sk-estimator sk-toggleable\"><input class=\"sk-toggleable__control sk-hidden--visually\" id=\"ef0c6481-8153-4153-afa5-ec96eff7cdb0\" type=\"checkbox\" ><label class=\"sk-toggleable__label\" for=\"ef0c6481-8153-4153-afa5-ec96eff7cdb0\">OrdinalEncoder</label><div class=\"sk-toggleable__content\"><pre>OrdinalEncoder()</pre></div></div></div></div></div></div></div></div></div></div><div class=\"sk-item\"><div class=\"sk-estimator sk-toggleable\"><input class=\"sk-toggleable__control sk-hidden--visually\" id=\"654ed476-f9aa-45ba-9064-abfa5175af1b\" type=\"checkbox\" ><label class=\"sk-toggleable__label\" for=\"654ed476-f9aa-45ba-9064-abfa5175af1b\">RandomForestRegressor</label><div class=\"sk-toggleable__content\"><pre>RandomForestRegressor(n_jobs=-1)</pre></div></div></div></div></div></div></div>"
      ],
      "text/plain": [
       "Pipeline(steps=[('preprocessor',\n",
       "                 ColumnTransformer(transformers=[('num',\n",
       "                                                  Pipeline(steps=[('imputer',\n",
       "                                                                   SimpleImputer(strategy='median')),\n",
       "                                                                  ('encoder',\n",
       "                                                                   StandardScaler())]),\n",
       "                                                  ['Año', 'Kms', 'Cv']),\n",
       "                                                 ('cat',\n",
       "                                                  Pipeline(steps=[('imputer',\n",
       "                                                                   SimpleImputer(fill_value='missing',\n",
       "                                                                                 strategy='constant')),\n",
       "                                                                  ('encoder',\n",
       "                                                                   OrdinalEncoder())]),\n",
       "                                                  ['Marca', 'Provincia',\n",
       "                                                   'Cambio', 'Combust',\n",
       "                                                   'Vendedor'])])),\n",
       "                ('classifier', RandomForestRegressor(n_jobs=-1))])"
      ]
     },
     "execution_count": 12,
     "metadata": {},
     "output_type": "execute_result"
    }
   ],
   "source": [
    "model = ensemble.RandomForestRegressor(n_jobs=-1)\n",
    "\n",
    "prep_model = pipeline.Pipeline(steps=[\n",
    "    ('preprocessor', preprocessor),\n",
    "    ('classifier', ensemble.RandomForestRegressor(\n",
    "                              n_estimators=100,\n",
    "                              n_jobs=-1\n",
    "    ))\n",
    "])\n",
    "\n",
    "prep_model"
   ]
  },
  {
   "cell_type": "code",
   "execution_count": 11,
   "id": "53f00a74",
   "metadata": {},
   "outputs": [],
   "source": [
    "prep_model.fit(x_train, y_train);"
   ]
  },
  {
   "cell_type": "markdown",
   "id": "cf1decd5",
   "metadata": {},
   "source": [
    "# Evaluate model"
   ]
  },
  {
   "cell_type": "code",
   "execution_count": 21,
   "id": "e3ebfd44",
   "metadata": {},
   "outputs": [
    {
     "data": {
      "text/plain": [
       "array([ 2561.78, 27537.7 ,  2902.38, ..., 25961.  ,  9164.77,  5215.5 ])"
      ]
     },
     "execution_count": 21,
     "metadata": {},
     "output_type": "execute_result"
    }
   ],
   "source": [
    "preds = prep_model.predict(x_valid)\n",
    "preds"
   ]
  },
  {
   "cell_type": "code",
   "execution_count": 22,
   "id": "9e65b153",
   "metadata": {},
   "outputs": [
    {
     "data": {
      "text/plain": [
       "0.201460949426968"
      ]
     },
     "execution_count": 22,
     "metadata": {},
     "output_type": "execute_result"
    }
   ],
   "source": [
    "metrics.mean_squared_log_error(y_valid, preds)"
   ]
  }
 ],
 "metadata": {
  "kernelspec": {
   "display_name": "Python 3 (ipykernel)",
   "language": "python",
   "name": "python3"
  },
  "language_info": {
   "codemirror_mode": {
    "name": "ipython",
    "version": 3
   },
   "file_extension": ".py",
   "mimetype": "text/x-python",
   "name": "python",
   "nbconvert_exporter": "python",
   "pygments_lexer": "ipython3",
   "version": "3.9.7"
  }
 },
 "nbformat": 4,
 "nbformat_minor": 5
}
