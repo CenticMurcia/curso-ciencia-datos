{
 "cells": [
  {
   "cell_type": "markdown",
   "id": "471d87ac",
   "metadata": {},
   "source": [
    "# Import libraries"
   ]
  },
  {
   "cell_type": "code",
   "execution_count": 1,
   "id": "dcf9dcbb",
   "metadata": {},
   "outputs": [],
   "source": [
    "import numpy as np\n",
    "import pandas as pd\n",
    "\n",
    "from sklearn import preprocessing\n",
    "from sklearn import model_selection # train_test_split\n",
    "from sklearn import pipeline\n",
    "from sklearn import ensemble   # RandomForestClassifier\n",
    "from sklearn import impute\n",
    "from sklearn import compose\n",
    "from sklearn import metrics    # accuracy_score, balanced_accuracy_score, plot_confusion_matrix\n",
    "from sklearn import inspection # permutation_importance, plot_partial_dependence"
   ]
  },
  {
   "cell_type": "markdown",
   "id": "533efc36",
   "metadata": {},
   "source": [
    "# Get data"
   ]
  },
  {
   "cell_type": "code",
   "execution_count": 10,
   "id": "c3483a78",
   "metadata": {},
   "outputs": [],
   "source": [
    "path = \"../../Datasets/Tabular/car-challenge/\""
   ]
  },
  {
   "cell_type": "code",
   "execution_count": 11,
   "id": "c227798f",
   "metadata": {},
   "outputs": [],
   "source": [
    "##### DOWNLOAD DATASET. ONLY IN COLAB !!!\n",
    "#!wget -P $path https://raw.githubusercontent.com/CenticMurcia/curso-ciencia-datos/master/Datasets/Tabular/car-challenge/train.csv\n",
    "#!wget -P $path https://raw.githubusercontent.com/CenticMurcia/curso-ciencia-datos/master/Datasets/Tabular/car-challenge/test.csv"
   ]
  },
  {
   "cell_type": "code",
   "execution_count": 12,
   "id": "c0fc6936",
   "metadata": {},
   "outputs": [],
   "source": [
    "train = pd.read_csv(path + \"train.csv\", index_col=\"Id\")\n",
    "test  = pd.read_csv(path + \"test.csv\",  index_col=\"Id\")"
   ]
  },
  {
   "cell_type": "code",
   "execution_count": 14,
   "id": "7b007e3e",
   "metadata": {},
   "outputs": [
    {
     "data": {
      "text/html": [
       "<div>\n",
       "<style scoped>\n",
       "    .dataframe tbody tr th:only-of-type {\n",
       "        vertical-align: middle;\n",
       "    }\n",
       "\n",
       "    .dataframe tbody tr th {\n",
       "        vertical-align: top;\n",
       "    }\n",
       "\n",
       "    .dataframe thead th {\n",
       "        text-align: right;\n",
       "    }\n",
       "</style>\n",
       "<table border=\"1\" class=\"dataframe\">\n",
       "  <thead>\n",
       "    <tr style=\"text-align: right;\">\n",
       "      <th></th>\n",
       "      <th>Marca</th>\n",
       "      <th>Modelo</th>\n",
       "      <th>Tiempo</th>\n",
       "      <th>Provincia</th>\n",
       "      <th>Localidad</th>\n",
       "      <th>Año</th>\n",
       "      <th>Kms</th>\n",
       "      <th>Cambio</th>\n",
       "      <th>Cv</th>\n",
       "      <th>Combust</th>\n",
       "      <th>Puertas</th>\n",
       "      <th>Vendedor</th>\n",
       "      <th>Precio</th>\n",
       "    </tr>\n",
       "    <tr>\n",
       "      <th>Id</th>\n",
       "      <th></th>\n",
       "      <th></th>\n",
       "      <th></th>\n",
       "      <th></th>\n",
       "      <th></th>\n",
       "      <th></th>\n",
       "      <th></th>\n",
       "      <th></th>\n",
       "      <th></th>\n",
       "      <th></th>\n",
       "      <th></th>\n",
       "      <th></th>\n",
       "      <th></th>\n",
       "    </tr>\n",
       "  </thead>\n",
       "  <tbody>\n",
       "    <tr>\n",
       "      <th>0</th>\n",
       "      <td>OPEL</td>\n",
       "      <td>VECTRA</td>\n",
       "      <td>33 días</td>\n",
       "      <td>la_rioja</td>\n",
       "      <td>Arnedo</td>\n",
       "      <td>2005.0</td>\n",
       "      <td>200000.0</td>\n",
       "      <td>manual</td>\n",
       "      <td>120.0</td>\n",
       "      <td>diesel</td>\n",
       "      <td>5.0</td>\n",
       "      <td>Profesional</td>\n",
       "      <td>2200</td>\n",
       "    </tr>\n",
       "  </tbody>\n",
       "</table>\n",
       "</div>"
      ],
      "text/plain": [
       "   Marca  Modelo   Tiempo Provincia Localidad     Año       Kms  Cambio  \\\n",
       "Id                                                                        \n",
       "0   OPEL  VECTRA  33 días  la_rioja    Arnedo  2005.0  200000.0  manual   \n",
       "\n",
       "       Cv Combust  Puertas     Vendedor  Precio  \n",
       "Id                                               \n",
       "0   120.0  diesel      5.0  Profesional    2200  "
      ]
     },
     "execution_count": 14,
     "metadata": {},
     "output_type": "execute_result"
    }
   ],
   "source": [
    "train.head(1)"
   ]
  },
  {
   "cell_type": "markdown",
   "id": "2d7b2680",
   "metadata": {},
   "source": [
    "# Preprocessing"
   ]
  },
  {
   "cell_type": "code",
   "execution_count": 15,
   "id": "ac7058e3",
   "metadata": {},
   "outputs": [],
   "source": [
    "# 'Modelo',  'Localidad' 'Puertas',\n",
    "cat_vars = ['Marca',  'Provincia', 'Cambio', 'Combust',  'Vendedor']\n",
    "num_vars = ['Año', 'Kms', 'Cv']\n",
    "target_var = 'Precio'\n",
    "\n",
    "x = train[cat_vars + num_vars]\n",
    "y = train[target_var]"
   ]
  },
  {
   "cell_type": "code",
   "execution_count": 16,
   "id": "f7ac8519",
   "metadata": {
    "scrolled": false
   },
   "outputs": [
    {
     "name": "stdout",
     "output_type": "stream",
     "text": [
      "<class 'pandas.core.frame.DataFrame'>\n",
      "Int64Index: 160435 entries, 0 to 160434\n",
      "Data columns (total 8 columns):\n",
      " #   Column     Non-Null Count   Dtype  \n",
      "---  ------     --------------   -----  \n",
      " 0   Marca      160435 non-null  object \n",
      " 1   Provincia  160435 non-null  object \n",
      " 2   Cambio     160375 non-null  object \n",
      " 3   Combust    160413 non-null  object \n",
      " 4   Vendedor   160409 non-null  object \n",
      " 5   Año        157104 non-null  float64\n",
      " 6   Kms        150278 non-null  float64\n",
      " 7   Cv         145378 non-null  float64\n",
      "dtypes: float64(3), object(5)\n",
      "memory usage: 11.0+ MB\n"
     ]
    }
   ],
   "source": [
    "x.info()"
   ]
  },
  {
   "cell_type": "code",
   "execution_count": 17,
   "id": "499cdc0e",
   "metadata": {},
   "outputs": [],
   "source": [
    "num_preprocessing = pipeline.Pipeline(steps=[\n",
    "    ('imputer', impute.SimpleImputer(strategy='median')),\n",
    "    ('encoder', preprocessing.StandardScaler())\n",
    "])\n",
    "\n",
    "cat_preporcessing = pipeline.Pipeline(steps=[\n",
    "    ('imputer', impute.SimpleImputer(strategy='constant', fill_value='missing')),\n",
    "    ('encoder', preprocessing.OrdinalEncoder())\n",
    "])\n",
    "\n",
    "preprocessor = compose.ColumnTransformer(transformers=[\n",
    "    ('num', num_preprocessing, num_vars),\n",
    "    ('cat', cat_preporcessing, cat_vars)\n",
    "])"
   ]
  },
  {
   "cell_type": "markdown",
   "id": "b9b7a533",
   "metadata": {},
   "source": [
    "# Select train (80%) and validation (20%)"
   ]
  },
  {
   "cell_type": "code",
   "execution_count": 18,
   "id": "c99e07d8",
   "metadata": {},
   "outputs": [],
   "source": [
    "x_train, x_valid, y_train, y_valid = model_selection.train_test_split(x, y,\n",
    "                                                      test_size=0.2,\n",
    "                                                      random_state=0)"
   ]
  },
  {
   "cell_type": "markdown",
   "id": "88627f07",
   "metadata": {},
   "source": [
    "# Train some ML model"
   ]
  },
  {
   "cell_type": "code",
   "execution_count": 19,
   "id": "59e2cd99",
   "metadata": {},
   "outputs": [],
   "source": [
    "model = ensemble.RandomForestRegressor(n_jobs=-1)\n",
    "\n",
    "prep_model = pipeline.Pipeline(steps=[\n",
    "    ('preprocessor', preprocessor),\n",
    "    ('classifier', ensemble.RandomForestRegressor(\n",
    "                              n_estimators=100,\n",
    "                              n_jobs=-1\n",
    "    ))\n",
    "])"
   ]
  },
  {
   "cell_type": "code",
   "execution_count": 20,
   "id": "53f00a74",
   "metadata": {},
   "outputs": [],
   "source": [
    "prep_model.fit(x_train, y_train);"
   ]
  },
  {
   "cell_type": "markdown",
   "id": "cf1decd5",
   "metadata": {},
   "source": [
    "# Evaluate model"
   ]
  },
  {
   "cell_type": "code",
   "execution_count": 21,
   "id": "e3ebfd44",
   "metadata": {},
   "outputs": [
    {
     "data": {
      "text/plain": [
       "array([ 2561.78, 27537.7 ,  2902.38, ..., 25961.  ,  9164.77,  5215.5 ])"
      ]
     },
     "execution_count": 21,
     "metadata": {},
     "output_type": "execute_result"
    }
   ],
   "source": [
    "preds = prep_model.predict(x_valid)\n",
    "preds"
   ]
  },
  {
   "cell_type": "code",
   "execution_count": 22,
   "id": "9e65b153",
   "metadata": {},
   "outputs": [
    {
     "data": {
      "text/plain": [
       "0.201460949426968"
      ]
     },
     "execution_count": 22,
     "metadata": {},
     "output_type": "execute_result"
    }
   ],
   "source": [
    "metrics.mean_squared_log_error(y_valid, preds)"
   ]
  }
 ],
 "metadata": {
  "kernelspec": {
   "display_name": "Python 3 (ipykernel)",
   "language": "python",
   "name": "python3"
  },
  "language_info": {
   "codemirror_mode": {
    "name": "ipython",
    "version": 3
   },
   "file_extension": ".py",
   "mimetype": "text/x-python",
   "name": "python",
   "nbconvert_exporter": "python",
   "pygments_lexer": "ipython3",
   "version": "3.9.7"
  }
 },
 "nbformat": 4,
 "nbformat_minor": 5
}
