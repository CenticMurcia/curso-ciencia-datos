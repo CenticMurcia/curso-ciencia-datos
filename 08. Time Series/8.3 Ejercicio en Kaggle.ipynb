{
 "cells": [
  {
   "cell_type": "markdown",
   "metadata": {},
   "source": [
    "# RETO DE SERIES TEMPORALES"
   ]
  },
  {
   "cell_type": "markdown",
   "metadata": {},
   "source": [
    "## Hourly Energy Consumption\n",
    "Over 10 years of hourly energy consumption data from PJM in Megawatts: \n",
    "- Competición en Kaggle: [LINK](https://www.kaggle.com/robikscube/hourly-energy-consumption)\n",
    "- Notebook de ejemplo con una resolución usando Prophet: [LINK](https://www.kaggle.com/robikscube/time-series-forecasting-with-prophet)"
   ]
  },
  {
   "cell_type": "code",
   "execution_count": null,
   "metadata": {},
   "outputs": [],
   "source": []
  }
 ],
 "metadata": {
  "kernelspec": {
   "display_name": "Python 3",
   "language": "python",
   "name": "python3"
  },
  "language_info": {
   "codemirror_mode": {
    "name": "ipython",
    "version": 3
   },
   "file_extension": ".py",
   "mimetype": "text/x-python",
   "name": "python",
   "nbconvert_exporter": "python",
   "pygments_lexer": "ipython3",
   "version": "3.6.9"
  }
 },
 "nbformat": 4,
 "nbformat_minor": 2
}
