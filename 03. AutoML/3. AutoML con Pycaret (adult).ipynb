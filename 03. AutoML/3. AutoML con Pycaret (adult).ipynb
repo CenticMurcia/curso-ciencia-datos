{
 "cells": [
  {
   "cell_type": "markdown",
   "metadata": {
    "colab_type": "text",
    "id": "Y57RMM1LEQmR"
   },
   "source": [
    "#  2.1 AutoML con Pycaret\n",
    "### Clasificacion del uso de la tarjeta de crédito"
   ]
  },
  {
   "cell_type": "code",
   "execution_count": 1,
   "metadata": {},
   "outputs": [],
   "source": [
    "#!pip install pycaret"
   ]
  },
  {
   "cell_type": "code",
   "execution_count": 2,
   "metadata": {},
   "outputs": [],
   "source": [
    "import pandas as pd\n",
    "from sklearn.model_selection import train_test_split\n",
    "\n",
    "from pycaret.classification import *"
   ]
  },
  {
   "cell_type": "markdown",
   "metadata": {
    "colab_type": "text",
    "id": "Ui_rALqYEQmv"
   },
   "source": [
    "# Obtención de los datos"
   ]
  },
  {
   "cell_type": "code",
   "execution_count": 3,
   "metadata": {},
   "outputs": [
    {
     "name": "stdout",
     "output_type": "stream",
     "text": [
      "Filas dataset: 48842\n"
     ]
    },
    {
     "data": {
      "text/html": [
       "<div>\n",
       "<style scoped>\n",
       "    .dataframe tbody tr th:only-of-type {\n",
       "        vertical-align: middle;\n",
       "    }\n",
       "\n",
       "    .dataframe tbody tr th {\n",
       "        vertical-align: top;\n",
       "    }\n",
       "\n",
       "    .dataframe thead th {\n",
       "        text-align: right;\n",
       "    }\n",
       "</style>\n",
       "<table border=\"1\" class=\"dataframe\">\n",
       "  <thead>\n",
       "    <tr style=\"text-align: right;\">\n",
       "      <th></th>\n",
       "      <th>age</th>\n",
       "      <th>workclass</th>\n",
       "      <th>fnlwgt</th>\n",
       "      <th>education</th>\n",
       "      <th>educational-num</th>\n",
       "      <th>marital-status</th>\n",
       "      <th>occupation</th>\n",
       "      <th>relationship</th>\n",
       "      <th>race</th>\n",
       "      <th>gender</th>\n",
       "      <th>capital-gain</th>\n",
       "      <th>capital-loss</th>\n",
       "      <th>hours-per-week</th>\n",
       "      <th>native-country</th>\n",
       "      <th>income</th>\n",
       "    </tr>\n",
       "  </thead>\n",
       "  <tbody>\n",
       "    <tr>\n",
       "      <th>0</th>\n",
       "      <td>25</td>\n",
       "      <td>Private</td>\n",
       "      <td>226802</td>\n",
       "      <td>11th</td>\n",
       "      <td>7</td>\n",
       "      <td>Never-married</td>\n",
       "      <td>Machine-op-inspct</td>\n",
       "      <td>Own-child</td>\n",
       "      <td>Black</td>\n",
       "      <td>Male</td>\n",
       "      <td>0</td>\n",
       "      <td>0</td>\n",
       "      <td>40</td>\n",
       "      <td>United-States</td>\n",
       "      <td>&lt;=50K</td>\n",
       "    </tr>\n",
       "    <tr>\n",
       "      <th>1</th>\n",
       "      <td>38</td>\n",
       "      <td>Private</td>\n",
       "      <td>89814</td>\n",
       "      <td>HS-grad</td>\n",
       "      <td>9</td>\n",
       "      <td>Married-civ-spouse</td>\n",
       "      <td>Farming-fishing</td>\n",
       "      <td>Husband</td>\n",
       "      <td>White</td>\n",
       "      <td>Male</td>\n",
       "      <td>0</td>\n",
       "      <td>0</td>\n",
       "      <td>50</td>\n",
       "      <td>United-States</td>\n",
       "      <td>&lt;=50K</td>\n",
       "    </tr>\n",
       "    <tr>\n",
       "      <th>2</th>\n",
       "      <td>28</td>\n",
       "      <td>Local-gov</td>\n",
       "      <td>336951</td>\n",
       "      <td>Assoc-acdm</td>\n",
       "      <td>12</td>\n",
       "      <td>Married-civ-spouse</td>\n",
       "      <td>Protective-serv</td>\n",
       "      <td>Husband</td>\n",
       "      <td>White</td>\n",
       "      <td>Male</td>\n",
       "      <td>0</td>\n",
       "      <td>0</td>\n",
       "      <td>40</td>\n",
       "      <td>United-States</td>\n",
       "      <td>&gt;50K</td>\n",
       "    </tr>\n",
       "    <tr>\n",
       "      <th>3</th>\n",
       "      <td>44</td>\n",
       "      <td>Private</td>\n",
       "      <td>160323</td>\n",
       "      <td>Some-college</td>\n",
       "      <td>10</td>\n",
       "      <td>Married-civ-spouse</td>\n",
       "      <td>Machine-op-inspct</td>\n",
       "      <td>Husband</td>\n",
       "      <td>Black</td>\n",
       "      <td>Male</td>\n",
       "      <td>7688</td>\n",
       "      <td>0</td>\n",
       "      <td>40</td>\n",
       "      <td>United-States</td>\n",
       "      <td>&gt;50K</td>\n",
       "    </tr>\n",
       "    <tr>\n",
       "      <th>4</th>\n",
       "      <td>18</td>\n",
       "      <td>?</td>\n",
       "      <td>103497</td>\n",
       "      <td>Some-college</td>\n",
       "      <td>10</td>\n",
       "      <td>Never-married</td>\n",
       "      <td>?</td>\n",
       "      <td>Own-child</td>\n",
       "      <td>White</td>\n",
       "      <td>Female</td>\n",
       "      <td>0</td>\n",
       "      <td>0</td>\n",
       "      <td>30</td>\n",
       "      <td>United-States</td>\n",
       "      <td>&lt;=50K</td>\n",
       "    </tr>\n",
       "  </tbody>\n",
       "</table>\n",
       "</div>"
      ],
      "text/plain": [
       "   age  workclass  fnlwgt     education  educational-num      marital-status  \\\n",
       "0   25    Private  226802          11th                7       Never-married   \n",
       "1   38    Private   89814       HS-grad                9  Married-civ-spouse   \n",
       "2   28  Local-gov  336951    Assoc-acdm               12  Married-civ-spouse   \n",
       "3   44    Private  160323  Some-college               10  Married-civ-spouse   \n",
       "4   18          ?  103497  Some-college               10       Never-married   \n",
       "\n",
       "          occupation relationship   race  gender  capital-gain  capital-loss  \\\n",
       "0  Machine-op-inspct    Own-child  Black    Male             0             0   \n",
       "1    Farming-fishing      Husband  White    Male             0             0   \n",
       "2    Protective-serv      Husband  White    Male             0             0   \n",
       "3  Machine-op-inspct      Husband  Black    Male          7688             0   \n",
       "4                  ?    Own-child  White  Female             0             0   \n",
       "\n",
       "   hours-per-week native-country income  \n",
       "0              40  United-States  <=50K  \n",
       "1              50  United-States  <=50K  \n",
       "2              40  United-States   >50K  \n",
       "3              40  United-States   >50K  \n",
       "4              30  United-States  <=50K  "
      ]
     },
     "execution_count": 3,
     "metadata": {},
     "output_type": "execute_result"
    }
   ],
   "source": [
    "df = pd.read_csv(\"../data/adult.csv\")\n",
    "print(\"Filas dataset:\", len(df))\n",
    "df.head()"
   ]
  },
  {
   "cell_type": "code",
   "execution_count": 4,
   "metadata": {
    "colab": {
     "base_uri": "https://localhost:8080/",
     "height": 211
    },
    "colab_type": "code",
    "id": "lUvE187JEQm3",
    "outputId": "8741262c-0e33-4ec0-b54d-3c8fb41e52c0"
   },
   "outputs": [
    {
     "name": "stdout",
     "output_type": "stream",
     "text": [
      "Filas train: 39073\n",
      "Filas valid: 9769\n"
     ]
    }
   ],
   "source": [
    "#train_df = df.sample(frac=0.8, random_state=0)\n",
    "#test_df = df.drop(train_df.index)\n",
    "train_df, test_df = train_test_split(df, test_size=0.2, random_state=0)\n",
    "\n",
    "train_df.reset_index(inplace=True, drop=True)\n",
    "test_df.reset_index(inplace=True, drop=True)\n",
    "\n",
    "print(\"Filas train:\", len(train_df))\n",
    "print(\"Filas valid:\", len(test_df))"
   ]
  },
  {
   "cell_type": "markdown",
   "metadata": {
    "colab_type": "text",
    "id": "y9s9wNcjEQn0"
   },
   "source": [
    "# Preprocesamiento de los datos"
   ]
  },
  {
   "cell_type": "code",
   "execution_count": 5,
   "metadata": {
    "colab": {
     "base_uri": "https://localhost:8080/",
     "height": 803
    },
    "colab_type": "code",
    "id": "k2IuvfDHEQoO",
    "outputId": "c7754ae9-b060-4218-b6f0-de65a815aa3a",
    "scrolled": false
   },
   "outputs": [
    {
     "data": {
      "text/html": [
       "<style  type=\"text/css\" >\n",
       "</style><table id=\"T_87750c76_2230_11eb_b3a0_e0d55e0b36ae\" ><thead>    <tr>        <th class=\"blank level0\" ></th>        <th class=\"col_heading level0 col0\" >Description</th>        <th class=\"col_heading level0 col1\" >Value</th>    </tr></thead><tbody>\n",
       "                <tr>\n",
       "                        <th id=\"T_87750c76_2230_11eb_b3a0_e0d55e0b36aelevel0_row0\" class=\"row_heading level0 row0\" >0</th>\n",
       "                        <td id=\"T_87750c76_2230_11eb_b3a0_e0d55e0b36aerow0_col0\" class=\"data row0 col0\" >session_id</td>\n",
       "                        <td id=\"T_87750c76_2230_11eb_b3a0_e0d55e0b36aerow0_col1\" class=\"data row0 col1\" >123</td>\n",
       "            </tr>\n",
       "            <tr>\n",
       "                        <th id=\"T_87750c76_2230_11eb_b3a0_e0d55e0b36aelevel0_row1\" class=\"row_heading level0 row1\" >1</th>\n",
       "                        <td id=\"T_87750c76_2230_11eb_b3a0_e0d55e0b36aerow1_col0\" class=\"data row1 col0\" >Target</td>\n",
       "                        <td id=\"T_87750c76_2230_11eb_b3a0_e0d55e0b36aerow1_col1\" class=\"data row1 col1\" >income</td>\n",
       "            </tr>\n",
       "            <tr>\n",
       "                        <th id=\"T_87750c76_2230_11eb_b3a0_e0d55e0b36aelevel0_row2\" class=\"row_heading level0 row2\" >2</th>\n",
       "                        <td id=\"T_87750c76_2230_11eb_b3a0_e0d55e0b36aerow2_col0\" class=\"data row2 col0\" >Target Type</td>\n",
       "                        <td id=\"T_87750c76_2230_11eb_b3a0_e0d55e0b36aerow2_col1\" class=\"data row2 col1\" >Binary</td>\n",
       "            </tr>\n",
       "            <tr>\n",
       "                        <th id=\"T_87750c76_2230_11eb_b3a0_e0d55e0b36aelevel0_row3\" class=\"row_heading level0 row3\" >3</th>\n",
       "                        <td id=\"T_87750c76_2230_11eb_b3a0_e0d55e0b36aerow3_col0\" class=\"data row3 col0\" >Label Encoded</td>\n",
       "                        <td id=\"T_87750c76_2230_11eb_b3a0_e0d55e0b36aerow3_col1\" class=\"data row3 col1\" ><=50K: 0, >50K: 1</td>\n",
       "            </tr>\n",
       "            <tr>\n",
       "                        <th id=\"T_87750c76_2230_11eb_b3a0_e0d55e0b36aelevel0_row4\" class=\"row_heading level0 row4\" >4</th>\n",
       "                        <td id=\"T_87750c76_2230_11eb_b3a0_e0d55e0b36aerow4_col0\" class=\"data row4 col0\" >Original Data</td>\n",
       "                        <td id=\"T_87750c76_2230_11eb_b3a0_e0d55e0b36aerow4_col1\" class=\"data row4 col1\" >(39073, 15)</td>\n",
       "            </tr>\n",
       "            <tr>\n",
       "                        <th id=\"T_87750c76_2230_11eb_b3a0_e0d55e0b36aelevel0_row5\" class=\"row_heading level0 row5\" >5</th>\n",
       "                        <td id=\"T_87750c76_2230_11eb_b3a0_e0d55e0b36aerow5_col0\" class=\"data row5 col0\" >Missing Values</td>\n",
       "                        <td id=\"T_87750c76_2230_11eb_b3a0_e0d55e0b36aerow5_col1\" class=\"data row5 col1\" >False</td>\n",
       "            </tr>\n",
       "            <tr>\n",
       "                        <th id=\"T_87750c76_2230_11eb_b3a0_e0d55e0b36aelevel0_row6\" class=\"row_heading level0 row6\" >6</th>\n",
       "                        <td id=\"T_87750c76_2230_11eb_b3a0_e0d55e0b36aerow6_col0\" class=\"data row6 col0\" >Numeric Features</td>\n",
       "                        <td id=\"T_87750c76_2230_11eb_b3a0_e0d55e0b36aerow6_col1\" class=\"data row6 col1\" >5</td>\n",
       "            </tr>\n",
       "            <tr>\n",
       "                        <th id=\"T_87750c76_2230_11eb_b3a0_e0d55e0b36aelevel0_row7\" class=\"row_heading level0 row7\" >7</th>\n",
       "                        <td id=\"T_87750c76_2230_11eb_b3a0_e0d55e0b36aerow7_col0\" class=\"data row7 col0\" >Categorical Features</td>\n",
       "                        <td id=\"T_87750c76_2230_11eb_b3a0_e0d55e0b36aerow7_col1\" class=\"data row7 col1\" >9</td>\n",
       "            </tr>\n",
       "            <tr>\n",
       "                        <th id=\"T_87750c76_2230_11eb_b3a0_e0d55e0b36aelevel0_row8\" class=\"row_heading level0 row8\" >8</th>\n",
       "                        <td id=\"T_87750c76_2230_11eb_b3a0_e0d55e0b36aerow8_col0\" class=\"data row8 col0\" >Ordinal Features</td>\n",
       "                        <td id=\"T_87750c76_2230_11eb_b3a0_e0d55e0b36aerow8_col1\" class=\"data row8 col1\" >False</td>\n",
       "            </tr>\n",
       "            <tr>\n",
       "                        <th id=\"T_87750c76_2230_11eb_b3a0_e0d55e0b36aelevel0_row9\" class=\"row_heading level0 row9\" >9</th>\n",
       "                        <td id=\"T_87750c76_2230_11eb_b3a0_e0d55e0b36aerow9_col0\" class=\"data row9 col0\" >High Cardinality Features</td>\n",
       "                        <td id=\"T_87750c76_2230_11eb_b3a0_e0d55e0b36aerow9_col1\" class=\"data row9 col1\" >False</td>\n",
       "            </tr>\n",
       "            <tr>\n",
       "                        <th id=\"T_87750c76_2230_11eb_b3a0_e0d55e0b36aelevel0_row10\" class=\"row_heading level0 row10\" >10</th>\n",
       "                        <td id=\"T_87750c76_2230_11eb_b3a0_e0d55e0b36aerow10_col0\" class=\"data row10 col0\" >High Cardinality Method</td>\n",
       "                        <td id=\"T_87750c76_2230_11eb_b3a0_e0d55e0b36aerow10_col1\" class=\"data row10 col1\" >None</td>\n",
       "            </tr>\n",
       "            <tr>\n",
       "                        <th id=\"T_87750c76_2230_11eb_b3a0_e0d55e0b36aelevel0_row11\" class=\"row_heading level0 row11\" >11</th>\n",
       "                        <td id=\"T_87750c76_2230_11eb_b3a0_e0d55e0b36aerow11_col0\" class=\"data row11 col0\" >Transformed Train Set</td>\n",
       "                        <td id=\"T_87750c76_2230_11eb_b3a0_e0d55e0b36aerow11_col1\" class=\"data row11 col1\" >(27351, 105)</td>\n",
       "            </tr>\n",
       "            <tr>\n",
       "                        <th id=\"T_87750c76_2230_11eb_b3a0_e0d55e0b36aelevel0_row12\" class=\"row_heading level0 row12\" >12</th>\n",
       "                        <td id=\"T_87750c76_2230_11eb_b3a0_e0d55e0b36aerow12_col0\" class=\"data row12 col0\" >Transformed Test Set</td>\n",
       "                        <td id=\"T_87750c76_2230_11eb_b3a0_e0d55e0b36aerow12_col1\" class=\"data row12 col1\" >(11722, 105)</td>\n",
       "            </tr>\n",
       "            <tr>\n",
       "                        <th id=\"T_87750c76_2230_11eb_b3a0_e0d55e0b36aelevel0_row13\" class=\"row_heading level0 row13\" >13</th>\n",
       "                        <td id=\"T_87750c76_2230_11eb_b3a0_e0d55e0b36aerow13_col0\" class=\"data row13 col0\" >Shuffle Train-Test</td>\n",
       "                        <td id=\"T_87750c76_2230_11eb_b3a0_e0d55e0b36aerow13_col1\" class=\"data row13 col1\" >True</td>\n",
       "            </tr>\n",
       "            <tr>\n",
       "                        <th id=\"T_87750c76_2230_11eb_b3a0_e0d55e0b36aelevel0_row14\" class=\"row_heading level0 row14\" >14</th>\n",
       "                        <td id=\"T_87750c76_2230_11eb_b3a0_e0d55e0b36aerow14_col0\" class=\"data row14 col0\" >Stratify Train-Test</td>\n",
       "                        <td id=\"T_87750c76_2230_11eb_b3a0_e0d55e0b36aerow14_col1\" class=\"data row14 col1\" >False</td>\n",
       "            </tr>\n",
       "            <tr>\n",
       "                        <th id=\"T_87750c76_2230_11eb_b3a0_e0d55e0b36aelevel0_row15\" class=\"row_heading level0 row15\" >15</th>\n",
       "                        <td id=\"T_87750c76_2230_11eb_b3a0_e0d55e0b36aerow15_col0\" class=\"data row15 col0\" >Fold Generator</td>\n",
       "                        <td id=\"T_87750c76_2230_11eb_b3a0_e0d55e0b36aerow15_col1\" class=\"data row15 col1\" >StratifiedKFold</td>\n",
       "            </tr>\n",
       "            <tr>\n",
       "                        <th id=\"T_87750c76_2230_11eb_b3a0_e0d55e0b36aelevel0_row16\" class=\"row_heading level0 row16\" >16</th>\n",
       "                        <td id=\"T_87750c76_2230_11eb_b3a0_e0d55e0b36aerow16_col0\" class=\"data row16 col0\" >Fold Number</td>\n",
       "                        <td id=\"T_87750c76_2230_11eb_b3a0_e0d55e0b36aerow16_col1\" class=\"data row16 col1\" >10</td>\n",
       "            </tr>\n",
       "            <tr>\n",
       "                        <th id=\"T_87750c76_2230_11eb_b3a0_e0d55e0b36aelevel0_row17\" class=\"row_heading level0 row17\" >17</th>\n",
       "                        <td id=\"T_87750c76_2230_11eb_b3a0_e0d55e0b36aerow17_col0\" class=\"data row17 col0\" >CPU Jobs</td>\n",
       "                        <td id=\"T_87750c76_2230_11eb_b3a0_e0d55e0b36aerow17_col1\" class=\"data row17 col1\" >-1</td>\n",
       "            </tr>\n",
       "            <tr>\n",
       "                        <th id=\"T_87750c76_2230_11eb_b3a0_e0d55e0b36aelevel0_row18\" class=\"row_heading level0 row18\" >18</th>\n",
       "                        <td id=\"T_87750c76_2230_11eb_b3a0_e0d55e0b36aerow18_col0\" class=\"data row18 col0\" >Use GPU</td>\n",
       "                        <td id=\"T_87750c76_2230_11eb_b3a0_e0d55e0b36aerow18_col1\" class=\"data row18 col1\" >False</td>\n",
       "            </tr>\n",
       "            <tr>\n",
       "                        <th id=\"T_87750c76_2230_11eb_b3a0_e0d55e0b36aelevel0_row19\" class=\"row_heading level0 row19\" >19</th>\n",
       "                        <td id=\"T_87750c76_2230_11eb_b3a0_e0d55e0b36aerow19_col0\" class=\"data row19 col0\" >Log Experiment</td>\n",
       "                        <td id=\"T_87750c76_2230_11eb_b3a0_e0d55e0b36aerow19_col1\" class=\"data row19 col1\" >False</td>\n",
       "            </tr>\n",
       "            <tr>\n",
       "                        <th id=\"T_87750c76_2230_11eb_b3a0_e0d55e0b36aelevel0_row20\" class=\"row_heading level0 row20\" >20</th>\n",
       "                        <td id=\"T_87750c76_2230_11eb_b3a0_e0d55e0b36aerow20_col0\" class=\"data row20 col0\" >Experiment Name</td>\n",
       "                        <td id=\"T_87750c76_2230_11eb_b3a0_e0d55e0b36aerow20_col1\" class=\"data row20 col1\" >clf-default-name</td>\n",
       "            </tr>\n",
       "            <tr>\n",
       "                        <th id=\"T_87750c76_2230_11eb_b3a0_e0d55e0b36aelevel0_row21\" class=\"row_heading level0 row21\" >21</th>\n",
       "                        <td id=\"T_87750c76_2230_11eb_b3a0_e0d55e0b36aerow21_col0\" class=\"data row21 col0\" >USI</td>\n",
       "                        <td id=\"T_87750c76_2230_11eb_b3a0_e0d55e0b36aerow21_col1\" class=\"data row21 col1\" >fd80</td>\n",
       "            </tr>\n",
       "            <tr>\n",
       "                        <th id=\"T_87750c76_2230_11eb_b3a0_e0d55e0b36aelevel0_row22\" class=\"row_heading level0 row22\" >22</th>\n",
       "                        <td id=\"T_87750c76_2230_11eb_b3a0_e0d55e0b36aerow22_col0\" class=\"data row22 col0\" >Imputation Type</td>\n",
       "                        <td id=\"T_87750c76_2230_11eb_b3a0_e0d55e0b36aerow22_col1\" class=\"data row22 col1\" >simple</td>\n",
       "            </tr>\n",
       "            <tr>\n",
       "                        <th id=\"T_87750c76_2230_11eb_b3a0_e0d55e0b36aelevel0_row23\" class=\"row_heading level0 row23\" >23</th>\n",
       "                        <td id=\"T_87750c76_2230_11eb_b3a0_e0d55e0b36aerow23_col0\" class=\"data row23 col0\" >Iterative Imputation Iteration</td>\n",
       "                        <td id=\"T_87750c76_2230_11eb_b3a0_e0d55e0b36aerow23_col1\" class=\"data row23 col1\" >None</td>\n",
       "            </tr>\n",
       "            <tr>\n",
       "                        <th id=\"T_87750c76_2230_11eb_b3a0_e0d55e0b36aelevel0_row24\" class=\"row_heading level0 row24\" >24</th>\n",
       "                        <td id=\"T_87750c76_2230_11eb_b3a0_e0d55e0b36aerow24_col0\" class=\"data row24 col0\" >Numeric Imputer</td>\n",
       "                        <td id=\"T_87750c76_2230_11eb_b3a0_e0d55e0b36aerow24_col1\" class=\"data row24 col1\" >mean</td>\n",
       "            </tr>\n",
       "            <tr>\n",
       "                        <th id=\"T_87750c76_2230_11eb_b3a0_e0d55e0b36aelevel0_row25\" class=\"row_heading level0 row25\" >25</th>\n",
       "                        <td id=\"T_87750c76_2230_11eb_b3a0_e0d55e0b36aerow25_col0\" class=\"data row25 col0\" >Iterative Imputation Numeric Model</td>\n",
       "                        <td id=\"T_87750c76_2230_11eb_b3a0_e0d55e0b36aerow25_col1\" class=\"data row25 col1\" >None</td>\n",
       "            </tr>\n",
       "            <tr>\n",
       "                        <th id=\"T_87750c76_2230_11eb_b3a0_e0d55e0b36aelevel0_row26\" class=\"row_heading level0 row26\" >26</th>\n",
       "                        <td id=\"T_87750c76_2230_11eb_b3a0_e0d55e0b36aerow26_col0\" class=\"data row26 col0\" >Categorical Imputer</td>\n",
       "                        <td id=\"T_87750c76_2230_11eb_b3a0_e0d55e0b36aerow26_col1\" class=\"data row26 col1\" >constant</td>\n",
       "            </tr>\n",
       "            <tr>\n",
       "                        <th id=\"T_87750c76_2230_11eb_b3a0_e0d55e0b36aelevel0_row27\" class=\"row_heading level0 row27\" >27</th>\n",
       "                        <td id=\"T_87750c76_2230_11eb_b3a0_e0d55e0b36aerow27_col0\" class=\"data row27 col0\" >Iterative Imputation Categorical Model</td>\n",
       "                        <td id=\"T_87750c76_2230_11eb_b3a0_e0d55e0b36aerow27_col1\" class=\"data row27 col1\" >None</td>\n",
       "            </tr>\n",
       "            <tr>\n",
       "                        <th id=\"T_87750c76_2230_11eb_b3a0_e0d55e0b36aelevel0_row28\" class=\"row_heading level0 row28\" >28</th>\n",
       "                        <td id=\"T_87750c76_2230_11eb_b3a0_e0d55e0b36aerow28_col0\" class=\"data row28 col0\" >Unknown Categoricals Handling</td>\n",
       "                        <td id=\"T_87750c76_2230_11eb_b3a0_e0d55e0b36aerow28_col1\" class=\"data row28 col1\" >least_frequent</td>\n",
       "            </tr>\n",
       "            <tr>\n",
       "                        <th id=\"T_87750c76_2230_11eb_b3a0_e0d55e0b36aelevel0_row29\" class=\"row_heading level0 row29\" >29</th>\n",
       "                        <td id=\"T_87750c76_2230_11eb_b3a0_e0d55e0b36aerow29_col0\" class=\"data row29 col0\" >Normalize</td>\n",
       "                        <td id=\"T_87750c76_2230_11eb_b3a0_e0d55e0b36aerow29_col1\" class=\"data row29 col1\" >False</td>\n",
       "            </tr>\n",
       "            <tr>\n",
       "                        <th id=\"T_87750c76_2230_11eb_b3a0_e0d55e0b36aelevel0_row30\" class=\"row_heading level0 row30\" >30</th>\n",
       "                        <td id=\"T_87750c76_2230_11eb_b3a0_e0d55e0b36aerow30_col0\" class=\"data row30 col0\" >Normalize Method</td>\n",
       "                        <td id=\"T_87750c76_2230_11eb_b3a0_e0d55e0b36aerow30_col1\" class=\"data row30 col1\" >None</td>\n",
       "            </tr>\n",
       "            <tr>\n",
       "                        <th id=\"T_87750c76_2230_11eb_b3a0_e0d55e0b36aelevel0_row31\" class=\"row_heading level0 row31\" >31</th>\n",
       "                        <td id=\"T_87750c76_2230_11eb_b3a0_e0d55e0b36aerow31_col0\" class=\"data row31 col0\" >Transformation</td>\n",
       "                        <td id=\"T_87750c76_2230_11eb_b3a0_e0d55e0b36aerow31_col1\" class=\"data row31 col1\" >False</td>\n",
       "            </tr>\n",
       "            <tr>\n",
       "                        <th id=\"T_87750c76_2230_11eb_b3a0_e0d55e0b36aelevel0_row32\" class=\"row_heading level0 row32\" >32</th>\n",
       "                        <td id=\"T_87750c76_2230_11eb_b3a0_e0d55e0b36aerow32_col0\" class=\"data row32 col0\" >Transformation Method</td>\n",
       "                        <td id=\"T_87750c76_2230_11eb_b3a0_e0d55e0b36aerow32_col1\" class=\"data row32 col1\" >None</td>\n",
       "            </tr>\n",
       "            <tr>\n",
       "                        <th id=\"T_87750c76_2230_11eb_b3a0_e0d55e0b36aelevel0_row33\" class=\"row_heading level0 row33\" >33</th>\n",
       "                        <td id=\"T_87750c76_2230_11eb_b3a0_e0d55e0b36aerow33_col0\" class=\"data row33 col0\" >PCA</td>\n",
       "                        <td id=\"T_87750c76_2230_11eb_b3a0_e0d55e0b36aerow33_col1\" class=\"data row33 col1\" >False</td>\n",
       "            </tr>\n",
       "            <tr>\n",
       "                        <th id=\"T_87750c76_2230_11eb_b3a0_e0d55e0b36aelevel0_row34\" class=\"row_heading level0 row34\" >34</th>\n",
       "                        <td id=\"T_87750c76_2230_11eb_b3a0_e0d55e0b36aerow34_col0\" class=\"data row34 col0\" >PCA Method</td>\n",
       "                        <td id=\"T_87750c76_2230_11eb_b3a0_e0d55e0b36aerow34_col1\" class=\"data row34 col1\" >None</td>\n",
       "            </tr>\n",
       "            <tr>\n",
       "                        <th id=\"T_87750c76_2230_11eb_b3a0_e0d55e0b36aelevel0_row35\" class=\"row_heading level0 row35\" >35</th>\n",
       "                        <td id=\"T_87750c76_2230_11eb_b3a0_e0d55e0b36aerow35_col0\" class=\"data row35 col0\" >PCA Components</td>\n",
       "                        <td id=\"T_87750c76_2230_11eb_b3a0_e0d55e0b36aerow35_col1\" class=\"data row35 col1\" >None</td>\n",
       "            </tr>\n",
       "            <tr>\n",
       "                        <th id=\"T_87750c76_2230_11eb_b3a0_e0d55e0b36aelevel0_row36\" class=\"row_heading level0 row36\" >36</th>\n",
       "                        <td id=\"T_87750c76_2230_11eb_b3a0_e0d55e0b36aerow36_col0\" class=\"data row36 col0\" >Ignore Low Variance</td>\n",
       "                        <td id=\"T_87750c76_2230_11eb_b3a0_e0d55e0b36aerow36_col1\" class=\"data row36 col1\" >False</td>\n",
       "            </tr>\n",
       "            <tr>\n",
       "                        <th id=\"T_87750c76_2230_11eb_b3a0_e0d55e0b36aelevel0_row37\" class=\"row_heading level0 row37\" >37</th>\n",
       "                        <td id=\"T_87750c76_2230_11eb_b3a0_e0d55e0b36aerow37_col0\" class=\"data row37 col0\" >Combine Rare Levels</td>\n",
       "                        <td id=\"T_87750c76_2230_11eb_b3a0_e0d55e0b36aerow37_col1\" class=\"data row37 col1\" >False</td>\n",
       "            </tr>\n",
       "            <tr>\n",
       "                        <th id=\"T_87750c76_2230_11eb_b3a0_e0d55e0b36aelevel0_row38\" class=\"row_heading level0 row38\" >38</th>\n",
       "                        <td id=\"T_87750c76_2230_11eb_b3a0_e0d55e0b36aerow38_col0\" class=\"data row38 col0\" >Rare Level Threshold</td>\n",
       "                        <td id=\"T_87750c76_2230_11eb_b3a0_e0d55e0b36aerow38_col1\" class=\"data row38 col1\" >None</td>\n",
       "            </tr>\n",
       "            <tr>\n",
       "                        <th id=\"T_87750c76_2230_11eb_b3a0_e0d55e0b36aelevel0_row39\" class=\"row_heading level0 row39\" >39</th>\n",
       "                        <td id=\"T_87750c76_2230_11eb_b3a0_e0d55e0b36aerow39_col0\" class=\"data row39 col0\" >Numeric Binning</td>\n",
       "                        <td id=\"T_87750c76_2230_11eb_b3a0_e0d55e0b36aerow39_col1\" class=\"data row39 col1\" >False</td>\n",
       "            </tr>\n",
       "            <tr>\n",
       "                        <th id=\"T_87750c76_2230_11eb_b3a0_e0d55e0b36aelevel0_row40\" class=\"row_heading level0 row40\" >40</th>\n",
       "                        <td id=\"T_87750c76_2230_11eb_b3a0_e0d55e0b36aerow40_col0\" class=\"data row40 col0\" >Remove Outliers</td>\n",
       "                        <td id=\"T_87750c76_2230_11eb_b3a0_e0d55e0b36aerow40_col1\" class=\"data row40 col1\" >False</td>\n",
       "            </tr>\n",
       "            <tr>\n",
       "                        <th id=\"T_87750c76_2230_11eb_b3a0_e0d55e0b36aelevel0_row41\" class=\"row_heading level0 row41\" >41</th>\n",
       "                        <td id=\"T_87750c76_2230_11eb_b3a0_e0d55e0b36aerow41_col0\" class=\"data row41 col0\" >Outliers Threshold</td>\n",
       "                        <td id=\"T_87750c76_2230_11eb_b3a0_e0d55e0b36aerow41_col1\" class=\"data row41 col1\" >None</td>\n",
       "            </tr>\n",
       "            <tr>\n",
       "                        <th id=\"T_87750c76_2230_11eb_b3a0_e0d55e0b36aelevel0_row42\" class=\"row_heading level0 row42\" >42</th>\n",
       "                        <td id=\"T_87750c76_2230_11eb_b3a0_e0d55e0b36aerow42_col0\" class=\"data row42 col0\" >Remove Multicollinearity</td>\n",
       "                        <td id=\"T_87750c76_2230_11eb_b3a0_e0d55e0b36aerow42_col1\" class=\"data row42 col1\" >False</td>\n",
       "            </tr>\n",
       "            <tr>\n",
       "                        <th id=\"T_87750c76_2230_11eb_b3a0_e0d55e0b36aelevel0_row43\" class=\"row_heading level0 row43\" >43</th>\n",
       "                        <td id=\"T_87750c76_2230_11eb_b3a0_e0d55e0b36aerow43_col0\" class=\"data row43 col0\" >Multicollinearity Threshold</td>\n",
       "                        <td id=\"T_87750c76_2230_11eb_b3a0_e0d55e0b36aerow43_col1\" class=\"data row43 col1\" >None</td>\n",
       "            </tr>\n",
       "            <tr>\n",
       "                        <th id=\"T_87750c76_2230_11eb_b3a0_e0d55e0b36aelevel0_row44\" class=\"row_heading level0 row44\" >44</th>\n",
       "                        <td id=\"T_87750c76_2230_11eb_b3a0_e0d55e0b36aerow44_col0\" class=\"data row44 col0\" >Clustering</td>\n",
       "                        <td id=\"T_87750c76_2230_11eb_b3a0_e0d55e0b36aerow44_col1\" class=\"data row44 col1\" >False</td>\n",
       "            </tr>\n",
       "            <tr>\n",
       "                        <th id=\"T_87750c76_2230_11eb_b3a0_e0d55e0b36aelevel0_row45\" class=\"row_heading level0 row45\" >45</th>\n",
       "                        <td id=\"T_87750c76_2230_11eb_b3a0_e0d55e0b36aerow45_col0\" class=\"data row45 col0\" >Clustering Iteration</td>\n",
       "                        <td id=\"T_87750c76_2230_11eb_b3a0_e0d55e0b36aerow45_col1\" class=\"data row45 col1\" >None</td>\n",
       "            </tr>\n",
       "            <tr>\n",
       "                        <th id=\"T_87750c76_2230_11eb_b3a0_e0d55e0b36aelevel0_row46\" class=\"row_heading level0 row46\" >46</th>\n",
       "                        <td id=\"T_87750c76_2230_11eb_b3a0_e0d55e0b36aerow46_col0\" class=\"data row46 col0\" >Polynomial Features</td>\n",
       "                        <td id=\"T_87750c76_2230_11eb_b3a0_e0d55e0b36aerow46_col1\" class=\"data row46 col1\" >False</td>\n",
       "            </tr>\n",
       "            <tr>\n",
       "                        <th id=\"T_87750c76_2230_11eb_b3a0_e0d55e0b36aelevel0_row47\" class=\"row_heading level0 row47\" >47</th>\n",
       "                        <td id=\"T_87750c76_2230_11eb_b3a0_e0d55e0b36aerow47_col0\" class=\"data row47 col0\" >Polynomial Degree</td>\n",
       "                        <td id=\"T_87750c76_2230_11eb_b3a0_e0d55e0b36aerow47_col1\" class=\"data row47 col1\" >None</td>\n",
       "            </tr>\n",
       "            <tr>\n",
       "                        <th id=\"T_87750c76_2230_11eb_b3a0_e0d55e0b36aelevel0_row48\" class=\"row_heading level0 row48\" >48</th>\n",
       "                        <td id=\"T_87750c76_2230_11eb_b3a0_e0d55e0b36aerow48_col0\" class=\"data row48 col0\" >Trignometry Features</td>\n",
       "                        <td id=\"T_87750c76_2230_11eb_b3a0_e0d55e0b36aerow48_col1\" class=\"data row48 col1\" >False</td>\n",
       "            </tr>\n",
       "            <tr>\n",
       "                        <th id=\"T_87750c76_2230_11eb_b3a0_e0d55e0b36aelevel0_row49\" class=\"row_heading level0 row49\" >49</th>\n",
       "                        <td id=\"T_87750c76_2230_11eb_b3a0_e0d55e0b36aerow49_col0\" class=\"data row49 col0\" >Polynomial Threshold</td>\n",
       "                        <td id=\"T_87750c76_2230_11eb_b3a0_e0d55e0b36aerow49_col1\" class=\"data row49 col1\" >None</td>\n",
       "            </tr>\n",
       "            <tr>\n",
       "                        <th id=\"T_87750c76_2230_11eb_b3a0_e0d55e0b36aelevel0_row50\" class=\"row_heading level0 row50\" >50</th>\n",
       "                        <td id=\"T_87750c76_2230_11eb_b3a0_e0d55e0b36aerow50_col0\" class=\"data row50 col0\" >Group Features</td>\n",
       "                        <td id=\"T_87750c76_2230_11eb_b3a0_e0d55e0b36aerow50_col1\" class=\"data row50 col1\" >False</td>\n",
       "            </tr>\n",
       "            <tr>\n",
       "                        <th id=\"T_87750c76_2230_11eb_b3a0_e0d55e0b36aelevel0_row51\" class=\"row_heading level0 row51\" >51</th>\n",
       "                        <td id=\"T_87750c76_2230_11eb_b3a0_e0d55e0b36aerow51_col0\" class=\"data row51 col0\" >Feature Selection</td>\n",
       "                        <td id=\"T_87750c76_2230_11eb_b3a0_e0d55e0b36aerow51_col1\" class=\"data row51 col1\" >False</td>\n",
       "            </tr>\n",
       "            <tr>\n",
       "                        <th id=\"T_87750c76_2230_11eb_b3a0_e0d55e0b36aelevel0_row52\" class=\"row_heading level0 row52\" >52</th>\n",
       "                        <td id=\"T_87750c76_2230_11eb_b3a0_e0d55e0b36aerow52_col0\" class=\"data row52 col0\" >Features Selection Threshold</td>\n",
       "                        <td id=\"T_87750c76_2230_11eb_b3a0_e0d55e0b36aerow52_col1\" class=\"data row52 col1\" >None</td>\n",
       "            </tr>\n",
       "            <tr>\n",
       "                        <th id=\"T_87750c76_2230_11eb_b3a0_e0d55e0b36aelevel0_row53\" class=\"row_heading level0 row53\" >53</th>\n",
       "                        <td id=\"T_87750c76_2230_11eb_b3a0_e0d55e0b36aerow53_col0\" class=\"data row53 col0\" >Feature Interaction</td>\n",
       "                        <td id=\"T_87750c76_2230_11eb_b3a0_e0d55e0b36aerow53_col1\" class=\"data row53 col1\" >False</td>\n",
       "            </tr>\n",
       "            <tr>\n",
       "                        <th id=\"T_87750c76_2230_11eb_b3a0_e0d55e0b36aelevel0_row54\" class=\"row_heading level0 row54\" >54</th>\n",
       "                        <td id=\"T_87750c76_2230_11eb_b3a0_e0d55e0b36aerow54_col0\" class=\"data row54 col0\" >Feature Ratio</td>\n",
       "                        <td id=\"T_87750c76_2230_11eb_b3a0_e0d55e0b36aerow54_col1\" class=\"data row54 col1\" >False</td>\n",
       "            </tr>\n",
       "            <tr>\n",
       "                        <th id=\"T_87750c76_2230_11eb_b3a0_e0d55e0b36aelevel0_row55\" class=\"row_heading level0 row55\" >55</th>\n",
       "                        <td id=\"T_87750c76_2230_11eb_b3a0_e0d55e0b36aerow55_col0\" class=\"data row55 col0\" >Interaction Threshold</td>\n",
       "                        <td id=\"T_87750c76_2230_11eb_b3a0_e0d55e0b36aerow55_col1\" class=\"data row55 col1\" >None</td>\n",
       "            </tr>\n",
       "            <tr>\n",
       "                        <th id=\"T_87750c76_2230_11eb_b3a0_e0d55e0b36aelevel0_row56\" class=\"row_heading level0 row56\" >56</th>\n",
       "                        <td id=\"T_87750c76_2230_11eb_b3a0_e0d55e0b36aerow56_col0\" class=\"data row56 col0\" >Fix Imbalance</td>\n",
       "                        <td id=\"T_87750c76_2230_11eb_b3a0_e0d55e0b36aerow56_col1\" class=\"data row56 col1\" >False</td>\n",
       "            </tr>\n",
       "            <tr>\n",
       "                        <th id=\"T_87750c76_2230_11eb_b3a0_e0d55e0b36aelevel0_row57\" class=\"row_heading level0 row57\" >57</th>\n",
       "                        <td id=\"T_87750c76_2230_11eb_b3a0_e0d55e0b36aerow57_col0\" class=\"data row57 col0\" >Fix Imbalance Method</td>\n",
       "                        <td id=\"T_87750c76_2230_11eb_b3a0_e0d55e0b36aerow57_col1\" class=\"data row57 col1\" >SMOTE</td>\n",
       "            </tr>\n",
       "    </tbody></table>"
      ],
      "text/plain": [
       "<pandas.io.formats.style.Styler at 0x7f186eb9c040>"
      ]
     },
     "metadata": {},
     "output_type": "display_data"
    }
   ],
   "source": [
    "experiment = setup(data   = train_df,\n",
    "                   target = 'income',\n",
    "                   session_id=123) "
   ]
  },
  {
   "cell_type": "markdown",
   "metadata": {
    "colab_type": "text",
    "id": "it_nJo1IEQob"
   },
   "source": [
    "# Comparación de modelos\n",
    "### Y seccionea los 10 mejores"
   ]
  },
  {
   "cell_type": "code",
   "execution_count": 6,
   "metadata": {
    "colab": {},
    "colab_type": "code",
    "id": "AsG0b1NIEQoj",
    "outputId": "a6e3a510-45a1-4782-8ffe-0ec138a64eed",
    "scrolled": false
   },
   "outputs": [
    {
     "data": {
      "text/html": [
       "<style  type=\"text/css\" >\n",
       "    #T_e0f9077a_2230_11eb_b3a0_e0d55e0b36ae th {\n",
       "          text-align: left;\n",
       "    }#T_e0f9077a_2230_11eb_b3a0_e0d55e0b36aerow0_col0,#T_e0f9077a_2230_11eb_b3a0_e0d55e0b36aerow0_col3,#T_e0f9077a_2230_11eb_b3a0_e0d55e0b36aerow0_col6,#T_e0f9077a_2230_11eb_b3a0_e0d55e0b36aerow1_col0,#T_e0f9077a_2230_11eb_b3a0_e0d55e0b36aerow1_col1,#T_e0f9077a_2230_11eb_b3a0_e0d55e0b36aerow1_col2,#T_e0f9077a_2230_11eb_b3a0_e0d55e0b36aerow1_col4,#T_e0f9077a_2230_11eb_b3a0_e0d55e0b36aerow1_col5,#T_e0f9077a_2230_11eb_b3a0_e0d55e0b36aerow1_col7,#T_e0f9077a_2230_11eb_b3a0_e0d55e0b36aerow2_col0,#T_e0f9077a_2230_11eb_b3a0_e0d55e0b36aerow2_col1,#T_e0f9077a_2230_11eb_b3a0_e0d55e0b36aerow2_col2,#T_e0f9077a_2230_11eb_b3a0_e0d55e0b36aerow2_col3,#T_e0f9077a_2230_11eb_b3a0_e0d55e0b36aerow2_col4,#T_e0f9077a_2230_11eb_b3a0_e0d55e0b36aerow2_col5,#T_e0f9077a_2230_11eb_b3a0_e0d55e0b36aerow2_col6,#T_e0f9077a_2230_11eb_b3a0_e0d55e0b36aerow2_col7,#T_e0f9077a_2230_11eb_b3a0_e0d55e0b36aerow3_col0,#T_e0f9077a_2230_11eb_b3a0_e0d55e0b36aerow3_col1,#T_e0f9077a_2230_11eb_b3a0_e0d55e0b36aerow3_col2,#T_e0f9077a_2230_11eb_b3a0_e0d55e0b36aerow3_col3,#T_e0f9077a_2230_11eb_b3a0_e0d55e0b36aerow3_col4,#T_e0f9077a_2230_11eb_b3a0_e0d55e0b36aerow3_col5,#T_e0f9077a_2230_11eb_b3a0_e0d55e0b36aerow3_col6,#T_e0f9077a_2230_11eb_b3a0_e0d55e0b36aerow3_col7,#T_e0f9077a_2230_11eb_b3a0_e0d55e0b36aerow4_col0,#T_e0f9077a_2230_11eb_b3a0_e0d55e0b36aerow4_col1,#T_e0f9077a_2230_11eb_b3a0_e0d55e0b36aerow4_col2,#T_e0f9077a_2230_11eb_b3a0_e0d55e0b36aerow4_col3,#T_e0f9077a_2230_11eb_b3a0_e0d55e0b36aerow4_col4,#T_e0f9077a_2230_11eb_b3a0_e0d55e0b36aerow4_col5,#T_e0f9077a_2230_11eb_b3a0_e0d55e0b36aerow4_col6,#T_e0f9077a_2230_11eb_b3a0_e0d55e0b36aerow4_col7,#T_e0f9077a_2230_11eb_b3a0_e0d55e0b36aerow5_col0,#T_e0f9077a_2230_11eb_b3a0_e0d55e0b36aerow5_col1,#T_e0f9077a_2230_11eb_b3a0_e0d55e0b36aerow5_col2,#T_e0f9077a_2230_11eb_b3a0_e0d55e0b36aerow5_col3,#T_e0f9077a_2230_11eb_b3a0_e0d55e0b36aerow5_col4,#T_e0f9077a_2230_11eb_b3a0_e0d55e0b36aerow5_col5,#T_e0f9077a_2230_11eb_b3a0_e0d55e0b36aerow5_col6,#T_e0f9077a_2230_11eb_b3a0_e0d55e0b36aerow5_col7,#T_e0f9077a_2230_11eb_b3a0_e0d55e0b36aerow6_col0,#T_e0f9077a_2230_11eb_b3a0_e0d55e0b36aerow6_col1,#T_e0f9077a_2230_11eb_b3a0_e0d55e0b36aerow6_col2,#T_e0f9077a_2230_11eb_b3a0_e0d55e0b36aerow6_col3,#T_e0f9077a_2230_11eb_b3a0_e0d55e0b36aerow6_col4,#T_e0f9077a_2230_11eb_b3a0_e0d55e0b36aerow6_col5,#T_e0f9077a_2230_11eb_b3a0_e0d55e0b36aerow6_col6,#T_e0f9077a_2230_11eb_b3a0_e0d55e0b36aerow6_col7,#T_e0f9077a_2230_11eb_b3a0_e0d55e0b36aerow7_col0,#T_e0f9077a_2230_11eb_b3a0_e0d55e0b36aerow7_col1,#T_e0f9077a_2230_11eb_b3a0_e0d55e0b36aerow7_col2,#T_e0f9077a_2230_11eb_b3a0_e0d55e0b36aerow7_col3,#T_e0f9077a_2230_11eb_b3a0_e0d55e0b36aerow7_col4,#T_e0f9077a_2230_11eb_b3a0_e0d55e0b36aerow7_col5,#T_e0f9077a_2230_11eb_b3a0_e0d55e0b36aerow7_col6,#T_e0f9077a_2230_11eb_b3a0_e0d55e0b36aerow7_col7,#T_e0f9077a_2230_11eb_b3a0_e0d55e0b36aerow8_col0,#T_e0f9077a_2230_11eb_b3a0_e0d55e0b36aerow8_col1,#T_e0f9077a_2230_11eb_b3a0_e0d55e0b36aerow8_col2,#T_e0f9077a_2230_11eb_b3a0_e0d55e0b36aerow8_col3,#T_e0f9077a_2230_11eb_b3a0_e0d55e0b36aerow8_col4,#T_e0f9077a_2230_11eb_b3a0_e0d55e0b36aerow8_col5,#T_e0f9077a_2230_11eb_b3a0_e0d55e0b36aerow8_col6,#T_e0f9077a_2230_11eb_b3a0_e0d55e0b36aerow8_col7,#T_e0f9077a_2230_11eb_b3a0_e0d55e0b36aerow9_col0,#T_e0f9077a_2230_11eb_b3a0_e0d55e0b36aerow9_col1,#T_e0f9077a_2230_11eb_b3a0_e0d55e0b36aerow9_col2,#T_e0f9077a_2230_11eb_b3a0_e0d55e0b36aerow9_col3,#T_e0f9077a_2230_11eb_b3a0_e0d55e0b36aerow9_col4,#T_e0f9077a_2230_11eb_b3a0_e0d55e0b36aerow9_col5,#T_e0f9077a_2230_11eb_b3a0_e0d55e0b36aerow9_col6,#T_e0f9077a_2230_11eb_b3a0_e0d55e0b36aerow9_col7,#T_e0f9077a_2230_11eb_b3a0_e0d55e0b36aerow10_col0,#T_e0f9077a_2230_11eb_b3a0_e0d55e0b36aerow10_col1,#T_e0f9077a_2230_11eb_b3a0_e0d55e0b36aerow10_col2,#T_e0f9077a_2230_11eb_b3a0_e0d55e0b36aerow10_col3,#T_e0f9077a_2230_11eb_b3a0_e0d55e0b36aerow10_col4,#T_e0f9077a_2230_11eb_b3a0_e0d55e0b36aerow10_col5,#T_e0f9077a_2230_11eb_b3a0_e0d55e0b36aerow10_col6,#T_e0f9077a_2230_11eb_b3a0_e0d55e0b36aerow10_col7,#T_e0f9077a_2230_11eb_b3a0_e0d55e0b36aerow11_col0,#T_e0f9077a_2230_11eb_b3a0_e0d55e0b36aerow11_col1,#T_e0f9077a_2230_11eb_b3a0_e0d55e0b36aerow11_col2,#T_e0f9077a_2230_11eb_b3a0_e0d55e0b36aerow11_col3,#T_e0f9077a_2230_11eb_b3a0_e0d55e0b36aerow11_col4,#T_e0f9077a_2230_11eb_b3a0_e0d55e0b36aerow11_col5,#T_e0f9077a_2230_11eb_b3a0_e0d55e0b36aerow11_col6,#T_e0f9077a_2230_11eb_b3a0_e0d55e0b36aerow11_col7,#T_e0f9077a_2230_11eb_b3a0_e0d55e0b36aerow12_col0,#T_e0f9077a_2230_11eb_b3a0_e0d55e0b36aerow12_col1,#T_e0f9077a_2230_11eb_b3a0_e0d55e0b36aerow12_col2,#T_e0f9077a_2230_11eb_b3a0_e0d55e0b36aerow12_col3,#T_e0f9077a_2230_11eb_b3a0_e0d55e0b36aerow12_col4,#T_e0f9077a_2230_11eb_b3a0_e0d55e0b36aerow12_col5,#T_e0f9077a_2230_11eb_b3a0_e0d55e0b36aerow12_col6,#T_e0f9077a_2230_11eb_b3a0_e0d55e0b36aerow12_col7,#T_e0f9077a_2230_11eb_b3a0_e0d55e0b36aerow13_col0,#T_e0f9077a_2230_11eb_b3a0_e0d55e0b36aerow13_col1,#T_e0f9077a_2230_11eb_b3a0_e0d55e0b36aerow13_col2,#T_e0f9077a_2230_11eb_b3a0_e0d55e0b36aerow13_col3,#T_e0f9077a_2230_11eb_b3a0_e0d55e0b36aerow13_col4,#T_e0f9077a_2230_11eb_b3a0_e0d55e0b36aerow13_col5,#T_e0f9077a_2230_11eb_b3a0_e0d55e0b36aerow13_col6,#T_e0f9077a_2230_11eb_b3a0_e0d55e0b36aerow13_col7,#T_e0f9077a_2230_11eb_b3a0_e0d55e0b36aerow14_col0,#T_e0f9077a_2230_11eb_b3a0_e0d55e0b36aerow14_col1,#T_e0f9077a_2230_11eb_b3a0_e0d55e0b36aerow14_col2,#T_e0f9077a_2230_11eb_b3a0_e0d55e0b36aerow14_col3,#T_e0f9077a_2230_11eb_b3a0_e0d55e0b36aerow14_col4,#T_e0f9077a_2230_11eb_b3a0_e0d55e0b36aerow14_col5,#T_e0f9077a_2230_11eb_b3a0_e0d55e0b36aerow14_col6,#T_e0f9077a_2230_11eb_b3a0_e0d55e0b36aerow14_col7{\n",
       "            text-align:  left;\n",
       "            text-align:  left;\n",
       "        }#T_e0f9077a_2230_11eb_b3a0_e0d55e0b36aerow0_col1,#T_e0f9077a_2230_11eb_b3a0_e0d55e0b36aerow0_col2,#T_e0f9077a_2230_11eb_b3a0_e0d55e0b36aerow0_col4,#T_e0f9077a_2230_11eb_b3a0_e0d55e0b36aerow0_col5,#T_e0f9077a_2230_11eb_b3a0_e0d55e0b36aerow0_col7,#T_e0f9077a_2230_11eb_b3a0_e0d55e0b36aerow1_col3,#T_e0f9077a_2230_11eb_b3a0_e0d55e0b36aerow1_col6{\n",
       "            text-align:  left;\n",
       "            text-align:  left;\n",
       "            background-color:  yellow;\n",
       "        }#T_e0f9077a_2230_11eb_b3a0_e0d55e0b36aerow0_col8,#T_e0f9077a_2230_11eb_b3a0_e0d55e0b36aerow1_col8,#T_e0f9077a_2230_11eb_b3a0_e0d55e0b36aerow2_col8,#T_e0f9077a_2230_11eb_b3a0_e0d55e0b36aerow3_col8,#T_e0f9077a_2230_11eb_b3a0_e0d55e0b36aerow4_col8,#T_e0f9077a_2230_11eb_b3a0_e0d55e0b36aerow5_col8,#T_e0f9077a_2230_11eb_b3a0_e0d55e0b36aerow6_col8,#T_e0f9077a_2230_11eb_b3a0_e0d55e0b36aerow7_col8,#T_e0f9077a_2230_11eb_b3a0_e0d55e0b36aerow8_col8,#T_e0f9077a_2230_11eb_b3a0_e0d55e0b36aerow9_col8,#T_e0f9077a_2230_11eb_b3a0_e0d55e0b36aerow10_col8,#T_e0f9077a_2230_11eb_b3a0_e0d55e0b36aerow12_col8,#T_e0f9077a_2230_11eb_b3a0_e0d55e0b36aerow13_col8,#T_e0f9077a_2230_11eb_b3a0_e0d55e0b36aerow14_col8{\n",
       "            text-align:  left;\n",
       "            text-align:  left;\n",
       "            background-color:  lightgrey;\n",
       "        }#T_e0f9077a_2230_11eb_b3a0_e0d55e0b36aerow11_col8{\n",
       "            text-align:  left;\n",
       "            text-align:  left;\n",
       "            background-color:  yellow;\n",
       "            background-color:  lightgrey;\n",
       "        }</style><table id=\"T_e0f9077a_2230_11eb_b3a0_e0d55e0b36ae\" ><thead>    <tr>        <th class=\"blank level0\" ></th>        <th class=\"col_heading level0 col0\" >Model</th>        <th class=\"col_heading level0 col1\" >Accuracy</th>        <th class=\"col_heading level0 col2\" >AUC</th>        <th class=\"col_heading level0 col3\" >Recall</th>        <th class=\"col_heading level0 col4\" >Prec.</th>        <th class=\"col_heading level0 col5\" >F1</th>        <th class=\"col_heading level0 col6\" >Kappa</th>        <th class=\"col_heading level0 col7\" >MCC</th>        <th class=\"col_heading level0 col8\" >TT (Sec)</th>    </tr></thead><tbody>\n",
       "                <tr>\n",
       "                        <th id=\"T_e0f9077a_2230_11eb_b3a0_e0d55e0b36aelevel0_row0\" class=\"row_heading level0 row0\" >catboost</th>\n",
       "                        <td id=\"T_e0f9077a_2230_11eb_b3a0_e0d55e0b36aerow0_col0\" class=\"data row0 col0\" >CatBoost Classifier</td>\n",
       "                        <td id=\"T_e0f9077a_2230_11eb_b3a0_e0d55e0b36aerow0_col1\" class=\"data row0 col1\" >0.8745</td>\n",
       "                        <td id=\"T_e0f9077a_2230_11eb_b3a0_e0d55e0b36aerow0_col2\" class=\"data row0 col2\" >0.9286</td>\n",
       "                        <td id=\"T_e0f9077a_2230_11eb_b3a0_e0d55e0b36aerow0_col3\" class=\"data row0 col3\" >0.7963</td>\n",
       "                        <td id=\"T_e0f9077a_2230_11eb_b3a0_e0d55e0b36aerow0_col4\" class=\"data row0 col4\" >0.8699</td>\n",
       "                        <td id=\"T_e0f9077a_2230_11eb_b3a0_e0d55e0b36aerow0_col5\" class=\"data row0 col5\" >0.8701</td>\n",
       "                        <td id=\"T_e0f9077a_2230_11eb_b3a0_e0d55e0b36aerow0_col6\" class=\"data row0 col6\" >0.6307</td>\n",
       "                        <td id=\"T_e0f9077a_2230_11eb_b3a0_e0d55e0b36aerow0_col7\" class=\"data row0 col7\" >0.6356</td>\n",
       "                        <td id=\"T_e0f9077a_2230_11eb_b3a0_e0d55e0b36aerow0_col8\" class=\"data row0 col8\" >5.0860</td>\n",
       "            </tr>\n",
       "            <tr>\n",
       "                        <th id=\"T_e0f9077a_2230_11eb_b3a0_e0d55e0b36aelevel0_row1\" class=\"row_heading level0 row1\" >lightgbm</th>\n",
       "                        <td id=\"T_e0f9077a_2230_11eb_b3a0_e0d55e0b36aerow1_col0\" class=\"data row1 col0\" >Light Gradient Boosting Machine</td>\n",
       "                        <td id=\"T_e0f9077a_2230_11eb_b3a0_e0d55e0b36aerow1_col1\" class=\"data row1 col1\" >0.8743</td>\n",
       "                        <td id=\"T_e0f9077a_2230_11eb_b3a0_e0d55e0b36aerow1_col2\" class=\"data row1 col2\" >0.9278</td>\n",
       "                        <td id=\"T_e0f9077a_2230_11eb_b3a0_e0d55e0b36aerow1_col3\" class=\"data row1 col3\" >0.7969</td>\n",
       "                        <td id=\"T_e0f9077a_2230_11eb_b3a0_e0d55e0b36aerow1_col4\" class=\"data row1 col4\" >0.8697</td>\n",
       "                        <td id=\"T_e0f9077a_2230_11eb_b3a0_e0d55e0b36aerow1_col5\" class=\"data row1 col5\" >0.8700</td>\n",
       "                        <td id=\"T_e0f9077a_2230_11eb_b3a0_e0d55e0b36aerow1_col6\" class=\"data row1 col6\" >0.6308</td>\n",
       "                        <td id=\"T_e0f9077a_2230_11eb_b3a0_e0d55e0b36aerow1_col7\" class=\"data row1 col7\" >0.6354</td>\n",
       "                        <td id=\"T_e0f9077a_2230_11eb_b3a0_e0d55e0b36aerow1_col8\" class=\"data row1 col8\" >0.0960</td>\n",
       "            </tr>\n",
       "            <tr>\n",
       "                        <th id=\"T_e0f9077a_2230_11eb_b3a0_e0d55e0b36aelevel0_row2\" class=\"row_heading level0 row2\" >xgboost</th>\n",
       "                        <td id=\"T_e0f9077a_2230_11eb_b3a0_e0d55e0b36aerow2_col0\" class=\"data row2 col0\" >Extreme Gradient Boosting</td>\n",
       "                        <td id=\"T_e0f9077a_2230_11eb_b3a0_e0d55e0b36aerow2_col1\" class=\"data row2 col1\" >0.8721</td>\n",
       "                        <td id=\"T_e0f9077a_2230_11eb_b3a0_e0d55e0b36aerow2_col2\" class=\"data row2 col2\" >0.9269</td>\n",
       "                        <td id=\"T_e0f9077a_2230_11eb_b3a0_e0d55e0b36aerow2_col3\" class=\"data row2 col3\" >0.7944</td>\n",
       "                        <td id=\"T_e0f9077a_2230_11eb_b3a0_e0d55e0b36aerow2_col4\" class=\"data row2 col4\" >0.8674</td>\n",
       "                        <td id=\"T_e0f9077a_2230_11eb_b3a0_e0d55e0b36aerow2_col5\" class=\"data row2 col5\" >0.8679</td>\n",
       "                        <td id=\"T_e0f9077a_2230_11eb_b3a0_e0d55e0b36aerow2_col6\" class=\"data row2 col6\" >0.6248</td>\n",
       "                        <td id=\"T_e0f9077a_2230_11eb_b3a0_e0d55e0b36aerow2_col7\" class=\"data row2 col7\" >0.6292</td>\n",
       "                        <td id=\"T_e0f9077a_2230_11eb_b3a0_e0d55e0b36aerow2_col8\" class=\"data row2 col8\" >2.0000</td>\n",
       "            </tr>\n",
       "            <tr>\n",
       "                        <th id=\"T_e0f9077a_2230_11eb_b3a0_e0d55e0b36aelevel0_row3\" class=\"row_heading level0 row3\" >gbc</th>\n",
       "                        <td id=\"T_e0f9077a_2230_11eb_b3a0_e0d55e0b36aerow3_col0\" class=\"data row3 col0\" >Gradient Boosting Classifier</td>\n",
       "                        <td id=\"T_e0f9077a_2230_11eb_b3a0_e0d55e0b36aerow3_col1\" class=\"data row3 col1\" >0.8655</td>\n",
       "                        <td id=\"T_e0f9077a_2230_11eb_b3a0_e0d55e0b36aerow3_col2\" class=\"data row3 col2\" >0.9182</td>\n",
       "                        <td id=\"T_e0f9077a_2230_11eb_b3a0_e0d55e0b36aerow3_col3\" class=\"data row3 col3\" >0.7657</td>\n",
       "                        <td id=\"T_e0f9077a_2230_11eb_b3a0_e0d55e0b36aerow3_col4\" class=\"data row3 col4\" >0.8603</td>\n",
       "                        <td id=\"T_e0f9077a_2230_11eb_b3a0_e0d55e0b36aerow3_col5\" class=\"data row3 col5\" >0.8573</td>\n",
       "                        <td id=\"T_e0f9077a_2230_11eb_b3a0_e0d55e0b36aerow3_col6\" class=\"data row3 col6\" >0.5883</td>\n",
       "                        <td id=\"T_e0f9077a_2230_11eb_b3a0_e0d55e0b36aerow3_col7\" class=\"data row3 col7\" >0.6010</td>\n",
       "                        <td id=\"T_e0f9077a_2230_11eb_b3a0_e0d55e0b36aerow3_col8\" class=\"data row3 col8\" >1.0220</td>\n",
       "            </tr>\n",
       "            <tr>\n",
       "                        <th id=\"T_e0f9077a_2230_11eb_b3a0_e0d55e0b36aelevel0_row4\" class=\"row_heading level0 row4\" >ada</th>\n",
       "                        <td id=\"T_e0f9077a_2230_11eb_b3a0_e0d55e0b36aerow4_col0\" class=\"data row4 col0\" >Ada Boost Classifier</td>\n",
       "                        <td id=\"T_e0f9077a_2230_11eb_b3a0_e0d55e0b36aerow4_col1\" class=\"data row4 col1\" >0.8615</td>\n",
       "                        <td id=\"T_e0f9077a_2230_11eb_b3a0_e0d55e0b36aerow4_col2\" class=\"data row4 col2\" >0.9130</td>\n",
       "                        <td id=\"T_e0f9077a_2230_11eb_b3a0_e0d55e0b36aerow4_col3\" class=\"data row4 col3\" >0.7746</td>\n",
       "                        <td id=\"T_e0f9077a_2230_11eb_b3a0_e0d55e0b36aerow4_col4\" class=\"data row4 col4\" >0.8556</td>\n",
       "                        <td id=\"T_e0f9077a_2230_11eb_b3a0_e0d55e0b36aerow4_col5\" class=\"data row4 col5\" >0.8559</td>\n",
       "                        <td id=\"T_e0f9077a_2230_11eb_b3a0_e0d55e0b36aerow4_col6\" class=\"data row4 col6\" >0.5892</td>\n",
       "                        <td id=\"T_e0f9077a_2230_11eb_b3a0_e0d55e0b36aerow4_col7\" class=\"data row4 col7\" >0.5950</td>\n",
       "                        <td id=\"T_e0f9077a_2230_11eb_b3a0_e0d55e0b36aerow4_col8\" class=\"data row4 col8\" >0.2860</td>\n",
       "            </tr>\n",
       "            <tr>\n",
       "                        <th id=\"T_e0f9077a_2230_11eb_b3a0_e0d55e0b36aelevel0_row5\" class=\"row_heading level0 row5\" >rf</th>\n",
       "                        <td id=\"T_e0f9077a_2230_11eb_b3a0_e0d55e0b36aerow5_col0\" class=\"data row5 col0\" >Random Forest Classifier</td>\n",
       "                        <td id=\"T_e0f9077a_2230_11eb_b3a0_e0d55e0b36aerow5_col1\" class=\"data row5 col1\" >0.8563</td>\n",
       "                        <td id=\"T_e0f9077a_2230_11eb_b3a0_e0d55e0b36aerow5_col2\" class=\"data row5 col2\" >0.9023</td>\n",
       "                        <td id=\"T_e0f9077a_2230_11eb_b3a0_e0d55e0b36aerow5_col3\" class=\"data row5 col3\" >0.7725</td>\n",
       "                        <td id=\"T_e0f9077a_2230_11eb_b3a0_e0d55e0b36aerow5_col4\" class=\"data row5 col4\" >0.8504</td>\n",
       "                        <td id=\"T_e0f9077a_2230_11eb_b3a0_e0d55e0b36aerow5_col5\" class=\"data row5 col5\" >0.8515</td>\n",
       "                        <td id=\"T_e0f9077a_2230_11eb_b3a0_e0d55e0b36aerow5_col6\" class=\"data row5 col6\" >0.5784</td>\n",
       "                        <td id=\"T_e0f9077a_2230_11eb_b3a0_e0d55e0b36aerow5_col7\" class=\"data row5 col7\" >0.5825</td>\n",
       "                        <td id=\"T_e0f9077a_2230_11eb_b3a0_e0d55e0b36aerow5_col8\" class=\"data row5 col8\" >0.9990</td>\n",
       "            </tr>\n",
       "            <tr>\n",
       "                        <th id=\"T_e0f9077a_2230_11eb_b3a0_e0d55e0b36aelevel0_row6\" class=\"row_heading level0 row6\" >lda</th>\n",
       "                        <td id=\"T_e0f9077a_2230_11eb_b3a0_e0d55e0b36aerow6_col0\" class=\"data row6 col0\" >Linear Discriminant Analysis</td>\n",
       "                        <td id=\"T_e0f9077a_2230_11eb_b3a0_e0d55e0b36aerow6_col1\" class=\"data row6 col1\" >0.8417</td>\n",
       "                        <td id=\"T_e0f9077a_2230_11eb_b3a0_e0d55e0b36aerow6_col2\" class=\"data row6 col2\" >0.8931</td>\n",
       "                        <td id=\"T_e0f9077a_2230_11eb_b3a0_e0d55e0b36aerow6_col3\" class=\"data row6 col3\" >0.7430</td>\n",
       "                        <td id=\"T_e0f9077a_2230_11eb_b3a0_e0d55e0b36aerow6_col4\" class=\"data row6 col4\" >0.8334</td>\n",
       "                        <td id=\"T_e0f9077a_2230_11eb_b3a0_e0d55e0b36aerow6_col5\" class=\"data row6 col5\" >0.8344</td>\n",
       "                        <td id=\"T_e0f9077a_2230_11eb_b3a0_e0d55e0b36aerow6_col6\" class=\"data row6 col6\" >0.5262</td>\n",
       "                        <td id=\"T_e0f9077a_2230_11eb_b3a0_e0d55e0b36aerow6_col7\" class=\"data row6 col7\" >0.5329</td>\n",
       "                        <td id=\"T_e0f9077a_2230_11eb_b3a0_e0d55e0b36aerow6_col8\" class=\"data row6 col8\" >0.3230</td>\n",
       "            </tr>\n",
       "            <tr>\n",
       "                        <th id=\"T_e0f9077a_2230_11eb_b3a0_e0d55e0b36aelevel0_row7\" class=\"row_heading level0 row7\" >ridge</th>\n",
       "                        <td id=\"T_e0f9077a_2230_11eb_b3a0_e0d55e0b36aerow7_col0\" class=\"data row7 col0\" >Ridge Classifier</td>\n",
       "                        <td id=\"T_e0f9077a_2230_11eb_b3a0_e0d55e0b36aerow7_col1\" class=\"data row7 col1\" >0.8404</td>\n",
       "                        <td id=\"T_e0f9077a_2230_11eb_b3a0_e0d55e0b36aerow7_col2\" class=\"data row7 col2\" >0.0000</td>\n",
       "                        <td id=\"T_e0f9077a_2230_11eb_b3a0_e0d55e0b36aerow7_col3\" class=\"data row7 col3\" >0.7215</td>\n",
       "                        <td id=\"T_e0f9077a_2230_11eb_b3a0_e0d55e0b36aerow7_col4\" class=\"data row7 col4\" >0.8315</td>\n",
       "                        <td id=\"T_e0f9077a_2230_11eb_b3a0_e0d55e0b36aerow7_col5\" class=\"data row7 col5\" >0.8282</td>\n",
       "                        <td id=\"T_e0f9077a_2230_11eb_b3a0_e0d55e0b36aerow7_col6\" class=\"data row7 col6\" >0.5010</td>\n",
       "                        <td id=\"T_e0f9077a_2230_11eb_b3a0_e0d55e0b36aerow7_col7\" class=\"data row7 col7\" >0.5174</td>\n",
       "                        <td id=\"T_e0f9077a_2230_11eb_b3a0_e0d55e0b36aerow7_col8\" class=\"data row7 col8\" >0.0540</td>\n",
       "            </tr>\n",
       "            <tr>\n",
       "                        <th id=\"T_e0f9077a_2230_11eb_b3a0_e0d55e0b36aelevel0_row8\" class=\"row_heading level0 row8\" >et</th>\n",
       "                        <td id=\"T_e0f9077a_2230_11eb_b3a0_e0d55e0b36aerow8_col0\" class=\"data row8 col0\" >Extra Trees Classifier</td>\n",
       "                        <td id=\"T_e0f9077a_2230_11eb_b3a0_e0d55e0b36aerow8_col1\" class=\"data row8 col1\" >0.8349</td>\n",
       "                        <td id=\"T_e0f9077a_2230_11eb_b3a0_e0d55e0b36aerow8_col2\" class=\"data row8 col2\" >0.8771</td>\n",
       "                        <td id=\"T_e0f9077a_2230_11eb_b3a0_e0d55e0b36aerow8_col3\" class=\"data row8 col3\" >0.7513</td>\n",
       "                        <td id=\"T_e0f9077a_2230_11eb_b3a0_e0d55e0b36aerow8_col4\" class=\"data row8 col4\" >0.8291</td>\n",
       "                        <td id=\"T_e0f9077a_2230_11eb_b3a0_e0d55e0b36aerow8_col5\" class=\"data row8 col5\" >0.8311</td>\n",
       "                        <td id=\"T_e0f9077a_2230_11eb_b3a0_e0d55e0b36aerow8_col6\" class=\"data row8 col6\" >0.5240</td>\n",
       "                        <td id=\"T_e0f9077a_2230_11eb_b3a0_e0d55e0b36aerow8_col7\" class=\"data row8 col7\" >0.5259</td>\n",
       "                        <td id=\"T_e0f9077a_2230_11eb_b3a0_e0d55e0b36aerow8_col8\" class=\"data row8 col8\" >1.4400</td>\n",
       "            </tr>\n",
       "            <tr>\n",
       "                        <th id=\"T_e0f9077a_2230_11eb_b3a0_e0d55e0b36aelevel0_row9\" class=\"row_heading level0 row9\" >dt</th>\n",
       "                        <td id=\"T_e0f9077a_2230_11eb_b3a0_e0d55e0b36aerow9_col0\" class=\"data row9 col0\" >Decision Tree Classifier</td>\n",
       "                        <td id=\"T_e0f9077a_2230_11eb_b3a0_e0d55e0b36aerow9_col1\" class=\"data row9 col1\" >0.8110</td>\n",
       "                        <td id=\"T_e0f9077a_2230_11eb_b3a0_e0d55e0b36aerow9_col2\" class=\"data row9 col2\" >0.7427</td>\n",
       "                        <td id=\"T_e0f9077a_2230_11eb_b3a0_e0d55e0b36aerow9_col3\" class=\"data row9 col3\" >0.7427</td>\n",
       "                        <td id=\"T_e0f9077a_2230_11eb_b3a0_e0d55e0b36aerow9_col4\" class=\"data row9 col4\" >0.8125</td>\n",
       "                        <td id=\"T_e0f9077a_2230_11eb_b3a0_e0d55e0b36aerow9_col5\" class=\"data row9 col5\" >0.8117</td>\n",
       "                        <td id=\"T_e0f9077a_2230_11eb_b3a0_e0d55e0b36aerow9_col6\" class=\"data row9 col6\" >0.4817</td>\n",
       "                        <td id=\"T_e0f9077a_2230_11eb_b3a0_e0d55e0b36aerow9_col7\" class=\"data row9 col7\" >0.4818</td>\n",
       "                        <td id=\"T_e0f9077a_2230_11eb_b3a0_e0d55e0b36aerow9_col8\" class=\"data row9 col8\" >0.0880</td>\n",
       "            </tr>\n",
       "            <tr>\n",
       "                        <th id=\"T_e0f9077a_2230_11eb_b3a0_e0d55e0b36aelevel0_row10\" class=\"row_heading level0 row10\" >lr</th>\n",
       "                        <td id=\"T_e0f9077a_2230_11eb_b3a0_e0d55e0b36aerow10_col0\" class=\"data row10 col0\" >Logistic Regression</td>\n",
       "                        <td id=\"T_e0f9077a_2230_11eb_b3a0_e0d55e0b36aerow10_col1\" class=\"data row10 col1\" >0.8021</td>\n",
       "                        <td id=\"T_e0f9077a_2230_11eb_b3a0_e0d55e0b36aerow10_col2\" class=\"data row10 col2\" >0.5996</td>\n",
       "                        <td id=\"T_e0f9077a_2230_11eb_b3a0_e0d55e0b36aerow10_col3\" class=\"data row10 col3\" >0.6226</td>\n",
       "                        <td id=\"T_e0f9077a_2230_11eb_b3a0_e0d55e0b36aerow10_col4\" class=\"data row10 col4\" >0.7890</td>\n",
       "                        <td id=\"T_e0f9077a_2230_11eb_b3a0_e0d55e0b36aerow10_col5\" class=\"data row10 col5\" >0.7671</td>\n",
       "                        <td id=\"T_e0f9077a_2230_11eb_b3a0_e0d55e0b36aerow10_col6\" class=\"data row10 col6\" >0.3080</td>\n",
       "                        <td id=\"T_e0f9077a_2230_11eb_b3a0_e0d55e0b36aerow10_col7\" class=\"data row10 col7\" >0.3579</td>\n",
       "                        <td id=\"T_e0f9077a_2230_11eb_b3a0_e0d55e0b36aerow10_col8\" class=\"data row10 col8\" >0.2650</td>\n",
       "            </tr>\n",
       "            <tr>\n",
       "                        <th id=\"T_e0f9077a_2230_11eb_b3a0_e0d55e0b36aelevel0_row11\" class=\"row_heading level0 row11\" >nb</th>\n",
       "                        <td id=\"T_e0f9077a_2230_11eb_b3a0_e0d55e0b36aerow11_col0\" class=\"data row11 col0\" >Naive Bayes</td>\n",
       "                        <td id=\"T_e0f9077a_2230_11eb_b3a0_e0d55e0b36aerow11_col1\" class=\"data row11 col1\" >0.7965</td>\n",
       "                        <td id=\"T_e0f9077a_2230_11eb_b3a0_e0d55e0b36aerow11_col2\" class=\"data row11 col2\" >0.8042</td>\n",
       "                        <td id=\"T_e0f9077a_2230_11eb_b3a0_e0d55e0b36aerow11_col3\" class=\"data row11 col3\" >0.6291</td>\n",
       "                        <td id=\"T_e0f9077a_2230_11eb_b3a0_e0d55e0b36aerow11_col4\" class=\"data row11 col4\" >0.7759</td>\n",
       "                        <td id=\"T_e0f9077a_2230_11eb_b3a0_e0d55e0b36aerow11_col5\" class=\"data row11 col5\" >0.7682</td>\n",
       "                        <td id=\"T_e0f9077a_2230_11eb_b3a0_e0d55e0b36aerow11_col6\" class=\"data row11 col6\" >0.3145</td>\n",
       "                        <td id=\"T_e0f9077a_2230_11eb_b3a0_e0d55e0b36aerow11_col7\" class=\"data row11 col7\" >0.3460</td>\n",
       "                        <td id=\"T_e0f9077a_2230_11eb_b3a0_e0d55e0b36aerow11_col8\" class=\"data row11 col8\" >0.0210</td>\n",
       "            </tr>\n",
       "            <tr>\n",
       "                        <th id=\"T_e0f9077a_2230_11eb_b3a0_e0d55e0b36aelevel0_row12\" class=\"row_heading level0 row12\" >knn</th>\n",
       "                        <td id=\"T_e0f9077a_2230_11eb_b3a0_e0d55e0b36aerow12_col0\" class=\"data row12 col0\" >K Neighbors Classifier</td>\n",
       "                        <td id=\"T_e0f9077a_2230_11eb_b3a0_e0d55e0b36aerow12_col1\" class=\"data row12 col1\" >0.7747</td>\n",
       "                        <td id=\"T_e0f9077a_2230_11eb_b3a0_e0d55e0b36aerow12_col2\" class=\"data row12 col2\" >0.6585</td>\n",
       "                        <td id=\"T_e0f9077a_2230_11eb_b3a0_e0d55e0b36aerow12_col3\" class=\"data row12 col3\" >0.6106</td>\n",
       "                        <td id=\"T_e0f9077a_2230_11eb_b3a0_e0d55e0b36aerow12_col4\" class=\"data row12 col4\" >0.7465</td>\n",
       "                        <td id=\"T_e0f9077a_2230_11eb_b3a0_e0d55e0b36aerow12_col5\" class=\"data row12 col5\" >0.7491</td>\n",
       "                        <td id=\"T_e0f9077a_2230_11eb_b3a0_e0d55e0b36aerow12_col6\" class=\"data row12 col6\" >0.2621</td>\n",
       "                        <td id=\"T_e0f9077a_2230_11eb_b3a0_e0d55e0b36aerow12_col7\" class=\"data row12 col7\" >0.2802</td>\n",
       "                        <td id=\"T_e0f9077a_2230_11eb_b3a0_e0d55e0b36aerow12_col8\" class=\"data row12 col8\" >0.1980</td>\n",
       "            </tr>\n",
       "            <tr>\n",
       "                        <th id=\"T_e0f9077a_2230_11eb_b3a0_e0d55e0b36aelevel0_row13\" class=\"row_heading level0 row13\" >svm</th>\n",
       "                        <td id=\"T_e0f9077a_2230_11eb_b3a0_e0d55e0b36aerow13_col0\" class=\"data row13 col0\" >SVM - Linear Kernel</td>\n",
       "                        <td id=\"T_e0f9077a_2230_11eb_b3a0_e0d55e0b36aerow13_col1\" class=\"data row13 col1\" >0.6799</td>\n",
       "                        <td id=\"T_e0f9077a_2230_11eb_b3a0_e0d55e0b36aerow13_col2\" class=\"data row13 col2\" >0.0000</td>\n",
       "                        <td id=\"T_e0f9077a_2230_11eb_b3a0_e0d55e0b36aerow13_col3\" class=\"data row13 col3\" >0.5699</td>\n",
       "                        <td id=\"T_e0f9077a_2230_11eb_b3a0_e0d55e0b36aerow13_col4\" class=\"data row13 col4\" >0.6420</td>\n",
       "                        <td id=\"T_e0f9077a_2230_11eb_b3a0_e0d55e0b36aerow13_col5\" class=\"data row13 col5\" >0.6103</td>\n",
       "                        <td id=\"T_e0f9077a_2230_11eb_b3a0_e0d55e0b36aerow13_col6\" class=\"data row13 col6\" >0.1820</td>\n",
       "                        <td id=\"T_e0f9077a_2230_11eb_b3a0_e0d55e0b36aerow13_col7\" class=\"data row13 col7\" >0.2411</td>\n",
       "                        <td id=\"T_e0f9077a_2230_11eb_b3a0_e0d55e0b36aerow13_col8\" class=\"data row13 col8\" >0.4960</td>\n",
       "            </tr>\n",
       "            <tr>\n",
       "                        <th id=\"T_e0f9077a_2230_11eb_b3a0_e0d55e0b36aelevel0_row14\" class=\"row_heading level0 row14\" >qda</th>\n",
       "                        <td id=\"T_e0f9077a_2230_11eb_b3a0_e0d55e0b36aerow14_col0\" class=\"data row14 col0\" >Quadratic Discriminant Analysis</td>\n",
       "                        <td id=\"T_e0f9077a_2230_11eb_b3a0_e0d55e0b36aerow14_col1\" class=\"data row14 col1\" >0.5537</td>\n",
       "                        <td id=\"T_e0f9077a_2230_11eb_b3a0_e0d55e0b36aerow14_col2\" class=\"data row14 col2\" >0.5620</td>\n",
       "                        <td id=\"T_e0f9077a_2230_11eb_b3a0_e0d55e0b36aerow14_col3\" class=\"data row14 col3\" >0.5620</td>\n",
       "                        <td id=\"T_e0f9077a_2230_11eb_b3a0_e0d55e0b36aerow14_col4\" class=\"data row14 col4\" >0.7039</td>\n",
       "                        <td id=\"T_e0f9077a_2230_11eb_b3a0_e0d55e0b36aerow14_col5\" class=\"data row14 col5\" >0.5548</td>\n",
       "                        <td id=\"T_e0f9077a_2230_11eb_b3a0_e0d55e0b36aerow14_col6\" class=\"data row14 col6\" >0.0879</td>\n",
       "                        <td id=\"T_e0f9077a_2230_11eb_b3a0_e0d55e0b36aerow14_col7\" class=\"data row14 col7\" >0.1170</td>\n",
       "                        <td id=\"T_e0f9077a_2230_11eb_b3a0_e0d55e0b36aerow14_col8\" class=\"data row14 col8\" >0.3940</td>\n",
       "            </tr>\n",
       "    </tbody></table>"
      ],
      "text/plain": [
       "<pandas.io.formats.style.Styler at 0x7f186eb9c2e0>"
      ]
     },
     "metadata": {},
     "output_type": "display_data"
    },
    {
     "name": "stdout",
     "output_type": "stream",
     "text": [
      "CPU times: user 37 s, sys: 2.03 s, total: 39.1 s\n",
      "Wall time: 2min 28s\n"
     ]
    }
   ],
   "source": [
    "%%time\n",
    "#best_model = compare_models(n_select = 1)\n",
    "top10 = compare_models(n_select = 10)"
   ]
  },
  {
   "cell_type": "markdown",
   "metadata": {},
   "source": [
    "# Optimización de hiperparámateros de los 10 mejores"
   ]
  },
  {
   "cell_type": "code",
   "execution_count": 7,
   "metadata": {},
   "outputs": [],
   "source": [
    "# tune top 10 base models\n",
    "# tuned_top10 = [tune_model(model) for model in top10]"
   ]
  },
  {
   "cell_type": "markdown",
   "metadata": {},
   "source": [
    "# Ensemble"
   ]
  },
  {
   "cell_type": "code",
   "execution_count": 8,
   "metadata": {},
   "outputs": [],
   "source": [
    "%%time\n",
    "# bagged_top10 = [ensemble_model(i) for i in top10] # tuned_top10"
   ]
  },
  {
   "cell_type": "code",
   "execution_count": null,
   "metadata": {},
   "outputs": [],
   "source": [
    "%%time\n",
    "# blender = blend_models(estimator_list = top10) "
   ]
  },
  {
   "cell_type": "code",
   "execution_count": 11,
   "metadata": {},
   "outputs": [
    {
     "name": "stdout",
     "output_type": "stream",
     "text": [
      "CPU times: user 10 µs, sys: 0 ns, total: 10 µs\n",
      "Wall time: 19.6 µs\n"
     ]
    }
   ],
   "source": [
    "%%time\n",
    "#stacking = stack_models(estimator_list = top10, meta_model     = create_model('xgboost'))"
   ]
  },
  {
   "cell_type": "markdown",
   "metadata": {
    "colab_type": "text",
    "id": "P5m2pciOEQo4"
   },
   "source": [
    "# Ver modelos disponibles para entrenar en PyCaret"
   ]
  },
  {
   "cell_type": "code",
   "execution_count": 12,
   "metadata": {
    "scrolled": false
   },
   "outputs": [
    {
     "data": {
      "text/html": [
       "<div>\n",
       "<style scoped>\n",
       "    .dataframe tbody tr th:only-of-type {\n",
       "        vertical-align: middle;\n",
       "    }\n",
       "\n",
       "    .dataframe tbody tr th {\n",
       "        vertical-align: top;\n",
       "    }\n",
       "\n",
       "    .dataframe thead th {\n",
       "        text-align: right;\n",
       "    }\n",
       "</style>\n",
       "<table border=\"1\" class=\"dataframe\">\n",
       "  <thead>\n",
       "    <tr style=\"text-align: right;\">\n",
       "      <th></th>\n",
       "      <th>Name</th>\n",
       "      <th>Reference</th>\n",
       "      <th>Turbo</th>\n",
       "    </tr>\n",
       "    <tr>\n",
       "      <th>ID</th>\n",
       "      <th></th>\n",
       "      <th></th>\n",
       "      <th></th>\n",
       "    </tr>\n",
       "  </thead>\n",
       "  <tbody>\n",
       "    <tr>\n",
       "      <th>lr</th>\n",
       "      <td>Logistic Regression</td>\n",
       "      <td>sklearn.linear_model._logistic.LogisticRegression</td>\n",
       "      <td>True</td>\n",
       "    </tr>\n",
       "    <tr>\n",
       "      <th>knn</th>\n",
       "      <td>K Neighbors Classifier</td>\n",
       "      <td>sklearn.neighbors._classification.KNeighborsCl...</td>\n",
       "      <td>True</td>\n",
       "    </tr>\n",
       "    <tr>\n",
       "      <th>nb</th>\n",
       "      <td>Naive Bayes</td>\n",
       "      <td>sklearn.naive_bayes.GaussianNB</td>\n",
       "      <td>True</td>\n",
       "    </tr>\n",
       "    <tr>\n",
       "      <th>dt</th>\n",
       "      <td>Decision Tree Classifier</td>\n",
       "      <td>sklearn.tree._classes.DecisionTreeClassifier</td>\n",
       "      <td>True</td>\n",
       "    </tr>\n",
       "    <tr>\n",
       "      <th>svm</th>\n",
       "      <td>SVM - Linear Kernel</td>\n",
       "      <td>sklearn.linear_model._stochastic_gradient.SGDC...</td>\n",
       "      <td>True</td>\n",
       "    </tr>\n",
       "    <tr>\n",
       "      <th>rbfsvm</th>\n",
       "      <td>SVM - Radial Kernel</td>\n",
       "      <td>sklearn.svm._classes.SVC</td>\n",
       "      <td>False</td>\n",
       "    </tr>\n",
       "    <tr>\n",
       "      <th>gpc</th>\n",
       "      <td>Gaussian Process Classifier</td>\n",
       "      <td>sklearn.gaussian_process._gpc.GaussianProcessC...</td>\n",
       "      <td>False</td>\n",
       "    </tr>\n",
       "    <tr>\n",
       "      <th>mlp</th>\n",
       "      <td>MLP Classifier</td>\n",
       "      <td>pycaret.internal.tunable.TunableMLPClassifier</td>\n",
       "      <td>False</td>\n",
       "    </tr>\n",
       "    <tr>\n",
       "      <th>ridge</th>\n",
       "      <td>Ridge Classifier</td>\n",
       "      <td>sklearn.linear_model._ridge.RidgeClassifier</td>\n",
       "      <td>True</td>\n",
       "    </tr>\n",
       "    <tr>\n",
       "      <th>rf</th>\n",
       "      <td>Random Forest Classifier</td>\n",
       "      <td>sklearn.ensemble._forest.RandomForestClassifier</td>\n",
       "      <td>True</td>\n",
       "    </tr>\n",
       "    <tr>\n",
       "      <th>qda</th>\n",
       "      <td>Quadratic Discriminant Analysis</td>\n",
       "      <td>sklearn.discriminant_analysis.QuadraticDiscrim...</td>\n",
       "      <td>True</td>\n",
       "    </tr>\n",
       "    <tr>\n",
       "      <th>ada</th>\n",
       "      <td>Ada Boost Classifier</td>\n",
       "      <td>sklearn.ensemble._weight_boosting.AdaBoostClas...</td>\n",
       "      <td>True</td>\n",
       "    </tr>\n",
       "    <tr>\n",
       "      <th>gbc</th>\n",
       "      <td>Gradient Boosting Classifier</td>\n",
       "      <td>sklearn.ensemble._gb.GradientBoostingClassifier</td>\n",
       "      <td>True</td>\n",
       "    </tr>\n",
       "    <tr>\n",
       "      <th>lda</th>\n",
       "      <td>Linear Discriminant Analysis</td>\n",
       "      <td>sklearn.discriminant_analysis.LinearDiscrimina...</td>\n",
       "      <td>True</td>\n",
       "    </tr>\n",
       "    <tr>\n",
       "      <th>et</th>\n",
       "      <td>Extra Trees Classifier</td>\n",
       "      <td>sklearn.ensemble._forest.ExtraTreesClassifier</td>\n",
       "      <td>True</td>\n",
       "    </tr>\n",
       "    <tr>\n",
       "      <th>xgboost</th>\n",
       "      <td>Extreme Gradient Boosting</td>\n",
       "      <td>xgboost.sklearn.XGBClassifier</td>\n",
       "      <td>True</td>\n",
       "    </tr>\n",
       "    <tr>\n",
       "      <th>lightgbm</th>\n",
       "      <td>Light Gradient Boosting Machine</td>\n",
       "      <td>lightgbm.sklearn.LGBMClassifier</td>\n",
       "      <td>True</td>\n",
       "    </tr>\n",
       "    <tr>\n",
       "      <th>catboost</th>\n",
       "      <td>CatBoost Classifier</td>\n",
       "      <td>catboost.core.CatBoostClassifier</td>\n",
       "      <td>True</td>\n",
       "    </tr>\n",
       "  </tbody>\n",
       "</table>\n",
       "</div>"
      ],
      "text/plain": [
       "                                     Name  \\\n",
       "ID                                          \n",
       "lr                    Logistic Regression   \n",
       "knn                K Neighbors Classifier   \n",
       "nb                            Naive Bayes   \n",
       "dt               Decision Tree Classifier   \n",
       "svm                   SVM - Linear Kernel   \n",
       "rbfsvm                SVM - Radial Kernel   \n",
       "gpc           Gaussian Process Classifier   \n",
       "mlp                        MLP Classifier   \n",
       "ridge                    Ridge Classifier   \n",
       "rf               Random Forest Classifier   \n",
       "qda       Quadratic Discriminant Analysis   \n",
       "ada                  Ada Boost Classifier   \n",
       "gbc          Gradient Boosting Classifier   \n",
       "lda          Linear Discriminant Analysis   \n",
       "et                 Extra Trees Classifier   \n",
       "xgboost         Extreme Gradient Boosting   \n",
       "lightgbm  Light Gradient Boosting Machine   \n",
       "catboost              CatBoost Classifier   \n",
       "\n",
       "                                                  Reference  Turbo  \n",
       "ID                                                                  \n",
       "lr        sklearn.linear_model._logistic.LogisticRegression   True  \n",
       "knn       sklearn.neighbors._classification.KNeighborsCl...   True  \n",
       "nb                           sklearn.naive_bayes.GaussianNB   True  \n",
       "dt             sklearn.tree._classes.DecisionTreeClassifier   True  \n",
       "svm       sklearn.linear_model._stochastic_gradient.SGDC...   True  \n",
       "rbfsvm                             sklearn.svm._classes.SVC  False  \n",
       "gpc       sklearn.gaussian_process._gpc.GaussianProcessC...  False  \n",
       "mlp           pycaret.internal.tunable.TunableMLPClassifier  False  \n",
       "ridge           sklearn.linear_model._ridge.RidgeClassifier   True  \n",
       "rf          sklearn.ensemble._forest.RandomForestClassifier   True  \n",
       "qda       sklearn.discriminant_analysis.QuadraticDiscrim...   True  \n",
       "ada       sklearn.ensemble._weight_boosting.AdaBoostClas...   True  \n",
       "gbc         sklearn.ensemble._gb.GradientBoostingClassifier   True  \n",
       "lda       sklearn.discriminant_analysis.LinearDiscrimina...   True  \n",
       "et            sklearn.ensemble._forest.ExtraTreesClassifier   True  \n",
       "xgboost                       xgboost.sklearn.XGBClassifier   True  \n",
       "lightgbm                    lightgbm.sklearn.LGBMClassifier   True  \n",
       "catboost                   catboost.core.CatBoostClassifier   True  "
      ]
     },
     "execution_count": 12,
     "metadata": {},
     "output_type": "execute_result"
    }
   ],
   "source": [
    "models()"
   ]
  },
  {
   "cell_type": "markdown",
   "metadata": {
    "colab_type": "text",
    "id": "UWMSeyNhEQo-"
   },
   "source": [
    "### Decision Tree Classifier"
   ]
  },
  {
   "cell_type": "code",
   "execution_count": 8,
   "metadata": {
    "colab": {
     "base_uri": "https://localhost:8080/",
     "height": 392
    },
    "colab_type": "code",
    "id": "LP896uSIEQpD",
    "outputId": "d6d31562-feb5-4052-ee23-0a444fecaacf"
   },
   "outputs": [
    {
     "data": {
      "text/html": [
       "<style  type=\"text/css\" >\n",
       "#T_e35852c0_2170_11eb_aa84_e0d55e0b36aerow10_col0,#T_e35852c0_2170_11eb_aa84_e0d55e0b36aerow10_col1,#T_e35852c0_2170_11eb_aa84_e0d55e0b36aerow10_col2,#T_e35852c0_2170_11eb_aa84_e0d55e0b36aerow10_col3,#T_e35852c0_2170_11eb_aa84_e0d55e0b36aerow10_col4,#T_e35852c0_2170_11eb_aa84_e0d55e0b36aerow10_col5,#T_e35852c0_2170_11eb_aa84_e0d55e0b36aerow10_col6{\n",
       "            background:  yellow;\n",
       "        }</style><table id=\"T_e35852c0_2170_11eb_aa84_e0d55e0b36ae\" ><thead>    <tr>        <th class=\"blank level0\" ></th>        <th class=\"col_heading level0 col0\" >Accuracy</th>        <th class=\"col_heading level0 col1\" >AUC</th>        <th class=\"col_heading level0 col2\" >Recall</th>        <th class=\"col_heading level0 col3\" >Prec.</th>        <th class=\"col_heading level0 col4\" >F1</th>        <th class=\"col_heading level0 col5\" >Kappa</th>        <th class=\"col_heading level0 col6\" >MCC</th>    </tr></thead><tbody>\n",
       "                <tr>\n",
       "                        <th id=\"T_e35852c0_2170_11eb_aa84_e0d55e0b36aelevel0_row0\" class=\"row_heading level0 row0\" >0</th>\n",
       "                        <td id=\"T_e35852c0_2170_11eb_aa84_e0d55e0b36aerow0_col0\" class=\"data row0 col0\" >0.7343</td>\n",
       "                        <td id=\"T_e35852c0_2170_11eb_aa84_e0d55e0b36aerow0_col1\" class=\"data row0 col1\" >0.6257</td>\n",
       "                        <td id=\"T_e35852c0_2170_11eb_aa84_e0d55e0b36aerow0_col2\" class=\"data row0 col2\" >0.6257</td>\n",
       "                        <td id=\"T_e35852c0_2170_11eb_aa84_e0d55e0b36aerow0_col3\" class=\"data row0 col3\" >0.7420</td>\n",
       "                        <td id=\"T_e35852c0_2170_11eb_aa84_e0d55e0b36aerow0_col4\" class=\"data row0 col4\" >0.7380</td>\n",
       "                        <td id=\"T_e35852c0_2170_11eb_aa84_e0d55e0b36aerow0_col5\" class=\"data row0 col5\" >0.2444</td>\n",
       "                        <td id=\"T_e35852c0_2170_11eb_aa84_e0d55e0b36aerow0_col6\" class=\"data row0 col6\" >0.2447</td>\n",
       "            </tr>\n",
       "            <tr>\n",
       "                        <th id=\"T_e35852c0_2170_11eb_aa84_e0d55e0b36aelevel0_row1\" class=\"row_heading level0 row1\" >1</th>\n",
       "                        <td id=\"T_e35852c0_2170_11eb_aa84_e0d55e0b36aerow1_col0\" class=\"data row1 col0\" >0.7325</td>\n",
       "                        <td id=\"T_e35852c0_2170_11eb_aa84_e0d55e0b36aerow1_col1\" class=\"data row1 col1\" >0.6277</td>\n",
       "                        <td id=\"T_e35852c0_2170_11eb_aa84_e0d55e0b36aerow1_col2\" class=\"data row1 col2\" >0.6266</td>\n",
       "                        <td id=\"T_e35852c0_2170_11eb_aa84_e0d55e0b36aerow1_col3\" class=\"data row1 col3\" >0.7421</td>\n",
       "                        <td id=\"T_e35852c0_2170_11eb_aa84_e0d55e0b36aerow1_col4\" class=\"data row1 col4\" >0.7369</td>\n",
       "                        <td id=\"T_e35852c0_2170_11eb_aa84_e0d55e0b36aerow1_col5\" class=\"data row1 col5\" >0.2443</td>\n",
       "                        <td id=\"T_e35852c0_2170_11eb_aa84_e0d55e0b36aerow1_col6\" class=\"data row1 col6\" >0.2448</td>\n",
       "            </tr>\n",
       "            <tr>\n",
       "                        <th id=\"T_e35852c0_2170_11eb_aa84_e0d55e0b36aelevel0_row2\" class=\"row_heading level0 row2\" >2</th>\n",
       "                        <td id=\"T_e35852c0_2170_11eb_aa84_e0d55e0b36aerow2_col0\" class=\"data row2 col0\" >0.7431</td>\n",
       "                        <td id=\"T_e35852c0_2170_11eb_aa84_e0d55e0b36aerow2_col1\" class=\"data row2 col1\" >0.6282</td>\n",
       "                        <td id=\"T_e35852c0_2170_11eb_aa84_e0d55e0b36aerow2_col2\" class=\"data row2 col2\" >0.6282</td>\n",
       "                        <td id=\"T_e35852c0_2170_11eb_aa84_e0d55e0b36aerow2_col3\" class=\"data row2 col3\" >0.7452</td>\n",
       "                        <td id=\"T_e35852c0_2170_11eb_aa84_e0d55e0b36aerow2_col4\" class=\"data row2 col4\" >0.7441</td>\n",
       "                        <td id=\"T_e35852c0_2170_11eb_aa84_e0d55e0b36aerow2_col5\" class=\"data row2 col5\" >0.2544</td>\n",
       "                        <td id=\"T_e35852c0_2170_11eb_aa84_e0d55e0b36aerow2_col6\" class=\"data row2 col6\" >0.2544</td>\n",
       "            </tr>\n",
       "            <tr>\n",
       "                        <th id=\"T_e35852c0_2170_11eb_aa84_e0d55e0b36aelevel0_row3\" class=\"row_heading level0 row3\" >3</th>\n",
       "                        <td id=\"T_e35852c0_2170_11eb_aa84_e0d55e0b36aerow3_col0\" class=\"data row3 col0\" >0.7274</td>\n",
       "                        <td id=\"T_e35852c0_2170_11eb_aa84_e0d55e0b36aerow3_col1\" class=\"data row3 col1\" >0.6151</td>\n",
       "                        <td id=\"T_e35852c0_2170_11eb_aa84_e0d55e0b36aerow3_col2\" class=\"data row3 col2\" >0.6151</td>\n",
       "                        <td id=\"T_e35852c0_2170_11eb_aa84_e0d55e0b36aerow3_col3\" class=\"data row3 col3\" >0.7350</td>\n",
       "                        <td id=\"T_e35852c0_2170_11eb_aa84_e0d55e0b36aerow3_col4\" class=\"data row3 col4\" >0.7310</td>\n",
       "                        <td id=\"T_e35852c0_2170_11eb_aa84_e0d55e0b36aerow3_col5\" class=\"data row3 col5\" >0.2240</td>\n",
       "                        <td id=\"T_e35852c0_2170_11eb_aa84_e0d55e0b36aerow3_col6\" class=\"data row3 col6\" >0.2242</td>\n",
       "            </tr>\n",
       "            <tr>\n",
       "                        <th id=\"T_e35852c0_2170_11eb_aa84_e0d55e0b36aelevel0_row4\" class=\"row_heading level0 row4\" >4</th>\n",
       "                        <td id=\"T_e35852c0_2170_11eb_aa84_e0d55e0b36aerow4_col0\" class=\"data row4 col0\" >0.7187</td>\n",
       "                        <td id=\"T_e35852c0_2170_11eb_aa84_e0d55e0b36aerow4_col1\" class=\"data row4 col1\" >0.6054</td>\n",
       "                        <td id=\"T_e35852c0_2170_11eb_aa84_e0d55e0b36aerow4_col2\" class=\"data row4 col2\" >0.6054</td>\n",
       "                        <td id=\"T_e35852c0_2170_11eb_aa84_e0d55e0b36aerow4_col3\" class=\"data row4 col3\" >0.7282</td>\n",
       "                        <td id=\"T_e35852c0_2170_11eb_aa84_e0d55e0b36aerow4_col4\" class=\"data row4 col4\" >0.7231</td>\n",
       "                        <td id=\"T_e35852c0_2170_11eb_aa84_e0d55e0b36aerow4_col5\" class=\"data row4 col5\" >0.2038</td>\n",
       "                        <td id=\"T_e35852c0_2170_11eb_aa84_e0d55e0b36aerow4_col6\" class=\"data row4 col6\" >0.2042</td>\n",
       "            </tr>\n",
       "            <tr>\n",
       "                        <th id=\"T_e35852c0_2170_11eb_aa84_e0d55e0b36aelevel0_row5\" class=\"row_heading level0 row5\" >5</th>\n",
       "                        <td id=\"T_e35852c0_2170_11eb_aa84_e0d55e0b36aerow5_col0\" class=\"data row5 col0\" >0.7187</td>\n",
       "                        <td id=\"T_e35852c0_2170_11eb_aa84_e0d55e0b36aerow5_col1\" class=\"data row5 col1\" >0.6014</td>\n",
       "                        <td id=\"T_e35852c0_2170_11eb_aa84_e0d55e0b36aerow5_col2\" class=\"data row5 col2\" >0.6002</td>\n",
       "                        <td id=\"T_e35852c0_2170_11eb_aa84_e0d55e0b36aerow5_col3\" class=\"data row5 col3\" >0.7253</td>\n",
       "                        <td id=\"T_e35852c0_2170_11eb_aa84_e0d55e0b36aerow5_col4\" class=\"data row5 col4\" >0.7218</td>\n",
       "                        <td id=\"T_e35852c0_2170_11eb_aa84_e0d55e0b36aerow5_col5\" class=\"data row5 col5\" >0.1958</td>\n",
       "                        <td id=\"T_e35852c0_2170_11eb_aa84_e0d55e0b36aerow5_col6\" class=\"data row5 col6\" >0.1960</td>\n",
       "            </tr>\n",
       "            <tr>\n",
       "                        <th id=\"T_e35852c0_2170_11eb_aa84_e0d55e0b36aelevel0_row6\" class=\"row_heading level0 row6\" >6</th>\n",
       "                        <td id=\"T_e35852c0_2170_11eb_aa84_e0d55e0b36aerow6_col0\" class=\"data row6 col0\" >0.7206</td>\n",
       "                        <td id=\"T_e35852c0_2170_11eb_aa84_e0d55e0b36aerow6_col1\" class=\"data row6 col1\" >0.6128</td>\n",
       "                        <td id=\"T_e35852c0_2170_11eb_aa84_e0d55e0b36aerow6_col2\" class=\"data row6 col2\" >0.6128</td>\n",
       "                        <td id=\"T_e35852c0_2170_11eb_aa84_e0d55e0b36aerow6_col3\" class=\"data row6 col3\" >0.7326</td>\n",
       "                        <td id=\"T_e35852c0_2170_11eb_aa84_e0d55e0b36aerow6_col4\" class=\"data row6 col4\" >0.7261</td>\n",
       "                        <td id=\"T_e35852c0_2170_11eb_aa84_e0d55e0b36aerow6_col5\" class=\"data row6 col5\" >0.2162</td>\n",
       "                        <td id=\"T_e35852c0_2170_11eb_aa84_e0d55e0b36aerow6_col6\" class=\"data row6 col6\" >0.2168</td>\n",
       "            </tr>\n",
       "            <tr>\n",
       "                        <th id=\"T_e35852c0_2170_11eb_aa84_e0d55e0b36aelevel0_row7\" class=\"row_heading level0 row7\" >7</th>\n",
       "                        <td id=\"T_e35852c0_2170_11eb_aa84_e0d55e0b36aerow7_col0\" class=\"data row7 col0\" >0.7331</td>\n",
       "                        <td id=\"T_e35852c0_2170_11eb_aa84_e0d55e0b36aerow7_col1\" class=\"data row7 col1\" >0.5986</td>\n",
       "                        <td id=\"T_e35852c0_2170_11eb_aa84_e0d55e0b36aerow7_col2\" class=\"data row7 col2\" >0.5991</td>\n",
       "                        <td id=\"T_e35852c0_2170_11eb_aa84_e0d55e0b36aerow7_col3\" class=\"data row7 col3\" >0.7276</td>\n",
       "                        <td id=\"T_e35852c0_2170_11eb_aa84_e0d55e0b36aerow7_col4\" class=\"data row7 col4\" >0.7302</td>\n",
       "                        <td id=\"T_e35852c0_2170_11eb_aa84_e0d55e0b36aerow7_col5\" class=\"data row7 col5\" >0.2024</td>\n",
       "                        <td id=\"T_e35852c0_2170_11eb_aa84_e0d55e0b36aerow7_col6\" class=\"data row7 col6\" >0.2026</td>\n",
       "            </tr>\n",
       "            <tr>\n",
       "                        <th id=\"T_e35852c0_2170_11eb_aa84_e0d55e0b36aelevel0_row8\" class=\"row_heading level0 row8\" >8</th>\n",
       "                        <td id=\"T_e35852c0_2170_11eb_aa84_e0d55e0b36aerow8_col0\" class=\"data row8 col0\" >0.7206</td>\n",
       "                        <td id=\"T_e35852c0_2170_11eb_aa84_e0d55e0b36aerow8_col1\" class=\"data row8 col1\" >0.6045</td>\n",
       "                        <td id=\"T_e35852c0_2170_11eb_aa84_e0d55e0b36aerow8_col2\" class=\"data row8 col2\" >0.6045</td>\n",
       "                        <td id=\"T_e35852c0_2170_11eb_aa84_e0d55e0b36aerow8_col3\" class=\"data row8 col3\" >0.7280</td>\n",
       "                        <td id=\"T_e35852c0_2170_11eb_aa84_e0d55e0b36aerow8_col4\" class=\"data row8 col4\" >0.7241</td>\n",
       "                        <td id=\"T_e35852c0_2170_11eb_aa84_e0d55e0b36aerow8_col5\" class=\"data row8 col5\" >0.2036</td>\n",
       "                        <td id=\"T_e35852c0_2170_11eb_aa84_e0d55e0b36aerow8_col6\" class=\"data row8 col6\" >0.2038</td>\n",
       "            </tr>\n",
       "            <tr>\n",
       "                        <th id=\"T_e35852c0_2170_11eb_aa84_e0d55e0b36aelevel0_row9\" class=\"row_heading level0 row9\" >9</th>\n",
       "                        <td id=\"T_e35852c0_2170_11eb_aa84_e0d55e0b36aerow9_col0\" class=\"data row9 col0\" >0.7442</td>\n",
       "                        <td id=\"T_e35852c0_2170_11eb_aa84_e0d55e0b36aerow9_col1\" class=\"data row9 col1\" >0.6272</td>\n",
       "                        <td id=\"T_e35852c0_2170_11eb_aa84_e0d55e0b36aerow9_col2\" class=\"data row9 col2\" >0.6272</td>\n",
       "                        <td id=\"T_e35852c0_2170_11eb_aa84_e0d55e0b36aerow9_col3\" class=\"data row9 col3\" >0.7453</td>\n",
       "                        <td id=\"T_e35852c0_2170_11eb_aa84_e0d55e0b36aerow9_col4\" class=\"data row9 col4\" >0.7447</td>\n",
       "                        <td id=\"T_e35852c0_2170_11eb_aa84_e0d55e0b36aerow9_col5\" class=\"data row9 col5\" >0.2533</td>\n",
       "                        <td id=\"T_e35852c0_2170_11eb_aa84_e0d55e0b36aerow9_col6\" class=\"data row9 col6\" >0.2533</td>\n",
       "            </tr>\n",
       "            <tr>\n",
       "                        <th id=\"T_e35852c0_2170_11eb_aa84_e0d55e0b36aelevel0_row10\" class=\"row_heading level0 row10\" >Mean</th>\n",
       "                        <td id=\"T_e35852c0_2170_11eb_aa84_e0d55e0b36aerow10_col0\" class=\"data row10 col0\" >0.7293</td>\n",
       "                        <td id=\"T_e35852c0_2170_11eb_aa84_e0d55e0b36aerow10_col1\" class=\"data row10 col1\" >0.6147</td>\n",
       "                        <td id=\"T_e35852c0_2170_11eb_aa84_e0d55e0b36aerow10_col2\" class=\"data row10 col2\" >0.6145</td>\n",
       "                        <td id=\"T_e35852c0_2170_11eb_aa84_e0d55e0b36aerow10_col3\" class=\"data row10 col3\" >0.7351</td>\n",
       "                        <td id=\"T_e35852c0_2170_11eb_aa84_e0d55e0b36aerow10_col4\" class=\"data row10 col4\" >0.7320</td>\n",
       "                        <td id=\"T_e35852c0_2170_11eb_aa84_e0d55e0b36aerow10_col5\" class=\"data row10 col5\" >0.2242</td>\n",
       "                        <td id=\"T_e35852c0_2170_11eb_aa84_e0d55e0b36aerow10_col6\" class=\"data row10 col6\" >0.2245</td>\n",
       "            </tr>\n",
       "            <tr>\n",
       "                        <th id=\"T_e35852c0_2170_11eb_aa84_e0d55e0b36aelevel0_row11\" class=\"row_heading level0 row11\" >SD</th>\n",
       "                        <td id=\"T_e35852c0_2170_11eb_aa84_e0d55e0b36aerow11_col0\" class=\"data row11 col0\" >0.0092</td>\n",
       "                        <td id=\"T_e35852c0_2170_11eb_aa84_e0d55e0b36aerow11_col1\" class=\"data row11 col1\" >0.0112</td>\n",
       "                        <td id=\"T_e35852c0_2170_11eb_aa84_e0d55e0b36aerow11_col2\" class=\"data row11 col2\" >0.0112</td>\n",
       "                        <td id=\"T_e35852c0_2170_11eb_aa84_e0d55e0b36aerow11_col3\" class=\"data row11 col3\" >0.0075</td>\n",
       "                        <td id=\"T_e35852c0_2170_11eb_aa84_e0d55e0b36aerow11_col4\" class=\"data row11 col4\" >0.0081</td>\n",
       "                        <td id=\"T_e35852c0_2170_11eb_aa84_e0d55e0b36aerow11_col5\" class=\"data row11 col5\" >0.0218</td>\n",
       "                        <td id=\"T_e35852c0_2170_11eb_aa84_e0d55e0b36aerow11_col6\" class=\"data row11 col6\" >0.0218</td>\n",
       "            </tr>\n",
       "    </tbody></table>"
      ],
      "text/plain": [
       "<pandas.io.formats.style.Styler at 0x7f3de193b190>"
      ]
     },
     "metadata": {},
     "output_type": "display_data"
    }
   ],
   "source": [
    "dt = create_model('dt')"
   ]
  },
  {
   "cell_type": "code",
   "execution_count": 9,
   "metadata": {
    "colab": {},
    "colab_type": "code",
    "id": "FRat05yGEQpQ",
    "outputId": "c8e6a190-8bec-4646-d2c8-8a92b129c484"
   },
   "outputs": [
    {
     "name": "stdout",
     "output_type": "stream",
     "text": [
      "DecisionTreeClassifier(ccp_alpha=0.0, class_weight=None, criterion='gini',\n",
      "                       max_depth=None, max_features=None, max_leaf_nodes=None,\n",
      "                       min_impurity_decrease=0.0, min_impurity_split=None,\n",
      "                       min_samples_leaf=1, min_samples_split=2,\n",
      "                       min_weight_fraction_leaf=0.0, presort='deprecated',\n",
      "                       random_state=123, splitter='best')\n"
     ]
    }
   ],
   "source": [
    "#trained model object is stored in the variable 'dt'. \n",
    "print(dt)"
   ]
  },
  {
   "cell_type": "markdown",
   "metadata": {
    "colab_type": "text",
    "id": "rWUojqBCEQpb"
   },
   "source": [
    "### Neighbors Classifier"
   ]
  },
  {
   "cell_type": "code",
   "execution_count": 14,
   "metadata": {
    "colab": {
     "base_uri": "https://localhost:8080/",
     "height": 392
    },
    "colab_type": "code",
    "id": "2uonD20gEQpe",
    "outputId": "560e3cb6-41d5-4293-b1c5-2bd1cf3bc63b"
   },
   "outputs": [
    {
     "data": {
      "text/html": [
       "<style  type=\"text/css\" >\n",
       "#T_9bddcee8_2170_11eb_9cb9_e0d55e0b36aerow10_col0,#T_9bddcee8_2170_11eb_9cb9_e0d55e0b36aerow10_col1,#T_9bddcee8_2170_11eb_9cb9_e0d55e0b36aerow10_col2,#T_9bddcee8_2170_11eb_9cb9_e0d55e0b36aerow10_col3,#T_9bddcee8_2170_11eb_9cb9_e0d55e0b36aerow10_col4,#T_9bddcee8_2170_11eb_9cb9_e0d55e0b36aerow10_col5,#T_9bddcee8_2170_11eb_9cb9_e0d55e0b36aerow10_col6{\n",
       "            background:  yellow;\n",
       "        }</style><table id=\"T_9bddcee8_2170_11eb_9cb9_e0d55e0b36ae\" ><thead>    <tr>        <th class=\"blank level0\" ></th>        <th class=\"col_heading level0 col0\" >Accuracy</th>        <th class=\"col_heading level0 col1\" >AUC</th>        <th class=\"col_heading level0 col2\" >Recall</th>        <th class=\"col_heading level0 col3\" >Prec.</th>        <th class=\"col_heading level0 col4\" >F1</th>        <th class=\"col_heading level0 col5\" >Kappa</th>        <th class=\"col_heading level0 col6\" >MCC</th>    </tr></thead><tbody>\n",
       "                <tr>\n",
       "                        <th id=\"T_9bddcee8_2170_11eb_9cb9_e0d55e0b36aelevel0_row0\" class=\"row_heading level0 row0\" >0</th>\n",
       "                        <td id=\"T_9bddcee8_2170_11eb_9cb9_e0d55e0b36aerow0_col0\" class=\"data row0 col0\" >0.7469</td>\n",
       "                        <td id=\"T_9bddcee8_2170_11eb_9cb9_e0d55e0b36aerow0_col1\" class=\"data row0 col1\" >0.6020</td>\n",
       "                        <td id=\"T_9bddcee8_2170_11eb_9cb9_e0d55e0b36aerow0_col2\" class=\"data row0 col2\" >0.5471</td>\n",
       "                        <td id=\"T_9bddcee8_2170_11eb_9cb9_e0d55e0b36aerow0_col3\" class=\"data row0 col3\" >0.7022</td>\n",
       "                        <td id=\"T_9bddcee8_2170_11eb_9cb9_e0d55e0b36aerow0_col4\" class=\"data row0 col4\" >0.7169</td>\n",
       "                        <td id=\"T_9bddcee8_2170_11eb_9cb9_e0d55e0b36aerow0_col5\" class=\"data row0 col5\" >0.1128</td>\n",
       "                        <td id=\"T_9bddcee8_2170_11eb_9cb9_e0d55e0b36aerow0_col6\" class=\"data row0 col6\" >0.1204</td>\n",
       "            </tr>\n",
       "            <tr>\n",
       "                        <th id=\"T_9bddcee8_2170_11eb_9cb9_e0d55e0b36aelevel0_row1\" class=\"row_heading level0 row1\" >1</th>\n",
       "                        <td id=\"T_9bddcee8_2170_11eb_9cb9_e0d55e0b36aerow1_col0\" class=\"data row1 col0\" >0.7550</td>\n",
       "                        <td id=\"T_9bddcee8_2170_11eb_9cb9_e0d55e0b36aerow1_col1\" class=\"data row1 col1\" >0.5894</td>\n",
       "                        <td id=\"T_9bddcee8_2170_11eb_9cb9_e0d55e0b36aerow1_col2\" class=\"data row1 col2\" >0.5585</td>\n",
       "                        <td id=\"T_9bddcee8_2170_11eb_9cb9_e0d55e0b36aerow1_col3\" class=\"data row1 col3\" >0.7131</td>\n",
       "                        <td id=\"T_9bddcee8_2170_11eb_9cb9_e0d55e0b36aerow1_col4\" class=\"data row1 col4\" >0.7257</td>\n",
       "                        <td id=\"T_9bddcee8_2170_11eb_9cb9_e0d55e0b36aerow1_col5\" class=\"data row1 col5\" >0.1402</td>\n",
       "                        <td id=\"T_9bddcee8_2170_11eb_9cb9_e0d55e0b36aerow1_col6\" class=\"data row1 col6\" >0.1500</td>\n",
       "            </tr>\n",
       "            <tr>\n",
       "                        <th id=\"T_9bddcee8_2170_11eb_9cb9_e0d55e0b36aelevel0_row2\" class=\"row_heading level0 row2\" >2</th>\n",
       "                        <td id=\"T_9bddcee8_2170_11eb_9cb9_e0d55e0b36aerow2_col0\" class=\"data row2 col0\" >0.7506</td>\n",
       "                        <td id=\"T_9bddcee8_2170_11eb_9cb9_e0d55e0b36aerow2_col1\" class=\"data row2 col1\" >0.5883</td>\n",
       "                        <td id=\"T_9bddcee8_2170_11eb_9cb9_e0d55e0b36aerow2_col2\" class=\"data row2 col2\" >0.5371</td>\n",
       "                        <td id=\"T_9bddcee8_2170_11eb_9cb9_e0d55e0b36aerow2_col3\" class=\"data row2 col3\" >0.6971</td>\n",
       "                        <td id=\"T_9bddcee8_2170_11eb_9cb9_e0d55e0b36aerow2_col4\" class=\"data row2 col4\" >0.7128</td>\n",
       "                        <td id=\"T_9bddcee8_2170_11eb_9cb9_e0d55e0b36aerow2_col5\" class=\"data row2 col5\" >0.0923</td>\n",
       "                        <td id=\"T_9bddcee8_2170_11eb_9cb9_e0d55e0b36aerow2_col6\" class=\"data row2 col6\" >0.1024</td>\n",
       "            </tr>\n",
       "            <tr>\n",
       "                        <th id=\"T_9bddcee8_2170_11eb_9cb9_e0d55e0b36aelevel0_row3\" class=\"row_heading level0 row3\" >3</th>\n",
       "                        <td id=\"T_9bddcee8_2170_11eb_9cb9_e0d55e0b36aerow3_col0\" class=\"data row3 col0\" >0.7419</td>\n",
       "                        <td id=\"T_9bddcee8_2170_11eb_9cb9_e0d55e0b36aerow3_col1\" class=\"data row3 col1\" >0.5818</td>\n",
       "                        <td id=\"T_9bddcee8_2170_11eb_9cb9_e0d55e0b36aerow3_col2\" class=\"data row3 col2\" >0.5294</td>\n",
       "                        <td id=\"T_9bddcee8_2170_11eb_9cb9_e0d55e0b36aerow3_col3\" class=\"data row3 col3\" >0.6878</td>\n",
       "                        <td id=\"T_9bddcee8_2170_11eb_9cb9_e0d55e0b36aerow3_col4\" class=\"data row3 col4\" >0.7057</td>\n",
       "                        <td id=\"T_9bddcee8_2170_11eb_9cb9_e0d55e0b36aerow3_col5\" class=\"data row3 col5\" >0.0723</td>\n",
       "                        <td id=\"T_9bddcee8_2170_11eb_9cb9_e0d55e0b36aerow3_col6\" class=\"data row3 col6\" >0.0790</td>\n",
       "            </tr>\n",
       "            <tr>\n",
       "                        <th id=\"T_9bddcee8_2170_11eb_9cb9_e0d55e0b36aelevel0_row4\" class=\"row_heading level0 row4\" >4</th>\n",
       "                        <td id=\"T_9bddcee8_2170_11eb_9cb9_e0d55e0b36aerow4_col0\" class=\"data row4 col0\" >0.7563</td>\n",
       "                        <td id=\"T_9bddcee8_2170_11eb_9cb9_e0d55e0b36aerow4_col1\" class=\"data row4 col1\" >0.5908</td>\n",
       "                        <td id=\"T_9bddcee8_2170_11eb_9cb9_e0d55e0b36aerow4_col2\" class=\"data row4 col2\" >0.5376</td>\n",
       "                        <td id=\"T_9bddcee8_2170_11eb_9cb9_e0d55e0b36aerow4_col3\" class=\"data row4 col3\" >0.7005</td>\n",
       "                        <td id=\"T_9bddcee8_2170_11eb_9cb9_e0d55e0b36aerow4_col4\" class=\"data row4 col4\" >0.7148</td>\n",
       "                        <td id=\"T_9bddcee8_2170_11eb_9cb9_e0d55e0b36aerow4_col5\" class=\"data row4 col5\" >0.0954</td>\n",
       "                        <td id=\"T_9bddcee8_2170_11eb_9cb9_e0d55e0b36aerow4_col6\" class=\"data row4 col6\" >0.1085</td>\n",
       "            </tr>\n",
       "            <tr>\n",
       "                        <th id=\"T_9bddcee8_2170_11eb_9cb9_e0d55e0b36aelevel0_row5\" class=\"row_heading level0 row5\" >5</th>\n",
       "                        <td id=\"T_9bddcee8_2170_11eb_9cb9_e0d55e0b36aerow5_col0\" class=\"data row5 col0\" >0.7550</td>\n",
       "                        <td id=\"T_9bddcee8_2170_11eb_9cb9_e0d55e0b36aerow5_col1\" class=\"data row5 col1\" >0.5997</td>\n",
       "                        <td id=\"T_9bddcee8_2170_11eb_9cb9_e0d55e0b36aerow5_col2\" class=\"data row5 col2\" >0.5461</td>\n",
       "                        <td id=\"T_9bddcee8_2170_11eb_9cb9_e0d55e0b36aerow5_col3\" class=\"data row5 col3\" >0.7055</td>\n",
       "                        <td id=\"T_9bddcee8_2170_11eb_9cb9_e0d55e0b36aerow5_col4\" class=\"data row5 col4\" >0.7193</td>\n",
       "                        <td id=\"T_9bddcee8_2170_11eb_9cb9_e0d55e0b36aerow5_col5\" class=\"data row5 col5\" >0.1139</td>\n",
       "                        <td id=\"T_9bddcee8_2170_11eb_9cb9_e0d55e0b36aerow5_col6\" class=\"data row5 col6\" >0.1255</td>\n",
       "            </tr>\n",
       "            <tr>\n",
       "                        <th id=\"T_9bddcee8_2170_11eb_9cb9_e0d55e0b36aelevel0_row6\" class=\"row_heading level0 row6\" >6</th>\n",
       "                        <td id=\"T_9bddcee8_2170_11eb_9cb9_e0d55e0b36aerow6_col0\" class=\"data row6 col0\" >0.7638</td>\n",
       "                        <td id=\"T_9bddcee8_2170_11eb_9cb9_e0d55e0b36aerow6_col1\" class=\"data row6 col1\" >0.5890</td>\n",
       "                        <td id=\"T_9bddcee8_2170_11eb_9cb9_e0d55e0b36aerow6_col2\" class=\"data row6 col2\" >0.5569</td>\n",
       "                        <td id=\"T_9bddcee8_2170_11eb_9cb9_e0d55e0b36aerow6_col3\" class=\"data row6 col3\" >0.7175</td>\n",
       "                        <td id=\"T_9bddcee8_2170_11eb_9cb9_e0d55e0b36aerow6_col4\" class=\"data row6 col4\" >0.7282</td>\n",
       "                        <td id=\"T_9bddcee8_2170_11eb_9cb9_e0d55e0b36aerow6_col5\" class=\"data row6 col5\" >0.1413</td>\n",
       "                        <td id=\"T_9bddcee8_2170_11eb_9cb9_e0d55e0b36aerow6_col6\" class=\"data row6 col6\" >0.1565</td>\n",
       "            </tr>\n",
       "            <tr>\n",
       "                        <th id=\"T_9bddcee8_2170_11eb_9cb9_e0d55e0b36aelevel0_row7\" class=\"row_heading level0 row7\" >7</th>\n",
       "                        <td id=\"T_9bddcee8_2170_11eb_9cb9_e0d55e0b36aerow7_col0\" class=\"data row7 col0\" >0.7613</td>\n",
       "                        <td id=\"T_9bddcee8_2170_11eb_9cb9_e0d55e0b36aerow7_col1\" class=\"data row7 col1\" >0.6240</td>\n",
       "                        <td id=\"T_9bddcee8_2170_11eb_9cb9_e0d55e0b36aerow7_col2\" class=\"data row7 col2\" >0.5460</td>\n",
       "                        <td id=\"T_9bddcee8_2170_11eb_9cb9_e0d55e0b36aerow7_col3\" class=\"data row7 col3\" >0.7094</td>\n",
       "                        <td id=\"T_9bddcee8_2170_11eb_9cb9_e0d55e0b36aerow7_col4\" class=\"data row7 col4\" >0.7213</td>\n",
       "                        <td id=\"T_9bddcee8_2170_11eb_9cb9_e0d55e0b36aerow7_col5\" class=\"data row7 col5\" >0.1163</td>\n",
       "                        <td id=\"T_9bddcee8_2170_11eb_9cb9_e0d55e0b36aerow7_col6\" class=\"data row7 col6\" >0.1318</td>\n",
       "            </tr>\n",
       "            <tr>\n",
       "                        <th id=\"T_9bddcee8_2170_11eb_9cb9_e0d55e0b36aelevel0_row8\" class=\"row_heading level0 row8\" >8</th>\n",
       "                        <td id=\"T_9bddcee8_2170_11eb_9cb9_e0d55e0b36aerow8_col0\" class=\"data row8 col0\" >0.7619</td>\n",
       "                        <td id=\"T_9bddcee8_2170_11eb_9cb9_e0d55e0b36aerow8_col1\" class=\"data row8 col1\" >0.5988</td>\n",
       "                        <td id=\"T_9bddcee8_2170_11eb_9cb9_e0d55e0b36aerow8_col2\" class=\"data row8 col2\" >0.5546</td>\n",
       "                        <td id=\"T_9bddcee8_2170_11eb_9cb9_e0d55e0b36aerow8_col3\" class=\"data row8 col3\" >0.7150</td>\n",
       "                        <td id=\"T_9bddcee8_2170_11eb_9cb9_e0d55e0b36aerow8_col4\" class=\"data row8 col4\" >0.7264</td>\n",
       "                        <td id=\"T_9bddcee8_2170_11eb_9cb9_e0d55e0b36aerow8_col5\" class=\"data row8 col5\" >0.1356</td>\n",
       "                        <td id=\"T_9bddcee8_2170_11eb_9cb9_e0d55e0b36aerow8_col6\" class=\"data row8 col6\" >0.1500</td>\n",
       "            </tr>\n",
       "            <tr>\n",
       "                        <th id=\"T_9bddcee8_2170_11eb_9cb9_e0d55e0b36aelevel0_row9\" class=\"row_heading level0 row9\" >9</th>\n",
       "                        <td id=\"T_9bddcee8_2170_11eb_9cb9_e0d55e0b36aerow9_col0\" class=\"data row9 col0\" >0.7549</td>\n",
       "                        <td id=\"T_9bddcee8_2170_11eb_9cb9_e0d55e0b36aerow9_col1\" class=\"data row9 col1\" >0.5756</td>\n",
       "                        <td id=\"T_9bddcee8_2170_11eb_9cb9_e0d55e0b36aerow9_col2\" class=\"data row9 col2\" >0.5511</td>\n",
       "                        <td id=\"T_9bddcee8_2170_11eb_9cb9_e0d55e0b36aerow9_col3\" class=\"data row9 col3\" >0.7088</td>\n",
       "                        <td id=\"T_9bddcee8_2170_11eb_9cb9_e0d55e0b36aerow9_col4\" class=\"data row9 col4\" >0.7223</td>\n",
       "                        <td id=\"T_9bddcee8_2170_11eb_9cb9_e0d55e0b36aerow9_col5\" class=\"data row9 col5\" >0.1246</td>\n",
       "                        <td id=\"T_9bddcee8_2170_11eb_9cb9_e0d55e0b36aerow9_col6\" class=\"data row9 col6\" >0.1351</td>\n",
       "            </tr>\n",
       "            <tr>\n",
       "                        <th id=\"T_9bddcee8_2170_11eb_9cb9_e0d55e0b36aelevel0_row10\" class=\"row_heading level0 row10\" >Mean</th>\n",
       "                        <td id=\"T_9bddcee8_2170_11eb_9cb9_e0d55e0b36aerow10_col0\" class=\"data row10 col0\" >0.7547</td>\n",
       "                        <td id=\"T_9bddcee8_2170_11eb_9cb9_e0d55e0b36aerow10_col1\" class=\"data row10 col1\" >0.5939</td>\n",
       "                        <td id=\"T_9bddcee8_2170_11eb_9cb9_e0d55e0b36aerow10_col2\" class=\"data row10 col2\" >0.5464</td>\n",
       "                        <td id=\"T_9bddcee8_2170_11eb_9cb9_e0d55e0b36aerow10_col3\" class=\"data row10 col3\" >0.7057</td>\n",
       "                        <td id=\"T_9bddcee8_2170_11eb_9cb9_e0d55e0b36aerow10_col4\" class=\"data row10 col4\" >0.7193</td>\n",
       "                        <td id=\"T_9bddcee8_2170_11eb_9cb9_e0d55e0b36aerow10_col5\" class=\"data row10 col5\" >0.1145</td>\n",
       "                        <td id=\"T_9bddcee8_2170_11eb_9cb9_e0d55e0b36aerow10_col6\" class=\"data row10 col6\" >0.1259</td>\n",
       "            </tr>\n",
       "            <tr>\n",
       "                        <th id=\"T_9bddcee8_2170_11eb_9cb9_e0d55e0b36aelevel0_row11\" class=\"row_heading level0 row11\" >SD</th>\n",
       "                        <td id=\"T_9bddcee8_2170_11eb_9cb9_e0d55e0b36aerow11_col0\" class=\"data row11 col0\" >0.0065</td>\n",
       "                        <td id=\"T_9bddcee8_2170_11eb_9cb9_e0d55e0b36aerow11_col1\" class=\"data row11 col1\" >0.0126</td>\n",
       "                        <td id=\"T_9bddcee8_2170_11eb_9cb9_e0d55e0b36aerow11_col2\" class=\"data row11 col2\" >0.0089</td>\n",
       "                        <td id=\"T_9bddcee8_2170_11eb_9cb9_e0d55e0b36aerow11_col3\" class=\"data row11 col3\" >0.0086</td>\n",
       "                        <td id=\"T_9bddcee8_2170_11eb_9cb9_e0d55e0b36aerow11_col4\" class=\"data row11 col4\" >0.0066</td>\n",
       "                        <td id=\"T_9bddcee8_2170_11eb_9cb9_e0d55e0b36aerow11_col5\" class=\"data row11 col5\" >0.0214</td>\n",
       "                        <td id=\"T_9bddcee8_2170_11eb_9cb9_e0d55e0b36aerow11_col6\" class=\"data row11 col6\" >0.0230</td>\n",
       "            </tr>\n",
       "    </tbody></table>"
      ],
      "text/plain": [
       "<pandas.io.formats.style.Styler at 0x7f34974a8fd0>"
      ]
     },
     "metadata": {},
     "output_type": "display_data"
    }
   ],
   "source": [
    "knn = create_model('knn')"
   ]
  },
  {
   "cell_type": "markdown",
   "metadata": {
    "colab_type": "text",
    "id": "nSg3OUjuEQpu"
   },
   "source": [
    "### Random Forest Classifier"
   ]
  },
  {
   "cell_type": "code",
   "execution_count": 12,
   "metadata": {
    "colab": {
     "base_uri": "https://localhost:8080/",
     "height": 392
    },
    "colab_type": "code",
    "id": "FGCoUiQpEQpz",
    "outputId": "212cb736-6dcb-4b77-e45b-14ad895bff43"
   },
   "outputs": [
    {
     "data": {
      "text/html": [
       "<style  type=\"text/css\" >\n",
       "#T_cc611ebe_216e_11eb_b7db_e0d55e0b36aerow10_col0,#T_cc611ebe_216e_11eb_b7db_e0d55e0b36aerow10_col1,#T_cc611ebe_216e_11eb_b7db_e0d55e0b36aerow10_col2,#T_cc611ebe_216e_11eb_b7db_e0d55e0b36aerow10_col3,#T_cc611ebe_216e_11eb_b7db_e0d55e0b36aerow10_col4,#T_cc611ebe_216e_11eb_b7db_e0d55e0b36aerow10_col5,#T_cc611ebe_216e_11eb_b7db_e0d55e0b36aerow10_col6{\n",
       "            background:  yellow;\n",
       "        }</style><table id=\"T_cc611ebe_216e_11eb_b7db_e0d55e0b36ae\" ><thead>    <tr>        <th class=\"blank level0\" ></th>        <th class=\"col_heading level0 col0\" >Accuracy</th>        <th class=\"col_heading level0 col1\" >AUC</th>        <th class=\"col_heading level0 col2\" >Recall</th>        <th class=\"col_heading level0 col3\" >Prec.</th>        <th class=\"col_heading level0 col4\" >F1</th>        <th class=\"col_heading level0 col5\" >Kappa</th>        <th class=\"col_heading level0 col6\" >MCC</th>    </tr></thead><tbody>\n",
       "                <tr>\n",
       "                        <th id=\"T_cc611ebe_216e_11eb_b7db_e0d55e0b36aelevel0_row0\" class=\"row_heading level0 row0\" >0</th>\n",
       "                        <td id=\"T_cc611ebe_216e_11eb_b7db_e0d55e0b36aerow0_col0\" class=\"data row0 col0\" >0.8133</td>\n",
       "                        <td id=\"T_cc611ebe_216e_11eb_b7db_e0d55e0b36aerow0_col1\" class=\"data row0 col1\" >0.7673</td>\n",
       "                        <td id=\"T_cc611ebe_216e_11eb_b7db_e0d55e0b36aerow0_col2\" class=\"data row0 col2\" >0.6504</td>\n",
       "                        <td id=\"T_cc611ebe_216e_11eb_b7db_e0d55e0b36aerow0_col3\" class=\"data row0 col3\" >0.7935</td>\n",
       "                        <td id=\"T_cc611ebe_216e_11eb_b7db_e0d55e0b36aerow0_col4\" class=\"data row0 col4\" >0.7934</td>\n",
       "                        <td id=\"T_cc611ebe_216e_11eb_b7db_e0d55e0b36aerow0_col5\" class=\"data row0 col5\" >0.3551</td>\n",
       "                        <td id=\"T_cc611ebe_216e_11eb_b7db_e0d55e0b36aerow0_col6\" class=\"data row0 col6\" >0.3749</td>\n",
       "            </tr>\n",
       "            <tr>\n",
       "                        <th id=\"T_cc611ebe_216e_11eb_b7db_e0d55e0b36aelevel0_row1\" class=\"row_heading level0 row1\" >1</th>\n",
       "                        <td id=\"T_cc611ebe_216e_11eb_b7db_e0d55e0b36aerow1_col0\" class=\"data row1 col0\" >0.8239</td>\n",
       "                        <td id=\"T_cc611ebe_216e_11eb_b7db_e0d55e0b36aerow1_col1\" class=\"data row1 col1\" >0.7615</td>\n",
       "                        <td id=\"T_cc611ebe_216e_11eb_b7db_e0d55e0b36aerow1_col2\" class=\"data row1 col2\" >0.6635</td>\n",
       "                        <td id=\"T_cc611ebe_216e_11eb_b7db_e0d55e0b36aerow1_col3\" class=\"data row1 col3\" >0.8075</td>\n",
       "                        <td id=\"T_cc611ebe_216e_11eb_b7db_e0d55e0b36aerow1_col4\" class=\"data row1 col4\" >0.8043</td>\n",
       "                        <td id=\"T_cc611ebe_216e_11eb_b7db_e0d55e0b36aerow1_col5\" class=\"data row1 col5\" >0.3882</td>\n",
       "                        <td id=\"T_cc611ebe_216e_11eb_b7db_e0d55e0b36aerow1_col6\" class=\"data row1 col6\" >0.4117</td>\n",
       "            </tr>\n",
       "            <tr>\n",
       "                        <th id=\"T_cc611ebe_216e_11eb_b7db_e0d55e0b36aelevel0_row2\" class=\"row_heading level0 row2\" >2</th>\n",
       "                        <td id=\"T_cc611ebe_216e_11eb_b7db_e0d55e0b36aerow2_col0\" class=\"data row2 col0\" >0.8258</td>\n",
       "                        <td id=\"T_cc611ebe_216e_11eb_b7db_e0d55e0b36aerow2_col1\" class=\"data row2 col1\" >0.7708</td>\n",
       "                        <td id=\"T_cc611ebe_216e_11eb_b7db_e0d55e0b36aerow2_col2\" class=\"data row2 col2\" >0.6533</td>\n",
       "                        <td id=\"T_cc611ebe_216e_11eb_b7db_e0d55e0b36aerow2_col3\" class=\"data row2 col3\" >0.8110</td>\n",
       "                        <td id=\"T_cc611ebe_216e_11eb_b7db_e0d55e0b36aerow2_col4\" class=\"data row2 col4\" >0.8018</td>\n",
       "                        <td id=\"T_cc611ebe_216e_11eb_b7db_e0d55e0b36aerow2_col5\" class=\"data row2 col5\" >0.3756</td>\n",
       "                        <td id=\"T_cc611ebe_216e_11eb_b7db_e0d55e0b36aerow2_col6\" class=\"data row2 col6\" >0.4098</td>\n",
       "            </tr>\n",
       "            <tr>\n",
       "                        <th id=\"T_cc611ebe_216e_11eb_b7db_e0d55e0b36aelevel0_row3\" class=\"row_heading level0 row3\" >3</th>\n",
       "                        <td id=\"T_cc611ebe_216e_11eb_b7db_e0d55e0b36aerow3_col0\" class=\"data row3 col0\" >0.8177</td>\n",
       "                        <td id=\"T_cc611ebe_216e_11eb_b7db_e0d55e0b36aerow3_col1\" class=\"data row3 col1\" >0.7605</td>\n",
       "                        <td id=\"T_cc611ebe_216e_11eb_b7db_e0d55e0b36aerow3_col2\" class=\"data row3 col2\" >0.6574</td>\n",
       "                        <td id=\"T_cc611ebe_216e_11eb_b7db_e0d55e0b36aerow3_col3\" class=\"data row3 col3\" >0.7993</td>\n",
       "                        <td id=\"T_cc611ebe_216e_11eb_b7db_e0d55e0b36aerow3_col4\" class=\"data row3 col4\" >0.7984</td>\n",
       "                        <td id=\"T_cc611ebe_216e_11eb_b7db_e0d55e0b36aerow3_col5\" class=\"data row3 col5\" >0.3710</td>\n",
       "                        <td id=\"T_cc611ebe_216e_11eb_b7db_e0d55e0b36aerow3_col6\" class=\"data row3 col6\" >0.3913</td>\n",
       "            </tr>\n",
       "            <tr>\n",
       "                        <th id=\"T_cc611ebe_216e_11eb_b7db_e0d55e0b36aelevel0_row4\" class=\"row_heading level0 row4\" >4</th>\n",
       "                        <td id=\"T_cc611ebe_216e_11eb_b7db_e0d55e0b36aerow4_col0\" class=\"data row4 col0\" >0.8208</td>\n",
       "                        <td id=\"T_cc611ebe_216e_11eb_b7db_e0d55e0b36aerow4_col1\" class=\"data row4 col1\" >0.7642</td>\n",
       "                        <td id=\"T_cc611ebe_216e_11eb_b7db_e0d55e0b36aerow4_col2\" class=\"data row4 col2\" >0.6594</td>\n",
       "                        <td id=\"T_cc611ebe_216e_11eb_b7db_e0d55e0b36aerow4_col3\" class=\"data row4 col3\" >0.8033</td>\n",
       "                        <td id=\"T_cc611ebe_216e_11eb_b7db_e0d55e0b36aerow4_col4\" class=\"data row4 col4\" >0.8010</td>\n",
       "                        <td id=\"T_cc611ebe_216e_11eb_b7db_e0d55e0b36aerow4_col5\" class=\"data row4 col5\" >0.3780</td>\n",
       "                        <td id=\"T_cc611ebe_216e_11eb_b7db_e0d55e0b36aerow4_col6\" class=\"data row4 col6\" >0.4006</td>\n",
       "            </tr>\n",
       "            <tr>\n",
       "                        <th id=\"T_cc611ebe_216e_11eb_b7db_e0d55e0b36aelevel0_row5\" class=\"row_heading level0 row5\" >5</th>\n",
       "                        <td id=\"T_cc611ebe_216e_11eb_b7db_e0d55e0b36aerow5_col0\" class=\"data row5 col0\" >0.8283</td>\n",
       "                        <td id=\"T_cc611ebe_216e_11eb_b7db_e0d55e0b36aerow5_col1\" class=\"data row5 col1\" >0.7638</td>\n",
       "                        <td id=\"T_cc611ebe_216e_11eb_b7db_e0d55e0b36aerow5_col2\" class=\"data row5 col2\" >0.6724</td>\n",
       "                        <td id=\"T_cc611ebe_216e_11eb_b7db_e0d55e0b36aerow5_col3\" class=\"data row5 col3\" >0.8133</td>\n",
       "                        <td id=\"T_cc611ebe_216e_11eb_b7db_e0d55e0b36aerow5_col4\" class=\"data row5 col4\" >0.8100</td>\n",
       "                        <td id=\"T_cc611ebe_216e_11eb_b7db_e0d55e0b36aerow5_col5\" class=\"data row5 col5\" >0.4070</td>\n",
       "                        <td id=\"T_cc611ebe_216e_11eb_b7db_e0d55e0b36aerow5_col6\" class=\"data row5 col6\" >0.4297</td>\n",
       "            </tr>\n",
       "            <tr>\n",
       "                        <th id=\"T_cc611ebe_216e_11eb_b7db_e0d55e0b36aelevel0_row6\" class=\"row_heading level0 row6\" >6</th>\n",
       "                        <td id=\"T_cc611ebe_216e_11eb_b7db_e0d55e0b36aerow6_col0\" class=\"data row6 col0\" >0.8127</td>\n",
       "                        <td id=\"T_cc611ebe_216e_11eb_b7db_e0d55e0b36aerow6_col1\" class=\"data row6 col1\" >0.7647</td>\n",
       "                        <td id=\"T_cc611ebe_216e_11eb_b7db_e0d55e0b36aerow6_col2\" class=\"data row6 col2\" >0.6490</td>\n",
       "                        <td id=\"T_cc611ebe_216e_11eb_b7db_e0d55e0b36aerow6_col3\" class=\"data row6 col3\" >0.7926</td>\n",
       "                        <td id=\"T_cc611ebe_216e_11eb_b7db_e0d55e0b36aerow6_col4\" class=\"data row6 col4\" >0.7925</td>\n",
       "                        <td id=\"T_cc611ebe_216e_11eb_b7db_e0d55e0b36aerow6_col5\" class=\"data row6 col5\" >0.3522</td>\n",
       "                        <td id=\"T_cc611ebe_216e_11eb_b7db_e0d55e0b36aerow6_col6\" class=\"data row6 col6\" >0.3721</td>\n",
       "            </tr>\n",
       "            <tr>\n",
       "                        <th id=\"T_cc611ebe_216e_11eb_b7db_e0d55e0b36aelevel0_row7\" class=\"row_heading level0 row7\" >7</th>\n",
       "                        <td id=\"T_cc611ebe_216e_11eb_b7db_e0d55e0b36aerow7_col0\" class=\"data row7 col0\" >0.8283</td>\n",
       "                        <td id=\"T_cc611ebe_216e_11eb_b7db_e0d55e0b36aerow7_col1\" class=\"data row7 col1\" >0.7390</td>\n",
       "                        <td id=\"T_cc611ebe_216e_11eb_b7db_e0d55e0b36aerow7_col2\" class=\"data row7 col2\" >0.6580</td>\n",
       "                        <td id=\"T_cc611ebe_216e_11eb_b7db_e0d55e0b36aerow7_col3\" class=\"data row7 col3\" >0.8145</td>\n",
       "                        <td id=\"T_cc611ebe_216e_11eb_b7db_e0d55e0b36aerow7_col4\" class=\"data row7 col4\" >0.8050</td>\n",
       "                        <td id=\"T_cc611ebe_216e_11eb_b7db_e0d55e0b36aerow7_col5\" class=\"data row7 col5\" >0.3861</td>\n",
       "                        <td id=\"T_cc611ebe_216e_11eb_b7db_e0d55e0b36aerow7_col6\" class=\"data row7 col6\" >0.4202</td>\n",
       "            </tr>\n",
       "            <tr>\n",
       "                        <th id=\"T_cc611ebe_216e_11eb_b7db_e0d55e0b36aelevel0_row8\" class=\"row_heading level0 row8\" >8</th>\n",
       "                        <td id=\"T_cc611ebe_216e_11eb_b7db_e0d55e0b36aerow8_col0\" class=\"data row8 col0\" >0.8108</td>\n",
       "                        <td id=\"T_cc611ebe_216e_11eb_b7db_e0d55e0b36aerow8_col1\" class=\"data row8 col1\" >0.7496</td>\n",
       "                        <td id=\"T_cc611ebe_216e_11eb_b7db_e0d55e0b36aerow8_col2\" class=\"data row8 col2\" >0.6488</td>\n",
       "                        <td id=\"T_cc611ebe_216e_11eb_b7db_e0d55e0b36aerow8_col3\" class=\"data row8 col3\" >0.7905</td>\n",
       "                        <td id=\"T_cc611ebe_216e_11eb_b7db_e0d55e0b36aerow8_col4\" class=\"data row8 col4\" >0.7913</td>\n",
       "                        <td id=\"T_cc611ebe_216e_11eb_b7db_e0d55e0b36aerow8_col5\" class=\"data row8 col5\" >0.3496</td>\n",
       "                        <td id=\"T_cc611ebe_216e_11eb_b7db_e0d55e0b36aerow8_col6\" class=\"data row8 col6\" >0.3678</td>\n",
       "            </tr>\n",
       "            <tr>\n",
       "                        <th id=\"T_cc611ebe_216e_11eb_b7db_e0d55e0b36aelevel0_row9\" class=\"row_heading level0 row9\" >9</th>\n",
       "                        <td id=\"T_cc611ebe_216e_11eb_b7db_e0d55e0b36aerow9_col0\" class=\"data row9 col0\" >0.8176</td>\n",
       "                        <td id=\"T_cc611ebe_216e_11eb_b7db_e0d55e0b36aerow9_col1\" class=\"data row9 col1\" >0.7565</td>\n",
       "                        <td id=\"T_cc611ebe_216e_11eb_b7db_e0d55e0b36aerow9_col2\" class=\"data row9 col2\" >0.6534</td>\n",
       "                        <td id=\"T_cc611ebe_216e_11eb_b7db_e0d55e0b36aerow9_col3\" class=\"data row9 col3\" >0.7988</td>\n",
       "                        <td id=\"T_cc611ebe_216e_11eb_b7db_e0d55e0b36aerow9_col4\" class=\"data row9 col4\" >0.7971</td>\n",
       "                        <td id=\"T_cc611ebe_216e_11eb_b7db_e0d55e0b36aerow9_col5\" class=\"data row9 col5\" >0.3645</td>\n",
       "                        <td id=\"T_cc611ebe_216e_11eb_b7db_e0d55e0b36aerow9_col6\" class=\"data row9 col6\" >0.3867</td>\n",
       "            </tr>\n",
       "            <tr>\n",
       "                        <th id=\"T_cc611ebe_216e_11eb_b7db_e0d55e0b36aelevel0_row10\" class=\"row_heading level0 row10\" >Mean</th>\n",
       "                        <td id=\"T_cc611ebe_216e_11eb_b7db_e0d55e0b36aerow10_col0\" class=\"data row10 col0\" >0.8199</td>\n",
       "                        <td id=\"T_cc611ebe_216e_11eb_b7db_e0d55e0b36aerow10_col1\" class=\"data row10 col1\" >0.7598</td>\n",
       "                        <td id=\"T_cc611ebe_216e_11eb_b7db_e0d55e0b36aerow10_col2\" class=\"data row10 col2\" >0.6566</td>\n",
       "                        <td id=\"T_cc611ebe_216e_11eb_b7db_e0d55e0b36aerow10_col3\" class=\"data row10 col3\" >0.8024</td>\n",
       "                        <td id=\"T_cc611ebe_216e_11eb_b7db_e0d55e0b36aerow10_col4\" class=\"data row10 col4\" >0.7995</td>\n",
       "                        <td id=\"T_cc611ebe_216e_11eb_b7db_e0d55e0b36aerow10_col5\" class=\"data row10 col5\" >0.3727</td>\n",
       "                        <td id=\"T_cc611ebe_216e_11eb_b7db_e0d55e0b36aerow10_col6\" class=\"data row10 col6\" >0.3965</td>\n",
       "            </tr>\n",
       "            <tr>\n",
       "                        <th id=\"T_cc611ebe_216e_11eb_b7db_e0d55e0b36aelevel0_row11\" class=\"row_heading level0 row11\" >SD</th>\n",
       "                        <td id=\"T_cc611ebe_216e_11eb_b7db_e0d55e0b36aerow11_col0\" class=\"data row11 col0\" >0.0062</td>\n",
       "                        <td id=\"T_cc611ebe_216e_11eb_b7db_e0d55e0b36aerow11_col1\" class=\"data row11 col1\" >0.0089</td>\n",
       "                        <td id=\"T_cc611ebe_216e_11eb_b7db_e0d55e0b36aerow11_col2\" class=\"data row11 col2\" >0.0070</td>\n",
       "                        <td id=\"T_cc611ebe_216e_11eb_b7db_e0d55e0b36aerow11_col3\" class=\"data row11 col3\" >0.0084</td>\n",
       "                        <td id=\"T_cc611ebe_216e_11eb_b7db_e0d55e0b36aerow11_col4\" class=\"data row11 col4\" >0.0058</td>\n",
       "                        <td id=\"T_cc611ebe_216e_11eb_b7db_e0d55e0b36aerow11_col5\" class=\"data row11 col5\" >0.0172</td>\n",
       "                        <td id=\"T_cc611ebe_216e_11eb_b7db_e0d55e0b36aerow11_col6\" class=\"data row11 col6\" >0.0202</td>\n",
       "            </tr>\n",
       "    </tbody></table>"
      ],
      "text/plain": [
       "<pandas.io.formats.style.Styler at 0x7f42e03d0ac0>"
      ]
     },
     "metadata": {},
     "output_type": "display_data"
    }
   ],
   "source": [
    "rf = create_model('rf')"
   ]
  },
  {
   "cell_type": "markdown",
   "metadata": {
    "colab_type": "text",
    "id": "XvpjzbGQEQqB"
   },
   "source": [
    "# Optimización del modelo"
   ]
  },
  {
   "cell_type": "markdown",
   "metadata": {
    "colab_type": "text",
    "id": "BQlMCxrUEQqG"
   },
   "source": [
    "### 9.1 Decision Tree Classifier"
   ]
  },
  {
   "cell_type": "code",
   "execution_count": 15,
   "metadata": {
    "colab": {
     "base_uri": "https://localhost:8080/",
     "height": 392
    },
    "colab_type": "code",
    "id": "of46aj6vEQqJ",
    "outputId": "26f7f708-739a-489b-bb76-b33e0a800362"
   },
   "outputs": [],
   "source": [
    "#tuned_dt = tune_model(dt)"
   ]
  },
  {
   "cell_type": "markdown",
   "metadata": {
    "colab_type": "text",
    "id": "CD-f0delEQqq"
   },
   "source": [
    "### 9.2 K Neighbors Classifier"
   ]
  },
  {
   "cell_type": "code",
   "execution_count": 14,
   "metadata": {
    "colab": {
     "base_uri": "https://localhost:8080/",
     "height": 392
    },
    "colab_type": "code",
    "id": "xN1nYwFXEQqv",
    "outputId": "e4ab669d-bee0-4a9d-f5c7-2ed07ec613b9"
   },
   "outputs": [],
   "source": [
    "#import numpy as np\n",
    "#tuned_knn = tune_model(knn, custom_grid = {'n_neighbors' : np.arange(0,50,1)})"
   ]
  },
  {
   "cell_type": "markdown",
   "metadata": {
    "colab_type": "text",
    "id": "KO3zIfs-EQrA"
   },
   "source": [
    "### Random Forest Classifier"
   ]
  },
  {
   "cell_type": "code",
   "execution_count": 13,
   "metadata": {
    "colab": {
     "base_uri": "https://localhost:8080/",
     "height": 392
    },
    "colab_type": "code",
    "id": "gmaIfnBMEQrE",
    "outputId": "a59cebfa-f81e-477c-f83c-e9443fd80b0f"
   },
   "outputs": [],
   "source": [
    "#tuned_rf = tune_model(rf)"
   ]
  },
  {
   "cell_type": "markdown",
   "metadata": {
    "colab_type": "text",
    "id": "w_P46O0jEQrT"
   },
   "source": [
    "# Visualización de los resultados del modelo"
   ]
  },
  {
   "cell_type": "code",
   "execution_count": 17,
   "metadata": {},
   "outputs": [
    {
     "data": {
      "text/plain": [
       "<catboost.core.CatBoostClassifier at 0x7f186eba85e0>"
      ]
     },
     "execution_count": 17,
     "metadata": {},
     "output_type": "execute_result"
    }
   ],
   "source": [
    "my_model = top10[0]\n",
    "my_model"
   ]
  },
  {
   "cell_type": "markdown",
   "metadata": {
    "colab_type": "text",
    "id": "euqkQYJaEQrY"
   },
   "source": [
    "###  AUC Plot"
   ]
  },
  {
   "cell_type": "code",
   "execution_count": 18,
   "metadata": {},
   "outputs": [
    {
     "data": {
      "image/png": "[encoded data removed]",
      "text/plain": [
       "<Figure size 576x396 with 1 Axes>"
      ]
     },
     "metadata": {},
     "output_type": "display_data"
    }
   ],
   "source": [
    "plot_model(my_model, plot='auc')"
   ]
  },
  {
   "cell_type": "markdown",
   "metadata": {
    "colab_type": "text",
    "id": "bwyoTUDQEQrm"
   },
   "source": [
    "### Precision-Recall Curve"
   ]
  },
  {
   "cell_type": "code",
   "execution_count": 19,
   "metadata": {
    "colab": {},
    "colab_type": "code",
    "id": "4IvchQoiEQrr",
    "outputId": "fdff2076-86fc-42f5-beee-f0051ea30dd4"
   },
   "outputs": [
    {
     "data": {
      "image/png": "[encoded data removed]",
      "text/plain": [
       "<Figure size 576x396 with 1 Axes>"
      ]
     },
     "metadata": {},
     "output_type": "display_data"
    }
   ],
   "source": [
    "plot_model(my_model, plot = 'pr')"
   ]
  },
  {
   "cell_type": "markdown",
   "metadata": {
    "colab_type": "text",
    "id": "_r9rwEw7EQrz"
   },
   "source": [
    "### Distribución de factores importantes"
   ]
  },
  {
   "cell_type": "code",
   "execution_count": 20,
   "metadata": {
    "colab": {},
    "colab_type": "code",
    "id": "nVScSxJ-EQr2",
    "outputId": "f44f4b08-b749-4d0e-dcc9-d7e3dc6240c8"
   },
   "outputs": [
    {
     "data": {
      "image/png": "[encoded data removed]",
      "text/plain": [
       "<Figure size 800x500 with 1 Axes>"
      ]
     },
     "metadata": {},
     "output_type": "display_data"
    }
   ],
   "source": [
    "plot_model(my_model, plot='feature')"
   ]
  },
  {
   "cell_type": "markdown",
   "metadata": {
    "colab_type": "text",
    "id": "FfWC3NEhEQr9"
   },
   "source": [
    "### Matriz de confusión"
   ]
  },
  {
   "cell_type": "code",
   "execution_count": 21,
   "metadata": {
    "colab": {},
    "colab_type": "code",
    "id": "OAB5mes-EQsA",
    "outputId": "bd82130d-2cc3-4b63-df5d-03b7aa54bf52"
   },
   "outputs": [
    {
     "data": {
      "image/png": "[encoded data removed]",
      "text/plain": [
       "<Figure size 576x396 with 1 Axes>"
      ]
     },
     "metadata": {},
     "output_type": "display_data"
    }
   ],
   "source": [
    "plot_model(my_model, plot='confusion_matrix')"
   ]
  },
  {
   "cell_type": "code",
   "execution_count": 22,
   "metadata": {},
   "outputs": [
    {
     "data": {
      "image/png": "[encoded data removed]",
      "text/plain": [
       "<Figure size 576x396 with 1 Axes>"
      ]
     },
     "metadata": {},
     "output_type": "display_data"
    }
   ],
   "source": [
    "plot_model(my_model, plot='error')"
   ]
  },
  {
   "cell_type": "code",
   "execution_count": 23,
   "metadata": {},
   "outputs": [
    {
     "data": {
      "image/png": "[encoded data removed]",
      "text/plain": [
       "<Figure size 576x396 with 1 Axes>"
      ]
     },
     "metadata": {},
     "output_type": "display_data"
    },
    {
     "name": "stdout",
     "output_type": "stream",
     "text": [
      "CPU times: user 15.6 s, sys: 2.18 s, total: 17.7 s\n",
      "Wall time: 5.65 s\n"
     ]
    }
   ],
   "source": [
    "%%time\n",
    "plot_model(my_model, plot='boundary')"
   ]
  },
  {
   "cell_type": "code",
   "execution_count": 24,
   "metadata": {
    "colab": {
     "base_uri": "https://localhost:8080/",
     "height": 436,
     "referenced_widgets": [
      "42d5400d235d40b78190016ef0dabe11",
      "41031579127f4a53b58957e601465083",
      "12bf8b3c6ae8444a900474912589fdf1",
      "9bb3600d38c04691b444ff375ad5e3f5",
      "8886001bc7c1463ba58a8453f5c55073",
      "0a06fb091bd94ce6b6ab892e2c6faadf",
      "3cc1e83b91f34b289c7d52003f20a97a",
      "8d709ec9ec484944b1f9773748857f84",
      "8399e21b17634116861a5abaa9c0ccf7",
      "d5b6fce1763b4b54898ff3397b0f5bb0",
      "57b94ac505d142769b79de2f1e5c1166",
      "2a81017413ca4fe789c2272a5831a069",
      "02771b4dc3284414ab05df1906f4556b",
      "9e338844e75b4e17be8483529f5f38fd",
      "22588a12c0db4067982e62ebbe7e6930"
     ]
    },
    "colab_type": "code",
    "id": "OcLV1Ln6EQsN",
    "outputId": "7b5b8b4e-8d4a-4371-9a4f-cabb0a96265a"
   },
   "outputs": [],
   "source": [
    "#evaluate_model(my_model)"
   ]
  },
  {
   "cell_type": "markdown",
   "metadata": {
    "colab_type": "text",
    "id": "RX5pYUJJEQsV"
   },
   "source": [
    "# Predicción (holdout set)"
   ]
  },
  {
   "cell_type": "code",
   "execution_count": 25,
   "metadata": {
    "colab": {},
    "colab_type": "code",
    "id": "nwaZk6oTEQsi",
    "outputId": "d30c8533-d347-4fa6-f18e-5b2abc937bec"
   },
   "outputs": [
    {
     "data": {
      "text/html": [
       "<style  type=\"text/css\" >\n",
       "</style><table id=\"T_17d7426a_2232_11eb_b3a0_e0d55e0b36ae\" ><thead>    <tr>        <th class=\"blank level0\" ></th>        <th class=\"col_heading level0 col0\" >Model</th>        <th class=\"col_heading level0 col1\" >Accuracy</th>        <th class=\"col_heading level0 col2\" >AUC</th>        <th class=\"col_heading level0 col3\" >Recall</th>        <th class=\"col_heading level0 col4\" >Prec.</th>        <th class=\"col_heading level0 col5\" >F1</th>        <th class=\"col_heading level0 col6\" >Kappa</th>        <th class=\"col_heading level0 col7\" >MCC</th>    </tr></thead><tbody>\n",
       "                <tr>\n",
       "                        <th id=\"T_17d7426a_2232_11eb_b3a0_e0d55e0b36aelevel0_row0\" class=\"row_heading level0 row0\" >0</th>\n",
       "                        <td id=\"T_17d7426a_2232_11eb_b3a0_e0d55e0b36aerow0_col0\" class=\"data row0 col0\" >CatBoost Classifier</td>\n",
       "                        <td id=\"T_17d7426a_2232_11eb_b3a0_e0d55e0b36aerow0_col1\" class=\"data row0 col1\" >0.8730</td>\n",
       "                        <td id=\"T_17d7426a_2232_11eb_b3a0_e0d55e0b36aerow0_col2\" class=\"data row0 col2\" >0.9288</td>\n",
       "                        <td id=\"T_17d7426a_2232_11eb_b3a0_e0d55e0b36aerow0_col3\" class=\"data row0 col3\" >0.7945</td>\n",
       "                        <td id=\"T_17d7426a_2232_11eb_b3a0_e0d55e0b36aerow0_col4\" class=\"data row0 col4\" >0.8685</td>\n",
       "                        <td id=\"T_17d7426a_2232_11eb_b3a0_e0d55e0b36aerow0_col5\" class=\"data row0 col5\" >0.8681</td>\n",
       "                        <td id=\"T_17d7426a_2232_11eb_b3a0_e0d55e0b36aerow0_col6\" class=\"data row0 col6\" >0.6305</td>\n",
       "                        <td id=\"T_17d7426a_2232_11eb_b3a0_e0d55e0b36aerow0_col7\" class=\"data row0 col7\" >0.6365</td>\n",
       "            </tr>\n",
       "    </tbody></table>"
      ],
      "text/plain": [
       "<pandas.io.formats.style.Styler at 0x7f186c122c40>"
      ]
     },
     "metadata": {},
     "output_type": "display_data"
    }
   ],
   "source": [
    "predict_model(my_model);"
   ]
  },
  {
   "cell_type": "markdown",
   "metadata": {},
   "source": [
    "# Predicción (test set)\n",
    "### Balanced accuracy = 79.66%"
   ]
  },
  {
   "cell_type": "code",
   "execution_count": 26,
   "metadata": {},
   "outputs": [
    {
     "data": {
      "text/plain": [
       "0.7966166711991912"
      ]
     },
     "execution_count": 26,
     "metadata": {},
     "output_type": "execute_result"
    }
   ],
   "source": [
    "tmp_df = predict_model(my_model, data=test_df)\n",
    "\n",
    "y_true = tmp_df[\"income\"].values\n",
    "y_pred = tmp_df[\"Label\"].values\n",
    "\n",
    "from sklearn.metrics import balanced_accuracy_score\n",
    "balanced_accuracy_score(y_true, y_pred)"
   ]
  },
  {
   "cell_type": "markdown",
   "metadata": {
    "colab_type": "text",
    "id": "r79BGjIfEQs1"
   },
   "source": [
    "# Finalización del modelo (entrenarlo con todos los datos)"
   ]
  },
  {
   "cell_type": "code",
   "execution_count": 28,
   "metadata": {
    "colab": {
     "base_uri": "https://localhost:8080/",
     "height": 147
    },
    "colab_type": "code",
    "id": "U9W6kXsSEQtQ",
    "outputId": "794b24a4-9c95-4730-eddd-f82e4925b866"
   },
   "outputs": [
    {
     "name": "stdout",
     "output_type": "stream",
     "text": [
      "<catboost.core.CatBoostClassifier object at 0x7f186eece460>\n",
      "CPU times: user 17.4 s, sys: 1.45 s, total: 18.9 s\n",
      "Wall time: 1min 9s\n"
     ]
    }
   ],
   "source": [
    "%%time\n",
    "final_model = finalize_model(my_model)\n",
    "print(final_model)"
   ]
  },
  {
   "cell_type": "markdown",
   "metadata": {
    "colab_type": "text",
    "id": "hUzc6tXNEQtr"
   },
   "source": [
    "# Predicción (test set)\n",
    "### Balanced accuracy = 79.71%"
   ]
  },
  {
   "cell_type": "code",
   "execution_count": 29,
   "metadata": {
    "colab": {
     "base_uri": "https://localhost:8080/",
     "height": 211
    },
    "colab_type": "code",
    "id": "0y5KWLC6EQtx",
    "outputId": "30771f87-7847-43ce-e984-9963cff7d043"
   },
   "outputs": [
    {
     "data": {
      "text/html": [
       "<div>\n",
       "<style scoped>\n",
       "    .dataframe tbody tr th:only-of-type {\n",
       "        vertical-align: middle;\n",
       "    }\n",
       "\n",
       "    .dataframe tbody tr th {\n",
       "        vertical-align: top;\n",
       "    }\n",
       "\n",
       "    .dataframe thead th {\n",
       "        text-align: right;\n",
       "    }\n",
       "</style>\n",
       "<table border=\"1\" class=\"dataframe\">\n",
       "  <thead>\n",
       "    <tr style=\"text-align: right;\">\n",
       "      <th></th>\n",
       "      <th>age</th>\n",
       "      <th>workclass</th>\n",
       "      <th>fnlwgt</th>\n",
       "      <th>education</th>\n",
       "      <th>educational-num</th>\n",
       "      <th>marital-status</th>\n",
       "      <th>occupation</th>\n",
       "      <th>relationship</th>\n",
       "      <th>race</th>\n",
       "      <th>gender</th>\n",
       "      <th>capital-gain</th>\n",
       "      <th>capital-loss</th>\n",
       "      <th>hours-per-week</th>\n",
       "      <th>native-country</th>\n",
       "      <th>income</th>\n",
       "      <th>Label</th>\n",
       "      <th>Score</th>\n",
       "    </tr>\n",
       "  </thead>\n",
       "  <tbody>\n",
       "    <tr>\n",
       "      <th>0</th>\n",
       "      <td>36</td>\n",
       "      <td>Private</td>\n",
       "      <td>65624</td>\n",
       "      <td>Bachelors</td>\n",
       "      <td>13</td>\n",
       "      <td>Never-married</td>\n",
       "      <td>Prof-specialty</td>\n",
       "      <td>Not-in-family</td>\n",
       "      <td>White</td>\n",
       "      <td>Male</td>\n",
       "      <td>0</td>\n",
       "      <td>0</td>\n",
       "      <td>40</td>\n",
       "      <td>United-States</td>\n",
       "      <td>&lt;=50K</td>\n",
       "      <td>&lt;=50K</td>\n",
       "      <td>0.8896</td>\n",
       "    </tr>\n",
       "    <tr>\n",
       "      <th>1</th>\n",
       "      <td>57</td>\n",
       "      <td>Self-emp-inc</td>\n",
       "      <td>37345</td>\n",
       "      <td>Prof-school</td>\n",
       "      <td>15</td>\n",
       "      <td>Married-civ-spouse</td>\n",
       "      <td>Prof-specialty</td>\n",
       "      <td>Husband</td>\n",
       "      <td>White</td>\n",
       "      <td>Male</td>\n",
       "      <td>0</td>\n",
       "      <td>0</td>\n",
       "      <td>36</td>\n",
       "      <td>United-States</td>\n",
       "      <td>&gt;50K</td>\n",
       "      <td>&gt;50K</td>\n",
       "      <td>0.8856</td>\n",
       "    </tr>\n",
       "    <tr>\n",
       "      <th>2</th>\n",
       "      <td>49</td>\n",
       "      <td>Private</td>\n",
       "      <td>287647</td>\n",
       "      <td>Masters</td>\n",
       "      <td>14</td>\n",
       "      <td>Divorced</td>\n",
       "      <td>Sales</td>\n",
       "      <td>Not-in-family</td>\n",
       "      <td>White</td>\n",
       "      <td>Male</td>\n",
       "      <td>4787</td>\n",
       "      <td>0</td>\n",
       "      <td>45</td>\n",
       "      <td>United-States</td>\n",
       "      <td>&gt;50K</td>\n",
       "      <td>&gt;50K</td>\n",
       "      <td>0.9082</td>\n",
       "    </tr>\n",
       "    <tr>\n",
       "      <th>3</th>\n",
       "      <td>54</td>\n",
       "      <td>Self-emp-not-inc</td>\n",
       "      <td>183668</td>\n",
       "      <td>5th-6th</td>\n",
       "      <td>3</td>\n",
       "      <td>Married-civ-spouse</td>\n",
       "      <td>Farming-fishing</td>\n",
       "      <td>Husband</td>\n",
       "      <td>White</td>\n",
       "      <td>Male</td>\n",
       "      <td>0</td>\n",
       "      <td>0</td>\n",
       "      <td>55</td>\n",
       "      <td>United-States</td>\n",
       "      <td>&lt;=50K</td>\n",
       "      <td>&lt;=50K</td>\n",
       "      <td>0.8418</td>\n",
       "    </tr>\n",
       "    <tr>\n",
       "      <th>4</th>\n",
       "      <td>17</td>\n",
       "      <td>Self-emp-not-inc</td>\n",
       "      <td>228786</td>\n",
       "      <td>10th</td>\n",
       "      <td>6</td>\n",
       "      <td>Never-married</td>\n",
       "      <td>Other-service</td>\n",
       "      <td>Own-child</td>\n",
       "      <td>White</td>\n",
       "      <td>Female</td>\n",
       "      <td>0</td>\n",
       "      <td>0</td>\n",
       "      <td>24</td>\n",
       "      <td>United-States</td>\n",
       "      <td>&lt;=50K</td>\n",
       "      <td>&lt;=50K</td>\n",
       "      <td>0.9996</td>\n",
       "    </tr>\n",
       "  </tbody>\n",
       "</table>\n",
       "</div>"
      ],
      "text/plain": [
       "   age         workclass  fnlwgt    education  educational-num  \\\n",
       "0   36           Private   65624    Bachelors               13   \n",
       "1   57      Self-emp-inc   37345  Prof-school               15   \n",
       "2   49           Private  287647      Masters               14   \n",
       "3   54  Self-emp-not-inc  183668      5th-6th                3   \n",
       "4   17  Self-emp-not-inc  228786         10th                6   \n",
       "\n",
       "       marital-status       occupation   relationship   race  gender  \\\n",
       "0       Never-married   Prof-specialty  Not-in-family  White    Male   \n",
       "1  Married-civ-spouse   Prof-specialty        Husband  White    Male   \n",
       "2            Divorced            Sales  Not-in-family  White    Male   \n",
       "3  Married-civ-spouse  Farming-fishing        Husband  White    Male   \n",
       "4       Never-married    Other-service      Own-child  White  Female   \n",
       "\n",
       "   capital-gain  capital-loss  hours-per-week native-country income  Label  \\\n",
       "0             0             0              40  United-States  <=50K  <=50K   \n",
       "1             0             0              36  United-States   >50K   >50K   \n",
       "2          4787             0              45  United-States   >50K   >50K   \n",
       "3             0             0              55  United-States  <=50K  <=50K   \n",
       "4             0             0              24  United-States  <=50K  <=50K   \n",
       "\n",
       "    Score  \n",
       "0  0.8896  \n",
       "1  0.8856  \n",
       "2  0.9082  \n",
       "3  0.8418  \n",
       "4  0.9996  "
      ]
     },
     "execution_count": 29,
     "metadata": {},
     "output_type": "execute_result"
    }
   ],
   "source": [
    "preds_test_df = predict_model(final_model, data=test_df)\n",
    "preds_test_df.head()"
   ]
  },
  {
   "cell_type": "code",
   "execution_count": 30,
   "metadata": {},
   "outputs": [],
   "source": [
    "y_true = preds_test_df[\"income\"].values\n",
    "y_pred = preds_test_df[\"Label\"].values"
   ]
  },
  {
   "cell_type": "code",
   "execution_count": 31,
   "metadata": {},
   "outputs": [
    {
     "data": {
      "text/plain": [
       "0.7971878553585342"
      ]
     },
     "execution_count": 31,
     "metadata": {},
     "output_type": "execute_result"
    }
   ],
   "source": [
    "from sklearn.metrics import balanced_accuracy_score\n",
    "balanced_accuracy_score(y_true, y_pred)"
   ]
  },
  {
   "cell_type": "markdown",
   "metadata": {
    "colab_type": "text",
    "id": "L__po3sUEQt7"
   },
   "source": [
    "# Guardar el modelo"
   ]
  },
  {
   "cell_type": "code",
   "execution_count": 29,
   "metadata": {
    "colab": {},
    "colab_type": "code",
    "id": "ln1YWIXTEQuA",
    "outputId": "d3cb0652-f72e-44e8-9455-824b12740bff"
   },
   "outputs": [
    {
     "name": "stdout",
     "output_type": "stream",
     "text": [
      "Transformation Pipeline and Model Succesfully Saved\n"
     ]
    },
    {
     "data": {
      "text/plain": [
       "(Pipeline(memory=None,\n",
       "          steps=[('dtypes',\n",
       "                  DataTypes_Auto_infer(categorical_features=[],\n",
       "                                       display_types=True, features_todrop=[],\n",
       "                                       id_columns=[],\n",
       "                                       ml_usecase='classification',\n",
       "                                       numerical_features=[], target='income',\n",
       "                                       time_features=[])),\n",
       "                 ('imputer',\n",
       "                  Simple_Imputer(categorical_strategy='not_available',\n",
       "                                 fill_value_categorical=None,\n",
       "                                 fill_value_numerical=None,\n",
       "                                 numeric_strat...\n",
       "                 ('binn', 'passthrough'), ('rem_outliers', 'passthrough'),\n",
       "                 ('cluster_all', 'passthrough'),\n",
       "                 ('dummy', Dummify(target='income')),\n",
       "                 ('fix_perfect', Remove_100(target='income')),\n",
       "                 ('clean_names', Clean_Colum_Names()),\n",
       "                 ('feature_select', 'passthrough'), ('fix_multi', 'passthrough'),\n",
       "                 ('dfs', 'passthrough'), ('pca', 'passthrough'),\n",
       "                 ['trained_model',\n",
       "                  <catboost.core.CatBoostClassifier object at 0x7f6062d86190>]],\n",
       "          verbose=False),\n",
       " 'Final Model PyCaret - Adult dataset.pkl')"
      ]
     },
     "execution_count": 29,
     "metadata": {},
     "output_type": "execute_result"
    }
   ],
   "source": [
    "save_model(final_model, 'Final Model PyCaret - Adult dataset')"
   ]
  },
  {
   "cell_type": "markdown",
   "metadata": {
    "colab_type": "text",
    "id": "Z8OBesfkEQuU"
   },
   "source": [
    "# Cargar el modelo guardado"
   ]
  },
  {
   "cell_type": "markdown",
   "metadata": {
    "colab_type": "text",
    "id": "V2K_WLaaEQuW"
   },
   "source": [
    "To load a saved model at a future date in the same or an alternative environment, we would use PyCaret's `load_model()` function and then easily apply the saved model on new unseen data for prediction."
   ]
  },
  {
   "cell_type": "code",
   "execution_count": 30,
   "metadata": {
    "colab": {},
    "colab_type": "code",
    "id": "Siw_2EIUEQub",
    "outputId": "5da8b7c9-01f7-469c-f0c9-b19c8ce11bcc"
   },
   "outputs": [
    {
     "name": "stdout",
     "output_type": "stream",
     "text": [
      "Transformation Pipeline and Model Successfully Loaded\n"
     ]
    }
   ],
   "source": [
    "saved_final_model = load_model('Final Model PyCaret - Adult dataset')"
   ]
  },
  {
   "cell_type": "code",
   "execution_count": 31,
   "metadata": {
    "colab": {},
    "colab_type": "code",
    "id": "HMPO1ka9EQut"
   },
   "outputs": [],
   "source": [
    "new_prediction = predict_model(saved_final_model, data=test_df)"
   ]
  },
  {
   "cell_type": "code",
   "execution_count": 32,
   "metadata": {
    "colab": {},
    "colab_type": "code",
    "id": "7wyDQQSzEQu8",
    "outputId": "23065436-42e3-4441-ed58-a8863f8971f9"
   },
   "outputs": [
    {
     "data": {
      "text/html": [
       "<div>\n",
       "<style scoped>\n",
       "    .dataframe tbody tr th:only-of-type {\n",
       "        vertical-align: middle;\n",
       "    }\n",
       "\n",
       "    .dataframe tbody tr th {\n",
       "        vertical-align: top;\n",
       "    }\n",
       "\n",
       "    .dataframe thead th {\n",
       "        text-align: right;\n",
       "    }\n",
       "</style>\n",
       "<table border=\"1\" class=\"dataframe\">\n",
       "  <thead>\n",
       "    <tr style=\"text-align: right;\">\n",
       "      <th></th>\n",
       "      <th>age</th>\n",
       "      <th>workclass</th>\n",
       "      <th>fnlwgt</th>\n",
       "      <th>education</th>\n",
       "      <th>educational-num</th>\n",
       "      <th>marital-status</th>\n",
       "      <th>occupation</th>\n",
       "      <th>relationship</th>\n",
       "      <th>race</th>\n",
       "      <th>gender</th>\n",
       "      <th>capital-gain</th>\n",
       "      <th>capital-loss</th>\n",
       "      <th>hours-per-week</th>\n",
       "      <th>native-country</th>\n",
       "      <th>income</th>\n",
       "      <th>Label</th>\n",
       "      <th>Score</th>\n",
       "    </tr>\n",
       "  </thead>\n",
       "  <tbody>\n",
       "    <tr>\n",
       "      <th>0</th>\n",
       "      <td>36</td>\n",
       "      <td>Private</td>\n",
       "      <td>65624</td>\n",
       "      <td>Bachelors</td>\n",
       "      <td>13</td>\n",
       "      <td>Never-married</td>\n",
       "      <td>Prof-specialty</td>\n",
       "      <td>Not-in-family</td>\n",
       "      <td>White</td>\n",
       "      <td>Male</td>\n",
       "      <td>0</td>\n",
       "      <td>0</td>\n",
       "      <td>40</td>\n",
       "      <td>United-States</td>\n",
       "      <td>&lt;=50K</td>\n",
       "      <td>&lt;=50K</td>\n",
       "      <td>0.8896</td>\n",
       "    </tr>\n",
       "    <tr>\n",
       "      <th>1</th>\n",
       "      <td>57</td>\n",
       "      <td>Self-emp-inc</td>\n",
       "      <td>37345</td>\n",
       "      <td>Prof-school</td>\n",
       "      <td>15</td>\n",
       "      <td>Married-civ-spouse</td>\n",
       "      <td>Prof-specialty</td>\n",
       "      <td>Husband</td>\n",
       "      <td>White</td>\n",
       "      <td>Male</td>\n",
       "      <td>0</td>\n",
       "      <td>0</td>\n",
       "      <td>36</td>\n",
       "      <td>United-States</td>\n",
       "      <td>&gt;50K</td>\n",
       "      <td>&gt;50K</td>\n",
       "      <td>0.8856</td>\n",
       "    </tr>\n",
       "    <tr>\n",
       "      <th>2</th>\n",
       "      <td>49</td>\n",
       "      <td>Private</td>\n",
       "      <td>287647</td>\n",
       "      <td>Masters</td>\n",
       "      <td>14</td>\n",
       "      <td>Divorced</td>\n",
       "      <td>Sales</td>\n",
       "      <td>Not-in-family</td>\n",
       "      <td>White</td>\n",
       "      <td>Male</td>\n",
       "      <td>4787</td>\n",
       "      <td>0</td>\n",
       "      <td>45</td>\n",
       "      <td>United-States</td>\n",
       "      <td>&gt;50K</td>\n",
       "      <td>&gt;50K</td>\n",
       "      <td>0.9082</td>\n",
       "    </tr>\n",
       "    <tr>\n",
       "      <th>3</th>\n",
       "      <td>54</td>\n",
       "      <td>Self-emp-not-inc</td>\n",
       "      <td>183668</td>\n",
       "      <td>5th-6th</td>\n",
       "      <td>3</td>\n",
       "      <td>Married-civ-spouse</td>\n",
       "      <td>Farming-fishing</td>\n",
       "      <td>Husband</td>\n",
       "      <td>White</td>\n",
       "      <td>Male</td>\n",
       "      <td>0</td>\n",
       "      <td>0</td>\n",
       "      <td>55</td>\n",
       "      <td>United-States</td>\n",
       "      <td>&lt;=50K</td>\n",
       "      <td>&lt;=50K</td>\n",
       "      <td>0.8418</td>\n",
       "    </tr>\n",
       "    <tr>\n",
       "      <th>4</th>\n",
       "      <td>17</td>\n",
       "      <td>Self-emp-not-inc</td>\n",
       "      <td>228786</td>\n",
       "      <td>10th</td>\n",
       "      <td>6</td>\n",
       "      <td>Never-married</td>\n",
       "      <td>Other-service</td>\n",
       "      <td>Own-child</td>\n",
       "      <td>White</td>\n",
       "      <td>Female</td>\n",
       "      <td>0</td>\n",
       "      <td>0</td>\n",
       "      <td>24</td>\n",
       "      <td>United-States</td>\n",
       "      <td>&lt;=50K</td>\n",
       "      <td>&lt;=50K</td>\n",
       "      <td>0.9996</td>\n",
       "    </tr>\n",
       "  </tbody>\n",
       "</table>\n",
       "</div>"
      ],
      "text/plain": [
       "   age         workclass  fnlwgt    education  educational-num  \\\n",
       "0   36           Private   65624    Bachelors               13   \n",
       "1   57      Self-emp-inc   37345  Prof-school               15   \n",
       "2   49           Private  287647      Masters               14   \n",
       "3   54  Self-emp-not-inc  183668      5th-6th                3   \n",
       "4   17  Self-emp-not-inc  228786         10th                6   \n",
       "\n",
       "       marital-status       occupation   relationship   race  gender  \\\n",
       "0       Never-married   Prof-specialty  Not-in-family  White    Male   \n",
       "1  Married-civ-spouse   Prof-specialty        Husband  White    Male   \n",
       "2            Divorced            Sales  Not-in-family  White    Male   \n",
       "3  Married-civ-spouse  Farming-fishing        Husband  White    Male   \n",
       "4       Never-married    Other-service      Own-child  White  Female   \n",
       "\n",
       "   capital-gain  capital-loss  hours-per-week native-country income  Label  \\\n",
       "0             0             0              40  United-States  <=50K  <=50K   \n",
       "1             0             0              36  United-States   >50K   >50K   \n",
       "2          4787             0              45  United-States   >50K   >50K   \n",
       "3             0             0              55  United-States  <=50K  <=50K   \n",
       "4             0             0              24  United-States  <=50K  <=50K   \n",
       "\n",
       "    Score  \n",
       "0  0.8896  \n",
       "1  0.8856  \n",
       "2  0.9082  \n",
       "3  0.8418  \n",
       "4  0.9996  "
      ]
     },
     "execution_count": 32,
     "metadata": {},
     "output_type": "execute_result"
    }
   ],
   "source": [
    "new_prediction.head()"
   ]
  },
  {
   "cell_type": "code",
   "execution_count": null,
   "metadata": {},
   "outputs": [],
   "source": []
  }
 ],
 "metadata": {
  "colab": {
   "collapsed_sections": [
    "Ui_rALqYEQmv",
    "y9s9wNcjEQn0",
    "it_nJo1IEQob",
    "P5m2pciOEQo4",
    "UWMSeyNhEQo-",
    "rWUojqBCEQpb",
    "nSg3OUjuEQpu",
    "XvpjzbGQEQqB",
    "BQlMCxrUEQqG",
    "CD-f0delEQqq",
    "KO3zIfs-EQrA",
    "w_P46O0jEQrT",
    "euqkQYJaEQrY",
    "bwyoTUDQEQrm",
    "_r9rwEw7EQrz",
    "FfWC3NEhEQr9",
    "RX5pYUJJEQsV",
    "r79BGjIfEQs1",
    "hUzc6tXNEQtr",
    "L__po3sUEQt7",
    "Z8OBesfkEQuU",
    "_HeOs8BhEQvF"
   ],
   "name": "Binary Classification Tutorial (CLF101) - Level Beginner (ACN_EDITS).ipynb",
   "provenance": []
  },
  "kernelspec": {
   "display_name": "Python 3",
   "language": "python",
   "name": "python3"
  },
  "language_info": {
   "codemirror_mode": {
    "name": "ipython",
    "version": 3
   },
   "file_extension": ".py",
   "mimetype": "text/x-python",
   "name": "python",
   "nbconvert_exporter": "python",
   "pygments_lexer": "ipython3",
   "version": "3.7.4"
  },
  "widgets": {
   "application/vnd.jupyter.widget-state+json": {
    "02771b4dc3284414ab05df1906f4556b": {
     "model_module": "@jupyter-widgets/controls",
     "model_name": "IntProgressModel",
     "state": {
      "_dom_classes": [],
      "_model_module": "@jupyter-widgets/controls",
      "_model_module_version": "1.5.0",
      "_model_name": "IntProgressModel",
      "_view_count": null,
      "_view_module": "@jupyter-widgets/controls",
      "_view_module_version": "1.5.0",
      "_view_name": "ProgressView",
      "bar_style": "",
      "description": "Processing: ",
      "description_tooltip": null,
      "layout": "IPY_MODEL_22588a12c0db4067982e62ebbe7e6930",
      "max": 5,
      "min": 0,
      "orientation": "horizontal",
      "style": "IPY_MODEL_9e338844e75b4e17be8483529f5f38fd",
      "value": 5
     }
    },
    "0a06fb091bd94ce6b6ab892e2c6faadf": {
     "model_module": "@jupyter-widgets/base",
     "model_name": "LayoutModel",
     "state": {
      "_model_module": "@jupyter-widgets/base",
      "_model_module_version": "1.2.0",
      "_model_name": "LayoutModel",
      "_view_count": null,
      "_view_module": "@jupyter-widgets/base",
      "_view_module_version": "1.2.0",
      "_view_name": "LayoutView",
      "align_content": null,
      "align_items": null,
      "align_self": null,
      "border": null,
      "bottom": null,
      "display": null,
      "flex": null,
      "flex_flow": null,
      "grid_area": null,
      "grid_auto_columns": null,
      "grid_auto_flow": null,
      "grid_auto_rows": null,
      "grid_column": null,
      "grid_gap": null,
      "grid_row": null,
      "grid_template_areas": null,
      "grid_template_columns": null,
      "grid_template_rows": null,
      "height": null,
      "justify_content": null,
      "justify_items": null,
      "left": null,
      "margin": null,
      "max_height": null,
      "max_width": null,
      "min_height": null,
      "min_width": null,
      "object_fit": null,
      "object_position": null,
      "order": null,
      "overflow": null,
      "overflow_x": null,
      "overflow_y": null,
      "padding": null,
      "right": null,
      "top": null,
      "visibility": null,
      "width": null
     }
    },
    "12bf8b3c6ae8444a900474912589fdf1": {
     "model_module": "@jupyter-widgets/controls",
     "model_name": "ToggleButtonsModel",
     "state": {
      "_dom_classes": [],
      "_model_module": "@jupyter-widgets/controls",
      "_model_module_version": "1.5.0",
      "_model_name": "ToggleButtonsModel",
      "_options_labels": [
       "Hyperparameters",
       "AUC",
       "Confusion Matrix",
       "Threshold",
       "Precision Recall",
       "Error",
       "Class Report",
       "Feature Selection",
       "Learning Curve",
       "Manifold Learning",
       "Calibration Curve",
       "Validation Curve",
       "Dimensions",
       "Feature Importance",
       "Decision Boundary"
      ],
      "_view_count": null,
      "_view_module": "@jupyter-widgets/controls",
      "_view_module_version": "1.5.0",
      "_view_name": "ToggleButtonsView",
      "button_style": "",
      "description": "Plot Type:",
      "description_tooltip": null,
      "disabled": false,
      "icons": [
       ""
      ],
      "index": 2,
      "layout": "IPY_MODEL_0a06fb091bd94ce6b6ab892e2c6faadf",
      "style": "IPY_MODEL_8886001bc7c1463ba58a8453f5c55073",
      "tooltips": []
     }
    },
    "22588a12c0db4067982e62ebbe7e6930": {
     "model_module": "@jupyter-widgets/base",
     "model_name": "LayoutModel",
     "state": {
      "_model_module": "@jupyter-widgets/base",
      "_model_module_version": "1.2.0",
      "_model_name": "LayoutModel",
      "_view_count": null,
      "_view_module": "@jupyter-widgets/base",
      "_view_module_version": "1.2.0",
      "_view_name": "LayoutView",
      "align_content": null,
      "align_items": null,
      "align_self": null,
      "border": null,
      "bottom": null,
      "display": null,
      "flex": null,
      "flex_flow": null,
      "grid_area": null,
      "grid_auto_columns": null,
      "grid_auto_flow": null,
      "grid_auto_rows": null,
      "grid_column": null,
      "grid_gap": null,
      "grid_row": null,
      "grid_template_areas": null,
      "grid_template_columns": null,
      "grid_template_rows": null,
      "height": null,
      "justify_content": null,
      "justify_items": null,
      "left": null,
      "margin": null,
      "max_height": null,
      "max_width": null,
      "min_height": null,
      "min_width": null,
      "object_fit": null,
      "object_position": null,
      "order": null,
      "overflow": null,
      "overflow_x": null,
      "overflow_y": null,
      "padding": null,
      "right": null,
      "top": null,
      "visibility": null,
      "width": null
     }
    },
    "2a81017413ca4fe789c2272a5831a069": {
     "model_module": "@jupyter-widgets/base",
     "model_name": "LayoutModel",
     "state": {
      "_model_module": "@jupyter-widgets/base",
      "_model_module_version": "1.2.0",
      "_model_name": "LayoutModel",
      "_view_count": null,
      "_view_module": "@jupyter-widgets/base",
      "_view_module_version": "1.2.0",
      "_view_name": "LayoutView",
      "align_content": null,
      "align_items": null,
      "align_self": null,
      "border": null,
      "bottom": null,
      "display": null,
      "flex": null,
      "flex_flow": null,
      "grid_area": null,
      "grid_auto_columns": null,
      "grid_auto_flow": null,
      "grid_auto_rows": null,
      "grid_column": null,
      "grid_gap": null,
      "grid_row": null,
      "grid_template_areas": null,
      "grid_template_columns": null,
      "grid_template_rows": null,
      "height": null,
      "justify_content": null,
      "justify_items": null,
      "left": null,
      "margin": null,
      "max_height": null,
      "max_width": null,
      "min_height": null,
      "min_width": null,
      "object_fit": null,
      "object_position": null,
      "order": null,
      "overflow": null,
      "overflow_x": null,
      "overflow_y": null,
      "padding": null,
      "right": null,
      "top": null,
      "visibility": null,
      "width": null
     }
    },
    "3cc1e83b91f34b289c7d52003f20a97a": {
     "model_module": "@jupyter-widgets/controls",
     "model_name": "IntProgressModel",
     "state": {
      "_dom_classes": [],
      "_model_module": "@jupyter-widgets/controls",
      "_model_module_version": "1.5.0",
      "_model_name": "IntProgressModel",
      "_view_count": null,
      "_view_module": "@jupyter-widgets/controls",
      "_view_module_version": "1.5.0",
      "_view_name": "ProgressView",
      "bar_style": "",
      "description": "Processing: ",
      "description_tooltip": null,
      "layout": "IPY_MODEL_8399e21b17634116861a5abaa9c0ccf7",
      "max": 5,
      "min": 0,
      "orientation": "horizontal",
      "style": "IPY_MODEL_8d709ec9ec484944b1f9773748857f84",
      "value": 2
     }
    },
    "41031579127f4a53b58957e601465083": {
     "model_module": "@jupyter-widgets/base",
     "model_name": "LayoutModel",
     "state": {
      "_model_module": "@jupyter-widgets/base",
      "_model_module_version": "1.2.0",
      "_model_name": "LayoutModel",
      "_view_count": null,
      "_view_module": "@jupyter-widgets/base",
      "_view_module_version": "1.2.0",
      "_view_name": "LayoutView",
      "align_content": null,
      "align_items": null,
      "align_self": null,
      "border": null,
      "bottom": null,
      "display": null,
      "flex": null,
      "flex_flow": null,
      "grid_area": null,
      "grid_auto_columns": null,
      "grid_auto_flow": null,
      "grid_auto_rows": null,
      "grid_column": null,
      "grid_gap": null,
      "grid_row": null,
      "grid_template_areas": null,
      "grid_template_columns": null,
      "grid_template_rows": null,
      "height": null,
      "justify_content": null,
      "justify_items": null,
      "left": null,
      "margin": null,
      "max_height": null,
      "max_width": null,
      "min_height": null,
      "min_width": null,
      "object_fit": null,
      "object_position": null,
      "order": null,
      "overflow": null,
      "overflow_x": null,
      "overflow_y": null,
      "padding": null,
      "right": null,
      "top": null,
      "visibility": null,
      "width": null
     }
    },
    "42d5400d235d40b78190016ef0dabe11": {
     "model_module": "@jupyter-widgets/controls",
     "model_name": "VBoxModel",
     "state": {
      "_dom_classes": [
       "widget-interact"
      ],
      "_model_module": "@jupyter-widgets/controls",
      "_model_module_version": "1.5.0",
      "_model_name": "VBoxModel",
      "_view_count": null,
      "_view_module": "@jupyter-widgets/controls",
      "_view_module_version": "1.5.0",
      "_view_name": "VBoxView",
      "box_style": "",
      "children": [
       "IPY_MODEL_12bf8b3c6ae8444a900474912589fdf1",
       "IPY_MODEL_9bb3600d38c04691b444ff375ad5e3f5"
      ],
      "layout": "IPY_MODEL_41031579127f4a53b58957e601465083"
     }
    },
    "57b94ac505d142769b79de2f1e5c1166": {
     "model_module": "@jupyter-widgets/controls",
     "model_name": "ProgressStyleModel",
     "state": {
      "_model_module": "@jupyter-widgets/controls",
      "_model_module_version": "1.5.0",
      "_model_name": "ProgressStyleModel",
      "_view_count": null,
      "_view_module": "@jupyter-widgets/base",
      "_view_module_version": "1.2.0",
      "_view_name": "StyleView",
      "bar_color": null,
      "description_width": ""
     }
    },
    "8399e21b17634116861a5abaa9c0ccf7": {
     "model_module": "@jupyter-widgets/base",
     "model_name": "LayoutModel",
     "state": {
      "_model_module": "@jupyter-widgets/base",
      "_model_module_version": "1.2.0",
      "_model_name": "LayoutModel",
      "_view_count": null,
      "_view_module": "@jupyter-widgets/base",
      "_view_module_version": "1.2.0",
      "_view_name": "LayoutView",
      "align_content": null,
      "align_items": null,
      "align_self": null,
      "border": null,
      "bottom": null,
      "display": null,
      "flex": null,
      "flex_flow": null,
      "grid_area": null,
      "grid_auto_columns": null,
      "grid_auto_flow": null,
      "grid_auto_rows": null,
      "grid_column": null,
      "grid_gap": null,
      "grid_row": null,
      "grid_template_areas": null,
      "grid_template_columns": null,
      "grid_template_rows": null,
      "height": null,
      "justify_content": null,
      "justify_items": null,
      "left": null,
      "margin": null,
      "max_height": null,
      "max_width": null,
      "min_height": null,
      "min_width": null,
      "object_fit": null,
      "object_position": null,
      "order": null,
      "overflow": null,
      "overflow_x": null,
      "overflow_y": null,
      "padding": null,
      "right": null,
      "top": null,
      "visibility": null,
      "width": null
     }
    },
    "8886001bc7c1463ba58a8453f5c55073": {
     "model_module": "@jupyter-widgets/controls",
     "model_name": "ToggleButtonsStyleModel",
     "state": {
      "_model_module": "@jupyter-widgets/controls",
      "_model_module_version": "1.5.0",
      "_model_name": "ToggleButtonsStyleModel",
      "_view_count": null,
      "_view_module": "@jupyter-widgets/base",
      "_view_module_version": "1.2.0",
      "_view_name": "StyleView",
      "button_width": "",
      "description_width": "",
      "font_weight": ""
     }
    },
    "8d709ec9ec484944b1f9773748857f84": {
     "model_module": "@jupyter-widgets/controls",
     "model_name": "ProgressStyleModel",
     "state": {
      "_model_module": "@jupyter-widgets/controls",
      "_model_module_version": "1.5.0",
      "_model_name": "ProgressStyleModel",
      "_view_count": null,
      "_view_module": "@jupyter-widgets/base",
      "_view_module_version": "1.2.0",
      "_view_name": "StyleView",
      "bar_color": null,
      "description_width": ""
     }
    },
    "9bb3600d38c04691b444ff375ad5e3f5": {
     "model_module": "@jupyter-widgets/output",
     "model_name": "OutputModel",
     "state": {
      "_dom_classes": [],
      "_model_module": "@jupyter-widgets/output",
      "_model_module_version": "1.0.0",
      "_model_name": "OutputModel",
      "_view_count": null,
      "_view_module": "@jupyter-widgets/output",
      "_view_module_version": "1.0.0",
      "_view_name": "OutputView",
      "layout": "IPY_MODEL_4f8f81ab97b041a58a53c85a1ab97bd4",
      "msg_id": "",
      "outputs": [
       {
        "image/png": "iVBORw0KGgoAAAANSUhEUgAAAeoAAAFlCAYAAAAki6s3AAAABHNCSVQICAgIfAhkiAAAAAlwSFlz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\nAAAm9n9QR+M8QEgGtgAAAABJRU5ErkJggg==\n",
        "metadata": {
         "tags": []
        },
        "output_type": "display_data",
        "text/plain": "<Figure size 576x396 with 1 Axes>"
       }
      ]
     }
    },
    "9e338844e75b4e17be8483529f5f38fd": {
     "model_module": "@jupyter-widgets/controls",
     "model_name": "ProgressStyleModel",
     "state": {
      "_model_module": "@jupyter-widgets/controls",
      "_model_module_version": "1.5.0",
      "_model_name": "ProgressStyleModel",
      "_view_count": null,
      "_view_module": "@jupyter-widgets/base",
      "_view_module_version": "1.2.0",
      "_view_name": "StyleView",
      "bar_color": null,
      "description_width": ""
     }
    },
    "d5b6fce1763b4b54898ff3397b0f5bb0": {
     "model_module": "@jupyter-widgets/controls",
     "model_name": "IntProgressModel",
     "state": {
      "_dom_classes": [],
      "_model_module": "@jupyter-widgets/controls",
      "_model_module_version": "1.5.0",
      "_model_name": "IntProgressModel",
      "_view_count": null,
      "_view_module": "@jupyter-widgets/controls",
      "_view_module_version": "1.5.0",
      "_view_name": "ProgressView",
      "bar_style": "",
      "description": "Processing: ",
      "description_tooltip": null,
      "layout": "IPY_MODEL_2a81017413ca4fe789c2272a5831a069",
      "max": 5,
      "min": 0,
      "orientation": "horizontal",
      "style": "IPY_MODEL_57b94ac505d142769b79de2f1e5c1166",
      "value": 5
     }
    }
   }
  }
 },
 "nbformat": 4,
 "nbformat_minor": 1
}
