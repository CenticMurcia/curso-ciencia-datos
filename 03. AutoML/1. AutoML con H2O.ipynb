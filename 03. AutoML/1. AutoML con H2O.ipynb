{
 "cells": [
  {
   "cell_type": "code",
   "execution_count": 1,
   "metadata": {},
   "outputs": [
    {
     "data": {
      "text/plain": [
       "'3.30.1.3'"
      ]
     },
     "execution_count": 1,
     "metadata": {},
     "output_type": "execute_result"
    }
   ],
   "source": [
    "import h2o\n",
    "from h2o.automl import H2OAutoML\n",
    "\n",
    "h2o.__version__"
   ]
  },
  {
   "cell_type": "code",
   "execution_count": 2,
   "metadata": {},
   "outputs": [
    {
     "name": "stdout",
     "output_type": "stream",
     "text": [
      "Checking whether there is an H2O instance running at http://localhost:54321 ..... not found.\n",
      "Attempting to start a local H2O server...\n",
      "  Java Version: openjdk version \"14.0.2\" 2020-07-14; OpenJDK Runtime Environment (build 14.0.2+12); OpenJDK 64-Bit Server VM (build 14.0.2+12, mixed mode)\n",
      "  Starting server from /usr/lib/python3.8/site-packages/h2o/backend/bin/h2o.jar\n",
      "  Ice root: /tmp/tmpm5dsud2i\n",
      "  JVM stdout: /tmp/tmpm5dsud2i/h2o_javi_started_from_python.out\n",
      "  JVM stderr: /tmp/tmpm5dsud2i/h2o_javi_started_from_python.err\n",
      "  Server is running at http://127.0.0.1:54321\n",
      "Connecting to H2O server at http://127.0.0.1:54321 ... successful.\n"
     ]
    },
    {
     "data": {
      "text/html": [
       "<div style=\"overflow:auto\"><table style=\"width:50%\"><tr><td>H2O_cluster_uptime:</td>\n",
       "<td>01 secs</td></tr>\n",
       "<tr><td>H2O_cluster_timezone:</td>\n",
       "<td>Europe/Madrid</td></tr>\n",
       "<tr><td>H2O_data_parsing_timezone:</td>\n",
       "<td>UTC</td></tr>\n",
       "<tr><td>H2O_cluster_version:</td>\n",
       "<td>3.30.1.3</td></tr>\n",
       "<tr><td>H2O_cluster_version_age:</td>\n",
       "<td>1 month and 10 days </td></tr>\n",
       "<tr><td>H2O_cluster_name:</td>\n",
       "<td>H2O_from_python_javi_27u9xr</td></tr>\n",
       "<tr><td>H2O_cluster_total_nodes:</td>\n",
       "<td>1</td></tr>\n",
       "<tr><td>H2O_cluster_free_memory:</td>\n",
       "<td>3.898 Gb</td></tr>\n",
       "<tr><td>H2O_cluster_total_cores:</td>\n",
       "<td>4</td></tr>\n",
       "<tr><td>H2O_cluster_allowed_cores:</td>\n",
       "<td>4</td></tr>\n",
       "<tr><td>H2O_cluster_status:</td>\n",
       "<td>accepting new members, healthy</td></tr>\n",
       "<tr><td>H2O_connection_url:</td>\n",
       "<td>http://127.0.0.1:54321</td></tr>\n",
       "<tr><td>H2O_connection_proxy:</td>\n",
       "<td>{\"http\": null, \"https\": null}</td></tr>\n",
       "<tr><td>H2O_internal_security:</td>\n",
       "<td>False</td></tr>\n",
       "<tr><td>H2O_API_Extensions:</td>\n",
       "<td>Amazon S3, XGBoost, Algos, AutoML, Core V3, TargetEncoder, Core V4</td></tr>\n",
       "<tr><td>Python_version:</td>\n",
       "<td>3.8.6 final</td></tr></table></div>"
      ],
      "text/plain": [
       "--------------------------  ------------------------------------------------------------------\n",
       "H2O_cluster_uptime:         01 secs\n",
       "H2O_cluster_timezone:       Europe/Madrid\n",
       "H2O_data_parsing_timezone:  UTC\n",
       "H2O_cluster_version:        3.30.1.3\n",
       "H2O_cluster_version_age:    1 month and 10 days\n",
       "H2O_cluster_name:           H2O_from_python_javi_27u9xr\n",
       "H2O_cluster_total_nodes:    1\n",
       "H2O_cluster_free_memory:    3.898 Gb\n",
       "H2O_cluster_total_cores:    4\n",
       "H2O_cluster_allowed_cores:  4\n",
       "H2O_cluster_status:         accepting new members, healthy\n",
       "H2O_connection_url:         http://127.0.0.1:54321\n",
       "H2O_connection_proxy:       {\"http\": null, \"https\": null}\n",
       "H2O_internal_security:      False\n",
       "H2O_API_Extensions:         Amazon S3, XGBoost, Algos, AutoML, Core V3, TargetEncoder, Core V4\n",
       "Python_version:             3.8.6 final\n",
       "--------------------------  ------------------------------------------------------------------"
      ]
     },
     "metadata": {},
     "output_type": "display_data"
    }
   ],
   "source": [
    "h2o.init()"
   ]
  },
  {
   "cell_type": "code",
   "execution_count": 3,
   "metadata": {},
   "outputs": [
    {
     "name": "stdout",
     "output_type": "stream",
     "text": [
      "Parse progress: |█████████████████████████████████████████████████████████| 100%\n",
      "Parse progress: |█████████████████████████████████████████████████████████| 100%\n"
     ]
    }
   ],
   "source": [
    "# Import a sample binary outcome train/test set into H2O\n",
    "train = h2o.import_file(\"https://s3.amazonaws.com/erin-data/higgs/higgs_train_10k.csv\")\n",
    "test  = h2o.import_file(\"https://s3.amazonaws.com/erin-data/higgs/higgs_test_5k.csv\")"
   ]
  },
  {
   "cell_type": "code",
   "execution_count": 8,
   "metadata": {},
   "outputs": [
    {
     "data": {
      "text/plain": [
       "h2o.frame.H2OFrame"
      ]
     },
     "execution_count": 8,
     "metadata": {},
     "output_type": "execute_result"
    }
   ],
   "source": [
    "type(train)"
   ]
  },
  {
   "cell_type": "code",
   "execution_count": 11,
   "metadata": {},
   "outputs": [
    {
     "data": {
      "text/html": [
       "<table>\n",
       "<thead>\n",
       "<tr><th style=\"text-align: right;\">  response</th><th style=\"text-align: right;\">      x1</th><th style=\"text-align: right;\">       x2</th><th style=\"text-align: right;\">         x3</th><th style=\"text-align: right;\">      x4</th><th style=\"text-align: right;\">       x5</th><th style=\"text-align: right;\">      x6</th><th style=\"text-align: right;\">        x7</th><th style=\"text-align: right;\">        x8</th><th style=\"text-align: right;\">     x9</th><th style=\"text-align: right;\">     x10</th><th style=\"text-align: right;\">      x11</th><th style=\"text-align: right;\">      x12</th><th style=\"text-align: right;\">    x13</th><th style=\"text-align: right;\">     x14</th><th style=\"text-align: right;\">       x15</th><th style=\"text-align: right;\">      x16</th><th style=\"text-align: right;\">    x17</th><th style=\"text-align: right;\">     x18</th><th style=\"text-align: right;\">       x19</th><th style=\"text-align: right;\">        x20</th><th style=\"text-align: right;\">    x21</th><th style=\"text-align: right;\">     x22</th><th style=\"text-align: right;\">     x23</th><th style=\"text-align: right;\">     x24</th><th style=\"text-align: right;\">     x25</th><th style=\"text-align: right;\">     x26</th><th style=\"text-align: right;\">     x27</th><th style=\"text-align: right;\">     x28</th></tr>\n",
       "</thead>\n",
       "<tbody>\n",
       "<tr><td style=\"text-align: right;\">         1</td><td style=\"text-align: right;\">0.869293</td><td style=\"text-align: right;\">-0.635082</td><td style=\"text-align: right;\"> 0.22569   </td><td style=\"text-align: right;\">0.32747 </td><td style=\"text-align: right;\">-0.689993</td><td style=\"text-align: right;\">0.754202</td><td style=\"text-align: right;\">-0.248573 </td><td style=\"text-align: right;\">-1.09206  </td><td style=\"text-align: right;\">0      </td><td style=\"text-align: right;\">1.37499 </td><td style=\"text-align: right;\">-0.653674</td><td style=\"text-align: right;\"> 0.930349</td><td style=\"text-align: right;\">1.10744</td><td style=\"text-align: right;\">1.1389  </td><td style=\"text-align: right;\">-1.5782   </td><td style=\"text-align: right;\">-1.04699 </td><td style=\"text-align: right;\">0      </td><td style=\"text-align: right;\">0.65793 </td><td style=\"text-align: right;\">-0.0104546</td><td style=\"text-align: right;\">-0.0457672 </td><td style=\"text-align: right;\">3.10196</td><td style=\"text-align: right;\">1.35376 </td><td style=\"text-align: right;\">0.979563</td><td style=\"text-align: right;\">0.978076</td><td style=\"text-align: right;\">0.920005</td><td style=\"text-align: right;\">0.721657</td><td style=\"text-align: right;\">0.988751</td><td style=\"text-align: right;\">0.876678</td></tr>\n",
       "<tr><td style=\"text-align: right;\">         1</td><td style=\"text-align: right;\">0.907542</td><td style=\"text-align: right;\"> 0.329147</td><td style=\"text-align: right;\"> 0.359412  </td><td style=\"text-align: right;\">1.49797 </td><td style=\"text-align: right;\">-0.31301 </td><td style=\"text-align: right;\">1.09553 </td><td style=\"text-align: right;\">-0.557525 </td><td style=\"text-align: right;\">-1.58823  </td><td style=\"text-align: right;\">2.17308</td><td style=\"text-align: right;\">0.812581</td><td style=\"text-align: right;\">-0.213642</td><td style=\"text-align: right;\"> 1.27101 </td><td style=\"text-align: right;\">2.21487</td><td style=\"text-align: right;\">0.499994</td><td style=\"text-align: right;\">-1.26143  </td><td style=\"text-align: right;\"> 0.732156</td><td style=\"text-align: right;\">0      </td><td style=\"text-align: right;\">0.398701</td><td style=\"text-align: right;\">-1.13893  </td><td style=\"text-align: right;\">-0.00081911</td><td style=\"text-align: right;\">0      </td><td style=\"text-align: right;\">0.30222 </td><td style=\"text-align: right;\">0.833048</td><td style=\"text-align: right;\">0.9857  </td><td style=\"text-align: right;\">0.978098</td><td style=\"text-align: right;\">0.779732</td><td style=\"text-align: right;\">0.992356</td><td style=\"text-align: right;\">0.798343</td></tr>\n",
       "<tr><td style=\"text-align: right;\">         1</td><td style=\"text-align: right;\">0.798835</td><td style=\"text-align: right;\"> 1.47064 </td><td style=\"text-align: right;\">-1.63597   </td><td style=\"text-align: right;\">0.453773</td><td style=\"text-align: right;\"> 0.425629</td><td style=\"text-align: right;\">1.10487 </td><td style=\"text-align: right;\"> 1.28232  </td><td style=\"text-align: right;\"> 1.38166  </td><td style=\"text-align: right;\">0      </td><td style=\"text-align: right;\">0.851737</td><td style=\"text-align: right;\"> 1.54066 </td><td style=\"text-align: right;\">-0.81969 </td><td style=\"text-align: right;\">2.21487</td><td style=\"text-align: right;\">0.99349 </td><td style=\"text-align: right;\"> 0.35608  </td><td style=\"text-align: right;\">-0.208778</td><td style=\"text-align: right;\">2.54822</td><td style=\"text-align: right;\">1.25695 </td><td style=\"text-align: right;\"> 1.12885  </td><td style=\"text-align: right;\"> 0.900461  </td><td style=\"text-align: right;\">0      </td><td style=\"text-align: right;\">0.909753</td><td style=\"text-align: right;\">1.10833 </td><td style=\"text-align: right;\">0.985692</td><td style=\"text-align: right;\">0.951331</td><td style=\"text-align: right;\">0.803252</td><td style=\"text-align: right;\">0.865924</td><td style=\"text-align: right;\">0.780118</td></tr>\n",
       "<tr><td style=\"text-align: right;\">         0</td><td style=\"text-align: right;\">1.34438 </td><td style=\"text-align: right;\">-0.876626</td><td style=\"text-align: right;\"> 0.935913  </td><td style=\"text-align: right;\">1.99205 </td><td style=\"text-align: right;\"> 0.882454</td><td style=\"text-align: right;\">1.78607 </td><td style=\"text-align: right;\">-1.64678  </td><td style=\"text-align: right;\">-0.942383 </td><td style=\"text-align: right;\">0      </td><td style=\"text-align: right;\">2.42326 </td><td style=\"text-align: right;\">-0.676016</td><td style=\"text-align: right;\"> 0.736159</td><td style=\"text-align: right;\">2.21487</td><td style=\"text-align: right;\">1.29872 </td><td style=\"text-align: right;\">-1.43074  </td><td style=\"text-align: right;\">-0.364658</td><td style=\"text-align: right;\">0      </td><td style=\"text-align: right;\">0.745313</td><td style=\"text-align: right;\">-0.678379 </td><td style=\"text-align: right;\">-1.36036   </td><td style=\"text-align: right;\">0      </td><td style=\"text-align: right;\">0.946652</td><td style=\"text-align: right;\">1.0287  </td><td style=\"text-align: right;\">0.998656</td><td style=\"text-align: right;\">0.728281</td><td style=\"text-align: right;\">0.8692  </td><td style=\"text-align: right;\">1.02674 </td><td style=\"text-align: right;\">0.957904</td></tr>\n",
       "<tr><td style=\"text-align: right;\">         1</td><td style=\"text-align: right;\">1.10501 </td><td style=\"text-align: right;\"> 0.321356</td><td style=\"text-align: right;\"> 1.5224    </td><td style=\"text-align: right;\">0.882808</td><td style=\"text-align: right;\">-1.20535 </td><td style=\"text-align: right;\">0.681466</td><td style=\"text-align: right;\">-1.07046  </td><td style=\"text-align: right;\">-0.921871 </td><td style=\"text-align: right;\">0      </td><td style=\"text-align: right;\">0.800872</td><td style=\"text-align: right;\"> 1.02097 </td><td style=\"text-align: right;\"> 0.971407</td><td style=\"text-align: right;\">2.21487</td><td style=\"text-align: right;\">0.596761</td><td style=\"text-align: right;\">-0.350273 </td><td style=\"text-align: right;\"> 0.631194</td><td style=\"text-align: right;\">0      </td><td style=\"text-align: right;\">0.479999</td><td style=\"text-align: right;\">-0.373566 </td><td style=\"text-align: right;\"> 0.113041  </td><td style=\"text-align: right;\">0      </td><td style=\"text-align: right;\">0.755856</td><td style=\"text-align: right;\">1.36106 </td><td style=\"text-align: right;\">0.98661 </td><td style=\"text-align: right;\">0.838085</td><td style=\"text-align: right;\">1.1333  </td><td style=\"text-align: right;\">0.872245</td><td style=\"text-align: right;\">0.808487</td></tr>\n",
       "<tr><td style=\"text-align: right;\">         0</td><td style=\"text-align: right;\">1.59584 </td><td style=\"text-align: right;\">-0.607811</td><td style=\"text-align: right;\"> 0.00707492</td><td style=\"text-align: right;\">1.81845 </td><td style=\"text-align: right;\">-0.111906</td><td style=\"text-align: right;\">0.84755 </td><td style=\"text-align: right;\">-0.566437 </td><td style=\"text-align: right;\"> 1.58124  </td><td style=\"text-align: right;\">2.17308</td><td style=\"text-align: right;\">0.755421</td><td style=\"text-align: right;\"> 0.64311 </td><td style=\"text-align: right;\"> 1.42637 </td><td style=\"text-align: right;\">0      </td><td style=\"text-align: right;\">0.921661</td><td style=\"text-align: right;\">-1.19043  </td><td style=\"text-align: right;\">-1.61559 </td><td style=\"text-align: right;\">0      </td><td style=\"text-align: right;\">0.651114</td><td style=\"text-align: right;\">-0.654227 </td><td style=\"text-align: right;\">-1.27434   </td><td style=\"text-align: right;\">3.10196</td><td style=\"text-align: right;\">0.823761</td><td style=\"text-align: right;\">0.938191</td><td style=\"text-align: right;\">0.971758</td><td style=\"text-align: right;\">0.789176</td><td style=\"text-align: right;\">0.430553</td><td style=\"text-align: right;\">0.961357</td><td style=\"text-align: right;\">0.957818</td></tr>\n",
       "<tr><td style=\"text-align: right;\">         1</td><td style=\"text-align: right;\">0.409391</td><td style=\"text-align: right;\">-1.88468 </td><td style=\"text-align: right;\">-1.02729   </td><td style=\"text-align: right;\">1.67245 </td><td style=\"text-align: right;\">-1.6046  </td><td style=\"text-align: right;\">1.33801 </td><td style=\"text-align: right;\"> 0.0554274</td><td style=\"text-align: right;\"> 0.0134659</td><td style=\"text-align: right;\">2.17308</td><td style=\"text-align: right;\">0.509783</td><td style=\"text-align: right;\">-1.03834 </td><td style=\"text-align: right;\"> 0.707862</td><td style=\"text-align: right;\">0      </td><td style=\"text-align: right;\">0.746918</td><td style=\"text-align: right;\">-0.358465 </td><td style=\"text-align: right;\">-1.64665 </td><td style=\"text-align: right;\">0      </td><td style=\"text-align: right;\">0.367058</td><td style=\"text-align: right;\"> 0.0694965</td><td style=\"text-align: right;\"> 1.37713   </td><td style=\"text-align: right;\">3.10196</td><td style=\"text-align: right;\">0.869418</td><td style=\"text-align: right;\">1.22208 </td><td style=\"text-align: right;\">1.00063 </td><td style=\"text-align: right;\">0.545045</td><td style=\"text-align: right;\">0.698653</td><td style=\"text-align: right;\">0.977314</td><td style=\"text-align: right;\">0.828786</td></tr>\n",
       "<tr><td style=\"text-align: right;\">         1</td><td style=\"text-align: right;\">0.933895</td><td style=\"text-align: right;\"> 0.62913 </td><td style=\"text-align: right;\"> 0.527535  </td><td style=\"text-align: right;\">0.238033</td><td style=\"text-align: right;\">-0.966569</td><td style=\"text-align: right;\">0.547811</td><td style=\"text-align: right;\">-0.0594392</td><td style=\"text-align: right;\">-1.70687  </td><td style=\"text-align: right;\">2.17308</td><td style=\"text-align: right;\">0.941003</td><td style=\"text-align: right;\">-2.65373 </td><td style=\"text-align: right;\">-0.15722 </td><td style=\"text-align: right;\">0      </td><td style=\"text-align: right;\">1.03037 </td><td style=\"text-align: right;\">-0.175505 </td><td style=\"text-align: right;\"> 0.523021</td><td style=\"text-align: right;\">2.54822</td><td style=\"text-align: right;\">1.37355 </td><td style=\"text-align: right;\"> 1.29125  </td><td style=\"text-align: right;\">-1.46745   </td><td style=\"text-align: right;\">0      </td><td style=\"text-align: right;\">0.901837</td><td style=\"text-align: right;\">1.08367 </td><td style=\"text-align: right;\">0.979696</td><td style=\"text-align: right;\">0.7833  </td><td style=\"text-align: right;\">0.849195</td><td style=\"text-align: right;\">0.894356</td><td style=\"text-align: right;\">0.774879</td></tr>\n",
       "<tr><td style=\"text-align: right;\">         1</td><td style=\"text-align: right;\">1.40514 </td><td style=\"text-align: right;\"> 0.536603</td><td style=\"text-align: right;\"> 0.689554  </td><td style=\"text-align: right;\">1.17957 </td><td style=\"text-align: right;\">-0.110061</td><td style=\"text-align: right;\">3.2024  </td><td style=\"text-align: right;\">-1.52696  </td><td style=\"text-align: right;\">-1.57603  </td><td style=\"text-align: right;\">0      </td><td style=\"text-align: right;\">2.93154 </td><td style=\"text-align: right;\"> 0.567342</td><td style=\"text-align: right;\">-0.130033</td><td style=\"text-align: right;\">2.21487</td><td style=\"text-align: right;\">1.78712 </td><td style=\"text-align: right;\"> 0.899499 </td><td style=\"text-align: right;\"> 0.585151</td><td style=\"text-align: right;\">2.54822</td><td style=\"text-align: right;\">0.401865</td><td style=\"text-align: right;\">-0.151202 </td><td style=\"text-align: right;\"> 1.16349   </td><td style=\"text-align: right;\">0      </td><td style=\"text-align: right;\">1.66707 </td><td style=\"text-align: right;\">4.03927 </td><td style=\"text-align: right;\">1.17583 </td><td style=\"text-align: right;\">1.04535 </td><td style=\"text-align: right;\">1.54297 </td><td style=\"text-align: right;\">3.53483 </td><td style=\"text-align: right;\">2.74075 </td></tr>\n",
       "<tr><td style=\"text-align: right;\">         1</td><td style=\"text-align: right;\">1.17657 </td><td style=\"text-align: right;\"> 0.104161</td><td style=\"text-align: right;\"> 1.397     </td><td style=\"text-align: right;\">0.479721</td><td style=\"text-align: right;\"> 0.265513</td><td style=\"text-align: right;\">1.13556 </td><td style=\"text-align: right;\"> 1.53483  </td><td style=\"text-align: right;\">-0.253291 </td><td style=\"text-align: right;\">0      </td><td style=\"text-align: right;\">1.02725 </td><td style=\"text-align: right;\"> 0.534316</td><td style=\"text-align: right;\"> 1.18002 </td><td style=\"text-align: right;\">0      </td><td style=\"text-align: right;\">2.40566 </td><td style=\"text-align: right;\"> 0.0875568</td><td style=\"text-align: right;\">-0.976534</td><td style=\"text-align: right;\">2.54822</td><td style=\"text-align: right;\">1.25038 </td><td style=\"text-align: right;\"> 0.268541 </td><td style=\"text-align: right;\"> 0.530334  </td><td style=\"text-align: right;\">0      </td><td style=\"text-align: right;\">0.833175</td><td style=\"text-align: right;\">0.773968</td><td style=\"text-align: right;\">0.98575 </td><td style=\"text-align: right;\">1.1037  </td><td style=\"text-align: right;\">0.84914 </td><td style=\"text-align: right;\">0.937104</td><td style=\"text-align: right;\">0.812364</td></tr>\n",
       "</tbody>\n",
       "</table>"
      ]
     },
     "metadata": {},
     "output_type": "display_data"
    },
    {
     "data": {
      "text/plain": []
     },
     "execution_count": 11,
     "metadata": {},
     "output_type": "execute_result"
    }
   ],
   "source": [
    "train.head()"
   ]
  },
  {
   "cell_type": "markdown",
   "metadata": {},
   "source": [
    "### Identify predictors and response"
   ]
  },
  {
   "cell_type": "code",
   "execution_count": 12,
   "metadata": {},
   "outputs": [],
   "source": [
    "x = train.columns\n",
    "y = \"response\"\n",
    "x.remove(y)"
   ]
  },
  {
   "cell_type": "markdown",
   "metadata": {},
   "source": [
    "### For binary classification, response should be a factor"
   ]
  },
  {
   "cell_type": "code",
   "execution_count": null,
   "metadata": {},
   "outputs": [],
   "source": [
    "train[y] = train[y].asfactor()\n",
    "test[y]  = test[y].asfactor()"
   ]
  },
  {
   "cell_type": "markdown",
   "metadata": {},
   "source": [
    "### Run AutoML for 20 base models (limited to 1 hour max runtime by default)"
   ]
  },
  {
   "cell_type": "code",
   "execution_count": 13,
   "metadata": {},
   "outputs": [
    {
     "name": "stdout",
     "output_type": "stream",
     "text": [
      "AutoML progress: |████████████████████████████████████████████████████████| 100%\n"
     ]
    }
   ],
   "source": [
    "aml = H2OAutoML(max_models=20, seed=1)\n",
    "aml.train(x=x, y=y, training_frame=train)"
   ]
  },
  {
   "cell_type": "markdown",
   "metadata": {},
   "source": [
    "### View the AutoML Leaderboard & Print all rows instead of default (10 rows)"
   ]
  },
  {
   "cell_type": "code",
   "execution_count": 15,
   "metadata": {},
   "outputs": [],
   "source": [
    "lb = aml.leaderboard"
   ]
  },
  {
   "cell_type": "code",
   "execution_count": 22,
   "metadata": {},
   "outputs": [
    {
     "data": {
      "text/html": [
       "<table>\n",
       "<thead>\n",
       "<tr><th>model_id                                           </th><th style=\"text-align: right;\">     auc</th><th style=\"text-align: right;\">  logloss</th><th style=\"text-align: right;\">   aucpr</th><th style=\"text-align: right;\">  mean_per_class_error</th><th style=\"text-align: right;\">    rmse</th><th style=\"text-align: right;\">     mse</th><th style=\"text-align: right;\">  training_time_ms</th><th style=\"text-align: right;\">  predict_time_per_row_ms</th></tr>\n",
       "</thead>\n",
       "<tbody>\n",
       "<tr><td>StackedEnsemble_AllModels_AutoML_20201108_021404   </td><td style=\"text-align: right;\">0.790365</td><td style=\"text-align: right;\"> 0.55089 </td><td style=\"text-align: right;\">0.808044</td><td style=\"text-align: right;\">              0.323642</td><td style=\"text-align: right;\">0.431954</td><td style=\"text-align: right;\">0.186584</td><td style=\"text-align: right;\">               803</td><td style=\"text-align: right;\">                 0.031018</td></tr>\n",
       "<tr><td>StackedEnsemble_BestOfFamily_AutoML_20201108_021404</td><td style=\"text-align: right;\">0.789138</td><td style=\"text-align: right;\"> 0.551936</td><td style=\"text-align: right;\">0.806566</td><td style=\"text-align: right;\">              0.30538 </td><td style=\"text-align: right;\">0.43245 </td><td style=\"text-align: right;\">0.187013</td><td style=\"text-align: right;\">               564</td><td style=\"text-align: right;\">                 0.022448</td></tr>\n",
       "<tr><td>GBM_5_AutoML_20201108_021404                       </td><td style=\"text-align: right;\">0.78219 </td><td style=\"text-align: right;\"> 0.558353</td><td style=\"text-align: right;\">0.801738</td><td style=\"text-align: right;\">              0.319658</td><td style=\"text-align: right;\">0.435512</td><td style=\"text-align: right;\">0.18967 </td><td style=\"text-align: right;\">               738</td><td style=\"text-align: right;\">                 0.003693</td></tr>\n",
       "<tr><td>GBM_2_AutoML_20201108_021404                       </td><td style=\"text-align: right;\">0.777673</td><td style=\"text-align: right;\"> 0.562514</td><td style=\"text-align: right;\">0.796364</td><td style=\"text-align: right;\">              0.334056</td><td style=\"text-align: right;\">0.437583</td><td style=\"text-align: right;\">0.191479</td><td style=\"text-align: right;\">               572</td><td style=\"text-align: right;\">                 0.003655</td></tr>\n",
       "<tr><td>GBM_1_AutoML_20201108_021404                       </td><td style=\"text-align: right;\">0.777294</td><td style=\"text-align: right;\"> 0.562744</td><td style=\"text-align: right;\">0.799184</td><td style=\"text-align: right;\">              0.356261</td><td style=\"text-align: right;\">0.437727</td><td style=\"text-align: right;\">0.191605</td><td style=\"text-align: right;\">               748</td><td style=\"text-align: right;\">                 0.003134</td></tr>\n",
       "<tr><td>XGBoost_grid__1_AutoML_20201108_021404_model_4     </td><td style=\"text-align: right;\">0.777077</td><td style=\"text-align: right;\"> 0.563224</td><td style=\"text-align: right;\">0.794833</td><td style=\"text-align: right;\">              0.313667</td><td style=\"text-align: right;\">0.438117</td><td style=\"text-align: right;\">0.191946</td><td style=\"text-align: right;\">               397</td><td style=\"text-align: right;\">                 0.001675</td></tr>\n",
       "<tr><td>GBM_3_AutoML_20201108_021404                       </td><td style=\"text-align: right;\">0.775488</td><td style=\"text-align: right;\"> 0.564794</td><td style=\"text-align: right;\">0.794892</td><td style=\"text-align: right;\">              0.327971</td><td style=\"text-align: right;\">0.438722</td><td style=\"text-align: right;\">0.192477</td><td style=\"text-align: right;\">               587</td><td style=\"text-align: right;\">                 0.00344 </td></tr>\n",
       "<tr><td>XGBoost_grid__1_AutoML_20201108_021404_model_3     </td><td style=\"text-align: right;\">0.775001</td><td style=\"text-align: right;\"> 0.566271</td><td style=\"text-align: right;\">0.792362</td><td style=\"text-align: right;\">              0.330641</td><td style=\"text-align: right;\">0.43926 </td><td style=\"text-align: right;\">0.192949</td><td style=\"text-align: right;\">               319</td><td style=\"text-align: right;\">                 0.001562</td></tr>\n",
       "<tr><td>GBM_grid__1_AutoML_20201108_021404_model_1         </td><td style=\"text-align: right;\">0.772926</td><td style=\"text-align: right;\"> 0.568181</td><td style=\"text-align: right;\">0.791195</td><td style=\"text-align: right;\">              0.322808</td><td style=\"text-align: right;\">0.439997</td><td style=\"text-align: right;\">0.193598</td><td style=\"text-align: right;\">               387</td><td style=\"text-align: right;\">                 0.003181</td></tr>\n",
       "<tr><td>GBM_4_AutoML_20201108_021404                       </td><td style=\"text-align: right;\">0.77248 </td><td style=\"text-align: right;\"> 0.569483</td><td style=\"text-align: right;\">0.792582</td><td style=\"text-align: right;\">              0.336913</td><td style=\"text-align: right;\">0.440873</td><td style=\"text-align: right;\">0.194369</td><td style=\"text-align: right;\">               704</td><td style=\"text-align: right;\">                 0.003318</td></tr>\n",
       "<tr><td>XGBoost_3_AutoML_20201108_021404                   </td><td style=\"text-align: right;\">0.770601</td><td style=\"text-align: right;\"> 0.571069</td><td style=\"text-align: right;\">0.789847</td><td style=\"text-align: right;\">              0.338955</td><td style=\"text-align: right;\">0.441546</td><td style=\"text-align: right;\">0.194963</td><td style=\"text-align: right;\">               431</td><td style=\"text-align: right;\">                 0.001363</td></tr>\n",
       "<tr><td>GBM_grid__1_AutoML_20201108_021404_model_2         </td><td style=\"text-align: right;\">0.77049 </td><td style=\"text-align: right;\"> 0.569351</td><td style=\"text-align: right;\">0.788633</td><td style=\"text-align: right;\">              0.369523</td><td style=\"text-align: right;\">0.440822</td><td style=\"text-align: right;\">0.194324</td><td style=\"text-align: right;\">               876</td><td style=\"text-align: right;\">                 0.004335</td></tr>\n",
       "<tr><td>DRF_1_AutoML_20201108_021404                       </td><td style=\"text-align: right;\">0.764975</td><td style=\"text-align: right;\"> 0.5801  </td><td style=\"text-align: right;\">0.782338</td><td style=\"text-align: right;\">              0.336001</td><td style=\"text-align: right;\">0.445222</td><td style=\"text-align: right;\">0.198222</td><td style=\"text-align: right;\">              1533</td><td style=\"text-align: right;\">                 0.004112</td></tr>\n",
       "<tr><td>XRT_1_AutoML_20201108_021404                       </td><td style=\"text-align: right;\">0.759957</td><td style=\"text-align: right;\"> 0.585158</td><td style=\"text-align: right;\">0.777041</td><td style=\"text-align: right;\">              0.338976</td><td style=\"text-align: right;\">0.447598</td><td style=\"text-align: right;\">0.200344</td><td style=\"text-align: right;\">              1394</td><td style=\"text-align: right;\">                 0.004484</td></tr>\n",
       "<tr><td>XGBoost_grid__1_AutoML_20201108_021404_model_1     </td><td style=\"text-align: right;\">0.75884 </td><td style=\"text-align: right;\"> 0.585395</td><td style=\"text-align: right;\">0.775771</td><td style=\"text-align: right;\">              0.345224</td><td style=\"text-align: right;\">0.447616</td><td style=\"text-align: right;\">0.20036 </td><td style=\"text-align: right;\">               327</td><td style=\"text-align: right;\">                 0.001467</td></tr>\n",
       "<tr><td>XGBoost_2_AutoML_20201108_021404                   </td><td style=\"text-align: right;\">0.754557</td><td style=\"text-align: right;\"> 0.606215</td><td style=\"text-align: right;\">0.774276</td><td style=\"text-align: right;\">              0.36111 </td><td style=\"text-align: right;\">0.454609</td><td style=\"text-align: right;\">0.206669</td><td style=\"text-align: right;\">               464</td><td style=\"text-align: right;\">                 0.001986</td></tr>\n",
       "<tr><td>XGBoost_1_AutoML_20201108_021404                   </td><td style=\"text-align: right;\">0.746812</td><td style=\"text-align: right;\"> 0.618265</td><td style=\"text-align: right;\">0.767829</td><td style=\"text-align: right;\">              0.356407</td><td style=\"text-align: right;\">0.459288</td><td style=\"text-align: right;\">0.210946</td><td style=\"text-align: right;\">               601</td><td style=\"text-align: right;\">                 0.001742</td></tr>\n",
       "<tr><td>DeepLearning_grid__2_AutoML_20201108_021404_model_1</td><td style=\"text-align: right;\">0.735124</td><td style=\"text-align: right;\"> 0.604811</td><td style=\"text-align: right;\">0.745596</td><td style=\"text-align: right;\">              0.358273</td><td style=\"text-align: right;\">0.456439</td><td style=\"text-align: right;\">0.208336</td><td style=\"text-align: right;\">             41481</td><td style=\"text-align: right;\">                 0.009122</td></tr>\n",
       "<tr><td>XGBoost_grid__1_AutoML_20201108_021404_model_2     </td><td style=\"text-align: right;\">0.729845</td><td style=\"text-align: right;\"> 0.813729</td><td style=\"text-align: right;\">0.747839</td><td style=\"text-align: right;\">              0.397033</td><td style=\"text-align: right;\">0.496787</td><td style=\"text-align: right;\">0.246797</td><td style=\"text-align: right;\">               750</td><td style=\"text-align: right;\">                 0.002837</td></tr>\n",
       "<tr><td>DeepLearning_1_AutoML_20201108_021404              </td><td style=\"text-align: right;\">0.710497</td><td style=\"text-align: right;\"> 0.624804</td><td style=\"text-align: right;\">0.711862</td><td style=\"text-align: right;\">              0.377628</td><td style=\"text-align: right;\">0.465291</td><td style=\"text-align: right;\">0.216496</td><td style=\"text-align: right;\">               443</td><td style=\"text-align: right;\">                 0.001609</td></tr>\n",
       "<tr><td>DeepLearning_grid__1_AutoML_20201108_021404_model_1</td><td style=\"text-align: right;\">0.686438</td><td style=\"text-align: right;\"> 0.683392</td><td style=\"text-align: right;\">0.685751</td><td style=\"text-align: right;\">              0.414337</td><td style=\"text-align: right;\">0.483013</td><td style=\"text-align: right;\">0.233302</td><td style=\"text-align: right;\">             30994</td><td style=\"text-align: right;\">                 0.003626</td></tr>\n",
       "<tr><td>GLM_1_AutoML_20201108_021404                       </td><td style=\"text-align: right;\">0.682648</td><td style=\"text-align: right;\"> 0.63852 </td><td style=\"text-align: right;\">0.680715</td><td style=\"text-align: right;\">              0.397234</td><td style=\"text-align: right;\">0.472683</td><td style=\"text-align: right;\">0.223429</td><td style=\"text-align: right;\">               991</td><td style=\"text-align: right;\">                 0.001256</td></tr>\n",
       "</tbody>\n",
       "</table>"
      ]
     },
     "metadata": {},
     "output_type": "display_data"
    },
    {
     "data": {
      "text/plain": []
     },
     "execution_count": 22,
     "metadata": {},
     "output_type": "execute_result"
    }
   ],
   "source": [
    "lb = h2o.automl.get_leaderboard(aml, extra_columns='ALL')\n",
    "lb.head(rows=lb.nrows)"
   ]
  },
  {
   "cell_type": "code",
   "execution_count": 18,
   "metadata": {},
   "outputs": [
    {
     "data": {
      "text/plain": [
       "h2o.frame.H2OFrame"
      ]
     },
     "execution_count": 18,
     "metadata": {},
     "output_type": "execute_result"
    }
   ],
   "source": [
    "type(lb)"
   ]
  },
  {
   "cell_type": "code",
   "execution_count": 20,
   "metadata": {},
   "outputs": [
    {
     "data": {
      "text/html": [
       "<div>\n",
       "<style scoped>\n",
       "    .dataframe tbody tr th:only-of-type {\n",
       "        vertical-align: middle;\n",
       "    }\n",
       "\n",
       "    .dataframe tbody tr th {\n",
       "        vertical-align: top;\n",
       "    }\n",
       "\n",
       "    .dataframe thead th {\n",
       "        text-align: right;\n",
       "    }\n",
       "</style>\n",
       "<table border=\"1\" class=\"dataframe\">\n",
       "  <thead>\n",
       "    <tr style=\"text-align: right;\">\n",
       "      <th></th>\n",
       "      <th>model_id</th>\n",
       "      <th>auc</th>\n",
       "      <th>logloss</th>\n",
       "      <th>aucpr</th>\n",
       "      <th>mean_per_class_error</th>\n",
       "      <th>rmse</th>\n",
       "      <th>mse</th>\n",
       "    </tr>\n",
       "  </thead>\n",
       "  <tbody>\n",
       "    <tr>\n",
       "      <th>0</th>\n",
       "      <td>StackedEnsemble_AllModels_AutoML_20201108_021404</td>\n",
       "      <td>0.790365</td>\n",
       "      <td>0.550890</td>\n",
       "      <td>0.808044</td>\n",
       "      <td>0.323642</td>\n",
       "      <td>0.431954</td>\n",
       "      <td>0.186584</td>\n",
       "    </tr>\n",
       "    <tr>\n",
       "      <th>1</th>\n",
       "      <td>StackedEnsemble_BestOfFamily_AutoML_20201108_0...</td>\n",
       "      <td>0.789138</td>\n",
       "      <td>0.551936</td>\n",
       "      <td>0.806566</td>\n",
       "      <td>0.305380</td>\n",
       "      <td>0.432450</td>\n",
       "      <td>0.187013</td>\n",
       "    </tr>\n",
       "    <tr>\n",
       "      <th>2</th>\n",
       "      <td>GBM_5_AutoML_20201108_021404</td>\n",
       "      <td>0.782190</td>\n",
       "      <td>0.558353</td>\n",
       "      <td>0.801738</td>\n",
       "      <td>0.319658</td>\n",
       "      <td>0.435512</td>\n",
       "      <td>0.189670</td>\n",
       "    </tr>\n",
       "    <tr>\n",
       "      <th>3</th>\n",
       "      <td>GBM_2_AutoML_20201108_021404</td>\n",
       "      <td>0.777673</td>\n",
       "      <td>0.562514</td>\n",
       "      <td>0.796364</td>\n",
       "      <td>0.334056</td>\n",
       "      <td>0.437583</td>\n",
       "      <td>0.191479</td>\n",
       "    </tr>\n",
       "    <tr>\n",
       "      <th>4</th>\n",
       "      <td>GBM_1_AutoML_20201108_021404</td>\n",
       "      <td>0.777294</td>\n",
       "      <td>0.562744</td>\n",
       "      <td>0.799184</td>\n",
       "      <td>0.356261</td>\n",
       "      <td>0.437727</td>\n",
       "      <td>0.191605</td>\n",
       "    </tr>\n",
       "    <tr>\n",
       "      <th>5</th>\n",
       "      <td>XGBoost_grid__1_AutoML_20201108_021404_model_4</td>\n",
       "      <td>0.777077</td>\n",
       "      <td>0.563224</td>\n",
       "      <td>0.794833</td>\n",
       "      <td>0.313667</td>\n",
       "      <td>0.438117</td>\n",
       "      <td>0.191946</td>\n",
       "    </tr>\n",
       "    <tr>\n",
       "      <th>6</th>\n",
       "      <td>GBM_3_AutoML_20201108_021404</td>\n",
       "      <td>0.775488</td>\n",
       "      <td>0.564794</td>\n",
       "      <td>0.794892</td>\n",
       "      <td>0.327971</td>\n",
       "      <td>0.438722</td>\n",
       "      <td>0.192477</td>\n",
       "    </tr>\n",
       "    <tr>\n",
       "      <th>7</th>\n",
       "      <td>XGBoost_grid__1_AutoML_20201108_021404_model_3</td>\n",
       "      <td>0.775001</td>\n",
       "      <td>0.566271</td>\n",
       "      <td>0.792362</td>\n",
       "      <td>0.330641</td>\n",
       "      <td>0.439260</td>\n",
       "      <td>0.192949</td>\n",
       "    </tr>\n",
       "    <tr>\n",
       "      <th>8</th>\n",
       "      <td>GBM_grid__1_AutoML_20201108_021404_model_1</td>\n",
       "      <td>0.772926</td>\n",
       "      <td>0.568181</td>\n",
       "      <td>0.791195</td>\n",
       "      <td>0.322808</td>\n",
       "      <td>0.439997</td>\n",
       "      <td>0.193598</td>\n",
       "    </tr>\n",
       "    <tr>\n",
       "      <th>9</th>\n",
       "      <td>GBM_4_AutoML_20201108_021404</td>\n",
       "      <td>0.772480</td>\n",
       "      <td>0.569483</td>\n",
       "      <td>0.792582</td>\n",
       "      <td>0.336913</td>\n",
       "      <td>0.440873</td>\n",
       "      <td>0.194369</td>\n",
       "    </tr>\n",
       "    <tr>\n",
       "      <th>10</th>\n",
       "      <td>XGBoost_3_AutoML_20201108_021404</td>\n",
       "      <td>0.770601</td>\n",
       "      <td>0.571069</td>\n",
       "      <td>0.789847</td>\n",
       "      <td>0.338955</td>\n",
       "      <td>0.441546</td>\n",
       "      <td>0.194963</td>\n",
       "    </tr>\n",
       "    <tr>\n",
       "      <th>11</th>\n",
       "      <td>GBM_grid__1_AutoML_20201108_021404_model_2</td>\n",
       "      <td>0.770490</td>\n",
       "      <td>0.569351</td>\n",
       "      <td>0.788633</td>\n",
       "      <td>0.369523</td>\n",
       "      <td>0.440822</td>\n",
       "      <td>0.194324</td>\n",
       "    </tr>\n",
       "    <tr>\n",
       "      <th>12</th>\n",
       "      <td>DRF_1_AutoML_20201108_021404</td>\n",
       "      <td>0.764975</td>\n",
       "      <td>0.580100</td>\n",
       "      <td>0.782338</td>\n",
       "      <td>0.336001</td>\n",
       "      <td>0.445222</td>\n",
       "      <td>0.198222</td>\n",
       "    </tr>\n",
       "    <tr>\n",
       "      <th>13</th>\n",
       "      <td>XRT_1_AutoML_20201108_021404</td>\n",
       "      <td>0.759957</td>\n",
       "      <td>0.585158</td>\n",
       "      <td>0.777041</td>\n",
       "      <td>0.338976</td>\n",
       "      <td>0.447598</td>\n",
       "      <td>0.200344</td>\n",
       "    </tr>\n",
       "    <tr>\n",
       "      <th>14</th>\n",
       "      <td>XGBoost_grid__1_AutoML_20201108_021404_model_1</td>\n",
       "      <td>0.758840</td>\n",
       "      <td>0.585395</td>\n",
       "      <td>0.775771</td>\n",
       "      <td>0.345224</td>\n",
       "      <td>0.447616</td>\n",
       "      <td>0.200360</td>\n",
       "    </tr>\n",
       "    <tr>\n",
       "      <th>15</th>\n",
       "      <td>XGBoost_2_AutoML_20201108_021404</td>\n",
       "      <td>0.754557</td>\n",
       "      <td>0.606215</td>\n",
       "      <td>0.774276</td>\n",
       "      <td>0.361110</td>\n",
       "      <td>0.454609</td>\n",
       "      <td>0.206669</td>\n",
       "    </tr>\n",
       "    <tr>\n",
       "      <th>16</th>\n",
       "      <td>XGBoost_1_AutoML_20201108_021404</td>\n",
       "      <td>0.746812</td>\n",
       "      <td>0.618265</td>\n",
       "      <td>0.767829</td>\n",
       "      <td>0.356407</td>\n",
       "      <td>0.459288</td>\n",
       "      <td>0.210946</td>\n",
       "    </tr>\n",
       "    <tr>\n",
       "      <th>17</th>\n",
       "      <td>DeepLearning_grid__2_AutoML_20201108_021404_mo...</td>\n",
       "      <td>0.735124</td>\n",
       "      <td>0.604811</td>\n",
       "      <td>0.745596</td>\n",
       "      <td>0.358273</td>\n",
       "      <td>0.456439</td>\n",
       "      <td>0.208336</td>\n",
       "    </tr>\n",
       "    <tr>\n",
       "      <th>18</th>\n",
       "      <td>XGBoost_grid__1_AutoML_20201108_021404_model_2</td>\n",
       "      <td>0.729845</td>\n",
       "      <td>0.813729</td>\n",
       "      <td>0.747839</td>\n",
       "      <td>0.397033</td>\n",
       "      <td>0.496787</td>\n",
       "      <td>0.246797</td>\n",
       "    </tr>\n",
       "    <tr>\n",
       "      <th>19</th>\n",
       "      <td>DeepLearning_1_AutoML_20201108_021404</td>\n",
       "      <td>0.710497</td>\n",
       "      <td>0.624804</td>\n",
       "      <td>0.711862</td>\n",
       "      <td>0.377628</td>\n",
       "      <td>0.465291</td>\n",
       "      <td>0.216496</td>\n",
       "    </tr>\n",
       "    <tr>\n",
       "      <th>20</th>\n",
       "      <td>DeepLearning_grid__1_AutoML_20201108_021404_mo...</td>\n",
       "      <td>0.686438</td>\n",
       "      <td>0.683392</td>\n",
       "      <td>0.685751</td>\n",
       "      <td>0.414337</td>\n",
       "      <td>0.483013</td>\n",
       "      <td>0.233302</td>\n",
       "    </tr>\n",
       "    <tr>\n",
       "      <th>21</th>\n",
       "      <td>GLM_1_AutoML_20201108_021404</td>\n",
       "      <td>0.682648</td>\n",
       "      <td>0.638520</td>\n",
       "      <td>0.680715</td>\n",
       "      <td>0.397234</td>\n",
       "      <td>0.472683</td>\n",
       "      <td>0.223429</td>\n",
       "    </tr>\n",
       "  </tbody>\n",
       "</table>\n",
       "</div>"
      ],
      "text/plain": [
       "                                             model_id       auc   logloss  \\\n",
       "0    StackedEnsemble_AllModels_AutoML_20201108_021404  0.790365  0.550890   \n",
       "1   StackedEnsemble_BestOfFamily_AutoML_20201108_0...  0.789138  0.551936   \n",
       "2                        GBM_5_AutoML_20201108_021404  0.782190  0.558353   \n",
       "3                        GBM_2_AutoML_20201108_021404  0.777673  0.562514   \n",
       "4                        GBM_1_AutoML_20201108_021404  0.777294  0.562744   \n",
       "5      XGBoost_grid__1_AutoML_20201108_021404_model_4  0.777077  0.563224   \n",
       "6                        GBM_3_AutoML_20201108_021404  0.775488  0.564794   \n",
       "7      XGBoost_grid__1_AutoML_20201108_021404_model_3  0.775001  0.566271   \n",
       "8          GBM_grid__1_AutoML_20201108_021404_model_1  0.772926  0.568181   \n",
       "9                        GBM_4_AutoML_20201108_021404  0.772480  0.569483   \n",
       "10                   XGBoost_3_AutoML_20201108_021404  0.770601  0.571069   \n",
       "11         GBM_grid__1_AutoML_20201108_021404_model_2  0.770490  0.569351   \n",
       "12                       DRF_1_AutoML_20201108_021404  0.764975  0.580100   \n",
       "13                       XRT_1_AutoML_20201108_021404  0.759957  0.585158   \n",
       "14     XGBoost_grid__1_AutoML_20201108_021404_model_1  0.758840  0.585395   \n",
       "15                   XGBoost_2_AutoML_20201108_021404  0.754557  0.606215   \n",
       "16                   XGBoost_1_AutoML_20201108_021404  0.746812  0.618265   \n",
       "17  DeepLearning_grid__2_AutoML_20201108_021404_mo...  0.735124  0.604811   \n",
       "18     XGBoost_grid__1_AutoML_20201108_021404_model_2  0.729845  0.813729   \n",
       "19              DeepLearning_1_AutoML_20201108_021404  0.710497  0.624804   \n",
       "20  DeepLearning_grid__1_AutoML_20201108_021404_mo...  0.686438  0.683392   \n",
       "21                       GLM_1_AutoML_20201108_021404  0.682648  0.638520   \n",
       "\n",
       "       aucpr  mean_per_class_error      rmse       mse  \n",
       "0   0.808044              0.323642  0.431954  0.186584  \n",
       "1   0.806566              0.305380  0.432450  0.187013  \n",
       "2   0.801738              0.319658  0.435512  0.189670  \n",
       "3   0.796364              0.334056  0.437583  0.191479  \n",
       "4   0.799184              0.356261  0.437727  0.191605  \n",
       "5   0.794833              0.313667  0.438117  0.191946  \n",
       "6   0.794892              0.327971  0.438722  0.192477  \n",
       "7   0.792362              0.330641  0.439260  0.192949  \n",
       "8   0.791195              0.322808  0.439997  0.193598  \n",
       "9   0.792582              0.336913  0.440873  0.194369  \n",
       "10  0.789847              0.338955  0.441546  0.194963  \n",
       "11  0.788633              0.369523  0.440822  0.194324  \n",
       "12  0.782338              0.336001  0.445222  0.198222  \n",
       "13  0.777041              0.338976  0.447598  0.200344  \n",
       "14  0.775771              0.345224  0.447616  0.200360  \n",
       "15  0.774276              0.361110  0.454609  0.206669  \n",
       "16  0.767829              0.356407  0.459288  0.210946  \n",
       "17  0.745596              0.358273  0.456439  0.208336  \n",
       "18  0.747839              0.397033  0.496787  0.246797  \n",
       "19  0.711862              0.377628  0.465291  0.216496  \n",
       "20  0.685751              0.414337  0.483013  0.233302  \n",
       "21  0.680715              0.397234  0.472683  0.223429  "
      ]
     },
     "execution_count": 20,
     "metadata": {},
     "output_type": "execute_result"
    }
   ],
   "source": [
    "lb.as_data_frame()"
   ]
  },
  {
   "cell_type": "code",
   "execution_count": null,
   "metadata": {},
   "outputs": [],
   "source": []
  },
  {
   "cell_type": "code",
   "execution_count": null,
   "metadata": {},
   "outputs": [],
   "source": []
  }
 ],
 "metadata": {
  "kernelspec": {
   "display_name": "Python 3",
   "language": "python",
   "name": "python3"
  },
  "language_info": {
   "codemirror_mode": {
    "name": "ipython",
    "version": 3
   },
   "file_extension": ".py",
   "mimetype": "text/x-python",
   "name": "python",
   "nbconvert_exporter": "python",
   "pygments_lexer": "ipython3",
   "version": "3.8.6"
  }
 },
 "nbformat": 4,
 "nbformat_minor": 4
}
