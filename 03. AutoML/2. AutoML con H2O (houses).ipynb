{
 "cells": [
  {
   "cell_type": "code",
   "execution_count": 1,
   "metadata": {},
   "outputs": [],
   "source": [
    "#!pip install h2o"
   ]
  },
  {
   "cell_type": "code",
   "execution_count": 1,
   "metadata": {},
   "outputs": [
    {
     "data": {
      "text/plain": [
       "'3.30.1.3'"
      ]
     },
     "execution_count": 1,
     "metadata": {},
     "output_type": "execute_result"
    }
   ],
   "source": [
    "import pandas as pd\n",
    "from sklearn.model_selection import train_test_split\n",
    "\n",
    "import h2o\n",
    "from h2o.automl import H2OAutoML\n",
    "\n",
    "h2o.__version__"
   ]
  },
  {
   "cell_type": "code",
   "execution_count": 2,
   "metadata": {},
   "outputs": [
    {
     "name": "stdout",
     "output_type": "stream",
     "text": [
      "Checking whether there is an H2O instance running at http://localhost:54321 ..... not found.\n",
      "Attempting to start a local H2O server...\n",
      "  Java Version: openjdk version \"14.0.2\" 2020-07-14; OpenJDK Runtime Environment (build 14.0.2+12); OpenJDK 64-Bit Server VM (build 14.0.2+12, mixed mode)\n",
      "  Starting server from /usr/lib/python3.8/site-packages/h2o/backend/bin/h2o.jar\n",
      "  Ice root: /tmp/tmpe0jofz70\n",
      "  JVM stdout: /tmp/tmpe0jofz70/h2o_javi_started_from_python.out\n",
      "  JVM stderr: /tmp/tmpe0jofz70/h2o_javi_started_from_python.err\n",
      "  Server is running at http://127.0.0.1:54321\n",
      "Connecting to H2O server at http://127.0.0.1:54321 ... successful.\n"
     ]
    },
    {
     "data": {
      "text/html": [
       "<div style=\"overflow:auto\"><table style=\"width:50%\"><tr><td>H2O_cluster_uptime:</td>\n",
       "<td>01 secs</td></tr>\n",
       "<tr><td>H2O_cluster_timezone:</td>\n",
       "<td>Europe/Madrid</td></tr>\n",
       "<tr><td>H2O_data_parsing_timezone:</td>\n",
       "<td>UTC</td></tr>\n",
       "<tr><td>H2O_cluster_version:</td>\n",
       "<td>3.30.1.3</td></tr>\n",
       "<tr><td>H2O_cluster_version_age:</td>\n",
       "<td>1 month and 11 days </td></tr>\n",
       "<tr><td>H2O_cluster_name:</td>\n",
       "<td>H2O_from_python_javi_fxtpjr</td></tr>\n",
       "<tr><td>H2O_cluster_total_nodes:</td>\n",
       "<td>1</td></tr>\n",
       "<tr><td>H2O_cluster_free_memory:</td>\n",
       "<td>3.898 Gb</td></tr>\n",
       "<tr><td>H2O_cluster_total_cores:</td>\n",
       "<td>4</td></tr>\n",
       "<tr><td>H2O_cluster_allowed_cores:</td>\n",
       "<td>4</td></tr>\n",
       "<tr><td>H2O_cluster_status:</td>\n",
       "<td>accepting new members, healthy</td></tr>\n",
       "<tr><td>H2O_connection_url:</td>\n",
       "<td>http://127.0.0.1:54321</td></tr>\n",
       "<tr><td>H2O_connection_proxy:</td>\n",
       "<td>{\"http\": null, \"https\": null}</td></tr>\n",
       "<tr><td>H2O_internal_security:</td>\n",
       "<td>False</td></tr>\n",
       "<tr><td>H2O_API_Extensions:</td>\n",
       "<td>Amazon S3, XGBoost, Algos, AutoML, Core V3, TargetEncoder, Core V4</td></tr>\n",
       "<tr><td>Python_version:</td>\n",
       "<td>3.8.6 final</td></tr></table></div>"
      ],
      "text/plain": [
       "--------------------------  ------------------------------------------------------------------\n",
       "H2O_cluster_uptime:         01 secs\n",
       "H2O_cluster_timezone:       Europe/Madrid\n",
       "H2O_data_parsing_timezone:  UTC\n",
       "H2O_cluster_version:        3.30.1.3\n",
       "H2O_cluster_version_age:    1 month and 11 days\n",
       "H2O_cluster_name:           H2O_from_python_javi_fxtpjr\n",
       "H2O_cluster_total_nodes:    1\n",
       "H2O_cluster_free_memory:    3.898 Gb\n",
       "H2O_cluster_total_cores:    4\n",
       "H2O_cluster_allowed_cores:  4\n",
       "H2O_cluster_status:         accepting new members, healthy\n",
       "H2O_connection_url:         http://127.0.0.1:54321\n",
       "H2O_connection_proxy:       {\"http\": null, \"https\": null}\n",
       "H2O_internal_security:      False\n",
       "H2O_API_Extensions:         Amazon S3, XGBoost, Algos, AutoML, Core V3, TargetEncoder, Core V4\n",
       "Python_version:             3.8.6 final\n",
       "--------------------------  ------------------------------------------------------------------"
      ]
     },
     "metadata": {},
     "output_type": "display_data"
    }
   ],
   "source": [
    "h2o.init()"
   ]
  },
  {
   "cell_type": "markdown",
   "metadata": {},
   "source": [
    "# Leer datos"
   ]
  },
  {
   "cell_type": "code",
   "execution_count": 3,
   "metadata": {},
   "outputs": [
    {
     "name": "stdout",
     "output_type": "stream",
     "text": [
      "Filas train: 1460\n",
      "Filas test: 1459\n"
     ]
    },
    {
     "data": {
      "text/html": [
       "<div>\n",
       "<style scoped>\n",
       "    .dataframe tbody tr th:only-of-type {\n",
       "        vertical-align: middle;\n",
       "    }\n",
       "\n",
       "    .dataframe tbody tr th {\n",
       "        vertical-align: top;\n",
       "    }\n",
       "\n",
       "    .dataframe thead th {\n",
       "        text-align: right;\n",
       "    }\n",
       "</style>\n",
       "<table border=\"1\" class=\"dataframe\">\n",
       "  <thead>\n",
       "    <tr style=\"text-align: right;\">\n",
       "      <th></th>\n",
       "      <th>Id</th>\n",
       "      <th>MSSubClass</th>\n",
       "      <th>MSZoning</th>\n",
       "      <th>LotFrontage</th>\n",
       "      <th>LotArea</th>\n",
       "      <th>Street</th>\n",
       "      <th>Alley</th>\n",
       "      <th>LotShape</th>\n",
       "      <th>LandContour</th>\n",
       "      <th>Utilities</th>\n",
       "      <th>...</th>\n",
       "      <th>PoolArea</th>\n",
       "      <th>PoolQC</th>\n",
       "      <th>Fence</th>\n",
       "      <th>MiscFeature</th>\n",
       "      <th>MiscVal</th>\n",
       "      <th>MoSold</th>\n",
       "      <th>YrSold</th>\n",
       "      <th>SaleType</th>\n",
       "      <th>SaleCondition</th>\n",
       "      <th>SalePrice</th>\n",
       "    </tr>\n",
       "  </thead>\n",
       "  <tbody>\n",
       "    <tr>\n",
       "      <th>0</th>\n",
       "      <td>1</td>\n",
       "      <td>60</td>\n",
       "      <td>RL</td>\n",
       "      <td>65.0</td>\n",
       "      <td>8450</td>\n",
       "      <td>Pave</td>\n",
       "      <td>NaN</td>\n",
       "      <td>Reg</td>\n",
       "      <td>Lvl</td>\n",
       "      <td>AllPub</td>\n",
       "      <td>...</td>\n",
       "      <td>0</td>\n",
       "      <td>NaN</td>\n",
       "      <td>NaN</td>\n",
       "      <td>NaN</td>\n",
       "      <td>0</td>\n",
       "      <td>2</td>\n",
       "      <td>2008</td>\n",
       "      <td>WD</td>\n",
       "      <td>Normal</td>\n",
       "      <td>208500</td>\n",
       "    </tr>\n",
       "    <tr>\n",
       "      <th>1</th>\n",
       "      <td>2</td>\n",
       "      <td>20</td>\n",
       "      <td>RL</td>\n",
       "      <td>80.0</td>\n",
       "      <td>9600</td>\n",
       "      <td>Pave</td>\n",
       "      <td>NaN</td>\n",
       "      <td>Reg</td>\n",
       "      <td>Lvl</td>\n",
       "      <td>AllPub</td>\n",
       "      <td>...</td>\n",
       "      <td>0</td>\n",
       "      <td>NaN</td>\n",
       "      <td>NaN</td>\n",
       "      <td>NaN</td>\n",
       "      <td>0</td>\n",
       "      <td>5</td>\n",
       "      <td>2007</td>\n",
       "      <td>WD</td>\n",
       "      <td>Normal</td>\n",
       "      <td>181500</td>\n",
       "    </tr>\n",
       "    <tr>\n",
       "      <th>2</th>\n",
       "      <td>3</td>\n",
       "      <td>60</td>\n",
       "      <td>RL</td>\n",
       "      <td>68.0</td>\n",
       "      <td>11250</td>\n",
       "      <td>Pave</td>\n",
       "      <td>NaN</td>\n",
       "      <td>IR1</td>\n",
       "      <td>Lvl</td>\n",
       "      <td>AllPub</td>\n",
       "      <td>...</td>\n",
       "      <td>0</td>\n",
       "      <td>NaN</td>\n",
       "      <td>NaN</td>\n",
       "      <td>NaN</td>\n",
       "      <td>0</td>\n",
       "      <td>9</td>\n",
       "      <td>2008</td>\n",
       "      <td>WD</td>\n",
       "      <td>Normal</td>\n",
       "      <td>223500</td>\n",
       "    </tr>\n",
       "    <tr>\n",
       "      <th>3</th>\n",
       "      <td>4</td>\n",
       "      <td>70</td>\n",
       "      <td>RL</td>\n",
       "      <td>60.0</td>\n",
       "      <td>9550</td>\n",
       "      <td>Pave</td>\n",
       "      <td>NaN</td>\n",
       "      <td>IR1</td>\n",
       "      <td>Lvl</td>\n",
       "      <td>AllPub</td>\n",
       "      <td>...</td>\n",
       "      <td>0</td>\n",
       "      <td>NaN</td>\n",
       "      <td>NaN</td>\n",
       "      <td>NaN</td>\n",
       "      <td>0</td>\n",
       "      <td>2</td>\n",
       "      <td>2006</td>\n",
       "      <td>WD</td>\n",
       "      <td>Abnorml</td>\n",
       "      <td>140000</td>\n",
       "    </tr>\n",
       "    <tr>\n",
       "      <th>4</th>\n",
       "      <td>5</td>\n",
       "      <td>60</td>\n",
       "      <td>RL</td>\n",
       "      <td>84.0</td>\n",
       "      <td>14260</td>\n",
       "      <td>Pave</td>\n",
       "      <td>NaN</td>\n",
       "      <td>IR1</td>\n",
       "      <td>Lvl</td>\n",
       "      <td>AllPub</td>\n",
       "      <td>...</td>\n",
       "      <td>0</td>\n",
       "      <td>NaN</td>\n",
       "      <td>NaN</td>\n",
       "      <td>NaN</td>\n",
       "      <td>0</td>\n",
       "      <td>12</td>\n",
       "      <td>2008</td>\n",
       "      <td>WD</td>\n",
       "      <td>Normal</td>\n",
       "      <td>250000</td>\n",
       "    </tr>\n",
       "  </tbody>\n",
       "</table>\n",
       "<p>5 rows × 81 columns</p>\n",
       "</div>"
      ],
      "text/plain": [
       "   Id  MSSubClass MSZoning  LotFrontage  LotArea Street Alley LotShape  \\\n",
       "0   1          60       RL         65.0     8450   Pave   NaN      Reg   \n",
       "1   2          20       RL         80.0     9600   Pave   NaN      Reg   \n",
       "2   3          60       RL         68.0    11250   Pave   NaN      IR1   \n",
       "3   4          70       RL         60.0     9550   Pave   NaN      IR1   \n",
       "4   5          60       RL         84.0    14260   Pave   NaN      IR1   \n",
       "\n",
       "  LandContour Utilities  ... PoolArea PoolQC Fence MiscFeature MiscVal MoSold  \\\n",
       "0         Lvl    AllPub  ...        0    NaN   NaN         NaN       0      2   \n",
       "1         Lvl    AllPub  ...        0    NaN   NaN         NaN       0      5   \n",
       "2         Lvl    AllPub  ...        0    NaN   NaN         NaN       0      9   \n",
       "3         Lvl    AllPub  ...        0    NaN   NaN         NaN       0      2   \n",
       "4         Lvl    AllPub  ...        0    NaN   NaN         NaN       0     12   \n",
       "\n",
       "  YrSold  SaleType  SaleCondition  SalePrice  \n",
       "0   2008        WD         Normal     208500  \n",
       "1   2007        WD         Normal     181500  \n",
       "2   2008        WD         Normal     223500  \n",
       "3   2006        WD        Abnorml     140000  \n",
       "4   2008        WD         Normal     250000  \n",
       "\n",
       "[5 rows x 81 columns]"
      ]
     },
     "execution_count": 3,
     "metadata": {},
     "output_type": "execute_result"
    }
   ],
   "source": [
    "train_df = pd.read_csv(\"../data/house-prices-train.csv\")\n",
    "test_df  = pd.read_csv(\"../data/house-prices-test.csv\") # No teine columna target\n",
    "\n",
    "print(\"Filas train:\", len(train_df))\n",
    "print(\"Filas test:\",  len(test_df))\n",
    "\n",
    "train_df.head()"
   ]
  },
  {
   "cell_type": "markdown",
   "metadata": {},
   "source": [
    "# Dividir train en train,valid"
   ]
  },
  {
   "cell_type": "code",
   "execution_count": 5,
   "metadata": {},
   "outputs": [
    {
     "name": "stdout",
     "output_type": "stream",
     "text": [
      "Filas train: 1168\n",
      "Filas valid: 292\n"
     ]
    }
   ],
   "source": [
    "train_df, valid_df = train_test_split(train_df, test_size=0.2, random_state=0)\n",
    "print(\"Filas train:\", len(train_df))\n",
    "print(\"Filas valid:\", len(valid_df))"
   ]
  },
  {
   "cell_type": "markdown",
   "metadata": {},
   "source": [
    "# Pandas dataframe -> H2OFrame"
   ]
  },
  {
   "cell_type": "code",
   "execution_count": 6,
   "metadata": {},
   "outputs": [
    {
     "name": "stdout",
     "output_type": "stream",
     "text": [
      "Parse progress: |█████████████████████████████████████████████████████████| 100%\n",
      "Parse progress: |█████████████████████████████████████████████████████████| 100%\n"
     ]
    }
   ],
   "source": [
    "train = h2o.H2OFrame(train_df)\n",
    "valid = h2o.H2OFrame(valid_df)"
   ]
  },
  {
   "cell_type": "markdown",
   "metadata": {},
   "source": [
    "### Identify predictors and response"
   ]
  },
  {
   "cell_type": "code",
   "execution_count": 7,
   "metadata": {},
   "outputs": [],
   "source": [
    "x = train.columns\n",
    "y = \"SalePrice\"\n",
    "x.remove(y)"
   ]
  },
  {
   "cell_type": "markdown",
   "metadata": {},
   "source": [
    "### Run AutoML for 20 base models (limited to 1 hour max runtime by default)"
   ]
  },
  {
   "cell_type": "code",
   "execution_count": 8,
   "metadata": {
    "scrolled": true
   },
   "outputs": [
    {
     "name": "stdout",
     "output_type": "stream",
     "text": [
      "AutoML progress: |████████████████████████████████████████████████████████| 100%\n"
     ]
    }
   ],
   "source": [
    "#aml = H2OAutoML(max_models=20, seed=1)\n",
    "aml = H2OAutoML(max_runtime_secs=60, seed=1)\n",
    "aml.train(x=x, y=y, training_frame=train)"
   ]
  },
  {
   "cell_type": "markdown",
   "metadata": {},
   "source": [
    "### View the AutoML Leaderboard & Print all rows instead of default (10 rows)"
   ]
  },
  {
   "cell_type": "code",
   "execution_count": 9,
   "metadata": {},
   "outputs": [
    {
     "data": {
      "text/html": [
       "<table>\n",
       "<thead>\n",
       "<tr><th>model_id                                           </th><th style=\"text-align: right;\">  mean_residual_deviance</th><th style=\"text-align: right;\">   rmse</th><th style=\"text-align: right;\">        mse</th><th style=\"text-align: right;\">    mae</th><th style=\"text-align: right;\">   rmsle</th><th style=\"text-align: right;\">  training_time_ms</th><th style=\"text-align: right;\">  predict_time_per_row_ms</th></tr>\n",
       "</thead>\n",
       "<tbody>\n",
       "<tr><td>GBM_grid__1_AutoML_20201109_121409_model_5         </td><td style=\"text-align: right;\">             7.15465e+08</td><td style=\"text-align: right;\">26748.2</td><td style=\"text-align: right;\">7.15465e+08</td><td style=\"text-align: right;\">15804  </td><td style=\"text-align: right;\">0.130769</td><td style=\"text-align: right;\">               293</td><td style=\"text-align: right;\">                 0.021146</td></tr>\n",
       "<tr><td>StackedEnsemble_BestOfFamily_AutoML_20201109_121409</td><td style=\"text-align: right;\">             7.18752e+08</td><td style=\"text-align: right;\">26809.6</td><td style=\"text-align: right;\">7.18752e+08</td><td style=\"text-align: right;\">15363.8</td><td style=\"text-align: right;\">0.127107</td><td style=\"text-align: right;\">               169</td><td style=\"text-align: right;\">                 0.024743</td></tr>\n",
       "<tr><td>GBM_grid__1_AutoML_20201109_121409_model_6         </td><td style=\"text-align: right;\">             7.49241e+08</td><td style=\"text-align: right;\">27372.3</td><td style=\"text-align: right;\">7.49241e+08</td><td style=\"text-align: right;\">15999.9</td><td style=\"text-align: right;\">0.133496</td><td style=\"text-align: right;\">               270</td><td style=\"text-align: right;\">                 0.015306</td></tr>\n",
       "<tr><td>GBM_grid__1_AutoML_20201109_121409_model_4         </td><td style=\"text-align: right;\">             7.69657e+08</td><td style=\"text-align: right;\">27742.7</td><td style=\"text-align: right;\">7.69657e+08</td><td style=\"text-align: right;\">16491.2</td><td style=\"text-align: right;\">0.136583</td><td style=\"text-align: right;\">               257</td><td style=\"text-align: right;\">                 0.016412</td></tr>\n",
       "<tr><td>GBM_grid__1_AutoML_20201109_121409_model_1         </td><td style=\"text-align: right;\">             7.76825e+08</td><td style=\"text-align: right;\">27871.6</td><td style=\"text-align: right;\">7.76825e+08</td><td style=\"text-align: right;\">16554.4</td><td style=\"text-align: right;\">0.137032</td><td style=\"text-align: right;\">               149</td><td style=\"text-align: right;\">                 0.010459</td></tr>\n",
       "<tr><td>GBM_grid__1_AutoML_20201109_121409_model_7         </td><td style=\"text-align: right;\">             7.94703e+08</td><td style=\"text-align: right;\">28190.5</td><td style=\"text-align: right;\">7.94703e+08</td><td style=\"text-align: right;\">16741.6</td><td style=\"text-align: right;\">0.140011</td><td style=\"text-align: right;\">                96</td><td style=\"text-align: right;\">                 0.008931</td></tr>\n",
       "<tr><td>StackedEnsemble_AllModels_AutoML_20201109_121409   </td><td style=\"text-align: right;\">             8.37966e+08</td><td style=\"text-align: right;\">28947.6</td><td style=\"text-align: right;\">8.37966e+08</td><td style=\"text-align: right;\">15144  </td><td style=\"text-align: right;\">0.127227</td><td style=\"text-align: right;\">               235</td><td style=\"text-align: right;\">                 0.081606</td></tr>\n",
       "<tr><td>GBM_grid__1_AutoML_20201109_121409_model_2         </td><td style=\"text-align: right;\">             8.62602e+08</td><td style=\"text-align: right;\">29370.1</td><td style=\"text-align: right;\">8.62602e+08</td><td style=\"text-align: right;\">16633  </td><td style=\"text-align: right;\">0.136081</td><td style=\"text-align: right;\">               240</td><td style=\"text-align: right;\">                 0.013182</td></tr>\n",
       "<tr><td>GBM_3_AutoML_20201109_121409                       </td><td style=\"text-align: right;\">             8.64935e+08</td><td style=\"text-align: right;\">29409.8</td><td style=\"text-align: right;\">8.64935e+08</td><td style=\"text-align: right;\">16994.2</td><td style=\"text-align: right;\">0.141121</td><td style=\"text-align: right;\">               199</td><td style=\"text-align: right;\">                 0.00874 </td></tr>\n",
       "<tr><td>GBM_4_AutoML_20201109_121409                       </td><td style=\"text-align: right;\">             8.8553e+08 </td><td style=\"text-align: right;\">29757.9</td><td style=\"text-align: right;\">8.8553e+08 </td><td style=\"text-align: right;\">17678.8</td><td style=\"text-align: right;\">0.14622 </td><td style=\"text-align: right;\">               211</td><td style=\"text-align: right;\">                 0.007776</td></tr>\n",
       "<tr><td>GBM_1_AutoML_20201109_121409                       </td><td style=\"text-align: right;\">             9.22776e+08</td><td style=\"text-align: right;\">30377.2</td><td style=\"text-align: right;\">9.22776e+08</td><td style=\"text-align: right;\">18481.4</td><td style=\"text-align: right;\">0.153095</td><td style=\"text-align: right;\">               166</td><td style=\"text-align: right;\">                 0.005975</td></tr>\n",
       "<tr><td>DeepLearning_1_AutoML_20201109_121409              </td><td style=\"text-align: right;\">             9.24483e+08</td><td style=\"text-align: right;\">30405.3</td><td style=\"text-align: right;\">9.24483e+08</td><td style=\"text-align: right;\">19067.8</td><td style=\"text-align: right;\">0.161312</td><td style=\"text-align: right;\">                65</td><td style=\"text-align: right;\">                 0.004659</td></tr>\n",
       "<tr><td>DeepLearning_grid__1_AutoML_20201109_121409_model_2</td><td style=\"text-align: right;\">             9.41836e+08</td><td style=\"text-align: right;\">30689.3</td><td style=\"text-align: right;\">9.41836e+08</td><td style=\"text-align: right;\">18265.2</td><td style=\"text-align: right;\">0.16006 </td><td style=\"text-align: right;\">               263</td><td style=\"text-align: right;\">                 0.038683</td></tr>\n",
       "<tr><td>DeepLearning_grid__2_AutoML_20201109_121409_model_2</td><td style=\"text-align: right;\">             9.89191e+08</td><td style=\"text-align: right;\">31451.4</td><td style=\"text-align: right;\">9.89191e+08</td><td style=\"text-align: right;\">18568.9</td><td style=\"text-align: right;\">0.150127</td><td style=\"text-align: right;\">               686</td><td style=\"text-align: right;\">                 0.059092</td></tr>\n",
       "<tr><td>DeepLearning_grid__3_AutoML_20201109_121409_model_1</td><td style=\"text-align: right;\">             1.00643e+09</td><td style=\"text-align: right;\">31724.2</td><td style=\"text-align: right;\">1.00643e+09</td><td style=\"text-align: right;\">18436.3</td><td style=\"text-align: right;\">0.157206</td><td style=\"text-align: right;\">               259</td><td style=\"text-align: right;\">                 0.014677</td></tr>\n",
       "<tr><td>XGBoost_2_AutoML_20201109_121409                   </td><td style=\"text-align: right;\">             1.01042e+09</td><td style=\"text-align: right;\">31787.2</td><td style=\"text-align: right;\">1.01042e+09</td><td style=\"text-align: right;\">19091.6</td><td style=\"text-align: right;\">0.14928 </td><td style=\"text-align: right;\">               228</td><td style=\"text-align: right;\">                 0.004049</td></tr>\n",
       "<tr><td>GBM_grid__1_AutoML_20201109_121409_model_3         </td><td style=\"text-align: right;\">             1.017e+09  </td><td style=\"text-align: right;\">31890.4</td><td style=\"text-align: right;\">1.017e+09  </td><td style=\"text-align: right;\">19715.3</td><td style=\"text-align: right;\">0.156072</td><td style=\"text-align: right;\">               237</td><td style=\"text-align: right;\">                 0.011733</td></tr>\n",
       "<tr><td>XGBoost_3_AutoML_20201109_121409                   </td><td style=\"text-align: right;\">             1.04018e+09</td><td style=\"text-align: right;\">32251.8</td><td style=\"text-align: right;\">1.04018e+09</td><td style=\"text-align: right;\">18520  </td><td style=\"text-align: right;\">0.149498</td><td style=\"text-align: right;\">               262</td><td style=\"text-align: right;\">                 0.002189</td></tr>\n",
       "<tr><td>DeepLearning_grid__1_AutoML_20201109_121409_model_1</td><td style=\"text-align: right;\">             1.04287e+09</td><td style=\"text-align: right;\">32293.5</td><td style=\"text-align: right;\">1.04287e+09</td><td style=\"text-align: right;\">17658.3</td><td style=\"text-align: right;\">0.151182</td><td style=\"text-align: right;\">               155</td><td style=\"text-align: right;\">                 0.010826</td></tr>\n",
       "<tr><td>GBM_5_AutoML_20201109_121409                       </td><td style=\"text-align: right;\">             1.06087e+09</td><td style=\"text-align: right;\">32571  </td><td style=\"text-align: right;\">1.06087e+09</td><td style=\"text-align: right;\">19601.4</td><td style=\"text-align: right;\">0.15628 </td><td style=\"text-align: right;\">               141</td><td style=\"text-align: right;\">                 0.008484</td></tr>\n",
       "<tr><td>XGBoost_grid__1_AutoML_20201109_121409_model_4     </td><td style=\"text-align: right;\">             1.08931e+09</td><td style=\"text-align: right;\">33004.7</td><td style=\"text-align: right;\">1.08931e+09</td><td style=\"text-align: right;\">19810.3</td><td style=\"text-align: right;\">0.162326</td><td style=\"text-align: right;\">               929</td><td style=\"text-align: right;\">                 0.004962</td></tr>\n",
       "<tr><td>DeepLearning_grid__2_AutoML_20201109_121409_model_1</td><td style=\"text-align: right;\">             1.09237e+09</td><td style=\"text-align: right;\">33051.1</td><td style=\"text-align: right;\">1.09237e+09</td><td style=\"text-align: right;\">19189.2</td><td style=\"text-align: right;\">0.16036 </td><td style=\"text-align: right;\">               231</td><td style=\"text-align: right;\">                 0.012722</td></tr>\n",
       "<tr><td>XRT_1_AutoML_20201109_121409                       </td><td style=\"text-align: right;\">             1.11305e+09</td><td style=\"text-align: right;\">33362.4</td><td style=\"text-align: right;\">1.11305e+09</td><td style=\"text-align: right;\">20988.4</td><td style=\"text-align: right;\">0.168568</td><td style=\"text-align: right;\">               227</td><td style=\"text-align: right;\">                 0.003333</td></tr>\n",
       "<tr><td>XGBoost_grid__1_AutoML_20201109_121409_model_1     </td><td style=\"text-align: right;\">             1.12376e+09</td><td style=\"text-align: right;\">33522.6</td><td style=\"text-align: right;\">1.12376e+09</td><td style=\"text-align: right;\">18879.2</td><td style=\"text-align: right;\">0.152888</td><td style=\"text-align: right;\">               303</td><td style=\"text-align: right;\">                 0.002614</td></tr>\n",
       "<tr><td>XGBoost_grid__1_AutoML_20201109_121409_model_2     </td><td style=\"text-align: right;\">             1.13745e+09</td><td style=\"text-align: right;\">33726.1</td><td style=\"text-align: right;\">1.13745e+09</td><td style=\"text-align: right;\">18922.3</td><td style=\"text-align: right;\">0.155042</td><td style=\"text-align: right;\">               277</td><td style=\"text-align: right;\">                 0.002612</td></tr>\n",
       "<tr><td>XGBoost_grid__1_AutoML_20201109_121409_model_3     </td><td style=\"text-align: right;\">             1.15856e+09</td><td style=\"text-align: right;\">34037.6</td><td style=\"text-align: right;\">1.15856e+09</td><td style=\"text-align: right;\">20425.3</td><td style=\"text-align: right;\">0.157131</td><td style=\"text-align: right;\">               478</td><td style=\"text-align: right;\">                 0.00412 </td></tr>\n",
       "<tr><td>XGBoost_grid__1_AutoML_20201109_121409_model_5     </td><td style=\"text-align: right;\">             1.20825e+09</td><td style=\"text-align: right;\">34759.9</td><td style=\"text-align: right;\">1.20825e+09</td><td style=\"text-align: right;\">21003  </td><td style=\"text-align: right;\">0.181083</td><td style=\"text-align: right;\">               579</td><td style=\"text-align: right;\">                 0.003629</td></tr>\n",
       "<tr><td>GBM_2_AutoML_20201109_121409                       </td><td style=\"text-align: right;\">             1.39409e+09</td><td style=\"text-align: right;\">37337.5</td><td style=\"text-align: right;\">1.39409e+09</td><td style=\"text-align: right;\">23055  </td><td style=\"text-align: right;\">0.189027</td><td style=\"text-align: right;\">               186</td><td style=\"text-align: right;\">                 0.004585</td></tr>\n",
       "<tr><td>DRF_1_AutoML_20201109_121409                       </td><td style=\"text-align: right;\">             2.20162e+09</td><td style=\"text-align: right;\">46921.5</td><td style=\"text-align: right;\">2.20162e+09</td><td style=\"text-align: right;\">27537  </td><td style=\"text-align: right;\">0.222224</td><td style=\"text-align: right;\">                85</td><td style=\"text-align: right;\">                 0.001572</td></tr>\n",
       "<tr><td>GBM_grid__1_AutoML_20201109_121409_model_8         </td><td style=\"text-align: right;\">             3.96851e+09</td><td style=\"text-align: right;\">62996.1</td><td style=\"text-align: right;\">3.96851e+09</td><td style=\"text-align: right;\">42883  </td><td style=\"text-align: right;\">0.325527</td><td style=\"text-align: right;\">                17</td><td style=\"text-align: right;\">                 0.001451</td></tr>\n",
       "<tr><td>XGBoost_1_AutoML_20201109_121409                   </td><td style=\"text-align: right;\">             5.23983e+09</td><td style=\"text-align: right;\">72386.7</td><td style=\"text-align: right;\">5.23983e+09</td><td style=\"text-align: right;\">41800.5</td><td style=\"text-align: right;\">0.562181</td><td style=\"text-align: right;\">               188</td><td style=\"text-align: right;\">                 0.001652</td></tr>\n",
       "<tr><td>GBM_grid__1_AutoML_20201109_121409_model_9         </td><td style=\"text-align: right;\">             5.25631e+09</td><td style=\"text-align: right;\">72500.4</td><td style=\"text-align: right;\">5.25631e+09</td><td style=\"text-align: right;\">52691.9</td><td style=\"text-align: right;\">0.378843</td><td style=\"text-align: right;\">                 8</td><td style=\"text-align: right;\">                 0.001018</td></tr>\n",
       "<tr><td>GLM_1_AutoML_20201109_121409                       </td><td style=\"text-align: right;\">             6.16292e+09</td><td style=\"text-align: right;\">78504.3</td><td style=\"text-align: right;\">6.16292e+09</td><td style=\"text-align: right;\">57535.4</td><td style=\"text-align: right;\">0.410244</td><td style=\"text-align: right;\">                96</td><td style=\"text-align: right;\">                 0.001294</td></tr>\n",
       "</tbody>\n",
       "</table>"
      ]
     },
     "metadata": {},
     "output_type": "display_data"
    },
    {
     "data": {
      "text/plain": []
     },
     "execution_count": 9,
     "metadata": {},
     "output_type": "execute_result"
    }
   ],
   "source": [
    "lb = h2o.automl.get_leaderboard(aml, extra_columns='ALL')\n",
    "lb.head(rows=lb.nrows)"
   ]
  },
  {
   "cell_type": "markdown",
   "metadata": {},
   "source": [
    "# Obtener mejor modelo"
   ]
  },
  {
   "cell_type": "code",
   "execution_count": 10,
   "metadata": {},
   "outputs": [],
   "source": [
    "best_model = aml.leader"
   ]
  },
  {
   "cell_type": "markdown",
   "metadata": {},
   "source": [
    "# Obtener modelos concretos"
   ]
  },
  {
   "cell_type": "code",
   "execution_count": 11,
   "metadata": {},
   "outputs": [],
   "source": [
    "model_names = list(aml.leaderboard['model_id'].as_data_frame().iloc[:,0])\n",
    "\n",
    "best_ensemble     = h2o.get_model(model_names[2]) # Coger indices\n",
    "best_single_model = h2o.get_model(model_names[0]) # Coger indices"
   ]
  },
  {
   "cell_type": "markdown",
   "metadata": {},
   "source": [
    "# Predecir cjto. de test"
   ]
  },
  {
   "cell_type": "code",
   "execution_count": 12,
   "metadata": {},
   "outputs": [
    {
     "name": "stdout",
     "output_type": "stream",
     "text": [
      "gbm prediction progress: |████████████████████████████████████████████████| 100%\n"
     ]
    },
    {
     "name": "stderr",
     "output_type": "stream",
     "text": [
      "/usr/lib/python3.8/site-packages/h2o/job.py:70: UserWarning: Test/Validation dataset column 'Condition2' has levels not trained on: [RRAn, RRNn]\n",
      "  warnings.warn(w)\n",
      "/usr/lib/python3.8/site-packages/h2o/job.py:70: UserWarning: Test/Validation dataset column 'RoofMatl' has levels not trained on: [ClyTile]\n",
      "  warnings.warn(w)\n",
      "/usr/lib/python3.8/site-packages/h2o/job.py:70: UserWarning: Test/Validation dataset column 'Functional' has levels not trained on: [Sev]\n",
      "  warnings.warn(w)\n",
      "/usr/lib/python3.8/site-packages/h2o/job.py:70: UserWarning: Test/Validation dataset column 'MiscFeature' has levels not trained on: [TenC]\n",
      "  warnings.warn(w)\n"
     ]
    },
    {
     "data": {
      "text/html": [
       "<table>\n",
       "<thead>\n",
       "<tr><th style=\"text-align: right;\">  predict</th></tr>\n",
       "</thead>\n",
       "<tbody>\n",
       "<tr><td style=\"text-align: right;\"> 281450  </td></tr>\n",
       "<tr><td style=\"text-align: right;\"> 152512  </td></tr>\n",
       "<tr><td style=\"text-align: right;\"> 107076  </td></tr>\n",
       "<tr><td style=\"text-align: right;\"> 227861  </td></tr>\n",
       "<tr><td style=\"text-align: right;\">  91492.3</td></tr>\n",
       "<tr><td style=\"text-align: right;\">  89994.8</td></tr>\n",
       "<tr><td style=\"text-align: right;\"> 261349  </td></tr>\n",
       "<tr><td style=\"text-align: right;\"> 115683  </td></tr>\n",
       "<tr><td style=\"text-align: right;\"> 481280  </td></tr>\n",
       "<tr><td style=\"text-align: right;\"> 156202  </td></tr>\n",
       "</tbody>\n",
       "</table>"
      ]
     },
     "metadata": {},
     "output_type": "display_data"
    },
    {
     "data": {
      "text/plain": []
     },
     "execution_count": 12,
     "metadata": {},
     "output_type": "execute_result"
    }
   ],
   "source": [
    "preds = best_model.predict(valid)\n",
    "preds"
   ]
  },
  {
   "cell_type": "markdown",
   "metadata": {},
   "source": [
    "# MAE = +-16774$"
   ]
  },
  {
   "cell_type": "code",
   "execution_count": 30,
   "metadata": {},
   "outputs": [],
   "source": [
    "y_true = valid_df.SalePrice.reset_index(drop=True)\n",
    "y_pred = preds.as_data_frame()[\"predict\"]"
   ]
  },
  {
   "cell_type": "code",
   "execution_count": 27,
   "metadata": {},
   "outputs": [
    {
     "data": {
      "text/plain": [
       "16774.365840644947"
      ]
     },
     "execution_count": 27,
     "metadata": {},
     "output_type": "execute_result"
    }
   ],
   "source": [
    "from sklearn.metrics import mean_absolute_error\n",
    "mean_absolute_error(y_true, y_pred)"
   ]
  },
  {
   "cell_type": "code",
   "execution_count": 52,
   "metadata": {},
   "outputs": [
    {
     "data": {
      "text/plain": [
       "<AxesSubplot:xlabel='SalePrice', ylabel='predict'>"
      ]
     },
     "execution_count": 52,
     "metadata": {},
     "output_type": "execute_result"
    },
    {
     "data": {
      "image/png": "[encoded data removed]",
      "text/plain": [
       "<Figure size 576x396 with 1 Axes>"
      ]
     },
     "metadata": {},
     "output_type": "display_data"
    }
   ],
   "source": [
    "import seaborn as sb\n",
    "import matplotlib.pyplot as plt\n",
    "\n",
    "plt.plot([y_true.min(), y_true.max()], [y_true.min(), y_true.max()], 'k--', lw=2)\n",
    "sb.scatterplot(y_true, y_pred)"
   ]
  },
  {
   "cell_type": "code",
   "execution_count": 65,
   "metadata": {},
   "outputs": [
    {
     "data": {
      "text/plain": [
       "<AxesSubplot:xlabel='SalePrice'>"
      ]
     },
     "execution_count": 65,
     "metadata": {},
     "output_type": "execute_result"
    },
    {
     "data": {
      "image/png": "[encoded data removed]",
      "text/plain": [
       "<Figure size 576x396 with 1 Axes>"
      ]
     },
     "metadata": {},
     "output_type": "display_data"
    }
   ],
   "source": [
    "residuals = y_true - y_pred\n",
    "\n",
    "plt.hlines(y=0, xmin=y_true.min(), xmax=y_true.max(), color='k', linestyles=\"dashed\")\n",
    "sb.scatterplot(y_true, residuals)"
   ]
  },
  {
   "cell_type": "code",
   "execution_count": null,
   "metadata": {},
   "outputs": [],
   "source": []
  }
 ],
 "metadata": {
  "kernelspec": {
   "display_name": "Python 3",
   "language": "python",
   "name": "python3"
  },
  "language_info": {
   "codemirror_mode": {
    "name": "ipython",
    "version": 3
   },
   "file_extension": ".py",
   "mimetype": "text/x-python",
   "name": "python",
   "nbconvert_exporter": "python",
   "pygments_lexer": "ipython3",
   "version": "3.8.6"
  }
 },
 "nbformat": 4,
 "nbformat_minor": 4
}
