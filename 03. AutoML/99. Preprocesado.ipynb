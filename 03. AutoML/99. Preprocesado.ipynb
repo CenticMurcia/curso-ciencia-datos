{
 "cells": [
  {
   "cell_type": "code",
   "execution_count": 1,
   "metadata": {},
   "outputs": [],
   "source": [
    "from sklearn import preprocessing\n",
    "from sklearn import impute\n",
    "from sklearn import compose\n",
    "from sklearn import pipeline\n",
    "\n",
    "import joblib       # To save & load preprocesing"
   ]
  },
  {
   "cell_type": "code",
   "execution_count": 2,
   "metadata": {},
   "outputs": [],
   "source": [
    "##################################################### Numerical variables\n",
    "# num_encoder = preprocessing.StandardScaler\n",
    "# num_encoder = preprocessing.MinMaxScaler\n",
    "# num_encoder = preprocessing.MaxAbsScaler\n",
    "# num_encoder = preprocessing.RobustScaler\n",
    "# num_encoder = preprocessing.Normalizer\n",
    "# num_encoder = preprocessing.QuantileTransformer\n",
    "# num_encoder = preprocessing.PowerTransformer\n",
    "\n",
    "##################################################### Categorial variables\n",
    "\n",
    "# Unsupervised\n",
    "# cat_encoder = ce.OrdinalEncoder    or     preprocessing.OrdinalEncoder()\n",
    "# cat_encoder = ce.OneHotEncoder     or     preprocessing.OneHotEncoder()\n",
    "# cat_encoder = ce.BinaryEncoder\n",
    "# cat_encoder = ce.BaseNEncoder\n",
    "# cat_encoder = ce.HashingEncoder\n",
    "# cat_encoder = ce.HelmertEncoder\n",
    "# cat_encoder = ce.SumEncoder\n",
    "# cat_encoder = ce.PolynomialEncoder\n",
    "# cat_encoder = ce.BackwardDifferenceEncoder\n",
    "\n",
    "# Supervised\n",
    "# cat_encoder = ce.TargetEncoder\n",
    "# cat_encoder = ce.CatBoostEncoder\n",
    "# cat_encoder = ce.JamesSteinEncoder\n",
    "# cat_encoder = ce.LeaveOneOutEncoder\n",
    "# cat_encoder = ce.MEstimateEncoder\n",
    "# cat_encoder = ce.WOEEncoder"
   ]
  },
  {
   "cell_type": "markdown",
   "metadata": {},
   "source": [
    "# Ejemplo: Entrenar un preprocesador y guardarlo"
   ]
  },
  {
   "cell_type": "code",
   "execution_count": null,
   "metadata": {},
   "outputs": [],
   "source": [
    "num_feats = []\n",
    "cat_feats = []"
   ]
  },
  {
   "cell_type": "code",
   "execution_count": 4,
   "metadata": {},
   "outputs": [],
   "source": [
    "num_preprocessing = pipeline.Pipeline(steps=[\n",
    "    ('imputer', impute.SimpleImputer(strategy='median')),\n",
    "    ('encoder', preprocessing.StandardScaler())\n",
    "])\n",
    "\n",
    "cat_preporcessing = pipeline.Pipeline(steps=[\n",
    "    ('imputer', impute.SimpleImputer(strategy='constant', fill_value='missing')),\n",
    "    ('encoder', preprocessing.OrdinalEncoder())\n",
    "])\n",
    "\n",
    "preprocesador = compose.ColumnTransformer(transformers=[\n",
    "    ('num', num_preprocessing, num_feats),\n",
    "    ('cat', cat_preporcessing, cat_feats),\n",
    "])"
   ]
  },
  {
   "cell_type": "code",
   "execution_count": null,
   "metadata": {},
   "outputs": [],
   "source": [
    "xx = preprocesador.fit_transform(x)\n",
    "yy = y.values\n",
    "xx_t = preprocesador.transform(x_t)\n",
    "\n",
    "joblib.dump(preprocesador, 'ColumnTransformer.joblib')"
   ]
  },
  {
   "cell_type": "markdown",
   "metadata": {},
   "source": [
    "## Cargar el preprocesador y usarlo"
   ]
  },
  {
   "cell_type": "code",
   "execution_count": null,
   "metadata": {},
   "outputs": [],
   "source": [
    "preprocesador = joblib.load(\"ColumnTransformer.joblib\")"
   ]
  },
  {
   "cell_type": "code",
   "execution_count": null,
   "metadata": {},
   "outputs": [],
   "source": [
    "x_preprcesada = preprocesador.transform(x_sin_procesar)"
   ]
  }
 ],
 "metadata": {
  "kernelspec": {
   "display_name": "Python 3",
   "language": "python",
   "name": "python3"
  },
  "language_info": {
   "codemirror_mode": {
    "name": "ipython",
    "version": 3
   },
   "file_extension": ".py",
   "mimetype": "text/x-python",
   "name": "python",
   "nbconvert_exporter": "python",
   "pygments_lexer": "ipython3",
   "version": "3.7.4"
  }
 },
 "nbformat": 4,
 "nbformat_minor": 2
}
