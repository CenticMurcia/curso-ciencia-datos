{
 "cells": [
  {
   "cell_type": "code",
   "execution_count": 1,
   "metadata": {},
   "outputs": [],
   "source": [
    "import time\n",
    "import matplotlib.pyplot as plt\n",
    "\n",
    "import torch\n",
    "from torch import nn\n",
    "from torch import optim\n",
    "import torch.nn.functional as F\n",
    "from torchvision import datasets, transforms, models"
   ]
  },
  {
   "cell_type": "markdown",
   "metadata": {},
   "source": [
    "# Load data"
   ]
  },
  {
   "cell_type": "code",
   "execution_count": 2,
   "metadata": {},
   "outputs": [],
   "source": [
    "BATCH_SIZE = 16"
   ]
  },
  {
   "cell_type": "code",
   "execution_count": 3,
   "metadata": {},
   "outputs": [],
   "source": [
    "data_dir = './fox-rabbit-racoon-dataset'\n",
    "\n",
    "train_transforms = transforms.Compose([transforms.RandomRotation(30),\n",
    "                                       transforms.RandomResizedCrop(224),\n",
    "                                       transforms.RandomHorizontalFlip(),\n",
    "                                       transforms.ToTensor(),\n",
    "                                       transforms.Normalize([0.485, 0.456, 0.406], [0.229, 0.224, 0.225])])\n",
    "\n",
    "valid_transforms = transforms.Compose([transforms.Resize(255),\n",
    "                                       transforms.CenterCrop(224),\n",
    "                                       transforms.ToTensor(),\n",
    "                                       transforms.Normalize([0.485, 0.456, 0.406], [0.229, 0.224, 0.225])])\n",
    "\n",
    "# Pass transforms in here, then run the next cell to see how the transforms look\n",
    "train_ds = datasets.ImageFolder(data_dir + '/train', transform=train_transforms)\n",
    "valid_ds = datasets.ImageFolder(data_dir + '/valid', transform=valid_transforms)\n",
    "\n",
    "train_dl = torch.utils.data.DataLoader(train_ds, batch_size=BATCH_SIZE, shuffle=True)\n",
    "valid_dl = torch.utils.data.DataLoader(valid_ds, batch_size=BATCH_SIZE)"
   ]
  },
  {
   "cell_type": "code",
   "execution_count": 4,
   "metadata": {},
   "outputs": [
    {
     "data": {
      "text/plain": [
       "(torch.Size([16, 3, 224, 224]), torch.Size([16]))"
      ]
     },
     "execution_count": 4,
     "metadata": {},
     "output_type": "execute_result"
    }
   ],
   "source": [
    "images, labels = next(iter(train_dl))\n",
    "images.shape, labels.shape"
   ]
  },
  {
   "cell_type": "markdown",
   "metadata": {},
   "source": [
    "# Load model"
   ]
  },
  {
   "cell_type": "code",
   "execution_count": 5,
   "metadata": {},
   "outputs": [],
   "source": [
    "device     = torch.device(\"cuda:0\" if torch.cuda.is_available() else \"cpu\")\n"
   ]
  },
  {
   "cell_type": "code",
   "execution_count": 6,
   "metadata": {},
   "outputs": [],
   "source": [
    "model = models.resnet18(pretrained=True)"
   ]
  },
  {
   "cell_type": "code",
   "execution_count": 7,
   "metadata": {},
   "outputs": [
    {
     "data": {
      "text/plain": [
       "Linear(in_features=512, out_features=1000, bias=True)"
      ]
     },
     "execution_count": 7,
     "metadata": {},
     "output_type": "execute_result"
    }
   ],
   "source": [
    "model.fc"
   ]
  },
  {
   "cell_type": "code",
   "execution_count": 8,
   "metadata": {},
   "outputs": [],
   "source": [
    "model.fc = nn.Linear(in_features=512, out_features=3) # Change last layer for our problem"
   ]
  },
  {
   "cell_type": "code",
   "execution_count": 9,
   "metadata": {},
   "outputs": [],
   "source": [
    "model = model.to(device) # Move model to GPU"
   ]
  },
  {
   "cell_type": "markdown",
   "metadata": {},
   "source": [
    "# Train"
   ]
  },
  {
   "cell_type": "code",
   "execution_count": 10,
   "metadata": {},
   "outputs": [
    {
     "name": "stdout",
     "output_type": "stream",
     "text": [
      "Epoch 1/25\n",
      "Training Loss: 1.0235 Acc: 0.5220\n",
      "Validation Loss: 0.5121 Acc: 0.7391\n",
      "\n",
      "Epoch 2/25\n",
      "Training Loss: 0.5205 Acc: 0.8187\n",
      "Validation Loss: 0.1769 Acc: 0.9565\n",
      "\n",
      "Epoch 3/25\n",
      "Training Loss: 0.3664 Acc: 0.8846\n",
      "Validation Loss: 0.1007 Acc: 1.0000\n",
      "\n",
      "Epoch 4/25\n",
      "Training Loss: 0.2638 Acc: 0.9066\n",
      "Validation Loss: 0.0688 Acc: 1.0000\n",
      "\n",
      "Epoch 5/25\n",
      "Training Loss: 0.2206 Acc: 0.9286\n",
      "Validation Loss: 0.0606 Acc: 1.0000\n",
      "\n",
      "Epoch 6/25\n",
      "Training Loss: 0.2152 Acc: 0.9176\n",
      "Validation Loss: 0.0538 Acc: 1.0000\n",
      "\n",
      "Epoch 7/25\n",
      "Training Loss: 0.1872 Acc: 0.9505\n",
      "Validation Loss: 0.0485 Acc: 1.0000\n",
      "\n",
      "Epoch 8/25\n",
      "Training Loss: 0.2182 Acc: 0.9066\n",
      "Validation Loss: 0.0417 Acc: 1.0000\n",
      "\n",
      "Epoch 9/25\n",
      "Training Loss: 0.1676 Acc: 0.9341\n",
      "Validation Loss: 0.0427 Acc: 1.0000\n",
      "\n",
      "Epoch 10/25\n",
      "Training Loss: 0.2015 Acc: 0.9396\n",
      "Validation Loss: 0.0408 Acc: 1.0000\n",
      "\n",
      "Epoch 11/25\n",
      "Training Loss: 0.2006 Acc: 0.9451\n",
      "Validation Loss: 0.0414 Acc: 1.0000\n",
      "\n",
      "Epoch 12/25\n",
      "Training Loss: 0.1552 Acc: 0.9451\n",
      "Validation Loss: 0.0459 Acc: 1.0000\n",
      "\n",
      "Epoch 13/25\n",
      "Training Loss: 0.1359 Acc: 0.9615\n",
      "Validation Loss: 0.0458 Acc: 1.0000\n",
      "\n",
      "Epoch 14/25\n",
      "Training Loss: 0.1486 Acc: 0.9670\n",
      "Validation Loss: 0.0479 Acc: 1.0000\n",
      "\n",
      "Epoch 15/25\n",
      "Training Loss: 0.1769 Acc: 0.9615\n",
      "Validation Loss: 0.0439 Acc: 1.0000\n",
      "\n",
      "Epoch 16/25\n",
      "Training Loss: 0.1487 Acc: 0.9670\n",
      "Validation Loss: 0.0433 Acc: 1.0000\n",
      "\n",
      "Epoch 17/25\n",
      "Training Loss: 0.1878 Acc: 0.9231\n",
      "Validation Loss: 0.0426 Acc: 1.0000\n",
      "\n",
      "Epoch 18/25\n",
      "Training Loss: 0.1724 Acc: 0.9396\n",
      "Validation Loss: 0.0397 Acc: 1.0000\n",
      "\n",
      "Epoch 19/25\n",
      "Training Loss: 0.2655 Acc: 0.9011\n",
      "Validation Loss: 0.0411 Acc: 1.0000\n",
      "\n",
      "Epoch 20/25\n",
      "Training Loss: 0.1737 Acc: 0.9396\n",
      "Validation Loss: 0.0416 Acc: 1.0000\n",
      "\n",
      "Epoch 21/25\n",
      "Training Loss: 0.1517 Acc: 0.9560\n",
      "Validation Loss: 0.0396 Acc: 1.0000\n",
      "\n",
      "Epoch 22/25\n",
      "Training Loss: 0.1704 Acc: 0.9341\n",
      "Validation Loss: 0.0394 Acc: 1.0000\n",
      "\n",
      "Epoch 23/25\n",
      "Training Loss: 0.1857 Acc: 0.9341\n",
      "Validation Loss: 0.0403 Acc: 1.0000\n",
      "\n",
      "Epoch 24/25\n",
      "Training Loss: 0.1363 Acc: 0.9615\n",
      "Validation Loss: 0.0444 Acc: 1.0000\n",
      "\n",
      "Epoch 25/25\n",
      "Training Loss: 0.1780 Acc: 0.9341\n",
      "Validation Loss: 0.0417 Acc: 1.0000\n",
      "\n",
      "Training complete in 2 mins 41 secs\n"
     ]
    }
   ],
   "source": [
    "num_epochs = 25\n",
    "criterion  = nn.CrossEntropyLoss()\n",
    "optimizer  = optim.SGD(model.parameters(), lr=0.001, momentum=0.9)\n",
    "scheduler  = optim.lr_scheduler.StepLR(optimizer, step_size=7, gamma=0.1) # Decay LR by a factor of 0.1 every 7 epochs\n",
    "\n",
    "\n",
    "time_start = time.time()\n",
    "\n",
    "for epoch in range(num_epochs):\n",
    "    print(f'Epoch {epoch+1}/{num_epochs}')\n",
    "        \n",
    "    ######################### TRIAN\n",
    "    \n",
    "    model.train() # Set model to training mode\n",
    "    train_loss     = 0.0\n",
    "    train_corrects = 0\n",
    "    \n",
    "    for inputs, labels in train_dl: # Iterate over the whole train set (batch after batch).\n",
    "        \n",
    "        inputs = inputs.to(device)\n",
    "        labels = labels.to(device)\n",
    "\n",
    "        outputs = model(inputs)           # 1) Forward: Use the model to compute the output\n",
    "        loss = criterion(outputs, labels) # 2) Loss: Compare real and predicted\n",
    "        _, preds = torch.max(outputs, 1)  # OPTIONAL: Compute the most activated class\n",
    "        loss.backward()                   # 3) Backward: Compute gradients\n",
    "        optimizer.step()                  # 4) Optimizer step: update model weight & biases)\n",
    "        optimizer.zero_grad()             # 5) Optimizer: zero the parameter gradients\n",
    "\n",
    "        # statistics\n",
    "        train_loss     += loss.item() * inputs.size(0)\n",
    "        train_corrects += torch.sum(preds == labels.data)\n",
    "        \n",
    "    scheduler.step() # Change the lr\n",
    "\n",
    "    train_loss = train_loss / len(train_ds)\n",
    "    train_acc  = train_corrects.double() / len(train_ds)\n",
    "    print(f'Training Loss: {train_loss:.4f} Acc: {train_acc:.4f}')\n",
    "        \n",
    "    ######################### VALID\n",
    "    \n",
    "    model.eval()   # Set model to evaluate mode        \n",
    "    valid_loss     = 0.0\n",
    "    valid_corrects = 0\n",
    "    \n",
    "    with torch.no_grad():\n",
    "        for inputs, labels in valid_dl: # Iterate over the whole train set (batch after batch).\n",
    "            inputs = inputs.to(device)\n",
    "            labels = labels.to(device)\n",
    "\n",
    "            outputs = model(inputs)\n",
    "            _, preds = torch.max(outputs, 1)\n",
    "            loss = criterion(outputs, labels)\n",
    "\n",
    "            # statistics\n",
    "            valid_loss += loss.item() * inputs.size(0)\n",
    "            valid_corrects += torch.sum(preds == labels.data)\n",
    "    \n",
    "    valid_loss = valid_loss / len(valid_ds)\n",
    "    valid_acc  = valid_corrects.double() / len(valid_ds)\n",
    "    print(f'Validation Loss: {valid_loss:.4f} Acc: {valid_acc:.4f}')\n",
    "    print()\n",
    "\n",
    "\n",
    "time_elapsed = time.time() - time_start\n",
    "print(f'Training complete in {time_elapsed//60:.0f} mins {time_elapsed%60:.0f} secs')"
   ]
  },
  {
   "cell_type": "code",
   "execution_count": null,
   "metadata": {},
   "outputs": [],
   "source": []
  },
  {
   "cell_type": "code",
   "execution_count": null,
   "metadata": {},
   "outputs": [],
   "source": []
  }
 ],
 "metadata": {
  "kernelspec": {
   "display_name": "Python 3",
   "language": "python",
   "name": "python3"
  },
  "language_info": {
   "codemirror_mode": {
    "name": "ipython",
    "version": 3
   },
   "file_extension": ".py",
   "mimetype": "text/x-python",
   "name": "python",
   "nbconvert_exporter": "python",
   "pygments_lexer": "ipython3",
   "version": "3.9.1"
  }
 },
 "nbformat": 4,
 "nbformat_minor": 4
}
