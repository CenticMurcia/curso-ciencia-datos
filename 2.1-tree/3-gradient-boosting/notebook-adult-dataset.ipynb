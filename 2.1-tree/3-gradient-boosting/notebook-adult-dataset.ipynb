{
 "cells": [
  {
   "cell_type": "markdown",
   "metadata": {},
   "source": [
    "# <center> [Adult salaries](https://archive.ics.uci.edu/ml/datasets/adult): Gradient boosting\n",
    "### <center>Predict whether income exceeds $50K/yr based on census data.\n",
    "\n",
    "Link: https://www.kaggle.com/mattmet/income-prediction-xgboost-accuracy-86-02"
   ]
  },
  {
   "cell_type": "code",
   "execution_count": 10,
   "metadata": {},
   "outputs": [],
   "source": [
    "import pandas as pd\n",
    "import matplotlib.pyplot as plt\n",
    "import seaborn as sb\n",
    "\n",
    "from sklearn.linear_model  import LogisticRegression\n",
    "from sklearn.tree          import DecisionTreeClassifier\n",
    "from sklearn.ensemble      import RandomForestClassifier\n",
    "from sklearn.ensemble      import ExtraTreesClassifier\n",
    "from sklearn.ensemble      import GradientBoostingClassifier\n",
    "from xgboost               import XGBClassifier, plot_tree\n",
    "from lightgbm              import LGBMClassifier\n",
    "from catboost              import CatBoostClassifier\n",
    "\n",
    "from sklearn.preprocessing   import LabelEncoder\n",
    "from sklearn.model_selection import train_test_split\n",
    "from sklearn.model_selection import StratifiedKFold\n",
    "from sklearn.model_selection import cross_val_score, cross_val_predict\n",
    "from sklearn.metrics         import accuracy_score, balanced_accuracy_score\n",
    "from IPython.display import clear_output"
   ]
  },
  {
   "cell_type": "markdown",
   "metadata": {},
   "source": [
    "# Leer CSV"
   ]
  },
  {
   "cell_type": "code",
   "execution_count": 2,
   "metadata": {},
   "outputs": [],
   "source": [
    "##### DOWNLOAD DATASET. ONLY IN COLAB !!!\n",
    "#!wget -P ./../../Datasets/Tabular/ https://raw.githubusercontent.com/CenticMurcia/curso-ciencia-datos/master/Datasets/Tabular/adult.csv"
   ]
  },
  {
   "cell_type": "code",
   "execution_count": 3,
   "metadata": {},
   "outputs": [],
   "source": [
    "df = pd.read_csv(\"../../Datasets/Tabular/adult.csv\")"
   ]
  },
  {
   "cell_type": "code",
   "execution_count": 4,
   "metadata": {},
   "outputs": [
    {
     "data": {
      "text/html": [
       "<div>\n",
       "<style scoped>\n",
       "    .dataframe tbody tr th:only-of-type {\n",
       "        vertical-align: middle;\n",
       "    }\n",
       "\n",
       "    .dataframe tbody tr th {\n",
       "        vertical-align: top;\n",
       "    }\n",
       "\n",
       "    .dataframe thead th {\n",
       "        text-align: right;\n",
       "    }\n",
       "</style>\n",
       "<table border=\"1\" class=\"dataframe\">\n",
       "  <thead>\n",
       "    <tr style=\"text-align: right;\">\n",
       "      <th></th>\n",
       "      <th>age</th>\n",
       "      <th>workclass</th>\n",
       "      <th>fnlwgt</th>\n",
       "      <th>education</th>\n",
       "      <th>educational-num</th>\n",
       "      <th>marital-status</th>\n",
       "      <th>occupation</th>\n",
       "      <th>relationship</th>\n",
       "      <th>race</th>\n",
       "      <th>gender</th>\n",
       "      <th>capital-gain</th>\n",
       "      <th>capital-loss</th>\n",
       "      <th>hours-per-week</th>\n",
       "      <th>native-country</th>\n",
       "      <th>income</th>\n",
       "    </tr>\n",
       "  </thead>\n",
       "  <tbody>\n",
       "    <tr>\n",
       "      <th>0</th>\n",
       "      <td>25</td>\n",
       "      <td>Private</td>\n",
       "      <td>226802</td>\n",
       "      <td>11th</td>\n",
       "      <td>7</td>\n",
       "      <td>Never-married</td>\n",
       "      <td>Machine-op-inspct</td>\n",
       "      <td>Own-child</td>\n",
       "      <td>Black</td>\n",
       "      <td>Male</td>\n",
       "      <td>0</td>\n",
       "      <td>0</td>\n",
       "      <td>40</td>\n",
       "      <td>United-States</td>\n",
       "      <td>&lt;=50K</td>\n",
       "    </tr>\n",
       "    <tr>\n",
       "      <th>1</th>\n",
       "      <td>38</td>\n",
       "      <td>Private</td>\n",
       "      <td>89814</td>\n",
       "      <td>HS-grad</td>\n",
       "      <td>9</td>\n",
       "      <td>Married-civ-spouse</td>\n",
       "      <td>Farming-fishing</td>\n",
       "      <td>Husband</td>\n",
       "      <td>White</td>\n",
       "      <td>Male</td>\n",
       "      <td>0</td>\n",
       "      <td>0</td>\n",
       "      <td>50</td>\n",
       "      <td>United-States</td>\n",
       "      <td>&lt;=50K</td>\n",
       "    </tr>\n",
       "    <tr>\n",
       "      <th>2</th>\n",
       "      <td>28</td>\n",
       "      <td>Local-gov</td>\n",
       "      <td>336951</td>\n",
       "      <td>Assoc-acdm</td>\n",
       "      <td>12</td>\n",
       "      <td>Married-civ-spouse</td>\n",
       "      <td>Protective-serv</td>\n",
       "      <td>Husband</td>\n",
       "      <td>White</td>\n",
       "      <td>Male</td>\n",
       "      <td>0</td>\n",
       "      <td>0</td>\n",
       "      <td>40</td>\n",
       "      <td>United-States</td>\n",
       "      <td>&gt;50K</td>\n",
       "    </tr>\n",
       "    <tr>\n",
       "      <th>3</th>\n",
       "      <td>44</td>\n",
       "      <td>Private</td>\n",
       "      <td>160323</td>\n",
       "      <td>Some-college</td>\n",
       "      <td>10</td>\n",
       "      <td>Married-civ-spouse</td>\n",
       "      <td>Machine-op-inspct</td>\n",
       "      <td>Husband</td>\n",
       "      <td>Black</td>\n",
       "      <td>Male</td>\n",
       "      <td>7688</td>\n",
       "      <td>0</td>\n",
       "      <td>40</td>\n",
       "      <td>United-States</td>\n",
       "      <td>&gt;50K</td>\n",
       "    </tr>\n",
       "    <tr>\n",
       "      <th>4</th>\n",
       "      <td>18</td>\n",
       "      <td>?</td>\n",
       "      <td>103497</td>\n",
       "      <td>Some-college</td>\n",
       "      <td>10</td>\n",
       "      <td>Never-married</td>\n",
       "      <td>?</td>\n",
       "      <td>Own-child</td>\n",
       "      <td>White</td>\n",
       "      <td>Female</td>\n",
       "      <td>0</td>\n",
       "      <td>0</td>\n",
       "      <td>30</td>\n",
       "      <td>United-States</td>\n",
       "      <td>&lt;=50K</td>\n",
       "    </tr>\n",
       "  </tbody>\n",
       "</table>\n",
       "</div>"
      ],
      "text/plain": [
       "   age  workclass  fnlwgt     education  educational-num      marital-status  \\\n",
       "0   25    Private  226802          11th                7       Never-married   \n",
       "1   38    Private   89814       HS-grad                9  Married-civ-spouse   \n",
       "2   28  Local-gov  336951    Assoc-acdm               12  Married-civ-spouse   \n",
       "3   44    Private  160323  Some-college               10  Married-civ-spouse   \n",
       "4   18          ?  103497  Some-college               10       Never-married   \n",
       "\n",
       "          occupation relationship   race  gender  capital-gain  capital-loss  \\\n",
       "0  Machine-op-inspct    Own-child  Black    Male             0             0   \n",
       "1    Farming-fishing      Husband  White    Male             0             0   \n",
       "2    Protective-serv      Husband  White    Male             0             0   \n",
       "3  Machine-op-inspct      Husband  Black    Male          7688             0   \n",
       "4                  ?    Own-child  White  Female             0             0   \n",
       "\n",
       "   hours-per-week native-country income  \n",
       "0              40  United-States  <=50K  \n",
       "1              50  United-States  <=50K  \n",
       "2              40  United-States   >50K  \n",
       "3              40  United-States   >50K  \n",
       "4              30  United-States  <=50K  "
      ]
     },
     "execution_count": 4,
     "metadata": {},
     "output_type": "execute_result"
    }
   ],
   "source": [
    "df.head()"
   ]
  },
  {
   "cell_type": "markdown",
   "metadata": {},
   "source": [
    "# Qué queremos predecir? -> `df.income`"
   ]
  },
  {
   "cell_type": "code",
   "execution_count": 5,
   "metadata": {
    "scrolled": false
   },
   "outputs": [
    {
     "data": {
      "image/png": "[encoded data removed]",
      "text/plain": [
       "<Figure size 432x288 with 1 Axes>"
      ]
     },
     "metadata": {
      "needs_background": "light"
     },
     "output_type": "display_data"
    }
   ],
   "source": [
    "sb.countplot(df.income);"
   ]
  },
  {
   "cell_type": "markdown",
   "metadata": {
    "scrolled": false
   },
   "source": [
    "# Variables"
   ]
  },
  {
   "cell_type": "code",
   "execution_count": 6,
   "metadata": {},
   "outputs": [
    {
     "name": "stdout",
     "output_type": "stream",
     "text": [
      "\n",
      "Numerical features:\n",
      " ['age' 'fnlwgt' 'educational-num' 'capital-gain' 'capital-loss'\n",
      " 'hours-per-week']\n",
      "\n",
      "Categorical features:\n",
      " ['workclass' 'education' 'marital-status' 'occupation' 'relationship'\n",
      " 'race' 'gender' 'native-country' 'income']\n"
     ]
    }
   ],
   "source": [
    "cat  = df.select_dtypes(include=[object]).columns\n",
    "num  = df.select_dtypes(exclude=[object]).columns\n",
    "\n",
    "print(\"\\nNumerical features:\\n\", num.values)\n",
    "print(\"\\nCategorical features:\\n\", cat.values)"
   ]
  },
  {
   "cell_type": "markdown",
   "metadata": {},
   "source": [
    "# Categorical"
   ]
  },
  {
   "cell_type": "code",
   "execution_count": 7,
   "metadata": {},
   "outputs": [
    {
     "data": {
      "text/html": [
       "<div>\n",
       "<style scoped>\n",
       "    .dataframe tbody tr th:only-of-type {\n",
       "        vertical-align: middle;\n",
       "    }\n",
       "\n",
       "    .dataframe tbody tr th {\n",
       "        vertical-align: top;\n",
       "    }\n",
       "\n",
       "    .dataframe thead th {\n",
       "        text-align: right;\n",
       "    }\n",
       "</style>\n",
       "<table border=\"1\" class=\"dataframe\">\n",
       "  <thead>\n",
       "    <tr style=\"text-align: right;\">\n",
       "      <th></th>\n",
       "      <th>age</th>\n",
       "      <th>workclass</th>\n",
       "      <th>fnlwgt</th>\n",
       "      <th>education</th>\n",
       "      <th>educational-num</th>\n",
       "      <th>marital-status</th>\n",
       "      <th>occupation</th>\n",
       "      <th>relationship</th>\n",
       "      <th>race</th>\n",
       "      <th>gender</th>\n",
       "      <th>capital-gain</th>\n",
       "      <th>capital-loss</th>\n",
       "      <th>hours-per-week</th>\n",
       "      <th>native-country</th>\n",
       "      <th>income</th>\n",
       "    </tr>\n",
       "  </thead>\n",
       "  <tbody>\n",
       "    <tr>\n",
       "      <th>0</th>\n",
       "      <td>25</td>\n",
       "      <td>4</td>\n",
       "      <td>226802</td>\n",
       "      <td>1</td>\n",
       "      <td>7</td>\n",
       "      <td>4</td>\n",
       "      <td>7</td>\n",
       "      <td>3</td>\n",
       "      <td>2</td>\n",
       "      <td>1</td>\n",
       "      <td>0</td>\n",
       "      <td>0</td>\n",
       "      <td>40</td>\n",
       "      <td>39</td>\n",
       "      <td>0</td>\n",
       "    </tr>\n",
       "    <tr>\n",
       "      <th>1</th>\n",
       "      <td>38</td>\n",
       "      <td>4</td>\n",
       "      <td>89814</td>\n",
       "      <td>11</td>\n",
       "      <td>9</td>\n",
       "      <td>2</td>\n",
       "      <td>5</td>\n",
       "      <td>0</td>\n",
       "      <td>4</td>\n",
       "      <td>1</td>\n",
       "      <td>0</td>\n",
       "      <td>0</td>\n",
       "      <td>50</td>\n",
       "      <td>39</td>\n",
       "      <td>0</td>\n",
       "    </tr>\n",
       "    <tr>\n",
       "      <th>2</th>\n",
       "      <td>28</td>\n",
       "      <td>2</td>\n",
       "      <td>336951</td>\n",
       "      <td>7</td>\n",
       "      <td>12</td>\n",
       "      <td>2</td>\n",
       "      <td>11</td>\n",
       "      <td>0</td>\n",
       "      <td>4</td>\n",
       "      <td>1</td>\n",
       "      <td>0</td>\n",
       "      <td>0</td>\n",
       "      <td>40</td>\n",
       "      <td>39</td>\n",
       "      <td>1</td>\n",
       "    </tr>\n",
       "    <tr>\n",
       "      <th>3</th>\n",
       "      <td>44</td>\n",
       "      <td>4</td>\n",
       "      <td>160323</td>\n",
       "      <td>15</td>\n",
       "      <td>10</td>\n",
       "      <td>2</td>\n",
       "      <td>7</td>\n",
       "      <td>0</td>\n",
       "      <td>2</td>\n",
       "      <td>1</td>\n",
       "      <td>7688</td>\n",
       "      <td>0</td>\n",
       "      <td>40</td>\n",
       "      <td>39</td>\n",
       "      <td>1</td>\n",
       "    </tr>\n",
       "    <tr>\n",
       "      <th>4</th>\n",
       "      <td>18</td>\n",
       "      <td>0</td>\n",
       "      <td>103497</td>\n",
       "      <td>15</td>\n",
       "      <td>10</td>\n",
       "      <td>4</td>\n",
       "      <td>0</td>\n",
       "      <td>3</td>\n",
       "      <td>4</td>\n",
       "      <td>0</td>\n",
       "      <td>0</td>\n",
       "      <td>0</td>\n",
       "      <td>30</td>\n",
       "      <td>39</td>\n",
       "      <td>0</td>\n",
       "    </tr>\n",
       "  </tbody>\n",
       "</table>\n",
       "</div>"
      ],
      "text/plain": [
       "   age  workclass  fnlwgt  education  educational-num  marital-status  \\\n",
       "0   25          4  226802          1                7               4   \n",
       "1   38          4   89814         11                9               2   \n",
       "2   28          2  336951          7               12               2   \n",
       "3   44          4  160323         15               10               2   \n",
       "4   18          0  103497         15               10               4   \n",
       "\n",
       "   occupation  relationship  race  gender  capital-gain  capital-loss  \\\n",
       "0           7             3     2       1             0             0   \n",
       "1           5             0     4       1             0             0   \n",
       "2          11             0     4       1             0             0   \n",
       "3           7             0     2       1          7688             0   \n",
       "4           0             3     4       0             0             0   \n",
       "\n",
       "   hours-per-week  native-country  income  \n",
       "0              40              39       0  \n",
       "1              50              39       0  \n",
       "2              40              39       1  \n",
       "3              40              39       1  \n",
       "4              30              39       0  "
      ]
     },
     "execution_count": 7,
     "metadata": {},
     "output_type": "execute_result"
    }
   ],
   "source": [
    "df[cat] = df[cat].apply(LabelEncoder().fit_transform)\n",
    "df.head()"
   ]
  },
  {
   "cell_type": "markdown",
   "metadata": {},
   "source": [
    "# Models"
   ]
  },
  {
   "cell_type": "code",
   "execution_count": 8,
   "metadata": {},
   "outputs": [],
   "source": [
    "x = df.drop(\"income\", axis=\"columns\")\n",
    "y = df[\"income\"]"
   ]
  },
  {
   "cell_type": "code",
   "execution_count": 9,
   "metadata": {},
   "outputs": [
    {
     "data": {
      "text/html": [
       "<style  type=\"text/css\" >\n",
       "#T_96bff496_24e9_11eb_922e_e0d55e0b36aerow0_col0{\n",
       "            width:  10em;\n",
       "             height:  80%;\n",
       "            background:  linear-gradient(90deg,#5fba7d 79.2%, transparent 79.2%);\n",
       "        }#T_96bff496_24e9_11eb_922e_e0d55e0b36aerow0_col1{\n",
       "            width:  10em;\n",
       "             height:  80%;\n",
       "            background:  linear-gradient(90deg,#5fba7d 61.8%, transparent 61.8%);\n",
       "        }#T_96bff496_24e9_11eb_922e_e0d55e0b36aerow1_col0{\n",
       "            width:  10em;\n",
       "             height:  80%;\n",
       "            background:  linear-gradient(90deg,#5fba7d 81.0%, transparent 81.0%);\n",
       "        }#T_96bff496_24e9_11eb_922e_e0d55e0b36aerow1_col1{\n",
       "            width:  10em;\n",
       "             height:  80%;\n",
       "            background:  linear-gradient(90deg,#5fba7d 74.4%, transparent 74.4%);\n",
       "        }#T_96bff496_24e9_11eb_922e_e0d55e0b36aerow2_col0{\n",
       "            width:  10em;\n",
       "             height:  80%;\n",
       "            background:  linear-gradient(90deg,#5fba7d 84.4%, transparent 84.4%);\n",
       "        }#T_96bff496_24e9_11eb_922e_e0d55e0b36aerow2_col1{\n",
       "            width:  10em;\n",
       "             height:  80%;\n",
       "            background:  linear-gradient(90deg,#5fba7d 76.4%, transparent 76.4%);\n",
       "        }#T_96bff496_24e9_11eb_922e_e0d55e0b36aerow3_col0{\n",
       "            width:  10em;\n",
       "             height:  80%;\n",
       "            background:  linear-gradient(90deg,#5fba7d 85.7%, transparent 85.7%);\n",
       "        }#T_96bff496_24e9_11eb_922e_e0d55e0b36aerow3_col1,#T_96bff496_24e9_11eb_922e_e0d55e0b36aerow4_col1{\n",
       "            width:  10em;\n",
       "             height:  80%;\n",
       "            background:  linear-gradient(90deg,#5fba7d 77.5%, transparent 77.5%);\n",
       "        }#T_96bff496_24e9_11eb_922e_e0d55e0b36aerow4_col0{\n",
       "            width:  10em;\n",
       "             height:  80%;\n",
       "            background:  linear-gradient(90deg,#5fba7d 86.6%, transparent 86.6%);\n",
       "        }#T_96bff496_24e9_11eb_922e_e0d55e0b36aerow5_col0{\n",
       "            width:  10em;\n",
       "             height:  80%;\n",
       "            background:  linear-gradient(90deg,#5fba7d 87.3%, transparent 87.3%);\n",
       "        }#T_96bff496_24e9_11eb_922e_e0d55e0b36aerow5_col1,#T_96bff496_24e9_11eb_922e_e0d55e0b36aerow6_col1{\n",
       "            width:  10em;\n",
       "             height:  80%;\n",
       "            background:  linear-gradient(90deg,#5fba7d 79.9%, transparent 79.9%);\n",
       "        }#T_96bff496_24e9_11eb_922e_e0d55e0b36aerow6_col0{\n",
       "            width:  10em;\n",
       "             height:  80%;\n",
       "            background:  linear-gradient(90deg,#5fba7d 87.5%, transparent 87.5%);\n",
       "        }#T_96bff496_24e9_11eb_922e_e0d55e0b36aerow7_col0{\n",
       "            width:  10em;\n",
       "             height:  80%;\n",
       "            background:  linear-gradient(90deg,#5fba7d 87.2%, transparent 87.2%);\n",
       "        }#T_96bff496_24e9_11eb_922e_e0d55e0b36aerow7_col1{\n",
       "            width:  10em;\n",
       "             height:  80%;\n",
       "            background:  linear-gradient(90deg,#5fba7d 79.6%, transparent 79.6%);\n",
       "        }</style><table id=\"T_96bff496_24e9_11eb_922e_e0d55e0b36ae\" ><thead>    <tr>        <th class=\"blank level0\" ></th>        <th class=\"col_heading level0 col0\" >Accuracy</th>        <th class=\"col_heading level0 col1\" >Bal Acc</th>    </tr></thead><tbody>\n",
       "                <tr>\n",
       "                        <th id=\"T_96bff496_24e9_11eb_922e_e0d55e0b36aelevel0_row0\" class=\"row_heading level0 row0\" >Logistic Regression</th>\n",
       "                        <td id=\"T_96bff496_24e9_11eb_922e_e0d55e0b36aerow0_col0\" class=\"data row0 col0\" >79.237132</td>\n",
       "                        <td id=\"T_96bff496_24e9_11eb_922e_e0d55e0b36aerow0_col1\" class=\"data row0 col1\" >61.828250</td>\n",
       "            </tr>\n",
       "            <tr>\n",
       "                        <th id=\"T_96bff496_24e9_11eb_922e_e0d55e0b36aelevel0_row1\" class=\"row_heading level0 row1\" >Decision Tree</th>\n",
       "                        <td id=\"T_96bff496_24e9_11eb_922e_e0d55e0b36aerow1_col0\" class=\"data row1 col0\" >80.971295</td>\n",
       "                        <td id=\"T_96bff496_24e9_11eb_922e_e0d55e0b36aerow1_col1\" class=\"data row1 col1\" >74.375666</td>\n",
       "            </tr>\n",
       "            <tr>\n",
       "                        <th id=\"T_96bff496_24e9_11eb_922e_e0d55e0b36aelevel0_row2\" class=\"row_heading level0 row2\" >Extra Trees 100</th>\n",
       "                        <td id=\"T_96bff496_24e9_11eb_922e_e0d55e0b36aerow2_col0\" class=\"data row2 col0\" >84.374104</td>\n",
       "                        <td id=\"T_96bff496_24e9_11eb_922e_e0d55e0b36aerow2_col1\" class=\"data row2 col1\" >76.357111</td>\n",
       "            </tr>\n",
       "            <tr>\n",
       "                        <th id=\"T_96bff496_24e9_11eb_922e_e0d55e0b36aelevel0_row3\" class=\"row_heading level0 row3\" >Random Forest 100</th>\n",
       "                        <td id=\"T_96bff496_24e9_11eb_922e_e0d55e0b36aerow3_col0\" class=\"data row3 col0\" >85.666025</td>\n",
       "                        <td id=\"T_96bff496_24e9_11eb_922e_e0d55e0b36aerow3_col1\" class=\"data row3 col1\" >77.484848</td>\n",
       "            </tr>\n",
       "            <tr>\n",
       "                        <th id=\"T_96bff496_24e9_11eb_922e_e0d55e0b36aelevel0_row4\" class=\"row_heading level0 row4\" >Gradient Boosting 100</th>\n",
       "                        <td id=\"T_96bff496_24e9_11eb_922e_e0d55e0b36aerow4_col0\" class=\"data row4 col0\" >86.646738</td>\n",
       "                        <td id=\"T_96bff496_24e9_11eb_922e_e0d55e0b36aerow4_col1\" class=\"data row4 col1\" >77.466690</td>\n",
       "            </tr>\n",
       "            <tr>\n",
       "                        <th id=\"T_96bff496_24e9_11eb_922e_e0d55e0b36aelevel0_row5\" class=\"row_heading level0 row5\" >XGBoost 100</th>\n",
       "                        <td id=\"T_96bff496_24e9_11eb_922e_e0d55e0b36aerow5_col0\" class=\"data row5 col0\" >87.263011</td>\n",
       "                        <td id=\"T_96bff496_24e9_11eb_922e_e0d55e0b36aerow5_col1\" class=\"data row5 col1\" >79.889340</td>\n",
       "            </tr>\n",
       "            <tr>\n",
       "                        <th id=\"T_96bff496_24e9_11eb_922e_e0d55e0b36aelevel0_row6\" class=\"row_heading level0 row6\" >LightGBM 100</th>\n",
       "                        <td id=\"T_96bff496_24e9_11eb_922e_e0d55e0b36aerow6_col0\" class=\"data row6 col0\" >87.451374</td>\n",
       "                        <td id=\"T_96bff496_24e9_11eb_922e_e0d55e0b36aerow6_col1\" class=\"data row6 col1\" >79.898777</td>\n",
       "            </tr>\n",
       "            <tr>\n",
       "                        <th id=\"T_96bff496_24e9_11eb_922e_e0d55e0b36aelevel0_row7\" class=\"row_heading level0 row7\" >CatBoost 100</th>\n",
       "                        <td id=\"T_96bff496_24e9_11eb_922e_e0d55e0b36aerow7_col0\" class=\"data row7 col0\" >87.238442</td>\n",
       "                        <td id=\"T_96bff496_24e9_11eb_922e_e0d55e0b36aerow7_col1\" class=\"data row7 col1\" >79.606330</td>\n",
       "            </tr>\n",
       "    </tbody></table>"
      ],
      "text/plain": [
       "<pandas.io.formats.style.Styler at 0x7fe5d6b7d5b0>"
      ]
     },
     "metadata": {},
     "output_type": "display_data"
    }
   ],
   "source": [
    "models = [\n",
    "    ('Logistic Regression', LogisticRegression(n_jobs=-1)),\n",
    "    ('Decision Tree',       DecisionTreeClassifier()),\n",
    "    ('Extra Trees 100',         ExtraTreesClassifier(n_jobs=-1)),\n",
    "    ('Random Forest 100',       RandomForestClassifier(n_jobs=-1)),\n",
    "    ('Gradient Boosting 100',   GradientBoostingClassifier()),\n",
    "    ('XGBoost 100',             XGBClassifier(n_estimators=100)),\n",
    "    ('LightGBM 100',            LGBMClassifier(n_estimators=100)),\n",
    "    ('CatBoost 100',            CatBoostClassifier(n_estimators=100, logging_level=\"Silent\")), # Por defecto son 1000\n",
    "    #('XGBoost 250',             XGBClassifier(n_estimators=250))\n",
    "]\n",
    "\n",
    "results = pd.DataFrame(columns=[\"Accuracy\", \"Bal Acc\"])\n",
    "\n",
    "for model_name, model in models:\n",
    "    skf = StratifiedKFold(n_splits=5, shuffle=True, random_state=0)\n",
    "    pred_oof     = cross_val_predict(model, x, y, cv=skf)\n",
    "    predProb_oof = cross_val_predict(model, x, y, cv=skf, method=\"predict_proba\")\n",
    "    #cv_r = cross_val_score(model, x, y, cv=skf, scoring='accuracy')\n",
    "    \n",
    "    acc     = accuracy_score(y, pred_oof)*100\n",
    "    bal_acc = balanced_accuracy_score(y, pred_oof)*100\n",
    "    \n",
    "    results.loc[model_name] = [acc, bal_acc]\n",
    "    clear_output(wait=True)\n",
    "    display(results.style.bar(subset=[\"Accuracy\", \"Bal Acc\"], vmin=0, vmax=100, color='#5fba7d'))\n",
    "    \n",
    "    #print(\"%s: %.2f%%\" % (model_name, balanced_accuracy_score(y, pred_oof)*100))\n",
    "    #print(\"%s: %.2f%% (%.2f%%)\" % (model_name, cv_r.mean()*100, cv_r.std()*100))"
   ]
  },
  {
   "cell_type": "code",
   "execution_count": 22,
   "metadata": {},
   "outputs": [
    {
     "data": {
      "text/html": [
       "<style  type=\"text/css\" >\n",
       "#T_1319b8ee_24ed_11eb_922e_e0d55e0b36aerow0_col0{\n",
       "            width:  10em;\n",
       "             height:  80%;\n",
       "            background:  linear-gradient(90deg,#5fba7d 58.5%, transparent 58.5%);\n",
       "        }#T_1319b8ee_24ed_11eb_922e_e0d55e0b36aerow0_col1{\n",
       "            width:  10em;\n",
       "             height:  80%;\n",
       "            background:  linear-gradient(90deg,#5fba7d 23.7%, transparent 23.7%);\n",
       "        }#T_1319b8ee_24ed_11eb_922e_e0d55e0b36aerow1_col0{\n",
       "            width:  10em;\n",
       "             height:  80%;\n",
       "            background:  linear-gradient(90deg,#5fba7d 61.9%, transparent 61.9%);\n",
       "        }#T_1319b8ee_24ed_11eb_922e_e0d55e0b36aerow1_col1{\n",
       "            width:  10em;\n",
       "             height:  80%;\n",
       "            background:  linear-gradient(90deg,#5fba7d 48.8%, transparent 48.8%);\n",
       "        }#T_1319b8ee_24ed_11eb_922e_e0d55e0b36aerow2_col0{\n",
       "            width:  10em;\n",
       "             height:  80%;\n",
       "            background:  linear-gradient(90deg,#5fba7d 68.7%, transparent 68.7%);\n",
       "        }#T_1319b8ee_24ed_11eb_922e_e0d55e0b36aerow2_col1{\n",
       "            width:  10em;\n",
       "             height:  80%;\n",
       "            background:  linear-gradient(90deg,#5fba7d 52.7%, transparent 52.7%);\n",
       "        }#T_1319b8ee_24ed_11eb_922e_e0d55e0b36aerow3_col0{\n",
       "            width:  10em;\n",
       "             height:  80%;\n",
       "            background:  linear-gradient(90deg,#5fba7d 71.3%, transparent 71.3%);\n",
       "        }#T_1319b8ee_24ed_11eb_922e_e0d55e0b36aerow3_col1{\n",
       "            width:  10em;\n",
       "             height:  80%;\n",
       "            background:  linear-gradient(90deg,#5fba7d 55.0%, transparent 55.0%);\n",
       "        }#T_1319b8ee_24ed_11eb_922e_e0d55e0b36aerow4_col0{\n",
       "            width:  10em;\n",
       "             height:  80%;\n",
       "            background:  linear-gradient(90deg,#5fba7d 73.3%, transparent 73.3%);\n",
       "        }#T_1319b8ee_24ed_11eb_922e_e0d55e0b36aerow4_col1{\n",
       "            width:  10em;\n",
       "             height:  80%;\n",
       "            background:  linear-gradient(90deg,#5fba7d 54.9%, transparent 54.9%);\n",
       "        }#T_1319b8ee_24ed_11eb_922e_e0d55e0b36aerow5_col0,#T_1319b8ee_24ed_11eb_922e_e0d55e0b36aerow7_col0{\n",
       "            width:  10em;\n",
       "             height:  80%;\n",
       "            background:  linear-gradient(90deg,#5fba7d 74.5%, transparent 74.5%);\n",
       "        }#T_1319b8ee_24ed_11eb_922e_e0d55e0b36aerow5_col1,#T_1319b8ee_24ed_11eb_922e_e0d55e0b36aerow6_col1{\n",
       "            width:  10em;\n",
       "             height:  80%;\n",
       "            background:  linear-gradient(90deg,#5fba7d 59.8%, transparent 59.8%);\n",
       "        }#T_1319b8ee_24ed_11eb_922e_e0d55e0b36aerow6_col0{\n",
       "            width:  10em;\n",
       "             height:  80%;\n",
       "            background:  linear-gradient(90deg,#5fba7d 74.9%, transparent 74.9%);\n",
       "        }#T_1319b8ee_24ed_11eb_922e_e0d55e0b36aerow7_col1{\n",
       "            width:  10em;\n",
       "             height:  80%;\n",
       "            background:  linear-gradient(90deg,#5fba7d 59.2%, transparent 59.2%);\n",
       "        }</style><table id=\"T_1319b8ee_24ed_11eb_922e_e0d55e0b36ae\" ><thead>    <tr>        <th class=\"blank level0\" ></th>        <th class=\"col_heading level0 col0\" >Accuracy</th>        <th class=\"col_heading level0 col1\" >Bal Acc</th>    </tr></thead><tbody>\n",
       "                <tr>\n",
       "                        <th id=\"T_1319b8ee_24ed_11eb_922e_e0d55e0b36aelevel0_row0\" class=\"row_heading level0 row0\" >Logistic Regression</th>\n",
       "                        <td id=\"T_1319b8ee_24ed_11eb_922e_e0d55e0b36aerow0_col0\" class=\"data row0 col0\" >79.237132</td>\n",
       "                        <td id=\"T_1319b8ee_24ed_11eb_922e_e0d55e0b36aerow0_col1\" class=\"data row0 col1\" >61.828250</td>\n",
       "            </tr>\n",
       "            <tr>\n",
       "                        <th id=\"T_1319b8ee_24ed_11eb_922e_e0d55e0b36aelevel0_row1\" class=\"row_heading level0 row1\" >Decision Tree</th>\n",
       "                        <td id=\"T_1319b8ee_24ed_11eb_922e_e0d55e0b36aerow1_col0\" class=\"data row1 col0\" >80.971295</td>\n",
       "                        <td id=\"T_1319b8ee_24ed_11eb_922e_e0d55e0b36aerow1_col1\" class=\"data row1 col1\" >74.375666</td>\n",
       "            </tr>\n",
       "            <tr>\n",
       "                        <th id=\"T_1319b8ee_24ed_11eb_922e_e0d55e0b36aelevel0_row2\" class=\"row_heading level0 row2\" >Extra Trees 100</th>\n",
       "                        <td id=\"T_1319b8ee_24ed_11eb_922e_e0d55e0b36aerow2_col0\" class=\"data row2 col0\" >84.374104</td>\n",
       "                        <td id=\"T_1319b8ee_24ed_11eb_922e_e0d55e0b36aerow2_col1\" class=\"data row2 col1\" >76.357111</td>\n",
       "            </tr>\n",
       "            <tr>\n",
       "                        <th id=\"T_1319b8ee_24ed_11eb_922e_e0d55e0b36aelevel0_row3\" class=\"row_heading level0 row3\" >Random Forest 100</th>\n",
       "                        <td id=\"T_1319b8ee_24ed_11eb_922e_e0d55e0b36aerow3_col0\" class=\"data row3 col0\" >85.666025</td>\n",
       "                        <td id=\"T_1319b8ee_24ed_11eb_922e_e0d55e0b36aerow3_col1\" class=\"data row3 col1\" >77.484848</td>\n",
       "            </tr>\n",
       "            <tr>\n",
       "                        <th id=\"T_1319b8ee_24ed_11eb_922e_e0d55e0b36aelevel0_row4\" class=\"row_heading level0 row4\" >Gradient Boosting 100</th>\n",
       "                        <td id=\"T_1319b8ee_24ed_11eb_922e_e0d55e0b36aerow4_col0\" class=\"data row4 col0\" >86.646738</td>\n",
       "                        <td id=\"T_1319b8ee_24ed_11eb_922e_e0d55e0b36aerow4_col1\" class=\"data row4 col1\" >77.466690</td>\n",
       "            </tr>\n",
       "            <tr>\n",
       "                        <th id=\"T_1319b8ee_24ed_11eb_922e_e0d55e0b36aelevel0_row5\" class=\"row_heading level0 row5\" >XGBoost 100</th>\n",
       "                        <td id=\"T_1319b8ee_24ed_11eb_922e_e0d55e0b36aerow5_col0\" class=\"data row5 col0\" >87.263011</td>\n",
       "                        <td id=\"T_1319b8ee_24ed_11eb_922e_e0d55e0b36aerow5_col1\" class=\"data row5 col1\" >79.889340</td>\n",
       "            </tr>\n",
       "            <tr>\n",
       "                        <th id=\"T_1319b8ee_24ed_11eb_922e_e0d55e0b36aelevel0_row6\" class=\"row_heading level0 row6\" >LightGBM 100</th>\n",
       "                        <td id=\"T_1319b8ee_24ed_11eb_922e_e0d55e0b36aerow6_col0\" class=\"data row6 col0\" >87.451374</td>\n",
       "                        <td id=\"T_1319b8ee_24ed_11eb_922e_e0d55e0b36aerow6_col1\" class=\"data row6 col1\" >79.898777</td>\n",
       "            </tr>\n",
       "            <tr>\n",
       "                        <th id=\"T_1319b8ee_24ed_11eb_922e_e0d55e0b36aelevel0_row7\" class=\"row_heading level0 row7\" >CatBoost 100</th>\n",
       "                        <td id=\"T_1319b8ee_24ed_11eb_922e_e0d55e0b36aerow7_col0\" class=\"data row7 col0\" >87.238442</td>\n",
       "                        <td id=\"T_1319b8ee_24ed_11eb_922e_e0d55e0b36aerow7_col1\" class=\"data row7 col1\" >79.606330</td>\n",
       "            </tr>\n",
       "    </tbody></table>"
      ],
      "text/plain": [
       "<pandas.io.formats.style.Styler at 0x7fe60a0379d0>"
      ]
     },
     "execution_count": 22,
     "metadata": {},
     "output_type": "execute_result"
    }
   ],
   "source": [
    "results.style.bar(subset=[\"Accuracy\", \"Bal Acc\"], vmin=50, vmax=100, color='#5fba7d')"
   ]
  },
  {
   "cell_type": "code",
   "execution_count": 19,
   "metadata": {},
   "outputs": [
    {
     "data": {
      "image/png": "[encoded data removed]",
      "text/plain": [
       "<Figure size 432x288 with 1 Axes>"
      ]
     },
     "metadata": {
      "needs_background": "light"
     },
     "output_type": "display_data"
    }
   ],
   "source": [
    "results.Accuracy.sort_values().plot.barh();"
   ]
  },
  {
   "cell_type": "code",
   "execution_count": 20,
   "metadata": {},
   "outputs": [
    {
     "data": {
      "image/png": "[encoded data removed]",
      "text/plain": [
       "<Figure size 432x288 with 1 Axes>"
      ]
     },
     "metadata": {
      "needs_background": "light"
     },
     "output_type": "display_data"
    }
   ],
   "source": [
    "results[\"Bal Acc\"].sort_values().plot.barh();"
   ]
  },
  {
   "cell_type": "code",
   "execution_count": 13,
   "metadata": {},
   "outputs": [
    {
     "data": {
      "text/plain": [
       "<AxesSubplot:>"
      ]
     },
     "execution_count": 13,
     "metadata": {},
     "output_type": "execute_result"
    },
    {
     "data": {
      "image/png": "[encoded data removed]",
      "text/plain": [
       "<Figure size 1152x432 with 1 Axes>"
      ]
     },
     "metadata": {
      "needs_background": "light"
     },
     "output_type": "display_data"
    }
   ],
   "source": [
    "results ={'Names': Modelnames,'Results': outcome}\n",
    "plt.figure(figsize=(16,6))\n",
    "sb.boxplot(x='Names',y='Results',data=results)"
   ]
  },
  {
   "cell_type": "code",
   "execution_count": 13,
   "metadata": {},
   "outputs": [
    {
     "name": "stdout",
     "output_type": "stream",
     "text": [
      "Logistic Regression: 78.99% (0.63%)\n",
      "Decision Tree: 81.23% (0.40%)\n",
      "Extra Trees: 84.57% (0.30%)\n",
      "Random Forest: 85.67% (0.26%)\n",
      "Gradient Boosting: 86.56% (0.35%)\n",
      "XGBoost: 87.03% (0.41%)\n"
     ]
    }
   ],
   "source": [
    "models = [\n",
    "    ('Logistic Regression', LogisticRegression(n_jobs=-1)),\n",
    "    ('Decision Tree',       DecisionTreeClassifier()),\n",
    "    ('Extra Trees 100',         ExtraTreesClassifier(n_jobs=-1)),\n",
    "    ('Random Forest 100',       RandomForestClassifier(n_jobs=-1)),\n",
    "    ('Gradient Boosting 100',   GradientBoostingClassifier()),\n",
    "    ('XGBoost 100',             XGBClassifier(n_estimators=100)),\n",
    "    ('LightGBM 100',            LGBMClassifier(n_estimators=100)),\n",
    "    ('CatBoost 100',            CatBoostClassifier(n_estimators=100)), # Por defecto son 1000\n",
    "    #('XGBoost 250',             XGBClassifier(n_estimators=250))\n",
    "]\n",
    "\n",
    "preds_oof  = []\n",
    "predsProb_oof = []\n",
    "model_names = []\n",
    "\n",
    "for model_name, model in models:\n",
    "    skf = StratifiedKFold(n_splits=5, shuffle=True, random_state=0)\n",
    "    pred_oof     = cross_val_predict(model, x, y, cv=skf)\n",
    "    predProb_oof = cross_val_predict(model, x, y, cv=skf, method=’predict_proba’)\n",
    "    #cv_r = cross_val_score(model, x, y, cv=skf, scoring='accuracy')\n",
    "    \n",
    "    preds_oof.append(pred_oof)\n",
    "    predsProb_oof.append(predProb_oof)\n",
    "    model_names.append(model_name)\n",
    "    \n",
    "    print(\"%s: %.2f%%\" % (model_name, balanced_accuracy_score(y, preds_oof)*100))\n",
    "    #print(\"%s: %.2f%% (%.2f%%)\" % (model_name, cv_r.mean()*100, cv_r.std()*100))"
   ]
  },
  {
   "cell_type": "code",
   "execution_count": 14,
   "metadata": {},
   "outputs": [
    {
     "data": {
      "text/plain": [
       "<matplotlib.axes._subplots.AxesSubplot at 0x127024048>"
      ]
     },
     "execution_count": 14,
     "metadata": {},
     "output_type": "execute_result"
    },
    {
     "data": {
      "image/png": "[encoded data removed]",
      "text/plain": [
       "<Figure size 1152x432 with 1 Axes>"
      ]
     },
     "metadata": {
      "needs_background": "light"
     },
     "output_type": "display_data"
    }
   ],
   "source": [
    "results ={'Names': Modelnames,'Results': outcome}\n",
    "plt.figure(figsize=(16,6))\n",
    "sns.boxplot(x='Names',y='Results',data=results)"
   ]
  },
  {
   "cell_type": "code",
   "execution_count": null,
   "metadata": {},
   "outputs": [],
   "source": []
  }
 ],
 "metadata": {
  "anaconda-cloud": {},
  "kernelspec": {
   "display_name": "Python 3 (ipykernel)",
   "language": "python",
   "name": "python3"
  },
  "language_info": {
   "codemirror_mode": {
    "name": "ipython",
    "version": 3
   },
   "file_extension": ".py",
   "mimetype": "text/x-python",
   "name": "python",
   "nbconvert_exporter": "python",
   "pygments_lexer": "ipython3",
   "version": "3.9.7"
  },
  "name": "seminar13_optional_practice_trees_titanic.ipynb"
 },
 "nbformat": 4,
 "nbformat_minor": 4
}
