{
  "nbformat": 4,
  "nbformat_minor": 0,
  "metadata": {
    "colab": {
      "name": "HMM.ipynb",
      "provenance": [],
      "collapsed_sections": [
        "Z3zUUYH0giKV",
        "qBCrFobsEM8X"
      ]
    },
    "kernelspec": {
      "name": "python3",
      "display_name": "Python 3"
    },
    "accelerator": "GPU"
  },
  "cells": [
    {
      "cell_type": "markdown",
      "metadata": {
        "id": "lDJIV2EVBuFZ",
        "colab_type": "text"
      },
      "source": [
        "# Fun with Hidden Markov Models\n",
        "*by Loren Lugosch*"
      ]
    },
    {
      "cell_type": "markdown",
      "metadata": {
        "id": "_rWFkdjYOlk8",
        "colab_type": "text"
      },
      "source": [
        "This notebook introduces the Hidden Markov Model (HMM), a simple model for sequential data.\n",
        "\n",
        "We will see:\n",
        "- what an HMM is and when you might want to use it;\n",
        "- the so-called \"three problems\" of an HMM; and \n",
        "- how to implement an HMM in PyTorch.\n",
        "\n",
        "(The code in this notebook can also be found at https://github.com/lorenlugosch/pytorch_HMM.)"
      ]
    },
    {
      "cell_type": "markdown",
      "metadata": {
        "id": "efPPcGy0gP6H",
        "colab_type": "text"
      },
      "source": [
        "A hypothetical scenario\n",
        "------\n",
        "\n",
        "To motivate the use of HMMs, imagine that you have a friend who gets to do a lot of travelling. Every day, this jet-setting friend sends you a selfie from the city they’re in, to make you envious."
      ]
    },
    {
      "cell_type": "markdown",
      "metadata": {
        "id": "Cs3z7pnVib9g",
        "colab_type": "text"
      },
      "source": [
        "<center>\n",
        "\n",
        "![Diagram of a traveling friend sending selfies](https://github.com/lorenlugosch/pytorch_HMM/blob/master/img/selfies.png?raw=true)\n",
        "</center>\n",
        "\n",
        "\n",
        "\n"
      ]
    },
    {
      "cell_type": "markdown",
      "metadata": {
        "id": "hTPNK3IjirDA",
        "colab_type": "text"
      },
      "source": [
        "How would you go about guessing which city the friend is in each day, just by looking at the selfies?\n",
        "\n",
        "If the selfie contains a really obvious landmark, like the Eiffel Tower, it will be easy to figure out where the photo was taken. If not, it will be a lot harder to infer the city.\n",
        "\n",
        "But we have a clue to help us: the city the friend is in each day is not totally random. For example, the friend will probably remain in the same city for a few days to sightsee before flying to a new city."
      ]
    },
    {
      "cell_type": "markdown",
      "metadata": {
        "id": "k4g7IG7CBx-Y",
        "colab_type": "text"
      },
      "source": [
        "## The HMM setup\n",
        "\n",
        "The hypothetical scenario of the friend travelling between cities and sending you selfies can be modeled using an HMM.\n"
      ]
    },
    {
      "cell_type": "markdown",
      "metadata": {
        "id": "NpwgbDTnRzRa",
        "colab_type": "text"
      },
      "source": [
        "An HMM models a system that is in a particular state at any given time and produces an output that depends on that state. \n",
        "\n",
        "At each timestep or clock tick, the system randomly decides on a new state and jumps into that state. The system then randomly generates an observation. The states are \"hidden\": we can't observe them. (In the cities/selfies analogy, the unknown cities would be the hidden states, and the selfies would be the observations.)\n",
        "\n",
        "Let's denote the sequence of states as $\\mathbf{z} = \\{z_1, z_2, \\dots, z_T \\}$, where each state is one of a finite set of $N$ states, and the sequence of observations as $\\mathbf{x} = \\{x_1, x_2, \\dots, x_T\\}$. The observations could be discrete, like letters, or real-valued, like audio frames."
      ]
    },
    {
      "cell_type": "markdown",
      "metadata": {
        "id": "uV5fAhEQDAcJ",
        "colab_type": "text"
      },
      "source": [
        "<center>\n",
        "\n",
        "![Diagram of an HMM for three timesteps](https://github.com/lorenlugosch/pytorch_HMM/blob/master/img/hmm.png?raw=true)\n",
        "</center>"
      ]
    },
    {
      "cell_type": "markdown",
      "metadata": {
        "id": "vMPrA6Uv-u-K",
        "colab_type": "text"
      },
      "source": [
        "An HMM makes two key assumptions:\n",
        "- **Assumption 1:** The state at time $t$ depends *only* on the state at the previous time $t-1$. \n",
        "- **Assumption 2:** The output at time $t$ depends *only* on the state at time $t$.\n",
        "\n",
        "These two assumptions make it possible to efficiently compute certain quantities that we may be interested in."
      ]
    },
    {
      "cell_type": "markdown",
      "metadata": {
        "id": "mRNhSK7LgEIS",
        "colab_type": "text"
      },
      "source": [
        "## Components of an HMM\n",
        "An HMM has three sets of trainable parameters.\n",
        "  \n"
      ]
    },
    {
      "cell_type": "markdown",
      "metadata": {
        "id": "7Pu3zm77vXwp",
        "colab_type": "text"
      },
      "source": [
        "- The **transition model** is a square matrix $A$, where $A_{s, s'}$ represents $p(z_t = s|z_{t-1} = s')$, the probability of jumping from state $s'$ to state $s$. \n",
        "\n",
        "- The **emission model** $b_s(x_t)$ tells us $p(x_t|z_t = s)$, the probability of generating $x_t$ when the system is in state $s$. For discrete observations, which we will use in this notebook, the emission model is just a lookup table, with one row for each state, and one column for each observation. For real-valued observations, it is common to use a Gaussian mixture model or neural network to implement the emission model. \n",
        "\n",
        "- The **state priors** tell us $p(z_1 = s)$, the probability of starting in state $s$. We use $\\pi$ to denote the vector of state priors, so $\\pi_s$ is the state prior for state $s$.\n",
        "\n",
        "Let's program an HMM class in PyTorch."
      ]
    },
    {
      "cell_type": "code",
      "metadata": {
        "id": "aZbW6Pj0og7K",
        "colab_type": "code",
        "colab": {}
      },
      "source": [
        "import torch\n",
        "import numpy as np\n",
        "\n",
        "class HMM(torch.nn.Module):\n",
        "  \"\"\"\n",
        "  Hidden Markov Model with discrete observations.\n",
        "  \"\"\"\n",
        "  def __init__(self, M, N):\n",
        "    super(HMM, self).__init__()\n",
        "    self.M = M # number of possible observations\n",
        "    self.N = N # number of states\n",
        "\n",
        "    # A\n",
        "    self.transition_model = TransitionModel(self.N)\n",
        "\n",
        "    # b(x_t)\n",
        "    self.emission_model = EmissionModel(self.N,self.M)\n",
        "\n",
        "    # pi\n",
        "    self.unnormalized_state_priors = torch.nn.Parameter(torch.randn(self.N))\n",
        "\n",
        "    # use the GPU\n",
        "    self.is_cuda = torch.cuda.is_available()\n",
        "    if self.is_cuda: self.cuda()\n",
        "\n",
        "class TransitionModel(torch.nn.Module):\n",
        "  def __init__(self, N):\n",
        "    super(TransitionModel, self).__init__()\n",
        "    self.N = N\n",
        "    self.unnormalized_transition_matrix = torch.nn.Parameter(torch.randn(N,N))\n",
        "\n",
        "class EmissionModel(torch.nn.Module):\n",
        "  def __init__(self, N, M):\n",
        "    super(EmissionModel, self).__init__()\n",
        "    self.N = N\n",
        "    self.M = M\n",
        "    self.unnormalized_emission_matrix = torch.nn.Parameter(torch.randn(N,M))"
      ],
      "execution_count": 0,
      "outputs": []
    },
    {
      "cell_type": "markdown",
      "metadata": {
        "id": "eom3ueYtpXGo",
        "colab_type": "text"
      },
      "source": [
        "To sample from the HMM, we start by picking a random initial state from the state prior distribution.\n",
        "\n",
        "Then, we sample an output from the emission distribution, sample a transition from the transition distribution, and repeat.\n",
        "\n",
        "(Notice that we pass the unnormalized model parameters through a softmax function to make them into probabilities.)\n"
      ]
    },
    {
      "cell_type": "code",
      "metadata": {
        "id": "BpgkwNyVwmyM",
        "colab_type": "code",
        "colab": {}
      },
      "source": [
        "def sample(self, T=10):\n",
        "  state_priors = torch.nn.functional.softmax(self.unnormalized_state_priors, dim=0)\n",
        "  transition_matrix = torch.nn.functional.softmax(self.transition_model.unnormalized_transition_matrix, dim=1)\n",
        "  emission_matrix = torch.nn.functional.softmax(self.emission_model.unnormalized_emission_matrix, dim=1)\n",
        "\n",
        "  # sample initial state\n",
        "  z_t = torch.distributions.categorical.Categorical(state_priors).sample().item()\n",
        "  z = []; x = []\n",
        "  z.append(z_t)\n",
        "  for t in range(0,T):\n",
        "    # sample emission\n",
        "    x_t = torch.distributions.categorical.Categorical(emission_matrix[z_t]).sample().item()\n",
        "    x.append(x_t)\n",
        "\n",
        "    # sample transition\n",
        "    z_t = torch.distributions.categorical.Categorical(transition_matrix[:,z_t]).sample().item()\n",
        "    if t < T-1: z.append(z_t)\n",
        "\n",
        "  return x, z\n",
        "\n",
        "# Add the sampling method to our HMM class\n",
        "HMM.sample = sample"
      ],
      "execution_count": 0,
      "outputs": []
    },
    {
      "cell_type": "markdown",
      "metadata": {
        "id": "ohsdYScawkRG",
        "colab_type": "text"
      },
      "source": [
        "Let's try hard-coding an HMM for generating fake words. (We'll also add some helper functions for encoding and decoding strings.)\n",
        "\n",
        "We will assume that the system has one state for generating vowels and one state for generating consonants, and the transition matrix has 0s on the diagonal---in other words, the system cannot stay in the vowel state or the consonant state for one than one timestep; it has to switch.\n",
        "\n",
        "Since we pass the transition matrix through a softmax, to get 0s we set the unnormalized parameter values to $-\\infty$."
      ]
    },
    {
      "cell_type": "code",
      "metadata": {
        "id": "eyR7yv_3sBG3",
        "colab_type": "code",
        "outputId": "cb14ff46-9bac-40c6-c40d-b62cd9936723",
        "colab": {
          "base_uri": "https://localhost:8080/",
          "height": 187
        }
      },
      "source": [
        "import string\n",
        "alphabet = string.ascii_lowercase\n",
        "\n",
        "def encode(s):\n",
        "  \"\"\"\n",
        "  Convert a string into a list of integers\n",
        "  \"\"\"\n",
        "  x = [alphabet.index(ss) for ss in s]\n",
        "  return x\n",
        "\n",
        "def decode(x):\n",
        "  \"\"\"\n",
        "  Convert list of ints to string\n",
        "  \"\"\"\n",
        "  s = \"\".join([alphabet[xx] for xx in x])\n",
        "  return s\n",
        "\n",
        "# Initialize the model\n",
        "model = HMM(M=len(alphabet), N=2) \n",
        "\n",
        "# Hard-wiring the parameters!\n",
        "# Let state 0 = consonant, state 1 = vowel\n",
        "model.unnormalized_state_priors[0] = 0.    # Let's start with a consonant more frequently\n",
        "model.unnormalized_state_priors[1] = -0.5\n",
        "print(\"State priors:\", torch.nn.functional.softmax(model.unnormalized_state_priors, dim=0))\n",
        "\n",
        "# In state 0, only allow consonants; in state 1, only allow vowels\n",
        "vowel_indices = torch.tensor([alphabet.index(letter) for letter in \"aeiou\"])\n",
        "consonant_indices = torch.tensor([alphabet.index(letter) for letter in \"bcdfghjklmnpqrstvwxyz\"])\n",
        "model.emission_model.unnormalized_emission_matrix[0, vowel_indices] = -np.inf\n",
        "model.emission_model.unnormalized_emission_matrix[1, consonant_indices] = -np.inf \n",
        "print(\"Emission matrix:\", torch.nn.functional.softmax(model.emission_model.unnormalized_emission_matrix, dim=1))\n",
        "\n",
        "# Only allow vowel -> consonant and consonant -> vowel\n",
        "model.transition_model.unnormalized_transition_matrix[0,0] = -np.inf  # consonant -> consonant\n",
        "model.transition_model.unnormalized_transition_matrix[0,1] = 0.       # vowel -> consonant\n",
        "model.transition_model.unnormalized_transition_matrix[1,0] = 0.       # consonant -> vowel\n",
        "model.transition_model.unnormalized_transition_matrix[1,1] = -np.inf  # vowel -> vowel\n",
        "print(\"Transition matrix:\", torch.nn.functional.softmax(model.transition_model.unnormalized_transition_matrix, dim=1))\n",
        "\n"
      ],
      "execution_count": 0,
      "outputs": [
        {
          "output_type": "stream",
          "text": [
            "State priors: tensor([0.6225, 0.3775], device='cuda:0', grad_fn=<SoftmaxBackward>)\n",
            "Emission matrix: tensor([[0.0000, 0.1565, 0.0253, 0.0934, 0.0000, 0.0126, 0.0238, 0.0468, 0.0000,\n",
            "         0.0162, 0.1639, 0.1366, 0.0172, 0.0301, 0.0000, 0.0342, 0.0071, 0.0065,\n",
            "         0.0322, 0.0313, 0.0000, 0.0080, 0.0368, 0.0281, 0.0539, 0.0396],\n",
            "        [0.0508, 0.0000, 0.0000, 0.0000, 0.1702, 0.0000, 0.0000, 0.0000, 0.2490,\n",
            "         0.0000, 0.0000, 0.0000, 0.0000, 0.0000, 0.0348, 0.0000, 0.0000, 0.0000,\n",
            "         0.0000, 0.0000, 0.4951, 0.0000, 0.0000, 0.0000, 0.0000, 0.0000]],\n",
            "       device='cuda:0', grad_fn=<SoftmaxBackward>)\n",
            "Transition matrix: tensor([[0., 1.],\n",
            "        [1., 0.]], device='cuda:0', grad_fn=<SoftmaxBackward>)\n"
          ],
          "name": "stdout"
        }
      ]
    },
    {
      "cell_type": "markdown",
      "metadata": {
        "id": "KFaYq8jDttmi",
        "colab_type": "text"
      },
      "source": [
        "Try sampling from our hard-coded model:\n"
      ]
    },
    {
      "cell_type": "code",
      "metadata": {
        "id": "8latFMD7ua0X",
        "colab_type": "code",
        "outputId": "60c3d1f5-a801-4825-941c-f9364618fe5e",
        "colab": {
          "base_uri": "https://localhost:8080/",
          "height": 153
        }
      },
      "source": [
        "# Sample some outputs\n",
        "for _ in range(4):\n",
        "  sampled_x, sampled_z = model.sample(T=5)\n",
        "  print(\"x:\", decode(sampled_x))\n",
        "  print(\"z:\", sampled_z)"
      ],
      "execution_count": 0,
      "outputs": [
        {
          "output_type": "stream",
          "text": [
            "x: buyup\n",
            "z: [0, 1, 0, 1, 0]\n",
            "x: enabe\n",
            "z: [1, 0, 1, 0, 1]\n",
            "x: zehuk\n",
            "z: [0, 1, 0, 1, 0]\n",
            "x: xuliy\n",
            "z: [0, 1, 0, 1, 0]\n"
          ],
          "name": "stdout"
        }
      ]
    },
    {
      "cell_type": "markdown",
      "metadata": {
        "id": "hKzlTlfRgZod",
        "colab_type": "text"
      },
      "source": [
        "## The Three Problems\n",
        "\n",
        "In a [classic tutorial](https://www.cs.cmu.edu/~cga/behavior/rabiner1.pdf) on HMMs, Lawrence Rabiner describes \"three problems\" that need to be solved before you can effectively use an HMM. They are:\n",
        "- Problem 1: How do we efficiently compute $p(\\mathbf{x})$?\n",
        "- Problem 2: How do we find the most likely state sequence $\\mathbf{z}$ that could have generated the data? \n",
        "- Problem 3: How do we train the model?\n",
        "\n",
        "In the rest of the notebook, we will see how to solve each problem and implement the solutions in PyTorch."
      ]
    },
    {
      "cell_type": "markdown",
      "metadata": {
        "id": "v_RfIAnmN2RZ",
        "colab_type": "text"
      },
      "source": [
        "### Problem 1: How do we compute $p(\\mathbf{x})$?"
      ]
    },
    {
      "cell_type": "markdown",
      "metadata": {
        "id": "Z3zUUYH0giKV",
        "colab_type": "text"
      },
      "source": [
        "\n",
        "#### *Why?*\n",
        "Why might we care about computing $p(\\mathbf{x})$? Here's two reasons.\n",
        "* Given two HMMs, $\\theta_1$ and $\\theta_2$, we can compute the likelihood of some data $\\mathbf{x}$ under each model, $p_{\\theta_1}(\\mathbf{x})$ and $p_{\\theta_2}(\\mathbf{x})$, to decide which model is a better fit to the data. \n",
        "\n",
        "  (For example, given an HMM for English speech and an HMM for French speech, we could compute the likelihood given each model, and pick the model with the higher likelihood to infer whether the person is speaking English or French.)\n",
        "* Being able to compute $p(\\mathbf{x})$ gives us a way to train the model, as we will see later.\n",
        "\n",
        "#### *How?*\n",
        "Given that we want $p(\\mathbf{x})$, how do we compute it?\n",
        "\n",
        "We've assumed that the data is generated by visiting some sequence of states $\\mathbf{z}$ and picking an output $x_t$ for each $z_t$ from the emission distribution $p(x_t|z_t)$. So if we knew $\\mathbf{z}$, then the probability of $\\mathbf{x}$ could be computed as follows:\n",
        "\n",
        "$$p(\\mathbf{x}|\\mathbf{z}) = \\prod_{t} p(x_t|z_t) p(z_t|z_{t-1})$$\n",
        "\n",
        "However, we don't know $\\mathbf{z}$; it's hidden. But we do know the probability of any given $\\mathbf{z}$, independent of what we observe. So we could get the probability of $\\mathbf{x}$ by summing over the different possibilities for $\\mathbf{z}$, like this:\n",
        "\n",
        "$$p(\\mathbf{x}) = \\sum_{\\mathbf{z}} p(\\mathbf{x}|\\mathbf{z}) p(\\mathbf{z}) = \\sum_{\\mathbf{z}} \\prod_{t} p(x_t|z_t) p(z_t|z_{t-1})$$\n",
        "\n",
        "The problem is: if you try to take that sum directly, you will need to compute $N^T$ terms. This is impossible to do for anything but very short sequences. For example, let's say the sequence is of length $T=100$ and there are $N=2$ possible states. Then we would need to check $N^T = 2^{100} \\approx 10^{30}$ different possible state sequences.\n",
        "\n",
        "We need a way to compute $p(\\mathbf{x})$ that doesn't require us to explicitly calculate all $N^T$ terms. For this, we use the forward algorithm."
      ]
    },
    {
      "cell_type": "markdown",
      "metadata": {
        "id": "DrH0YdUAhS6J",
        "colab_type": "text"
      },
      "source": [
        "________\n",
        "\n",
        "<u><b>The Forward Algorithm</b></u>\n",
        "\n",
        "> for $s=1 \\rightarrow N$:\\\n",
        "> &nbsp;&nbsp;&nbsp;&nbsp;&nbsp;&nbsp;$\\alpha_{s,1} := b_s(x_1) \\cdot \\pi_s$ \n",
        "> \n",
        "> for $t = 2 \\rightarrow T$:\\\n",
        "> &nbsp;&nbsp;&nbsp;&nbsp;&nbsp;&nbsp;for $s = 1 \\rightarrow N$:\\\n",
        "> &nbsp;&nbsp;&nbsp;&nbsp;&nbsp;&nbsp;&nbsp;&nbsp;&nbsp;&nbsp;&nbsp;&nbsp;\n",
        "> $\\alpha_{s,t} := b_s(x_t) \\cdot \\underset{s'}{\\sum} A_{s, s'} \\cdot \\alpha_{s',t-1} $\n",
        "> \n",
        "> $p(\\mathbf{x}) := \\underset{s}{\\sum} \\alpha_{s,T}$\\\n",
        "> return $p(\\mathbf{x})$\n",
        "________\n"
      ]
    },
    {
      "cell_type": "markdown",
      "metadata": {
        "id": "bAdpwRiMn8Vn",
        "colab_type": "text"
      },
      "source": [
        "The forward algorithm is much faster than enumerating all $N^T$ possible state sequences: it requires only $O(N^2T)$ operations to run, since each step is mostly multiplying the vector of forward variables by the transition matrix. (And very often we can reduce that complexity even further, if the transition matrix is sparse.)\n",
        "\n",
        "There is one practical problem with the forward algorithm as presented above: it is prone to underflow due to multiplying a long chain of small numbers, since probabilities are always between 0 and 1. Instead, let's do everything in the log domain. In the log domain, a multiplication becomes a sum, and a sum becomes a [logsumexp](https://en.wikipedia.org/wiki/LogSumExp).  "
      ]
    },
    {
      "cell_type": "markdown",
      "metadata": {
        "id": "FZ8VsLFxA3iT",
        "colab_type": "text"
      },
      "source": [
        "________\n",
        "\n",
        "<u><b>The Forward Algorithm (Log Domain)</b></u>\n",
        "\n",
        "> for $s=1 \\rightarrow N$:\\\n",
        "> &nbsp;&nbsp;&nbsp;&nbsp;&nbsp;&nbsp;$\\text{log }\\alpha_{s,1} := \\text{log }b_s(x_1) + \\text{log }\\pi_s$ \n",
        "> \n",
        "> for $t = 2 \\rightarrow T$:\\\n",
        "> &nbsp;&nbsp;&nbsp;&nbsp;&nbsp;&nbsp;for $s = 1 \\rightarrow N$:\\\n",
        "> &nbsp;&nbsp;&nbsp;&nbsp;&nbsp;&nbsp;&nbsp;&nbsp;&nbsp;&nbsp;&nbsp;&nbsp;\n",
        "> $\\text{log }\\alpha_{s,t} := \\text{log }b_s(x_t) +  \\underset{s'}{\\text{logsumexp}} \\left( \\text{log }A_{s, s'} + \\text{log }\\alpha_{s',t-1} \\right)$\n",
        "> \n",
        "> $\\text{log }p(\\mathbf{x}) := \\underset{s}{\\text{logsumexp}} \\left( \\text{log }\\alpha_{s,T} \\right)$\\\n",
        "> return $\\text{log }p(\\mathbf{x})$\n",
        "________"
      ]
    },
    {
      "cell_type": "markdown",
      "metadata": {
        "id": "g55ik6ZCEiJU",
        "colab_type": "text"
      },
      "source": [
        "Now that we have a numerically stable version of the forward algorithm, let's implement it in PyTorch. "
      ]
    },
    {
      "cell_type": "code",
      "metadata": {
        "id": "3CMdK1EfE1SJ",
        "colab_type": "code",
        "colab": {}
      },
      "source": [
        "def HMM_forward(self, x, T):\n",
        "  \"\"\"\n",
        "  x : IntTensor of shape (batch size, T_max)\n",
        "  T : IntTensor of shape (batch size)\n",
        "\n",
        "  Compute log p(x) for each example in the batch.\n",
        "  T = length of each example\n",
        "  \"\"\"\n",
        "  if self.is_cuda:\n",
        "  \tx = x.cuda()\n",
        "  \tT = T.cuda()\n",
        "\n",
        "  batch_size = x.shape[0]; T_max = x.shape[1]\n",
        "  log_state_priors = torch.nn.functional.log_softmax(self.unnormalized_state_priors, dim=0)\n",
        "  log_alpha = torch.zeros(batch_size, T_max, self.N)\n",
        "  if self.is_cuda: log_alpha = log_alpha.cuda()\n",
        "\n",
        "  log_alpha[:, 0, :] = self.emission_model(x[:,0]) + log_state_priors\n",
        "  for t in range(1, T_max):\n",
        "    log_alpha[:, t, :] = self.emission_model(x[:,t]) + self.transition_model(log_alpha[:, t-1, :])\n",
        "\n",
        "  # Select the sum for the final timestep (each x may have different length).\n",
        "  log_sums = log_alpha.logsumexp(dim=2)\n",
        "  log_probs = torch.gather(log_sums, 1, T.view(-1,1) - 1)\n",
        "  return log_probs\n",
        "\n",
        "def emission_model_forward(self, x_t):\n",
        "  log_emission_matrix = torch.nn.functional.log_softmax(self.unnormalized_emission_matrix, dim=1)\n",
        "  out = log_emission_matrix[:, x_t].transpose(0,1)\n",
        "  return out\n",
        "\n",
        "def transition_model_forward(self, log_alpha):\n",
        "  \"\"\"\n",
        "  log_alpha : Tensor of shape (batch size, N)\n",
        "  Multiply previous timestep's alphas by transition matrix (in log domain)\n",
        "  \"\"\"\n",
        "  log_transition_matrix = torch.nn.functional.log_softmax(self.unnormalized_transition_matrix, dim=1)\n",
        "\n",
        "  # Matrix multiplication in the log domain\n",
        "  out = log_domain_matmul(log_transition_matrix, log_alpha.transpose(0,1)).transpose(0,1)\n",
        "  return out\n",
        "\n",
        "def log_domain_matmul(log_A, log_B):\n",
        "\t\"\"\"\n",
        "\tlog_A : m x n\n",
        "\tlog_B : n x p\n",
        "\toutput : m x p matrix\n",
        "\n",
        "\tNormally, a matrix multiplication\n",
        "\tcomputes out_{i,j} = sum_k A_{i,k} x B_{k,j}\n",
        "\n",
        "\tA log domain matrix multiplication\n",
        "\tcomputes out_{i,j} = logsumexp_k log_A_{i,k} + log_B_{k,j}\n",
        "\t\"\"\"\n",
        "\tm = log_A.shape[0]\n",
        "\tn = log_A.shape[1]\n",
        "\tp = log_B.shape[1]\n",
        "\n",
        "\tlog_A_expanded = torch.stack([log_A] * p, dim=2)\n",
        "\tlog_B_expanded = torch.stack([log_B] * m, dim=0)\n",
        "\n",
        "\telementwise_sum = log_A_expanded + log_B_expanded\n",
        "\tout = torch.logsumexp(elementwise_sum, dim=1)\n",
        "\n",
        "\treturn out\n",
        "\n",
        "TransitionModel.forward = transition_model_forward\n",
        "EmissionModel.forward = emission_model_forward\n",
        "HMM.forward = HMM_forward"
      ],
      "execution_count": 0,
      "outputs": []
    },
    {
      "cell_type": "markdown",
      "metadata": {
        "id": "y-fNnZfqGb1m",
        "colab_type": "text"
      },
      "source": [
        "Try running the forward algorithm on our vowels/consonants model from before:"
      ]
    },
    {
      "cell_type": "code",
      "metadata": {
        "id": "8rMAmf-UGhbw",
        "colab_type": "code",
        "outputId": "f50fadab-bc85-46cd-ad01-cd553a87a883",
        "colab": {
          "base_uri": "https://localhost:8080/",
          "height": 68
        }
      },
      "source": [
        "x = torch.stack( [torch.tensor(encode(\"cat\"))] )\n",
        "T = torch.tensor([3])\n",
        "print(model.forward(x, T))\n",
        "\n",
        "x = torch.stack( [torch.tensor(encode(\"aba\")), torch.tensor(encode(\"abb\"))] )\n",
        "T = torch.tensor([3,3])\n",
        "print(model.forward(x, T))"
      ],
      "execution_count": 0,
      "outputs": [
        {
          "output_type": "stream",
          "text": [
            "tensor([[-10.5923]], device='cuda:0', grad_fn=<GatherBackward>)\n",
            "tensor([[-8.7869],\n",
            "        [   -inf]], device='cuda:0', grad_fn=<GatherBackward>)\n"
          ],
          "name": "stdout"
        }
      ]
    },
    {
      "cell_type": "markdown",
      "metadata": {
        "id": "95TB2gvNHuLn",
        "colab_type": "text"
      },
      "source": [
        "When using the vowel <-> consonant HMM from above, notice that the forward algorithm returns $-\\infty$ for $\\mathbf{x} = \\text{\"abb\"}$. That's because our transition matrix says the probability of vowel -> vowel and consonant -> consonant is 0, so the probability of $\\text{\"abb\"}$ happening is 0, and thus the log probability is $-\\infty$."
      ]
    },
    {
      "cell_type": "markdown",
      "metadata": {
        "id": "qBCrFobsEM8X",
        "colab_type": "text"
      },
      "source": [
        "#### *Side note: deriving the forward algorithm*\n",
        "\n",
        "If you're interested in understanding how the forward algorithm actually computes $p(\\mathbf{x})$, read this section; if not, skip to the next part on \"Problem 2\" (finding the most likely state sequence)."
      ]
    },
    {
      "cell_type": "markdown",
      "metadata": {
        "id": "CpHWWKcxhjkx",
        "colab_type": "text"
      },
      "source": [
        "\n",
        "\n",
        "To derive the forward algorithm, start by deriving the forward variable:\n",
        "\n",
        "$$\\begin{align} \n",
        "    \\alpha_{s,t} &= p(x_1, x_2, \\dots, x_t, z_t=s) \\\\\n",
        "     &= p(x_t | x_1, x_2, \\dots, x_{t-1}, z_t = s) \\cdot p(x_1, x_2, \\dots, x_{t-1}, z_t = s)  \\\\ \n",
        "    &= p(x_t | z_t = s) \\cdot p(x_1, x_2, \\dots, x_{t-1}, z_t = s) \\\\\n",
        "    &= p(x_t | z_t = s) \\cdot \\left( \\sum_{s'} p(x_1, x_2, \\dots, x_{t-1}, z_{t-1}=s', z_t = s) \\right)\\\\\n",
        "    &= p(x_t | z_t = s) \\cdot \\left( \\sum_{s'} p(z_t = s | x_1, x_2, \\dots, x_{t-1}, z_{t-1}=s') \\cdot p(x_1, x_2, \\dots, x_{t-1}, z_{t-1}=s') \\right)\\\\\n",
        "    &= \\underbrace{p(x_t | z_t = s)}_{\\text{emission model}} \\cdot \\left( \\sum_{s'} \\underbrace{p(z_t = s | z_{t-1}=s')}_{\\text{transition model}} \\cdot \\underbrace{p(x_1, x_2, \\dots, x_{t-1}, z_{t-1}=s')}_{\\text{forward variable for previous timestep}} \\right)\\\\\n",
        "    &= b_s(x_t) \\cdot \\left( \\sum_{s'} A_{s, s'} \\cdot \\alpha_{s',t-1} \\right)\n",
        "    \\end{align}$$\n",
        "\n",
        "I'll explain how to get to each line of this equation from the previous line. \n",
        "\n",
        "Line 1 is the definition of the forward variable $\\alpha_{s,t}$.\n",
        "\n",
        "Line 2 is the chain rule ($p(A,B) = p(A|B) \\cdot p(B)$, where $A$ is $x_t$ and $B$ is all the other variables).\n",
        "\n",
        "In Line 3, we apply Assumption 2: the probability of observation $x_t$ depends only on the current state $z_t$.\n",
        "\n",
        "In Line 4, we marginalize over all the possible states in the previous timestep $t-1$.\n",
        "\n",
        "In Line 5, we apply the chain rule again.\n",
        "\n",
        "In Line 6, we apply Assumption 1: the current state depends only on the previous state.\n",
        "\n",
        "In Line 7, we substitute in the emission probability, the transition probability, and the forward variable for the previous timestep, to get the complete recursion."
      ]
    },
    {
      "cell_type": "markdown",
      "metadata": {
        "id": "kh1ovNjWDbIA",
        "colab_type": "text"
      },
      "source": [
        "The formula above can be used for $t = 2 \\rightarrow T$. At $t=1$, there is no previous state, so instead of the transition matrix $A$, we use the state priors $\\pi$, which tell us the probability of starting in each state. Thus for $t=1$, the forward variables are computed as follows:\n",
        "\n",
        "$$\\begin{align} \n",
        "\\alpha_{s,1} &= p(x_1, z_1=s) \\\\\n",
        "  &= p(x_1 | z_1 = s) \\cdot p(z_1 = s)  \\\\ \n",
        "&= b_s(x_1) \\cdot \\pi_s\n",
        "\\end{align}$$"
      ]
    },
    {
      "cell_type": "markdown",
      "metadata": {
        "id": "RRzSqkRkEWKX",
        "colab_type": "text"
      },
      "source": [
        "Finally, to compute $p(\\mathbf{x}) = p(x_1, x_2, \\dots, x_T)$, we marginalize over $\\alpha_{s,T}$, the forward variables computed in the last timestep:\n",
        "\n",
        "$$\\begin{align*} \n",
        "p(\\mathbf{x}) &= \\sum_{s} p(x_1, x_2, \\dots, x_T, z_T = s) \\\\ \n",
        "&= \\sum_{s} \\alpha_{s,T}\n",
        "\\end{align*}$$"
      ]
    },
    {
      "cell_type": "markdown",
      "metadata": {
        "id": "qLBU8Iu7I5Tb",
        "colab_type": "text"
      },
      "source": [
        "You can get from this formulation to the log domain formulation by taking the log of the forward variable, and using these identities:\n",
        "- $\\text{log }(a \\cdot b) = \\text{log }a + \\text{log }b$\n",
        "- $\\text{log }(a + b) = \\text{log }(e^{\\text{log }a} + e^{\\text{log }b}) = \\text{logsumexp}(\\text{log }a, \\text{log }b)$"
      ]
    },
    {
      "cell_type": "markdown",
      "metadata": {
        "id": "bxivzF8hgpiW",
        "colab_type": "text"
      },
      "source": [
        "### Problem 2: How do we compute $\\underset{\\mathbf{z}}{\\text{argmax }} p(\\mathbf{z}|\\mathbf{x})$?"
      ]
    },
    {
      "cell_type": "markdown",
      "metadata": {
        "id": "c1Kv2yyiN7SX",
        "colab_type": "text"
      },
      "source": [
        "Given an observation sequence $\\mathbf{x}$, we may want to find the most likely sequence of states that could have generated $\\mathbf{x}$. (Given the sequence of selfies, we want to infer what cities the friend visited.) In other words, we want $\\underset{\\mathbf{z}}{\\text{argmax }} p(\\mathbf{z}|\\mathbf{x})$.\n",
        "\n",
        "We can use Bayes' rule to rewrite this expression:\n",
        "    $$\\begin{align*} \n",
        "    \\underset{\\mathbf{z}}{\\text{argmax }} p(\\mathbf{z}|\\mathbf{x}) &= \\underset{\\mathbf{z}}{\\text{argmax }} \\frac{p(\\mathbf{x}|\\mathbf{z}) p(\\mathbf{z})}{p(\\mathbf{x})} \\\\ \n",
        "    &= \\underset{\\mathbf{z}}{\\text{argmax }} p(\\mathbf{x}|\\mathbf{z}) p(\\mathbf{z})\n",
        "    \\end{align*}$$\n",
        "\n",
        "Hmm! That last expression, $\\underset{\\mathbf{z}}{\\text{argmax }} p(\\mathbf{x}|\\mathbf{z}) p(\\mathbf{z})$, looks suspiciously similar to the intractable expression we encountered before introducing the forward algorithm, $\\underset{\\mathbf{z}}{\\sum} p(\\mathbf{x}|\\mathbf{z}) p(\\mathbf{z})$.\n",
        "\n",
        "And indeed, just as the intractable *sum* over all $\\mathbf{z}$ can be implemented efficiently using the forward algorithm, so too this intractable *argmax* can be implemented efficiently using a similar divide-and-conquer algorithm: the legendary Viterbi algorithm!"
      ]
    },
    {
      "cell_type": "markdown",
      "metadata": {
        "id": "niKZEX5xWeWR",
        "colab_type": "text"
      },
      "source": [
        "________\n",
        "\n",
        "<u><b>The Viterbi Algorithm</b></u>\n",
        "\n",
        "> for $s=1 \\rightarrow N$:\\\n",
        "> &nbsp;&nbsp;&nbsp;&nbsp;&nbsp;&nbsp;$\\delta_{s,1} := b_s(x_1) \\cdot \\pi_s$\\\n",
        "> &nbsp;&nbsp;&nbsp;&nbsp;&nbsp;&nbsp;$\\psi_{s,1} := 0$\n",
        ">\n",
        "> for $t = 2 \\rightarrow T$:\\\n",
        "> &nbsp;&nbsp;&nbsp;&nbsp;&nbsp;&nbsp;for $s = 1 \\rightarrow N$:\\\n",
        "> &nbsp;&nbsp;&nbsp;&nbsp;&nbsp;&nbsp;&nbsp;&nbsp;&nbsp;&nbsp;&nbsp;&nbsp;$\\delta_{s,t} := b_s(x_t) \\cdot \\left( \\underset{s'}{\\text{max }} A_{s, s'} \\cdot \\delta_{s',t-1} \\right)$\\\n",
        "&nbsp;&nbsp;&nbsp;&nbsp;&nbsp;&nbsp;&nbsp;&nbsp;&nbsp;&nbsp;&nbsp;&nbsp;$\\psi_{s,t} := \\underset{s'}{\\text{argmax }} A_{s, s'} \\cdot \\delta_{s',t-1}$\n",
        "> \n",
        "> $z_T^* := \\underset{s}{\\text{argmax }} \\delta_{s,T}$\\\n",
        "> for $t = T-1 \\rightarrow 1$:\\\n",
        "&nbsp;&nbsp;&nbsp;&nbsp;&nbsp;&nbsp;$z_{t}^* := \\psi_{z_{t+1}^*,t+1}$\n",
        "> \n",
        "> $\\mathbf{z}^* := \\{z_{1}^*, \\dots, z_{T}^* \\}$\\\n",
        "return $\\mathbf{z}^*$\n",
        "________"
      ]
    },
    {
      "cell_type": "markdown",
      "metadata": {
        "id": "UcHVTCucZV6K",
        "colab_type": "text"
      },
      "source": [
        "The Viterbi algorithm looks somewhat gnarlier than the forward algorithm, but it is essentially the same algorithm, with two tweaks: 1) instead of taking the sum over previous states, we take the max; and 2) we record the argmax of the previous states in a table, and loop back over this table at the end to get $\\mathbf{z}^*$, the most likely state sequence. (And like the forward algorithm, we should run the Viterbi algorithm in the log domain for better numerical stability.) "
      ]
    },
    {
      "cell_type": "markdown",
      "metadata": {
        "id": "NlN7IY_JZ5A-",
        "colab_type": "text"
      },
      "source": [
        "Let's add the Viterbi algorithm to our PyTorch model:"
      ]
    },
    {
      "cell_type": "code",
      "metadata": {
        "id": "qeDG8DVmZ-P0",
        "colab_type": "code",
        "colab": {}
      },
      "source": [
        "def viterbi(self, x, T):\n",
        "  \"\"\"\n",
        "  x : IntTensor of shape (batch size, T_max)\n",
        "  T : IntTensor of shape (batch size)\n",
        "  Find argmax_z log p(x|z) for each (x) in the batch.\n",
        "  \"\"\"\n",
        "  if self.is_cuda:\n",
        "    x = x.cuda()\n",
        "    T = T.cuda()\n",
        "\n",
        "  batch_size = x.shape[0]; T_max = x.shape[1]\n",
        "  log_state_priors = torch.nn.functional.log_softmax(self.unnormalized_state_priors, dim=0)\n",
        "  log_delta = torch.zeros(batch_size, T_max, self.N).float()\n",
        "  psi = torch.zeros(batch_size, T_max, self.N).long()\n",
        "  if self.is_cuda:\n",
        "    log_delta = log_delta.cuda()\n",
        "    psi = psi.cuda()\n",
        "\n",
        "  log_delta[:, 0, :] = self.emission_model(x[:,0]) + log_state_priors\n",
        "  for t in range(1, T_max):\n",
        "    max_val, argmax_val = self.transition_model.maxmul(log_delta[:, t-1, :])\n",
        "    log_delta[:, t, :] = self.emission_model(x[:,t]) + max_val\n",
        "    psi[:, t, :] = argmax_val\n",
        "\n",
        "  # Get the log probability of the best path\n",
        "  log_max = log_delta.max(dim=2)[0]\n",
        "  best_path_scores = torch.gather(log_max, 1, T.view(-1,1) - 1)\n",
        "\n",
        "  # This next part is a bit tricky to parallelize across the batch,\n",
        "  # so we will do it separately for each example.\n",
        "  z_star = []\n",
        "  for i in range(0, batch_size):\n",
        "    z_star_i = [ log_delta[i, T[i] - 1, :].max(dim=0)[1].item() ]\n",
        "    for t in range(T[i] - 1, 0, -1):\n",
        "      z_t = psi[i, t, z_star_i[0]].item()\n",
        "      z_star_i.insert(0, z_t)\n",
        "\n",
        "    z_star.append(z_star_i)\n",
        "\n",
        "  return z_star, best_path_scores # return both the best path and its log probability\n",
        "\n",
        "def transition_model_maxmul(self, log_alpha):\n",
        "  log_transition_matrix = torch.nn.functional.log_softmax(self.unnormalized_transition_matrix, dim=1)\n",
        "\n",
        "  out1, out2 = maxmul(log_transition_matrix, log_alpha.transpose(0,1))\n",
        "  return out1.transpose(0,1), out2.transpose(0,1)\n",
        "\n",
        "def maxmul(log_A, log_B):\n",
        "\t\"\"\"\n",
        "\tlog_A : m x n\n",
        "\tlog_B : n x p\n",
        "\toutput : m x p matrix\n",
        "\n",
        "\tSimilar to the log domain matrix multiplication,\n",
        "\tthis computes out_{i,j} = max_k log_A_{i,k} + log_B_{k,j}\n",
        "\t\"\"\"\n",
        "\tm = log_A.shape[0]\n",
        "\tn = log_A.shape[1]\n",
        "\tp = log_B.shape[1]\n",
        "\n",
        "\tlog_A_expanded = torch.stack([log_A] * p, dim=2)\n",
        "\tlog_B_expanded = torch.stack([log_B] * m, dim=0)\n",
        "\n",
        "\telementwise_sum = log_A_expanded + log_B_expanded\n",
        "\tout1,out2 = torch.max(elementwise_sum, dim=1)\n",
        "\n",
        "\treturn out1,out2\n",
        "\n",
        "TransitionModel.maxmul = transition_model_maxmul\n",
        "HMM.viterbi = viterbi"
      ],
      "execution_count": 0,
      "outputs": []
    },
    {
      "cell_type": "markdown",
      "metadata": {
        "id": "uTGOaeXbaWie",
        "colab_type": "text"
      },
      "source": [
        "Try running Viterbi on an input sequence, given the vowel/consonant HMM:"
      ]
    },
    {
      "cell_type": "code",
      "metadata": {
        "id": "zeOTbaIMc23d",
        "colab_type": "code",
        "outputId": "04ce3d10-69d7-49b2-8320-1e4b8c16afe5",
        "colab": {
          "base_uri": "https://localhost:8080/",
          "height": 51
        }
      },
      "source": [
        "x = torch.stack( [torch.tensor(encode(\"aba\")), torch.tensor(encode(\"abb\"))] )\n",
        "T = torch.tensor([3,3])\n",
        "print(model.viterbi(x, T))"
      ],
      "execution_count": 0,
      "outputs": [
        {
          "output_type": "stream",
          "text": [
            "([[1, 0, 1], [1, 0, 0]], tensor([[-8.7869],\n",
            "        [   -inf]], device='cuda:0', grad_fn=<GatherBackward>))\n"
          ],
          "name": "stdout"
        }
      ]
    },
    {
      "cell_type": "markdown",
      "metadata": {
        "id": "fKr8YlafdzBx",
        "colab_type": "text"
      },
      "source": [
        "For $\\mathbf{x} = \\text{\"aba\"}$, the Viterbi algorithm returns $\\mathbf{z}^* = \\{1,0,1\\}$. This corresponds to \"vowel, consonant, vowel\" according to the way we defined the states above, which is correct for this input sequence. Yay!\n",
        "\n",
        "For $\\mathbf{x} = \\text{\"abb\"}$, the Viterbi algorithm still returns a $\\mathbf{z}^*$, but we know this is gibberish because \"vowel, consonant, consonant\" is impossible under this HMM, and indeed the log probability of this path is $-\\infty$."
      ]
    },
    {
      "cell_type": "markdown",
      "metadata": {
        "id": "nCWw0_WienO_",
        "colab_type": "text"
      },
      "source": [
        "Let's compare the \"forward score\" (the log probability of all possible paths, returned by the forward algorithm) with the \"Viterbi score\" (the log probability of the maximum likelihood path, returned by the Viterbi algorithm):"
      ]
    },
    {
      "cell_type": "code",
      "metadata": {
        "id": "L9fBOHvdeqWC",
        "colab_type": "code",
        "outputId": "3e1ef81a-0240-416e-979a-7a9b3f4147f8",
        "colab": {
          "base_uri": "https://localhost:8080/",
          "height": 85
        }
      },
      "source": [
        "print(model.forward(x, T))\n",
        "print(model.viterbi(x, T)[1])"
      ],
      "execution_count": 0,
      "outputs": [
        {
          "output_type": "stream",
          "text": [
            "tensor([[-8.7869],\n",
            "        [   -inf]], device='cuda:0', grad_fn=<GatherBackward>)\n",
            "tensor([[-8.7869],\n",
            "        [   -inf]], device='cuda:0', grad_fn=<GatherBackward>)\n"
          ],
          "name": "stdout"
        }
      ]
    },
    {
      "cell_type": "markdown",
      "metadata": {
        "id": "InF6PJVOfHwH",
        "colab_type": "text"
      },
      "source": [
        "The two scores are the same! That's because in this instance there is only one possible path through the HMM, so the probability of the most likely path is the same as the sum of the probabilities of all possible paths.\n",
        "\n",
        "In general, though, the forward score and Viterbi score will always be somewhat close. This is because of a property of the $\\text{logsumexp}$ function: $\\text{logsumexp}(\\mathbf{x}) \\approx \\max (\\mathbf{x})$. ($\\text{logsumexp}$ is sometimes referred to as the \"smooth maximum\" function.)"
      ]
    },
    {
      "cell_type": "code",
      "metadata": {
        "id": "x__70tB6gnkF",
        "colab_type": "code",
        "outputId": "3a218588-aad1-426a-f0d6-d71fb7b20124",
        "colab": {
          "base_uri": "https://localhost:8080/",
          "height": 51
        }
      },
      "source": [
        "x = torch.tensor([1., 2., 3.])\n",
        "print(x.max(dim=0)[0])\n",
        "print(x.logsumexp(dim=0))"
      ],
      "execution_count": 0,
      "outputs": [
        {
          "output_type": "stream",
          "text": [
            "tensor(3.)\n",
            "tensor(3.4076)\n"
          ],
          "name": "stdout"
        }
      ]
    },
    {
      "cell_type": "markdown",
      "metadata": {
        "id": "SvFtiWhzgy0V",
        "colab_type": "text"
      },
      "source": [
        "### Problem 3: How do we train the model?\n",
        "\n",
        "\n",
        "\n"
      ]
    },
    {
      "cell_type": "markdown",
      "metadata": {
        "id": "r3JaykRalSBZ",
        "colab_type": "text"
      },
      "source": [
        "Earlier, we hard-coded an HMM to have certain behavior. What we would like to do instead is have the HMM learn to model the data on its own. And while it is possible to use supervised learning with an HMM (by hard-coding the emission model or the transition model) so that the states have a particular interpretation, the really cool thing about HMMs is that they are naturally unsupervised learners, so they can learn to use their different states to represent different patterns in the data, without the programmer needing to indicate what each state means."
      ]
    },
    {
      "cell_type": "markdown",
      "metadata": {
        "id": "8K471fT4N-PR",
        "colab_type": "text"
      },
      "source": [
        "Like many machine learning models, an HMM can be trained using maximum likelihood estimation, i.e.:\n",
        "\n",
        "$$\\theta^* = \\underset{\\theta}{\\text{argmin }} -\\sum_{\\mathbf{x}^i}\\text{log }p_{\\theta}(\\mathbf{x}^i)$$\n",
        "\n",
        "where $\\mathbf{x}^1, \\mathbf{x}^2, \\dots$ are training examples. \n",
        "\n",
        "The standard method for doing this is the Expectation-Maximization (EM) algorithm, which for HMMs is also called the \"Baum-Welch\" algorithm. In EM training, we alternate between an \"E-step\", where we estimate the values of the latent variables, and an \"M-step\", where the model parameters are updated given the estimated latent variables. (Think $k$-means, where you guess which cluster each data point belongs to, then reestimate where the clusters are, and repeat.) The EM algorithm has some nice properties: it is guaranteed at each step to decrease the loss function, and the E-step and M-step may have an exact closed form solution, in which case no pesky learning rates are required.\n",
        "\n",
        "But because the HMM forward algorithm is differentiable with respect to all the model parameters, we can also just take advantage of automatic differentiation methods in libraries like PyTorch and try to minimize $-\\text{log }p_{\\theta}(\\mathbf{x})$ directly, by backpropagating through the forward algorithm and running stochastic gradient descent. That means we don't need to write any additional HMM code to implement training: `loss.backward()` is all you need."
      ]
    },
    {
      "cell_type": "markdown",
      "metadata": {
        "id": "aVh0-369qZDC",
        "colab_type": "text"
      },
      "source": [
        "Here we will implement SGD training for an HMM in PyTorch. First, some helper classes:"
      ]
    },
    {
      "cell_type": "code",
      "metadata": {
        "id": "KqiFobGHwdzc",
        "colab_type": "code",
        "colab": {}
      },
      "source": [
        "import torch.utils.data\n",
        "from collections import Counter\n",
        "from sklearn.model_selection import train_test_split\n",
        "\n",
        "class TextDataset(torch.utils.data.Dataset):\n",
        "  def __init__(self, lines):\n",
        "    self.lines = lines # list of strings\n",
        "    collate = Collate() # function for generating a minibatch from strings\n",
        "    self.loader = torch.utils.data.DataLoader(self, batch_size=1024, num_workers=1, shuffle=True, collate_fn=collate)\n",
        "\n",
        "  def __len__(self):\n",
        "    return len(self.lines)\n",
        "\n",
        "  def __getitem__(self, idx):\n",
        "    line = self.lines[idx].lstrip(\" \").rstrip(\"\\n\").rstrip(\" \").rstrip(\"\\n\")\n",
        "    return line\n",
        "\n",
        "class Collate:\n",
        "  def __init__(self):\n",
        "    pass\n",
        "\n",
        "  def __call__(self, batch):\n",
        "    \"\"\"\n",
        "    Returns a minibatch of strings, padded to have the same length.\n",
        "    \"\"\"\n",
        "    x = []\n",
        "    batch_size = len(batch)\n",
        "    for index in range(batch_size):\n",
        "      x_ = batch[index]\n",
        "\n",
        "      # convert letters to integers\n",
        "      x.append(encode(x_))\n",
        "\n",
        "    # pad all sequences with 0 to have same length\n",
        "    x_lengths = [len(x_) for x_ in x]\n",
        "    T = max(x_lengths)\n",
        "    for index in range(batch_size):\n",
        "      x[index] += [0] * (T - len(x[index]))\n",
        "      x[index] = torch.tensor(x[index])\n",
        "\n",
        "    # stack into single tensor\n",
        "    x = torch.stack(x)\n",
        "    x_lengths = torch.tensor(x_lengths)\n",
        "    return (x,x_lengths)"
      ],
      "execution_count": 0,
      "outputs": []
    },
    {
      "cell_type": "markdown",
      "metadata": {
        "id": "YpDpwnPnAEA9",
        "colab_type": "text"
      },
      "source": [
        "Let's load some training/testing data. By default, this will use the unix \"words\" file, but you could also use your own text file."
      ]
    },
    {
      "cell_type": "code",
      "metadata": {
        "id": "52NqFHg8ANsB",
        "colab_type": "code",
        "outputId": "d6d5c1a2-2616-484e-fb87-23897cd46c61",
        "colab": {
          "base_uri": "https://localhost:8080/",
          "height": 204
        }
      },
      "source": [
        "!wget https://raw.githubusercontent.com/lorenlugosch/pytorch_HMM/master/data/train/training.txt\n",
        "\n",
        "filename = \"training.txt\"\n",
        "\n",
        "with open(filename, \"r\") as f:\n",
        "  lines = f.readlines() # each line of lines will have one word\n",
        "\n",
        "alphabet = list(Counter((\"\".join(lines))).keys())\n",
        "train_lines, valid_lines = train_test_split(lines, test_size=0.1, random_state=42)\n",
        "train_dataset = TextDataset(train_lines)\n",
        "valid_dataset = TextDataset(valid_lines)\n",
        "\n",
        "M = len(alphabet)"
      ],
      "execution_count": 0,
      "outputs": [
        {
          "output_type": "stream",
          "text": [
            "--2020-01-28 19:13:21--  https://raw.githubusercontent.com/lorenlugosch/pytorch_HMM/master/data/train/training.txt\n",
            "Resolving raw.githubusercontent.com (raw.githubusercontent.com)... 151.101.0.133, 151.101.64.133, 151.101.128.133, ...\n",
            "Connecting to raw.githubusercontent.com (raw.githubusercontent.com)|151.101.0.133|:443... connected.\n",
            "HTTP request sent, awaiting response... 200 OK\n",
            "Length: 2493109 (2.4M) [text/plain]\n",
            "Saving to: ‘training.txt’\n",
            "\n",
            "training.txt        100%[===================>]   2.38M  --.-KB/s    in 0.1s    \n",
            "\n",
            "2020-01-28 19:13:26 (22.5 MB/s) - ‘training.txt’ saved [2493109/2493109]\n",
            "\n"
          ],
          "name": "stdout"
        }
      ]
    },
    {
      "cell_type": "markdown",
      "metadata": {
        "id": "H0AqmyrK7IUn",
        "colab_type": "text"
      },
      "source": [
        "We will use a Trainer class for training and testing the model:\n",
        "\n"
      ]
    },
    {
      "cell_type": "code",
      "metadata": {
        "id": "iypy_neX9cpq",
        "colab_type": "code",
        "colab": {}
      },
      "source": [
        "from tqdm import tqdm # for displaying progress bar\n",
        "\n",
        "class Trainer:\n",
        "  def __init__(self, model, lr):\n",
        "    self.model = model\n",
        "    self.lr = lr\n",
        "    self.optimizer = torch.optim.Adam(model.parameters(), lr=self.lr, weight_decay=0.00001)\n",
        "  \n",
        "  def train(self, dataset):\n",
        "    train_loss = 0\n",
        "    num_samples = 0\n",
        "    self.model.train()\n",
        "    print_interval = 50\n",
        "    for idx, batch in enumerate(tqdm(dataset.loader)):\n",
        "      x,T = batch\n",
        "      batch_size = len(x)\n",
        "      num_samples += batch_size\n",
        "      log_probs = self.model(x,T)\n",
        "      loss = -log_probs.mean()\n",
        "      self.optimizer.zero_grad()\n",
        "      loss.backward()\n",
        "      self.optimizer.step()\n",
        "      train_loss += loss.cpu().data.numpy().item() * batch_size\n",
        "      if idx % print_interval == 0:\n",
        "        print(\"loss:\", loss.item())\n",
        "        for _ in range(5):\n",
        "          sampled_x, sampled_z = self.model.sample()\n",
        "          print(decode(sampled_x))\n",
        "          print(sampled_z)\n",
        "    train_loss /= num_samples\n",
        "    return train_loss\n",
        "\n",
        "  def test(self, dataset):\n",
        "    test_loss = 0\n",
        "    num_samples = 0\n",
        "    self.model.eval()\n",
        "    print_interval = 50\n",
        "    for idx, batch in enumerate(dataset.loader):\n",
        "      x,T = batch\n",
        "      batch_size = len(x)\n",
        "      num_samples += batch_size\n",
        "      log_probs = self.model(x,T)\n",
        "      loss = -log_probs.mean()\n",
        "      test_loss += loss.cpu().data.numpy().item() * batch_size\n",
        "      if idx % print_interval == 0:\n",
        "        print(\"loss:\", loss.item())\n",
        "        sampled_x, sampled_z = self.model.sample()\n",
        "        print(decode(sampled_x))\n",
        "        print(sampled_z)\n",
        "    test_loss /= num_samples\n",
        "    return test_loss"
      ],
      "execution_count": 0,
      "outputs": []
    },
    {
      "cell_type": "markdown",
      "metadata": {
        "id": "mUR8qbHm9dMg",
        "colab_type": "text"
      },
      "source": [
        "Finally, initialize the model and run the main training loop. Every 50 batches, the code will produce a few samples from the model. Over time, these samples should look more and more realistic."
      ]
    },
    {
      "cell_type": "code",
      "metadata": {
        "id": "1-NGIK1Q9g2C",
        "colab_type": "code",
        "outputId": "2c87ee9e-3ad0-470a-d4e0-12a2d3ff4c07",
        "colab": {
          "base_uri": "https://localhost:8080/",
          "height": 1000
        }
      },
      "source": [
        "# Initialize model\n",
        "model = HMM(N=64, M=M)\n",
        "\n",
        "# Train the model\n",
        "num_epochs = 10\n",
        "trainer = Trainer(model, lr=0.01)\n",
        "\n",
        "for epoch in range(num_epochs):\n",
        "        print(\"========= Epoch %d of %d =========\" % (epoch+1, num_epochs))\n",
        "        train_loss = trainer.train(train_dataset)\n",
        "        valid_loss = trainer.test(valid_dataset)\n",
        "\n",
        "        print(\"========= Results: epoch %d of %d =========\" % (epoch+1, num_epochs))\n",
        "        print(\"train loss: %.2f| valid loss: %.2f\\n\" % (train_loss, valid_loss) )"
      ],
      "execution_count": 0,
      "outputs": [
        {
          "output_type": "stream",
          "text": [
            "\r  0%|          | 0/208 [00:00<?, ?it/s]"
          ],
          "name": "stderr"
        },
        {
          "output_type": "stream",
          "text": [
            "========= Epoch 1 of 10 =========\n"
          ],
          "name": "stdout"
        },
        {
          "output_type": "stream",
          "text": [
            "\r  0%|          | 1/208 [00:00<01:25,  2.42it/s]"
          ],
          "name": "stderr"
        },
        {
          "output_type": "stream",
          "text": [
            "loss: 37.582481384277344\n",
            "VxKGP\n",
            "\n",
            "OCJ\n",
            "[31, 37, 40, 4, 3, 29, 37, 45, 11, 29]\n",
            "tlrZYbAzdd\n",
            "[55, 31, 47, 55, 44, 40, 43, 49, 36, 20]\n",
            "bdNS\n",
            "jakwe\n",
            "[55, 42, 5, 16, 26, 37, 49, 57, 55, 8]\n",
            "guTrnXmdUh\n",
            "[8, 54, 40, 7, 28, 35, 35, 6, 37, 25]\n",
            "CasaRIOZpa\n",
            "[40, 4, 5, 55, 5, 58, 53, 46, 32, 48]\n"
          ],
          "name": "stdout"
        },
        {
          "output_type": "stream",
          "text": [
            " 25%|██▍       | 51/208 [00:16<00:53,  2.96it/s]"
          ],
          "name": "stderr"
        },
        {
          "output_type": "stream",
          "text": [
            "loss: 33.11034393310547\n",
            "oZteXuAqdo\n",
            "[12, 46, 5, 13, 22, 57, 20, 23, 63, 10]\n",
            "oFgcusjdDW\n",
            "[47, 47, 38, 31, 9, 16, 34, 20, 59, 9]\n",
            "LxSHijFVtz\n",
            "[59, 28, 3, 1, 22, 9, 32, 53, 42, 4]\n",
            "-YgiishZtX\n",
            "[43, 1, 31, 7, 53, 52, 54, 35, 62, 22]\n",
            "BHMITaHpLs\n",
            "[26, 52, 39, 58, 56, 18, 36, 45, 4, 44]\n"
          ],
          "name": "stdout"
        },
        {
          "output_type": "stream",
          "text": [
            " 49%|████▊     | 101/208 [00:32<00:33,  3.17it/s]"
          ],
          "name": "stderr"
        },
        {
          "output_type": "stream",
          "text": [
            "loss: 29.39785385131836\n",
            "pgvlabflda\n",
            "[45, 39, 11, 51, 19, 31, 51, 25, 38, 12]\n",
            "rZih\n",
            "gjYdo\n",
            "[57, 52, 61, 39, 37, 39, 1, 39, 51, 3]\n",
            "alistcnloe\n",
            "[55, 12, 7, 8, 33, 24, 25, 28, 3, 49]\n",
            "Tndodjmtpq\n",
            "[26, 61, 44, 24, 49, 10, 26, 8, 59, 9]\n",
            "indTtlraVb\n",
            "[10, 44, 18, 23, 18, 28, 53, 35, 31, 31]\n"
          ],
          "name": "stdout"
        },
        {
          "output_type": "stream",
          "text": [
            " 73%|███████▎  | 151/208 [00:48<00:18,  3.10it/s]"
          ],
          "name": "stderr"
        },
        {
          "output_type": "stream",
          "text": [
            "loss: 26.592235565185547\n",
            "\n",
            "Ocappmuml\n",
            "[63, 62, 21, 50, 21, 3, 41, 30, 60, 37]\n",
            "rnpWelsfaT\n",
            "[59, 11, 53, 56, 43, 7, 60, 28, 14, 0]\n",
            "aHeRysKVTy\n",
            "[62, 42, 13, 19, 49, 29, 36, 43, 0, 27]\n",
            "stgngcukIs\n",
            "[55, 3, 0, 56, 33, 54, 16, 50, 54, 58]\n",
            "heruudcaqc\n",
            "[38, 8, 5, 54, 24, 30, 51, 55, 50, 37]\n"
          ],
          "name": "stdout"
        },
        {
          "output_type": "stream",
          "text": [
            " 97%|█████████▋| 201/208 [01:03<00:02,  3.18it/s]"
          ],
          "name": "stderr"
        },
        {
          "output_type": "stream",
          "text": [
            "loss: 24.756166458129883\n",
            "nrSgirgjgg\n",
            "[41, 47, 49, 34, 0, 2, 39, 2, 39, 39]\n",
            "SteaPhpnyg\n",
            "[16, 30, 61, 35, 7, 21, 45, 29, 37, 24]\n",
            "aededlmlhL\n",
            "[6, 43, 51, 15, 42, 55, 60, 41, 21, 46]\n",
            "hlndySefCe\n",
            "[55, 41, 0, 20, 50, 20, 23, 58, 37, 26]\n",
            "teitiQpqng\n",
            "[55, 8, 61, 5, 4, 24, 63, 45, 11, 32]\n"
          ],
          "name": "stdout"
        },
        {
          "output_type": "stream",
          "text": [
            "100%|██████████| 208/208 [01:05<00:00,  3.94it/s]\n"
          ],
          "name": "stderr"
        },
        {
          "output_type": "stream",
          "text": [
            "loss: 24.631101608276367\n",
            "hybcycbnYn\n",
            "[38, 27, 24, 12, 15, 61, 31, 51, 46, 46]\n"
          ],
          "name": "stdout"
        },
        {
          "output_type": "stream",
          "text": [
            "\r  0%|          | 0/208 [00:00<?, ?it/s]"
          ],
          "name": "stderr"
        },
        {
          "output_type": "stream",
          "text": [
            "========= Results: epoch 1 of 10 =========\n",
            "train loss: 30.02| valid loss: 24.83\n",
            "\n",
            "========= Epoch 2 of 10 =========\n"
          ],
          "name": "stdout"
        },
        {
          "output_type": "stream",
          "text": [
            "\r  0%|          | 1/208 [00:00<01:20,  2.58it/s]"
          ],
          "name": "stderr"
        },
        {
          "output_type": "stream",
          "text": [
            "loss: 24.459197998046875\n",
            "laorHXsnld\n",
            "[38, 6, 57, 26, 62, 22, 7, 29, 5, 3]\n",
            "dIardPbgNy\n",
            "[16, 30, 49, 7, 45, 53, 56, 43, 15, 1]\n",
            "thznbGrjsI\n",
            "[55, 3, 13, 49, 24, 54, 54, 26, 18, 18]\n",
            "soIiedlwcd\n",
            "[55, 10, 9, 61, 58, 58, 3, 60, 41, 49]\n",
            "nytogaxaed\n",
            "[59, 9, 5, 12, 46, 12, 60, 48, 3, 41]\n"
          ],
          "name": "stdout"
        },
        {
          "output_type": "stream",
          "text": [
            " 25%|██▍       | 51/208 [00:16<00:48,  3.21it/s]"
          ],
          "name": "stderr"
        },
        {
          "output_type": "stream",
          "text": [
            "loss: 23.961589813232422\n",
            "cBoadrxahm\n",
            "[55, 46, 45, 45, 24, 56, 36, 12, 0, 53]\n",
            "ryoxsyuyts\n",
            "[38, 15, 60, 9, 9, 63, 22, 35, 3, 29]\n",
            "dlendsnenl\n",
            "[55, 61, 32, 41, 20, 26, 54, 13, 49, 0]\n",
            "sieddWsavy\n",
            "[55, 41, 11, 20, 42, 21, 61, 63, 61, 45]\n",
            "furdBtNeoh\n",
            "[55, 59, 32, 20, 33, 23, 3, 8, 26, 8]\n"
          ],
          "name": "stdout"
        },
        {
          "output_type": "stream",
          "text": [
            " 49%|████▊     | 101/208 [00:32<00:35,  2.97it/s]"
          ],
          "name": "stderr"
        },
        {
          "output_type": "stream",
          "text": [
            "loss: 23.018342971801758\n",
            "pelydtulEc\n",
            "[55, 8, 25, 27, 24, 51, 22, 35, 34, 26]\n",
            "nglmngkced\n",
            "[44, 30, 0, 2, 29, 39, 28, 44, 50, 20]\n",
            "tdikoKmgds\n",
            "[11, 49, 60, 43, 20, 20, 46, 37, 49, 36]\n",
            "tessTitAns\n",
            "[55, 4, 18, 18, 49, 62, 32, 53, 11, 18]\n",
            "siedrmrwxe\n",
            "[55, 6, 13, 49, 43, 7, 42, 33, 60, 4]\n"
          ],
          "name": "stdout"
        },
        {
          "output_type": "stream",
          "text": [
            " 73%|███████▎  | 151/208 [00:47<00:17,  3.22it/s]"
          ],
          "name": "stderr"
        },
        {
          "output_type": "stream",
          "text": [
            "loss: 22.27695655822754\n",
            "bevatWetey\n",
            "[55, 8, 5, 56, 7, 31, 14, 63, 34, 15]\n",
            "dredWpyhdl\n",
            "[55, 38, 4, 42, 25, 28, 1, 17, 3, 0]\n",
            "mhyyssWdra\n",
            "[55, 38, 27, 21, 18, 18, 2, 41, 34, 48]\n",
            "iysglnddee\n",
            "[6, 19, 2, 30, 63, 44, 40, 49, 13, 19]\n",
            "doynsserrn\n",
            "[55, 57, 21, 44, 11, 60, 4, 47, 40, 56]\n"
          ],
          "name": "stdout"
        },
        {
          "output_type": "stream",
          "text": [
            " 97%|█████████▋| 201/208 [01:03<00:02,  3.15it/s]"
          ],
          "name": "stderr"
        },
        {
          "output_type": "stream",
          "text": [
            "loss: 22.124229431152344\n",
            "tRndssyaNe\n",
            "[55, 17, 49, 31, 60, 41, 27, 19, 60, 23]\n",
            "lulmKmljdl\n",
            "[55, 59, 9, 2, 61, 0, 40, 4, 42, 25]\n",
            "naoranidon\n",
            "[55, 17, 57, 49, 19, 44, 48, 31, 57, 54]\n",
            "acNnlsunIk\n",
            "[6, 51, 48, 46, 25, 28, 19, 45, 58, 33]\n",
            "AuydJypanr\n",
            "[55, 6, 34, 41, 31, 21, 19, 49, 46, 45]\n"
          ],
          "name": "stdout"
        },
        {
          "output_type": "stream",
          "text": [
            "100%|██████████| 208/208 [01:05<00:00,  3.76it/s]\n"
          ],
          "name": "stderr"
        },
        {
          "output_type": "stream",
          "text": [
            "loss: 22.349966049194336\n",
            "mecskynmmn\n",
            "[55, 8, 62, 34, 25, 28, 9, 3, 3, 56]\n"
          ],
          "name": "stdout"
        },
        {
          "output_type": "stream",
          "text": [
            "\r  0%|          | 0/208 [00:00<?, ?it/s]"
          ],
          "name": "stderr"
        },
        {
          "output_type": "stream",
          "text": [
            "========= Results: epoch 2 of 10 =========\n",
            "train loss: 23.12| valid loss: 22.21\n",
            "\n",
            "========= Epoch 3 of 10 =========\n"
          ],
          "name": "stdout"
        },
        {
          "output_type": "stream",
          "text": [
            "\r  0%|          | 1/208 [00:00<01:37,  2.11it/s]"
          ],
          "name": "stderr"
        },
        {
          "output_type": "stream",
          "text": [
            "loss: 22.131309509277344\n",
            "yahoconeRi\n",
            "[23, 62, 8, 32, 2, 60, 33, 43, 9, 28]\n",
            "toyaYtrltj\n",
            "[55, 14, 53, 26, 2, 62, 61, 50, 31, 53]\n",
            "RacAynanas\n",
            "[55, 17, 52, 34, 19, 46, 48, 53, 56, 18]\n",
            "nheyoenved\n",
            "[55, 8, 13, 19, 46, 60, 29, 5, 4, 42]\n",
            "aonmdNywnG\n",
            "[55, 57, 21, 40, 42, 25, 27, 37, 54, 8]\n"
          ],
          "name": "stdout"
        },
        {
          "output_type": "stream",
          "text": [
            " 25%|██▍       | 51/208 [00:16<00:53,  2.94it/s]"
          ],
          "name": "stderr"
        },
        {
          "output_type": "stream",
          "text": [
            "loss: 21.87742805480957\n",
            "bofsZedgus\n",
            "[55, 57, 54, 60, 9, 9, 20, 43, 22, 60]\n",
            "ockegNlydl\n",
            "[6, 26, 40, 43, 39, 25, 25, 28, 41, 44]\n",
            "ackstatarA\n",
            "[6, 12, 9, 53, 2, 19, 31, 48, 25, 27]\n",
            "cefnaeaded\n",
            "[55, 8, 57, 54, 17, 4, 24, 31, 13, 49]\n",
            "aaanewrgRU\n",
            "[6, 51, 48, 50, 56, 29, 39, 25, 15, 31]\n"
          ],
          "name": "stdout"
        },
        {
          "output_type": "stream",
          "text": [
            " 49%|████▊     | 101/208 [00:32<00:33,  3.15it/s]"
          ],
          "name": "stderr"
        },
        {
          "output_type": "stream",
          "text": [
            "loss: 21.491273880004883\n",
            "tencbalycl\n",
            "[55, 6, 29, 2, 37, 48, 53, 19, 12, 25]\n",
            "hhledlyraE\n",
            "[55, 8, 38, 14, 20, 25, 28, 55, 17, 36]\n",
            "ceeonqnene\n",
            "[55, 17, 8, 57, 54, 17, 29, 13, 44, 11]\n",
            "icmssanakn\n",
            "[6, 45, 3, 58, 60, 5, 1, 48, 50, 25]\n",
            "qenesslyec\n",
            "[55, 59, 44, 11, 18, 58, 25, 15, 61, 62]\n"
          ],
          "name": "stdout"
        },
        {
          "output_type": "stream",
          "text": [
            " 73%|███████▎  | 151/208 [00:48<00:18,  3.13it/s]"
          ],
          "name": "stderr"
        },
        {
          "output_type": "stream",
          "text": [
            "loss: 21.693378448486328\n",
            "grknedtnme\n",
            "[55, 59, 14, 44, 11, 20, 32, 21, 38, 14]\n",
            "ronandeed\n",
            "\n",
            "[55, 57, 54, 48, 50, 20, 56, 53, 40, 54]\n",
            "lowcaZcedn\n",
            "[55, 6, 36, 45, 17, 3, 45, 4, 42, 44]\n",
            "shyedidlal\n",
            "[55, 38, 27, 4, 42, 61, 41, 44, 48, 37]\n",
            "bealaesusm\n",
            "[55, 59, 48, 53, 56, 43, 60, 11, 18, 60]\n"
          ],
          "name": "stdout"
        },
        {
          "output_type": "stream",
          "text": [
            " 97%|█████████▋| 201/208 [01:03<00:02,  3.24it/s]"
          ],
          "name": "stderr"
        },
        {
          "output_type": "stream",
          "text": [
            "loss: 21.936307907104492\n",
            "andaZlygly\n",
            "[6, 29, 31, 48, 37, 25, 28, 39, 25, 1]\n",
            "arnalonane\n",
            "[6, 57, 21, 48, 50, 57, 54, 48, 50, 17]\n",
            "oanclresUs\n",
            "[6, 10, 40, 45, 63, 44, 11, 18, 35, 60]\n",
            "chfussnedp\n",
            "[55, 59, 57, 22, 35, 35, 44, 11, 20, 19]\n",
            "sisheablyt\n",
            "[55, 6, 55, 38, 61, 48, 37, 25, 27, 56]\n"
          ],
          "name": "stdout"
        },
        {
          "output_type": "stream",
          "text": [
            "100%|██████████| 208/208 [01:05<00:00,  3.81it/s]\n"
          ],
          "name": "stderr"
        },
        {
          "output_type": "stream",
          "text": [
            "loss: 21.37592315673828\n",
            "idyntksdid\n",
            "[6, 36, 19, 56, 31, 33, 58, 31, 19, 24]\n"
          ],
          "name": "stdout"
        },
        {
          "output_type": "stream",
          "text": [
            "\r  0%|          | 0/208 [00:00<?, ?it/s]"
          ],
          "name": "stderr"
        },
        {
          "output_type": "stream",
          "text": [
            "========= Results: epoch 3 of 10 =========\n",
            "train loss: 21.76| valid loss: 21.52\n",
            "\n",
            "========= Epoch 4 of 10 =========\n"
          ],
          "name": "stdout"
        },
        {
          "output_type": "stream",
          "text": [
            "\r  0%|          | 1/208 [00:00<01:31,  2.25it/s]"
          ],
          "name": "stderr"
        },
        {
          "output_type": "stream",
          "text": [
            "loss: 21.31800079345703\n",
            "tfuslliOdn\n",
            "[55, 57, 22, 7, 1, 52, 22, 60, 30, 44]\n",
            "ghufnnesss\n",
            "[55, 8, 36, 57, 21, 44, 11, 18, 60, 35]\n",
            "t-ljdnessn\n",
            "[55, 19, 56, 46, 20, 44, 11, 18, 60, 44]\n",
            "cytleymdne\n",
            "[55, 19, 39, 25, 11, 17, 0, 20, 44, 11]\n",
            "nremdlessd\n",
            "[55, 38, 14, 0, 42, 25, 11, 18, 58, 49]\n"
          ],
          "name": "stdout"
        },
        {
          "output_type": "stream",
          "text": [
            " 25%|██▍       | 51/208 [00:16<00:49,  3.18it/s]"
          ],
          "name": "stderr"
        },
        {
          "output_type": "stream",
          "text": [
            "loss: 21.071056365966797\n",
            "Qydmklynes\n",
            "[55, 19, 20, 40, 33, 25, 15, 44, 11, 18]\n",
            "thessaalXk\n",
            "[55, 8, 13, 35, 35, 44, 48, 50, 23, 25]\n",
            "mletlyyyhy\n",
            "[55, 38, 13, 32, 25, 28, 9, 28, 8, 27]\n",
            "maladypesd\n",
            "[55, 17, 25, 56, 31, 19, 55, 59, 2, 49]\n",
            "lylytdvtal\n",
            "[55, 17, 2, 17, 9, 20, 49, 32, 48, 53]\n"
          ],
          "name": "stdout"
        },
        {
          "output_type": "stream",
          "text": [
            " 49%|████▊     | 101/208 [00:31<00:33,  3.20it/s]"
          ],
          "name": "stderr"
        },
        {
          "output_type": "stream",
          "text": [
            "loss: 21.18721580505371\n",
            "icteusmenn\n",
            "[6, 36, 5, 43, 24, 35, 34, 17, 46, 44]\n",
            "driVeredle\n",
            "[55, 38, 61, 41, 56, 47, 4, 42, 25, 11]\n",
            "enhsyeysne\n",
            "[6, 26, 8, 2, 17, 3, 43, 58, 44, 11]\n",
            "ilydvyrhzl\n",
            "[6, 12, 15, 20, 13, 19, 55, 8, 32, 25]\n",
            "lhnynessus\n",
            "[55, 59, 46, 30, 44, 11, 18, 60, 22, 7]\n"
          ],
          "name": "stdout"
        },
        {
          "output_type": "stream",
          "text": [
            " 73%|███████▎  | 151/208 [00:47<00:17,  3.22it/s]"
          ],
          "name": "stderr"
        },
        {
          "output_type": "stream",
          "text": [
            "loss: 21.164073944091797\n",
            "ibtleyylli\n",
            "[6, 16, 32, 25, 13, 19, 17, 12, 53, 61]\n",
            "cenesseyet\n",
            "[55, 59, 44, 11, 18, 60, 10, 40, 8, 32]\n",
            "edalessnes\n",
            "[6, 36, 48, 53, 56, 18, 35, 44, 11, 18]\n",
            "cyheablaft\n",
            "[55, 19, 55, 59, 48, 37, 25, 56, 32, 49]\n",
            "cyhyyckydQ\n",
            "[55, 19, 8, 19, 3, 51, 33, 27, 20, 45]\n"
          ],
          "name": "stdout"
        },
        {
          "output_type": "stream",
          "text": [
            " 97%|█████████▋| 201/208 [01:02<00:02,  3.29it/s]"
          ],
          "name": "stderr"
        },
        {
          "output_type": "stream",
          "text": [
            "loss: 21.0625\n",
            "damlhhenes\n",
            "[55, 17, 3, 49, 8, 38, 14, 44, 11, 18]\n",
            "cledeylusl\n",
            "[55, 38, 14, 20, 9, 27, 9, 22, 52, 25]\n",
            "ctaaidenss\n",
            "[55, 55, 48, 53, 61, 41, 56, 56, 2, 60]\n",
            "synsezglec\n",
            "[55, 19, 40, 52, 56, 29, 39, 25, 56, 36]\n",
            "anennnckor\n",
            "[6, 16, 23, 56, 54, 46, 51, 33, 4, 47]\n"
          ],
          "name": "stdout"
        },
        {
          "output_type": "stream",
          "text": [
            "100%|██████████| 208/208 [01:04<00:00,  4.03it/s]\n"
          ],
          "name": "stderr"
        },
        {
          "output_type": "stream",
          "text": [
            "loss: 21.235027313232422\n",
            "nocuslethm\n",
            "[55, 6, 26, 22, 52, 25, 15, 32, 38, 14]\n"
          ],
          "name": "stdout"
        },
        {
          "output_type": "stream",
          "text": [
            "\r  0%|          | 0/208 [00:00<?, ?it/s]"
          ],
          "name": "stderr"
        },
        {
          "output_type": "stream",
          "text": [
            "========= Results: epoch 4 of 10 =========\n",
            "train loss: 21.22| valid loss: 21.03\n",
            "\n",
            "========= Epoch 5 of 10 =========\n"
          ],
          "name": "stdout"
        },
        {
          "output_type": "stream",
          "text": [
            "\r  0%|          | 1/208 [00:00<01:25,  2.41it/s]"
          ],
          "name": "stderr"
        },
        {
          "output_type": "stream",
          "text": [
            "loss: 21.163387298583984\n",
            "nerydeydus\n",
            "[55, 4, 47, 19, 55, 8, 19, 36, 22, 7]\n",
            "lhyyt-dere\n",
            "[55, 8, 19, 17, 30, 17, 31, 4, 24, 56]\n",
            "vharlessal\n",
            "[55, 8, 4, 24, 25, 11, 18, 58, 48, 53]\n",
            "phylynessT\n",
            "[55, 8, 19, 25, 15, 44, 11, 18, 60, 34]\n",
            "yndnessyrd\n",
            "[6, 16, 40, 44, 11, 18, 58, 17, 47, 31]\n"
          ],
          "name": "stdout"
        },
        {
          "output_type": "stream",
          "text": [
            " 25%|██▍       | 51/208 [00:16<00:46,  3.34it/s]"
          ],
          "name": "stderr"
        },
        {
          "output_type": "stream",
          "text": [
            "loss: 20.970998764038086\n",
            "Aalfnlyyne\n",
            "[55, 48, 53, 57, 21, 25, 28, 27, 21, 11]\n",
            "enodenesse\n",
            "[6, 29, 6, 55, 59, 44, 11, 18, 60, 23]\n",
            "seablyhetd\n",
            "[55, 4, 48, 37, 25, 27, 3, 45, 9, 20]\n",
            "vonrnTedce\n",
            "[55, 57, 21, 10, 46, 40, 4, 42, 25, 56]\n",
            "cedelylmes\n",
            "[55, 17, 31, 4, 25, 28, 53, 34, 17, 2]\n"
          ],
          "name": "stdout"
        },
        {
          "output_type": "stream",
          "text": [
            " 49%|████▊     | 101/208 [00:31<00:32,  3.31it/s]"
          ],
          "name": "stderr"
        },
        {
          "output_type": "stream",
          "text": [
            "loss: 20.771623611450195\n",
            "aOdandlasm\n",
            "[6, 10, 31, 48, 50, 42, 25, 27, 7, 31]\n",
            "vcitkausly\n",
            "[55, 38, 61, 51, 33, 57, 22, 7, 25, 27]\n",
            "tymterseeh\n",
            "[55, 17, 2, 5, 4, 24, 2, 43, 17, 3]\n",
            "tyblykhrdy\n",
            "[55, 19, 37, 25, 15, 33, 38, 14, 20, 27]\n",
            "gyymmlyytl\n",
            "[55, 8, 19, 9, 0, 25, 28, 27, 32, 25]\n"
          ],
          "name": "stdout"
        },
        {
          "output_type": "stream",
          "text": [
            " 73%|███████▎  | 151/208 [00:47<00:18,  3.03it/s]"
          ],
          "name": "stderr"
        },
        {
          "output_type": "stream",
          "text": [
            "loss: 20.630603790283203\n",
            "saledlyuse\n",
            "[55, 48, 53, 14, 20, 25, 27, 22, 52, 56]\n",
            "gyllylesss\n",
            "[55, 19, 37, 25, 15, 44, 11, 18, 58, 2]\n",
            "breakescke\n",
            "[55, 38, 14, 48, 5, 43, 2, 51, 33, 4]\n",
            "bintncnemt\n",
            "[55, 6, 16, 23, 9, 62, 54, 6, 16, 63]\n",
            "cyphledlye\n",
            "[55, 19, 55, 59, 44, 11, 20, 25, 27, 13]\n"
          ],
          "name": "stdout"
        },
        {
          "output_type": "stream",
          "text": [
            " 97%|█████████▋| 201/208 [01:02<00:02,  3.22it/s]"
          ],
          "name": "stderr"
        },
        {
          "output_type": "stream",
          "text": [
            "loss: 20.628002166748047\n",
            "drybredide\n",
            "[55, 38, 19, 55, 38, 14, 20, 61, 41, 56]\n",
            "brinedness\n",
            "[55, 38, 61, 44, 11, 20, 44, 11, 18, 60]\n",
            "pidaltidAs\n",
            "[55, 61, 41, 48, 50, 32, 61, 41, 56, 2]\n",
            "fedessaesm\n",
            "[55, 4, 20, 11, 18, 60, 62, 56, 2, 0]\n",
            "sertedeyrt\n",
            "[55, 4, 24, 32, 4, 20, 14, 27, 26, 5]\n"
          ],
          "name": "stdout"
        },
        {
          "output_type": "stream",
          "text": [
            "100%|██████████| 208/208 [01:04<00:00,  4.03it/s]\n"
          ],
          "name": "stderr"
        },
        {
          "output_type": "stream",
          "text": [
            "loss: 21.04818344116211\n",
            "pasedsealf\n",
            "[55, 17, 2, 14, 20, 2, 59, 48, 53, 49]\n"
          ],
          "name": "stdout"
        },
        {
          "output_type": "stream",
          "text": [
            "\r  0%|          | 0/208 [00:00<?, ?it/s]"
          ],
          "name": "stderr"
        },
        {
          "output_type": "stream",
          "text": [
            "========= Results: epoch 5 of 10 =========\n",
            "train loss: 20.83| valid loss: 20.78\n",
            "\n",
            "========= Epoch 6 of 10 =========\n"
          ],
          "name": "stdout"
        },
        {
          "output_type": "stream",
          "text": [
            "\r  0%|          | 1/208 [00:00<01:24,  2.44it/s]"
          ],
          "name": "stderr"
        },
        {
          "output_type": "stream",
          "text": [
            "loss: 20.581947326660156\n",
            "chyfnablic\n",
            "[55, 8, 19, 57, 54, 48, 37, 25, 61, 45]\n",
            "unymantess\n",
            "[6, 16, 30, 0, 48, 50, 44, 11, 18, 58]\n",
            "gyaltlyhtd\n",
            "[55, 19, 62, 46, 32, 25, 27, 8, 32, 42]\n",
            "chwvsnessu\n",
            "[55, 8, 38, 27, 52, 44, 11, 18, 58, 22]\n",
            "rhypalcten\n",
            "[55, 8, 19, 55, 48, 53, 36, 5, 43, 44]\n"
          ],
          "name": "stdout"
        },
        {
          "output_type": "stream",
          "text": [
            " 25%|██▍       | 51/208 [00:16<00:48,  3.23it/s]"
          ],
          "name": "stderr"
        },
        {
          "output_type": "stream",
          "text": [
            "loss: 20.88625144958496\n",
            "phyessness\n",
            "[55, 8, 19, 11, 18, 60, 44, 11, 18, 60]\n",
            "lhymtalics\n",
            "[55, 8, 19, 55, 38, 48, 53, 61, 45, 2]\n",
            "onideryhys\n",
            "[6, 16, 61, 41, 56, 24, 27, 3, 30, 2]\n",
            "mhyetlyyne\n",
            "[55, 8, 19, 14, 32, 38, 27, 9, 44, 11]\n",
            "treydsyssm\n",
            "[55, 38, 14, 14, 20, 2, 30, 2, 58, 0]\n"
          ],
          "name": "stdout"
        },
        {
          "output_type": "stream",
          "text": [
            " 49%|████▊     | 101/208 [00:31<00:32,  3.31it/s]"
          ],
          "name": "stderr"
        },
        {
          "output_type": "stream",
          "text": [
            "loss: 20.23219871520996\n",
            "bhedexonid\n",
            "[55, 8, 4, 20, 15, 26, 57, 46, 61, 41]\n",
            "elidenesss\n",
            "[6, 12, 61, 41, 56, 44, 11, 18, 60, 2]\n",
            "crenmabled\n",
            "[55, 38, 14, 40, 0, 48, 37, 25, 56, 41]\n",
            "blicaeonak\n",
            "[55, 38, 61, 51, 48, 13, 57, 54, 48, 50]\n",
            "bhticnenes\n",
            "[55, 8, 32, 61, 62, 44, 11, 44, 11, 18]\n"
          ],
          "name": "stdout"
        },
        {
          "output_type": "stream",
          "text": [
            " 73%|███████▎  | 151/208 [00:46<00:17,  3.24it/s]"
          ],
          "name": "stderr"
        },
        {
          "output_type": "stream",
          "text": [
            "loss: 20.1969051361084\n",
            "trynsashea\n",
            "[55, 38, 27, 46, 2, 17, 2, 59, 14, 48]\n",
            "phednessym\n",
            "[55, 8, 4, 42, 44, 11, 18, 58, 30, 0]\n",
            "soHknesGly\n",
            "[55, 6, 36, 33, 44, 11, 18, 58, 25, 28]\n",
            "phrnalness\n",
            "[55, 8, 57, 54, 48, 50, 44, 11, 18, 58]\n",
            "lythiondee\n",
            "[55, 19, 55, 8, 61, 57, 46, 20, 14, 9]\n"
          ],
          "name": "stdout"
        },
        {
          "output_type": "stream",
          "text": [
            " 97%|█████████▋| 201/208 [01:02<00:02,  3.29it/s]"
          ],
          "name": "stderr"
        },
        {
          "output_type": "stream",
          "text": [
            "loss: 20.51156234741211\n",
            "sasnessede\n",
            "[55, 17, 60, 44, 11, 18, 60, 14, 20, 13]\n",
            "tytinablyd\n",
            "[55, 14, 32, 61, 29, 48, 37, 25, 28, 20]\n",
            "andlyeonal\n",
            "[6, 16, 31, 25, 27, 59, 57, 46, 17, 25]\n",
            "lrytismned\n",
            "[55, 38, 14, 32, 61, 35, 3, 44, 11, 20]\n",
            "Faninglene\n",
            "[55, 57, 54, 61, 29, 39, 25, 56, 44, 11]\n"
          ],
          "name": "stdout"
        },
        {
          "output_type": "stream",
          "text": [
            "100%|██████████| 208/208 [01:04<00:00,  4.07it/s]\n"
          ],
          "name": "stderr"
        },
        {
          "output_type": "stream",
          "text": [
            "loss: 20.681076049804688\n",
            "toussyness\n",
            "[55, 57, 22, 2, 60, 30, 44, 11, 18, 60]\n"
          ],
          "name": "stdout"
        },
        {
          "output_type": "stream",
          "text": [
            "\r  0%|          | 0/208 [00:00<?, ?it/s]"
          ],
          "name": "stderr"
        },
        {
          "output_type": "stream",
          "text": [
            "========= Results: epoch 6 of 10 =========\n",
            "train loss: 20.65| valid loss: 20.64\n",
            "\n",
            "========= Epoch 7 of 10 =========\n"
          ],
          "name": "stdout"
        },
        {
          "output_type": "stream",
          "text": [
            "\r  0%|          | 1/208 [00:00<01:27,  2.36it/s]"
          ],
          "name": "stderr"
        },
        {
          "output_type": "stream",
          "text": [
            "loss: 20.322513580322266\n",
            "gysthyatyn\n",
            "[55, 19, 36, 32, 38, 14, 48, 5, 15, 44]\n",
            "ullessness\n",
            "[6, 12, 25, 11, 18, 60, 44, 11, 18, 58]\n",
            "cletreedng\n",
            "[55, 38, 14, 32, 38, 14, 4, 20, 29, 39]\n",
            "bhyceriden\n",
            "[55, 8, 19, 55, 4, 47, 61, 41, 56, 44]\n",
            "elyleneEsi\n",
            "[6, 12, 19, 25, 15, 44, 11, 18, 58, 61]\n"
          ],
          "name": "stdout"
        },
        {
          "output_type": "stream",
          "text": [
            " 25%|██▍       | 51/208 [00:16<00:46,  3.38it/s]"
          ],
          "name": "stderr"
        },
        {
          "output_type": "stream",
          "text": [
            "loss: 20.572463989257812\n",
            "petiacless\n",
            "[55, 6, 26, 61, 62, 45, 25, 11, 18, 60]\n",
            "chednedyli\n",
            "[55, 38, 14, 20, 44, 4, 20, 30, 12, 61]\n",
            "sitaliactl\n",
            "[55, 61, 5, 48, 53, 61, 62, 36, 32, 25]\n",
            "fyenessete\n",
            "[55, 14, 56, 44, 11, 18, 58, 17, 32, 4]\n",
            "ceeelaynls\n",
            "[55, 59, 56, 43, 25, 15, 14, 44, 11, 18]\n"
          ],
          "name": "stdout"
        },
        {
          "output_type": "stream",
          "text": [
            " 49%|████▊     | 101/208 [00:31<00:31,  3.38it/s]"
          ],
          "name": "stderr"
        },
        {
          "output_type": "stream",
          "text": [
            "loss: 20.399456024169922\n",
            "deaneryhti\n",
            "[55, 59, 57, 54, 4, 47, 27, 8, 32, 61]\n",
            "gausnodmon\n",
            "[55, 57, 22, 52, 44, 11, 20, 0, 57, 54]\n",
            "mealingles\n",
            "[55, 59, 48, 53, 61, 29, 39, 25, 11, 18]\n",
            "nlessLcsel\n",
            "[55, 38, 11, 18, 58, 25, 51, 2, 9, 25]\n",
            "rhhytyldOa\n",
            "[55, 8, 38, 19, 55, 19, 12, 31, 61, 57]\n"
          ],
          "name": "stdout"
        },
        {
          "output_type": "stream",
          "text": [
            " 73%|███████▎  | 151/208 [00:46<00:18,  3.11it/s]"
          ],
          "name": "stderr"
        },
        {
          "output_type": "stream",
          "text": [
            "loss: 20.67449951171875\n",
            "bueymaling\n",
            "[55, 59, 14, 30, 0, 48, 50, 61, 29, 39]\n",
            "ceeummonal\n",
            "[55, 59, 9, 22, 7, 0, 57, 54, 48, 53]\n",
            "BattyGedne\n",
            "[55, 6, 9, 5, 15, 44, 11, 20, 44, 11]\n",
            "colonnglen\n",
            "[55, 6, 12, 57, 54, 29, 39, 25, 56, 44]\n",
            "ilyldnessn\n",
            "[6, 12, 19, 12, 31, 44, 11, 18, 60, 44]\n"
          ],
          "name": "stdout"
        },
        {
          "output_type": "stream",
          "text": [
            " 97%|█████████▋| 201/208 [01:02<00:02,  2.99it/s]"
          ],
          "name": "stderr"
        },
        {
          "output_type": "stream",
          "text": [
            "loss: 20.53281021118164\n",
            "mulusleals\n",
            "[55, 6, 12, 22, 2, 12, 9, 48, 50, 2]\n",
            "wytellyIes\n",
            "[55, 19, 55, 59, 12, 25, 28, 5, 13, 35]\n",
            "pordnessne\n",
            "[55, 6, 10, 40, 44, 11, 18, 60, 44, 11]\n",
            "dulyeetsee\n",
            "[55, 59, 25, 28, 13, 9, 9, 2, 13, 43]\n",
            "lhideEessn\n",
            "[55, 8, 61, 41, 56, 44, 11, 18, 60, 44]\n"
          ],
          "name": "stdout"
        },
        {
          "output_type": "stream",
          "text": [
            "100%|██████████| 208/208 [01:04<00:00,  3.95it/s]\n"
          ],
          "name": "stderr"
        },
        {
          "output_type": "stream",
          "text": [
            "loss: 19.893932342529297\n",
            "onthyenedl\n",
            "[6, 16, 63, 8, 19, 23, 44, 11, 20, 25]\n"
          ],
          "name": "stdout"
        },
        {
          "output_type": "stream",
          "text": [
            "\r  0%|          | 0/208 [00:00<?, ?it/s]"
          ],
          "name": "stderr"
        },
        {
          "output_type": "stream",
          "text": [
            "========= Results: epoch 7 of 10 =========\n",
            "train loss: 20.54| valid loss: 20.55\n",
            "\n",
            "========= Epoch 8 of 10 =========\n"
          ],
          "name": "stdout"
        },
        {
          "output_type": "stream",
          "text": [
            "\r  0%|          | 1/208 [00:00<01:39,  2.09it/s]"
          ],
          "name": "stderr"
        },
        {
          "output_type": "stream",
          "text": [
            "loss: 20.745155334472656\n",
            "athyolymon\n",
            "[6, 36, 8, 19, 6, 25, 30, 0, 57, 54]\n",
            "dylRtymsla\n",
            "[55, 19, 12, 14, 32, 30, 0, 2, 38, 48]\n",
            "ometumglyn\n",
            "[6, 34, 17, 32, 22, 7, 39, 25, 27, 21]\n",
            "deermnglyn\n",
            "[55, 14, 4, 24, 0, 29, 39, 25, 28, 44]\n",
            "araeeumdre\n",
            "[6, 12, 48, 50, 13, 22, 7, 20, 44, 11]\n"
          ],
          "name": "stdout"
        },
        {
          "output_type": "stream",
          "text": [
            " 25%|██▍       | 51/208 [00:15<00:48,  3.22it/s]"
          ],
          "name": "stderr"
        },
        {
          "output_type": "stream",
          "text": [
            "loss: 20.89170265197754\n",
            "zfalessdne\n",
            "[55, 55, 48, 53, 11, 18, 58, 42, 44, 11]\n",
            "neneumedly\n",
            "[55, 6, 16, 9, 22, 7, 23, 20, 25, 28]\n",
            "piausgedne\n",
            "[55, 61, 45, 22, 7, 39, 4, 20, 44, 11]\n",
            "kedmymarip\n",
            "[55, 59, 31, 0, 30, 0, 48, 47, 61, 45]\n",
            "hysmonllon\n",
            "[55, 19, 35, 0, 57, 21, 12, 12, 57, 54]\n"
          ],
          "name": "stdout"
        },
        {
          "output_type": "stream",
          "text": [
            " 49%|████▊     | 101/208 [00:31<00:34,  3.14it/s]"
          ],
          "name": "stderr"
        },
        {
          "output_type": "stream",
          "text": [
            "loss: 20.404035568237305\n",
            "needynatri\n",
            "[55, 59, 14, 20, 19, 55, 48, 32, 38, 61]\n",
            "berdudicsy\n",
            "[55, 4, 24, 20, 10, 49, 61, 45, 2, 17]\n",
            "falnmonono\n",
            "[55, 48, 53, 21, 0, 57, 54, 57, 21, 57]\n",
            "epkymallys\n",
            "[6, 36, 33, 30, 0, 48, 37, 25, 27, 7]\n",
            "xelennssse\n",
            "[55, 59, 25, 56, 44, 11, 18, 58, 2, 59]\n"
          ],
          "name": "stdout"
        },
        {
          "output_type": "stream",
          "text": [
            " 73%|███████▎  | 151/208 [00:46<00:17,  3.17it/s]"
          ],
          "name": "stderr"
        },
        {
          "output_type": "stream",
          "text": [
            "loss: 20.2503662109375\n",
            "ristfyryge\n",
            "[55, 61, 35, 3, 5, 1, 47, 27, 39, 59]\n",
            "dhyletikly\n",
            "[55, 8, 19, 12, 17, 32, 61, 62, 25, 28]\n",
            "ayyenessne\n",
            "[6, 26, 19, 1, 44, 11, 18, 58, 44, 14]\n",
            "tupnessnes\n",
            "[55, 59, 17, 44, 11, 18, 60, 44, 11, 18]\n",
            "loneelyedn\n",
            "[55, 57, 46, 59, 9, 25, 28, 14, 20, 44]\n"
          ],
          "name": "stdout"
        },
        {
          "output_type": "stream",
          "text": [
            " 97%|█████████▋| 201/208 [01:02<00:02,  3.17it/s]"
          ],
          "name": "stderr"
        },
        {
          "output_type": "stream",
          "text": [
            "loss: 20.75147247314453\n",
            "beidlymsde\n",
            "[55, 6, 10, 49, 25, 30, 0, 7, 31, 4]\n",
            "acystnesst\n",
            "[6, 55, 19, 35, 3, 44, 11, 18, 60, 3]\n",
            "dhtylymgny\n",
            "[55, 8, 32, 30, 25, 27, 0, 57, 46, 14]\n",
            "slylydalre\n",
            "[55, 38, 30, 12, 19, 41, 48, 50, 44, 11]\n",
            "cukymdylye\n",
            "[55, 59, 33, 30, 0, 49, 30, 25, 27, 9]\n"
          ],
          "name": "stdout"
        },
        {
          "output_type": "stream",
          "text": [
            "100%|██████████| 208/208 [01:04<00:00,  3.99it/s]\n"
          ],
          "name": "stderr"
        },
        {
          "output_type": "stream",
          "text": [
            "loss: 20.438739776611328\n",
            "eydstgeabl\n",
            "[6, 16, 31, 35, 3, 39, 59, 48, 37, 25]\n"
          ],
          "name": "stdout"
        },
        {
          "output_type": "stream",
          "text": [
            "\r  0%|          | 0/208 [00:00<?, ?it/s]"
          ],
          "name": "stderr"
        },
        {
          "output_type": "stream",
          "text": [
            "========= Results: epoch 8 of 10 =========\n",
            "train loss: 20.47| valid loss: 20.50\n",
            "\n",
            "========= Epoch 9 of 10 =========\n"
          ],
          "name": "stdout"
        },
        {
          "output_type": "stream",
          "text": [
            "\r  0%|          | 1/208 [00:00<01:20,  2.58it/s]"
          ],
          "name": "stderr"
        },
        {
          "output_type": "stream",
          "text": [
            "loss: 19.996936798095703\n",
            "thedleness\n",
            "[55, 59, 9, 20, 25, 56, 44, 11, 18, 58]\n",
            "aednedmada\n",
            "[6, 4, 42, 44, 11, 20, 7, 10, 41, 48]\n",
            "delidallym\n",
            "[55, 6, 12, 61, 41, 48, 37, 25, 28, 0]\n",
            "reeymeness\n",
            "[55, 59, 9, 19, 34, 17, 44, 11, 18, 58]\n",
            "hermonelys\n",
            "[55, 4, 24, 0, 57, 46, 9, 25, 28, 60]\n"
          ],
          "name": "stdout"
        },
        {
          "output_type": "stream",
          "text": [
            " 25%|██▍       | 51/208 [00:15<00:47,  3.29it/s]"
          ],
          "name": "stderr"
        },
        {
          "output_type": "stream",
          "text": [
            "loss: 20.890419006347656\n",
            "Briallenes\n",
            "[55, 38, 14, 48, 37, 25, 56, 44, 11, 18]\n",
            "thiteednes\n",
            "[55, 38, 61, 5, 1, 11, 20, 44, 11, 18]\n",
            "pupksylymn\n",
            "[55, 6, 36, 33, 35, 30, 25, 28, 0, 44]\n",
            "ciofalsnes\n",
            "[55, 6, 10, 40, 48, 50, 52, 44, 11, 18]\n",
            "hoafednesf\n",
            "[55, 6, 10, 40, 4, 42, 44, 11, 18, 60]\n"
          ],
          "name": "stdout"
        },
        {
          "output_type": "stream",
          "text": [
            " 49%|████▊     | 101/208 [00:31<00:34,  3.11it/s]"
          ],
          "name": "stderr"
        },
        {
          "output_type": "stream",
          "text": [
            "loss: 20.577880859375\n",
            "anlyggness\n",
            "[6, 26, 25, 28, 29, 39, 44, 11, 18, 60]\n",
            "yuynedness\n",
            "[6, 16, 30, 44, 11, 20, 44, 11, 18, 60]\n",
            "imalnessly\n",
            "[6, 34, 48, 53, 44, 11, 18, 58, 25, 28]\n",
            "sednedmene\n",
            "[55, 4, 42, 44, 11, 20, 34, 17, 44, 11]\n",
            "deefsheson\n",
            "[55, 59, 9, 40, 35, 3, 9, 31, 57, 21]\n"
          ],
          "name": "stdout"
        },
        {
          "output_type": "stream",
          "text": [
            " 73%|███████▎  | 151/208 [00:46<00:17,  3.21it/s]"
          ],
          "name": "stderr"
        },
        {
          "output_type": "stream",
          "text": [
            "loss: 20.995319366455078\n",
            "ubketerony\n",
            "[6, 16, 33, 14, 32, 4, 24, 57, 21, 30]\n",
            "feabessnes\n",
            "[55, 14, 48, 37, 11, 18, 58, 44, 11, 18]\n",
            "qettermabl\n",
            "[55, 6, 36, 32, 4, 24, 0, 48, 37, 25]\n",
            "suananlyln\n",
            "[55, 59, 57, 46, 57, 21, 25, 30, 50, 44]\n",
            "Shyrlyacai\n",
            "[55, 38, 27, 37, 25, 27, 62, 51, 48, 50]\n"
          ],
          "name": "stdout"
        },
        {
          "output_type": "stream",
          "text": [
            " 97%|█████████▋| 201/208 [01:02<00:02,  2.98it/s]"
          ],
          "name": "stderr"
        },
        {
          "output_type": "stream",
          "text": [
            "loss: 20.560609817504883\n",
            "rnyerynerm\n",
            "[55, 55, 14, 4, 47, 27, 21, 4, 24, 0]\n",
            "nhonlyxabl\n",
            "[55, 38, 57, 46, 25, 30, 26, 48, 37, 25]\n",
            "to\n",
            "hylleal\n",
            "[55, 6, 36, 8, 19, 12, 12, 9, 48, 37]\n",
            "ovusdledne\n",
            "[6, 55, 22, 2, 41, 25, 56, 20, 44, 11]\n",
            "cecnaleAti\n",
            "[55, 6, 34, 54, 48, 50, 14, 23, 32, 61]\n"
          ],
          "name": "stdout"
        },
        {
          "output_type": "stream",
          "text": [
            "100%|██████████| 208/208 [01:04<00:00,  3.81it/s]\n"
          ],
          "name": "stderr"
        },
        {
          "output_type": "stream",
          "text": [
            "loss: 20.599403381347656\n",
            "aitylydled\n",
            "[6, 10, 40, 30, 25, 30, 20, 25, 56, 20]\n"
          ],
          "name": "stdout"
        },
        {
          "output_type": "stream",
          "text": [
            "\r  0%|          | 0/208 [00:00<?, ?it/s]"
          ],
          "name": "stderr"
        },
        {
          "output_type": "stream",
          "text": [
            "========= Results: epoch 9 of 10 =========\n",
            "train loss: 20.43| valid loss: 20.47\n",
            "\n",
            "========= Epoch 10 of 10 =========\n"
          ],
          "name": "stdout"
        },
        {
          "output_type": "stream",
          "text": [
            "\r  0%|          | 1/208 [00:00<01:28,  2.34it/s]"
          ],
          "name": "stderr"
        },
        {
          "output_type": "stream",
          "text": [
            "loss: 20.2786865234375\n",
            "rphyenessn\n",
            "[55, 55, 38, 30, 17, 44, 11, 18, 58, 44]\n",
            "onglymntry\n",
            "[6, 29, 39, 25, 27, 0, 16, 63, 38, 19]\n",
            "celednledm\n",
            "[55, 14, 25, 56, 49, 44, 25, 56, 20, 7]\n",
            "ceeeonumea\n",
            "[55, 59, 9, 14, 57, 54, 22, 7, 56, 48]\n",
            "ghalulneto\n",
            "[55, 38, 48, 50, 22, 52, 44, 11, 32, 4]\n"
          ],
          "name": "stdout"
        },
        {
          "output_type": "stream",
          "text": [
            " 25%|██▍       | 51/208 [00:15<00:48,  3.27it/s]"
          ],
          "name": "stderr"
        },
        {
          "output_type": "stream",
          "text": [
            "loss: 20.243629455566406\n",
            "adedstness\n",
            "[6, 41, 56, 20, 35, 3, 44, 11, 18, 58]\n",
            "teleyctonl\n",
            "[55, 6, 16, 23, 19, 36, 32, 57, 21, 25]\n",
            "miackmonle\n",
            "[55, 61, 62, 51, 33, 0, 57, 46, 25, 11]\n",
            "raldlynall\n",
            "[55, 6, 10, 49, 25, 27, 54, 48, 37, 25]\n",
            "grgumsnems\n",
            "[55, 38, 57, 22, 7, 60, 44, 11, 18, 60]\n"
          ],
          "name": "stdout"
        },
        {
          "output_type": "stream",
          "text": [
            " 49%|████▊     | 101/208 [00:31<00:34,  3.08it/s]"
          ],
          "name": "stderr"
        },
        {
          "output_type": "stream",
          "text": [
            "loss: 20.28844451904297\n",
            "srymseondi\n",
            "[55, 38, 30, 0, 2, 23, 57, 54, 41, 61]\n",
            "genessnedu\n",
            "[55, 14, 44, 11, 18, 60, 44, 11, 20, 22]\n",
            "gyalnaeyck\n",
            "[55, 14, 48, 50, 54, 48, 50, 19, 36, 33]\n",
            "wylalustor\n",
            "[55, 19, 12, 48, 53, 22, 2, 32, 4, 20]\n",
            "nueylyetid\n",
            "[55, 59, 9, 30, 25, 28, 14, 32, 61, 41]\n"
          ],
          "name": "stdout"
        },
        {
          "output_type": "stream",
          "text": [
            " 73%|███████▎  | 151/208 [00:46<00:17,  3.20it/s]"
          ],
          "name": "stderr"
        },
        {
          "output_type": "stream",
          "text": [
            "loss: 20.66337013244629\n",
            "realnesses\n",
            "[55, 59, 48, 50, 44, 11, 18, 58, 11, 18]\n",
            "vlogmiackl\n",
            "[55, 38, 6, 34, 0, 61, 62, 51, 33, 25]\n",
            "faeonsCess\n",
            "[55, 48, 13, 57, 54, 7, 44, 11, 18, 58]\n",
            "leonsssraF\n",
            "[55, 59, 57, 21, 2, 2, 7, 59, 48, 53]\n",
            "tanessxess\n",
            "[55, 6, 44, 11, 18, 58, 44, 11, 18, 60]\n"
          ],
          "name": "stdout"
        },
        {
          "output_type": "stream",
          "text": [
            " 97%|█████████▋| 201/208 [01:02<00:02,  3.23it/s]"
          ],
          "name": "stderr"
        },
        {
          "output_type": "stream",
          "text": [
            "loss: 20.529830932617188\n",
            "orslyedeel\n",
            "[6, 26, 52, 25, 28, 59, 41, 59, 14, 25]\n",
            "piymonalsb\n",
            "[55, 38, 30, 0, 57, 54, 48, 53, 2, 37]\n",
            "jeolkarity\n",
            "[55, 14, 6, 12, 33, 48, 47, 61, 5, 15]\n",
            "tismalingl\n",
            "[55, 61, 35, 0, 48, 53, 61, 29, 39, 25]\n",
            "Zipkymusye\n",
            "[55, 6, 36, 33, 30, 0, 22, 2, 27, 9]\n"
          ],
          "name": "stdout"
        },
        {
          "output_type": "stream",
          "text": [
            "100%|██████████| 208/208 [01:04<00:00,  4.05it/s]\n"
          ],
          "name": "stderr"
        },
        {
          "output_type": "stream",
          "text": [
            "loss: 20.503211975097656\n",
            "tianatenes\n",
            "[55, 61, 57, 54, 48, 5, 43, 44, 11, 18]\n",
            "========= Results: epoch 10 of 10 =========\n",
            "train loss: 20.41| valid loss: 20.45\n",
            "\n"
          ],
          "name": "stdout"
        }
      ]
    },
    {
      "cell_type": "markdown",
      "metadata": {
        "id": "zymBj9QrDHRM",
        "colab_type": "text"
      },
      "source": [
        "You may wish to try different values of $N$ and see what the impact on sample quality is. \n",
        "\n",
        "It's also interesting to look at the visited states. For instance, I noticed the following interesting behavior: \n",
        "- If weight decay is used (`weight_decay=0.00001` in the initialization of the optimizer), the model almost always picks one of two states as the initial state, and uses one of these states to emit vowels and the other to emit consonants (without us programming that behavior or telling the model which letters are vowels!).\n",
        "- But if no weight decay is used, then the model always starts from one particular state. I suspect that this is because weight decay encourages the state priors to be not too big, and if one state prior is very big, the model will always start from that state."
      ]
    },
    {
      "cell_type": "markdown",
      "metadata": {
        "id": "7eZeQXWjhDev",
        "colab_type": "text"
      },
      "source": [
        "## Conclusion\n",
        "\n",
        "HMMs used to be very popular in natural language processing, but they have largely been overshadowed by neural network models like RNNs and Transformers. Still, it is fun and instructive to study the HMM; some commonly used machine learning techniques like [Connectionist Temporal Classification](https://www.cs.toronto.edu/~graves/icml_2006.pdf) are inspired by HMM methods. HMMs are [still used in conjunction with neural networks in speech recognition](https://arxiv.org/abs/1811.07453), where the assumption of a one-hot state makes sense for modelling phonemes, which are spoken one at a time."
      ]
    },
    {
      "cell_type": "markdown",
      "metadata": {
        "id": "gXQOBz5zqe10",
        "colab_type": "text"
      },
      "source": [
        "## Acknowledgments\n",
        "\n",
        "This notebook is based partly on Lawrence Rabiner's excellent article \"[A Tutorial on Hidden Markov Models and Selected Applications in Speech Recognition](https://www.cs.cmu.edu/~cga/behavior/rabiner1.pdf)\", which you may also like to check out. Thanks also to Dima Serdyuk and Kyle Gorman for their feedback on the draft."
      ]
    }
  ]
}