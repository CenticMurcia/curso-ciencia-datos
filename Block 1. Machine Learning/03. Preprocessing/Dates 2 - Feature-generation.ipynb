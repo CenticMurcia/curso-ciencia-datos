{
 "cells": [
  {
   "cell_type": "markdown",
   "metadata": {
    "papermill": {
     "duration": 0.011276,
     "end_time": "2020-10-01T00:24:41.698685",
     "exception": false,
     "start_time": "2020-10-01T00:24:41.687409",
     "status": "completed"
    },
    "tags": []
   },
   "source": [
    "# Introduction\n",
    "\n",
    "Creating new features from the raw data is one of the best ways to improve your model. For example, when working with Kickstarter data, you can calculate the number of total projects in the last week and the duration of the fundraising period. The features you create are different for every dataset, so it takes a bit of creativity and experimentation. We're a bit limited here, since we're working with only one table. Typically you'll have access to multiple tables with relevant data that you can use to create new features.\n",
    "\n",
    "But you can still see how to make new features using categorical features, and then a few examples of generated numerical features. "
   ]
  },
  {
   "cell_type": "code",
   "execution_count": 1,
   "metadata": {
    "_kg_hide-input": true,
    "execution": {
     "iopub.execute_input": "2020-10-01T00:24:41.722418Z",
     "iopub.status.busy": "2020-10-01T00:24:41.721856Z",
     "iopub.status.idle": "2020-10-01T00:24:44.608467Z",
     "shell.execute_reply": "2020-10-01T00:24:44.609073Z"
    },
    "papermill": {
     "duration": 2.900024,
     "end_time": "2020-10-01T00:24:44.609239",
     "exception": false,
     "start_time": "2020-10-01T00:24:41.709215",
     "status": "completed"
    },
    "tags": []
   },
   "outputs": [],
   "source": [
    "\n",
    "%matplotlib inline\n",
    "\n",
    "import matplotlib.pyplot as plt\n",
    "import numpy as np\n",
    "import pandas as pd\n",
    "from pandas.plotting import register_matplotlib_converters\n",
    "register_matplotlib_converters()\n",
    "from sklearn.preprocessing import LabelEncoder\n",
    "\n",
    "ks = pd.read_csv('../input/kickstarter-projects/ks-projects-201801.csv',\n",
    "                 parse_dates=['deadline', 'launched'])\n",
    "\n",
    "# Drop live projects\n",
    "ks = ks.query('state != \"live\"')\n",
    "\n",
    "# Add outcome column, \"successful\" == 1, others are 0\n",
    "ks = ks.assign(outcome=(ks['state'] == 'successful').astype(int))\n",
    "\n",
    "# Timestamp features\n",
    "ks = ks.assign(hour=ks.launched.dt.hour,\n",
    "               day=ks.launched.dt.day,\n",
    "               month=ks.launched.dt.month,\n",
    "               year=ks.launched.dt.year)\n",
    "\n",
    "# Label encoding\n",
    "cat_features = ['category', 'currency', 'country']\n",
    "encoder = LabelEncoder()\n",
    "encoded = ks[cat_features].apply(encoder.fit_transform)\n",
    "\n",
    "data_cols = ['goal', 'hour', 'day', 'month', 'year', 'outcome']\n",
    "baseline_data = ks[data_cols].join(encoded)"
   ]
  },
  {
   "cell_type": "markdown",
   "metadata": {
    "papermill": {
     "duration": 0.010331,
     "end_time": "2020-10-01T00:24:44.630283",
     "exception": false,
     "start_time": "2020-10-01T00:24:44.619952",
     "status": "completed"
    },
    "tags": []
   },
   "source": [
    "# Interactions\n",
    "\n",
    "One of the easiest ways to create new features is by combining categorical variables. For example, if one record has the country `\"CA\"` and category `\"Music\"`, you can create a new value `\"CA_Music\"`. This is a new categorical feature that can provide information about correlations between categorical variables. This type of feature is typically called an **interaction**. \n",
    "\n",
    "In general, you would build interaction features from all pairs of categorical features. You can make interactions from three or more features as well, but you'll tend to get diminishing returns.\n",
    "\n",
    "Pandas lets us simply add string columns together like normal Python strings."
   ]
  },
  {
   "cell_type": "code",
   "execution_count": 2,
   "metadata": {
    "execution": {
     "iopub.execute_input": "2020-10-01T00:24:44.664995Z",
     "iopub.status.busy": "2020-10-01T00:24:44.664493Z",
     "iopub.status.idle": "2020-10-01T00:24:44.751927Z",
     "shell.execute_reply": "2020-10-01T00:24:44.751353Z"
    },
    "papermill": {
     "duration": 0.106108,
     "end_time": "2020-10-01T00:24:44.752048",
     "exception": false,
     "start_time": "2020-10-01T00:24:44.645940",
     "status": "completed"
    },
    "tags": []
   },
   "outputs": [
    {
     "name": "stdout",
     "output_type": "stream",
     "text": [
      "0            Poetry_GB\n",
      "1    Narrative Film_US\n",
      "2    Narrative Film_US\n",
      "3             Music_US\n",
      "4      Film & Video_US\n",
      "dtype: object\n"
     ]
    }
   ],
   "source": [
    "interactions = ks['category'] + \"_\" + ks['country']\n",
    "print(interactions.head(5))"
   ]
  },
  {
   "cell_type": "markdown",
   "metadata": {
    "papermill": {
     "duration": 0.010511,
     "end_time": "2020-10-01T00:24:44.773724",
     "exception": false,
     "start_time": "2020-10-01T00:24:44.763213",
     "status": "completed"
    },
    "tags": []
   },
   "source": [
    "Then, we can label encode the interaction feature and add it to our data."
   ]
  },
  {
   "cell_type": "code",
   "execution_count": 3,
   "metadata": {
    "execution": {
     "iopub.execute_input": "2020-10-01T00:24:44.884577Z",
     "iopub.status.busy": "2020-10-01T00:24:44.848269Z",
     "iopub.status.idle": "2020-10-01T00:24:44.906854Z",
     "shell.execute_reply": "2020-10-01T00:24:44.906293Z"
    },
    "papermill": {
     "duration": 0.122487,
     "end_time": "2020-10-01T00:24:44.906953",
     "exception": false,
     "start_time": "2020-10-01T00:24:44.784466",
     "status": "completed"
    },
    "tags": []
   },
   "outputs": [
    {
     "data": {
      "text/html": [
       "<div>\n",
       "<style scoped>\n",
       "    .dataframe tbody tr th:only-of-type {\n",
       "        vertical-align: middle;\n",
       "    }\n",
       "\n",
       "    .dataframe tbody tr th {\n",
       "        vertical-align: top;\n",
       "    }\n",
       "\n",
       "    .dataframe thead th {\n",
       "        text-align: right;\n",
       "    }\n",
       "</style>\n",
       "<table border=\"1\" class=\"dataframe\">\n",
       "  <thead>\n",
       "    <tr style=\"text-align: right;\">\n",
       "      <th></th>\n",
       "      <th>goal</th>\n",
       "      <th>hour</th>\n",
       "      <th>day</th>\n",
       "      <th>month</th>\n",
       "      <th>year</th>\n",
       "      <th>outcome</th>\n",
       "      <th>category</th>\n",
       "      <th>currency</th>\n",
       "      <th>country</th>\n",
       "      <th>category_country</th>\n",
       "    </tr>\n",
       "  </thead>\n",
       "  <tbody>\n",
       "    <tr>\n",
       "      <th>0</th>\n",
       "      <td>1000.0</td>\n",
       "      <td>12</td>\n",
       "      <td>11</td>\n",
       "      <td>8</td>\n",
       "      <td>2015</td>\n",
       "      <td>0</td>\n",
       "      <td>108</td>\n",
       "      <td>5</td>\n",
       "      <td>9</td>\n",
       "      <td>1900</td>\n",
       "    </tr>\n",
       "    <tr>\n",
       "      <th>1</th>\n",
       "      <td>30000.0</td>\n",
       "      <td>4</td>\n",
       "      <td>2</td>\n",
       "      <td>9</td>\n",
       "      <td>2017</td>\n",
       "      <td>0</td>\n",
       "      <td>93</td>\n",
       "      <td>13</td>\n",
       "      <td>22</td>\n",
       "      <td>1630</td>\n",
       "    </tr>\n",
       "    <tr>\n",
       "      <th>2</th>\n",
       "      <td>45000.0</td>\n",
       "      <td>0</td>\n",
       "      <td>12</td>\n",
       "      <td>1</td>\n",
       "      <td>2013</td>\n",
       "      <td>0</td>\n",
       "      <td>93</td>\n",
       "      <td>13</td>\n",
       "      <td>22</td>\n",
       "      <td>1630</td>\n",
       "    </tr>\n",
       "    <tr>\n",
       "      <th>3</th>\n",
       "      <td>5000.0</td>\n",
       "      <td>3</td>\n",
       "      <td>17</td>\n",
       "      <td>3</td>\n",
       "      <td>2012</td>\n",
       "      <td>0</td>\n",
       "      <td>90</td>\n",
       "      <td>13</td>\n",
       "      <td>22</td>\n",
       "      <td>1595</td>\n",
       "    </tr>\n",
       "    <tr>\n",
       "      <th>4</th>\n",
       "      <td>19500.0</td>\n",
       "      <td>8</td>\n",
       "      <td>4</td>\n",
       "      <td>7</td>\n",
       "      <td>2015</td>\n",
       "      <td>0</td>\n",
       "      <td>55</td>\n",
       "      <td>13</td>\n",
       "      <td>22</td>\n",
       "      <td>979</td>\n",
       "    </tr>\n",
       "  </tbody>\n",
       "</table>\n",
       "</div>"
      ],
      "text/plain": [
       "      goal  hour  day  month  year  outcome  category  currency  country  \\\n",
       "0   1000.0    12   11      8  2015        0       108         5        9   \n",
       "1  30000.0     4    2      9  2017        0        93        13       22   \n",
       "2  45000.0     0   12      1  2013        0        93        13       22   \n",
       "3   5000.0     3   17      3  2012        0        90        13       22   \n",
       "4  19500.0     8    4      7  2015        0        55        13       22   \n",
       "\n",
       "   category_country  \n",
       "0              1900  \n",
       "1              1630  \n",
       "2              1630  \n",
       "3              1595  \n",
       "4               979  "
      ]
     },
     "execution_count": 3,
     "metadata": {},
     "output_type": "execute_result"
    }
   ],
   "source": [
    "label_enc = LabelEncoder()\n",
    "data_interaction = baseline_data.assign(category_country=label_enc.fit_transform(interactions))\n",
    "data_interaction.head()"
   ]
  },
  {
   "cell_type": "markdown",
   "metadata": {
    "papermill": {
     "duration": 0.01095,
     "end_time": "2020-10-01T00:24:44.929233",
     "exception": false,
     "start_time": "2020-10-01T00:24:44.918283",
     "status": "completed"
    },
    "tags": []
   },
   "source": [
    "In the exercise, you'll build interaction terms for all pairs of categorical features."
   ]
  },
  {
   "cell_type": "markdown",
   "metadata": {
    "papermill": {
     "duration": 0.010851,
     "end_time": "2020-10-01T00:24:44.951399",
     "exception": false,
     "start_time": "2020-10-01T00:24:44.940548",
     "status": "completed"
    },
    "tags": []
   },
   "source": [
    "# Number of projects in the last week\n",
    "\n",
    "Next, we'll count the number of projects launched in the preceeding week for each record. I'll use the `.rolling` method on a series with the `\"launched\"` column as the index. I'll create the series, using `ks.launched` as the index and `ks.index` as the values, then sort the times. Using a time series as the index allows us to define the rolling window size in terms of hours, days, weeks, etc."
   ]
  },
  {
   "cell_type": "code",
   "execution_count": 4,
   "metadata": {
    "execution": {
     "iopub.execute_input": "2020-10-01T00:24:44.978552Z",
     "iopub.status.busy": "2020-10-01T00:24:44.977960Z",
     "iopub.status.idle": "2020-10-01T00:24:45.046747Z",
     "shell.execute_reply": "2020-10-01T00:24:45.046245Z"
    },
    "papermill": {
     "duration": 0.084363,
     "end_time": "2020-10-01T00:24:45.046845",
     "exception": false,
     "start_time": "2020-10-01T00:24:44.962482",
     "status": "completed"
    },
    "tags": []
   },
   "outputs": [
    {
     "data": {
      "text/plain": [
       "launched\n",
       "1970-01-01 01:00:00     94579\n",
       "1970-01-01 01:00:00    319002\n",
       "1970-01-01 01:00:00    247913\n",
       "1970-01-01 01:00:00     48147\n",
       "1970-01-01 01:00:00     75397\n",
       "1970-01-01 01:00:00      2842\n",
       "1970-01-01 01:00:00    273779\n",
       "2009-04-21 21:02:48    169268\n",
       "2009-04-23 00:07:53    322000\n",
       "2009-04-24 21:52:03    138572\n",
       "2009-04-25 17:36:21    325391\n",
       "2009-04-27 14:10:39    122662\n",
       "2009-04-28 13:55:41    213711\n",
       "2009-04-29 02:04:21    345606\n",
       "2009-04-29 02:58:50    235255\n",
       "2009-04-29 04:37:37     98954\n",
       "2009-04-29 05:26:32    342226\n",
       "2009-04-29 06:43:44    275091\n",
       "2009-04-29 13:52:03    284115\n",
       "2009-04-29 22:08:13     32898\n",
       "Name: count_7_days, dtype: int64"
      ]
     },
     "execution_count": 4,
     "metadata": {},
     "output_type": "execute_result"
    }
   ],
   "source": [
    "# First, create a Series with a timestamp index\n",
    "launched = pd.Series(ks.index, index=ks.launched, name=\"count_7_days\").sort_index()\n",
    "launched.head(20)"
   ]
  },
  {
   "cell_type": "markdown",
   "metadata": {
    "papermill": {
     "duration": 0.0112,
     "end_time": "2020-10-01T00:24:45.069984",
     "exception": false,
     "start_time": "2020-10-01T00:24:45.058784",
     "status": "completed"
    },
    "tags": []
   },
   "source": [
    "There are seven projects that have obviously wrong launch dates, but we'll just ignore them. Again, this is something you'd handle when cleaning the data, but it's not the focus of this mini-course.\n",
    "\n",
    "With a timeseries index, you can use `.rolling` to select time periods as the window. For example `launched.rolling('7d')` creates a rolling window that contains all the data in the previous 7 days. The window contains the current record, so if we want to count all the *previous* projects but not the current one, we'll need to subtract 1. We'll plot the results to make sure it looks right."
   ]
  },
  {
   "cell_type": "code",
   "execution_count": 5,
   "metadata": {
    "execution": {
     "iopub.execute_input": "2020-10-01T00:24:45.098164Z",
     "iopub.status.busy": "2020-10-01T00:24:45.097506Z",
     "iopub.status.idle": "2020-10-01T00:24:45.361894Z",
     "shell.execute_reply": "2020-10-01T00:24:45.361300Z"
    },
    "papermill": {
     "duration": 0.280519,
     "end_time": "2020-10-01T00:24:45.362032",
     "exception": false,
     "start_time": "2020-10-01T00:24:45.081513",
     "status": "completed"
    },
    "tags": []
   },
   "outputs": [
    {
     "name": "stdout",
     "output_type": "stream",
     "text": [
      "launched\n",
      "1970-01-01 01:00:00     0.0\n",
      "1970-01-01 01:00:00     1.0\n",
      "1970-01-01 01:00:00     2.0\n",
      "1970-01-01 01:00:00     3.0\n",
      "1970-01-01 01:00:00     4.0\n",
      "1970-01-01 01:00:00     5.0\n",
      "1970-01-01 01:00:00     6.0\n",
      "2009-04-21 21:02:48     0.0\n",
      "2009-04-23 00:07:53     1.0\n",
      "2009-04-24 21:52:03     2.0\n",
      "2009-04-25 17:36:21     3.0\n",
      "2009-04-27 14:10:39     4.0\n",
      "2009-04-28 13:55:41     5.0\n",
      "2009-04-29 02:04:21     5.0\n",
      "2009-04-29 02:58:50     6.0\n",
      "2009-04-29 04:37:37     7.0\n",
      "2009-04-29 05:26:32     8.0\n",
      "2009-04-29 06:43:44     9.0\n",
      "2009-04-29 13:52:03    10.0\n",
      "2009-04-29 22:08:13    11.0\n",
      "Name: count_7_days, dtype: float64\n"
     ]
    },
    {
     "data": {
      "image/png": "[encoded data removed]",
      "text/plain": [
       "<Figure size 432x288 with 1 Axes>"
      ]
     },
     "metadata": {
      "needs_background": "light"
     },
     "output_type": "display_data"
    }
   ],
   "source": [
    "count_7_days = launched.rolling('7d').count() - 1\n",
    "print(count_7_days.head(20))\n",
    "\n",
    "# Ignore records with broken launch dates\n",
    "plt.plot(count_7_days[7:]);\n",
    "plt.title(\"Number of projects launched over periods of 7 days\");"
   ]
  },
  {
   "cell_type": "markdown",
   "metadata": {
    "papermill": {
     "duration": 0.01238,
     "end_time": "2020-10-01T00:24:45.387527",
     "exception": false,
     "start_time": "2020-10-01T00:24:45.375147",
     "status": "completed"
    },
    "tags": []
   },
   "source": [
    "Now that we have the counts, we need to adjust the index so we can join it with the other training data. "
   ]
  },
  {
   "cell_type": "code",
   "execution_count": 6,
   "metadata": {
    "execution": {
     "iopub.execute_input": "2020-10-01T00:24:45.418382Z",
     "iopub.status.busy": "2020-10-01T00:24:45.417705Z",
     "iopub.status.idle": "2020-10-01T00:24:45.445264Z",
     "shell.execute_reply": "2020-10-01T00:24:45.444619Z"
    },
    "papermill": {
     "duration": 0.044928,
     "end_time": "2020-10-01T00:24:45.445378",
     "exception": false,
     "start_time": "2020-10-01T00:24:45.400450",
     "status": "completed"
    },
    "tags": []
   },
   "outputs": [],
   "source": [
    "count_7_days.index = launched.values\n",
    "count_7_days = count_7_days.reindex(ks.index)"
   ]
  },
  {
   "cell_type": "code",
   "execution_count": 7,
   "metadata": {
    "execution": {
     "iopub.execute_input": "2020-10-01T00:24:45.477732Z",
     "iopub.status.busy": "2020-10-01T00:24:45.477127Z",
     "iopub.status.idle": "2020-10-01T00:24:45.481601Z",
     "shell.execute_reply": "2020-10-01T00:24:45.481162Z"
    },
    "papermill": {
     "duration": 0.023144,
     "end_time": "2020-10-01T00:24:45.481704",
     "exception": false,
     "start_time": "2020-10-01T00:24:45.458560",
     "status": "completed"
    },
    "tags": []
   },
   "outputs": [
    {
     "data": {
      "text/plain": [
       "0    1409.0\n",
       "1     957.0\n",
       "2     739.0\n",
       "3     907.0\n",
       "4    1429.0\n",
       "5    1284.0\n",
       "6    1119.0\n",
       "7    1391.0\n",
       "8    1043.0\n",
       "9    3199.0\n",
       "Name: count_7_days, dtype: float64"
      ]
     },
     "execution_count": 7,
     "metadata": {},
     "output_type": "execute_result"
    }
   ],
   "source": [
    "count_7_days.head(10)"
   ]
  },
  {
   "cell_type": "markdown",
   "metadata": {
    "papermill": {
     "duration": 0.012907,
     "end_time": "2020-10-01T00:24:45.507827",
     "exception": false,
     "start_time": "2020-10-01T00:24:45.494920",
     "status": "completed"
    },
    "tags": []
   },
   "source": [
    "Now join the new feature with the other data again using `.join` since we've matched the index."
   ]
  },
  {
   "cell_type": "code",
   "execution_count": 8,
   "metadata": {
    "execution": {
     "iopub.execute_input": "2020-10-01T00:24:45.541648Z",
     "iopub.status.busy": "2020-10-01T00:24:45.540983Z",
     "iopub.status.idle": "2020-10-01T00:24:45.565942Z",
     "shell.execute_reply": "2020-10-01T00:24:45.565426Z"
    },
    "papermill": {
     "duration": 0.044951,
     "end_time": "2020-10-01T00:24:45.566088",
     "exception": false,
     "start_time": "2020-10-01T00:24:45.521137",
     "status": "completed"
    },
    "tags": []
   },
   "outputs": [
    {
     "data": {
      "text/html": [
       "<div>\n",
       "<style scoped>\n",
       "    .dataframe tbody tr th:only-of-type {\n",
       "        vertical-align: middle;\n",
       "    }\n",
       "\n",
       "    .dataframe tbody tr th {\n",
       "        vertical-align: top;\n",
       "    }\n",
       "\n",
       "    .dataframe thead th {\n",
       "        text-align: right;\n",
       "    }\n",
       "</style>\n",
       "<table border=\"1\" class=\"dataframe\">\n",
       "  <thead>\n",
       "    <tr style=\"text-align: right;\">\n",
       "      <th></th>\n",
       "      <th>goal</th>\n",
       "      <th>hour</th>\n",
       "      <th>day</th>\n",
       "      <th>month</th>\n",
       "      <th>year</th>\n",
       "      <th>outcome</th>\n",
       "      <th>category</th>\n",
       "      <th>currency</th>\n",
       "      <th>country</th>\n",
       "      <th>count_7_days</th>\n",
       "    </tr>\n",
       "  </thead>\n",
       "  <tbody>\n",
       "    <tr>\n",
       "      <th>0</th>\n",
       "      <td>1000.0</td>\n",
       "      <td>12</td>\n",
       "      <td>11</td>\n",
       "      <td>8</td>\n",
       "      <td>2015</td>\n",
       "      <td>0</td>\n",
       "      <td>108</td>\n",
       "      <td>5</td>\n",
       "      <td>9</td>\n",
       "      <td>1409.0</td>\n",
       "    </tr>\n",
       "    <tr>\n",
       "      <th>1</th>\n",
       "      <td>30000.0</td>\n",
       "      <td>4</td>\n",
       "      <td>2</td>\n",
       "      <td>9</td>\n",
       "      <td>2017</td>\n",
       "      <td>0</td>\n",
       "      <td>93</td>\n",
       "      <td>13</td>\n",
       "      <td>22</td>\n",
       "      <td>957.0</td>\n",
       "    </tr>\n",
       "    <tr>\n",
       "      <th>2</th>\n",
       "      <td>45000.0</td>\n",
       "      <td>0</td>\n",
       "      <td>12</td>\n",
       "      <td>1</td>\n",
       "      <td>2013</td>\n",
       "      <td>0</td>\n",
       "      <td>93</td>\n",
       "      <td>13</td>\n",
       "      <td>22</td>\n",
       "      <td>739.0</td>\n",
       "    </tr>\n",
       "    <tr>\n",
       "      <th>3</th>\n",
       "      <td>5000.0</td>\n",
       "      <td>3</td>\n",
       "      <td>17</td>\n",
       "      <td>3</td>\n",
       "      <td>2012</td>\n",
       "      <td>0</td>\n",
       "      <td>90</td>\n",
       "      <td>13</td>\n",
       "      <td>22</td>\n",
       "      <td>907.0</td>\n",
       "    </tr>\n",
       "    <tr>\n",
       "      <th>4</th>\n",
       "      <td>19500.0</td>\n",
       "      <td>8</td>\n",
       "      <td>4</td>\n",
       "      <td>7</td>\n",
       "      <td>2015</td>\n",
       "      <td>0</td>\n",
       "      <td>55</td>\n",
       "      <td>13</td>\n",
       "      <td>22</td>\n",
       "      <td>1429.0</td>\n",
       "    </tr>\n",
       "    <tr>\n",
       "      <th>5</th>\n",
       "      <td>50000.0</td>\n",
       "      <td>13</td>\n",
       "      <td>26</td>\n",
       "      <td>2</td>\n",
       "      <td>2016</td>\n",
       "      <td>1</td>\n",
       "      <td>123</td>\n",
       "      <td>13</td>\n",
       "      <td>22</td>\n",
       "      <td>1284.0</td>\n",
       "    </tr>\n",
       "    <tr>\n",
       "      <th>6</th>\n",
       "      <td>1000.0</td>\n",
       "      <td>18</td>\n",
       "      <td>1</td>\n",
       "      <td>12</td>\n",
       "      <td>2014</td>\n",
       "      <td>1</td>\n",
       "      <td>58</td>\n",
       "      <td>13</td>\n",
       "      <td>22</td>\n",
       "      <td>1119.0</td>\n",
       "    </tr>\n",
       "    <tr>\n",
       "      <th>7</th>\n",
       "      <td>25000.0</td>\n",
       "      <td>20</td>\n",
       "      <td>1</td>\n",
       "      <td>2</td>\n",
       "      <td>2016</td>\n",
       "      <td>0</td>\n",
       "      <td>41</td>\n",
       "      <td>13</td>\n",
       "      <td>22</td>\n",
       "      <td>1391.0</td>\n",
       "    </tr>\n",
       "    <tr>\n",
       "      <th>8</th>\n",
       "      <td>125000.0</td>\n",
       "      <td>18</td>\n",
       "      <td>24</td>\n",
       "      <td>4</td>\n",
       "      <td>2014</td>\n",
       "      <td>0</td>\n",
       "      <td>113</td>\n",
       "      <td>13</td>\n",
       "      <td>22</td>\n",
       "      <td>1043.0</td>\n",
       "    </tr>\n",
       "    <tr>\n",
       "      <th>9</th>\n",
       "      <td>65000.0</td>\n",
       "      <td>21</td>\n",
       "      <td>11</td>\n",
       "      <td>7</td>\n",
       "      <td>2014</td>\n",
       "      <td>0</td>\n",
       "      <td>39</td>\n",
       "      <td>13</td>\n",
       "      <td>22</td>\n",
       "      <td>3199.0</td>\n",
       "    </tr>\n",
       "  </tbody>\n",
       "</table>\n",
       "</div>"
      ],
      "text/plain": [
       "       goal  hour  day  month  year  outcome  category  currency  country  \\\n",
       "0    1000.0    12   11      8  2015        0       108         5        9   \n",
       "1   30000.0     4    2      9  2017        0        93        13       22   \n",
       "2   45000.0     0   12      1  2013        0        93        13       22   \n",
       "3    5000.0     3   17      3  2012        0        90        13       22   \n",
       "4   19500.0     8    4      7  2015        0        55        13       22   \n",
       "5   50000.0    13   26      2  2016        1       123        13       22   \n",
       "6    1000.0    18    1     12  2014        1        58        13       22   \n",
       "7   25000.0    20    1      2  2016        0        41        13       22   \n",
       "8  125000.0    18   24      4  2014        0       113        13       22   \n",
       "9   65000.0    21   11      7  2014        0        39        13       22   \n",
       "\n",
       "   count_7_days  \n",
       "0        1409.0  \n",
       "1         957.0  \n",
       "2         739.0  \n",
       "3         907.0  \n",
       "4        1429.0  \n",
       "5        1284.0  \n",
       "6        1119.0  \n",
       "7        1391.0  \n",
       "8        1043.0  \n",
       "9        3199.0  "
      ]
     },
     "execution_count": 8,
     "metadata": {},
     "output_type": "execute_result"
    }
   ],
   "source": [
    "baseline_data.join(count_7_days).head(10)"
   ]
  },
  {
   "cell_type": "markdown",
   "metadata": {
    "papermill": {
     "duration": 0.013414,
     "end_time": "2020-10-01T00:24:45.593252",
     "exception": false,
     "start_time": "2020-10-01T00:24:45.579838",
     "status": "completed"
    },
    "tags": []
   },
   "source": [
    "# Time since the last project in the same category\n",
    "\n",
    "Do projects in the same category compete for donors? If you're trying to fund a video game and another game project was just launched, you might not get as much money. We can capture this by calculating the time since the last launch project in the same category.\n",
    "\n",
    "A handy method for performing operations within groups is to use `.groupby` then `.transform`. The `.transform` method takes a function then passes a series or dataframe to that function for each group. This returns a dataframe with the same indices as the original dataframe. In our case, we'll perform a groupby on `\"category\"` and use transform to calculate the time differences for each category."
   ]
  },
  {
   "cell_type": "code",
   "execution_count": 9,
   "metadata": {
    "execution": {
     "iopub.execute_input": "2020-10-01T00:24:45.626934Z",
     "iopub.status.busy": "2020-10-01T00:24:45.626405Z",
     "iopub.status.idle": "2020-10-01T00:24:46.040666Z",
     "shell.execute_reply": "2020-10-01T00:24:46.041070Z"
    },
    "papermill": {
     "duration": 0.434404,
     "end_time": "2020-10-01T00:24:46.041215",
     "exception": false,
     "start_time": "2020-10-01T00:24:45.606811",
     "status": "completed"
    },
    "tags": []
   },
   "outputs": [
    {
     "data": {
      "text/html": [
       "<div>\n",
       "<style scoped>\n",
       "    .dataframe tbody tr th:only-of-type {\n",
       "        vertical-align: middle;\n",
       "    }\n",
       "\n",
       "    .dataframe tbody tr th {\n",
       "        vertical-align: top;\n",
       "    }\n",
       "\n",
       "    .dataframe thead th {\n",
       "        text-align: right;\n",
       "    }\n",
       "</style>\n",
       "<table border=\"1\" class=\"dataframe\">\n",
       "  <thead>\n",
       "    <tr style=\"text-align: right;\">\n",
       "      <th></th>\n",
       "      <th>launched</th>\n",
       "    </tr>\n",
       "  </thead>\n",
       "  <tbody>\n",
       "    <tr>\n",
       "      <th>94579</th>\n",
       "      <td>NaN</td>\n",
       "    </tr>\n",
       "    <tr>\n",
       "      <th>319002</th>\n",
       "      <td>NaN</td>\n",
       "    </tr>\n",
       "    <tr>\n",
       "      <th>247913</th>\n",
       "      <td>NaN</td>\n",
       "    </tr>\n",
       "    <tr>\n",
       "      <th>48147</th>\n",
       "      <td>NaN</td>\n",
       "    </tr>\n",
       "    <tr>\n",
       "      <th>75397</th>\n",
       "      <td>NaN</td>\n",
       "    </tr>\n",
       "    <tr>\n",
       "      <th>2842</th>\n",
       "      <td>0.000000</td>\n",
       "    </tr>\n",
       "    <tr>\n",
       "      <th>273779</th>\n",
       "      <td>NaN</td>\n",
       "    </tr>\n",
       "    <tr>\n",
       "      <th>169268</th>\n",
       "      <td>NaN</td>\n",
       "    </tr>\n",
       "    <tr>\n",
       "      <th>322000</th>\n",
       "      <td>NaN</td>\n",
       "    </tr>\n",
       "    <tr>\n",
       "      <th>138572</th>\n",
       "      <td>NaN</td>\n",
       "    </tr>\n",
       "    <tr>\n",
       "      <th>325391</th>\n",
       "      <td>NaN</td>\n",
       "    </tr>\n",
       "    <tr>\n",
       "      <th>122662</th>\n",
       "      <td>137.130833</td>\n",
       "    </tr>\n",
       "    <tr>\n",
       "      <th>213711</th>\n",
       "      <td>NaN</td>\n",
       "    </tr>\n",
       "    <tr>\n",
       "      <th>345606</th>\n",
       "      <td>145.941111</td>\n",
       "    </tr>\n",
       "    <tr>\n",
       "      <th>235255</th>\n",
       "      <td>NaN</td>\n",
       "    </tr>\n",
       "    <tr>\n",
       "      <th>98954</th>\n",
       "      <td>344715.626944</td>\n",
       "    </tr>\n",
       "    <tr>\n",
       "      <th>342226</th>\n",
       "      <td>NaN</td>\n",
       "    </tr>\n",
       "    <tr>\n",
       "      <th>275091</th>\n",
       "      <td>NaN</td>\n",
       "    </tr>\n",
       "    <tr>\n",
       "      <th>284115</th>\n",
       "      <td>NaN</td>\n",
       "    </tr>\n",
       "    <tr>\n",
       "      <th>32898</th>\n",
       "      <td>NaN</td>\n",
       "    </tr>\n",
       "  </tbody>\n",
       "</table>\n",
       "</div>"
      ],
      "text/plain": [
       "             launched\n",
       "94579             NaN\n",
       "319002            NaN\n",
       "247913            NaN\n",
       "48147             NaN\n",
       "75397             NaN\n",
       "2842         0.000000\n",
       "273779            NaN\n",
       "169268            NaN\n",
       "322000            NaN\n",
       "138572            NaN\n",
       "325391            NaN\n",
       "122662     137.130833\n",
       "213711            NaN\n",
       "345606     145.941111\n",
       "235255            NaN\n",
       "98954   344715.626944\n",
       "342226            NaN\n",
       "275091            NaN\n",
       "284115            NaN\n",
       "32898             NaN"
      ]
     },
     "execution_count": 9,
     "metadata": {},
     "output_type": "execute_result"
    }
   ],
   "source": [
    "def time_since_last_project(series):\n",
    "    # Return the time in hours\n",
    "    return series.diff().dt.total_seconds() / 3600.\n",
    "\n",
    "df = ks[['category', 'launched']].sort_values('launched')\n",
    "timedeltas = df.groupby('category').transform(time_since_last_project)\n",
    "timedeltas.head(20)"
   ]
  },
  {
   "cell_type": "markdown",
   "metadata": {
    "papermill": {
     "duration": 0.013957,
     "end_time": "2020-10-01T00:24:46.076227",
     "exception": false,
     "start_time": "2020-10-01T00:24:46.062270",
     "status": "completed"
    },
    "tags": []
   },
   "source": [
    "We get `NaN`s here for projects that are the first in their category. We'll need to fill those in with something like the mean or median. We'll also need to reset the index so we can join it with the other data."
   ]
  },
  {
   "cell_type": "code",
   "execution_count": 10,
   "metadata": {
    "execution": {
     "iopub.execute_input": "2020-10-01T00:24:46.110179Z",
     "iopub.status.busy": "2020-10-01T00:24:46.109313Z",
     "iopub.status.idle": "2020-10-01T00:24:46.143541Z",
     "shell.execute_reply": "2020-10-01T00:24:46.143957Z"
    },
    "papermill": {
     "duration": 0.05378,
     "end_time": "2020-10-01T00:24:46.144099",
     "exception": false,
     "start_time": "2020-10-01T00:24:46.090319",
     "status": "completed"
    },
    "tags": []
   },
   "outputs": [
    {
     "data": {
      "text/html": [
       "<div>\n",
       "<style scoped>\n",
       "    .dataframe tbody tr th:only-of-type {\n",
       "        vertical-align: middle;\n",
       "    }\n",
       "\n",
       "    .dataframe tbody tr th {\n",
       "        vertical-align: top;\n",
       "    }\n",
       "\n",
       "    .dataframe thead th {\n",
       "        text-align: right;\n",
       "    }\n",
       "</style>\n",
       "<table border=\"1\" class=\"dataframe\">\n",
       "  <thead>\n",
       "    <tr style=\"text-align: right;\">\n",
       "      <th></th>\n",
       "      <th>launched</th>\n",
       "    </tr>\n",
       "  </thead>\n",
       "  <tbody>\n",
       "    <tr>\n",
       "      <th>0</th>\n",
       "      <td>18.606111</td>\n",
       "    </tr>\n",
       "    <tr>\n",
       "      <th>1</th>\n",
       "      <td>5.592778</td>\n",
       "    </tr>\n",
       "    <tr>\n",
       "      <th>2</th>\n",
       "      <td>1.313611</td>\n",
       "    </tr>\n",
       "    <tr>\n",
       "      <th>3</th>\n",
       "      <td>0.635000</td>\n",
       "    </tr>\n",
       "    <tr>\n",
       "      <th>4</th>\n",
       "      <td>16.661389</td>\n",
       "    </tr>\n",
       "    <tr>\n",
       "      <th>5</th>\n",
       "      <td>2.629722</td>\n",
       "    </tr>\n",
       "    <tr>\n",
       "      <th>6</th>\n",
       "      <td>0.367500</td>\n",
       "    </tr>\n",
       "    <tr>\n",
       "      <th>7</th>\n",
       "      <td>12.286111</td>\n",
       "    </tr>\n",
       "    <tr>\n",
       "      <th>8</th>\n",
       "      <td>14.243611</td>\n",
       "    </tr>\n",
       "    <tr>\n",
       "      <th>9</th>\n",
       "      <td>0.174722</td>\n",
       "    </tr>\n",
       "    <tr>\n",
       "      <th>10</th>\n",
       "      <td>1.372222</td>\n",
       "    </tr>\n",
       "    <tr>\n",
       "      <th>11</th>\n",
       "      <td>8.524444</td>\n",
       "    </tr>\n",
       "    <tr>\n",
       "      <th>12</th>\n",
       "      <td>0.015833</td>\n",
       "    </tr>\n",
       "    <tr>\n",
       "      <th>13</th>\n",
       "      <td>9.884444</td>\n",
       "    </tr>\n",
       "    <tr>\n",
       "      <th>14</th>\n",
       "      <td>1.725556</td>\n",
       "    </tr>\n",
       "    <tr>\n",
       "      <th>15</th>\n",
       "      <td>3.806111</td>\n",
       "    </tr>\n",
       "    <tr>\n",
       "      <th>16</th>\n",
       "      <td>2.654167</td>\n",
       "    </tr>\n",
       "    <tr>\n",
       "      <th>17</th>\n",
       "      <td>26.531667</td>\n",
       "    </tr>\n",
       "    <tr>\n",
       "      <th>18</th>\n",
       "      <td>12.273611</td>\n",
       "    </tr>\n",
       "    <tr>\n",
       "      <th>19</th>\n",
       "      <td>9.288889</td>\n",
       "    </tr>\n",
       "  </tbody>\n",
       "</table>\n",
       "</div>"
      ],
      "text/plain": [
       "     launched\n",
       "0   18.606111\n",
       "1    5.592778\n",
       "2    1.313611\n",
       "3    0.635000\n",
       "4   16.661389\n",
       "5    2.629722\n",
       "6    0.367500\n",
       "7   12.286111\n",
       "8   14.243611\n",
       "9    0.174722\n",
       "10   1.372222\n",
       "11   8.524444\n",
       "12   0.015833\n",
       "13   9.884444\n",
       "14   1.725556\n",
       "15   3.806111\n",
       "16   2.654167\n",
       "17  26.531667\n",
       "18  12.273611\n",
       "19   9.288889"
      ]
     },
     "execution_count": 10,
     "metadata": {},
     "output_type": "execute_result"
    }
   ],
   "source": [
    "# Final time since last project\n",
    "timedeltas = timedeltas.fillna(timedeltas.median()).reindex(baseline_data.index)\n",
    "timedeltas.head(20)"
   ]
  },
  {
   "cell_type": "markdown",
   "metadata": {
    "papermill": {
     "duration": 0.014573,
     "end_time": "2020-10-01T00:24:46.173458",
     "exception": false,
     "start_time": "2020-10-01T00:24:46.158885",
     "status": "completed"
    },
    "tags": []
   },
   "source": [
    "# Transforming numerical features"
   ]
  },
  {
   "cell_type": "markdown",
   "metadata": {
    "papermill": {
     "duration": 0.014563,
     "end_time": "2020-10-01T00:24:46.202827",
     "exception": false,
     "start_time": "2020-10-01T00:24:46.188264",
     "status": "completed"
    },
    "tags": []
   },
   "source": [
    "The distribution of the values in `\"goal\"` shows that most projects have goals less than 5000 USD. However, there is a long tail of goals going up to $100,000. Some models work better when the features are normally distributed, so it might help to transform the goal values. Common choices for this are the square root and natural logarithm. These transformations can also help constrain outliers.\n",
    "\n",
    "Here I'll transform the goal feature using the square root and log functions as examples."
   ]
  },
  {
   "cell_type": "code",
   "execution_count": 11,
   "metadata": {
    "execution": {
     "iopub.execute_input": "2020-10-01T00:24:46.243344Z",
     "iopub.status.busy": "2020-10-01T00:24:46.242326Z",
     "iopub.status.idle": "2020-10-01T00:24:46.443424Z",
     "shell.execute_reply": "2020-10-01T00:24:46.443879Z"
    },
    "papermill": {
     "duration": 0.226381,
     "end_time": "2020-10-01T00:24:46.444040",
     "exception": false,
     "start_time": "2020-10-01T00:24:46.217659",
     "status": "completed"
    },
    "tags": []
   },
   "outputs": [
    {
     "data": {
      "image/png": "[encoded data removed]",
      "text/plain": [
       "<Figure size 432x288 with 1 Axes>"
      ]
     },
     "metadata": {
      "needs_background": "light"
     },
     "output_type": "display_data"
    }
   ],
   "source": [
    "plt.hist(ks.goal, range=(0, 100000), bins=50);\n",
    "plt.title('Goal');"
   ]
  },
  {
   "cell_type": "code",
   "execution_count": 12,
   "metadata": {
    "execution": {
     "iopub.execute_input": "2020-10-01T00:24:46.479722Z",
     "iopub.status.busy": "2020-10-01T00:24:46.478742Z",
     "iopub.status.idle": "2020-10-01T00:24:46.686220Z",
     "shell.execute_reply": "2020-10-01T00:24:46.686688Z"
    },
    "papermill": {
     "duration": 0.226926,
     "end_time": "2020-10-01T00:24:46.686823",
     "exception": false,
     "start_time": "2020-10-01T00:24:46.459897",
     "status": "completed"
    },
    "tags": []
   },
   "outputs": [
    {
     "data": {
      "image/png": "[encoded data removed]",
      "text/plain": [
       "<Figure size 432x288 with 1 Axes>"
      ]
     },
     "metadata": {
      "needs_background": "light"
     },
     "output_type": "display_data"
    }
   ],
   "source": [
    "plt.hist(np.sqrt(ks.goal), range=(0, 400), bins=50);\n",
    "plt.title('Sqrt(Goal)');"
   ]
  },
  {
   "cell_type": "code",
   "execution_count": 13,
   "metadata": {
    "execution": {
     "iopub.execute_input": "2020-10-01T00:24:46.723733Z",
     "iopub.status.busy": "2020-10-01T00:24:46.722780Z",
     "iopub.status.idle": "2020-10-01T00:24:47.003881Z",
     "shell.execute_reply": "2020-10-01T00:24:47.003456Z"
    },
    "papermill": {
     "duration": 0.300792,
     "end_time": "2020-10-01T00:24:47.003986",
     "exception": false,
     "start_time": "2020-10-01T00:24:46.703194",
     "status": "completed"
    },
    "tags": []
   },
   "outputs": [
    {
     "data": {
      "image/png": "[encoded data removed]",
      "text/plain": [
       "<Figure size 432x288 with 1 Axes>"
      ]
     },
     "metadata": {
      "needs_background": "light"
     },
     "output_type": "display_data"
    }
   ],
   "source": [
    "plt.hist(np.log(ks.goal), range=(0, 25), bins=50);\n",
    "plt.title('Log(Goal)');"
   ]
  },
  {
   "cell_type": "markdown",
   "metadata": {
    "papermill": {
     "duration": 0.016313,
     "end_time": "2020-10-01T00:24:47.036804",
     "exception": false,
     "start_time": "2020-10-01T00:24:47.020491",
     "status": "completed"
    },
    "tags": []
   },
   "source": [
    "The log transformation won't help our model since tree-based models are scale invariant. However, this should help if we had a linear model or neural network.\n",
    "\n",
    "Other transformations include squares and other powers, exponentials, etc. These might help the model discriminate, like the kernel trick for SVMs. Again, it takes a bit of experimentation to see what works. One method is to create a bunch of new features and later choose the best ones with feature selection algorithms.\n",
    "\n",
    "# Your Turn\n",
    "**[Try your hand at generating features](https://www.kaggle.com/kernels/fork/5407501)** to improve performance on your model from the previous exercise."
   ]
  },
  {
   "cell_type": "markdown",
   "metadata": {
    "papermill": {
     "duration": 0.022795,
     "end_time": "2020-10-01T00:24:47.078873",
     "exception": false,
     "start_time": "2020-10-01T00:24:47.056078",
     "status": "completed"
    },
    "tags": []
   },
   "source": [
    "---\n",
    "\n",
    "\n",
    "\n",
    "\n",
    "*Have questions or comments? Visit the [Learn Discussion forum](https://www.kaggle.com/learn-forum/161443) to chat with other Learners.*"
   ]
  }
 ],
 "metadata": {
  "kernelspec": {
   "display_name": "Python 3",
   "language": "python",
   "name": "python3"
  },
  "language_info": {
   "codemirror_mode": {
    "name": "ipython",
    "version": 3
   },
   "file_extension": ".py",
   "mimetype": "text/x-python",
   "name": "python",
   "nbconvert_exporter": "python",
   "pygments_lexer": "ipython3",
   "version": "3.7.6"
  },
  "papermill": {
   "duration": 9.486356,
   "end_time": "2020-10-01T00:24:47.206540",
   "environment_variables": {},
   "exception": null,
   "input_path": "__notebook__.ipynb",
   "output_path": "__notebook__.ipynb",
   "parameters": {},
   "start_time": "2020-10-01T00:24:37.720184",
   "version": "2.1.0"
  }
 },
 "nbformat": 4,
 "nbformat_minor": 4
}
