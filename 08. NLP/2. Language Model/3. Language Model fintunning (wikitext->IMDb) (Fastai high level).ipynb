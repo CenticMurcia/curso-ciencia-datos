{
 "cells": [
  {
   "cell_type": "code",
   "execution_count": 1,
   "id": "fresh-charleston",
   "metadata": {},
   "outputs": [],
   "source": [
    "from fastai.text.all import *"
   ]
  },
  {
   "cell_type": "code",
   "execution_count": 2,
   "id": "subject-tomato",
   "metadata": {},
   "outputs": [
    {
     "data": {
      "text/plain": [
       "Path('/home/javi/.fastai/data/imdb')"
      ]
     },
     "execution_count": 2,
     "metadata": {},
     "output_type": "execute_result"
    }
   ],
   "source": [
    "#from pathlib import Path\n",
    "#path = Path(\"../../Datasets/NLP/IMBd\")\n",
    "path = untar_data(URLs.IMDB)\n",
    "path"
   ]
  },
  {
   "cell_type": "code",
   "execution_count": 3,
   "id": "arabic-reviewer",
   "metadata": {},
   "outputs": [
    {
     "data": {
      "text/plain": [
       "(#7) [Path('/home/javi/.fastai/data/imdb/tmp_clas'),Path('/home/javi/.fastai/data/imdb/tmp_lm'),Path('/home/javi/.fastai/data/imdb/test'),Path('/home/javi/.fastai/data/imdb/imdb.vocab'),Path('/home/javi/.fastai/data/imdb/train'),Path('/home/javi/.fastai/data/imdb/README'),Path('/home/javi/.fastai/data/imdb/unsup')]"
      ]
     },
     "execution_count": 3,
     "metadata": {},
     "output_type": "execute_result"
    }
   ],
   "source": [
    "path.ls()"
   ]
  },
  {
   "cell_type": "code",
   "execution_count": 4,
   "id": "frank-renaissance",
   "metadata": {},
   "outputs": [
    {
     "data": {
      "text/plain": [
       "(#4) [Path('/home/javi/.fastai/data/imdb/train/labeledBow.feat'),Path('/home/javi/.fastai/data/imdb/train/pos'),Path('/home/javi/.fastai/data/imdb/train/unsupBow.feat'),Path('/home/javi/.fastai/data/imdb/train/neg')]"
      ]
     },
     "execution_count": 4,
     "metadata": {},
     "output_type": "execute_result"
    }
   ],
   "source": [
    "(path/'train').ls()"
   ]
  },
  {
   "cell_type": "code",
   "execution_count": 5,
   "id": "focused-ceiling",
   "metadata": {},
   "outputs": [
    {
     "data": {
      "text/html": [],
      "text/plain": [
       "<IPython.core.display.HTML object>"
      ]
     },
     "metadata": {},
     "output_type": "display_data"
    }
   ],
   "source": [
    "dls = TextDataLoaders.from_folder(path, is_lm=True, valid='test')"
   ]
  },
  {
   "cell_type": "code",
   "execution_count": 8,
   "id": "catholic-identification",
   "metadata": {},
   "outputs": [
    {
     "data": {
      "text/html": [
       "<table border=\"1\" class=\"dataframe\">\n",
       "  <thead>\n",
       "    <tr style=\"text-align: right;\">\n",
       "      <th></th>\n",
       "      <th>text</th>\n",
       "      <th>text_</th>\n",
       "    </tr>\n",
       "  </thead>\n",
       "  <tbody>\n",
       "    <tr>\n",
       "      <th>0</th>\n",
       "      <td>xxbos xxmaj often laugh out loud , sometimes sad story of 2 working divorced guys -- xxmaj lemmon a neurotic clean \" house husband \" and xxmaj matthau a slob sportswriter -- who decide to live together to cut down on expenses . \\n\\n xxmaj nicely photographed and directed . xxmaj the script is very barbed -- that is , there 's always more than one side to almost every line .</td>\n",
       "      <td>xxmaj often laugh out loud , sometimes sad story of 2 working divorced guys -- xxmaj lemmon a neurotic clean \" house husband \" and xxmaj matthau a slob sportswriter -- who decide to live together to cut down on expenses . \\n\\n xxmaj nicely photographed and directed . xxmaj the script is very barbed -- that is , there 's always more than one side to almost every line . xxmaj</td>\n",
       "    </tr>\n",
       "    <tr>\n",
       "      <th>1</th>\n",
       "      <td>something more . i would asset that this movie has something which should be interesting for all the modern film makers , specifically those who focus on the decaying horror genre . xxmaj this is the mutilation , the idea which gives coherence to the film ; the fact of a human being mutilated produces a deeper horror than death and torture . i remember how sick the sensation was , when</td>\n",
       "      <td>more . i would asset that this movie has something which should be interesting for all the modern film makers , specifically those who focus on the decaying horror genre . xxmaj this is the mutilation , the idea which gives coherence to the film ; the fact of a human being mutilated produces a deeper horror than death and torture . i remember how sick the sensation was , when the</td>\n",
       "    </tr>\n",
       "    <tr>\n",
       "      <th>2</th>\n",
       "      <td>a crush on him . xxmaj in xxmaj turkey , xxmaj bond teams up with lovable sidekick xxmaj xxunk xxmaj bey . xxmaj bond must retrieve the device , protect the damsel in distress , and get both safely back to xxmaj london . xxmaj bond screenwriter xxmaj bruce xxmaj xxunk worked on the script , and he 's done a good job of making the game the same but different to</td>\n",
       "      <td>crush on him . xxmaj in xxmaj turkey , xxmaj bond teams up with lovable sidekick xxmaj xxunk xxmaj bey . xxmaj bond must retrieve the device , protect the damsel in distress , and get both safely back to xxmaj london . xxmaj bond screenwriter xxmaj bruce xxmaj xxunk worked on the script , and he 's done a good job of making the game the same but different to the</td>\n",
       "    </tr>\n",
       "  </tbody>\n",
       "</table>"
      ],
      "text/plain": [
       "<IPython.core.display.HTML object>"
      ]
     },
     "metadata": {},
     "output_type": "display_data"
    }
   ],
   "source": [
    "dls.show_batch(max_n=3)"
   ]
  },
  {
   "cell_type": "code",
   "execution_count": 9,
   "id": "framed-aruba",
   "metadata": {},
   "outputs": [],
   "source": [
    "class ShowGraphEveryBatchCallback(Callback):\n",
    "    \"Update a graph of training and validation loss\"\n",
    "        \n",
    "    def after_batch(self):\n",
    "        if self.iter%15 == 0:\n",
    "            rec   = self.learn.recorder\n",
    "            iters = range(len(rec.losses))\n",
    "            x_bounds = (0, self.n_epoch * self.n_iter)\n",
    "            y_bounds = (0, 10)\n",
    "            self.progress.mbar.update_graph([(iters, rec.losses)], x_bounds, y_bounds)"
   ]
  },
  {
   "cell_type": "code",
   "execution_count": null,
   "id": "respiratory-glenn",
   "metadata": {},
   "outputs": [],
   "source": []
  },
  {
   "cell_type": "code",
   "execution_count": 12,
   "id": "noble-second",
   "metadata": {},
   "outputs": [],
   "source": [
    "learn = language_model_learner(dls,\n",
    "                               AWD_LSTM,\n",
    "                               metrics=[accuracy, Perplexity()],\n",
    "                               path=path,\n",
    "                               wd=0.1,\n",
    "                               cbs = [ShowGraphEveryBatchCallback]).to_fp16()"
   ]
  },
  {
   "cell_type": "code",
   "execution_count": 17,
   "id": "common-christmas",
   "metadata": {},
   "outputs": [
    {
     "name": "stdout",
     "output_type": "stream",
     "text": [
      "True\n",
      "False\n",
      "False\n",
      "False\n",
      "False\n",
      "False\n",
      "False\n",
      "False\n",
      "False\n",
      "False\n",
      "False\n",
      "False\n",
      "False\n",
      "True\n"
     ]
    }
   ],
   "source": [
    "for parameter in learn.model.parameters():\n",
    "    print(parameter.requires_grad)"
   ]
  },
  {
   "cell_type": "code",
   "execution_count": 13,
   "id": "moving-forum",
   "metadata": {},
   "outputs": [
    {
     "data": {
      "text/plain": [
       "(#7) [TrainEvalCallback,Recorder,ProgressCallback,ShowGraphEveryBatchCallback,ModelResetter,RNNCallback,MixedPrecision]"
      ]
     },
     "execution_count": 13,
     "metadata": {},
     "output_type": "execute_result"
    }
   ],
   "source": [
    "learn.cbs"
   ]
  },
  {
   "cell_type": "code",
   "execution_count": 15,
   "id": "acting-white",
   "metadata": {},
   "outputs": [
    {
     "data": {
      "text/html": [
       "<table border=\"1\" class=\"dataframe\">\n",
       "  <thead>\n",
       "    <tr style=\"text-align: left;\">\n",
       "      <th>epoch</th>\n",
       "      <th>train_loss</th>\n",
       "      <th>valid_loss</th>\n",
       "      <th>accuracy</th>\n",
       "      <th>perplexity</th>\n",
       "      <th>time</th>\n",
       "    </tr>\n",
       "  </thead>\n",
       "  <tbody>\n",
       "    <tr>\n",
       "      <td>0</td>\n",
       "      <td>4.390143</td>\n",
       "      <td>4.170024</td>\n",
       "      <td>0.281579</td>\n",
       "      <td>64.717033</td>\n",
       "      <td>09:59</td>\n",
       "    </tr>\n",
       "  </tbody>\n",
       "</table>"
      ],
      "text/plain": [
       "<IPython.core.display.HTML object>"
      ]
     },
     "metadata": {},
     "output_type": "display_data"
    },
    {
     "data": {
      "image/png": "[encoded data removed]",
      "text/plain": [
       "<Figure size 432x288 with 1 Axes>"
      ]
     },
     "metadata": {},
     "output_type": "display_data"
    }
   ],
   "source": [
    "learn.fit_one_cycle(1, 1e-2)"
   ]
  }
 ],
 "metadata": {
  "kernelspec": {
   "display_name": "Python 3",
   "language": "python",
   "name": "python3"
  },
  "language_info": {
   "codemirror_mode": {
    "name": "ipython",
    "version": 3
   },
   "file_extension": ".py",
   "mimetype": "text/x-python",
   "name": "python",
   "nbconvert_exporter": "python",
   "pygments_lexer": "ipython3",
   "version": "3.9.2"
  }
 },
 "nbformat": 4,
 "nbformat_minor": 5
}
