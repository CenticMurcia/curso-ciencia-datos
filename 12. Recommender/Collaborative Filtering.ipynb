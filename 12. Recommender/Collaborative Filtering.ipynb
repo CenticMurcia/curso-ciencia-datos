{
 "cells": [
  {
   "cell_type": "code",
   "execution_count": 1,
   "metadata": {
    "executionInfo": {
     "elapsed": 1937,
     "status": "ok",
     "timestamp": 1606001394924,
     "user": {
      "displayName": "Javier Abellán Abenza",
      "photoUrl": "https://lh3.googleusercontent.com/a-/AOh14GiJEOV973XXm14cBq9ngg8AXEv3tZFKjEsumF2ESYE=s64",
      "userId": "17171142240935309436"
     },
     "user_tz": -60
    },
    "id": "RXIOHS1R9CXh"
   },
   "outputs": [],
   "source": [
    "import pandas as pd\n",
    "import numpy as np\n",
    "import matplotlib.pyplot as plt\n",
    "\n",
    "import tensorflow as tf\n",
    "from tensorflow import keras\n",
    "from tensorflow.keras import layers"
   ]
  },
  {
   "cell_type": "code",
   "execution_count": 2,
   "metadata": {},
   "outputs": [],
   "source": [
    "path = \"./../data/movielens-100k/\""
   ]
  },
  {
   "cell_type": "code",
   "execution_count": 3,
   "metadata": {},
   "outputs": [],
   "source": [
    "#!wget -P $path https://raw.githubusercontent.com/CenticMurcia/curso-ciencia-datos/master/data/movielens-100k/data\n",
    "#!wget -P $path https://raw.githubusercontent.com/CenticMurcia/curso-ciencia-datos/master/data/movielens-100k/item"
   ]
  },
  {
   "cell_type": "code",
   "execution_count": 4,
   "metadata": {},
   "outputs": [
    {
     "name": "stdout",
     "output_type": "stream",
     "text": [
      "data  genre  info  item  occupation  README  user\r\n"
     ]
    }
   ],
   "source": [
    "!ls $path"
   ]
  },
  {
   "cell_type": "code",
   "execution_count": 5,
   "metadata": {},
   "outputs": [
    {
     "data": {
      "text/html": [
       "<div>\n",
       "<style scoped>\n",
       "    .dataframe tbody tr th:only-of-type {\n",
       "        vertical-align: middle;\n",
       "    }\n",
       "\n",
       "    .dataframe tbody tr th {\n",
       "        vertical-align: top;\n",
       "    }\n",
       "\n",
       "    .dataframe thead th {\n",
       "        text-align: right;\n",
       "    }\n",
       "</style>\n",
       "<table border=\"1\" class=\"dataframe\">\n",
       "  <thead>\n",
       "    <tr style=\"text-align: right;\">\n",
       "      <th></th>\n",
       "      <th>user</th>\n",
       "      <th>movie</th>\n",
       "      <th>rating</th>\n",
       "      <th>timestamp</th>\n",
       "    </tr>\n",
       "  </thead>\n",
       "  <tbody>\n",
       "    <tr>\n",
       "      <th>0</th>\n",
       "      <td>196</td>\n",
       "      <td>242</td>\n",
       "      <td>3</td>\n",
       "      <td>881250949</td>\n",
       "    </tr>\n",
       "    <tr>\n",
       "      <th>1</th>\n",
       "      <td>186</td>\n",
       "      <td>302</td>\n",
       "      <td>3</td>\n",
       "      <td>891717742</td>\n",
       "    </tr>\n",
       "    <tr>\n",
       "      <th>2</th>\n",
       "      <td>22</td>\n",
       "      <td>377</td>\n",
       "      <td>1</td>\n",
       "      <td>878887116</td>\n",
       "    </tr>\n",
       "    <tr>\n",
       "      <th>3</th>\n",
       "      <td>244</td>\n",
       "      <td>51</td>\n",
       "      <td>2</td>\n",
       "      <td>880606923</td>\n",
       "    </tr>\n",
       "    <tr>\n",
       "      <th>4</th>\n",
       "      <td>166</td>\n",
       "      <td>346</td>\n",
       "      <td>1</td>\n",
       "      <td>886397596</td>\n",
       "    </tr>\n",
       "  </tbody>\n",
       "</table>\n",
       "</div>"
      ],
      "text/plain": [
       "   user  movie  rating  timestamp\n",
       "0   196    242       3  881250949\n",
       "1   186    302       3  891717742\n",
       "2    22    377       1  878887116\n",
       "3   244     51       2  880606923\n",
       "4   166    346       1  886397596"
      ]
     },
     "execution_count": 5,
     "metadata": {},
     "output_type": "execute_result"
    }
   ],
   "source": [
    "df = pd.read_csv(path+\"data\", delimiter='\\t', header=None,\n",
    "                      names=['user','movie','rating','timestamp'])\n",
    "df.head()"
   ]
  },
  {
   "cell_type": "code",
   "execution_count": 6,
   "metadata": {},
   "outputs": [
    {
     "data": {
      "text/html": [
       "<div>\n",
       "<style scoped>\n",
       "    .dataframe tbody tr th:only-of-type {\n",
       "        vertical-align: middle;\n",
       "    }\n",
       "\n",
       "    .dataframe tbody tr th {\n",
       "        vertical-align: top;\n",
       "    }\n",
       "\n",
       "    .dataframe thead th {\n",
       "        text-align: right;\n",
       "    }\n",
       "</style>\n",
       "<table border=\"1\" class=\"dataframe\">\n",
       "  <thead>\n",
       "    <tr style=\"text-align: right;\">\n",
       "      <th></th>\n",
       "      <th>movie</th>\n",
       "      <th>title</th>\n",
       "    </tr>\n",
       "  </thead>\n",
       "  <tbody>\n",
       "    <tr>\n",
       "      <th>0</th>\n",
       "      <td>1</td>\n",
       "      <td>Toy Story (1995)</td>\n",
       "    </tr>\n",
       "    <tr>\n",
       "      <th>1</th>\n",
       "      <td>2</td>\n",
       "      <td>GoldenEye (1995)</td>\n",
       "    </tr>\n",
       "    <tr>\n",
       "      <th>2</th>\n",
       "      <td>3</td>\n",
       "      <td>Four Rooms (1995)</td>\n",
       "    </tr>\n",
       "    <tr>\n",
       "      <th>3</th>\n",
       "      <td>4</td>\n",
       "      <td>Get Shorty (1995)</td>\n",
       "    </tr>\n",
       "    <tr>\n",
       "      <th>4</th>\n",
       "      <td>5</td>\n",
       "      <td>Copycat (1995)</td>\n",
       "    </tr>\n",
       "  </tbody>\n",
       "</table>\n",
       "</div>"
      ],
      "text/plain": [
       "   movie              title\n",
       "0      1   Toy Story (1995)\n",
       "1      2   GoldenEye (1995)\n",
       "2      3  Four Rooms (1995)\n",
       "3      4  Get Shorty (1995)\n",
       "4      5     Copycat (1995)"
      ]
     },
     "execution_count": 6,
     "metadata": {},
     "output_type": "execute_result"
    }
   ],
   "source": [
    "movies_df = pd.read_csv(path+\"item\",  delimiter='|', encoding='latin-1',\n",
    "                     usecols=(0,1), names=('movie','title'), header=None)\n",
    "movies_df.head()"
   ]
  },
  {
   "cell_type": "code",
   "execution_count": 7,
   "metadata": {},
   "outputs": [
    {
     "data": {
      "text/plain": [
       "4    34174\n",
       "3    27145\n",
       "5    21201\n",
       "2    11370\n",
       "1     6110\n",
       "Name: rating, dtype: int64"
      ]
     },
     "execution_count": 7,
     "metadata": {},
     "output_type": "execute_result"
    }
   ],
   "source": [
    "df.rating.value_counts()"
   ]
  },
  {
   "cell_type": "code",
   "execution_count": 8,
   "metadata": {
    "executionInfo": {
     "elapsed": 491,
     "status": "ok",
     "timestamp": 1605987494245,
     "user": {
      "displayName": "Javier Abellán Abenza",
      "photoUrl": "https://lh3.googleusercontent.com/a-/AOh14GiJEOV973XXm14cBq9ngg8AXEv3tZFKjEsumF2ESYE=s64",
      "userId": "17171142240935309436"
     },
     "user_tz": -60
    },
    "id": "Ldhy5buNIzL4"
   },
   "outputs": [
    {
     "name": "stdout",
     "output_type": "stream",
     "text": [
      "Number of ratings: 100000\n",
      "Number of users:   943\n",
      "Number of movies:  1682\n"
     ]
    }
   ],
   "source": [
    "num_users  = df[\"user\"].nunique()\n",
    "num_movies = df[\"movie\"].nunique()\n",
    "\n",
    "print(\"Number of ratings:\", len(df))\n",
    "print(\"Number of users:  \", num_users)\n",
    "print(\"Number of movies: \", num_movies)"
   ]
  },
  {
   "cell_type": "markdown",
   "metadata": {},
   "source": [
    "# Prepare data"
   ]
  },
  {
   "cell_type": "code",
   "execution_count": 9,
   "metadata": {},
   "outputs": [],
   "source": [
    "df[\"user\"]  = df[\"user\"]  - 1 # Para empezar en 0\n",
    "df[\"movie\"] = df[\"movie\"] - 1 # Para empezar en 0\n",
    "df[\"rating\"]  = df[\"rating\"].values.astype(np.float32)\n",
    "\n",
    "\n",
    "movies_df[\"movie\"] = movies_df[\"movie\"] - 1 # Para empezar en 0\n",
    "\n",
    "\n",
    "# Normalize the targets between 0 and 1. Makes it easy to train.\n",
    "min_rating = min(df[\"rating\"])\n",
    "max_rating = max(df[\"rating\"])\n",
    "df[\"rating_norm\"] = df[\"rating\"].apply(lambda x: (x - min_rating) / (max_rating - min_rating))"
   ]
  },
  {
   "cell_type": "markdown",
   "metadata": {
    "id": "duo2-caTQwj2"
   },
   "source": [
    "# Split train (90%), val (10%)"
   ]
  },
  {
   "cell_type": "code",
   "execution_count": 10,
   "metadata": {
    "executionInfo": {
     "elapsed": 476,
     "status": "ok",
     "timestamp": 1605987528754,
     "user": {
      "displayName": "Javier Abellán Abenza",
      "photoUrl": "https://lh3.googleusercontent.com/a-/AOh14GiJEOV973XXm14cBq9ngg8AXEv3tZFKjEsumF2ESYE=s64",
      "userId": "17171142240935309436"
     },
     "user_tz": -60
    },
    "id": "lbdJ0V5TGFxi"
   },
   "outputs": [],
   "source": [
    "df = df.sample(frac=1, random_state=42) # Shuffle\n",
    "x  = df[[\"user\", \"movie\"]].values\n",
    "y  = df[\"rating\"].values\n",
    "y2 = df[\"rating_norm\"].values\n",
    "\n",
    "train_indices = int(0.9 * df.shape[0]) # Assuming training on 90% of the data and validating on 10%.\n",
    "x_train = x[:train_indices]\n",
    "x_val   = x[train_indices:]\n",
    "y_train = y[:train_indices]\n",
    "y_val   = y[train_indices:]\n",
    "y2_train = y2[:train_indices]\n",
    "y2_val   = y2[train_indices:]"
   ]
  },
  {
   "cell_type": "markdown",
   "metadata": {
    "id": "vT6oGLOxQz-Q"
   },
   "source": [
    "# Create Model"
   ]
  },
  {
   "cell_type": "code",
   "execution_count": 11,
   "metadata": {
    "executionInfo": {
     "elapsed": 519,
     "status": "ok",
     "timestamp": 1605987531387,
     "user": {
      "displayName": "Javier Abellán Abenza",
      "photoUrl": "https://lh3.googleusercontent.com/a-/AOh14GiJEOV973XXm14cBq9ngg8AXEv3tZFKjEsumF2ESYE=s64",
      "userId": "17171142240935309436"
     },
     "user_tz": -60
    },
    "id": "ih4VJPzWGZ7K"
   },
   "outputs": [],
   "source": [
    "EMBEDDING_SIZE = 50\n",
    "\n",
    "class RecommenderNet(keras.Model):\n",
    "    def __init__(self, num_users, num_movies, embedding_size, classification=False, **kwargs):\n",
    "        super(RecommenderNet, self).__init__(**kwargs)\n",
    "        self.num_users      = num_users\n",
    "        self.num_movies     = num_movies\n",
    "        self.embedding_size = embedding_size\n",
    "        self.classification = classification\n",
    "\n",
    "        self.user_embedding = layers.Embedding(\n",
    "            num_users,\n",
    "            embedding_size,\n",
    "            embeddings_initializer=\"he_normal\",\n",
    "            embeddings_regularizer=keras.regularizers.l2(1e-6),\n",
    "        )\n",
    "        self.user_bias = layers.Embedding(num_users, 1)\n",
    "        self.movie_embedding = layers.Embedding(\n",
    "            num_movies,\n",
    "            embedding_size,\n",
    "            embeddings_initializer=\"he_normal\",\n",
    "            embeddings_regularizer=keras.regularizers.l2(1e-6),\n",
    "        )\n",
    "        self.movie_bias = layers.Embedding(num_movies, 1)\n",
    "\n",
    "    def call(self, inputs):\n",
    "        user_vector = self.user_embedding(inputs[:, 0])\n",
    "        user_bias = self.user_bias(inputs[:, 0])\n",
    "        movie_vector = self.movie_embedding(inputs[:, 1])\n",
    "        movie_bias = self.movie_bias(inputs[:, 1])\n",
    "        dot_user_movie = tf.tensordot(user_vector, movie_vector, 2)\n",
    "        # Add all the components (including bias)\n",
    "        x = dot_user_movie + user_bias + movie_bias\n",
    "        if self.classification:\n",
    "            # The sigmoid activation forces the rating to between 0 and 1\n",
    "            x = tf.nn.sigmoid(x)\n",
    "        return x"
   ]
  },
  {
   "cell_type": "markdown",
   "metadata": {
    "id": "8-1ntiMMPaMg"
   },
   "source": [
    "# Train model (as binary classifier)"
   ]
  },
  {
   "cell_type": "code",
   "execution_count": 12,
   "metadata": {},
   "outputs": [
    {
     "name": "stdout",
     "output_type": "stream",
     "text": [
      "Epoch 1/5\n",
      "1407/1407 [==============================] - 1s 994us/step - loss: 0.6517 - val_loss: 0.6375\n",
      "Epoch 2/5\n",
      "1407/1407 [==============================] - 1s 930us/step - loss: 0.6272 - val_loss: 0.6290\n",
      "Epoch 3/5\n",
      "1407/1407 [==============================] - 1s 900us/step - loss: 0.6195 - val_loss: 0.6229\n",
      "Epoch 4/5\n",
      "1407/1407 [==============================] - 1s 904us/step - loss: 0.6164 - val_loss: 0.6211\n",
      "Epoch 5/5\n",
      "1407/1407 [==============================] - 1s 904us/step - loss: 0.6169 - val_loss: 0.6194\n"
     ]
    }
   ],
   "source": [
    "model = RecommenderNet(num_users, num_movies, EMBEDDING_SIZE, classification=True)\n",
    "model.compile(\n",
    "    loss      = tf.keras.losses.BinaryCrossentropy(),\n",
    "    optimizer = keras.optimizers.Adam(lr=0.001)\n",
    ")\n",
    "\n",
    "history = model.fit(\n",
    "    x=x_train,\n",
    "    y=y2_train,\n",
    "    batch_size=64,\n",
    "    epochs=5,\n",
    "    verbose=1,\n",
    "    validation_data=(x_val, y2_val),\n",
    ")"
   ]
  },
  {
   "cell_type": "code",
   "execution_count": 13,
   "metadata": {
    "colab": {
     "base_uri": "https://localhost:8080/",
     "height": 295
    },
    "executionInfo": {
     "elapsed": 597,
     "status": "ok",
     "timestamp": 1605987604763,
     "user": {
      "displayName": "Javier Abellán Abenza",
      "photoUrl": "https://lh3.googleusercontent.com/a-/AOh14GiJEOV973XXm14cBq9ngg8AXEv3tZFKjEsumF2ESYE=s64",
      "userId": "17171142240935309436"
     },
     "user_tz": -60
    },
    "id": "hG9airEnH-H4",
    "outputId": "65a8df88-69d8-44b7-d990-2d12f4502264"
   },
   "outputs": [
    {
     "data": {
      "image/png": "[encoded data removed]",
      "text/plain": [
       "<Figure size 432x288 with 1 Axes>"
      ]
     },
     "metadata": {
      "needs_background": "light"
     },
     "output_type": "display_data"
    }
   ],
   "source": [
    "plt.plot(history.history[\"loss\"])\n",
    "plt.plot(history.history[\"val_loss\"])\n",
    "plt.title(\"model loss\")\n",
    "plt.ylabel(\"loss\")\n",
    "plt.xlabel(\"epoch\")\n",
    "plt.legend([\"train\", \"test\"], loc=\"upper left\")\n",
    "plt.show()"
   ]
  },
  {
   "cell_type": "code",
   "execution_count": 14,
   "metadata": {
    "colab": {
     "base_uri": "https://localhost:8080/"
    },
    "executionInfo": {
     "elapsed": 959,
     "status": "ok",
     "timestamp": 1605987612979,
     "user": {
      "displayName": "Javier Abellán Abenza",
      "photoUrl": "https://lh3.googleusercontent.com/a-/AOh14GiJEOV973XXm14cBq9ngg8AXEv3tZFKjEsumF2ESYE=s64",
      "userId": "17171142240935309436"
     },
     "user_tz": -60
    },
    "id": "TTiGt94BJbqu",
    "outputId": "78084894-116f-439a-a244-f5af9af4bbd9"
   },
   "outputs": [
    {
     "data": {
      "text/plain": [
       "array([[0.36488193],\n",
       "       [0.7390823 ],\n",
       "       [0.40686136],\n",
       "       ...,\n",
       "       [0.62186265],\n",
       "       [0.4172713 ],\n",
       "       [0.51090074]], dtype=float32)"
      ]
     },
     "execution_count": 14,
     "metadata": {},
     "output_type": "execute_result"
    }
   ],
   "source": [
    "model.predict(x_val)"
   ]
  },
  {
   "cell_type": "markdown",
   "metadata": {
    "id": "6Nnreq0NPhtV"
   },
   "source": [
    "# Train model (as regressor)"
   ]
  },
  {
   "cell_type": "code",
   "execution_count": 15,
   "metadata": {
    "colab": {
     "base_uri": "https://localhost:8080/"
    },
    "executionInfo": {
     "elapsed": 28523,
     "status": "ok",
     "timestamp": 1605987819757,
     "user": {
      "displayName": "Javier Abellán Abenza",
      "photoUrl": "https://lh3.googleusercontent.com/a-/AOh14GiJEOV973XXm14cBq9ngg8AXEv3tZFKjEsumF2ESYE=s64",
      "userId": "17171142240935309436"
     },
     "user_tz": -60
    },
    "id": "B4O1F6mIK1Y3",
    "outputId": "42a066b2-3150-4854-9ede-2764207eec93"
   },
   "outputs": [
    {
     "name": "stdout",
     "output_type": "stream",
     "text": [
      "Epoch 1/5\n",
      "1407/1407 [==============================] - 1s 927us/step - loss: 4.7864 - val_loss: 1.2327\n",
      "Epoch 2/5\n",
      "1407/1407 [==============================] - 1s 892us/step - loss: 1.1337 - val_loss: 1.2002\n",
      "Epoch 3/5\n",
      "1407/1407 [==============================] - 1s 880us/step - loss: 1.0322 - val_loss: 1.1451\n",
      "Epoch 4/5\n",
      "1407/1407 [==============================] - 1s 895us/step - loss: 0.9980 - val_loss: 1.0825\n",
      "Epoch 5/5\n",
      "1407/1407 [==============================] - 1s 905us/step - loss: 0.9996 - val_loss: 1.0846\n"
     ]
    }
   ],
   "source": [
    "model = RecommenderNet(num_users, num_movies, EMBEDDING_SIZE, classification=False)\n",
    "model.compile(\n",
    "    loss      = tf.keras.losses.MeanSquaredError(), # \"mse\"\n",
    "    optimizer = keras.optimizers.Adam(lr=0.001)\n",
    ")\n",
    "\n",
    "history = model.fit(\n",
    "    x=x_train,\n",
    "    y=y_train,\n",
    "    batch_size=64,\n",
    "    epochs=5,\n",
    "    verbose=1,\n",
    "    validation_data=(x_val, y_val),\n",
    ")"
   ]
  },
  {
   "cell_type": "code",
   "execution_count": 16,
   "metadata": {
    "colab": {
     "base_uri": "https://localhost:8080/",
     "height": 295
    },
    "executionInfo": {
     "elapsed": 27325,
     "status": "ok",
     "timestamp": 1605987820094,
     "user": {
      "displayName": "Javier Abellán Abenza",
      "photoUrl": "https://lh3.googleusercontent.com/a-/AOh14GiJEOV973XXm14cBq9ngg8AXEv3tZFKjEsumF2ESYE=s64",
      "userId": "17171142240935309436"
     },
     "user_tz": -60
    },
    "id": "SzVg9FP0L0Yz",
    "outputId": "ad118958-c7f6-4333-ef23-5c99b35e9e7f"
   },
   "outputs": [
    {
     "data": {
      "image/png": "[encoded data removed]",
      "text/plain": [
       "<Figure size 432x288 with 1 Axes>"
      ]
     },
     "metadata": {
      "needs_background": "light"
     },
     "output_type": "display_data"
    }
   ],
   "source": [
    "plt.plot(history.history[\"loss\"])\n",
    "plt.plot(history.history[\"val_loss\"])\n",
    "plt.title(\"model loss\")\n",
    "plt.ylabel(\"loss\")\n",
    "plt.xlabel(\"epoch\")\n",
    "plt.legend([\"train\", \"test\"], loc=\"upper left\")\n",
    "plt.show()"
   ]
  },
  {
   "cell_type": "markdown",
   "metadata": {
    "id": "nYH5kFpoOVLy"
   },
   "source": [
    "# Prededir validación"
   ]
  },
  {
   "cell_type": "code",
   "execution_count": 17,
   "metadata": {
    "colab": {
     "base_uri": "https://localhost:8080/",
     "height": 164
    },
    "executionInfo": {
     "elapsed": 1213,
     "status": "error",
     "timestamp": 1606001293835,
     "user": {
      "displayName": "Javier Abellán Abenza",
      "photoUrl": "https://lh3.googleusercontent.com/a-/AOh14GiJEOV973XXm14cBq9ngg8AXEv3tZFKjEsumF2ESYE=s64",
      "userId": "17171142240935309436"
     },
     "user_tz": -60
    },
    "id": "baFf9eugOruR",
    "outputId": "3c961f62-e1e5-4663-bb47-bbfe41d56c47"
   },
   "outputs": [
    {
     "data": {
      "text/plain": [
       "array([[1.0237403],\n",
       "       [2.392202 ],\n",
       "       [1.2099521],\n",
       "       ...,\n",
       "       [1.2229949],\n",
       "       [0.4144891],\n",
       "       [0.7465278]], dtype=float32)"
      ]
     },
     "execution_count": 17,
     "metadata": {},
     "output_type": "execute_result"
    }
   ],
   "source": [
    "model.predict(x_val)"
   ]
  },
  {
   "cell_type": "markdown",
   "metadata": {
    "id": "zhG6XmCcVwhZ"
   },
   "source": [
    "# Predecir test: Recomendaciones de peliculas no vistas para un usuario"
   ]
  },
  {
   "cell_type": "markdown",
   "metadata": {},
   "source": [
    "### Pelis vistas del usuario"
   ]
  },
  {
   "cell_type": "code",
   "execution_count": 18,
   "metadata": {
    "executionInfo": {
     "elapsed": 459,
     "status": "ok",
     "timestamp": 1605988642910,
     "user": {
      "displayName": "Javier Abellán Abenza",
      "photoUrl": "https://lh3.googleusercontent.com/a-/AOh14GiJEOV973XXm14cBq9ngg8AXEv3tZFKjEsumF2ESYE=s64",
      "userId": "17171142240935309436"
     },
     "user_tz": -60
    },
    "id": "7-LEilJdOZqV"
   },
   "outputs": [
    {
     "data": {
      "text/html": [
       "<div>\n",
       "<style scoped>\n",
       "    .dataframe tbody tr th:only-of-type {\n",
       "        vertical-align: middle;\n",
       "    }\n",
       "\n",
       "    .dataframe tbody tr th {\n",
       "        vertical-align: top;\n",
       "    }\n",
       "\n",
       "    .dataframe thead th {\n",
       "        text-align: right;\n",
       "    }\n",
       "</style>\n",
       "<table border=\"1\" class=\"dataframe\">\n",
       "  <thead>\n",
       "    <tr style=\"text-align: right;\">\n",
       "      <th></th>\n",
       "      <th>movie</th>\n",
       "      <th>rating</th>\n",
       "      <th>title</th>\n",
       "    </tr>\n",
       "  </thead>\n",
       "  <tbody>\n",
       "    <tr>\n",
       "      <th>88</th>\n",
       "      <td>164</td>\n",
       "      <td>5.0</td>\n",
       "      <td>Jean de Florette (1986)</td>\n",
       "    </tr>\n",
       "    <tr>\n",
       "      <th>86</th>\n",
       "      <td>168</td>\n",
       "      <td>5.0</td>\n",
       "      <td>Wrong Trousers, The (1993)</td>\n",
       "    </tr>\n",
       "    <tr>\n",
       "      <th>112</th>\n",
       "      <td>47</td>\n",
       "      <td>5.0</td>\n",
       "      <td>Hoop Dreams (1994)</td>\n",
       "    </tr>\n",
       "    <tr>\n",
       "      <th>110</th>\n",
       "      <td>49</td>\n",
       "      <td>5.0</td>\n",
       "      <td>Star Wars (1977)</td>\n",
       "    </tr>\n",
       "    <tr>\n",
       "      <th>108</th>\n",
       "      <td>227</td>\n",
       "      <td>5.0</td>\n",
       "      <td>Star Trek: The Wrath of Khan (1982)</td>\n",
       "    </tr>\n",
       "    <tr>\n",
       "      <th>...</th>\n",
       "      <td>...</td>\n",
       "      <td>...</td>\n",
       "      <td>...</td>\n",
       "    </tr>\n",
       "    <tr>\n",
       "      <th>94</th>\n",
       "      <td>230</td>\n",
       "      <td>1.0</td>\n",
       "      <td>Batman Returns (1992)</td>\n",
       "    </tr>\n",
       "    <tr>\n",
       "      <th>62</th>\n",
       "      <td>253</td>\n",
       "      <td>1.0</td>\n",
       "      <td>Batman &amp; Robin (1997)</td>\n",
       "    </tr>\n",
       "    <tr>\n",
       "      <th>93</th>\n",
       "      <td>265</td>\n",
       "      <td>1.0</td>\n",
       "      <td>Kull the Conqueror (1997)</td>\n",
       "    </tr>\n",
       "    <tr>\n",
       "      <th>82</th>\n",
       "      <td>259</td>\n",
       "      <td>1.0</td>\n",
       "      <td>Event Horizon (1997)</td>\n",
       "    </tr>\n",
       "    <tr>\n",
       "      <th>175</th>\n",
       "      <td>242</td>\n",
       "      <td>1.0</td>\n",
       "      <td>Jungle2Jungle (1997)</td>\n",
       "    </tr>\n",
       "  </tbody>\n",
       "</table>\n",
       "<p>272 rows × 3 columns</p>\n",
       "</div>"
      ],
      "text/plain": [
       "     movie  rating                                title\n",
       "88     164     5.0              Jean de Florette (1986)\n",
       "86     168     5.0           Wrong Trousers, The (1993)\n",
       "112     47     5.0                   Hoop Dreams (1994)\n",
       "110     49     5.0                     Star Wars (1977)\n",
       "108    227     5.0  Star Trek: The Wrath of Khan (1982)\n",
       "..     ...     ...                                  ...\n",
       "94     230     1.0                Batman Returns (1992)\n",
       "62     253     1.0                Batman & Robin (1997)\n",
       "93     265     1.0            Kull the Conqueror (1997)\n",
       "82     259     1.0                 Event Horizon (1997)\n",
       "175    242     1.0                 Jungle2Jungle (1997)\n",
       "\n",
       "[272 rows x 3 columns]"
      ]
     },
     "execution_count": 18,
     "metadata": {},
     "output_type": "execute_result"
    }
   ],
   "source": [
    "user = 0\n",
    "movies_watched_by_user = df[df.user == user][[\"movie\", \"rating\"]]\n",
    "movies_watched_by_user = movies_watched_by_user.merge(movies_df).sort_values(by=['rating'], ascending=False)\n",
    "movies_watched_by_user"
   ]
  },
  {
   "cell_type": "markdown",
   "metadata": {},
   "source": [
    "### Generar predicciones de las no vistas"
   ]
  },
  {
   "cell_type": "code",
   "execution_count": 19,
   "metadata": {},
   "outputs": [],
   "source": [
    "movies_not_watched = movies_df[ ~movies_df[\"movie\"].isin(movies_watched_by_user.movie.values) ].copy()"
   ]
  },
  {
   "cell_type": "code",
   "execution_count": 20,
   "metadata": {
    "colab": {
     "base_uri": "https://localhost:8080/"
    },
    "executionInfo": {
     "elapsed": 503,
     "status": "ok",
     "timestamp": 1605988521327,
     "user": {
      "displayName": "Javier Abellán Abenza",
      "photoUrl": "https://lh3.googleusercontent.com/a-/AOh14GiJEOV973XXm14cBq9ngg8AXEv3tZFKjEsumF2ESYE=s64",
      "userId": "17171142240935309436"
     },
     "user_tz": -60
    },
    "id": "2NSAQbpGX5RH",
    "outputId": "64aa70fa-53d5-4a7b-e007-be6e28e1ce68"
   },
   "outputs": [
    {
     "data": {
      "text/plain": [
       "array([[   0,  272],\n",
       "       [   0,  273],\n",
       "       [   0,  274],\n",
       "       ...,\n",
       "       [   0, 1679],\n",
       "       [   0, 1680],\n",
       "       [   0, 1681]])"
      ]
     },
     "execution_count": 20,
     "metadata": {},
     "output_type": "execute_result"
    }
   ],
   "source": [
    "user_new_movies = np.vstack(\n",
    "    ([user] * len(movies_not_watched), movies_not_watched.movie)\n",
    ").T\n",
    "user_new_movies"
   ]
  },
  {
   "cell_type": "code",
   "execution_count": 21,
   "metadata": {
    "id": "ANSIC717Xx72"
   },
   "outputs": [
    {
     "data": {
      "text/plain": [
       "array([ 1.0451986 ,  0.969295  ,  1.4042884 , ..., -0.0062649 ,\n",
       "        0.1392503 ,  0.07258292], dtype=float32)"
      ]
     },
     "execution_count": 21,
     "metadata": {},
     "output_type": "execute_result"
    }
   ],
   "source": [
    "ratings = model.predict(user_new_movies).flatten()\n",
    "ratings"
   ]
  },
  {
   "cell_type": "markdown",
   "metadata": {},
   "source": [
    "### Recomendar las con mayor puntuacion de predicción"
   ]
  },
  {
   "cell_type": "code",
   "execution_count": 22,
   "metadata": {},
   "outputs": [
    {
     "data": {
      "text/html": [
       "<div>\n",
       "<style scoped>\n",
       "    .dataframe tbody tr th:only-of-type {\n",
       "        vertical-align: middle;\n",
       "    }\n",
       "\n",
       "    .dataframe tbody tr th {\n",
       "        vertical-align: top;\n",
       "    }\n",
       "\n",
       "    .dataframe thead th {\n",
       "        text-align: right;\n",
       "    }\n",
       "</style>\n",
       "<table border=\"1\" class=\"dataframe\">\n",
       "  <thead>\n",
       "    <tr style=\"text-align: right;\">\n",
       "      <th></th>\n",
       "      <th>movie</th>\n",
       "      <th>title</th>\n",
       "      <th>Pred rating</th>\n",
       "    </tr>\n",
       "  </thead>\n",
       "  <tbody>\n",
       "    <tr>\n",
       "      <th>0</th>\n",
       "      <td>482</td>\n",
       "      <td>Casablanca (1942)</td>\n",
       "      <td>1.935495</td>\n",
       "    </tr>\n",
       "    <tr>\n",
       "      <th>1</th>\n",
       "      <td>602</td>\n",
       "      <td>Rear Window (1954)</td>\n",
       "      <td>1.893157</td>\n",
       "    </tr>\n",
       "    <tr>\n",
       "      <th>2</th>\n",
       "      <td>317</td>\n",
       "      <td>Schindler's List (1993)</td>\n",
       "      <td>1.813106</td>\n",
       "    </tr>\n",
       "    <tr>\n",
       "      <th>3</th>\n",
       "      <td>479</td>\n",
       "      <td>North by Northwest (1959)</td>\n",
       "      <td>1.724462</td>\n",
       "    </tr>\n",
       "    <tr>\n",
       "      <th>4</th>\n",
       "      <td>473</td>\n",
       "      <td>Dr. Strangelove or: How I Learned to Stop Worr...</td>\n",
       "      <td>1.723497</td>\n",
       "    </tr>\n",
       "    <tr>\n",
       "      <th>...</th>\n",
       "      <td>...</td>\n",
       "      <td>...</td>\n",
       "      <td>...</td>\n",
       "    </tr>\n",
       "    <tr>\n",
       "      <th>1405</th>\n",
       "      <td>1651</td>\n",
       "      <td>Temptress Moon (Feng Yue) (1996)</td>\n",
       "      <td>-0.083972</td>\n",
       "    </tr>\n",
       "    <tr>\n",
       "      <th>1406</th>\n",
       "      <td>1214</td>\n",
       "      <td>Barb Wire (1996)</td>\n",
       "      <td>-0.088597</td>\n",
       "    </tr>\n",
       "    <tr>\n",
       "      <th>1407</th>\n",
       "      <td>987</td>\n",
       "      <td>Beautician and the Beast, The (1997)</td>\n",
       "      <td>-0.113552</td>\n",
       "    </tr>\n",
       "    <tr>\n",
       "      <th>1408</th>\n",
       "      <td>1335</td>\n",
       "      <td>Kazaam (1996)</td>\n",
       "      <td>-0.132262</td>\n",
       "    </tr>\n",
       "    <tr>\n",
       "      <th>1409</th>\n",
       "      <td>889</td>\n",
       "      <td>Mortal Kombat: Annihilation (1997)</td>\n",
       "      <td>-0.173300</td>\n",
       "    </tr>\n",
       "  </tbody>\n",
       "</table>\n",
       "<p>1410 rows × 3 columns</p>\n",
       "</div>"
      ],
      "text/plain": [
       "      movie                                              title  Pred rating\n",
       "0       482                                  Casablanca (1942)     1.935495\n",
       "1       602                                 Rear Window (1954)     1.893157\n",
       "2       317                            Schindler's List (1993)     1.813106\n",
       "3       479                          North by Northwest (1959)     1.724462\n",
       "4       473  Dr. Strangelove or: How I Learned to Stop Worr...     1.723497\n",
       "...     ...                                                ...          ...\n",
       "1405   1651                   Temptress Moon (Feng Yue) (1996)    -0.083972\n",
       "1406   1214                                   Barb Wire (1996)    -0.088597\n",
       "1407    987               Beautician and the Beast, The (1997)    -0.113552\n",
       "1408   1335                                      Kazaam (1996)    -0.132262\n",
       "1409    889                 Mortal Kombat: Annihilation (1997)    -0.173300\n",
       "\n",
       "[1410 rows x 3 columns]"
      ]
     },
     "execution_count": 22,
     "metadata": {},
     "output_type": "execute_result"
    }
   ],
   "source": [
    "movies_not_watched[\"Pred rating\"] = ratings\n",
    "movies_not_watched.sort_values(by=['Pred rating'], ascending=False, ignore_index=True)"
   ]
  }
 ],
 "metadata": {
  "accelerator": "GPU",
  "colab": {
   "authorship_tag": "ABX9TyMkNXCeZ02vZkQ4tDSg4h8Z",
   "collapsed_sections": [],
   "name": "Collaborative Filtering.ipynb",
   "provenance": []
  },
  "kernelspec": {
   "display_name": "Python 3",
   "language": "python",
   "name": "python3"
  },
  "language_info": {
   "codemirror_mode": {
    "name": "ipython",
    "version": 3
   },
   "file_extension": ".py",
   "mimetype": "text/x-python",
   "name": "python",
   "nbconvert_exporter": "python",
   "pygments_lexer": "ipython3",
   "version": "3.8.6"
  }
 },
 "nbformat": 4,
 "nbformat_minor": 1
}
