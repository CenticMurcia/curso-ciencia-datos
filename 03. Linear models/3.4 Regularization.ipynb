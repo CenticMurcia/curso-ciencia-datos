{
 "cells": [
  {
   "cell_type": "markdown",
   "metadata": {},
   "source": [
    "# Regularización de la regresión lineal\n",
    "\n",
    "La regularización de los modelos lineales es una técnica que limita los valores de los coeficientes de la regresión, haciendo que tiendan a cero. Con ello se mejora la precisión del modelo y se reduce la varianza de los coeficientes, disminuyendo el riesto de *sobreajuste*. Las técnicas de regularización más frecuentes son la regresión *ridge* y la regresión *lasso*.\n",
    "\n",
    "Os dejamos una breve explicación de la mátemática que subyace a los procedimientos de regularización. En la regresión lineal por mínimos cuadrados (la técnica sin regularizar) se busca minimizar la suma de cuadrados de los residuos (*residual sum of squares*, RSS):\n",
    "\n",
    "$ RSS = \\displaystyle \\sum^{n}_{i=1} (y_i - \\beta_0 - \\sum^{p}_{j=1} \\beta_j x_{ij})^2 $\n",
    "\n",
    "En la regresión regularizada se añade un término al valor a minimizar. En la regresión *ridge* se minimiza\n",
    "\n",
    "$ RSS + \\lambda \\displaystyle \\sum^{p}_{j=1} \\beta_j^2 $\n",
    "\n",
    "Y en la *lasso* se minimiza\n",
    "\n",
    "$ RSS + \\lambda \\displaystyle \\sum^{p}_{j=1} |\\beta_j| $\n",
    "\n",
    "El parámetro $\\lambda$ es un valor que se elige arbitrariamente y determina la *fuerza* del efecto de regularización. Lo habitual es repetir el ajuste *ridge* o *lasso* usando distintos valores de $\\lambda$ para ver cómo se ven afectados los coeficientes del modelo. Aquellos tiendan a cero mas rápidamente serán los que deberemos eliminar de los modelos porque tendrán un menor poder predictivo. Para mayor información se puede visitar este [link](https://www.analyticsvidhya.com/blog/2016/01/complete-tutorial-ridge-lasso-regression-python/)."
   ]
  },
  {
   "cell_type": "markdown",
   "metadata": {},
   "source": [
    "Veremos un ejemplo de regularización. Comenzamos cargando como siempre las librerías que necesitaremos:"
   ]
  },
  {
   "cell_type": "code",
   "execution_count": 1,
   "metadata": {},
   "outputs": [],
   "source": [
    "# Load python packages\n",
    "import matplotlib.pyplot as plt\n",
    "%matplotlib inline\n",
    "import numpy as np\n",
    "import pandas as pd\n",
    "import seaborn as sns\n",
    "plt.rcParams['figure.figsize'] = (12, 8)\n",
    "sns.set()\n",
    "sns.set(font_scale=1.5)\n",
    "\n",
    "# packages for checking assumptions\n",
    "from scipy import stats as stats\n",
    "from sklearn.model_selection import train_test_split, cross_val_score\n",
    "from sklearn.linear_model import LinearRegression\n",
    "from sklearn.metrics import mean_squared_error, make_scorer\n",
    "import statsmodels.api as sm\n",
    "import statsmodels.formula.api as sm2\n",
    "\n",
    "# packages for regularization\n",
    "from sklearn.linear_model import Lasso\n",
    "from math import pow, sqrt\n",
    "\n",
    "np.random.seed(1234)"
   ]
  },
  {
   "cell_type": "markdown",
   "metadata": {},
   "source": [
    "Importamos los datos desde el repositorio y lo cargamos en el espacio de trabajo de Colab:"
   ]
  },
  {
   "cell_type": "code",
   "execution_count": 2,
   "metadata": {},
   "outputs": [
    {
     "name": "stdout",
     "output_type": "stream",
     "text": [
      "--2020-02-13 14:47:22--  https://raw.githubusercontent.com/CenticMurcia/curso-ciencia-datos/master/data/loans.csv\n",
      "Resolviendo raw.githubusercontent.com (raw.githubusercontent.com)... 151.101.192.133, 151.101.128.133, 151.101.64.133, ...\n",
      "Conectando con raw.githubusercontent.com (raw.githubusercontent.com)[151.101.192.133]:443... conectado.\n",
      "Petición HTTP enviada, esperando respuesta... 200 OK\n",
      "Longitud: 4947180 (4,7M) [text/plain]\n",
      "Guardando como: “../data/loans.csv.1”\n",
      "\n",
      "loans.csv.1         100%[===================>]   4,72M  2,07MB/s    en 2,3s    \n",
      "\n",
      "2020-02-13 14:47:26 (2,07 MB/s) - “../data/loans.csv.1” guardado [4947180/4947180]\n",
      "\n"
     ]
    }
   ],
   "source": [
    "##### DOWNLOAD DATASET. ONLY IN COLAB !!!\n",
    "!wget -P ../data/ https://raw.githubusercontent.com/CenticMurcia/curso-ciencia-datos/master/data/loans.csv"
   ]
  },
  {
   "cell_type": "code",
   "execution_count": 3,
   "metadata": {},
   "outputs": [],
   "source": [
    "df = pd.read_csv('../data/loans.csv')"
   ]
  },
  {
   "cell_type": "markdown",
   "metadata": {},
   "source": [
    "Echamos un vistazo a las variables que tenemos en el dataset. Se trata de datos sobre micro-préstamos concedidos en Africa usando crowdfunding. Para más información sobre las variables puede consultarse este [link](https://www.kaggle.com/aks709/enhanced-analysis-for-kiva-crowdfunding)."
   ]
  },
  {
   "cell_type": "code",
   "execution_count": 4,
   "metadata": {},
   "outputs": [
    {
     "data": {
      "text/plain": [
       "id_number                 int64\n",
       "loan_amount               int64\n",
       "lender_count              int64\n",
       "status                   object\n",
       "funded_date              object\n",
       "funded_amount             int64\n",
       "repayment_term            int64\n",
       "location_country_code    object\n",
       "sector                   object\n",
       "description              object\n",
       "use                      object\n",
       "dtype: object"
      ]
     },
     "execution_count": 4,
     "metadata": {},
     "output_type": "execute_result"
    }
   ],
   "source": [
    "df.dtypes"
   ]
  },
  {
   "cell_type": "markdown",
   "metadata": {},
   "source": [
    "Tenemos dos variables categóricas que vamos a recodificar usando *one-hot-encoding* para poder usarlas en el modelo de regresión:"
   ]
  },
  {
   "cell_type": "code",
   "execution_count": 5,
   "metadata": {},
   "outputs": [],
   "source": [
    "# create indicator variables for country\n",
    "for country in df['location_country_code'].unique():\n",
    "    if country is not np.nan:\n",
    "        df['country_'+country] = np.where(df.location_country_code == country, 1, 0)"
   ]
  },
  {
   "cell_type": "code",
   "execution_count": 6,
   "metadata": {},
   "outputs": [],
   "source": [
    "# create indicator variables for sector\n",
    "for sect in df['sector'].unique():\n",
    "    df['sector_'+sect] = np.where(df.sector == sect, 1, 0)"
   ]
  },
  {
   "cell_type": "code",
   "execution_count": 7,
   "metadata": {},
   "outputs": [
    {
     "data": {
      "text/plain": [
       "id_number                 int64\n",
       "loan_amount               int64\n",
       "lender_count              int64\n",
       "status                   object\n",
       "funded_date              object\n",
       "funded_amount             int64\n",
       "repayment_term            int64\n",
       "location_country_code    object\n",
       "sector                   object\n",
       "description              object\n",
       "use                      object\n",
       "country_BJ                int64\n",
       "country_BW                int64\n",
       "country_BF                int64\n",
       "country_BI                int64\n",
       "country_CM                int64\n",
       "country_CG                int64\n",
       "country_CD                int64\n",
       "country_EG                int64\n",
       "country_GH                int64\n",
       "country_CI                int64\n",
       "country_KE                int64\n",
       "country_LS                int64\n",
       "country_LR                int64\n",
       "country_MG                int64\n",
       "country_MW                int64\n",
       "country_ML                int64\n",
       "country_MR                int64\n",
       "country_MZ                int64\n",
       "country_NG                int64\n",
       "country_RW                int64\n",
       "country_SN                int64\n",
       "country_SL                int64\n",
       "country_SO                int64\n",
       "country_ZA                int64\n",
       "country_SS                int64\n",
       "country_TZ                int64\n",
       "country_TG                int64\n",
       "country_UG                int64\n",
       "country_ZM                int64\n",
       "country_ZW                int64\n",
       "sector_Retail             int64\n",
       "sector_Food               int64\n",
       "sector_Services           int64\n",
       "sector_Clothing           int64\n",
       "sector_Arts               int64\n",
       "sector_Agriculture        int64\n",
       "sector_Manufacturing      int64\n",
       "sector_Construction       int64\n",
       "sector_Wholesale          int64\n",
       "sector_Health             int64\n",
       "sector_Transportation     int64\n",
       "sector_Education          int64\n",
       "sector_Housing            int64\n",
       "sector_Personal Use       int64\n",
       "dtype: object"
      ]
     },
     "execution_count": 7,
     "metadata": {},
     "output_type": "execute_result"
    }
   ],
   "source": [
    "df.dtypes"
   ]
  },
  {
   "cell_type": "markdown",
   "metadata": {},
   "source": [
    "El objetivo del ejercicio es intentar predecir la cantidad a prestar (*loan_amount*) en función de algunos parámetros que a priori nos resultan interesantes: *lender_count*, *sector_Education*, *sector_Clothing*, *sector_Personal Use*, *sector_Retail*, *sector_Transportation*, y *sector_Agriculture*. Comenzamos haciendo una regresión lineal ordinaria sin regularización:"
   ]
  },
  {
   "cell_type": "code",
   "execution_count": 8,
   "metadata": {},
   "outputs": [
    {
     "name": "stdout",
     "output_type": "stream",
     "text": [
      "                            OLS Regression Results                            \n",
      "==============================================================================\n",
      "Dep. Variable:            loan_amount   R-squared:                       0.815\n",
      "Model:                            OLS   Adj. R-squared:                  0.815\n",
      "Method:                 Least Squares   F-statistic:                     3031.\n",
      "Date:                Thu, 13 Feb 2020   Prob (F-statistic):               0.00\n",
      "Time:                        14:47:26   Log-Likelihood:                -40379.\n",
      "No. Observations:                4815   AIC:                         8.077e+04\n",
      "Df Residuals:                    4807   BIC:                         8.083e+04\n",
      "Df Model:                           7                                         \n",
      "Covariance Type:            nonrobust                                         \n",
      "=========================================================================================\n",
      "                            coef    std err          t      P>|t|      [0.025      0.975]\n",
      "-----------------------------------------------------------------------------------------\n",
      "lender_count             31.1105      0.215    144.506      0.000      30.688      31.533\n",
      "sector_Education       -551.4964     77.258     -7.138      0.000    -702.957    -400.035\n",
      "sector_Clothing         100.8504     57.152      1.765      0.078     -11.193     212.893\n",
      "sector_Personal Use    -520.0337     76.627     -6.787      0.000    -670.258    -369.809\n",
      "sector_Retail           -55.9741     40.412     -1.385      0.166    -135.201      23.252\n",
      "sector_Transportation  -211.1112    138.110     -1.529      0.126    -481.871      59.648\n",
      "sector_Agriculture     -251.0753     43.238     -5.807      0.000    -335.842    -166.308\n",
      "cnst                    487.5247     25.064     19.452      0.000     438.389     536.661\n",
      "==============================================================================\n",
      "Omnibus:                     3731.810   Durbin-Watson:                   2.006\n",
      "Prob(Omnibus):                  0.000   Jarque-Bera (JB):            68788.669\n",
      "Skew:                           3.673   Prob(JB):                         0.00\n",
      "Kurtosis:                      19.998   Cond. No.                         720.\n",
      "==============================================================================\n",
      "\n",
      "Warnings:\n",
      "[1] Standard Errors assume that the covariance matrix of the errors is correctly specified.\n"
     ]
    }
   ],
   "source": [
    "pd.options.mode.chained_assignment = None  # default='warn'\n",
    "\n",
    "# Define the dependent variable\n",
    "y = df['loan_amount']\n",
    "# Define the independent variables\n",
    "X = df[['lender_count', 'sector_Education', 'sector_Clothing', \n",
    "        'sector_Personal Use', 'sector_Retail', 'sector_Transportation', 'sector_Agriculture']]\n",
    "# Add an intercept term to the independent variables\n",
    "X['cnst'] = 1\n",
    "X_train, X_test, y_train, y_test = train_test_split(X, y, test_size=0.2, random_state=42)\n",
    "\n",
    "model1 = sm.OLS(endog = y_train,exog = X_train).fit()\n",
    "print(model1.summary())"
   ]
  },
  {
   "cell_type": "markdown",
   "metadata": {},
   "source": [
    "Ahora repetimos el proceso usando regresión regularizada *lasso* con distintos valores de $\\alpha$ oscilando entre 0.001 y 0.999:"
   ]
  },
  {
   "cell_type": "code",
   "execution_count": 9,
   "metadata": {},
   "outputs": [],
   "source": [
    "alphas = np.arange(0.001, 0.502, 0.002)\n",
    "lasso_coefs = []\n",
    "X_train_lasso= X_train[X_train.columns.tolist()] # Select columns / features for model\n",
    "\n",
    "for a in alphas:\n",
    "    lassoreg = Lasso(alpha=a, copy_X=True, normalize=True)\n",
    "    lassoreg.fit(X_train_lasso, y_train)\n",
    "    lasso_coefs.append(lassoreg.coef_)"
   ]
  },
  {
   "cell_type": "code",
   "execution_count": 10,
   "metadata": {},
   "outputs": [
    {
     "data": {
      "image/png": "[encoded data removed]",
      "text/plain": [
       "<Figure size 1008x720 with 1 Axes>"
      ]
     },
     "metadata": {
      "needs_background": "light"
     },
     "output_type": "display_data"
    }
   ],
   "source": [
    "lasso_coefs = np.asarray(lasso_coefs).T\n",
    "\n",
    "plt.figure(figsize=(14,10))\n",
    "for coefs, feature in zip(lasso_coefs, X_train_lasso.columns):\n",
    "    plt.plot(alphas, coefs, label = feature)\n",
    "plt.legend(loc='best')\n",
    "plt.show()"
   ]
  },
  {
   "cell_type": "markdown",
   "metadata": {},
   "source": [
    "Vemos que *Retail* y *Transportation* tienden a 0 para valores de $\\alpha$ mayores de 0.3. Vamos a eliminar estas variables del modelo de regresión lineal ordinaria:"
   ]
  },
  {
   "cell_type": "code",
   "execution_count": 11,
   "metadata": {},
   "outputs": [
    {
     "name": "stdout",
     "output_type": "stream",
     "text": [
      "                            OLS Regression Results                            \n",
      "==============================================================================\n",
      "Dep. Variable:            loan_amount   R-squared:                       0.815\n",
      "Model:                            OLS   Adj. R-squared:                  0.815\n",
      "Method:                 Least Squares   F-statistic:                     4241.\n",
      "Date:                Thu, 13 Feb 2020   Prob (F-statistic):               0.00\n",
      "Time:                        14:47:28   Log-Likelihood:                -40381.\n",
      "No. Observations:                4815   AIC:                         8.077e+04\n",
      "Df Residuals:                    4809   BIC:                         8.081e+04\n",
      "Df Model:                           5                                         \n",
      "Covariance Type:            nonrobust                                         \n",
      "=======================================================================================\n",
      "                          coef    std err          t      P>|t|      [0.025      0.975]\n",
      "---------------------------------------------------------------------------------------\n",
      "lender_count           31.1189      0.215    144.571      0.000      30.697      31.541\n",
      "sector_Education     -528.2291     75.939     -6.956      0.000    -677.103    -379.355\n",
      "sector_Clothing       124.0076     55.350      2.240      0.025      15.497     232.518\n",
      "sector_Personal Use  -496.7328     75.296     -6.597      0.000    -644.347    -349.119\n",
      "sector_Agriculture   -227.8834     40.819     -5.583      0.000    -307.907    -147.860\n",
      "cnst                  464.0338     20.567     22.562      0.000     423.714     504.354\n",
      "==============================================================================\n",
      "Omnibus:                     3739.232   Durbin-Watson:                   2.007\n",
      "Prob(Omnibus):                  0.000   Jarque-Bera (JB):            69185.801\n",
      "Skew:                           3.682   Prob(JB):                         0.00\n",
      "Kurtosis:                      20.048   Cond. No.                         412.\n",
      "==============================================================================\n",
      "\n",
      "Warnings:\n",
      "[1] Standard Errors assume that the covariance matrix of the errors is correctly specified.\n"
     ]
    }
   ],
   "source": [
    "pd.options.mode.chained_assignment = None  # default='warn'\n",
    "\n",
    "# Define the dependent variable\n",
    "y = df['loan_amount']\n",
    "# Define the independent variables\n",
    "X = df[['lender_count', 'sector_Education', 'sector_Clothing', \n",
    "        'sector_Personal Use', 'sector_Agriculture']]\n",
    "# Add an intercept term to the independent variables\n",
    "X['cnst'] = 1\n",
    "X_train, X_test, y_train, y_test = train_test_split(X, y, test_size=0.2, random_state=42)\n",
    "\n",
    "model2 = sm.OLS(endog = y_train,exog = X_train).fit()\n",
    "print(model2.summary())"
   ]
  },
  {
   "cell_type": "markdown",
   "metadata": {},
   "source": [
    "Aunque hemos eliminado dos parámetros el valor de $R^2$ sigue siendo el mismo, lo que indica que las variables eliminadas no aportaban ninguna información a la predicción. Este es un buen ejemplo de cómo usar la regularización como herramienta de selección de características (*feature selection*)."
   ]
  },
  {
   "cell_type": "markdown",
   "metadata": {},
   "source": [
    "# Algunos detalles importantes sobre la regularización\n",
    "\n",
    "Hay que tener en cuenta que en la regresión lineal los coeficientes son insensibles a la escala: si se multiplica el valor de una variable por una constante $c$, el valor del coeficiente correspondiente en un modelo de regresión lineal se multiplicaría por un factor $1/c$, el resto de parámetros de calidad del modelo permanecerían iguales. Ilustraremos esto con un ejemplo usando un dataset con tres variables: la caja que hace un restaurante determinado en un día, la distancia en metros del restaurante a la universidad mas cercana, y la distancia en kilómetros al hospital mas cercano. Los datos serán inventados, sacados de una distribución normal."
   ]
  },
  {
   "cell_type": "code",
   "execution_count": 12,
   "metadata": {},
   "outputs": [],
   "source": [
    "np.random.seed(1234)\n",
    "\n",
    "earnings = np.random.normal(2000, 300, 50)\n",
    "university_distances = np.random.normal(7000,2000,50)\n",
    "hospital_distances = np.random.normal(7,2,50)\n",
    "\n",
    "earnings = [a if a > 0 else -a for a in earnings]\n",
    "university_distances = [a if a > 0 else -a for a in university_distances]\n",
    "hospital_distances = [a if a > 0 else -a for a in hospital_distances]"
   ]
  },
  {
   "cell_type": "code",
   "execution_count": 13,
   "metadata": {},
   "outputs": [],
   "source": [
    "df = pd.DataFrame({\"earnings\": sorted(earnings), \"university\": sorted(university_distances, reverse=True), \n",
    "                   'hospital' : sorted(hospital_distances, reverse=True)})"
   ]
  },
  {
   "cell_type": "code",
   "execution_count": 14,
   "metadata": {},
   "outputs": [
    {
     "data": {
      "text/html": [
       "<div>\n",
       "<style scoped>\n",
       "    .dataframe tbody tr th:only-of-type {\n",
       "        vertical-align: middle;\n",
       "    }\n",
       "\n",
       "    .dataframe tbody tr th {\n",
       "        vertical-align: top;\n",
       "    }\n",
       "\n",
       "    .dataframe thead th {\n",
       "        text-align: right;\n",
       "    }\n",
       "</style>\n",
       "<table border=\"1\" class=\"dataframe\">\n",
       "  <thead>\n",
       "    <tr style=\"text-align: right;\">\n",
       "      <th></th>\n",
       "      <th>earnings</th>\n",
       "      <th>university</th>\n",
       "      <th>hospital</th>\n",
       "    </tr>\n",
       "  </thead>\n",
       "  <tbody>\n",
       "    <tr>\n",
       "      <th>0</th>\n",
       "      <td>1327.194514</td>\n",
       "      <td>11061.207242</td>\n",
       "      <td>11.731537</td>\n",
       "    </tr>\n",
       "    <tr>\n",
       "      <th>1</th>\n",
       "      <td>1377.506720</td>\n",
       "      <td>11015.685902</td>\n",
       "      <td>10.860494</td>\n",
       "    </tr>\n",
       "    <tr>\n",
       "      <th>2</th>\n",
       "      <td>1393.623554</td>\n",
       "      <td>10091.317609</td>\n",
       "      <td>10.787069</td>\n",
       "    </tr>\n",
       "    <tr>\n",
       "      <th>3</th>\n",
       "      <td>1454.891832</td>\n",
       "      <td>9783.972387</td>\n",
       "      <td>9.726963</td>\n",
       "    </tr>\n",
       "    <tr>\n",
       "      <th>4</th>\n",
       "      <td>1535.928334</td>\n",
       "      <td>9642.211231</td>\n",
       "      <td>9.449149</td>\n",
       "    </tr>\n",
       "    <tr>\n",
       "      <th>5</th>\n",
       "      <td>1642.707292</td>\n",
       "      <td>9067.601465</td>\n",
       "      <td>9.420767</td>\n",
       "    </tr>\n",
       "    <tr>\n",
       "      <th>6</th>\n",
       "      <td>1730.852965</td>\n",
       "      <td>8969.839684</td>\n",
       "      <td>9.353625</td>\n",
       "    </tr>\n",
       "    <tr>\n",
       "      <th>7</th>\n",
       "      <td>1783.823380</td>\n",
       "      <td>8682.017590</td>\n",
       "      <td>8.968376</td>\n",
       "    </tr>\n",
       "    <tr>\n",
       "      <th>8</th>\n",
       "      <td>1803.209197</td>\n",
       "      <td>8633.187853</td>\n",
       "      <td>8.750951</td>\n",
       "    </tr>\n",
       "    <tr>\n",
       "      <th>9</th>\n",
       "      <td>1809.042949</td>\n",
       "      <td>8534.737472</td>\n",
       "      <td>8.632254</td>\n",
       "    </tr>\n",
       "  </tbody>\n",
       "</table>\n",
       "</div>"
      ],
      "text/plain": [
       "      earnings    university   hospital\n",
       "0  1327.194514  11061.207242  11.731537\n",
       "1  1377.506720  11015.685902  10.860494\n",
       "2  1393.623554  10091.317609  10.787069\n",
       "3  1454.891832   9783.972387   9.726963\n",
       "4  1535.928334   9642.211231   9.449149\n",
       "5  1642.707292   9067.601465   9.420767\n",
       "6  1730.852965   8969.839684   9.353625\n",
       "7  1783.823380   8682.017590   8.968376\n",
       "8  1803.209197   8633.187853   8.750951\n",
       "9  1809.042949   8534.737472   8.632254"
      ]
     },
     "execution_count": 14,
     "metadata": {},
     "output_type": "execute_result"
    }
   ],
   "source": [
    "df.head(10)"
   ]
  },
  {
   "cell_type": "markdown",
   "metadata": {},
   "source": [
    "Representamos la relación entre la caja (*earnings*) y la distancia a la universidad y al hospital más cercanos:"
   ]
  },
  {
   "cell_type": "code",
   "execution_count": 15,
   "metadata": {},
   "outputs": [
    {
     "data": {
      "text/plain": [
       "Text(0.5, 1.0, 'Scatter plot of distance to nearest university (in meters) vs earnings')"
      ]
     },
     "execution_count": 15,
     "metadata": {},
     "output_type": "execute_result"
    },
    {
     "data": {
      "image/png": "[encoded data removed]",
      "text/plain": [
       "<Figure size 432x288 with 1 Axes>"
      ]
     },
     "metadata": {
      "needs_background": "light"
     },
     "output_type": "display_data"
    }
   ],
   "source": [
    "# plot distance to nearest university (in meters) vs. earnings\n",
    "ax = sns.regplot(x='earnings', y='university', data=df, fit_reg=False)\n",
    "ax.set_title('Scatter plot of distance to nearest university (in meters) vs earnings')"
   ]
  },
  {
   "cell_type": "code",
   "execution_count": 16,
   "metadata": {},
   "outputs": [
    {
     "data": {
      "text/plain": [
       "Text(0.5, 1.0, 'Scatter plot of distance to nearest hospital (in kilometers) vs earnings')"
      ]
     },
     "execution_count": 16,
     "metadata": {},
     "output_type": "execute_result"
    },
    {
     "data": {
      "image/png": "[encoded data removed]",
      "text/plain": [
       "<Figure size 432x288 with 1 Axes>"
      ]
     },
     "metadata": {
      "needs_background": "light"
     },
     "output_type": "display_data"
    }
   ],
   "source": [
    "# plot distance to nearest hospital (in kilometers) vs. earnings\n",
    "ax = sns.regplot(x='earnings', y='hospital', data=df, fit_reg=False)\n",
    "ax.set_title('Scatter plot of distance to nearest hospital (in kilometers) vs earnings')"
   ]
  },
  {
   "cell_type": "markdown",
   "metadata": {},
   "source": [
    "Ahora crearemos dos modelo de regresión lineal multivariante: uno sin escalar las variables (dejando una distancia en metros y otra en kilómetros). y otro en el que ambas distancias estén en kilómetros:"
   ]
  },
  {
   "cell_type": "code",
   "execution_count": 17,
   "metadata": {},
   "outputs": [
    {
     "name": "stdout",
     "output_type": "stream",
     "text": [
      "                            OLS Regression Results                            \n",
      "==============================================================================\n",
      "Dep. Variable:               earnings   R-squared:                       0.938\n",
      "Model:                            OLS   Adj. R-squared:                  0.935\n",
      "Method:                 Least Squares   F-statistic:                     353.0\n",
      "Date:                Thu, 13 Feb 2020   Prob (F-statistic):           4.90e-29\n",
      "Time:                        14:47:29   Log-Likelihood:                -284.91\n",
      "No. Observations:                  50   AIC:                             575.8\n",
      "Df Residuals:                      47   BIC:                             581.6\n",
      "Df Model:                           2                                         \n",
      "Covariance Type:            nonrobust                                         \n",
      "==============================================================================\n",
      "                 coef    std err          t      P>|t|      [0.025      0.975]\n",
      "------------------------------------------------------------------------------\n",
      "Intercept   3024.1009     40.095     75.423      0.000    2943.440    3104.762\n",
      "university    -0.0643      0.021     -3.046      0.004      -0.107      -0.022\n",
      "hospital     -76.3083     21.703     -3.516      0.001    -119.969     -32.648\n",
      "==============================================================================\n",
      "Omnibus:                       13.332   Durbin-Watson:                   0.197\n",
      "Prob(Omnibus):                  0.001   Jarque-Bera (JB):               14.480\n",
      "Skew:                          -1.284   Prob(JB):                     0.000717\n",
      "Kurtosis:                       3.595   Cond. No.                     2.84e+04\n",
      "==============================================================================\n",
      "\n",
      "Warnings:\n",
      "[1] Standard Errors assume that the covariance matrix of the errors is correctly specified.\n",
      "[2] The condition number is large, 2.84e+04. This might indicate that there are\n",
      "strong multicollinearity or other numerical problems.\n"
     ]
    }
   ],
   "source": [
    "model1 = sm2.ols(formula = 'earnings ~ university + hospital', data = df).fit()\n",
    "print(model1.summary())"
   ]
  },
  {
   "cell_type": "code",
   "execution_count": 18,
   "metadata": {},
   "outputs": [
    {
     "data": {
      "text/html": [
       "<div>\n",
       "<style scoped>\n",
       "    .dataframe tbody tr th:only-of-type {\n",
       "        vertical-align: middle;\n",
       "    }\n",
       "\n",
       "    .dataframe tbody tr th {\n",
       "        vertical-align: top;\n",
       "    }\n",
       "\n",
       "    .dataframe thead th {\n",
       "        text-align: right;\n",
       "    }\n",
       "</style>\n",
       "<table border=\"1\" class=\"dataframe\">\n",
       "  <thead>\n",
       "    <tr style=\"text-align: right;\">\n",
       "      <th></th>\n",
       "      <th>earnings</th>\n",
       "      <th>university</th>\n",
       "      <th>hospital</th>\n",
       "    </tr>\n",
       "  </thead>\n",
       "  <tbody>\n",
       "    <tr>\n",
       "      <th>0</th>\n",
       "      <td>1327.194514</td>\n",
       "      <td>11.061207</td>\n",
       "      <td>11.731537</td>\n",
       "    </tr>\n",
       "    <tr>\n",
       "      <th>1</th>\n",
       "      <td>1377.506720</td>\n",
       "      <td>11.015686</td>\n",
       "      <td>10.860494</td>\n",
       "    </tr>\n",
       "    <tr>\n",
       "      <th>2</th>\n",
       "      <td>1393.623554</td>\n",
       "      <td>10.091318</td>\n",
       "      <td>10.787069</td>\n",
       "    </tr>\n",
       "    <tr>\n",
       "      <th>3</th>\n",
       "      <td>1454.891832</td>\n",
       "      <td>9.783972</td>\n",
       "      <td>9.726963</td>\n",
       "    </tr>\n",
       "    <tr>\n",
       "      <th>4</th>\n",
       "      <td>1535.928334</td>\n",
       "      <td>9.642211</td>\n",
       "      <td>9.449149</td>\n",
       "    </tr>\n",
       "    <tr>\n",
       "      <th>5</th>\n",
       "      <td>1642.707292</td>\n",
       "      <td>9.067601</td>\n",
       "      <td>9.420767</td>\n",
       "    </tr>\n",
       "    <tr>\n",
       "      <th>6</th>\n",
       "      <td>1730.852965</td>\n",
       "      <td>8.969840</td>\n",
       "      <td>9.353625</td>\n",
       "    </tr>\n",
       "    <tr>\n",
       "      <th>7</th>\n",
       "      <td>1783.823380</td>\n",
       "      <td>8.682018</td>\n",
       "      <td>8.968376</td>\n",
       "    </tr>\n",
       "    <tr>\n",
       "      <th>8</th>\n",
       "      <td>1803.209197</td>\n",
       "      <td>8.633188</td>\n",
       "      <td>8.750951</td>\n",
       "    </tr>\n",
       "    <tr>\n",
       "      <th>9</th>\n",
       "      <td>1809.042949</td>\n",
       "      <td>8.534737</td>\n",
       "      <td>8.632254</td>\n",
       "    </tr>\n",
       "  </tbody>\n",
       "</table>\n",
       "</div>"
      ],
      "text/plain": [
       "      earnings  university   hospital\n",
       "0  1327.194514   11.061207  11.731537\n",
       "1  1377.506720   11.015686  10.860494\n",
       "2  1393.623554   10.091318  10.787069\n",
       "3  1454.891832    9.783972   9.726963\n",
       "4  1535.928334    9.642211   9.449149\n",
       "5  1642.707292    9.067601   9.420767\n",
       "6  1730.852965    8.969840   9.353625\n",
       "7  1783.823380    8.682018   8.968376\n",
       "8  1803.209197    8.633188   8.750951\n",
       "9  1809.042949    8.534737   8.632254"
      ]
     },
     "execution_count": 18,
     "metadata": {},
     "output_type": "execute_result"
    }
   ],
   "source": [
    "df_scaled = df.copy()\n",
    "df_scaled['university'] = df_scaled['university']/1000\n",
    "\n",
    "df_scaled.head(10)"
   ]
  },
  {
   "cell_type": "code",
   "execution_count": 19,
   "metadata": {},
   "outputs": [
    {
     "name": "stdout",
     "output_type": "stream",
     "text": [
      "                            OLS Regression Results                            \n",
      "==============================================================================\n",
      "Dep. Variable:               earnings   R-squared:                       0.938\n",
      "Model:                            OLS   Adj. R-squared:                  0.935\n",
      "Method:                 Least Squares   F-statistic:                     353.0\n",
      "Date:                Thu, 13 Feb 2020   Prob (F-statistic):           4.90e-29\n",
      "Time:                        14:47:29   Log-Likelihood:                -284.91\n",
      "No. Observations:                  50   AIC:                             575.8\n",
      "Df Residuals:                      47   BIC:                             581.6\n",
      "Df Model:                           2                                         \n",
      "Covariance Type:            nonrobust                                         \n",
      "==============================================================================\n",
      "                 coef    std err          t      P>|t|      [0.025      0.975]\n",
      "------------------------------------------------------------------------------\n",
      "Intercept   3024.1009     40.095     75.423      0.000    2943.440    3104.762\n",
      "university   -64.3473     21.122     -3.046      0.004    -106.839     -21.856\n",
      "hospital     -76.3083     21.703     -3.516      0.001    -119.969     -32.648\n",
      "==============================================================================\n",
      "Omnibus:                       13.332   Durbin-Watson:                   0.197\n",
      "Prob(Omnibus):                  0.001   Jarque-Bera (JB):               14.480\n",
      "Skew:                          -1.284   Prob(JB):                     0.000717\n",
      "Kurtosis:                       3.595   Cond. No.                         41.2\n",
      "==============================================================================\n",
      "\n",
      "Warnings:\n",
      "[1] Standard Errors assume that the covariance matrix of the errors is correctly specified.\n"
     ]
    }
   ],
   "source": [
    "model2 = sm2.ols(formula = 'earnings ~ university + hospital', data = df_scaled).fit()\n",
    "print(model2.summary())"
   ]
  },
  {
   "cell_type": "markdown",
   "metadata": {},
   "source": [
    "Vemos que en ambos casos el valor de $R^2$ es 0.938 y el de $R^2$ ajustada es de 0.935. Los coeficientes para la ordenada en el origen, la universidad y el hospital del primer modelo (sin escalar) son 3024.1009, -0.0643, y -76.3083, y para el segundo modelo (escalado a kilómetros) son 3024.1009, -64.3473, y -76.3083, tal y como esperábamos. El resto de parámetros estadísticos del modelo, como los p-valores, no cambian. Vamos a ver qué ocurre si en lugar de regresión lineal ordinaria usamos regresión regularizada *lasso*."
   ]
  },
  {
   "cell_type": "markdown",
   "metadata": {},
   "source": [
    "### Regresión *lasso* con datos sin escalar"
   ]
  },
  {
   "cell_type": "code",
   "execution_count": 20,
   "metadata": {},
   "outputs": [
    {
     "data": {
      "image/png": "[encoded data removed]",
      "text/plain": [
       "<Figure size 1008x720 with 1 Axes>"
      ]
     },
     "metadata": {
      "needs_background": "light"
     },
     "output_type": "display_data"
    }
   ],
   "source": [
    "X = df[['university', 'hospital']]\n",
    "y = df['earnings']\n",
    "\n",
    "alphas = np.arange(0.001, 1, 0.002)\n",
    "lasso_coefs = []\n",
    "X_lasso= X[X.columns.tolist()] # Select columns / features for model\n",
    "\n",
    "for a in alphas:\n",
    "    lassoreg = Lasso(alpha=a, copy_X=True, normalize=True)\n",
    "    lassoreg.fit(X_lasso, y)\n",
    "    lasso_coefs.append(lassoreg.coef_)\n",
    "    \n",
    "lasso_coefs = np.asarray(lasso_coefs).T\n",
    "\n",
    "plt.figure(figsize=(14,10))\n",
    "for coefs, feature in zip(lasso_coefs, X_lasso.columns):\n",
    "    plt.plot(alphas, coefs, label = feature)\n",
    "plt.legend(loc='best')\n",
    "plt.show()"
   ]
  },
  {
   "cell_type": "markdown",
   "metadata": {},
   "source": [
    "Vemos en el gráfico que los coeficientes para la universidad y el hospital son aproximadamente 0 y -75."
   ]
  },
  {
   "cell_type": "markdown",
   "metadata": {},
   "source": [
    "### Regresión *lasso* con datos escalados a kilómetros"
   ]
  },
  {
   "cell_type": "code",
   "execution_count": 21,
   "metadata": {},
   "outputs": [
    {
     "data": {
      "image/png": "[encoded data removed]",
      "text/plain": [
       "<Figure size 1008x720 with 1 Axes>"
      ]
     },
     "metadata": {
      "needs_background": "light"
     },
     "output_type": "display_data"
    }
   ],
   "source": [
    "X = df_scaled[['university', 'hospital']]\n",
    "y = df_scaled['earnings']\n",
    "\n",
    "alphas = np.arange(0.001, 1, 0.002)\n",
    "lasso_coefs = []\n",
    "X_lasso= X[X.columns.tolist()] # Select columns / features for model\n",
    "\n",
    "for a in alphas:\n",
    "    lassoreg = Lasso(alpha=a, copy_X=True, normalize=True)\n",
    "    lassoreg.fit(X_lasso, y)\n",
    "    lasso_coefs.append(lassoreg.coef_)\n",
    "    \n",
    "lasso_coefs = np.asarray(lasso_coefs).T\n",
    "\n",
    "plt.figure(figsize=(14,10))\n",
    "for coefs, feature in zip(lasso_coefs, X_lasso.columns):\n",
    "    plt.plot(alphas, coefs, label = feature)\n",
    "plt.legend(loc='best')\n",
    "plt.show()"
   ]
  },
  {
   "cell_type": "markdown",
   "metadata": {},
   "source": [
    "Vemos que ahora los coeficientes para universidad y hospital son -64 and -76, respectivamente."
   ]
  },
  {
   "cell_type": "markdown",
   "metadata": {},
   "source": [
    "Hemos comprobado que, efectivamente, el escalado sí que afecta al resultado de la regresión *lasso*. Por ello, al usar técnicas de regularización es conveniente *estandarizar* los predictores, lo que puede hacerse empleando la siguiente fórmula:\n",
    "\n",
    "$ \\tilde{x}_{ij} = \\frac{x_{ij}}{\\sqrt{\\frac{1}{n} \\sum_{i=1}^{n} (x_{ij} - \\bar{x}_{j})^2}} $\n",
    "\n",
    "Vamos a repetir el ejercicio usando los datos sin escalar y estandarizándolos:"
   ]
  },
  {
   "cell_type": "code",
   "execution_count": 22,
   "metadata": {},
   "outputs": [],
   "source": [
    "df_standardized = df.copy()"
   ]
  },
  {
   "cell_type": "code",
   "execution_count": 23,
   "metadata": {},
   "outputs": [],
   "source": [
    "university_mean = df_standardized['university'].mean()\n",
    "university_denom = sqrt(sum((df_standardized['university']-university_mean)**2)/len(df_standardized['university']))\n",
    "\n",
    "hospital_mean = df_standardized['hospital'].mean()\n",
    "hospital_denom = sqrt(sum((df_standardized['hospital']-hospital_mean)**2)/len(df_standardized['hospital']))"
   ]
  },
  {
   "cell_type": "code",
   "execution_count": 24,
   "metadata": {},
   "outputs": [],
   "source": [
    "df_standardized['university'] = df_standardized['university']/university_denom\n",
    "df_standardized['hospital'] = df_standardized['hospital']/hospital_denom\n"
   ]
  },
  {
   "cell_type": "code",
   "execution_count": 25,
   "metadata": {},
   "outputs": [
    {
     "data": {
      "text/html": [
       "<div>\n",
       "<style scoped>\n",
       "    .dataframe tbody tr th:only-of-type {\n",
       "        vertical-align: middle;\n",
       "    }\n",
       "\n",
       "    .dataframe tbody tr th {\n",
       "        vertical-align: top;\n",
       "    }\n",
       "\n",
       "    .dataframe thead th {\n",
       "        text-align: right;\n",
       "    }\n",
       "</style>\n",
       "<table border=\"1\" class=\"dataframe\">\n",
       "  <thead>\n",
       "    <tr style=\"text-align: right;\">\n",
       "      <th></th>\n",
       "      <th>earnings</th>\n",
       "      <th>university</th>\n",
       "      <th>hospital</th>\n",
       "    </tr>\n",
       "  </thead>\n",
       "  <tbody>\n",
       "    <tr>\n",
       "      <th>0</th>\n",
       "      <td>1327.194514</td>\n",
       "      <td>5.438299</td>\n",
       "      <td>5.926591</td>\n",
       "    </tr>\n",
       "    <tr>\n",
       "      <th>1</th>\n",
       "      <td>1377.506720</td>\n",
       "      <td>5.415918</td>\n",
       "      <td>5.486554</td>\n",
       "    </tr>\n",
       "    <tr>\n",
       "      <th>2</th>\n",
       "      <td>1393.623554</td>\n",
       "      <td>4.961448</td>\n",
       "      <td>5.449461</td>\n",
       "    </tr>\n",
       "    <tr>\n",
       "      <th>3</th>\n",
       "      <td>1454.891832</td>\n",
       "      <td>4.810340</td>\n",
       "      <td>4.913911</td>\n",
       "    </tr>\n",
       "    <tr>\n",
       "      <th>4</th>\n",
       "      <td>1535.928334</td>\n",
       "      <td>4.740642</td>\n",
       "      <td>4.773564</td>\n",
       "    </tr>\n",
       "  </tbody>\n",
       "</table>\n",
       "</div>"
      ],
      "text/plain": [
       "      earnings  university  hospital\n",
       "0  1327.194514    5.438299  5.926591\n",
       "1  1377.506720    5.415918  5.486554\n",
       "2  1393.623554    4.961448  5.449461\n",
       "3  1454.891832    4.810340  4.913911\n",
       "4  1535.928334    4.740642  4.773564"
      ]
     },
     "execution_count": 25,
     "metadata": {},
     "output_type": "execute_result"
    }
   ],
   "source": [
    "df_standardized.head()"
   ]
  },
  {
   "cell_type": "code",
   "execution_count": 26,
   "metadata": {},
   "outputs": [
    {
     "data": {
      "image/png": "[encoded data removed]",
      "text/plain": [
       "<Figure size 1008x720 with 1 Axes>"
      ]
     },
     "metadata": {
      "needs_background": "light"
     },
     "output_type": "display_data"
    }
   ],
   "source": [
    "X = df_standardized[['university', 'hospital']]\n",
    "y = df_standardized['earnings']\n",
    "\n",
    "alphas = np.arange(0.001, 1, 0.002)\n",
    "lasso_coefs = []\n",
    "X_lasso= X[X.columns.tolist()] # Select columns / features for model\n",
    "\n",
    "for a in alphas:\n",
    "    lassoreg = Lasso(alpha=a, copy_X=True, normalize=True)\n",
    "    lassoreg.fit(X_lasso, y)\n",
    "    lasso_coefs.append(lassoreg.coef_)\n",
    "    \n",
    "lasso_coefs = np.asarray(lasso_coefs).T\n",
    "\n",
    "plt.figure(figsize=(14,10))\n",
    "for coefs, feature in zip(lasso_coefs, X_lasso.columns):\n",
    "    plt.plot(alphas, coefs, label = feature)\n",
    "plt.legend(loc='best')\n",
    "plt.show()"
   ]
  },
  {
   "cell_type": "markdown",
   "metadata": {},
   "source": [
    "Al estandarizar los predictores los coeficientes tienen ahora el mismo orden de magnitud. Es muy importante tener esto en cuenta antes de sacar conclusiones de un modelo de regresión regularizado."
   ]
  },
  {
   "cell_type": "code",
   "execution_count": null,
   "metadata": {},
   "outputs": [],
   "source": []
  }
 ],
 "metadata": {
  "kernelspec": {
   "display_name": "Python 3",
   "language": "python",
   "name": "python3"
  },
  "language_info": {
   "codemirror_mode": {
    "name": "ipython",
    "version": 3
   },
   "file_extension": ".py",
   "mimetype": "text/x-python",
   "name": "python",
   "nbconvert_exporter": "python",
   "pygments_lexer": "ipython3",
   "version": "3.7.3"
  }
 },
 "nbformat": 4,
 "nbformat_minor": 4
}
