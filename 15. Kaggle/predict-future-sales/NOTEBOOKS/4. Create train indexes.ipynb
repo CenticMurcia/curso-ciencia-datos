{
 "cells": [
  {
   "cell_type": "markdown",
   "metadata": {},
   "source": [
    "<h3 align=\"center\">4. Constructing Training Dataframe</h3>\n",
    "<h1 align=\"center\">CREATE TRAIN INDEXES</h1>\n",
    "\n",
    "The test set consists of the **cartesian product** of 42 shops and 5100 items. To make a training set which approximates the test set we create a training dataframe consisting of the cartesian product (active items) x (active shops) for each month."
   ]
  },
  {
   "cell_type": "code",
   "execution_count": null,
   "metadata": {},
   "outputs": [],
   "source": []
  },
  {
   "cell_type": "code",
   "execution_count": null,
   "metadata": {},
   "outputs": [],
   "source": [
    "df = [] \n",
    "for block_num in sales['date_block_num'].unique():\n",
    "    \n",
    "    active_shops = sales.loc[sales['date_block_num'] == block_num, 'shop_id'].unique()\n",
    "    active_items = sales.loc[sales['date_block_num'] == block_num, 'item_id'].unique()\n",
    "    \n",
    "    df.append(np.array(list(product(active_shops, active_items, [block_num]))))\n",
    "\n",
    "df = pd.DataFrame(np.vstack(df), columns=['shop_id', 'item_id', 'date_block_num'])\n",
    "df.head()"
   ]
  }
 ],
 "metadata": {
  "kernelspec": {
   "display_name": "Python 3",
   "language": "python",
   "name": "python3"
  },
  "language_info": {
   "codemirror_mode": {
    "name": "ipython",
    "version": 3
   },
   "file_extension": ".py",
   "mimetype": "text/x-python",
   "name": "python",
   "nbconvert_exporter": "python",
   "pygments_lexer": "ipython3",
   "version": "3.9.1"
  }
 },
 "nbformat": 4,
 "nbformat_minor": 4
}
