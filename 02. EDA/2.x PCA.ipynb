{
 "cells": [
  {
   "cell_type": "code",
   "execution_count": 1,
   "metadata": {},
   "outputs": [],
   "source": [
    "import numpy as np\n",
    "import pandas as pd\n",
    "import seaborn as sb\n",
    "import matplotlib.pyplot as plt\n",
    "\n",
    "from sklearn.decomposition import PCA\n",
    "from sklearn.preprocessing import StandardScaler"
   ]
  },
  {
   "cell_type": "code",
   "execution_count": 2,
   "metadata": {},
   "outputs": [],
   "source": [
    "df = pd.read_csv('Pokemon.csv')"
   ]
  },
  {
   "cell_type": "code",
   "execution_count": 3,
   "metadata": {},
   "outputs": [
    {
     "data": {
      "text/html": [
       "<div>\n",
       "<style scoped>\n",
       "    .dataframe tbody tr th:only-of-type {\n",
       "        vertical-align: middle;\n",
       "    }\n",
       "\n",
       "    .dataframe tbody tr th {\n",
       "        vertical-align: top;\n",
       "    }\n",
       "\n",
       "    .dataframe thead th {\n",
       "        text-align: right;\n",
       "    }\n",
       "</style>\n",
       "<table border=\"1\" class=\"dataframe\">\n",
       "  <thead>\n",
       "    <tr style=\"text-align: right;\">\n",
       "      <th></th>\n",
       "      <th>#</th>\n",
       "      <th>Name</th>\n",
       "      <th>Type 1</th>\n",
       "      <th>Type 2</th>\n",
       "      <th>Total</th>\n",
       "      <th>HP</th>\n",
       "      <th>Attack</th>\n",
       "      <th>Defense</th>\n",
       "      <th>Sp. Atk</th>\n",
       "      <th>Sp. Def</th>\n",
       "      <th>Speed</th>\n",
       "      <th>Generation</th>\n",
       "      <th>Legendary</th>\n",
       "    </tr>\n",
       "  </thead>\n",
       "  <tbody>\n",
       "    <tr>\n",
       "      <th>0</th>\n",
       "      <td>1</td>\n",
       "      <td>Bulbasaur</td>\n",
       "      <td>Grass</td>\n",
       "      <td>Poison</td>\n",
       "      <td>318</td>\n",
       "      <td>45</td>\n",
       "      <td>49</td>\n",
       "      <td>49</td>\n",
       "      <td>65</td>\n",
       "      <td>65</td>\n",
       "      <td>45</td>\n",
       "      <td>1</td>\n",
       "      <td>False</td>\n",
       "    </tr>\n",
       "    <tr>\n",
       "      <th>1</th>\n",
       "      <td>2</td>\n",
       "      <td>Ivysaur</td>\n",
       "      <td>Grass</td>\n",
       "      <td>Poison</td>\n",
       "      <td>405</td>\n",
       "      <td>60</td>\n",
       "      <td>62</td>\n",
       "      <td>63</td>\n",
       "      <td>80</td>\n",
       "      <td>80</td>\n",
       "      <td>60</td>\n",
       "      <td>1</td>\n",
       "      <td>False</td>\n",
       "    </tr>\n",
       "    <tr>\n",
       "      <th>2</th>\n",
       "      <td>3</td>\n",
       "      <td>Venusaur</td>\n",
       "      <td>Grass</td>\n",
       "      <td>Poison</td>\n",
       "      <td>525</td>\n",
       "      <td>80</td>\n",
       "      <td>82</td>\n",
       "      <td>83</td>\n",
       "      <td>100</td>\n",
       "      <td>100</td>\n",
       "      <td>80</td>\n",
       "      <td>1</td>\n",
       "      <td>False</td>\n",
       "    </tr>\n",
       "    <tr>\n",
       "      <th>3</th>\n",
       "      <td>3</td>\n",
       "      <td>VenusaurMega Venusaur</td>\n",
       "      <td>Grass</td>\n",
       "      <td>Poison</td>\n",
       "      <td>625</td>\n",
       "      <td>80</td>\n",
       "      <td>100</td>\n",
       "      <td>123</td>\n",
       "      <td>122</td>\n",
       "      <td>120</td>\n",
       "      <td>80</td>\n",
       "      <td>1</td>\n",
       "      <td>False</td>\n",
       "    </tr>\n",
       "    <tr>\n",
       "      <th>4</th>\n",
       "      <td>4</td>\n",
       "      <td>Charmander</td>\n",
       "      <td>Fire</td>\n",
       "      <td>NaN</td>\n",
       "      <td>309</td>\n",
       "      <td>39</td>\n",
       "      <td>52</td>\n",
       "      <td>43</td>\n",
       "      <td>60</td>\n",
       "      <td>50</td>\n",
       "      <td>65</td>\n",
       "      <td>1</td>\n",
       "      <td>False</td>\n",
       "    </tr>\n",
       "  </tbody>\n",
       "</table>\n",
       "</div>"
      ],
      "text/plain": [
       "   #                   Name Type 1  Type 2  Total  HP  Attack  Defense  \\\n",
       "0  1              Bulbasaur  Grass  Poison    318  45      49       49   \n",
       "1  2                Ivysaur  Grass  Poison    405  60      62       63   \n",
       "2  3               Venusaur  Grass  Poison    525  80      82       83   \n",
       "3  3  VenusaurMega Venusaur  Grass  Poison    625  80     100      123   \n",
       "4  4             Charmander   Fire     NaN    309  39      52       43   \n",
       "\n",
       "   Sp. Atk  Sp. Def  Speed  Generation  Legendary  \n",
       "0       65       65     45           1      False  \n",
       "1       80       80     60           1      False  \n",
       "2      100      100     80           1      False  \n",
       "3      122      120     80           1      False  \n",
       "4       60       50     65           1      False  "
      ]
     },
     "execution_count": 3,
     "metadata": {},
     "output_type": "execute_result"
    }
   ],
   "source": [
    "df.head()"
   ]
  },
  {
   "cell_type": "code",
   "execution_count": 4,
   "metadata": {},
   "outputs": [],
   "source": [
    "num_vars = ['HP', 'Attack', 'Defense', 'Sp. Atk', 'Sp. Def', 'Speed']\n",
    "df_num = df[num_vars]"
   ]
  },
  {
   "cell_type": "code",
   "execution_count": 5,
   "metadata": {},
   "outputs": [
    {
     "data": {
      "image/png": "[encoded data removed]",
      "text/plain": [
       "<Figure size 720x360 with 6 Axes>"
      ]
     },
     "metadata": {
      "needs_background": "light"
     },
     "output_type": "display_data"
    }
   ],
   "source": [
    "df_num.hist(layout=(2,3), figsize=(10,5), bins=20);"
   ]
  },
  {
   "cell_type": "code",
   "execution_count": 6,
   "metadata": {},
   "outputs": [],
   "source": [
    "scaler = StandardScaler()\n",
    "df_num = scaler.fit_transform(df_num)"
   ]
  },
  {
   "cell_type": "code",
   "execution_count": 9,
   "metadata": {},
   "outputs": [],
   "source": [
    "pca = PCA(n_components=5, svd_solver='full')\n",
    "pca.fit(df_num)\n",
    "df_pca = pca.transform(df_num)"
   ]
  },
  {
   "cell_type": "code",
   "execution_count": 11,
   "metadata": {},
   "outputs": [
    {
     "data": {
      "image/png": "[encoded data removed]",
      "text/plain": [
       "<Figure size 432x288 with 1 Axes>"
      ]
     },
     "metadata": {
      "needs_background": "light"
     },
     "output_type": "display_data"
    }
   ],
   "source": [
    "plt.plot(pca.explained_variance_ratio_ * 100);"
   ]
  },
  {
   "cell_type": "code",
   "execution_count": 12,
   "metadata": {},
   "outputs": [
    {
     "data": {
      "text/plain": [
       "95.54853406219935"
      ]
     },
     "execution_count": 12,
     "metadata": {},
     "output_type": "execute_result"
    }
   ],
   "source": [
    "np.sum(pca.explained_variance_ratio_ * 100)"
   ]
  },
  {
   "cell_type": "code",
   "execution_count": 13,
   "metadata": {},
   "outputs": [
    {
     "data": {
      "text/html": [
       "<div>\n",
       "<style scoped>\n",
       "    .dataframe tbody tr th:only-of-type {\n",
       "        vertical-align: middle;\n",
       "    }\n",
       "\n",
       "    .dataframe tbody tr th {\n",
       "        vertical-align: top;\n",
       "    }\n",
       "\n",
       "    .dataframe thead th {\n",
       "        text-align: right;\n",
       "    }\n",
       "</style>\n",
       "<table border=\"1\" class=\"dataframe\">\n",
       "  <thead>\n",
       "    <tr style=\"text-align: right;\">\n",
       "      <th></th>\n",
       "      <th>HP</th>\n",
       "      <th>Attack</th>\n",
       "      <th>Defense</th>\n",
       "      <th>Sp. Atk</th>\n",
       "      <th>Sp. Def</th>\n",
       "      <th>Speed</th>\n",
       "    </tr>\n",
       "  </thead>\n",
       "  <tbody>\n",
       "    <tr>\n",
       "      <th>45.19</th>\n",
       "      <td>0.389886</td>\n",
       "      <td>0.439254</td>\n",
       "      <td>0.363747</td>\n",
       "      <td>0.457162</td>\n",
       "      <td>0.448570</td>\n",
       "      <td>0.335440</td>\n",
       "    </tr>\n",
       "    <tr>\n",
       "      <th>18.23</th>\n",
       "      <td>0.084835</td>\n",
       "      <td>-0.011825</td>\n",
       "      <td>0.628789</td>\n",
       "      <td>-0.305414</td>\n",
       "      <td>0.239097</td>\n",
       "      <td>-0.668463</td>\n",
       "    </tr>\n",
       "    <tr>\n",
       "      <th>12.98</th>\n",
       "      <td>-0.471926</td>\n",
       "      <td>-0.594153</td>\n",
       "      <td>0.069339</td>\n",
       "      <td>0.305612</td>\n",
       "      <td>0.565594</td>\n",
       "      <td>0.078513</td>\n",
       "    </tr>\n",
       "    <tr>\n",
       "      <th>12.01</th>\n",
       "      <td>0.717691</td>\n",
       "      <td>-0.405836</td>\n",
       "      <td>-0.419237</td>\n",
       "      <td>0.147517</td>\n",
       "      <td>0.185445</td>\n",
       "      <td>-0.297163</td>\n",
       "    </tr>\n",
       "    <tr>\n",
       "      <th>7.14</th>\n",
       "      <td>0.219991</td>\n",
       "      <td>-0.190255</td>\n",
       "      <td>0.059032</td>\n",
       "      <td>-0.735345</td>\n",
       "      <td>0.300200</td>\n",
       "      <td>0.530161</td>\n",
       "    </tr>\n",
       "  </tbody>\n",
       "</table>\n",
       "</div>"
      ],
      "text/plain": [
       "             HP    Attack   Defense   Sp. Atk   Sp. Def     Speed\n",
       "45.19  0.389886  0.439254  0.363747  0.457162  0.448570  0.335440\n",
       "18.23  0.084835 -0.011825  0.628789 -0.305414  0.239097 -0.668463\n",
       "12.98 -0.471926 -0.594153  0.069339  0.305612  0.565594  0.078513\n",
       "12.01  0.717691 -0.405836 -0.419237  0.147517  0.185445 -0.297163\n",
       "7.14   0.219991 -0.190255  0.059032 -0.735345  0.300200  0.530161"
      ]
     },
     "execution_count": 13,
     "metadata": {},
     "output_type": "execute_result"
    }
   ],
   "source": [
    "components = pd.DataFrame(pca.components_,\n",
    "                          columns = num_vars,\n",
    "                          index=pca.explained_variance_ratio_.round(4) * 100)\n",
    "#components[\"VARIANCE\"] = pca.explained_variance_ratio_ * 100\n",
    "components"
   ]
  },
  {
   "cell_type": "code",
   "execution_count": 14,
   "metadata": {},
   "outputs": [
    {
     "data": {
      "text/html": [
       "<style  type=\"text/css\" >\n",
       "#T_04961_row0_col0{\n",
       "            width:  10em;\n",
       "             height:  80%;\n",
       "            background:  linear-gradient(90deg, transparent 50.0%, #5fba7d 50.0%, #5fba7d 69.5%, transparent 69.5%);\n",
       "        }#T_04961_row0_col1{\n",
       "            width:  10em;\n",
       "             height:  80%;\n",
       "            background:  linear-gradient(90deg, transparent 50.0%, #5fba7d 50.0%, #5fba7d 54.2%, transparent 54.2%);\n",
       "        }#T_04961_row0_col2{\n",
       "            width:  10em;\n",
       "             height:  80%;\n",
       "            background:  linear-gradient(90deg, transparent 26.4%, #d65f5f 26.4%, #d65f5f 50.0%, transparent 50.0%);\n",
       "        }#T_04961_row0_col3{\n",
       "            width:  10em;\n",
       "             height:  80%;\n",
       "            background:  linear-gradient(90deg, transparent 50.0%, #5fba7d 50.0%, #5fba7d 85.9%, transparent 85.9%);\n",
       "        }#T_04961_row0_col4{\n",
       "            width:  10em;\n",
       "             height:  80%;\n",
       "            background:  linear-gradient(90deg, transparent 50.0%, #5fba7d 50.0%, #5fba7d 61.0%, transparent 61.0%);\n",
       "        }#T_04961_row1_col0{\n",
       "            width:  10em;\n",
       "             height:  80%;\n",
       "            background:  linear-gradient(90deg, transparent 50.0%, #5fba7d 50.0%, #5fba7d 72.0%, transparent 72.0%);\n",
       "        }#T_04961_row1_col1{\n",
       "            width:  10em;\n",
       "             height:  80%;\n",
       "            background:  linear-gradient(90deg, transparent 49.4%, #d65f5f 49.4%, #d65f5f 50.0%, transparent 50.0%);\n",
       "        }#T_04961_row1_col2{\n",
       "            width:  10em;\n",
       "             height:  80%;\n",
       "            background:  linear-gradient(90deg, transparent 20.3%, #d65f5f 20.3%, #d65f5f 50.0%, transparent 50.0%);\n",
       "        }#T_04961_row1_col3{\n",
       "            width:  10em;\n",
       "             height:  80%;\n",
       "            background:  linear-gradient(90deg, transparent 29.7%, #d65f5f 29.7%, #d65f5f 50.0%, transparent 50.0%);\n",
       "        }#T_04961_row1_col4{\n",
       "            width:  10em;\n",
       "             height:  80%;\n",
       "            background:  linear-gradient(90deg, transparent 40.5%, #d65f5f 40.5%, #d65f5f 50.0%, transparent 50.0%);\n",
       "        }#T_04961_row2_col0{\n",
       "            width:  10em;\n",
       "             height:  80%;\n",
       "            background:  linear-gradient(90deg, transparent 50.0%, #5fba7d 50.0%, #5fba7d 68.2%, transparent 68.2%);\n",
       "        }#T_04961_row2_col1{\n",
       "            width:  10em;\n",
       "             height:  80%;\n",
       "            background:  linear-gradient(90deg, transparent 50.0%, #5fba7d 50.0%, #5fba7d 81.4%, transparent 81.4%);\n",
       "        }#T_04961_row2_col2{\n",
       "            width:  10em;\n",
       "             height:  80%;\n",
       "            background:  linear-gradient(90deg, transparent 50.0%, #5fba7d 50.0%, #5fba7d 53.5%, transparent 53.5%);\n",
       "        }#T_04961_row2_col3{\n",
       "            width:  10em;\n",
       "             height:  80%;\n",
       "            background:  linear-gradient(90deg, transparent 29.0%, #d65f5f 29.0%, #d65f5f 50.0%, transparent 50.0%);\n",
       "        }#T_04961_row2_col4{\n",
       "            width:  10em;\n",
       "             height:  80%;\n",
       "            background:  linear-gradient(90deg, transparent 50.0%, #5fba7d 50.0%, #5fba7d 53.0%, transparent 53.0%);\n",
       "        }#T_04961_row3_col0{\n",
       "            width:  10em;\n",
       "             height:  80%;\n",
       "            background:  linear-gradient(90deg, transparent 50.0%, #5fba7d 50.0%, #5fba7d 72.9%, transparent 72.9%);\n",
       "        }#T_04961_row3_col1{\n",
       "            width:  10em;\n",
       "             height:  80%;\n",
       "            background:  linear-gradient(90deg, transparent 34.7%, #d65f5f 34.7%, #d65f5f 50.0%, transparent 50.0%);\n",
       "        }#T_04961_row3_col2{\n",
       "            width:  10em;\n",
       "             height:  80%;\n",
       "            background:  linear-gradient(90deg, transparent 50.0%, #5fba7d 50.0%, #5fba7d 65.3%, transparent 65.3%);\n",
       "        }#T_04961_row3_col3{\n",
       "            width:  10em;\n",
       "             height:  80%;\n",
       "            background:  linear-gradient(90deg, transparent 50.0%, #5fba7d 50.0%, #5fba7d 57.4%, transparent 57.4%);\n",
       "        }#T_04961_row3_col4{\n",
       "            width:  10em;\n",
       "             height:  80%;\n",
       "            background:  linear-gradient(90deg, transparent 13.2%, #d65f5f 13.2%, #d65f5f 50.0%, transparent 50.0%);\n",
       "        }#T_04961_row4_col0{\n",
       "            width:  10em;\n",
       "             height:  80%;\n",
       "            background:  linear-gradient(90deg, transparent 50.0%, #5fba7d 50.0%, #5fba7d 72.4%, transparent 72.4%);\n",
       "        }#T_04961_row4_col1{\n",
       "            width:  10em;\n",
       "             height:  80%;\n",
       "            background:  linear-gradient(90deg, transparent 50.0%, #5fba7d 50.0%, #5fba7d 62.0%, transparent 62.0%);\n",
       "        }#T_04961_row4_col2{\n",
       "            width:  10em;\n",
       "             height:  80%;\n",
       "            background:  linear-gradient(90deg, transparent 50.0%, #5fba7d 50.0%, #5fba7d 78.3%, transparent 78.3%);\n",
       "        }#T_04961_row4_col3{\n",
       "            width:  10em;\n",
       "             height:  80%;\n",
       "            background:  linear-gradient(90deg, transparent 50.0%, #5fba7d 50.0%, #5fba7d 59.3%, transparent 59.3%);\n",
       "        }#T_04961_row4_col4{\n",
       "            width:  10em;\n",
       "             height:  80%;\n",
       "            background:  linear-gradient(90deg, transparent 50.0%, #5fba7d 50.0%, #5fba7d 65.0%, transparent 65.0%);\n",
       "        }#T_04961_row5_col0{\n",
       "            width:  10em;\n",
       "             height:  80%;\n",
       "            background:  linear-gradient(90deg, transparent 50.0%, #5fba7d 50.0%, #5fba7d 66.8%, transparent 66.8%);\n",
       "        }#T_04961_row5_col1{\n",
       "            width:  10em;\n",
       "             height:  80%;\n",
       "            background:  linear-gradient(90deg, transparent 16.6%, #d65f5f 16.6%, #d65f5f 50.0%, transparent 50.0%);\n",
       "        }#T_04961_row5_col2{\n",
       "            width:  10em;\n",
       "             height:  80%;\n",
       "            background:  linear-gradient(90deg, transparent 50.0%, #5fba7d 50.0%, #5fba7d 53.9%, transparent 53.9%);\n",
       "        }#T_04961_row5_col3{\n",
       "            width:  10em;\n",
       "             height:  80%;\n",
       "            background:  linear-gradient(90deg, transparent 35.1%, #d65f5f 35.1%, #d65f5f 50.0%, transparent 50.0%);\n",
       "        }#T_04961_row5_col4{\n",
       "            width:  10em;\n",
       "             height:  80%;\n",
       "            background:  linear-gradient(90deg, transparent 50.0%, #5fba7d 50.0%, #5fba7d 76.5%, transparent 76.5%);\n",
       "        }</style><table id=\"T_04961_\" ><thead>    <tr>        <th class=\"blank level0\" ></th>        <th class=\"col_heading level0 col0\" >45.190000000000005</th>        <th class=\"col_heading level0 col1\" >18.23</th>        <th class=\"col_heading level0 col2\" >12.98</th>        <th class=\"col_heading level0 col3\" >12.01</th>        <th class=\"col_heading level0 col4\" >7.140000000000001</th>    </tr></thead><tbody>\n",
       "                <tr>\n",
       "                        <th id=\"T_04961_level0_row0\" class=\"row_heading level0 row0\" >HP</th>\n",
       "                        <td id=\"T_04961_row0_col0\" class=\"data row0 col0\" >0.389886</td>\n",
       "                        <td id=\"T_04961_row0_col1\" class=\"data row0 col1\" >0.084835</td>\n",
       "                        <td id=\"T_04961_row0_col2\" class=\"data row0 col2\" >-0.471926</td>\n",
       "                        <td id=\"T_04961_row0_col3\" class=\"data row0 col3\" >0.717691</td>\n",
       "                        <td id=\"T_04961_row0_col4\" class=\"data row0 col4\" >0.219991</td>\n",
       "            </tr>\n",
       "            <tr>\n",
       "                        <th id=\"T_04961_level0_row1\" class=\"row_heading level0 row1\" >Attack</th>\n",
       "                        <td id=\"T_04961_row1_col0\" class=\"data row1 col0\" >0.439254</td>\n",
       "                        <td id=\"T_04961_row1_col1\" class=\"data row1 col1\" >-0.011825</td>\n",
       "                        <td id=\"T_04961_row1_col2\" class=\"data row1 col2\" >-0.594153</td>\n",
       "                        <td id=\"T_04961_row1_col3\" class=\"data row1 col3\" >-0.405836</td>\n",
       "                        <td id=\"T_04961_row1_col4\" class=\"data row1 col4\" >-0.190255</td>\n",
       "            </tr>\n",
       "            <tr>\n",
       "                        <th id=\"T_04961_level0_row2\" class=\"row_heading level0 row2\" >Defense</th>\n",
       "                        <td id=\"T_04961_row2_col0\" class=\"data row2 col0\" >0.363747</td>\n",
       "                        <td id=\"T_04961_row2_col1\" class=\"data row2 col1\" >0.628789</td>\n",
       "                        <td id=\"T_04961_row2_col2\" class=\"data row2 col2\" >0.069339</td>\n",
       "                        <td id=\"T_04961_row2_col3\" class=\"data row2 col3\" >-0.419237</td>\n",
       "                        <td id=\"T_04961_row2_col4\" class=\"data row2 col4\" >0.059032</td>\n",
       "            </tr>\n",
       "            <tr>\n",
       "                        <th id=\"T_04961_level0_row3\" class=\"row_heading level0 row3\" >Sp. Atk</th>\n",
       "                        <td id=\"T_04961_row3_col0\" class=\"data row3 col0\" >0.457162</td>\n",
       "                        <td id=\"T_04961_row3_col1\" class=\"data row3 col1\" >-0.305414</td>\n",
       "                        <td id=\"T_04961_row3_col2\" class=\"data row3 col2\" >0.305612</td>\n",
       "                        <td id=\"T_04961_row3_col3\" class=\"data row3 col3\" >0.147517</td>\n",
       "                        <td id=\"T_04961_row3_col4\" class=\"data row3 col4\" >-0.735345</td>\n",
       "            </tr>\n",
       "            <tr>\n",
       "                        <th id=\"T_04961_level0_row4\" class=\"row_heading level0 row4\" >Sp. Def</th>\n",
       "                        <td id=\"T_04961_row4_col0\" class=\"data row4 col0\" >0.448570</td>\n",
       "                        <td id=\"T_04961_row4_col1\" class=\"data row4 col1\" >0.239097</td>\n",
       "                        <td id=\"T_04961_row4_col2\" class=\"data row4 col2\" >0.565594</td>\n",
       "                        <td id=\"T_04961_row4_col3\" class=\"data row4 col3\" >0.185445</td>\n",
       "                        <td id=\"T_04961_row4_col4\" class=\"data row4 col4\" >0.300200</td>\n",
       "            </tr>\n",
       "            <tr>\n",
       "                        <th id=\"T_04961_level0_row5\" class=\"row_heading level0 row5\" >Speed</th>\n",
       "                        <td id=\"T_04961_row5_col0\" class=\"data row5 col0\" >0.335440</td>\n",
       "                        <td id=\"T_04961_row5_col1\" class=\"data row5 col1\" >-0.668463</td>\n",
       "                        <td id=\"T_04961_row5_col2\" class=\"data row5 col2\" >0.078513</td>\n",
       "                        <td id=\"T_04961_row5_col3\" class=\"data row5 col3\" >-0.297163</td>\n",
       "                        <td id=\"T_04961_row5_col4\" class=\"data row5 col4\" >0.530161</td>\n",
       "            </tr>\n",
       "    </tbody></table>"
      ],
      "text/plain": [
       "<pandas.io.formats.style.Styler at 0x7fc46b4e04c0>"
      ]
     },
     "execution_count": 14,
     "metadata": {},
     "output_type": "execute_result"
    }
   ],
   "source": [
    "components.T.style.bar(align='mid', color=['#d65f5f', '#5fba7d'],vmin=-1,vmax=1)\n"
   ]
  },
  {
   "cell_type": "code",
   "execution_count": 31,
   "metadata": {},
   "outputs": [
    {
     "data": {
      "text/html": [
       "<div>\n",
       "<style scoped>\n",
       "    .dataframe tbody tr th:only-of-type {\n",
       "        vertical-align: middle;\n",
       "    }\n",
       "\n",
       "    .dataframe tbody tr th {\n",
       "        vertical-align: top;\n",
       "    }\n",
       "\n",
       "    .dataframe thead th {\n",
       "        text-align: right;\n",
       "    }\n",
       "</style>\n",
       "<table border=\"1\" class=\"dataframe\">\n",
       "  <thead>\n",
       "    <tr style=\"text-align: right;\">\n",
       "      <th></th>\n",
       "      <th>45.19</th>\n",
       "      <th>18.23</th>\n",
       "    </tr>\n",
       "  </thead>\n",
       "  <tbody>\n",
       "    <tr>\n",
       "      <th>HP</th>\n",
       "      <td>0.389886</td>\n",
       "      <td>0.084835</td>\n",
       "    </tr>\n",
       "    <tr>\n",
       "      <th>Attack</th>\n",
       "      <td>0.439254</td>\n",
       "      <td>-0.011825</td>\n",
       "    </tr>\n",
       "    <tr>\n",
       "      <th>Defense</th>\n",
       "      <td>0.363747</td>\n",
       "      <td>0.628789</td>\n",
       "    </tr>\n",
       "    <tr>\n",
       "      <th>Sp. Atk</th>\n",
       "      <td>0.457162</td>\n",
       "      <td>-0.305414</td>\n",
       "    </tr>\n",
       "    <tr>\n",
       "      <th>Sp. Def</th>\n",
       "      <td>0.448570</td>\n",
       "      <td>0.239097</td>\n",
       "    </tr>\n",
       "    <tr>\n",
       "      <th>Speed</th>\n",
       "      <td>0.335440</td>\n",
       "      <td>-0.668463</td>\n",
       "    </tr>\n",
       "  </tbody>\n",
       "</table>\n",
       "</div>"
      ],
      "text/plain": [
       "            45.19     18.23\n",
       "HP       0.389886  0.084835\n",
       "Attack   0.439254 -0.011825\n",
       "Defense  0.363747  0.628789\n",
       "Sp. Atk  0.457162 -0.305414\n",
       "Sp. Def  0.448570  0.239097\n",
       "Speed    0.335440 -0.668463"
      ]
     },
     "execution_count": 31,
     "metadata": {},
     "output_type": "execute_result"
    }
   ],
   "source": [
    "components.T.iloc[:, 0:2]"
   ]
  },
  {
   "cell_type": "code",
   "execution_count": 16,
   "metadata": {},
   "outputs": [],
   "source": [
    "origin = np.zeros(6)"
   ]
  },
  {
   "cell_type": "code",
   "execution_count": 53,
   "metadata": {},
   "outputs": [
    {
     "data": {
      "image/png": "[encoded data removed]",
      "text/plain": [
       "<Figure size 576x576 with 1 Axes>"
      ]
     },
     "metadata": {
      "needs_background": "light"
     },
     "output_type": "display_data"
    }
   ],
   "source": [
    "# https://stackoverflow.com/questions/12265234/how-to-plot-2d-math-vectors-with-matplotlib\n",
    "# https://benalexkeen.com/principle-component-analysis-in-python/\n",
    "\n",
    "fig = plt.figure(figsize=(8,8))\n",
    "\n",
    "# Draw vectors\n",
    "plt.quiver(origin, origin, components.T.iloc[:, 0], components.T.iloc[:, 1],\n",
    "           angles='xy', scale_units='xy', scale=1,);\n",
    "\n",
    "\n",
    "# Add labels based on feature names\n",
    "for i,j,z in zip(PCs[1,:]+0.02, PCs[0,:]+0.02, num_vars):\n",
    "    plt.text(j, i, z, ha='center', va='center')\n",
    "    \n",
    "    \n",
    "# Add unit circle\n",
    "circle = plt.Circle((0,0), 1, facecolor='none', edgecolor='b')\n",
    "plt.gca().add_artist(circle)\n",
    "\n",
    "# Scatter points\n",
    "plt.scatter(x=df_num[:,0], y=df_num[:,1])\n",
    "\n",
    "plt.axis('equal')\n",
    "plt.xlim([-1.5,1.5])\n",
    "plt.ylim([-1.5,1.5])\n",
    "\n",
    "\n",
    "# Label axes\n",
    "plt.xlabel('PC 0')\n",
    "plt.ylabel('PC 1')\n",
    "\n",
    "# Done\n",
    "plt.show()"
   ]
  },
  {
   "cell_type": "code",
   "execution_count": 41,
   "metadata": {},
   "outputs": [
    {
     "data": {
      "image/png": "[encoded data removed]",
      "text/plain": [
       "<Figure size 1008x1008 with 1 Axes>"
      ]
     },
     "metadata": {
      "needs_background": "light"
     },
     "output_type": "display_data"
    }
   ],
   "source": [
    "fig = plt.figure(figsize=(14,14))\n",
    "\n",
    "# Add unit circle\n",
    "circle = plt.Circle((0,0), 1, facecolor='none', edgecolor='b')\n",
    "plt.gca().add_artist(circle)\n",
    "\n",
    "# Draw pca points\n",
    "plt.scatter(x=df_pca[:,0], y=df_pca[:,1], s=2)\n",
    "\n",
    "# Draw vectors\n",
    "plt.quiver(origin, origin, components.T.iloc[:, 0], components.T.iloc[:, 1],\n",
    "           angles='xy', scale_units='xy', scale=1, width=0.003 ) #linewidths=0.005\n",
    "\n",
    "plt.axis('equal')\n",
    "plt.show()"
   ]
  }
 ],
 "metadata": {
  "kernelspec": {
   "display_name": "Python 3",
   "language": "python",
   "name": "python3"
  },
  "language_info": {
   "codemirror_mode": {
    "name": "ipython",
    "version": 3
   },
   "file_extension": ".py",
   "mimetype": "text/x-python",
   "name": "python",
   "nbconvert_exporter": "python",
   "pygments_lexer": "ipython3",
   "version": "3.9.1"
  }
 },
 "nbformat": 4,
 "nbformat_minor": 4
}
