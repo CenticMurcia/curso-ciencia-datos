{
 "cells": [
  {
   "cell_type": "code",
   "execution_count": null,
   "metadata": {},
   "outputs": [],
   "source": [
    "!pip install --upgrade fastai2"
   ]
  },
  {
   "cell_type": "code",
   "execution_count": 1,
   "metadata": {},
   "outputs": [],
   "source": [
    "from fastai2.vision.all import *"
   ]
  },
  {
   "cell_type": "code",
   "execution_count": 6,
   "metadata": {},
   "outputs": [
    {
     "data": {
      "text/plain": [
       "Path('/Users/javi/.fastai/data/imagewoof2-160')"
      ]
     },
     "execution_count": 6,
     "metadata": {},
     "output_type": "execute_result"
    }
   ],
   "source": [
    "path = URLs.IMAGEWOOF_160\n",
    "source = untar_data(path)\n",
    "source"
   ]
  },
  {
   "cell_type": "code",
   "execution_count": 8,
   "metadata": {},
   "outputs": [
    {
     "data": {
      "text/plain": [
       "(#12954) [Path('/Users/javi/.fastai/data/imagewoof2-160/train/n02089973/n02089973_9145.JPEG'),Path('/Users/javi/.fastai/data/imagewoof2-160/train/n02089973/n02089973_11475.JPEG'),Path('/Users/javi/.fastai/data/imagewoof2-160/train/n02089973/n02089973_10634.JPEG'),Path('/Users/javi/.fastai/data/imagewoof2-160/train/n02089973/n02089973_2973.JPEG'),Path('/Users/javi/.fastai/data/imagewoof2-160/train/n02089973/n02089973_6463.JPEG'),Path('/Users/javi/.fastai/data/imagewoof2-160/train/n02089973/n02089973_3323.JPEG'),Path('/Users/javi/.fastai/data/imagewoof2-160/train/n02089973/n02089973_2477.JPEG'),Path('/Users/javi/.fastai/data/imagewoof2-160/train/n02089973/ILSVRC2012_val_00033378.JPEG'),Path('/Users/javi/.fastai/data/imagewoof2-160/train/n02089973/n02089973_3159.JPEG'),Path('/Users/javi/.fastai/data/imagewoof2-160/train/n02089973/ILSVRC2012_val_00000048.JPEG')...]"
      ]
     },
     "execution_count": 8,
     "metadata": {},
     "output_type": "execute_result"
    }
   ],
   "source": [
    "items = get_image_files(source)\n",
    "items"
   ]
  },
  {
   "cell_type": "code",
   "execution_count": 11,
   "metadata": {},
   "outputs": [],
   "source": [
    "split_idx = GrandparentSplitter(valid_name='val')(items)"
   ]
  },
  {
   "cell_type": "code",
   "execution_count": 12,
   "metadata": {},
   "outputs": [
    {
     "ename": "NameError",
     "evalue": "name 'lbl_dict' is not defined",
     "output_type": "error",
     "traceback": [
      "\u001b[0;31m---------------------------------------------------------------------------\u001b[0m",
      "\u001b[0;31mNameError\u001b[0m                                 Traceback (most recent call last)",
      "\u001b[0;32m<ipython-input-12-b42156d57120>\u001b[0m in \u001b[0;36m<module>\u001b[0;34m\u001b[0m\n\u001b[0;32m----> 1\u001b[0;31m \u001b[0mtfms\u001b[0m \u001b[0;34m=\u001b[0m \u001b[0;34m[\u001b[0m\u001b[0;34m[\u001b[0m\u001b[0mPILImage\u001b[0m\u001b[0;34m.\u001b[0m\u001b[0mcreate\u001b[0m\u001b[0;34m]\u001b[0m\u001b[0;34m,\u001b[0m \u001b[0;34m[\u001b[0m\u001b[0mparent_label\u001b[0m\u001b[0;34m,\u001b[0m \u001b[0mlbl_dict\u001b[0m\u001b[0;34m.\u001b[0m\u001b[0m__getitem__\u001b[0m\u001b[0;34m,\u001b[0m \u001b[0mCategorize\u001b[0m\u001b[0;34m]\u001b[0m\u001b[0;34m]\u001b[0m\u001b[0;34m\u001b[0m\u001b[0;34m\u001b[0m\u001b[0m\n\u001b[0m\u001b[1;32m      2\u001b[0m \u001b[0mitem_img_tfms\u001b[0m \u001b[0;34m=\u001b[0m \u001b[0;34m[\u001b[0m\u001b[0mToTensor\u001b[0m\u001b[0;34m,\u001b[0m \u001b[0mFlipItem\u001b[0m\u001b[0;34m(\u001b[0m\u001b[0;36m0.5\u001b[0m\u001b[0;34m)\u001b[0m\u001b[0;34m,\u001b[0m \u001b[0mRandomResizedCrop\u001b[0m\u001b[0;34m(\u001b[0m\u001b[0;36m128\u001b[0m\u001b[0;34m,\u001b[0m \u001b[0mmin_scale\u001b[0m\u001b[0;34m=\u001b[0m\u001b[0;36m0.35\u001b[0m\u001b[0;34m)\u001b[0m\u001b[0;34m]\u001b[0m\u001b[0;34m\u001b[0m\u001b[0;34m\u001b[0m\u001b[0m\n",
      "\u001b[0;31mNameError\u001b[0m: name 'lbl_dict' is not defined"
     ]
    }
   ],
   "source": [
    "tfms = [[PILImage.create], [parent_label, lbl_dict.__getitem__, Categorize]]\n",
    "item_img_tfms = [ToTensor, FlipItem(0.5), RandomResizedCrop(128, min_scale=0.35)]"
   ]
  },
  {
   "cell_type": "code",
   "execution_count": null,
   "metadata": {},
   "outputs": [],
   "source": [
    "data = ImageDataBunch.from_folder(dataset_file,             # Dataset folder\n",
    "                                  ds_tfms=get_transforms(), # Data augmentation\n",
    "                                  size=100,                 # Img size (100x100)\n",
    "                                  bs=32)                    # Batch size=32"
   ]
  }
 ],
 "metadata": {
  "kernelspec": {
   "display_name": "Python 3",
   "language": "python",
   "name": "python3"
  },
  "language_info": {
   "codemirror_mode": {
    "name": "ipython",
    "version": 3
   },
   "file_extension": ".py",
   "mimetype": "text/x-python",
   "name": "python",
   "nbconvert_exporter": "python",
   "pygments_lexer": "ipython3",
   "version": "3.7.3"
  }
 },
 "nbformat": 4,
 "nbformat_minor": 2
}
