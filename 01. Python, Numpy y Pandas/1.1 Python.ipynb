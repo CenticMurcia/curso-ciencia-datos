{
 "cells": [
  {
   "cell_type": "markdown",
   "metadata": {},
   "source": [
    "# Introducción a Python\n",
    "\n",
    "En este cuaderno aprenderás:\n",
    "- Tipos de datos (listas, diccionarios, ...)\n",
    "- Control de flujo (condiciones, bucles, ...)\n",
    "- Funciones \n",
    "\n",
    "Python 2 está obsoleto desde 2020, comprobemos que usamos Python 3"
   ]
  },
  {
   "cell_type": "code",
   "execution_count": 1,
   "metadata": {},
   "outputs": [
    {
     "name": "stdout",
     "output_type": "stream",
     "text": [
      "3\n"
     ]
    }
   ],
   "source": [
    "# Comprobar que usamos Python 3\n",
    "import sys\n",
    "print(sys.version[0])"
   ]
  },
  {
   "cell_type": "markdown",
   "metadata": {},
   "source": [
    "# 1. Tipos de datos simples:\n",
    "\n",
    "- Números\n",
    "  - **Enteros**: `int`\n",
    "  - **Punto flotante**: `float` (Decimales)\n",
    "- **Booleanos**: `bool` (Verdadero o falso)\n",
    "- **Strings**: `str` (Cadena de texto)"
   ]
  },
  {
   "cell_type": "code",
   "execution_count": 2,
   "metadata": {},
   "outputs": [
    {
     "name": "stdout",
     "output_type": "stream",
     "text": [
      "<class 'int'>\n",
      "5\n"
     ]
    }
   ],
   "source": [
    "a = 5\n",
    "print(type(a))\n",
    "print(a)"
   ]
  },
  {
   "cell_type": "code",
   "execution_count": 3,
   "metadata": {},
   "outputs": [
    {
     "name": "stdout",
     "output_type": "stream",
     "text": [
      "<class 'float'>\n",
      "5.0\n"
     ]
    }
   ],
   "source": [
    "b = 5.0\n",
    "print(type(b))\n",
    "print(b)"
   ]
  },
  {
   "cell_type": "code",
   "execution_count": 4,
   "metadata": {},
   "outputs": [
    {
     "name": "stdout",
     "output_type": "stream",
     "text": [
      "<class 'bool'>\n"
     ]
    }
   ],
   "source": [
    "verdadero  = True\n",
    "falso      = False\n",
    "\n",
    "print(type(verdadero))"
   ]
  },
  {
   "cell_type": "markdown",
   "metadata": {},
   "source": [
    "## 1.1 Operaciones matemáticas"
   ]
  },
  {
   "cell_type": "code",
   "execution_count": 5,
   "metadata": {},
   "outputs": [
    {
     "name": "stdout",
     "output_type": "stream",
     "text": [
      "Suma: 6\n",
      "Resta: 4\n",
      "Multiplicación: 10\n",
      "División: 2.5\n",
      "División entera: 2\n",
      "Resto de la división: 1\n",
      "Exponente: 25\n"
     ]
    }
   ],
   "source": [
    "print(\"Suma:\",                 5 + 1)\n",
    "print(\"Resta:\",                5 - 1)\n",
    "print(\"Multiplicación:\",       5 * 2)\n",
    "print(\"División:\",             5 / 2)\n",
    "print(\"División entera:\",      5 // 2)\n",
    "print(\"Resto de la división:\", 5 % 2)\n",
    "print(\"Exponente:\",            5 ** 2)"
   ]
  },
  {
   "cell_type": "markdown",
   "metadata": {},
   "source": [
    "## 1.2 Operaciones de comparación"
   ]
  },
  {
   "cell_type": "code",
   "execution_count": 6,
   "metadata": {},
   "outputs": [
    {
     "name": "stdout",
     "output_type": "stream",
     "text": [
      "True\n",
      "True\n",
      "True\n",
      "True\n",
      "True\n",
      "True\n"
     ]
    }
   ],
   "source": [
    "print(5 == 5)  # Comparador de igualdad\n",
    "print(5 != 3)  # Comparador de desigualdad\n",
    "print(5 > 3)   # Comparador mayor que\n",
    "print(3 < 5)   # Comparador menor que\n",
    "print(5 >= 3)  # Comparador mayor o igual qu\n",
    "print(3 <= 5)  # Comparador menor o igual que"
   ]
  },
  {
   "cell_type": "markdown",
   "metadata": {},
   "source": [
    "## 1.3 Operaciones lógicas\n",
    "- **`and`**: Para que sea verdadero -> **TODOS tienen que ser verdaderos**\n",
    "- **`or`**: Para que sea verdadero -> **Al menos UNO tiene que ser verdaderos**\n",
    "- **`not`**: Hace que sea lo contrario"
   ]
  },
  {
   "cell_type": "code",
   "execution_count": 7,
   "metadata": {},
   "outputs": [
    {
     "name": "stdout",
     "output_type": "stream",
     "text": [
      "verdadero and verdadero: True\n",
      "verdadero and falso:     False\n",
      "verdadero or verdadero:  True\n",
      "verdadero or falso:      True\n",
      "not verdadero:           False\n",
      "not falso:               True\n"
     ]
    }
   ],
   "source": [
    "verdadero = True\n",
    "falso     = False\n",
    "print(\"verdadero and verdadero:\", verdadero and verdadero)\n",
    "print(\"verdadero and falso:    \", verdadero and falso)\n",
    "print(\"verdadero or verdadero: \", verdadero or verdadero)\n",
    "print(\"verdadero or falso:     \", verdadero or falso)\n",
    "print(\"not verdadero:          \", not verdadero)\n",
    "print(\"not falso:              \", not falso)"
   ]
  },
  {
   "cell_type": "markdown",
   "metadata": {},
   "source": [
    "## 1.4 Cadenas de texto (Strings)"
   ]
  },
  {
   "cell_type": "code",
   "execution_count": 8,
   "metadata": {},
   "outputs": [
    {
     "name": "stdout",
     "output_type": "stream",
     "text": [
      "Estoy aprendiendo\n"
     ]
    }
   ],
   "source": [
    "s1 = 'Estoy'       # Pueden ser comillas simples\n",
    "s2 = \"aprendiendo\" # O comillas dobles\n",
    "print(s1, s2)"
   ]
  },
  {
   "cell_type": "markdown",
   "metadata": {},
   "source": [
    "### Concatenación de strings:  `+`"
   ]
  },
  {
   "cell_type": "code",
   "execution_count": 9,
   "metadata": {},
   "outputs": [
    {
     "name": "stdout",
     "output_type": "stream",
     "text": [
      "Hola, Estoy aprendiendo.\n"
     ]
    }
   ],
   "source": [
    "frase = 'Hola, ' + s1 + \" \" + s2 + \".\"\n",
    "print(frase)"
   ]
  },
  {
   "cell_type": "markdown",
   "metadata": {},
   "source": [
    "### Longitud del string:  `len`"
   ]
  },
  {
   "cell_type": "code",
   "execution_count": 10,
   "metadata": {},
   "outputs": [
    {
     "data": {
      "text/plain": [
       "24"
      ]
     },
     "execution_count": 10,
     "metadata": {},
     "output_type": "execute_result"
    }
   ],
   "source": [
    "len(frase)"
   ]
  },
  {
   "cell_type": "markdown",
   "metadata": {},
   "source": [
    "### Separación por patrón:  `split`"
   ]
  },
  {
   "cell_type": "code",
   "execution_count": 11,
   "metadata": {},
   "outputs": [
    {
     "data": {
      "text/plain": [
       "['Hola,', 'Estoy', 'aprendiendo.']"
      ]
     },
     "execution_count": 11,
     "metadata": {},
     "output_type": "execute_result"
    }
   ],
   "source": [
    "frase.split(' ')"
   ]
  },
  {
   "cell_type": "markdown",
   "metadata": {},
   "source": [
    "# 2. Estructuras de datos\n",
    "Son tipos de datos que contienen datos simples.\n",
    "- **Listas**\n",
    "- **Tuplas**\n",
    "- **Diccionarios**\n",
    "- **Conjuntos**\n",
    "\n",
    "## 2.1 Listas\n",
    "Una lista guarda datos en orden. Los datos pueden ser de dititinto tipo."
   ]
  },
  {
   "cell_type": "code",
   "execution_count": 12,
   "metadata": {},
   "outputs": [
    {
     "name": "stdout",
     "output_type": "stream",
     "text": [
      "['a', 'b', 'c', 'd']\n",
      "<class 'list'>\n",
      "a\n",
      "c\n"
     ]
    }
   ],
   "source": [
    "mi_lista = [\"a\", \"b\", \"c\", \"d\"]\n",
    "\n",
    "print(mi_lista)\n",
    "print(type(mi_lista))\n",
    "print(mi_lista[0])    # 0: Primer elemento de la lista\n",
    "print(mi_lista[2])    # 2: Tercer elemento de la lista"
   ]
  },
  {
   "cell_type": "markdown",
   "metadata": {},
   "source": [
    "![](../img/stair.png)"
   ]
  },
  {
   "cell_type": "markdown",
   "metadata": {},
   "source": [
    "### Modificar elementos de la lista"
   ]
  },
  {
   "cell_type": "code",
   "execution_count": 13,
   "metadata": {},
   "outputs": [
    {
     "name": "stdout",
     "output_type": "stream",
     "text": [
      "['primero', 'b', 'c', 'd']\n"
     ]
    }
   ],
   "source": [
    "mi_lista[0] = 'primero'\n",
    "print(mi_lista)"
   ]
  },
  {
   "cell_type": "markdown",
   "metadata": {},
   "source": [
    "### Añadir/quitar elementos de la lista"
   ]
  },
  {
   "cell_type": "code",
   "execution_count": 14,
   "metadata": {},
   "outputs": [
    {
     "name": "stdout",
     "output_type": "stream",
     "text": [
      "['primero', 'b', 'c', 'd', 'último']\n",
      "['primero', 'b', 'c', 'd']\n"
     ]
    }
   ],
   "source": [
    "mi_lista.append('último')\n",
    "print(mi_lista)\n",
    "\n",
    "mi_lista.pop()\n",
    "print(mi_lista)"
   ]
  },
  {
   "cell_type": "markdown",
   "metadata": {},
   "source": [
    "### Acceder a varios elementos de la lista\n",
    "![](../img/slicing.jpg)"
   ]
  },
  {
   "cell_type": "code",
   "execution_count": 15,
   "metadata": {},
   "outputs": [
    {
     "name": "stdout",
     "output_type": "stream",
     "text": [
      "['o', 'g', 'r']\n",
      "['p', 'r', 'o', 'g']\n",
      "['a', 'm', 'i', 'z']\n",
      "['p', 'r', 'o', 'g', 'r', 'a', 'm', 'i', 'z']\n"
     ]
    }
   ],
   "source": [
    "l = ['p','r','o','g','r','a','m','i','z']\n",
    "\n",
    "print(l[2:5]) # Del 3o al 5o\n",
    "print(l[:-5]) # Del principio al 4o\n",
    "print(l[5:])  # Del 6o al final\n",
    "print(l[:])   # Del principio al final"
   ]
  },
  {
   "cell_type": "markdown",
   "metadata": {},
   "source": [
    "## 2.2 Diccionarios\n",
    "\n",
    "Guarda pares de **clave: valor**"
   ]
  },
  {
   "cell_type": "code",
   "execution_count": 16,
   "metadata": {},
   "outputs": [],
   "source": [
    "d = { 'clave':   'valor',\n",
    "     'nombre':   'Pedro',\n",
    "     'apellido': 'García'}"
   ]
  },
  {
   "cell_type": "markdown",
   "metadata": {},
   "source": [
    "Acceder al valor a través de la clave:"
   ]
  },
  {
   "cell_type": "code",
   "execution_count": 17,
   "metadata": {},
   "outputs": [
    {
     "name": "stdout",
     "output_type": "stream",
     "text": [
      "valor\n",
      "Pedro\n"
     ]
    }
   ],
   "source": [
    "print(d['clave'])\n",
    "print(d['nombre'])"
   ]
  },
  {
   "cell_type": "markdown",
   "metadata": {},
   "source": [
    "**Iterar** diccionario (forma 1):"
   ]
  },
  {
   "cell_type": "code",
   "execution_count": 18,
   "metadata": {},
   "outputs": [
    {
     "name": "stdout",
     "output_type": "stream",
     "text": [
      "La clave es clave y el valor es valor\n",
      "La clave es nombre y el valor es Pedro\n",
      "La clave es apellido y el valor es García\n"
     ]
    }
   ],
   "source": [
    "for clave in d:\n",
    "    print(\"La clave es \" + clave + \" y el valor es \" + d[clave])"
   ]
  },
  {
   "cell_type": "markdown",
   "metadata": {},
   "source": [
    "**Iterar** diccionario (forma 2):"
   ]
  },
  {
   "cell_type": "code",
   "execution_count": 19,
   "metadata": {},
   "outputs": [
    {
     "name": "stdout",
     "output_type": "stream",
     "text": [
      "La clave es clave, y el valor es valor\n",
      "La clave es nombre, y el valor es Pedro\n",
      "La clave es apellido, y el valor es García\n"
     ]
    }
   ],
   "source": [
    "for clave, valor in d.items():\n",
    "    print(\"La clave es \" + clave + \", y el valor es \" + valor)"
   ]
  },
  {
   "cell_type": "markdown",
   "metadata": {},
   "source": [
    "## 2.3 Conjuntos\n",
    "Listas sin orden, que contiene elementos únicos"
   ]
  },
  {
   "cell_type": "code",
   "execution_count": 20,
   "metadata": {},
   "outputs": [
    {
     "name": "stdout",
     "output_type": "stream",
     "text": [
      "{1, 2, 3, 'hello'}\n"
     ]
    }
   ],
   "source": [
    "c = {1, 2, 3, 'hello'}\n",
    "print(c)"
   ]
  },
  {
   "cell_type": "markdown",
   "metadata": {},
   "source": [
    "Si repetimos, no pasa nada, internamente sólo se guarda uno."
   ]
  },
  {
   "cell_type": "code",
   "execution_count": 21,
   "metadata": {},
   "outputs": [
    {
     "name": "stdout",
     "output_type": "stream",
     "text": [
      "{1, 2, 3, 'hello'}\n"
     ]
    }
   ],
   "source": [
    "repes = {1, 2, 2, 2, 2, 2, 3, 'hello'}\n",
    "print(repes)"
   ]
  },
  {
   "cell_type": "markdown",
   "metadata": {},
   "source": [
    "# 3. Control de flujo `if`, `elif`, `else`"
   ]
  },
  {
   "cell_type": "code",
   "execution_count": 22,
   "metadata": {},
   "outputs": [
    {
     "name": "stdout",
     "output_type": "stream",
     "text": [
      "Échate la sista\n"
     ]
    }
   ],
   "source": [
    "sueño  = True\n",
    "hambre = False\n",
    "\n",
    "if sueño and hambre:\n",
    "    print(\"Come y échate la siesta.\")\n",
    "elif sueño and not hambre:\n",
    "    print(\"Échate la sista\")\n",
    "elif hambre and not sueño:\n",
    "    print(\"Come algo\")\n",
    "else:\n",
    "    print(\"Disfruta del día\")"
   ]
  },
  {
   "cell_type": "markdown",
   "metadata": {},
   "source": [
    "# 4. Bucles (loops)\n",
    "Sirven para **iterar** varios elementos."
   ]
  },
  {
   "cell_type": "markdown",
   "metadata": {},
   "source": [
    "## 4.1  Bucle `for`\n",
    "Sirve para iterar un rangos, listas y diccionarios"
   ]
  },
  {
   "cell_type": "code",
   "execution_count": 23,
   "metadata": {},
   "outputs": [
    {
     "name": "stdout",
     "output_type": "stream",
     "text": [
      "0\n",
      "1\n",
      "2\n",
      "3\n",
      "4\n",
      "5\n",
      "6\n",
      "7\n",
      "8\n",
      "9\n"
     ]
    }
   ],
   "source": [
    "for i in range(10):\n",
    "    print(i)"
   ]
  },
  {
   "cell_type": "markdown",
   "metadata": {},
   "source": [
    "Iterar una lista"
   ]
  },
  {
   "cell_type": "code",
   "execution_count": 24,
   "metadata": {},
   "outputs": [
    {
     "name": "stdout",
     "output_type": "stream",
     "text": [
      "perro\n",
      "gato\n",
      "leon\n",
      "oso\n"
     ]
    }
   ],
   "source": [
    "animales = ['perro', 'gato', 'leon', 'oso']\n",
    "\n",
    "for animal in animales:\n",
    "    print(animal)"
   ]
  },
  {
   "cell_type": "code",
   "execution_count": 25,
   "metadata": {},
   "outputs": [
    {
     "name": "stdout",
     "output_type": "stream",
     "text": [
      "0 perro\n",
      "1 gato\n",
      "2 leon\n",
      "3 oso\n"
     ]
    }
   ],
   "source": [
    "for i, animal in enumerate(animales):\n",
    "    print(i, animal)"
   ]
  },
  {
   "cell_type": "markdown",
   "metadata": {},
   "source": [
    "Iterar un diccionario:"
   ]
  },
  {
   "cell_type": "code",
   "execution_count": 26,
   "metadata": {},
   "outputs": [
    {
     "name": "stdout",
     "output_type": "stream",
     "text": [
      "El perro ladra.\n",
      "El gato maulla.\n",
      "El león ruge.\n"
     ]
    }
   ],
   "source": [
    "sonidos_de_animales = {\n",
    "    'perro': 'ladra',\n",
    "    'gato': 'maulla',\n",
    "    'león': 'ruge'\n",
    "}\n",
    "\n",
    "for animal, sonido in sonidos_de_animales.items():\n",
    "    print(\"El \" + animal + \" \" + sonido + \".\")"
   ]
  },
  {
   "cell_type": "markdown",
   "metadata": {},
   "source": [
    "## 4.2 Bucle `while`\n",
    "Se usan para iterar con una condición."
   ]
  },
  {
   "cell_type": "code",
   "execution_count": 27,
   "metadata": {},
   "outputs": [
    {
     "name": "stdout",
     "output_type": "stream",
     "text": [
      "0\n",
      "1\n",
      "2\n",
      "3\n",
      "4\n",
      "5\n",
      "6\n",
      "7\n",
      "8\n",
      "9\n"
     ]
    }
   ],
   "source": [
    "contador = 0\n",
    "while (contador < 10):\n",
    "    print(contador)\n",
    "    contador += 1 # Incrementar el contador +1"
   ]
  },
  {
   "cell_type": "markdown",
   "metadata": {},
   "source": [
    "## 4.3 List comprehensions"
   ]
  },
  {
   "cell_type": "markdown",
   "metadata": {},
   "source": [
    "**Forma tradicional** de crear una lista: Empezar con una lista vacía y añadir elementos"
   ]
  },
  {
   "cell_type": "code",
   "execution_count": 28,
   "metadata": {},
   "outputs": [
    {
     "data": {
      "text/plain": [
       "[0, 1, 4, 9, 16, 25, 36, 49, 64, 81]"
      ]
     },
     "execution_count": 28,
     "metadata": {},
     "output_type": "execute_result"
    }
   ],
   "source": [
    "cuadrados = []\n",
    "for n in range(10):\n",
    "    cuadrados.append(n**2)\n",
    "cuadrados"
   ]
  },
  {
   "cell_type": "markdown",
   "metadata": {},
   "source": [
    "**List comprehensions**: Otra forma de crear listas más compacta."
   ]
  },
  {
   "cell_type": "code",
   "execution_count": 29,
   "metadata": {},
   "outputs": [
    {
     "data": {
      "text/plain": [
       "[0, 1, 4, 9, 16, 25, 36, 49, 64, 81]"
      ]
     },
     "execution_count": 29,
     "metadata": {},
     "output_type": "execute_result"
    }
   ],
   "source": [
    "cuadrados = [n**2 for n in range(10)]\n",
    "cuadrados"
   ]
  },
  {
   "cell_type": "code",
   "execution_count": 30,
   "metadata": {},
   "outputs": [
    {
     "name": "stdout",
     "output_type": "stream",
     "text": [
      "['A', 'B', 'C']\n"
     ]
    }
   ],
   "source": [
    "abc_mayus = [letra.upper() for letra in 'abc' ]\n",
    "print( abc_mayus)"
   ]
  },
  {
   "cell_type": "markdown",
   "metadata": {},
   "source": [
    "## 4.4 Dict comprehensions"
   ]
  },
  {
   "cell_type": "code",
   "execution_count": 31,
   "metadata": {},
   "outputs": [
    {
     "data": {
      "text/plain": [
       "{0: 0, 1: 1, 2: 4, 3: 9, 4: 16, 5: 25, 6: 36, 7: 49, 8: 64, 9: 81}"
      ]
     },
     "execution_count": 31,
     "metadata": {},
     "output_type": "execute_result"
    }
   ],
   "source": [
    "cuadrados = {n: n**2 for n in range(10)}\n",
    "cuadrados"
   ]
  },
  {
   "cell_type": "markdown",
   "metadata": {},
   "source": [
    "# 5. Funciones\n",
    "\n",
    "Una función es un bloque de código reutilizable. Una vez creada, se puede **llamar** en cualquier momento.\n",
    "\n",
    "- Una funcion puede (o no) tener parametros de entrada.\n",
    "- Una función puede (o no) devolver algo como salida."
   ]
  },
  {
   "cell_type": "markdown",
   "metadata": {},
   "source": [
    "Definir una función: (`def`)"
   ]
  },
  {
   "cell_type": "code",
   "execution_count": 32,
   "metadata": {},
   "outputs": [],
   "source": [
    "def es_primo(numero):\n",
    "    if (numero==1):\n",
    "        return False\n",
    "    elif (numero==2):\n",
    "        return True;\n",
    "    else:\n",
    "        for divisor in range(2,numero):\n",
    "            if(numero%divisor == 0):\n",
    "                return False\n",
    "        return True"
   ]
  },
  {
   "cell_type": "markdown",
   "metadata": {},
   "source": [
    "Llamar a la función. (Tambien se puede decir invocar o ejecutar)"
   ]
  },
  {
   "cell_type": "code",
   "execution_count": 33,
   "metadata": {},
   "outputs": [
    {
     "name": "stdout",
     "output_type": "stream",
     "text": [
      "Es primo el 7? True\n",
      "Es primo el 8? False\n"
     ]
    }
   ],
   "source": [
    "print(\"Es primo el 7?\", es_primo(7))\n",
    "print(\"Es primo el 8?\", es_primo(8))"
   ]
  },
  {
   "cell_type": "markdown",
   "metadata": {},
   "source": [
    "# Extra: Clases\n",
    "Python también es un lenguaje orientado a objetos (prácticamente todo es un objeto: strings, listas, etc.). Pero en el mundo de la ciencia de datos no son muy habituales."
   ]
  },
  {
   "cell_type": "code",
   "execution_count": 34,
   "metadata": {},
   "outputs": [],
   "source": [
    "class Persona:\n",
    "    def __init__(self, nombre, edad):\n",
    "        self.nombre = nombre\n",
    "        self.edad = edad\n",
    "    def cumpleaños(self):\n",
    "        self.edad += 1"
   ]
  },
  {
   "cell_type": "code",
   "execution_count": 35,
   "metadata": {},
   "outputs": [
    {
     "name": "stdout",
     "output_type": "stream",
     "text": [
      "Javi\n",
      "25\n",
      "26\n"
     ]
    }
   ],
   "source": [
    "javi = Persona(\"Javi\", 25)\n",
    "\n",
    "print(javi.nombre)\n",
    "print(javi.edad)\n",
    "\n",
    "javi.cumpleaños()\n",
    "print(javi.edad)"
   ]
  },
  {
   "cell_type": "markdown",
   "metadata": {},
   "source": [
    "----"
   ]
  }
 ],
 "metadata": {
  "kernelspec": {
   "display_name": "Python 3",
   "language": "python",
   "name": "python3"
  },
  "language_info": {
   "codemirror_mode": {
    "name": "ipython",
    "version": 3
   },
   "file_extension": ".py",
   "mimetype": "text/x-python",
   "name": "python",
   "nbconvert_exporter": "python",
   "pygments_lexer": "ipython3",
   "version": "3.7.4"
  }
 },
 "nbformat": 4,
 "nbformat_minor": 4
}
